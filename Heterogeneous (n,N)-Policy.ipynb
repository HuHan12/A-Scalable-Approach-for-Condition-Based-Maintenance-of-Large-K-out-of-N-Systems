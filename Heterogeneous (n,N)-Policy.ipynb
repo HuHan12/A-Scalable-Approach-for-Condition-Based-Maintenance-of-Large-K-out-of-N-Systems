{
 "cells": [
  {
   "cell_type": "code",
   "execution_count": 1,
   "metadata": {},
   "outputs": [],
   "source": [
    "\n",
    "using POMDPs, QuickPOMDPs, MCTS, DiscreteValueIteration, POMDPSimulators, POMDPModels, POMDPPolicies, POMDPModelTools\n",
    "using Distributions, Combinatorics, StaticArrays, Statistics\n",
    "using FileIO, JLD2, TickTock\n",
    "global Number_level = 10;"
   ]
  },
  {
   "cell_type": "markdown",
   "metadata": {},
   "source": [
    "## State Functions"
   ]
  },
  {
   "cell_type": "code",
   "execution_count": 2,
   "metadata": {},
   "outputs": [],
   "source": [
    "function state_cnt(n, S) #n = number of units; S = number of states\n",
    "    if S==1\n",
    "        return 1\n",
    "    end\n",
    "    return binomial(n+S-1, S-1)\n",
    "end\n",
    "\n",
    "function state_index(S,s) #s = state vector\n",
    "    #S = length(s)\n",
    "    if S == 1\n",
    "        return 1\n",
    "    end\n",
    "    if s[S]==0\n",
    "        return state_index(S-1, s[1:(S-1)])\n",
    "    end\n",
    "    \n",
    "    n_prev = sum(s)\n",
    "    prev = state_cnt(n_prev, S-1) # count of all states with s[S]=0\n",
    "    inc = prev\n",
    "    for i in 1:(s[S]-1)\n",
    "        inc = inc/(n_prev+S-2)*n_prev #count of all states with s[S]=i\n",
    "        prev = prev + inc\n",
    "        n_prev = n_prev - 1\n",
    "    end\n",
    "    return prev + state_index(S-1, s[1:(S-1)])\n",
    "end\n",
    "\n",
    "function state_vec(n, S, ind) # n = number of units; S = number of states; ind = state index\n",
    "    if ind < 0.5 || ind > state_cnt(n, S) + 0.5\n",
    "        println(\"index is out of range!\")\n",
    "        return -1\n",
    "    end\n",
    "    if S==1 \n",
    "        return [n]\n",
    "    end\n",
    "    if ind < state_cnt(n, S-1) + 0.5\n",
    "        return push!(state_vec(n, S-1, ind), 0)\n",
    "    end\n",
    "    prev = state_cnt(n, S-1)\n",
    "    inc = prev\n",
    "    last_state = 0\n",
    "    n_prev = n\n",
    "    while ind > prev + 0.5\n",
    "        inc = inc/(n_prev+S-2)*n_prev #count of all sta_tes with s[S]=last_state\n",
    "        prev += inc\n",
    "        n_prev -= 1\n",
    "        last_state += 1\n",
    "    end\n",
    "    return push!(state_vec(n-last_state, S-1, ind - prev + inc), last_state)\n",
    "end\n",
    "\n",
    "#using hueristic rule for rollout\n",
    "mutable struct nNRollout <: Policy\n",
    "    n::Int64\n",
    "    N::Int64\n",
    "end\n",
    "\n",
    "mutable struct nmNRollout <: Policy\n",
    "    n::Int64\n",
    "    m::Int64\n",
    "    N::Int64\n",
    "end\n",
    "\n",
    "mutable struct mystate\n",
    "    state::Vector{Int64};\n",
    "end"
   ]
  },
  {
   "cell_type": "code",
   "execution_count": 3,
   "metadata": {},
   "outputs": [],
   "source": [
    "function POMDPs.action(p::nNRollout, s::mystate)\n",
    "        local_a = 0;\n",
    "        local_s = s.state;\n",
    "        nN = sample(1:Number_level, 2, replace = true);\n",
    "        p.N = maximum(nN);\n",
    "        p.n = minimum(nN);\n",
    "        if sum(local_s[p.N:Number_level])>=1\n",
    "        local_a = p.n;\n",
    "        end\n",
    "        return local_a; \n",
    "end\n",
    "\n",
    "function POMDPs.action(p::nmNRollout, s::mystate)\n",
    "    local_a = 0;\n",
    "    local_s = s.state;\n",
    "    nmN = sample(1:Number_level, 3, replace = true);\n",
    "    p.N = maximum(nmN);\n",
    "    p.n = minimum(nmN);\n",
    "    p.m = sum(nmN)-p.N-p.n;\n",
    "    if sum(local_s[p.N:Number_level])>=1 || sum(local_s[p.m:Number_level])>=2\n",
    "        local_a = p.n;\n",
    "    end\n",
    "    return local_a; \n",
    "end"
   ]
  },
  {
   "cell_type": "code",
   "execution_count": null,
   "metadata": {},
   "outputs": [],
   "source": []
  },
  {
   "cell_type": "code",
   "execution_count": 4,
   "metadata": {},
   "outputs": [
    {
     "data": {
      "text/plain": [
       "findNn (generic function with 1 method)"
      ]
     },
     "execution_count": 4,
     "metadata": {},
     "output_type": "execute_result"
    }
   ],
   "source": [
    "function findNn()\n",
    "    println(\"Finding best nN policy...\")\n",
    "for N in 2:(Number_level)\n",
    "    for n in 1:N\n",
    "       trials=10000;\n",
    "        simsteps = 100;\n",
    "        results=zeros(trials)*0.1\n",
    "        Threads.@threads for h in 1:trials\n",
    "        s=repeat(1:1,NumberUnits)\n",
    "        r1=[]\n",
    "        a1=[]\n",
    "        nN=[n,N]\n",
    "        r=repeat(1:1,NumberUnits)*1.0\n",
    "        failedcnt = 0 # count failed components\n",
    "         for k in 1:simsteps\n",
    "            a =decison(nN,s)\n",
    "                    r2=0.0\n",
    "            if 1 in a # if any replacement occurs\n",
    "            for i in 1:NumberUnits\n",
    "                if s[i] == Number_level\n",
    "                    failedcnt += 1\n",
    "                end\n",
    "                 s[i],r[i]=generative(s[i],a[i]+2,i,234); \n",
    "                 # a=2 in generative means component continueing; a=3 in generative means component replaced\n",
    "                  r2+=r[i]\n",
    "                    end \n",
    "            else # if no replacement \n",
    "               for i in 1:NumberUnits\n",
    "                if s[i] == Number_level\n",
    "                    failedcnt += 1\n",
    "                end\n",
    "                 s[i],r[i]=generative(s[i],1,i,234);\n",
    "\n",
    "                  r2+=r[i]\n",
    "                    end              \n",
    "            end\n",
    "            if failedcnt >= limit # system fails\n",
    "                r2 += system_penalty\n",
    "            end\n",
    "            s=s;\n",
    "            append!(a1,a)\n",
    "            append!(r1,r2)\n",
    "        end\n",
    "        rk=0\n",
    "        for i in 1:simsteps\n",
    "            rk=0.95*rk+r1[simsteps-i+1]\n",
    "        end\n",
    "            results[h]=rk\n",
    "        end\n",
    "        rewards_nN[n,N] = mean(results);\n",
    "            rewards_nN_std[n,N] = var(results)^(0.5);\n",
    "    end\n",
    "end\n",
    "(max_rward,nN) = findmax(rewards_nN);\n",
    "println(\"Max rewards of (N, n) policy is \", max_rward, \"  n is \", nN[1], \"  N is \",nN[2]);\n",
    "return  max_rward,rewards_nN_std[nN[1],nN[2]],nN;\n",
    "end\n"
   ]
  },
  {
   "cell_type": "code",
   "execution_count": 5,
   "metadata": {},
   "outputs": [
    {
     "data": {
      "text/plain": [
       "decison (generic function with 2 methods)"
      ]
     },
     "execution_count": 5,
     "metadata": {},
     "output_type": "execute_result"
    }
   ],
   "source": [
    "# decisions are made given (n, N)\n",
    "function decison(nN, s,n=0.2)\n",
    "    a_final=[]\n",
    "     if length(s[s .>= nN[2]])>0\n",
    "         for i in 1:NumberUnits\n",
    "             append!(a_final,Int(s[i]>=nN[1]))\n",
    "             end\n",
    "         return a_final\n",
    "         # a_final is binary vector\n",
    "     end\n",
    "     a_0=repeat(0:0,NumberUnits);\n",
    "      return a_0\n",
    " end"
   ]
  },
  {
   "cell_type": "code",
   "execution_count": 6,
   "metadata": {},
   "outputs": [],
   "source": [
    "Number_level=10\n",
    "T=zeros(Number_level,Number_level,3,100);\n",
    "\n",
    "for i in 1:100\n",
    "    #fullname = \"/Users/huhan/Library/CloudStorage/GoogleDrive-hhu98@wisc.edu/My Drive/Master's Thesis/Heterogeneous/TM_MATRIX/tm\"*string(i);\n",
    "    fullname = \"J:/Master's Thesis/Heterogeneous/TM_MATRIX/tm\"*string(i);\n",
    "    # generate_transition_matrix(Number_level, fullname) \n",
    "    Transition_matrix1 = load(fullname*\".jld2\",\"transition_matrix\");\n",
    "    \n",
    "    T[:,:,1,i].=Transition_matrix1;\n",
    "    T[:,:,2,i].=Transition_matrix1;\n",
    "    for j in 1:10\n",
    "        T[j,:,3,i].=Transition_matrix1[1,:];\n",
    "        end\n",
    "    T[10,:,1,i].=Transition_matrix1[1,:]\n",
    "T[10,:,2,i].=Transition_matrix1[1,:]\n",
    "end"
   ]
  },
  {
   "cell_type": "code",
   "execution_count": 7,
   "metadata": {},
   "outputs": [
    {
     "data": {
      "text/plain": [
       "10×10 Matrix{Float64}:\n",
       " 0.232649  0.229122  0.130585  0.0954644  …  0.0507595  0.0416229  0.00861626\n",
       " 0.0       0.218724  0.163234  0.128353      0.0899794  0.0431818  0.00868773\n",
       " 0.0       0.0       0.166395  0.182476      0.111027   0.0773355  0.043199\n",
       " 0.0       0.0       0.0       0.269557      0.125296   0.0981466  0.0533485\n",
       " 0.0       0.0       0.0       0.0           0.125828   0.109077   0.0611228\n",
       " 0.0       0.0       0.0       0.0        …  0.215491   0.17866    0.0619123\n",
       " 0.0       0.0       0.0       0.0           0.352355   0.221208   0.0646198\n",
       " 0.0       0.0       0.0       0.0           0.471891   0.449917   0.0781922\n",
       " 0.0       0.0       0.0       0.0           0.0        0.591116   0.408884\n",
       " 0.232649  0.229122  0.130585  0.0954644     0.0507595  0.0416229  0.00861626"
      ]
     },
     "execution_count": 7,
     "metadata": {},
     "output_type": "execute_result"
    }
   ],
   "source": [
    "T[:,:,1,1]"
   ]
  },
  {
   "cell_type": "code",
   "execution_count": 8,
   "metadata": {},
   "outputs": [
    {
     "data": {
      "text/plain": [
       "generative (generic function with 2 methods)"
      ]
     },
     "execution_count": 8,
     "metadata": {},
     "output_type": "execute_result"
    }
   ],
   "source": [
    "function generative(s, a,k, rng=23)       #s is a vector of number units at each level and a is the number of units we will repair\n",
    "    #     if s==Number_level # component fails\n",
    "    #     s=1\n",
    "    #     crd = Categorical(T[s,:,1,k]);\n",
    "    #         s = rand(crd);\n",
    "    #         r=failure_penalty + normal_operation +  setup_cost/NumberUnits;\n",
    "    #     return (sp=s, r=r)\n",
    "    #    end\n",
    "        r=0\n",
    "     if a==1 # no replacement in system\n",
    "            crd = Categorical(T[s,:,1,k]);\n",
    "            s = rand(crd);\n",
    "            r = normal_operation ;\n",
    "         return (sp=s, r=r)\n",
    "        end\n",
    "    if a==2 # replacement occurs in system, component not replaced\n",
    "            crd = Categorical(T[s,:,1,k]); # transition same as a=1\n",
    "            s = rand(crd);\n",
    "            r = normal_operation +  setup_cost/NumberUnits ;\n",
    "             return (sp=s, r=r)\n",
    "        end\n",
    "    if a==3 # replacement occurs in system, component replaced \n",
    "      \n",
    "        if s==Number_level\n",
    "        s=1\n",
    "        crd = Categorical(T[s,:,3,k]);\n",
    "        s = rand(crd);\n",
    "       \n",
    "        r=failure_penalty + normal_operation +  setup_cost/NumberUnits ;\n",
    "        return (sp=s, r=r)\n",
    "        else\n",
    "        s1=deepcopy(s)\n",
    "        s=1\n",
    "        r = maintenance_penalty+  setup_cost/NumberUnits\n",
    "        crd = Categorical(T[s,:,3,k]);\n",
    "        s = rand(crd);\n",
    "        r+= normal_operation  ;\n",
    "#            r*=(s1/10);\n",
    "        return (sp=s, r=r)\n",
    "#         end\n",
    "end\n",
    "    end\n",
    "end"
   ]
  },
  {
   "cell_type": "code",
   "execution_count": 9,
   "metadata": {
    "scrolled": true
   },
   "outputs": [
    {
     "name": "stdout",
     "output_type": "stream",
     "text": [
      "60K : "
     ]
    },
    {
     "name": "stderr",
     "output_type": "stream",
     "text": [
      "\u001b[36m\u001b[1m[ \u001b[22m\u001b[39m\u001b[36m\u001b[1mInfo: \u001b[22m\u001b[39m started timer at: 2024-03-17T20:23:48.827\n"
     ]
    },
    {
     "name": "stdout",
     "output_type": "stream",
     "text": [
      "2\n",
      "[0 -200 -100 -1200 -2000]\n",
      "Finding best nN policy...\n",
      "Max rewards of (N, n) policy is -100315.81104375812  n is 6  N is 6\n",
      "60\n",
      "5752.830743633014\n",
      "-76883.81622237063\n",
      "60K : 2\n",
      "[0 -400 -100 -1200 -2000]\n",
      "Finding best nN policy...\n"
     ]
    },
    {
     "name": "stderr",
     "output_type": "stream",
     "text": [
      "\u001b[36m\u001b[1m[ \u001b[22m\u001b[39m\u001b[36m\u001b[1mInfo: \u001b[22m\u001b[39m        3766.4046763s: 1 hour, 2 minutes, 46 seconds, 404 milliseconds\n",
      "\u001b[36m\u001b[1m[ \u001b[22m\u001b[39m\u001b[36m\u001b[1mInfo: \u001b[22m\u001b[39m started timer at: 2024-03-17T21:26:35.531\n"
     ]
    },
    {
     "name": "stdout",
     "output_type": "stream",
     "text": [
      "Max rewards of (N, n) policy is -104075.8175516111  n is 6  N is 6\n",
      "60\n",
      "5778.422878882232\n",
      "-80708.13097445577\n",
      "60K : 2\n",
      "[0 -600 -100 -1200 -2000]\n",
      "Finding best nN policy...\n"
     ]
    },
    {
     "name": "stderr",
     "output_type": "stream",
     "text": [
      "\u001b[36m\u001b[1m[ \u001b[22m\u001b[39m\u001b[36m\u001b[1mInfo: \u001b[22m\u001b[39m        3748.4449889s: 1 hour, 2 minutes, 28 seconds, 444 milliseconds\n",
      "\u001b[36m\u001b[1m[ \u001b[22m\u001b[39m\u001b[36m\u001b[1mInfo: \u001b[22m\u001b[39m started timer at: 2024-03-17T22:29:04.047\n"
     ]
    },
    {
     "name": "stdout",
     "output_type": "stream",
     "text": [
      "Max rewards of (N, n) policy is -107846.59964169294  n is 6  N is 6\n",
      "60\n",
      "5758.896506948104\n",
      "-84483.48568532671\n",
      "60K : 2\n",
      "[0 -800 -100 -1200 -2000]\n",
      "Finding best nN policy...\n"
     ]
    },
    {
     "name": "stderr",
     "output_type": "stream",
     "text": [
      "\u001b[36m\u001b[1m[ \u001b[22m\u001b[39m\u001b[36m\u001b[1mInfo: \u001b[22m\u001b[39m        3899.5379288s: 1 hour, 4 minutes, 59 seconds, 537 milliseconds\n",
      "\u001b[36m\u001b[1m[ \u001b[22m\u001b[39m\u001b[36m\u001b[1mInfo: \u001b[22m\u001b[39m started timer at: 2024-03-17T23:34:03.660\n"
     ]
    },
    {
     "name": "stdout",
     "output_type": "stream",
     "text": [
      "Max rewards of (N, n) policy is -111670.11708236134  n is 6  N is 8\n",
      "60\n",
      "5759.480554745403\n",
      "-88275.99170382285\n",
      "60K : 2\n",
      "[0 -1000 -100 -1200 -2000]\n",
      "Finding best nN policy...\n"
     ]
    },
    {
     "name": "stderr",
     "output_type": "stream",
     "text": [
      "\u001b[36m\u001b[1m[ \u001b[22m\u001b[39m\u001b[36m\u001b[1mInfo: \u001b[22m\u001b[39m        3709.9359623s: 1 hour, 1 minute, 49 seconds, 935 milliseconds\n",
      "\u001b[36m\u001b[1m[ \u001b[22m\u001b[39m\u001b[36m\u001b[1mInfo: \u001b[22m\u001b[39m started timer at: 2024-03-18T00:35:53.677\n"
     ]
    },
    {
     "name": "stdout",
     "output_type": "stream",
     "text": [
      "Max rewards of (N, n) policy is -115432.40574962935  n is 6  N is 6\n",
      "60\n",
      "5699.859147645025\n",
      "-92106.28016278362\n",
      "60K : 2\n",
      "[0 -1200 -100 -1200 -2000]\n",
      "Finding best nN policy...\n"
     ]
    },
    {
     "name": "stderr",
     "output_type": "stream",
     "text": [
      "\u001b[36m\u001b[1m[ \u001b[22m\u001b[39m\u001b[36m\u001b[1mInfo: \u001b[22m\u001b[39m        3702.9992519s: 1 hour, 1 minute, 42 seconds, 999 milliseconds\n",
      "\u001b[36m\u001b[1m[ \u001b[22m\u001b[39m\u001b[36m\u001b[1mInfo: \u001b[22m\u001b[39m started timer at: 2024-03-18T01:37:36.746\n"
     ]
    },
    {
     "name": "stdout",
     "output_type": "stream",
     "text": [
      "Max rewards of (N, n) policy is -119173.9645120039  n is 6  N is 7\n",
      "60\n",
      "5714.6825024582395\n",
      "-95843.27804027966\n",
      "60K : 2\n",
      "[0 -1400 -100 -1200 -2000]\n",
      "Finding best nN policy...\n"
     ]
    },
    {
     "name": "stderr",
     "output_type": "stream",
     "text": [
      "\u001b[36m\u001b[1m[ \u001b[22m\u001b[39m\u001b[36m\u001b[1mInfo: \u001b[22m\u001b[39m        3838.5395401s: 1 hour, 3 minutes, 58 seconds, 539 milliseconds\n",
      "\u001b[36m\u001b[1m[ \u001b[22m\u001b[39m\u001b[36m\u001b[1mInfo: \u001b[22m\u001b[39m started timer at: 2024-03-18T02:41:35.359\n"
     ]
    },
    {
     "name": "stdout",
     "output_type": "stream",
     "text": [
      "Max rewards of (N, n) policy is -122934.01521074596  n is 6  N is 9\n",
      "60\n",
      "5811.876218599622\n",
      "-99695.24570388404\n",
      "60K : 2\n",
      "[0 -1600 -100 -1200 -2000]\n",
      "Finding best nN policy...\n"
     ]
    },
    {
     "name": "stderr",
     "output_type": "stream",
     "text": [
      "\u001b[36m\u001b[1m[ \u001b[22m\u001b[39m\u001b[36m\u001b[1mInfo: \u001b[22m\u001b[39m        3663.8787706s: 1 hour, 1 minute, 3 seconds, 878 milliseconds\n",
      "\u001b[36m\u001b[1m[ \u001b[22m\u001b[39m\u001b[36m\u001b[1mInfo: \u001b[22m\u001b[39m started timer at: 2024-03-18T03:42:39.309\n"
     ]
    },
    {
     "name": "stdout",
     "output_type": "stream",
     "text": [
      "Max rewards of (N, n) policy is -126323.2768471546  n is 5  N is 10\n",
      "60\n",
      "5207.302886010806\n",
      "-104852.68757283039\n",
      "60K : 2\n",
      "[0 -1800 -100 -1200 -2000]\n",
      "Finding best nN policy...\n"
     ]
    },
    {
     "name": "stderr",
     "output_type": "stream",
     "text": [
      "\u001b[36m\u001b[1m[ \u001b[22m\u001b[39m\u001b[36m\u001b[1mInfo: \u001b[22m\u001b[39m         3661.661467s: 1 hour, 1 minute, 1 second, 661 milliseconds\n",
      "\u001b[36m\u001b[1m[ \u001b[22m\u001b[39m\u001b[36m\u001b[1mInfo: \u001b[22m\u001b[39m started timer at: 2024-03-18T04:43:41.051\n"
     ]
    },
    {
     "name": "stdout",
     "output_type": "stream",
     "text": [
      "Max rewards of (N, n) policy is -128681.1911255897  n is 5  N is 10\n",
      "60\n",
      "5302.122432063477\n",
      "-107211.53754489699\n",
      "60K : 2\n",
      "[0 -2000 -100 -1200 -2000]\n",
      "Finding best nN policy...\n"
     ]
    },
    {
     "name": "stderr",
     "output_type": "stream",
     "text": [
      "\u001b[36m\u001b[1m[ \u001b[22m\u001b[39m\u001b[36m\u001b[1mInfo: \u001b[22m\u001b[39m        3754.9532568s: 1 hour, 2 minutes, 34 seconds, 953 milliseconds\n",
      "\u001b[36m\u001b[1m[ \u001b[22m\u001b[39m\u001b[36m\u001b[1mInfo: \u001b[22m\u001b[39m started timer at: 2024-03-18T05:46:16.076\n"
     ]
    },
    {
     "name": "stdout",
     "output_type": "stream",
     "text": [
      "Max rewards of (N, n) policy is -131066.22479776033  n is 5  N is 10\n",
      "60\n",
      "5362.304338385801\n",
      "-109666.88357421852\n",
      "60K : 2\n",
      "[0 -2400 -100 -1200 -2000]\n",
      "Finding best nN policy...\n"
     ]
    },
    {
     "name": "stderr",
     "output_type": "stream",
     "text": [
      "\u001b[36m\u001b[1m[ \u001b[22m\u001b[39m\u001b[36m\u001b[1mInfo: \u001b[22m\u001b[39m        3621.0034276s: 1 hour, 21 seconds, 3 milliseconds\n",
      "\u001b[36m\u001b[1m[ \u001b[22m\u001b[39m\u001b[36m\u001b[1mInfo: \u001b[22m\u001b[39m started timer at: 2024-03-18T06:46:37.149\n"
     ]
    },
    {
     "name": "stdout",
     "output_type": "stream",
     "text": [
      "Max rewards of (N, n) policy is -135881.14764689884  n is 5  N is 10\n",
      "60\n",
      "5553.313070931014\n",
      "-114449.15992750025\n",
      "60K : 2\n",
      "[0 -2800 -100 -1200 -2000]\n",
      "Finding best nN policy...\n"
     ]
    },
    {
     "name": "stderr",
     "output_type": "stream",
     "text": [
      "\u001b[36m\u001b[1m[ \u001b[22m\u001b[39m\u001b[36m\u001b[1mInfo: \u001b[22m\u001b[39m        3612.7174786s: 1 hour, 12 seconds, 717 milliseconds\n",
      "\u001b[36m\u001b[1m[ \u001b[22m\u001b[39m\u001b[36m\u001b[1mInfo: \u001b[22m\u001b[39m started timer at: 2024-03-18T07:46:49.936\n"
     ]
    },
    {
     "name": "stdout",
     "output_type": "stream",
     "text": [
      "Max rewards of (N, n) policy is -140633.0388596771  n is 5  N is 10\n",
      "60\n",
      "5747.071829288331\n",
      "-119252.87717577863\n",
      "60K : 2\n",
      "[0 -3200 -100 -1200 -2000]\n",
      "Finding best nN policy...\n"
     ]
    },
    {
     "name": "stderr",
     "output_type": "stream",
     "text": [
      "\u001b[36m\u001b[1m[ \u001b[22m\u001b[39m\u001b[36m\u001b[1mInfo: \u001b[22m\u001b[39m        3696.5378149s: 1 hour, 1 minute, 36 seconds, 537 milliseconds\n",
      "\u001b[36m\u001b[1m[ \u001b[22m\u001b[39m\u001b[36m\u001b[1mInfo: \u001b[22m\u001b[39m started timer at: 2024-03-18T08:48:26.546\n"
     ]
    },
    {
     "name": "stdout",
     "output_type": "stream",
     "text": [
      "Max rewards of (N, n) policy is -145532.8911540935  n is 5  N is 10\n",
      "60\n",
      "5965.436649459975\n",
      "-123948.8634321107\n",
      "-------------------------\n",
      "60K : 4\n",
      "[0 -200 -100 -1200 -2000]\n",
      "Finding best nN policy...\n"
     ]
    },
    {
     "name": "stderr",
     "output_type": "stream",
     "text": [
      "\u001b[36m\u001b[1m[ \u001b[22m\u001b[39m\u001b[36m\u001b[1mInfo: \u001b[22m\u001b[39m        3579.7890502s: 59 minutes, 39 seconds, 789 milliseconds\n",
      "\u001b[36m\u001b[1m[ \u001b[22m\u001b[39m\u001b[36m\u001b[1mInfo: \u001b[22m\u001b[39m started timer at: 2024-03-18T09:48:06.403\n"
     ]
    },
    {
     "name": "stdout",
     "output_type": "stream",
     "text": [
      "Max rewards of (N, n) policy is -96672.7001487576  n is 5  N is 6\n",
      "60\n",
      "3128.252099548955\n",
      "-68282.73040218427\n",
      "60K : 4\n",
      "[0 -400 -100 -1200 -2000]\n",
      "Finding best nN policy...\n"
     ]
    },
    {
     "name": "stderr",
     "output_type": "stream",
     "text": [
      "\u001b[36m\u001b[1m[ \u001b[22m\u001b[39m\u001b[36m\u001b[1mInfo: \u001b[22m\u001b[39m        3571.2487097s: 59 minutes, 31 seconds, 248 milliseconds\n",
      "\u001b[36m\u001b[1m[ \u001b[22m\u001b[39m\u001b[36m\u001b[1mInfo: \u001b[22m\u001b[39m started timer at: 2024-03-18T10:47:37.720\n"
     ]
    },
    {
     "name": "stdout",
     "output_type": "stream",
     "text": [
      "Max rewards of (N, n) policy is -100435.58310279893  n is 5  N is 5\n",
      "60\n",
      "3126.883354111354\n",
      "-72091.98349112482\n",
      "60K : 4\n",
      "[0 -600 -100 -1200 -2000]\n",
      "Finding best nN policy...\n"
     ]
    },
    {
     "name": "stderr",
     "output_type": "stream",
     "text": [
      "\u001b[36m\u001b[1m[ \u001b[22m\u001b[39m\u001b[36m\u001b[1mInfo: \u001b[22m\u001b[39m        3645.0389756s: 1 hour, 45 seconds, 38 milliseconds\n",
      "\u001b[36m\u001b[1m[ \u001b[22m\u001b[39m\u001b[36m\u001b[1mInfo: \u001b[22m\u001b[39m started timer at: 2024-03-18T11:48:22.829\n"
     ]
    },
    {
     "name": "stdout",
     "output_type": "stream",
     "text": [
      "Max rewards of (N, n) policy is -104278.7552797461  n is 5  N is 5\n",
      "60\n",
      "3163.84821740778\n",
      "-75852.44768034274\n",
      "60K : 4\n",
      "[0 -800 -100 -1200 -2000]\n",
      "Finding best nN policy...\n"
     ]
    },
    {
     "name": "stderr",
     "output_type": "stream",
     "text": [
      "\u001b[36m\u001b[1m[ \u001b[22m\u001b[39m\u001b[36m\u001b[1mInfo: \u001b[22m\u001b[39m        3547.4961671s: 59 minutes, 7 seconds, 496 milliseconds\n",
      "\u001b[36m\u001b[1m[ \u001b[22m\u001b[39m\u001b[36m\u001b[1mInfo: \u001b[22m\u001b[39m started timer at: 2024-03-18T12:47:30.393\n"
     ]
    },
    {
     "name": "stdout",
     "output_type": "stream",
     "text": [
      "Max rewards of (N, n) policy is -108162.41157182891  n is 5  N is 5\n",
      "60\n",
      "3104.9592764745375\n",
      "-79580.44226045551\n",
      "60K : 4\n",
      "[0 -1000 -100 -1200 -2000]\n",
      "Finding best nN policy...\n"
     ]
    },
    {
     "name": "stderr",
     "output_type": "stream",
     "text": [
      "\u001b[36m\u001b[1m[ \u001b[22m\u001b[39m\u001b[36m\u001b[1mInfo: \u001b[22m\u001b[39m        3538.7782033s: 58 minutes, 58 seconds, 778 milliseconds\n",
      "\u001b[36m\u001b[1m[ \u001b[22m\u001b[39m\u001b[36m\u001b[1mInfo: \u001b[22m\u001b[39m started timer at: 2024-03-18T13:46:29.250\n"
     ]
    },
    {
     "name": "stdout",
     "output_type": "stream",
     "text": [
      "Max rewards of (N, n) policy is -111804.97170548563  n is 5  N is 8\n",
      "60\n",
      "3154.151091956853\n",
      "-83454.11474311647\n",
      "60K : 4\n",
      "[0 -1200 -100 -1200 -2000]\n",
      "Finding best nN policy...\n"
     ]
    },
    {
     "name": "stderr",
     "output_type": "stream",
     "text": [
      "\u001b[36m\u001b[1m[ \u001b[22m\u001b[39m\u001b[36m\u001b[1mInfo: \u001b[22m\u001b[39m        3590.8847224s: 59 minutes, 50 seconds, 884 milliseconds\n",
      "\u001b[36m\u001b[1m[ \u001b[22m\u001b[39m\u001b[36m\u001b[1mInfo: \u001b[22m\u001b[39m started timer at: 2024-03-18T14:46:20.203\n"
     ]
    },
    {
     "name": "stdout",
     "output_type": "stream",
     "text": [
      "Max rewards of (N, n) policy is -115564.30418839295  n is 5  N is 5\n",
      "60\n",
      "3116.912002418009\n",
      "-87212.97380147343\n",
      "60K : 4\n",
      "[0 -1400 -100 -1200 -2000]\n",
      "Finding best nN policy...\n"
     ]
    },
    {
     "name": "stderr",
     "output_type": "stream",
     "text": [
      "\u001b[36m\u001b[1m[ \u001b[22m\u001b[39m\u001b[36m\u001b[1mInfo: \u001b[22m\u001b[39m        3555.9386594s: 59 minutes, 15 seconds, 938 milliseconds\n",
      "\u001b[36m\u001b[1m[ \u001b[22m\u001b[39m\u001b[36m\u001b[1mInfo: \u001b[22m\u001b[39m started timer at: 2024-03-18T15:45:36.209\n"
     ]
    },
    {
     "name": "stdout",
     "output_type": "stream",
     "text": [
      "Max rewards of (N, n) policy is -119401.78090929551  n is 5  N is 7\n",
      "60\n",
      "3109.652566119675\n",
      "-90876.20176004138\n",
      "60K : 4"
     ]
    },
    {
     "name": "stderr",
     "output_type": "stream",
     "text": [
      "\u001b[36m\u001b[1m[ \u001b[22m\u001b[39m\u001b[36m\u001b[1mInfo: \u001b[22m\u001b[39m        3521.6642674s: 58 minutes, 41 seconds, 664 milliseconds\n",
      "\u001b[36m\u001b[1m[ \u001b[22m\u001b[39m\u001b[36m\u001b[1mInfo: \u001b[22m\u001b[39m started timer at: 2024-03-18T16:44:17.951\n"
     ]
    },
    {
     "name": "stdout",
     "output_type": "stream",
     "text": [
      "\n",
      "[0 -1600 -100 -1200 -2000]\n",
      "Finding best nN policy...\n",
      "Max rewards of (N, n) policy is -123111.16636645666  n is 5  N is 9\n",
      "60\n",
      "3557.738721490225\n",
      "-94147.4975358251\n",
      "60K : 4\n",
      "[0 -1800 -100 -1200 -2000]\n",
      "Finding best nN policy...\n"
     ]
    },
    {
     "name": "stderr",
     "output_type": "stream",
     "text": [
      "\u001b[36m\u001b[1m[ \u001b[22m\u001b[39m\u001b[36m\u001b[1mInfo: \u001b[22m\u001b[39m        3561.8566368s: 59 minutes, 21 seconds, 856 milliseconds\n",
      "\u001b[36m\u001b[1m[ \u001b[22m\u001b[39m\u001b[36m\u001b[1mInfo: \u001b[22m\u001b[39m started timer at: 2024-03-18T17:43:39.874\n"
     ]
    },
    {
     "name": "stdout",
     "output_type": "stream",
     "text": [
      "Max rewards of (N, n) policy is -126432.56234302542  n is 5  N is 10\n",
      "60\n",
      "5121.541536865007\n",
      "-98309.05883459658\n",
      "60K : 4\n",
      "[0 -2000 -100 -1200 -2000]\n",
      "Finding best nN policy...\n"
     ]
    },
    {
     "name": "stderr",
     "output_type": "stream",
     "text": [
      "\u001b[36m\u001b[1m[ \u001b[22m\u001b[39m\u001b[36m\u001b[1mInfo: \u001b[22m\u001b[39m        3578.6156838s: 59 minutes, 38 seconds, 615 milliseconds\n",
      "\u001b[36m\u001b[1m[ \u001b[22m\u001b[39m\u001b[36m\u001b[1mInfo: \u001b[22m\u001b[39m started timer at: 2024-03-18T18:43:18.557\n"
     ]
    },
    {
     "name": "stdout",
     "output_type": "stream",
     "text": [
      "Max rewards of (N, n) policy is -128786.36068059511  n is 5  N is 10\n",
      "60\n",
      "5215.17066491288\n",
      "-100655.25640348249\n",
      "60K : 4\n",
      "[0 -2400 -100 -1200 -2000]\n",
      "Finding best nN policy...\n"
     ]
    },
    {
     "name": "stderr",
     "output_type": "stream",
     "text": [
      "\u001b[36m\u001b[1m[ \u001b[22m\u001b[39m\u001b[36m\u001b[1mInfo: \u001b[22m\u001b[39m        3522.7150063s: 58 minutes, 42 seconds, 715 milliseconds\n",
      "\u001b[36m\u001b[1m[ \u001b[22m\u001b[39m\u001b[36m\u001b[1mInfo: \u001b[22m\u001b[39m started timer at: 2024-03-18T19:42:01.350\n"
     ]
    },
    {
     "name": "stdout",
     "output_type": "stream",
     "text": [
      "Max rewards of (N, n) policy is -133583.9583646761  n is 5  N is 10\n",
      "60\n",
      "5413.857258957955\n",
      "-105410.3115757246\n",
      "60K : 4\n",
      "[0 -2800 -100 -1200 -2000]\n",
      "Finding best nN policy...\n"
     ]
    },
    {
     "name": "stderr",
     "output_type": "stream",
     "text": [
      "\u001b[36m\u001b[1m[ \u001b[22m\u001b[39m\u001b[36m\u001b[1mInfo: \u001b[22m\u001b[39m        3569.7285726s: 59 minutes, 29 seconds, 728 milliseconds\n",
      "\u001b[36m\u001b[1m[ \u001b[22m\u001b[39m\u001b[36m\u001b[1mInfo: \u001b[22m\u001b[39m started timer at: 2024-03-18T20:41:31.145\n"
     ]
    },
    {
     "name": "stdout",
     "output_type": "stream",
     "text": [
      "Max rewards of (N, n) policy is -138387.77376239325  n is 5  N is 10\n",
      "60\n",
      "5607.236694722676\n",
      "-110230.19293715277\n",
      "60K : 4\n",
      "[0 -3200 -100 -1200 -2000]\n",
      "Finding best nN policy...\n"
     ]
    },
    {
     "name": "stderr",
     "output_type": "stream",
     "text": [
      "\u001b[36m\u001b[1m[ \u001b[22m\u001b[39m\u001b[36m\u001b[1mInfo: \u001b[22m\u001b[39m        3539.0239399s: 58 minutes, 59 seconds, 23 milliseconds\n",
      "\u001b[36m\u001b[1m[ \u001b[22m\u001b[39m\u001b[36m\u001b[1mInfo: \u001b[22m\u001b[39m started timer at: 2024-03-18T21:40:30.236\n"
     ]
    },
    {
     "name": "stdout",
     "output_type": "stream",
     "text": [
      "Max rewards of (N, n) policy is -143252.88959964126  n is 4  N is 10\n",
      "60\n",
      "5764.106387801374\n",
      "-115097.53169202524\n"
     ]
    },
    {
     "name": "stderr",
     "output_type": "stream",
     "text": [
      "\u001b[36m\u001b[1m[ \u001b[22m\u001b[39m\u001b[36m\u001b[1mInfo: \u001b[22m\u001b[39m        3508.0721845s: 58 minutes, 28 seconds, 72 milliseconds\n"
     ]
    },
    {
     "name": "stdout",
     "output_type": "stream",
     "text": [
      "-------------------------\n",
      "60K : 6\n",
      "[0 -200 -100 -1200 -2000]\n",
      "Finding best nN policy...\n"
     ]
    },
    {
     "name": "stderr",
     "output_type": "stream",
     "text": [
      "\u001b[36m\u001b[1m[ \u001b[22m\u001b[39m\u001b[36m\u001b[1mInfo: \u001b[22m\u001b[39m started timer at: 2024-03-18T22:38:58.397\n"
     ]
    },
    {
     "name": "stdout",
     "output_type": "stream",
     "text": [
      "Max rewards of (N, n) policy is -93012.79844403769  n is 5  N is 5\n",
      "60\n",
      "2964.0176703788816\n",
      "-68078.32462236486\n",
      "60K : 6\n",
      "[0 -400 -100 -1200 -2000]\n",
      "Finding best nN policy...\n"
     ]
    },
    {
     "name": "stderr",
     "output_type": "stream",
     "text": [
      "\u001b[36m\u001b[1m[ \u001b[22m\u001b[39m\u001b[36m\u001b[1mInfo: \u001b[22m\u001b[39m        3571.2052039s: 59 minutes, 31 seconds, 205 milliseconds\n",
      "\u001b[36m\u001b[1m[ \u001b[22m\u001b[39m\u001b[36m\u001b[1mInfo: \u001b[22m\u001b[39m started timer at: 2024-03-18T23:38:29.669\n"
     ]
    },
    {
     "name": "stdout",
     "output_type": "stream",
     "text": [
      "Max rewards of (N, n) policy is -96816.70240939067  n is 5  N is 5\n",
      "60\n",
      "2934.5840760339347\n",
      "-71833.16356997383\n",
      "60K : 6\n",
      "[0 -600 -100 -1200 -2000]\n"
     ]
    },
    {
     "name": "stderr",
     "output_type": "stream",
     "text": [
      "\u001b[36m\u001b[1m[ \u001b[22m\u001b[39m\u001b[36m\u001b[1mInfo: \u001b[22m\u001b[39m        3503.1897064s: 58 minutes, 23 seconds, 189 milliseconds\n",
      "\u001b[36m\u001b[1m[ \u001b[22m\u001b[39m\u001b[36m\u001b[1mInfo: \u001b[22m\u001b[39m started timer at: 2024-03-19T00:36:52.924\n"
     ]
    },
    {
     "name": "stdout",
     "output_type": "stream",
     "text": [
      "Finding best nN policy...\n",
      "Max rewards of (N, n) policy is -100603.71777895464  n is 5  N is 7\n",
      "60\n",
      "2945.1701390078106\n",
      "-75639.08306287568\n",
      "60K : 6\n",
      "[0 -800 -100 -1200 -2000]\n",
      "Finding best nN policy...\n"
     ]
    },
    {
     "name": "stderr",
     "output_type": "stream",
     "text": [
      "\u001b[36m\u001b[1m[ \u001b[22m\u001b[39m\u001b[36m\u001b[1mInfo: \u001b[22m\u001b[39m        3507.2956279s: 58 minutes, 27 seconds, 295 milliseconds\n",
      "\u001b[36m\u001b[1m[ \u001b[22m\u001b[39m\u001b[36m\u001b[1mInfo: \u001b[22m\u001b[39m started timer at: 2024-03-19T01:35:20.296\n"
     ]
    },
    {
     "name": "stdout",
     "output_type": "stream",
     "text": [
      "Max rewards of (N, n) policy is -104315.45772794557  n is 5  N is 5\n",
      "60\n",
      "2941.849927754653\n",
      "-79356.20055976158\n",
      "60K : 6\n",
      "[0 -1000 -100 -1200 -2000]"
     ]
    },
    {
     "name": "stderr",
     "output_type": "stream",
     "text": [
      "\u001b[36m\u001b[1m[ \u001b[22m\u001b[39m\u001b[36m\u001b[1mInfo: \u001b[22m\u001b[39m        3561.8083488s: 59 minutes, 21 seconds, 808 milliseconds\n",
      "\u001b[36m\u001b[1m[ \u001b[22m\u001b[39m\u001b[36m\u001b[1mInfo: \u001b[22m\u001b[39m started timer at: 2024-03-19T02:34:42.179\n"
     ]
    },
    {
     "name": "stdout",
     "output_type": "stream",
     "text": [
      "\n",
      "Finding best nN policy...\n",
      "Max rewards of (N, n) policy is -108150.7985557345  n is 5  N is 5\n",
      "60\n",
      "2923.1013016851794\n",
      "-83140.98008475489\n",
      "60K : 6\n",
      "[0 -1200 -100 -1200 -2000]\n",
      "Finding best nN policy...\n"
     ]
    },
    {
     "name": "stderr",
     "output_type": "stream",
     "text": [
      "\u001b[36m\u001b[1m[ \u001b[22m\u001b[39m\u001b[36m\u001b[1mInfo: \u001b[22m\u001b[39m        3487.1683165s: 58 minutes, 7 seconds, 168 milliseconds\n",
      "\u001b[36m\u001b[1m[ \u001b[22m\u001b[39m\u001b[36m\u001b[1mInfo: \u001b[22m\u001b[39m started timer at: 2024-03-19T03:32:49.414\n"
     ]
    },
    {
     "name": "stdout",
     "output_type": "stream",
     "text": [
      "Max rewards of (N, n) policy is -112008.54117324186  n is 5  N is 5\n",
      "60\n",
      "2947.3043464794814\n",
      "-86914.96453675901\n",
      "60K : 6\n",
      "[0 -1400 -100 -1200 -2000]\n",
      "Finding best nN policy...\n"
     ]
    },
    {
     "name": "stderr",
     "output_type": "stream",
     "text": [
      "\u001b[36m\u001b[1m[ \u001b[22m\u001b[39m\u001b[36m\u001b[1mInfo: \u001b[22m\u001b[39m        3489.7471376s: 58 minutes, 9 seconds, 747 milliseconds\n",
      "\u001b[36m\u001b[1m[ \u001b[22m\u001b[39m\u001b[36m\u001b[1mInfo: \u001b[22m\u001b[39m started timer at: 2024-03-19T04:30:59.225\n"
     ]
    },
    {
     "name": "stdout",
     "output_type": "stream",
     "text": [
      "Max rewards of (N, n) policy is -115813.8254052401  n is 5  N is 5\n",
      "60\n",
      "2984.520027034483\n",
      "-90751.5810961326\n",
      "60K : 6\n",
      "[0 -1600 -100 -1200 -2000]\n",
      "Finding best nN policy...\n"
     ]
    },
    {
     "name": "stderr",
     "output_type": "stream",
     "text": [
      "\u001b[36m\u001b[1m[ \u001b[22m\u001b[39m\u001b[36m\u001b[1mInfo: \u001b[22m\u001b[39m         3539.878455s: 58 minutes, 59 seconds, 878 milliseconds\n",
      "\u001b[36m\u001b[1m[ \u001b[22m\u001b[39m\u001b[36m\u001b[1mInfo: \u001b[22m\u001b[39m started timer at: 2024-03-19T05:29:59.170\n"
     ]
    },
    {
     "name": "stdout",
     "output_type": "stream",
     "text": [
      "Max rewards of (N, n) policy is -119547.82394993506  n is 5  N is 8\n",
      "60\n",
      "2982.456503796411\n",
      "-94471.06481708762\n"
     ]
    },
    {
     "name": "stderr",
     "output_type": "stream",
     "text": [
      "\u001b[36m\u001b[1m[ \u001b[22m\u001b[39m\u001b[36m\u001b[1mInfo: \u001b[22m\u001b[39m        3487.5420456s: 58 minutes, 7 seconds, 542 milliseconds\n"
     ]
    },
    {
     "name": "stdout",
     "output_type": "stream",
     "text": [
      "60K : 6\n",
      "[0 -1800 -100 -1200 -2000]\n",
      "Finding best nN policy...\n"
     ]
    },
    {
     "name": "stderr",
     "output_type": "stream",
     "text": [
      "\u001b[36m\u001b[1m[ \u001b[22m\u001b[39m\u001b[36m\u001b[1mInfo: \u001b[22m\u001b[39m started timer at: 2024-03-19T06:28:06.777\n"
     ]
    },
    {
     "name": "stdout",
     "output_type": "stream",
     "text": [
      "Max rewards of (N, n) policy is -123286.92523157208  n is 5  N is 9\n",
      "60\n",
      "3378.7163082435873\n",
      "-97241.53939921426\n",
      "60K : 6\n",
      "[0 -2000 -100 -1200 -2000]\n",
      "Finding best nN policy...\n"
     ]
    },
    {
     "name": "stderr",
     "output_type": "stream",
     "text": [
      "\u001b[36m\u001b[1m[ \u001b[22m\u001b[39m\u001b[36m\u001b[1mInfo: \u001b[22m\u001b[39m        3493.6657795s: 58 minutes, 13 seconds, 665 milliseconds\n",
      "\u001b[36m\u001b[1m[ \u001b[22m\u001b[39m\u001b[36m\u001b[1mInfo: \u001b[22m\u001b[39m started timer at: 2024-03-19T07:26:20.508\n"
     ]
    },
    {
     "name": "stdout",
     "output_type": "stream",
     "text": [
      "Max rewards of (N, n) policy is -126655.10920843427  n is 5  N is 10\n",
      "60\n",
      "4755.344462791306\n",
      "-96965.18751269543\n",
      "60K : 6\n",
      "[0 -2400 -100 -1200 -2000]\n",
      "Finding best nN policy...\n"
     ]
    },
    {
     "name": "stderr",
     "output_type": "stream",
     "text": [
      "\u001b[36m\u001b[1m[ \u001b[22m\u001b[39m\u001b[36m\u001b[1mInfo: \u001b[22m\u001b[39m        3538.4014667s: 58 minutes, 58 seconds, 401 milliseconds\n",
      "\u001b[36m\u001b[1m[ \u001b[22m\u001b[39m\u001b[36m\u001b[1mInfo: \u001b[22m\u001b[39m started timer at: 2024-03-19T08:25:18.986\n"
     ]
    },
    {
     "name": "stdout",
     "output_type": "stream",
     "text": [
      "Max rewards of (N, n) policy is -131527.21555677784  n is 5  N is 10\n",
      "60\n",
      "4971.552484041488\n",
      "-101815.40880667431\n",
      "60K : 6\n",
      "[0 -2800 -100 -1200 -2000]\n",
      "Finding best nN policy...\n"
     ]
    },
    {
     "name": "stderr",
     "output_type": "stream",
     "text": [
      "\u001b[36m\u001b[1m[ \u001b[22m\u001b[39m\u001b[36m\u001b[1mInfo: \u001b[22m\u001b[39m        3479.1092717s: 57 minutes, 59 seconds, 109 milliseconds\n",
      "\u001b[36m\u001b[1m[ \u001b[22m\u001b[39m\u001b[36m\u001b[1mInfo: \u001b[22m\u001b[39m started timer at: 2024-03-19T09:23:18.161\n"
     ]
    },
    {
     "name": "stdout",
     "output_type": "stream",
     "text": [
      "Max rewards of (N, n) policy is -136195.13385345007  n is 5  N is 10\n",
      "60\n",
      "5233.229996593207\n",
      "-106692.853283247\n",
      "60K : 6\n",
      "[0 -3200 -100 -1200 -2000]\n",
      "Finding best nN policy...\n"
     ]
    },
    {
     "name": "stderr",
     "output_type": "stream",
     "text": [
      "\u001b[36m\u001b[1m[ \u001b[22m\u001b[39m\u001b[36m\u001b[1mInfo: \u001b[22m\u001b[39m        3484.4879643s: 58 minutes, 4 seconds, 487 milliseconds\n",
      "\u001b[36m\u001b[1m[ \u001b[22m\u001b[39m\u001b[36m\u001b[1mInfo: \u001b[22m\u001b[39m started timer at: 2024-03-19T10:21:22.715\n"
     ]
    },
    {
     "name": "stdout",
     "output_type": "stream",
     "text": [
      "Max rewards of (N, n) policy is -141031.52538380137  n is 4  N is 10\n",
      "60\n",
      "5372.223746332436\n",
      "-111641.31811881917\n"
     ]
    },
    {
     "name": "stderr",
     "output_type": "stream",
     "text": [
      "\u001b[36m\u001b[1m[ \u001b[22m\u001b[39m\u001b[36m\u001b[1mInfo: \u001b[22m\u001b[39m         3521.843052s: 58 minutes, 41 seconds, 843 milliseconds\n"
     ]
    },
    {
     "name": "stdout",
     "output_type": "stream",
     "text": [
      "-------------------------\n",
      "60K : 8\n",
      "[0 -200 -100 -1200 -2000]\n",
      "Finding best nN policy...\n"
     ]
    },
    {
     "name": "stderr",
     "output_type": "stream",
     "text": [
      "\u001b[36m\u001b[1m[ \u001b[22m\u001b[39m\u001b[36m\u001b[1mInfo: \u001b[22m\u001b[39m started timer at: 2024-03-19T11:20:04.636\n"
     ]
    },
    {
     "name": "stdout",
     "output_type": "stream",
     "text": [
      "Max rewards of (N, n) policy is -89904.99520157413  n is 5  N is 6\n",
      "60\n",
      "2931.962260903818\n",
      "-68103.1069210333\n",
      "60K : 8\n",
      "[0 -400 -100 -1200 -2000]\n",
      "Finding best nN policy...\n"
     ]
    },
    {
     "name": "stderr",
     "output_type": "stream",
     "text": [
      "\u001b[36m\u001b[1m[ \u001b[22m\u001b[39m\u001b[36m\u001b[1mInfo: \u001b[22m\u001b[39m        3467.4828472s: 57 minutes, 47 seconds, 482 milliseconds\n",
      "\u001b[36m\u001b[1m[ \u001b[22m\u001b[39m\u001b[36m\u001b[1mInfo: \u001b[22m\u001b[39m started timer at: 2024-03-19T12:17:52.186\n"
     ]
    },
    {
     "name": "stdout",
     "output_type": "stream",
     "text": [
      "Max rewards of (N, n) policy is -93688.21227553391  n is 5  N is 6\n",
      "60\n",
      "2933.200899296793\n",
      "-71853.4456145814\n",
      "60K : 8\n",
      "[0 -600 -100 -1200 -2000]\n",
      "Finding best nN policy...\n"
     ]
    },
    {
     "name": "stderr",
     "output_type": "stream",
     "text": [
      "\u001b[36m\u001b[1m[ \u001b[22m\u001b[39m\u001b[36m\u001b[1mInfo: \u001b[22m\u001b[39m        3476.0396194s: 57 minutes, 56 seconds, 39 milliseconds\n",
      "\u001b[36m\u001b[1m[ \u001b[22m\u001b[39m\u001b[36m\u001b[1mInfo: \u001b[22m\u001b[39m started timer at: 2024-03-19T13:15:48.303\n"
     ]
    },
    {
     "name": "stdout",
     "output_type": "stream",
     "text": [
      "Max rewards of (N, n) policy is -97396.78617569557  n is 5  N is 5\n",
      "60\n",
      "2934.8674505910276\n",
      "-75655.68015513133\n",
      "60K : 8\n",
      "[0 -800 -100 -1200 -2000]\n",
      "Finding best nN policy...\n"
     ]
    },
    {
     "name": "stderr",
     "output_type": "stream",
     "text": [
      "\u001b[36m\u001b[1m[ \u001b[22m\u001b[39m\u001b[36m\u001b[1mInfo: \u001b[22m\u001b[39m        3517.7011781s: 58 minutes, 37 seconds, 701 milliseconds\n",
      "\u001b[36m\u001b[1m[ \u001b[22m\u001b[39m\u001b[36m\u001b[1mInfo: \u001b[22m\u001b[39m started timer at: 2024-03-19T14:14:26.070\n"
     ]
    },
    {
     "name": "stdout",
     "output_type": "stream",
     "text": [
      "Max rewards of (N, n) policy is -101153.38927011874  n is 5  N is 8\n",
      "60\n",
      "2955.747502095184\n",
      "-79386.00727427246\n"
     ]
    },
    {
     "name": "stderr",
     "output_type": "stream",
     "text": [
      "\u001b[36m\u001b[1m[ \u001b[22m\u001b[39m\u001b[36m\u001b[1mInfo: \u001b[22m\u001b[39m        3468.0979272s: 57 minutes, 48 seconds, 97 milliseconds\n",
      "\u001b[36m\u001b[1m[ \u001b[22m\u001b[39m\u001b[36m\u001b[1mInfo: \u001b[22m\u001b[39m started timer at: 2024-03-19T15:12:14.234\n"
     ]
    },
    {
     "name": "stdout",
     "output_type": "stream",
     "text": [
      "60K : 8\n",
      "[0 -1000 -100 -1200 -2000]\n",
      "Finding best nN policy...\n",
      "Max rewards of (N, n) policy is -105050.32492975761  n is 5  N is 7\n",
      "60\n",
      "2951.633100356391\n",
      "-83169.13783223815\n",
      "60K : 8\n",
      "[0 "
     ]
    },
    {
     "name": "stderr",
     "output_type": "stream",
     "text": [
      "\u001b[36m\u001b[1m[ \u001b[22m\u001b[39m\u001b[36m\u001b[1mInfo: \u001b[22m\u001b[39m        3484.6590967s: 58 minutes, 4 seconds, 659 milliseconds\n",
      "\u001b[36m\u001b[1m[ \u001b[22m\u001b[39m\u001b[36m\u001b[1mInfo: \u001b[22m\u001b[39m started timer at: 2024-03-19T16:10:18.960\n"
     ]
    },
    {
     "name": "stdout",
     "output_type": "stream",
     "text": [
      "-1200 -100 -1200 -2000]\n",
      "Finding best nN policy...\n",
      "Max rewards of (N, n) policy is -108752.88900922546  n is 5  N is 8\n",
      "60\n",
      "2966.9380285725797\n",
      "-86943.2600545325\n",
      "60K : 8\n",
      "[0 -1400 -100 -1200 -2000]\n",
      "Finding best nN policy...\n"
     ]
    },
    {
     "name": "stderr",
     "output_type": "stream",
     "text": [
      "\u001b[36m\u001b[1m[ \u001b[22m\u001b[39m\u001b[36m\u001b[1mInfo: \u001b[22m\u001b[39m        3513.3677714s: 58 minutes, 33 seconds, 367 milliseconds\n",
      "\u001b[36m\u001b[1m[ \u001b[22m\u001b[39m\u001b[36m\u001b[1mInfo: \u001b[22m\u001b[39m started timer at: 2024-03-19T17:08:52.394\n"
     ]
    },
    {
     "name": "stdout",
     "output_type": "stream",
     "text": [
      "Max rewards of (N, n) policy is -112545.82724706111  n is 5  N is 5\n",
      "60\n",
      "2965.279480172258\n",
      "-90688.00649287565\n",
      "60K : 8\n",
      "[0 -1600 -100 -1200 -2000]\n",
      "Finding best nN policy...\n"
     ]
    },
    {
     "name": "stderr",
     "output_type": "stream",
     "text": [
      "\u001b[36m\u001b[1m[ \u001b[22m\u001b[39m\u001b[36m\u001b[1mInfo: \u001b[22m\u001b[39m        3472.6485459s: 57 minutes, 52 seconds, 648 milliseconds\n",
      "\u001b[36m\u001b[1m[ \u001b[22m\u001b[39m\u001b[36m\u001b[1mInfo: \u001b[22m\u001b[39m started timer at: 2024-03-19T18:06:45.108\n"
     ]
    },
    {
     "name": "stdout",
     "output_type": "stream",
     "text": [
      "Max rewards of (N, n) policy is -116329.1379943859  n is 5  N is 7\n",
      "60\n",
      "2930.0902790005653\n",
      "-94528.44127463417\n",
      "60K : 8\n",
      "[0 -1800 -100 -1200 -2000]\n",
      "Finding best nN policy...\n"
     ]
    },
    {
     "name": "stderr",
     "output_type": "stream",
     "text": [
      "\u001b[36m\u001b[1m[ \u001b[22m\u001b[39m\u001b[36m\u001b[1mInfo: \u001b[22m\u001b[39m        3480.8785749s: 58 minutes, 878 milliseconds\n",
      "\u001b[36m\u001b[1m[ \u001b[22m\u001b[39m\u001b[36m\u001b[1mInfo: \u001b[22m\u001b[39m started timer at: 2024-03-19T19:04:46.053\n"
     ]
    },
    {
     "name": "stdout",
     "output_type": "stream",
     "text": [
      "Max rewards of (N, n) policy is -120017.92452658982  n is 5  N is 9\n",
      "60\n",
      "3361.6756579709895\n",
      "-97094.7726486882\n",
      "60K : 8\n",
      "[0 -2000 -100 -1200 -2000]\n",
      "Finding best nN policy...\n"
     ]
    },
    {
     "name": "stderr",
     "output_type": "stream",
     "text": [
      "\u001b[36m\u001b[1m[ \u001b[22m\u001b[39m\u001b[36m\u001b[1mInfo: \u001b[22m\u001b[39m         3524.068336s: 58 minutes, 44 seconds, 68 milliseconds\n",
      "\u001b[36m\u001b[1m[ \u001b[22m\u001b[39m\u001b[36m\u001b[1mInfo: \u001b[22m\u001b[39m started timer at: 2024-03-19T20:03:30.187\n"
     ]
    },
    {
     "name": "stdout",
     "output_type": "stream",
     "text": [
      "Max rewards of (N, n) policy is -123863.92044084182  n is 5  N is 9\n",
      "60\n",
      "3395.1014641854936\n",
      "-100636.43436380822\n",
      "60K : 8\n",
      "[0 -2400 -100 -1200 -2000]\n",
      "Finding best nN policy...\n"
     ]
    },
    {
     "name": "stderr",
     "output_type": "stream",
     "text": [
      "\u001b[36m\u001b[1m[ \u001b[22m\u001b[39m\u001b[36m\u001b[1mInfo: \u001b[22m\u001b[39m        3461.7766704s: 57 minutes, 41 seconds, 776 milliseconds\n",
      "\u001b[36m\u001b[1m[ \u001b[22m\u001b[39m\u001b[36m\u001b[1mInfo: \u001b[22m\u001b[39m started timer at: 2024-03-19T21:01:12.043\n"
     ]
    },
    {
     "name": "stdout",
     "output_type": "stream",
     "text": [
      "Max rewards of (N, n) policy is -129417.73434365113  n is 5  N is 10\n",
      "60\n",
      "4684.487605833785\n",
      "-100848.14107365234\n",
      "60K : 8\n"
     ]
    },
    {
     "name": "stderr",
     "output_type": "stream",
     "text": [
      "\u001b[36m\u001b[1m[ \u001b[22m\u001b[39m\u001b[36m\u001b[1mInfo: \u001b[22m\u001b[39m        3483.8772322s: 58 minutes, 3 seconds, 877 milliseconds\n",
      "\u001b[36m\u001b[1m[ \u001b[22m\u001b[39m\u001b[36m\u001b[1mInfo: \u001b[22m\u001b[39m started timer at: 2024-03-19T21:59:15.997\n"
     ]
    },
    {
     "name": "stdout",
     "output_type": "stream",
     "text": [
      "[0 -2800 -100 -1200 -2000]\n",
      "Finding best nN policy...\n",
      "Max rewards of (N, n) policy is -134194.4997795326  n is 5  N is 10\n",
      "60\n",
      "4976.30808996945\n",
      "-105541.09352270952\n",
      "60K : 8\n",
      "[0 -3200 -100 -1200 -2000]\n",
      "Finding best nN policy...\n"
     ]
    },
    {
     "name": "stderr",
     "output_type": "stream",
     "text": [
      "\u001b[36m\u001b[1m[ \u001b[22m\u001b[39m\u001b[36m\u001b[1mInfo: \u001b[22m\u001b[39m        3495.8372781s: 58 minutes, 15 seconds, 837 milliseconds\n",
      "\u001b[36m\u001b[1m[ \u001b[22m\u001b[39m\u001b[36m\u001b[1mInfo: \u001b[22m\u001b[39m started timer at: 2024-03-19T22:57:31.899\n"
     ]
    },
    {
     "name": "stdout",
     "output_type": "stream",
     "text": [
      "Max rewards of (N, n) policy is -138832.7545440486  n is 4  N is 10\n",
      "60\n",
      "5163.827137225563\n",
      "-110687.06939587762\n",
      "-------------------------\n",
      "60K : 10\n",
      "[0 -200 -100 -1200 -2000]\n",
      "Finding best nN policy...\n"
     ]
    },
    {
     "name": "stderr",
     "output_type": "stream",
     "text": [
      "\u001b[36m\u001b[1m[ \u001b[22m\u001b[39m\u001b[36m\u001b[1mInfo: \u001b[22m\u001b[39m        3463.1046702s: 57 minutes, 43 seconds, 104 milliseconds\n",
      "\u001b[36m\u001b[1m[ \u001b[22m\u001b[39m\u001b[36m\u001b[1mInfo: \u001b[22m\u001b[39m started timer at: 2024-03-19T23:55:15.069\n"
     ]
    },
    {
     "name": "stdout",
     "output_type": "stream",
     "text": [
      "Max rewards of (N, n) policy is -87162.20861923262  n is 5  N is 5\n",
      "60\n",
      "2915.552469601156\n",
      "-68093.80817474017\n",
      "60K : 10\n",
      "[0 -400 -100 -1200 -2000]\n",
      "Finding best nN policy...\n"
     ]
    },
    {
     "name": "stderr",
     "output_type": "stream",
     "text": [
      "\u001b[36m\u001b[1m[ \u001b[22m\u001b[39m\u001b[36m\u001b[1mInfo: \u001b[22m\u001b[39m         3479.388599s: 57 minutes, 59 seconds, 388 milliseconds\n",
      "\u001b[36m\u001b[1m[ \u001b[22m\u001b[39m\u001b[36m\u001b[1mInfo: \u001b[22m\u001b[39m started timer at: 2024-03-20T00:53:14.533\n"
     ]
    },
    {
     "name": "stdout",
     "output_type": "stream",
     "text": [
      "Max rewards of (N, n) policy is -90836.12128718958  n is 5  N is 7\n",
      "60\n",
      "2944.3395993067506\n",
      "-71926.9232454376\n",
      "60K : 10\n",
      "["
     ]
    },
    {
     "name": "stderr",
     "output_type": "stream",
     "text": [
      "\u001b[36m\u001b[1m[ \u001b[22m\u001b[39m\u001b[36m\u001b[1mInfo: \u001b[22m\u001b[39m        3482.8375358s: 58 minutes, 2 seconds, 837 milliseconds\n",
      "\u001b[36m\u001b[1m[ \u001b[22m\u001b[39m\u001b[36m\u001b[1mInfo: \u001b[22m\u001b[39m started timer at: 2024-03-20T01:51:17.435\n"
     ]
    },
    {
     "name": "stdout",
     "output_type": "stream",
     "text": [
      "0 -600 -100 -1200 -2000]\n",
      "Finding best nN policy...\n",
      "Max rewards of (N, n) policy is -94668.1486432997  n is 5  N is 7\n",
      "60\n",
      "2933.278141517516\n",
      "-75598.88083984777\n"
     ]
    },
    {
     "name": "stderr",
     "output_type": "stream",
     "text": [
      "\u001b[36m\u001b[1m[ \u001b[22m\u001b[39m\u001b[36m\u001b[1mInfo: \u001b[22m\u001b[39m        3473.3076473s: 57 minutes, 53 seconds, 307 milliseconds\n",
      "\u001b[36m\u001b[1m[ \u001b[22m\u001b[39m\u001b[36m\u001b[1mInfo: \u001b[22m\u001b[39m started timer at: 2024-03-20T02:49:10.808\n"
     ]
    },
    {
     "name": "stdout",
     "output_type": "stream",
     "text": [
      "60K : 10\n",
      "[0 -800 -100 -1200 -2000]\n",
      "Finding best nN policy...\n",
      "Max rewards of (N, n) policy is -98416.98998764218  n is 5  N is 8\n",
      "60\n",
      "2935.9307898147736\n",
      "-79415.73023082766\n",
      "60K : 10\n",
      "[0 -1000 -100 -1200 -2000]\n",
      "Finding best nN policy...\n"
     ]
    },
    {
     "name": "stderr",
     "output_type": "stream",
     "text": [
      "\u001b[36m\u001b[1m[ \u001b[22m\u001b[39m\u001b[36m\u001b[1mInfo: \u001b[22m\u001b[39m        3463.3146741s: 57 minutes, 43 seconds, 314 milliseconds\n",
      "\u001b[36m\u001b[1m[ \u001b[22m\u001b[39m\u001b[36m\u001b[1mInfo: \u001b[22m\u001b[39m started timer at: 2024-03-20T03:46:54.199\n"
     ]
    },
    {
     "name": "stdout",
     "output_type": "stream",
     "text": [
      "Max rewards of (N, n) policy is -102154.78085288551  n is 5  N is 7\n",
      "60\n",
      "2917.4494189022384\n",
      "-83205.74103758116\n",
      "60K : 10\n",
      "[0 -1200 -100 -1200 -2000]\n",
      "Finding best nN policy...\n"
     ]
    },
    {
     "name": "stderr",
     "output_type": "stream",
     "text": [
      "\u001b[36m\u001b[1m[ \u001b[22m\u001b[39m\u001b[36m\u001b[1mInfo: \u001b[22m\u001b[39m        3481.9657055s: 58 minutes, 1 second, 965 milliseconds\n",
      "\u001b[36m\u001b[1m[ \u001b[22m\u001b[39m\u001b[36m\u001b[1mInfo: \u001b[22m\u001b[39m started timer at: 2024-03-20T04:44:56.229\n"
     ]
    },
    {
     "name": "stdout",
     "output_type": "stream",
     "text": [
      "Max rewards of (N, n) policy is -106020.69098131797  n is 5  N is 5\n",
      "60\n",
      "2963.1833908673248\n",
      "-86948.57918244503\n",
      "60K : 10\n",
      "[0 -1400 -100 -1200 -2000]\n",
      "Finding best nN policy...\n"
     ]
    },
    {
     "name": "stderr",
     "output_type": "stream",
     "text": [
      "\u001b[36m\u001b[1m[ \u001b[22m\u001b[39m\u001b[36m\u001b[1mInfo: \u001b[22m\u001b[39m        3468.4153234s: 57 minutes, 48 seconds, 415 milliseconds\n",
      "\u001b[36m\u001b[1m[ \u001b[22m\u001b[39m\u001b[36m\u001b[1mInfo: \u001b[22m\u001b[39m started timer at: 2024-03-20T05:42:44.711\n"
     ]
    },
    {
     "name": "stdout",
     "output_type": "stream",
     "text": [
      "Max rewards of (N, n) policy is -109759.13639954962  n is 5  N is 7\n",
      "60\n",
      "2951.141733771381\n",
      "-90710.5966612292\n"
     ]
    },
    {
     "name": "stderr",
     "output_type": "stream",
     "text": [
      "\u001b[36m\u001b[1m[ \u001b[22m\u001b[39m\u001b[36m\u001b[1mInfo: \u001b[22m\u001b[39m        3471.7492311s: 57 minutes, 51 seconds, 749 milliseconds\n",
      "\u001b[36m\u001b[1m[ \u001b[22m\u001b[39m\u001b[36m\u001b[1mInfo: \u001b[22m\u001b[39m started timer at: 2024-03-20T06:40:36.537\n"
     ]
    },
    {
     "name": "stdout",
     "output_type": "stream",
     "text": [
      "60K : 10\n",
      "[0 -1600 -100 -1200 -2000]\n",
      "Finding best nN policy...\n",
      "Max rewards of (N, n) policy is -113532.64533545077  n is 5  N is 6\n",
      "60\n",
      "2941.751274492191\n",
      "-94530.7620399972\n"
     ]
    },
    {
     "name": "stderr",
     "output_type": "stream",
     "text": [
      "\u001b[36m\u001b[1m[ \u001b[22m\u001b[39m\u001b[36m\u001b[1mInfo: \u001b[22m\u001b[39m        3498.6977817s: 58 minutes, 18 seconds, 697 milliseconds\n",
      "\u001b[36m\u001b[1m[ \u001b[22m\u001b[39m\u001b[36m\u001b[1mInfo: \u001b[22m\u001b[39m started timer at: 2024-03-20T07:38:55.300\n"
     ]
    },
    {
     "name": "stdout",
     "output_type": "stream",
     "text": [
      "60K : 10\n",
      "[0 -1800 -100 -1200 -2000]\n",
      "Finding best nN policy...\n",
      "Max rewards of (N, n) policy is -117350.31504984514  n is 5  N is 8\n",
      "60\n",
      "2931.3829545289855\n",
      "-98184.79937527623\n",
      "60K : 10\n",
      "[0 -2000 -100 -1200 -2000]\n",
      "Finding best nN policy...\n"
     ]
    },
    {
     "name": "stderr",
     "output_type": "stream",
     "text": [
      "\u001b[36m\u001b[1m[ \u001b[22m\u001b[39m\u001b[36m\u001b[1mInfo: \u001b[22m\u001b[39m         3488.936362s: 58 minutes, 8 seconds, 936 milliseconds\n",
      "\u001b[36m\u001b[1m[ \u001b[22m\u001b[39m\u001b[36m\u001b[1mInfo: \u001b[22m\u001b[39m started timer at: 2024-03-20T08:37:04.314\n"
     ]
    },
    {
     "name": "stdout",
     "output_type": "stream",
     "text": [
      "Max rewards of (N, n) policy is -121096.2103372097  n is 5  N is 9\n",
      "60\n",
      "3430.068098254444\n",
      "-100632.3984748372\n",
      "60K : 10\n",
      "[0 -2400 -100 -1200 -2000]\n",
      "Finding best nN policy...\n"
     ]
    },
    {
     "name": "stderr",
     "output_type": "stream",
     "text": [
      "\u001b[36m\u001b[1m[ \u001b[22m\u001b[39m\u001b[36m\u001b[1mInfo: \u001b[22m\u001b[39m        3501.6396532s: 58 minutes, 21 seconds, 639 milliseconds\n",
      "\u001b[36m\u001b[1m[ \u001b[22m\u001b[39m\u001b[36m\u001b[1mInfo: \u001b[22m\u001b[39m started timer at: 2024-03-20T09:35:26.021\n"
     ]
    }
   ],
   "source": [
    "using DataFrames\n",
    "df= DataFrame(u=[],K=[],n=[],s=[],m=[],f=[],p=[],lamb=[],mean=[],std=[])\n",
    "\n",
    "cost=[ [0\t-200\t-100\t-1200 -2000],\n",
    "    [0\t-400\t-100\t-1200 -2000],\n",
    "    [0\t-600\t-100\t-1200 -2000],\n",
    "    [0\t-800\t-100\t-1200 -2000],\n",
    "    [0\t-1000\t-100\t-1200 -2000],\n",
    "    [0\t-1200\t-100\t-1200 -2000],\n",
    "    [0\t-1400\t-100\t-1200 -2000],\n",
    "    [0\t-1600\t-100\t-1200 -2000],\n",
    "    [0\t-1800\t-100\t-1200 -2000],\n",
    "    [0\t-2000\t-100\t-1200 -2000],\n",
    "    [0  -2400   -100    -1200 -2000],\n",
    "    [0  -2800   -100    -1200 -2000],\n",
    "    [0  -3200   -100    -1200 -2000]\n",
    "] \n",
    "\n",
    "\n",
    "for units in [60,50,40,30,25,20]\n",
    "    for K in 2:2:convert(Int64, floor((units+1)/2))\n",
    " \n",
    "    global NumberUnits=convert(Int64,units)\n",
    "\n",
    "\n",
    "# global fullname = \"tm10.jld2\";\n",
    "# fullname = \"tm10\";\n",
    "global limit=convert(Int64,K)\n",
    "\n",
    "for c in cost\n",
    "    tick()\n",
    "   print(units)  \n",
    "   print(\"K : \")\n",
    "   println(K)\n",
    "   global normal_operation,setup_cost,maintenance_penalty,failure_penalty,system_penalty=c\n",
    "   println(c)   \n",
    "   global  simsteps = 100;\n",
    "global repetition = 10000;\n",
    "global rewards_nN = zeros(Number_level,Number_level);\n",
    "global rewards_nN = rewards_nN.+(-100000000.0);\n",
    "global rewards_nN_std = zeros(Number_level,Number_level);\n",
    "global rewards_nN_std = rewards_nN_std.+(-100000000.0);\n",
    "global discount_factor =0.95\n",
    "global temp_rewards = zeros(repetition,1);\n",
    "\n",
    "rewards,std, nN=findNn()\n",
    "\n",
    "trials=10000;\n",
    "simsteps = 100;\n",
    "results=zeros(trials)*0.1\n",
    "Threads.@threads for h in 1:trials\n",
    "s=repeat(1:1,NumberUnits)\n",
    "r1=[]\n",
    "a1=[]   \n",
    "r=repeat(1:1,NumberUnits)*1.0\n",
    " for k in 1:simsteps\n",
    "    a =decison(nN,s)\n",
    "            r2=0.0\n",
    "            failedcnt = 0 \n",
    "    if 1 in a\n",
    "    for i in 1:NumberUnits\n",
    "        if s[i] == Number_level\n",
    "            failedcnt += 1\n",
    "        end\n",
    "         s[i],r[i]=generative(s[i],a[i]+2,i,234);\n",
    "          r2+=r[i]\n",
    "            end \n",
    "    else\n",
    "       for i in 1:NumberUnits\n",
    "        if s[i] == Number_level\n",
    "            failedcnt += 1\n",
    "        end\n",
    "         s[i],r[i]=generative(s[i],1,i,234);\n",
    "          r2+=r[i]\n",
    "            end              \n",
    "    end\n",
    "    s=s;\n",
    "    if failedcnt >= limit # system fails\n",
    "        r2 += system_penalty\n",
    "    end\n",
    "    append!(a1,a)\n",
    "    append!(r1,r2)\n",
    "end\n",
    "rk=0\n",
    "for i in 1:simsteps\n",
    "    rk=0.95*rk+r1[simsteps-i+1]\n",
    "end\n",
    "    results[h]=rk\n",
    "end\n",
    "println(units)\n",
    "        println(var(results)^0.5)\n",
    "println(mean(results))\n",
    "\n",
    "\n",
    "pushfirst!(df,[NumberUnits,limit,normal_operation,setup_cost,maintenance_penalty,failure_penalty,system_penalty,nN,mean(results),var(results)^0.5])\n",
    "        \n",
    "tock() \n",
    "    end\n",
    "    println(\"-------------------------\")\n",
    "end\n",
    "end\n",
    "end\n",
    "end"
   ]
  },
  {
   "cell_type": "code",
   "execution_count": null,
   "metadata": {},
   "outputs": [],
   "source": [
    "df"
   ]
  },
  {
   "cell_type": "code",
   "execution_count": null,
   "metadata": {},
   "outputs": [],
   "source": [
    "using CSV\n",
    "CSV.write(\"Hetero (n,N)-policy.csv\", df)"
   ]
  },
  {
   "cell_type": "code",
   "execution_count": null,
   "metadata": {},
   "outputs": [],
   "source": []
  },
  {
   "cell_type": "code",
   "execution_count": null,
   "metadata": {},
   "outputs": [],
   "source": [
    "# Transition_matrix = mean(T[:,:,1,1:3],dims=3);\n",
    "# Transition_matrix=(Transition_matrix./sum(Transition_matrix,dims=2))\n",
    "# global state_number = state_cnt(NumberUnits,Number_level);\n",
    "\n",
    "# global crd = Array{Categorical}(undef,Number_level)\n",
    "# for i in 1:Number_level\n",
    "#     global crd[i] = Categorical(Transition_matrix[i,:]);\n",
    "# end\n",
    "\n",
    "# global multiunit2 = QuickMDP(\n",
    "#     gen = function (s, a, rng)       #s is a vector of number units at each level and a is the number of units we will repair\n",
    "#         local_s = s.state;\n",
    "#         # println(local_s)\n",
    "#         # based on s, create a status vector corresponding to each unit\n",
    "#         degradation_state = repeat(1:1,NumberUnits);\n",
    "#         k = 1;\n",
    "#         for i in 1:Number_level\n",
    "#             for j in 1:local_s[i]\n",
    "#                 degradation_state[k]=i;\n",
    "#                 k = k+1;\n",
    "#             end\n",
    "#         end\n",
    "#         r = 0.0;\n",
    "#         prevent_repair = false;\n",
    "#         if a!=0\n",
    "#         number_reset = sum(local_s[a:Number_level]);\n",
    "#         else\n",
    "#         number_reset = local_s[Number_level];\n",
    "#         end\n",
    "#         #using a for loop to compute next state for each unit\n",
    "\n",
    "#         for i in 1:(NumberUnits-number_reset)  #a is the number of units we want to preventively repair\n",
    "#             #in this loop, all units continues\n",
    "#             degradation_state[i] = rand(crd[degradation_state[i]]);\n",
    "#             r = r+normal_operation;\n",
    "#         end\n",
    "        \n",
    "#         for i in (NumberUnits-number_reset+1):NumberUnits\n",
    "#             if degradation_state[i] == Number_level\n",
    "#                 r = r + failure_penalty;\n",
    "#                 if prevent_repair == false\n",
    "#                     r = r+setup_cost;\n",
    "#                     prevent_repair = true;\n",
    "#                 end\n",
    "#             else\n",
    "#                 r = r + maintenance_penalty;\n",
    "#                 if prevent_repair == false\n",
    "#                     r = r+setup_cost;\n",
    "#                     prevent_repair = true;\n",
    "#                 end\n",
    "#             end\n",
    "#             degradation_state[i] = rand(crd[1]); #reset status; add additional transition\n",
    "#             r = r+normal_operation; #add operation benefit\n",
    "#          end\n",
    "#         #collect degradation state to form the state\n",
    "#         sp = repeat(0:0,Number_level);\n",
    "#         for i in 1:NumberUnits\n",
    "#             sp[degradation_state[i]] = sp[degradation_state[i]]+1;\n",
    "#         end\n",
    "#         return (sp=mystate(sp), r=r)\n",
    "#     end,\n",
    "#     actions = 0:(Number_level-1), \n",
    "#     actiontype = function()\n",
    "#         return Int64;\n",
    "#     end,\n",
    "\n",
    "#     initialstate = function()\n",
    "#         POMDPModelTools.ImplicitDistribution() do rng\n",
    "#             return (mystate(state_vec(NumberUnits, Number_level, 1)))\n",
    "#         end\n",
    "#     end, #all u #all units start fresh. Need to change according to unit number and level number. ##For simulation, we need to use ImplicitDistribution\n",
    "#     discount = 0.95,\n",
    "#     isterminal = false              # no ending\n",
    "# )"
   ]
  }
 ],
 "metadata": {
  "kernelspec": {
   "display_name": "Julia 1.9.3",
   "language": "julia",
   "name": "julia-1.9"
  },
  "language_info": {
   "file_extension": ".jl",
   "mimetype": "application/julia",
   "name": "julia",
   "version": "1.9.3"
  },
  "vscode": {
   "interpreter": {
    "hash": "aee8b7b246df8f9039afb4144a1f6fd8d2ca17a180786b69acc140d282b71a49"
   }
  }
 },
 "nbformat": 4,
 "nbformat_minor": 2
}
