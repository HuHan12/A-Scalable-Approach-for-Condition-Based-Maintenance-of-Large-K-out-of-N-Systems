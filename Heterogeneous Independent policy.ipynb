{
 "cells": [
  {
   "cell_type": "code",
   "execution_count": 1,
   "metadata": {},
   "outputs": [],
   "source": [
    "using POMDPs, POMDPTools, QuickPOMDPs, MCTS, DiscreteValueIteration, POMDPSimulators, POMDPModels, POMDPPolicies\n",
    "using Distributions, Combinatorics, StaticArrays, D3Trees, Random\n",
    "using FileIO, JLD2, TickTock"
   ]
  },
  {
   "cell_type": "code",
   "execution_count": null,
   "metadata": {},
   "outputs": [],
   "source": []
  },
  {
   "cell_type": "code",
   "execution_count": 2,
   "metadata": {},
   "outputs": [],
   "source": [
    "action=[(0,0), (0,1), (1,1)]\n",
    "\n",
    "Number_level = 10;\n",
    "# #Transition_matrix = [0.86 0.14 0.0 0.0; 0.0 0.83 0.17 0.0;0.0 0.0 0.89 0.11;1.0 0.0 0.0 0.0];\n",
    "# fullname = \"tm10\";\n",
    "# # generate_transition_matrix(Number_level, fullname) \n",
    "# Transition_matrix = load(fullname*\".jld2\",\"transition_matrix\");\n",
    "# failure_penalty = -1000.0;\n",
    "# maintenance_penalty = -200.0;\n",
    "# setup_cost = -800.0;\n",
    "# system_penalty = - 2000.0;\n",
    "# normal_operation = 0.0;"
   ]
  },
  {
   "cell_type": "code",
   "execution_count": 3,
   "metadata": {},
   "outputs": [],
   "source": [
    "T=zeros(Number_level,Number_level,2,100);\n",
    "\n",
    "# Load transition probability matrix for each component\n",
    "for i in 1:100\n",
    "    #fullname = \"/Users/huhan/Library/CloudStorage/GoogleDrive-hhu98@wisc.edu/My Drive/Master's Thesis/Heterogeneous/TM_MATRIX/tm\"*string(i);\n",
    "    fullname = \"J:/Master's Thesis/Heterogeneous/TM_MATRIX/tm\"*string(i);\n",
    "    # generate_transition_matrix(Number_level, fullname) \n",
    "    Transition_matrix = load(fullname*\".jld2\",\"transition_matrix\");\n",
    "    # the last term in argument of T, which is written as 'i' here,\n",
    "    # is the index of component in the heterogeneous system\n",
    " \n",
    "    T[:,:,1,i].=Transition_matrix;\n",
    "    T[:,:,2,i].=Transition_matrix;\n",
    "    for j in 1:10\n",
    "        T[j,:,2,i].=Transition_matrix[1,:];\n",
    "    end\n",
    "    T[10,:,1,i].=Transition_matrix[1,:]\n",
    "    T[10,:,2,i].=Transition_matrix[1,:]\n",
    "end"
   ]
  },
  {
   "cell_type": "code",
   "execution_count": 4,
   "metadata": {},
   "outputs": [
    {
     "data": {
      "text/plain": [
       "10×10×2 Array{Float64, 3}:\n",
       "[:, :, 1] =\n",
       " 0.232649  0.229122  0.130585  0.0954644  …  0.0507595  0.0416229  0.00861626\n",
       " 0.0       0.218724  0.163234  0.128353      0.0899794  0.0431818  0.00868773\n",
       " 0.0       0.0       0.166395  0.182476      0.111027   0.0773355  0.043199\n",
       " 0.0       0.0       0.0       0.269557      0.125296   0.0981466  0.0533485\n",
       " 0.0       0.0       0.0       0.0           0.125828   0.109077   0.0611228\n",
       " 0.0       0.0       0.0       0.0        …  0.215491   0.17866    0.0619123\n",
       " 0.0       0.0       0.0       0.0           0.352355   0.221208   0.0646198\n",
       " 0.0       0.0       0.0       0.0           0.471891   0.449917   0.0781922\n",
       " 0.0       0.0       0.0       0.0           0.0        0.591116   0.408884\n",
       " 0.232649  0.229122  0.130585  0.0954644     0.0507595  0.0416229  0.00861626\n",
       "\n",
       "[:, :, 2] =\n",
       " 0.232649  0.229122  0.130585  0.0954644  …  0.0507595  0.0416229  0.00861626\n",
       " 0.232649  0.229122  0.130585  0.0954644     0.0507595  0.0416229  0.00861626\n",
       " 0.232649  0.229122  0.130585  0.0954644     0.0507595  0.0416229  0.00861626\n",
       " 0.232649  0.229122  0.130585  0.0954644     0.0507595  0.0416229  0.00861626\n",
       " 0.232649  0.229122  0.130585  0.0954644     0.0507595  0.0416229  0.00861626\n",
       " 0.232649  0.229122  0.130585  0.0954644  …  0.0507595  0.0416229  0.00861626\n",
       " 0.232649  0.229122  0.130585  0.0954644     0.0507595  0.0416229  0.00861626\n",
       " 0.232649  0.229122  0.130585  0.0954644     0.0507595  0.0416229  0.00861626\n",
       " 0.232649  0.229122  0.130585  0.0954644     0.0507595  0.0416229  0.00861626\n",
       " 0.232649  0.229122  0.130585  0.0954644     0.0507595  0.0416229  0.00861626"
      ]
     },
     "execution_count": 4,
     "metadata": {},
     "output_type": "execute_result"
    }
   ],
   "source": [
    "T[:,:,:,1]"
   ]
  },
  {
   "cell_type": "code",
   "execution_count": 5,
   "metadata": {},
   "outputs": [
    {
     "data": {
      "text/plain": [
       "reward (generic function with 3 methods)"
      ]
     },
     "execution_count": 5,
     "metadata": {},
     "output_type": "execute_result"
    }
   ],
   "source": [
    "# Note that the reward function here is only decided by component-wise independent knowledge, \n",
    "# i.e., we know nothing about other components when making decision for this component\n",
    "function reward(s, a, s1=10, rng=23)       #s is a vector of number units at each level and a is the number of units we will repair\n",
    "  \n",
    "       if a==1 # don't replace component\n",
    "        if Number_level>s\n",
    "            # crd = Categorical(Transition_matrix[s,:]);\n",
    "            # s = rand(crd);\n",
    "            r = normal_operation ;\n",
    "         return r\n",
    "        else\n",
    "            r=system_penalty/NumberUnits;\n",
    "            return r\n",
    "        end\n",
    "        end\n",
    "#     if a==2\n",
    "#          if s1>=s\n",
    "#             crd = Categorical(Transition_matrix[s,:]);\n",
    "#             s = rand(crd);\n",
    "#             r = normal_operation +  setup_cost/NumberUnits;\n",
    "#          return r\n",
    "#         else\n",
    "#             return 0.0\n",
    "#         end\n",
    "#         end\n",
    "if a==2 # replace component\n",
    "    if Number_level>s\n",
    "        # s=1\n",
    "        # crd = Categorical(Transition_matrix[s,:]);\n",
    "        # s = rand(crd);\n",
    "        r = maintenance_penalty+  setup_cost/NumberUnits;\n",
    "     return r\n",
    "    else\n",
    "        # s=1\n",
    "        # crd = Categorical(Transition_matrix[s,:]);\n",
    "        # s = rand(crd);\n",
    "        r= failure_penalty  +  setup_cost/NumberUnits;\n",
    "    return r\n",
    "    end\n",
    "    end\n",
    "end"
   ]
  },
  {
   "cell_type": "code",
   "execution_count": 6,
   "metadata": {},
   "outputs": [],
   "source": [
    "s=1:Number_level;"
   ]
  },
  {
   "cell_type": "code",
   "execution_count": 7,
   "metadata": {},
   "outputs": [
    {
     "data": {
      "text/plain": [
       "0.1:0.1:1.0"
      ]
     },
     "execution_count": 7,
     "metadata": {},
     "output_type": "execute_result"
    }
   ],
   "source": [
    "((1:10)./10)"
   ]
  },
  {
   "cell_type": "code",
   "execution_count": 8,
   "metadata": {},
   "outputs": [
    {
     "data": {
      "text/plain": [
       "generative (generic function with 2 methods)"
      ]
     },
     "execution_count": 8,
     "metadata": {},
     "output_type": "execute_result"
    }
   ],
   "source": [
    "function explore()\n",
    "    c=[1/3,1/3,1/3]\n",
    "\n",
    "     crd = Categorical(c);\n",
    "     return rand(crd)\n",
    "    end \n",
    "function generative(s, a, k, rng=23)       #s is a vector of number units at each level and a is the number of units we will repair\n",
    "        if s==Number_level # corrective replacement\n",
    "        s=1\n",
    "        crd = Categorical(T[s,:,1,k]);\n",
    "            s = rand(crd);\n",
    "            r=failure_penalty + normal_operation  ;\n",
    "        return (sp=s, r=r)\n",
    "       end\n",
    "        r=0\n",
    "\n",
    "\n",
    "    if a==1 # don't replace component\n",
    "            if Number_level>s\n",
    "                crd = Categorical(T[s,:,1,k]);\n",
    "                s = rand(crd);\n",
    "                r = normal_operation ;\n",
    "                return (sp=s, r=r)\n",
    "            else\n",
    "                r=0;\n",
    "                return (sp=s, r=r)\n",
    "            end\n",
    "            end\n",
    "\n",
    " \n",
    "\n",
    "    if a==2 # replace component\n",
    "        if Number_level==s\n",
    "            s=1\n",
    "            crd = Categorical(T[s,:,1,k]);\n",
    "            s = rand(crd);\n",
    "            r= failure_penalty;\n",
    "            \n",
    "            return (sp=s, r=r)\n",
    "        end\n",
    "        if s==1\n",
    "            crd = Categorical(T[s,:,1,k]);\n",
    "            s = rand(crd);\n",
    "            r= 0;\n",
    "            return (sp=s, r=r)\n",
    "        end\n",
    "        s=1\n",
    "        crd = Categorical(T[s,:,1,k]);\n",
    "        s = rand(crd);\n",
    "        r = maintenance_penalty;\n",
    "        return (sp=s, r=r)\n",
    "    end\n",
    "    end"
   ]
  },
  {
   "cell_type": "code",
   "execution_count": 9,
   "metadata": {},
   "outputs": [
    {
     "data": {
      "text/plain": [
       "ValueIteration (generic function with 3 methods)"
      ]
     },
     "execution_count": 9,
     "metadata": {},
     "output_type": "execute_result"
    }
   ],
   "source": [
    "# the value iteration here is simply based on independent component-level knowledge\n",
    "function ValueIteration(γ, p1=0.01, d=100)\n",
    "    Q=zeros((Number_level,2,NumberUnits))\n",
    "#     print(Q)\n",
    "    V= zeros(Float64, (Number_level,NumberUnits)).+1000\n",
    "    diff=0\n",
    "    i=0\n",
    "    \n",
    "    \n",
    "\n",
    "    \n",
    "    p=[1 1 1 ]\n",
    "    for k in 1:NumberUnits\n",
    "    for i in 1:10000\n",
    "    for s in 1:10\n",
    "        Threads.@threads for a in 1:2\n",
    " \n",
    "                Q[s,a,k]= (reward(s,a)) + γ*( sum(T[s,s1,a,k]*(V[s1,k]) for (s1) in 1:10 ))\n",
    "    end\n",
    "            V[s,k]=findmax(Q[s,1:2,k])[1]\n",
    "        end\n",
    "    end\n",
    "        end\n",
    "    return Q,V\n",
    "    end"
   ]
  },
  {
   "cell_type": "code",
   "execution_count": 10,
   "metadata": {},
   "outputs": [
    {
     "data": {
      "text/plain": [
       "decison (generic function with 2 methods)"
      ]
     },
     "execution_count": 10,
     "metadata": {},
     "output_type": "execute_result"
    }
   ],
   "source": [
    "\n",
    "# function decison(Q, s)\n",
    "#    a_final=[]\n",
    "#    if Number_level in s\n",
    "# #         print(\"hi\")\n",
    "#         d=(collect(Iterators.product((Q[s[i],2:3] for i in 1:NumberUnits)...)))\n",
    "#         d1=(collect(Iterators.product((2:3 for i in 1:NumberUnits)...)))\n",
    "#         min=-1e+10\n",
    "#         opt=0\n",
    "#         for (i,j) in enumerate(d)\n",
    "#             if min < sum((j))\n",
    "#                 min=sum((j))\n",
    "#                 opt=i\n",
    "#             end\n",
    "#         end\n",
    "#         return d1[opt]\n",
    "#     end\n",
    "#     q0=0.0\n",
    "#     a_0=repeat(1:1,NumberUnits);\n",
    "#     for i in 1:NumberUnits\n",
    "#             q0+=Q[s[i],1]\n",
    "#     end\n",
    "#     d=(collect(Iterators.product((Q[s[i],2:3] for i in 1:NumberUnits)...)))\n",
    "#     d1=(collect(Iterators.product((2:3 for i in 1:NumberUnits)...)))\n",
    "# #     d[1]=a_0\n",
    "# #     print(\"here\")\n",
    "# #     d1[1]=(1,1,1,1,1,1,1,1,1,1)\n",
    "#     min=-1e+10\n",
    "#     opt=0\n",
    "#     for (i,j) in enumerate(d)\n",
    "#         if i==1\n",
    "#             if min < q0\n",
    "#             min=q0\n",
    "#             opt=i\n",
    "#         end\n",
    "#         elseif min < sum((j))\n",
    "#             min=sum((j))\n",
    "#             opt=i\n",
    "#         end\n",
    "#     end\n",
    "#     if opt==1\n",
    "#         return a_0\n",
    "#     else\n",
    "#         return d1[opt]\n",
    "#     end\n",
    "#     return opt\n",
    "# end\n",
    "\n",
    "\n",
    "function decison(Q, s,n=0.2)\n",
    "   a_final=[]\n",
    "   if true\n",
    "#         print(\"hi\")\n",
    "        for i in 1:NumberUnits\n",
    "            append!(a_final,argmax(a->Q[s[i],a,i], [1,2]))\n",
    "            end\n",
    "        return a_final\n",
    "    end\n",
    "end"
   ]
  },
  {
   "cell_type": "code",
   "execution_count": 11,
   "metadata": {},
   "outputs": [
    {
     "data": {
      "text/html": [
       "<div><div style = \"float: left;\"><span>0×10 DataFrame</span></div><div style = \"clear: both;\"></div></div><div class = \"data-frame\" style = \"overflow-x: scroll;\"><table class = \"data-frame\" style = \"margin-bottom: 6px;\"><thead><tr class = \"header\"><th class = \"rowNumber\" style = \"font-weight: bold; text-align: right;\">Row</th><th style = \"text-align: left;\">u</th><th style = \"text-align: left;\">K</th><th style = \"text-align: left;\">n</th><th style = \"text-align: left;\">s</th><th style = \"text-align: left;\">m</th><th style = \"text-align: left;\">f</th><th style = \"text-align: left;\">p</th><th style = \"text-align: left;\">lamb</th><th style = \"text-align: left;\">mean</th><th style = \"text-align: left;\">std</th></tr><tr class = \"subheader headerLastRow\"><th class = \"rowNumber\" style = \"font-weight: bold; text-align: right;\"></th><th title = \"Any\" style = \"text-align: left;\">Any</th><th title = \"Any\" style = \"text-align: left;\">Any</th><th title = \"Any\" style = \"text-align: left;\">Any</th><th title = \"Any\" style = \"text-align: left;\">Any</th><th title = \"Any\" style = \"text-align: left;\">Any</th><th title = \"Any\" style = \"text-align: left;\">Any</th><th title = \"Any\" style = \"text-align: left;\">Any</th><th title = \"Any\" style = \"text-align: left;\">Any</th><th title = \"Any\" style = \"text-align: left;\">Any</th><th title = \"Any\" style = \"text-align: left;\">Any</th></tr></thead><tbody></tbody></table></div>"
      ],
      "text/latex": [
       "\\begin{tabular}{r|cccccccccc}\n",
       "\t& u & K & n & s & m & f & p & lamb & mean & std\\\\\n",
       "\t\\hline\n",
       "\t& Any & Any & Any & Any & Any & Any & Any & Any & Any & Any\\\\\n",
       "\t\\hline\n",
       "\\end{tabular}\n"
      ],
      "text/plain": [
       "\u001b[1m0×10 DataFrame\u001b[0m\n",
       "\u001b[1m Row \u001b[0m│\u001b[1m u   \u001b[0m\u001b[1m K   \u001b[0m\u001b[1m n   \u001b[0m\u001b[1m s   \u001b[0m\u001b[1m m   \u001b[0m\u001b[1m f   \u001b[0m\u001b[1m p   \u001b[0m\u001b[1m lamb \u001b[0m\u001b[1m mean \u001b[0m\u001b[1m std \u001b[0m\n",
       "     │\u001b[90m Any \u001b[0m\u001b[90m Any \u001b[0m\u001b[90m Any \u001b[0m\u001b[90m Any \u001b[0m\u001b[90m Any \u001b[0m\u001b[90m Any \u001b[0m\u001b[90m Any \u001b[0m\u001b[90m Any  \u001b[0m\u001b[90m Any  \u001b[0m\u001b[90m Any \u001b[0m\n",
       "─────┴────────────────────────────────────────────────────"
      ]
     },
     "execution_count": 11,
     "metadata": {},
     "output_type": "execute_result"
    }
   ],
   "source": [
    "using DataFrames\n",
    "df= DataFrame(u=[],K=[],n=[],s=[],m=[],f=[],p=[],lamb=[],mean=[],std=[])"
   ]
  },
  {
   "cell_type": "code",
   "execution_count": 12,
   "metadata": {
    "scrolled": true
   },
   "outputs": [
    {
     "name": "stdout",
     "output_type": "stream",
     "text": [
      "60K : 2"
     ]
    },
    {
     "name": "stderr",
     "output_type": "stream",
     "text": [
      "\u001b[36m\u001b[1m[ \u001b[22m\u001b[39m\u001b[36m\u001b[1mInfo: \u001b[22m\u001b[39m started timer at: 2024-03-31T19:47:35.467\n"
     ]
    },
    {
     "name": "stdout",
     "output_type": "stream",
     "text": [
      "\n",
      "[0, -200, -100, -1200, -2000]\n",
      "false\n",
      "60\n",
      "1\n",
      "-192260.09046538177\n",
      "6361.2433817511155\n",
      "-------------------------\n",
      "60K : 2\n",
      "[0, -400, -100, -1200, -2000]\n"
     ]
    },
    {
     "name": "stderr",
     "output_type": "stream",
     "text": [
      "\u001b[36m\u001b[1m[ \u001b[22m\u001b[39m\u001b[36m\u001b[1mInfo: \u001b[22m\u001b[39m         290.7706296s: 4 minutes, 50 seconds, 770 milliseconds\n",
      "\u001b[36m\u001b[1m[ \u001b[22m\u001b[39m\u001b[36m\u001b[1mInfo: \u001b[22m\u001b[39m started timer at: 2024-03-31T19:52:26.378\n"
     ]
    },
    {
     "name": "stdout",
     "output_type": "stream",
     "text": [
      "false\n",
      "60\n",
      "1\n",
      "-195830.33453698462\n",
      "6250.638157649534\n",
      "-------------------------\n",
      "60K : 2\n",
      "[0, -600, -100, -1200, -2000]\n"
     ]
    },
    {
     "name": "stderr",
     "output_type": "stream",
     "text": [
      "\u001b[36m\u001b[1m[ \u001b[22m\u001b[39m\u001b[36m\u001b[1mInfo: \u001b[22m\u001b[39m         292.4576682s: 4 minutes, 52 seconds, 457 milliseconds\n",
      "\u001b[36m\u001b[1m[ \u001b[22m\u001b[39m\u001b[36m\u001b[1mInfo: \u001b[22m\u001b[39m started timer at: 2024-03-31T19:57:18.857\n"
     ]
    },
    {
     "name": "stdout",
     "output_type": "stream",
     "text": [
      "false\n",
      "60\n",
      "1\n",
      "-199617.19628892432\n",
      "6494.3173700499065\n"
     ]
    },
    {
     "name": "stderr",
     "output_type": "stream",
     "text": [
      "\u001b[36m\u001b[1m[ \u001b[22m\u001b[39m\u001b[36m\u001b[1mInfo: \u001b[22m\u001b[39m         299.4783612s: 4 minutes, 59 seconds, 478 milliseconds\n"
     ]
    },
    {
     "name": "stdout",
     "output_type": "stream",
     "text": [
      "-------------------------\n",
      "60K : 2\n",
      "[0, -800, -100, -1200, -2000]\n"
     ]
    },
    {
     "name": "stderr",
     "output_type": "stream",
     "text": [
      "\u001b[36m\u001b[1m[ \u001b[22m\u001b[39m\u001b[36m\u001b[1mInfo: \u001b[22m\u001b[39m started timer at: 2024-03-31T20:02:18.346\n"
     ]
    },
    {
     "name": "stdout",
     "output_type": "stream",
     "text": [
      "false\n",
      "60\n",
      "1\n",
      "-203237.36150519183\n",
      "6403.094065596283\n",
      "-------------------------\n",
      "60K : 2\n",
      "[0, "
     ]
    },
    {
     "name": "stderr",
     "output_type": "stream",
     "text": [
      "\u001b[36m\u001b[1m[ \u001b[22m\u001b[39m\u001b[36m\u001b[1mInfo: \u001b[22m\u001b[39m          291.405578s: 4 minutes, 51 seconds, 405 milliseconds\n",
      "\u001b[36m\u001b[1m[ \u001b[22m\u001b[39m\u001b[36m\u001b[1mInfo: \u001b[22m\u001b[39m started timer at: 2024-03-31T20:07:09.772\n"
     ]
    },
    {
     "name": "stdout",
     "output_type": "stream",
     "text": [
      "-1000, -100, -1200, -2000]\n",
      "false\n",
      "60\n",
      "1\n",
      "-206833.99622361804\n",
      "6363.8141223320945\n",
      "-------------------------\n",
      "60K : 2\n",
      "[0, -1200, -100, -1200, -2000]\n"
     ]
    },
    {
     "name": "stderr",
     "output_type": "stream",
     "text": [
      "\u001b[36m\u001b[1m[ \u001b[22m\u001b[39m\u001b[36m\u001b[1mInfo: \u001b[22m\u001b[39m         294.1753922s: 4 minutes, 54 seconds, 175 milliseconds\n",
      "\u001b[36m\u001b[1m[ \u001b[22m\u001b[39m\u001b[36m\u001b[1mInfo: \u001b[22m\u001b[39m started timer at: 2024-03-31T20:12:03.958\n"
     ]
    },
    {
     "name": "stdout",
     "output_type": "stream",
     "text": [
      "false\n",
      "60\n",
      "1\n",
      "-210383.37849071488\n",
      "6578.864336948965\n",
      "-------------------------\n",
      "60K : 2\n",
      "[0, -1400, -100, -1200, -2000]\n"
     ]
    },
    {
     "name": "stderr",
     "output_type": "stream",
     "text": [
      "\u001b[36m\u001b[1m[ \u001b[22m\u001b[39m\u001b[36m\u001b[1mInfo: \u001b[22m\u001b[39m         294.9617987s: 4 minutes, 54 seconds, 961 milliseconds\n",
      "\u001b[36m\u001b[1m[ \u001b[22m\u001b[39m\u001b[36m\u001b[1mInfo: \u001b[22m\u001b[39m started timer at: 2024-03-31T20:16:58.920\n"
     ]
    },
    {
     "name": "stdout",
     "output_type": "stream",
     "text": [
      "false\n",
      "60\n",
      "1\n",
      "-214013.07115004913\n",
      "6387.751544392634\n"
     ]
    },
    {
     "name": "stderr",
     "output_type": "stream",
     "text": [
      "\u001b[36m\u001b[1m[ \u001b[22m\u001b[39m\u001b[36m\u001b[1mInfo: \u001b[22m\u001b[39m         291.8514068s: 4 minutes, 51 seconds, 851 milliseconds\n"
     ]
    },
    {
     "name": "stdout",
     "output_type": "stream",
     "text": [
      "-------------------------\n",
      "60K : 2\n",
      "[0, -1600, -100, -1200, -2000]\n"
     ]
    },
    {
     "name": "stderr",
     "output_type": "stream",
     "text": [
      "\u001b[36m\u001b[1m[ \u001b[22m\u001b[39m\u001b[36m\u001b[1mInfo: \u001b[22m\u001b[39m started timer at: 2024-03-31T20:21:50.804\n"
     ]
    },
    {
     "name": "stdout",
     "output_type": "stream",
     "text": [
      "false\n",
      "60\n",
      "1\n",
      "-217644.1497317409\n",
      "6688.477663870851\n",
      "-------------------------\n",
      "60K : 2\n",
      "[0, -1800, -100, -1200, -2000]\n"
     ]
    },
    {
     "name": "stderr",
     "output_type": "stream",
     "text": [
      "\u001b[36m\u001b[1m[ \u001b[22m\u001b[39m\u001b[36m\u001b[1mInfo: \u001b[22m\u001b[39m         299.2427449s: 4 minutes, 59 seconds, 242 milliseconds\n",
      "\u001b[36m\u001b[1m[ \u001b[22m\u001b[39m\u001b[36m\u001b[1mInfo: \u001b[22m\u001b[39m started timer at: 2024-03-31T20:26:50.079\n"
     ]
    },
    {
     "name": "stdout",
     "output_type": "stream",
     "text": [
      "false\n",
      "60\n",
      "1\n",
      "-221330.14475591038\n",
      "6491.509010190545\n",
      "-------------------------\n",
      "60K : 2\n",
      "[0, -2000, -100, -1200, -2000]\n"
     ]
    },
    {
     "name": "stderr",
     "output_type": "stream",
     "text": [
      "\u001b[36m\u001b[1m[ \u001b[22m\u001b[39m\u001b[36m\u001b[1mInfo: \u001b[22m\u001b[39m         290.2069552s: 4 minutes, 50 seconds, 206 milliseconds\n",
      "\u001b[36m\u001b[1m[ \u001b[22m\u001b[39m\u001b[36m\u001b[1mInfo: \u001b[22m\u001b[39m started timer at: 2024-03-31T20:31:40.296\n"
     ]
    },
    {
     "name": "stdout",
     "output_type": "stream",
     "text": [
      "false\n",
      "60\n",
      "1\n",
      "-224934.56419300346\n",
      "6523.7968267754195\n",
      "-------------------------\n"
     ]
    },
    {
     "name": "stderr",
     "output_type": "stream",
     "text": [
      "\u001b[36m\u001b[1m[ \u001b[22m\u001b[39m\u001b[36m\u001b[1mInfo: \u001b[22m\u001b[39m         292.4621994s: 4 minutes, 52 seconds, 462 milliseconds\n",
      "\u001b[36m\u001b[1m[ \u001b[22m\u001b[39m\u001b[36m\u001b[1mInfo: \u001b[22m\u001b[39m started timer at: 2024-03-31T20:36:32.768\n"
     ]
    },
    {
     "name": "stdout",
     "output_type": "stream",
     "text": [
      "60K : 2\n",
      "[0, -2400, -100, -1200, -2000]\n",
      "false\n",
      "60\n",
      "1\n",
      "-232207.37584026955\n",
      "6606.1027027989585\n",
      "-------------------------\n",
      "60K : 2\n",
      "[0, -2800, -100, -1200, -2000]\n"
     ]
    },
    {
     "name": "stderr",
     "output_type": "stream",
     "text": [
      "\u001b[36m\u001b[1m[ \u001b[22m\u001b[39m\u001b[36m\u001b[1mInfo: \u001b[22m\u001b[39m         297.9795609s: 4 minutes, 57 seconds, 979 milliseconds\n",
      "\u001b[36m\u001b[1m[ \u001b[22m\u001b[39m\u001b[36m\u001b[1mInfo: \u001b[22m\u001b[39m started timer at: 2024-03-31T20:41:30.747\n"
     ]
    },
    {
     "name": "stdout",
     "output_type": "stream",
     "text": [
      "false\n",
      "60\n",
      "1\n",
      "-239461.16063064765\n",
      "6632.81102060395\n",
      "-------------------------\n",
      "60K : 2\n",
      "[0, -3200, -100, -1200, -2000]\n"
     ]
    },
    {
     "name": "stderr",
     "output_type": "stream",
     "text": [
      "\u001b[36m\u001b[1m[ \u001b[22m\u001b[39m\u001b[36m\u001b[1mInfo: \u001b[22m\u001b[39m         292.2041731s: 4 minutes, 52 seconds, 204 milliseconds\n",
      "\u001b[36m\u001b[1m[ \u001b[22m\u001b[39m\u001b[36m\u001b[1mInfo: \u001b[22m\u001b[39m started timer at: 2024-03-31T20:46:22.963\n"
     ]
    },
    {
     "name": "stdout",
     "output_type": "stream",
     "text": [
      "false\n",
      "60\n",
      "1\n",
      "-246659.04233588304\n",
      "6830.923306956801\n",
      "-------------------------\n",
      "60"
     ]
    },
    {
     "name": "stderr",
     "output_type": "stream",
     "text": [
      "\u001b[36m\u001b[1m[ \u001b[22m\u001b[39m\u001b[36m\u001b[1mInfo: \u001b[22m\u001b[39m         298.0523608s: 4 minutes, 58 seconds, 52 milliseconds\n",
      "\u001b[36m\u001b[1m[ \u001b[22m\u001b[39m\u001b[36m\u001b[1mInfo: \u001b[22m\u001b[39m started timer at: 2024-03-31T20:51:21.014\n"
     ]
    },
    {
     "name": "stdout",
     "output_type": "stream",
     "text": [
      "K : 4\n",
      "[0, -200, -100, -1200, -2000]\n",
      "false\n",
      "60\n",
      "1\n",
      "-185597.72284546157\n",
      "6898.934861982811\n",
      "-------------------------\n",
      "60K : 4\n"
     ]
    },
    {
     "name": "stderr",
     "output_type": "stream",
     "text": [
      "\u001b[36m\u001b[1m[ \u001b[22m\u001b[39m\u001b[36m\u001b[1mInfo: \u001b[22m\u001b[39m          290.997564s: 4 minutes, 50 seconds, 997 milliseconds\n",
      "\u001b[36m\u001b[1m[ \u001b[22m\u001b[39m\u001b[36m\u001b[1mInfo: \u001b[22m\u001b[39m started timer at: 2024-03-31T20:56:12.012\n"
     ]
    },
    {
     "name": "stdout",
     "output_type": "stream",
     "text": [
      "[0, -400, -100, -1200, -2000]\n",
      "false\n",
      "60\n",
      "1\n",
      "-189346.29735031672\n",
      "6883.3265152493905\n",
      "-------------------------\n",
      "60K : 4\n",
      "[0, -600, -100, -1200, -2000]\n"
     ]
    },
    {
     "name": "stderr",
     "output_type": "stream",
     "text": [
      "\u001b[36m\u001b[1m[ \u001b[22m\u001b[39m\u001b[36m\u001b[1mInfo: \u001b[22m\u001b[39m         294.5027501s: 4 minutes, 54 seconds, 502 milliseconds\n",
      "\u001b[36m\u001b[1m[ \u001b[22m\u001b[39m\u001b[36m\u001b[1mInfo: \u001b[22m\u001b[39m started timer at: 2024-03-31T21:01:06.525\n"
     ]
    },
    {
     "name": "stdout",
     "output_type": "stream",
     "text": [
      "false\n",
      "60\n",
      "1\n",
      "-192852.9757660839\n",
      "7291.9697476254205\n",
      "-------------------------\n"
     ]
    },
    {
     "name": "stderr",
     "output_type": "stream",
     "text": [
      "\u001b[36m\u001b[1m[ \u001b[22m\u001b[39m\u001b[36m\u001b[1mInfo: \u001b[22m\u001b[39m         296.2508545s: 4 minutes, 56 seconds, 250 milliseconds\n"
     ]
    },
    {
     "name": "stdout",
     "output_type": "stream",
     "text": [
      "60K : 4\n",
      "[0, -800, -100, -1200, -2000]\n"
     ]
    },
    {
     "name": "stderr",
     "output_type": "stream",
     "text": [
      "\u001b[36m\u001b[1m[ \u001b[22m\u001b[39m\u001b[36m\u001b[1mInfo: \u001b[22m\u001b[39m started timer at: 2024-03-31T21:06:02.786\n"
     ]
    },
    {
     "name": "stdout",
     "output_type": "stream",
     "text": [
      "false\n",
      "60\n",
      "1\n",
      "-196564.56652525897\n",
      "6919.401487546912\n",
      "-------------------------\n",
      "60K : 4\n",
      "[0,"
     ]
    },
    {
     "name": "stderr",
     "output_type": "stream",
     "text": [
      "\u001b[36m\u001b[1m[ \u001b[22m\u001b[39m\u001b[36m\u001b[1mInfo: \u001b[22m\u001b[39m          292.236278s: 4 minutes, 52 seconds, 236 milliseconds\n",
      "\u001b[36m\u001b[1m[ \u001b[22m\u001b[39m\u001b[36m\u001b[1mInfo: \u001b[22m\u001b[39m started timer at: 2024-03-31T21:10:55.022\n"
     ]
    },
    {
     "name": "stdout",
     "output_type": "stream",
     "text": [
      " -1000, -100, -1200, -2000]\n",
      "false\n",
      "60\n",
      "1\n",
      "-200001.3036922825\n",
      "7406.081196945107\n",
      "-------------------------\n",
      "60K : 4\n",
      "[0,"
     ]
    },
    {
     "name": "stderr",
     "output_type": "stream",
     "text": [
      "\u001b[36m\u001b[1m[ \u001b[22m\u001b[39m\u001b[36m\u001b[1mInfo: \u001b[22m\u001b[39m         297.3317505s: 4 minutes, 57 seconds, 331 milliseconds\n",
      "\u001b[36m\u001b[1m[ \u001b[22m\u001b[39m\u001b[36m\u001b[1mInfo: \u001b[22m\u001b[39m started timer at: 2024-03-31T21:15:52.365\n"
     ]
    },
    {
     "name": "stdout",
     "output_type": "stream",
     "text": [
      " -1200, -100, -1200, -2000]\n",
      "false\n",
      "60\n",
      "1\n",
      "-203680.339107379\n",
      "6957.113283648373\n",
      "-------------------------\n",
      "60"
     ]
    },
    {
     "name": "stderr",
     "output_type": "stream",
     "text": [
      "\u001b[36m\u001b[1m[ \u001b[22m\u001b[39m\u001b[36m\u001b[1mInfo: \u001b[22m\u001b[39m         290.2167199s: 4 minutes, 50 seconds, 216 milliseconds\n",
      "\u001b[36m\u001b[1m[ \u001b[22m\u001b[39m\u001b[36m\u001b[1mInfo: \u001b[22m\u001b[39m started timer at: 2024-03-31T21:20:42.592\n"
     ]
    },
    {
     "name": "stdout",
     "output_type": "stream",
     "text": [
      "K : 4\n",
      "[0, -1400, -100, -1200, -2000]\n",
      "false\n",
      "60\n",
      "1\n",
      "-207342.1866793372\n",
      "6969.41972600742\n",
      "-------------------------\n",
      "60K : 4\n",
      "[0, -1600, -100, -1200, -2000]\n"
     ]
    },
    {
     "name": "stderr",
     "output_type": "stream",
     "text": [
      "\u001b[36m\u001b[1m[ \u001b[22m\u001b[39m\u001b[36m\u001b[1mInfo: \u001b[22m\u001b[39m          293.643666s: 4 minutes, 53 seconds, 643 milliseconds\n",
      "\u001b[36m\u001b[1m[ \u001b[22m\u001b[39m\u001b[36m\u001b[1mInfo: \u001b[22m\u001b[39m started timer at: 2024-03-31T21:25:36.256\n"
     ]
    },
    {
     "name": "stdout",
     "output_type": "stream",
     "text": [
      "false\n",
      "60\n",
      "1\n",
      "-210852.28713236004\n",
      "7356.023847303263\n",
      "-------------------------\n",
      "60K : 4\n",
      "[0, -1800, -100, -1200, -2000]\n"
     ]
    },
    {
     "name": "stderr",
     "output_type": "stream",
     "text": [
      "\u001b[36m\u001b[1m[ \u001b[22m\u001b[39m\u001b[36m\u001b[1mInfo: \u001b[22m\u001b[39m          295.733221s: 4 minutes, 55 seconds, 733 milliseconds\n",
      "\u001b[36m\u001b[1m[ \u001b[22m\u001b[39m\u001b[36m\u001b[1mInfo: \u001b[22m\u001b[39m started timer at: 2024-03-31T21:30:31.990\n"
     ]
    },
    {
     "name": "stdout",
     "output_type": "stream",
     "text": [
      "false\n",
      "60\n",
      "1\n",
      "-214479.87738908807\n",
      "7090.754789412066\n",
      "-------------------------\n",
      "60K : 4\n",
      "[0, -2000, -100, -1200, -2000]\n"
     ]
    },
    {
     "name": "stderr",
     "output_type": "stream",
     "text": [
      "\u001b[36m\u001b[1m[ \u001b[22m\u001b[39m\u001b[36m\u001b[1mInfo: \u001b[22m\u001b[39m         291.7810126s: 4 minutes, 51 seconds, 781 milliseconds\n",
      "\u001b[36m\u001b[1m[ \u001b[22m\u001b[39m\u001b[36m\u001b[1mInfo: \u001b[22m\u001b[39m started timer at: 2024-03-31T21:35:23.781\n"
     ]
    },
    {
     "name": "stdout",
     "output_type": "stream",
     "text": [
      "false\n",
      "60\n",
      "1\n",
      "-218176.37171626044\n",
      "7451.671295548382\n",
      "-------------------------\n",
      "60K : 4\n",
      "[0, -2400, -100, -1200, -2000]\n"
     ]
    },
    {
     "name": "stderr",
     "output_type": "stream",
     "text": [
      "\u001b[36m\u001b[1m[ \u001b[22m\u001b[39m\u001b[36m\u001b[1mInfo: \u001b[22m\u001b[39m         298.3019895s: 4 minutes, 58 seconds, 301 milliseconds\n",
      "\u001b[36m\u001b[1m[ \u001b[22m\u001b[39m\u001b[36m\u001b[1mInfo: \u001b[22m\u001b[39m started timer at: 2024-03-31T21:40:22.104\n"
     ]
    },
    {
     "name": "stdout",
     "output_type": "stream",
     "text": [
      "false\n",
      "60\n",
      "1\n",
      "-225399.98740313755\n",
      "7261.383899081889\n",
      "-------------------------\n",
      "60K : 4\n",
      "[0, -2800, -100, -1200, -2000]\n"
     ]
    },
    {
     "name": "stderr",
     "output_type": "stream",
     "text": [
      "\u001b[36m\u001b[1m[ \u001b[22m\u001b[39m\u001b[36m\u001b[1mInfo: \u001b[22m\u001b[39m         291.2881003s: 4 minutes, 51 seconds, 288 milliseconds\n",
      "\u001b[36m\u001b[1m[ \u001b[22m\u001b[39m\u001b[36m\u001b[1mInfo: \u001b[22m\u001b[39m started timer at: 2024-03-31T21:45:13.425\n"
     ]
    },
    {
     "name": "stdout",
     "output_type": "stream",
     "text": [
      "false\n",
      "60\n",
      "1\n",
      "-232594.88619299917\n",
      "7244.376468470675\n",
      "-------------------------\n",
      "60K : 4\n",
      "[0, -3200, -100, -1200, -2000]\n"
     ]
    },
    {
     "name": "stderr",
     "output_type": "stream",
     "text": [
      "\u001b[36m\u001b[1m[ \u001b[22m\u001b[39m\u001b[36m\u001b[1mInfo: \u001b[22m\u001b[39m         293.6121724s: 4 minutes, 53 seconds, 612 milliseconds\n",
      "\u001b[36m\u001b[1m[ \u001b[22m\u001b[39m\u001b[36m\u001b[1mInfo: \u001b[22m\u001b[39m started timer at: 2024-03-31T21:50:07.048\n"
     ]
    },
    {
     "name": "stdout",
     "output_type": "stream",
     "text": [
      "false\n",
      "60\n",
      "1\n",
      "-240011.58009883724\n",
      "7571.554381381504\n",
      "-------------------------\n",
      "60K : 6\n",
      "[0, -200, -100, -1200, -2000]\n"
     ]
    },
    {
     "name": "stderr",
     "output_type": "stream",
     "text": [
      "\u001b[36m\u001b[1m[ \u001b[22m\u001b[39m\u001b[36m\u001b[1mInfo: \u001b[22m\u001b[39m         296.3864531s: 4 minutes, 56 seconds, 386 milliseconds\n",
      "\u001b[36m\u001b[1m[ \u001b[22m\u001b[39m\u001b[36m\u001b[1mInfo: \u001b[22m\u001b[39m started timer at: 2024-03-31T21:55:03.445\n"
     ]
    },
    {
     "name": "stdout",
     "output_type": "stream",
     "text": [
      "false\n",
      "60\n",
      "1\n",
      "-180227.90010114954\n",
      "7150.776600620733\n",
      "-------------------------\n",
      "60K : 6\n",
      "[0, -400, -100, -1200, -2000]\n"
     ]
    },
    {
     "name": "stderr",
     "output_type": "stream",
     "text": [
      "\u001b[36m\u001b[1m[ \u001b[22m\u001b[39m\u001b[36m\u001b[1mInfo: \u001b[22m\u001b[39m         291.8205779s: 4 minutes, 51 seconds, 820 milliseconds\n",
      "\u001b[36m\u001b[1m[ \u001b[22m\u001b[39m\u001b[36m\u001b[1mInfo: \u001b[22m\u001b[39m started timer at: 2024-03-31T21:59:55.276\n"
     ]
    },
    {
     "name": "stdout",
     "output_type": "stream",
     "text": [
      "false\n",
      "60\n",
      "1\n",
      "-183895.1083793606\n",
      "7720.099523286433\n",
      "-------------------------\n",
      "60K : 6\n",
      "[0, -600, -100, -1200, -2000]\n"
     ]
    },
    {
     "name": "stderr",
     "output_type": "stream",
     "text": [
      "\u001b[36m\u001b[1m[ \u001b[22m\u001b[39m\u001b[36m\u001b[1mInfo: \u001b[22m\u001b[39m         297.5090713s: 4 minutes, 57 seconds, 509 milliseconds\n",
      "\u001b[36m\u001b[1m[ \u001b[22m\u001b[39m\u001b[36m\u001b[1mInfo: \u001b[22m\u001b[39m started timer at: 2024-03-31T22:04:52.795\n"
     ]
    },
    {
     "name": "stdout",
     "output_type": "stream",
     "text": [
      "false\n",
      "60\n",
      "1\n",
      "-187521.53643895616\n",
      "7178.032820123321\n",
      "-------------------------\n",
      "60K : 6\n"
     ]
    },
    {
     "name": "stderr",
     "output_type": "stream",
     "text": [
      "\u001b[36m\u001b[1m[ \u001b[22m\u001b[39m\u001b[36m\u001b[1mInfo: \u001b[22m\u001b[39m         291.0214535s: 4 minutes, 51 seconds, 21 milliseconds\n",
      "\u001b[36m\u001b[1m[ \u001b[22m\u001b[39m\u001b[36m\u001b[1mInfo: \u001b[22m\u001b[39m started timer at: 2024-03-31T22:09:43.827\n"
     ]
    },
    {
     "name": "stdout",
     "output_type": "stream",
     "text": [
      "[0, -800, -100, -1200, -2000]\n",
      "false\n",
      "60\n",
      "1\n",
      "-190971.97921695694\n",
      "7247.160140060703\n",
      "-------------------------\n",
      "60K : 6\n",
      "[0, -1000, -100, -1200, -2000]\n"
     ]
    },
    {
     "name": "stderr",
     "output_type": "stream",
     "text": [
      "\u001b[36m\u001b[1m[ \u001b[22m\u001b[39m\u001b[36m\u001b[1mInfo: \u001b[22m\u001b[39m         294.4566562s: 4 minutes, 54 seconds, 456 milliseconds\n",
      "\u001b[36m\u001b[1m[ \u001b[22m\u001b[39m\u001b[36m\u001b[1mInfo: \u001b[22m\u001b[39m started timer at: 2024-03-31T22:14:38.294\n"
     ]
    },
    {
     "name": "stdout",
     "output_type": "stream",
     "text": [
      "false\n",
      "60\n",
      "1\n",
      "-194657.06694422918\n",
      "7713.613387433374\n"
     ]
    },
    {
     "name": "stderr",
     "output_type": "stream",
     "text": [
      "\u001b[36m\u001b[1m[ \u001b[22m\u001b[39m\u001b[36m\u001b[1mInfo: \u001b[22m\u001b[39m         297.7287118s: 4 minutes, 57 seconds, 728 milliseconds\n"
     ]
    },
    {
     "name": "stdout",
     "output_type": "stream",
     "text": [
      "-------------------------\n",
      "60K : 6\n",
      "[0, -1200, -100, -1200, -2000]\n"
     ]
    },
    {
     "name": "stderr",
     "output_type": "stream",
     "text": [
      "\u001b[36m\u001b[1m[ \u001b[22m\u001b[39m\u001b[36m\u001b[1mInfo: \u001b[22m\u001b[39m started timer at: 2024-03-31T22:19:36.033\n"
     ]
    },
    {
     "name": "stdout",
     "output_type": "stream",
     "text": [
      "false\n",
      "60\n",
      "1\n",
      "-198335.1321975309\n",
      "7192.390711106084\n",
      "-------------------------\n",
      "60K : 6\n",
      "[0, -1400, -100, -1200, -2000]\n"
     ]
    },
    {
     "name": "stderr",
     "output_type": "stream",
     "text": [
      "\u001b[36m\u001b[1m[ \u001b[22m\u001b[39m\u001b[36m\u001b[1mInfo: \u001b[22m\u001b[39m         291.9797144s: 4 minutes, 51 seconds, 979 milliseconds\n",
      "\u001b[36m\u001b[1m[ \u001b[22m\u001b[39m\u001b[36m\u001b[1mInfo: \u001b[22m\u001b[39m started timer at: 2024-03-31T22:24:28.023\n"
     ]
    },
    {
     "name": "stdout",
     "output_type": "stream",
     "text": [
      "false\n",
      "60\n",
      "1\n",
      "-202004.24622316656\n",
      "7652.46936248396\n"
     ]
    },
    {
     "name": "stderr",
     "output_type": "stream",
     "text": [
      "\u001b[36m\u001b[1m[ \u001b[22m\u001b[39m\u001b[36m\u001b[1mInfo: \u001b[22m\u001b[39m         296.3384258s: 4 minutes, 56 seconds, 338 milliseconds\n"
     ]
    },
    {
     "name": "stdout",
     "output_type": "stream",
     "text": [
      "-------------------------\n",
      "60K : 6\n",
      "[0, -1600, -100, -1200, -2000]\n"
     ]
    },
    {
     "name": "stderr",
     "output_type": "stream",
     "text": [
      "\u001b[36m\u001b[1m[ \u001b[22m\u001b[39m\u001b[36m\u001b[1mInfo: \u001b[22m\u001b[39m started timer at: 2024-03-31T22:29:24.383\n"
     ]
    },
    {
     "name": "stdout",
     "output_type": "stream",
     "text": [
      "false\n",
      "60\n",
      "1\n",
      "-205533.17263293854\n",
      "7280.938078600026\n"
     ]
    },
    {
     "name": "stderr",
     "output_type": "stream",
     "text": [
      "\u001b[36m\u001b[1m[ \u001b[22m\u001b[39m\u001b[36m\u001b[1mInfo: \u001b[22m\u001b[39m         290.3664763s: 4 minutes, 50 seconds, 366 milliseconds\n"
     ]
    },
    {
     "name": "stdout",
     "output_type": "stream",
     "text": [
      "-------------------------\n",
      "60K : 6\n",
      "[0, -1800, -100, -1200, -2000]\n"
     ]
    },
    {
     "name": "stderr",
     "output_type": "stream",
     "text": [
      "\u001b[36m\u001b[1m[ \u001b[22m\u001b[39m\u001b[36m\u001b[1mInfo: \u001b[22m\u001b[39m started timer at: 2024-03-31T22:34:14.761\n"
     ]
    },
    {
     "name": "stdout",
     "output_type": "stream",
     "text": [
      "false\n",
      "60\n",
      "1\n",
      "-209204.22491031094\n",
      "7270.030307327122\n",
      "-------------------------\n",
      "60K : 6\n",
      "[0, -2000, -100, -1200, -2000]\n"
     ]
    },
    {
     "name": "stderr",
     "output_type": "stream",
     "text": [
      "\u001b[36m\u001b[1m[ \u001b[22m\u001b[39m\u001b[36m\u001b[1mInfo: \u001b[22m\u001b[39m         293.4348588s: 4 minutes, 53 seconds, 434 milliseconds\n",
      "\u001b[36m\u001b[1m[ \u001b[22m\u001b[39m\u001b[36m\u001b[1mInfo: \u001b[22m\u001b[39m started timer at: 2024-03-31T22:39:08.206\n"
     ]
    },
    {
     "name": "stdout",
     "output_type": "stream",
     "text": [
      "false\n",
      "60\n",
      "1\n",
      "-212789.4198287077\n",
      "7806.09814280363\n"
     ]
    },
    {
     "name": "stderr",
     "output_type": "stream",
     "text": [
      "\u001b[36m\u001b[1m[ \u001b[22m\u001b[39m\u001b[36m\u001b[1mInfo: \u001b[22m\u001b[39m          299.259038s: 4 minutes, 59 seconds, 259 milliseconds\n"
     ]
    },
    {
     "name": "stdout",
     "output_type": "stream",
     "text": [
      "-------------------------\n",
      "60K : 6\n",
      "[0, -2400, -100, -1200, -2000]\n"
     ]
    },
    {
     "name": "stderr",
     "output_type": "stream",
     "text": [
      "\u001b[36m\u001b[1m[ \u001b[22m\u001b[39m\u001b[36m\u001b[1mInfo: \u001b[22m\u001b[39m started timer at: 2024-03-31T22:44:07.498\n"
     ]
    },
    {
     "name": "stdout",
     "output_type": "stream",
     "text": [
      "false\n",
      "60\n",
      "1\n",
      "-219928.82184272548\n",
      "7431.70515052255\n",
      "-------------------------\n",
      "60K : 6\n",
      "[0, -2800, -100, -1200, -2000]\n"
     ]
    },
    {
     "name": "stderr",
     "output_type": "stream",
     "text": [
      "\u001b[36m\u001b[1m[ \u001b[22m\u001b[39m\u001b[36m\u001b[1mInfo: \u001b[22m\u001b[39m         292.2067474s: 4 minutes, 52 seconds, 206 milliseconds\n",
      "\u001b[36m\u001b[1m[ \u001b[22m\u001b[39m\u001b[36m\u001b[1mInfo: \u001b[22m\u001b[39m started timer at: 2024-03-31T22:48:59.715\n"
     ]
    },
    {
     "name": "stdout",
     "output_type": "stream",
     "text": [
      "false\n",
      "60\n",
      "1\n",
      "-227213.68328738443\n",
      "7783.597468851399\n"
     ]
    },
    {
     "name": "stderr",
     "output_type": "stream",
     "text": [
      "\u001b[36m\u001b[1m[ \u001b[22m\u001b[39m\u001b[36m\u001b[1mInfo: \u001b[22m\u001b[39m         297.0687779s: 4 minutes, 57 seconds, 68 milliseconds\n"
     ]
    },
    {
     "name": "stdout",
     "output_type": "stream",
     "text": [
      "-------------------------\n",
      "60K : 6\n",
      "[0, -3200, -100, -1200, -2000]\n"
     ]
    },
    {
     "name": "stderr",
     "output_type": "stream",
     "text": [
      "\u001b[36m\u001b[1m[ \u001b[22m\u001b[39m\u001b[36m\u001b[1mInfo: \u001b[22m\u001b[39m started timer at: 2024-03-31T22:53:56.805\n"
     ]
    },
    {
     "name": "stdout",
     "output_type": "stream",
     "text": [
      "false\n",
      "60\n",
      "1\n",
      "-234561.9723725968\n",
      "7578.56556547734\n",
      "-------------------------\n",
      "60K : 8"
     ]
    },
    {
     "name": "stderr",
     "output_type": "stream",
     "text": [
      "\u001b[36m\u001b[1m[ \u001b[22m\u001b[39m\u001b[36m\u001b[1mInfo: \u001b[22m\u001b[39m         290.7752897s: 4 minutes, 50 seconds, 775 milliseconds\n",
      "\u001b[36m\u001b[1m[ \u001b[22m\u001b[39m\u001b[36m\u001b[1mInfo: \u001b[22m\u001b[39m started timer at: 2024-03-31T22:58:47.613\n"
     ]
    },
    {
     "name": "stdout",
     "output_type": "stream",
     "text": [
      "\n",
      "[0, -200, -100, -1200, -2000]\n",
      "false\n",
      "60\n",
      "1\n",
      "-175771.93501767097\n",
      "7196.218191801447\n",
      "-------------------------\n",
      "60K : 8\n",
      "[0, -400, -100, -1200, -2000]\n"
     ]
    },
    {
     "name": "stderr",
     "output_type": "stream",
     "text": [
      "\u001b[36m\u001b[1m[ \u001b[22m\u001b[39m\u001b[36m\u001b[1mInfo: \u001b[22m\u001b[39m         294.6505417s: 4 minutes, 54 seconds, 650 milliseconds\n",
      "\u001b[36m\u001b[1m[ \u001b[22m\u001b[39m\u001b[36m\u001b[1mInfo: \u001b[22m\u001b[39m started timer at: 2024-03-31T23:03:42.284\n"
     ]
    },
    {
     "name": "stdout",
     "output_type": "stream",
     "text": [
      "false\n",
      "60\n",
      "1\n",
      "-179528.1555843448\n",
      "7810.995839986247\n",
      "-------------------------\n",
      "60K : 8\n",
      "[0, -600, -100, -1200, -2000]\n"
     ]
    },
    {
     "name": "stderr",
     "output_type": "stream",
     "text": [
      "\u001b[36m\u001b[1m[ \u001b[22m\u001b[39m\u001b[36m\u001b[1mInfo: \u001b[22m\u001b[39m         299.2122408s: 4 minutes, 59 seconds, 212 milliseconds\n",
      "\u001b[36m\u001b[1m[ \u001b[22m\u001b[39m\u001b[36m\u001b[1mInfo: \u001b[22m\u001b[39m started timer at: 2024-03-31T23:08:41.507\n"
     ]
    },
    {
     "name": "stdout",
     "output_type": "stream",
     "text": [
      "false\n",
      "60\n",
      "1\n",
      "-183169.99911850007\n",
      "7264.576270867013\n",
      "-------------------------\n",
      "60K : 8\n",
      "[0, -800, -100, -1200, -2000]\n"
     ]
    },
    {
     "name": "stderr",
     "output_type": "stream",
     "text": [
      "\u001b[36m\u001b[1m[ \u001b[22m\u001b[39m\u001b[36m\u001b[1mInfo: \u001b[22m\u001b[39m         291.3703659s: 4 minutes, 51 seconds, 370 milliseconds\n",
      "\u001b[36m\u001b[1m[ \u001b[22m\u001b[39m\u001b[36m\u001b[1mInfo: \u001b[22m\u001b[39m started timer at: 2024-03-31T23:13:32.887\n"
     ]
    },
    {
     "name": "stdout",
     "output_type": "stream",
     "text": [
      "false\n",
      "60\n",
      "1\n",
      "-186875.35910840024\n",
      "7504.833432927607\n",
      "-------------------------\n",
      "60"
     ]
    },
    {
     "name": "stderr",
     "output_type": "stream",
     "text": [
      "\u001b[36m\u001b[1m[ \u001b[22m\u001b[39m\u001b[36m\u001b[1mInfo: \u001b[22m\u001b[39m         295.4776374s: 4 minutes, 55 seconds, 477 milliseconds\n",
      "\u001b[36m\u001b[1m[ \u001b[22m\u001b[39m\u001b[36m\u001b[1mInfo: \u001b[22m\u001b[39m started timer at: 2024-03-31T23:18:28.397\n"
     ]
    },
    {
     "name": "stdout",
     "output_type": "stream",
     "text": [
      "K : 8\n",
      "[0, -1000, -100, -1200, -2000]\n",
      "false\n",
      "60\n",
      "1\n",
      "-190394.19258514975\n",
      "7277.830381217869\n"
     ]
    },
    {
     "name": "stderr",
     "output_type": "stream",
     "text": [
      "\u001b[36m\u001b[1m[ \u001b[22m\u001b[39m\u001b[36m\u001b[1mInfo: \u001b[22m\u001b[39m         291.0547589s: 4 minutes, 51 seconds, 54 milliseconds\n"
     ]
    },
    {
     "name": "stdout",
     "output_type": "stream",
     "text": [
      "-------------------------\n",
      "60K : 8\n",
      "[0, -1200, -100, -1200, -2000]\n"
     ]
    },
    {
     "name": "stderr",
     "output_type": "stream",
     "text": [
      "\u001b[36m\u001b[1m[ \u001b[22m\u001b[39m\u001b[36m\u001b[1mInfo: \u001b[22m\u001b[39m started timer at: 2024-03-31T23:23:19.462\n"
     ]
    },
    {
     "name": "stdout",
     "output_type": "stream",
     "text": [
      "false\n",
      "60\n",
      "1\n",
      "-193911.87145511433\n",
      "7292.742428590933\n",
      "-------------------------\n",
      "60K : 8\n",
      "[0, -1400, -100, -1200, -2000]\n"
     ]
    },
    {
     "name": "stderr",
     "output_type": "stream",
     "text": [
      "\u001b[36m\u001b[1m[ \u001b[22m\u001b[39m\u001b[36m\u001b[1mInfo: \u001b[22m\u001b[39m         294.1219831s: 4 minutes, 54 seconds, 121 milliseconds\n",
      "\u001b[36m\u001b[1m[ \u001b[22m\u001b[39m\u001b[36m\u001b[1mInfo: \u001b[22m\u001b[39m started timer at: 2024-03-31T23:28:13.595\n"
     ]
    },
    {
     "name": "stdout",
     "output_type": "stream",
     "text": [
      "false\n",
      "60\n",
      "1\n",
      "-197647.31747114114\n",
      "8038.037119735186\n",
      "-------------------------"
     ]
    },
    {
     "name": "stderr",
     "output_type": "stream",
     "text": [
      "\u001b[36m\u001b[1m[ \u001b[22m\u001b[39m\u001b[36m\u001b[1mInfo: \u001b[22m\u001b[39m         299.9947714s: 4 minutes, 59 seconds, 994 milliseconds\n"
     ]
    },
    {
     "name": "stdout",
     "output_type": "stream",
     "text": [
      "\n",
      "60K : 8\n",
      "[0, -1600, -100, -1200, -2000]\n"
     ]
    },
    {
     "name": "stderr",
     "output_type": "stream",
     "text": [
      "\u001b[36m\u001b[1m[ \u001b[22m\u001b[39m\u001b[36m\u001b[1mInfo: \u001b[22m\u001b[39m started timer at: 2024-03-31T23:33:13.600\n"
     ]
    },
    {
     "name": "stdout",
     "output_type": "stream",
     "text": [
      "false\n",
      "60\n",
      "1\n",
      "-201288.27726554507\n",
      "7258.07602063146\n",
      "-------------------------\n"
     ]
    },
    {
     "name": "stderr",
     "output_type": "stream",
     "text": [
      "\u001b[36m\u001b[1m[ \u001b[22m\u001b[39m\u001b[36m\u001b[1mInfo: \u001b[22m\u001b[39m         291.7247043s: 4 minutes, 51 seconds, 724 milliseconds\n",
      "\u001b[36m\u001b[1m[ \u001b[22m\u001b[39m\u001b[36m\u001b[1mInfo: \u001b[22m\u001b[39m started timer at: 2024-03-31T23:38:05.324\n"
     ]
    },
    {
     "name": "stdout",
     "output_type": "stream",
     "text": [
      "60K : 8\n",
      "[0, -1800, -100, -1200, -2000]\n",
      "false\n",
      "60\n",
      "1\n",
      "-205137.52048688295\n",
      "7590.877736510445\n",
      "-------------------------\n",
      "60K : 8\n",
      "[0, -2000, -100, -1200, -2000]\n"
     ]
    },
    {
     "name": "stderr",
     "output_type": "stream",
     "text": [
      "\u001b[36m\u001b[1m[ \u001b[22m\u001b[39m\u001b[36m\u001b[1mInfo: \u001b[22m\u001b[39m         295.3764237s: 4 minutes, 55 seconds, 376 milliseconds\n",
      "\u001b[36m\u001b[1m[ \u001b[22m\u001b[39m\u001b[36m\u001b[1mInfo: \u001b[22m\u001b[39m started timer at: 2024-03-31T23:43:00.734\n"
     ]
    },
    {
     "name": "stdout",
     "output_type": "stream",
     "text": [
      "false\n",
      "60\n",
      "1\n",
      "-208566.56543528428\n",
      "7262.69546374449\n",
      "-------------------------\n",
      "60K : 8\n",
      "[0, -2400, -100, -1200, -2000]\n"
     ]
    },
    {
     "name": "stderr",
     "output_type": "stream",
     "text": [
      "\u001b[36m\u001b[1m[ \u001b[22m\u001b[39m\u001b[36m\u001b[1mInfo: \u001b[22m\u001b[39m         291.8482471s: 4 minutes, 51 seconds, 848 milliseconds\n",
      "\u001b[36m\u001b[1m[ \u001b[22m\u001b[39m\u001b[36m\u001b[1mInfo: \u001b[22m\u001b[39m started timer at: 2024-03-31T23:47:52.603\n"
     ]
    },
    {
     "name": "stdout",
     "output_type": "stream",
     "text": [
      "false\n",
      "60\n",
      "1\n",
      "-215778.13017200312\n",
      "7357.946982250456\n",
      "-------------------------\n",
      "60K : 8\n",
      "[0, -2800, -100, -1200, -2000]\n"
     ]
    },
    {
     "name": "stderr",
     "output_type": "stream",
     "text": [
      "\u001b[36m\u001b[1m[ \u001b[22m\u001b[39m\u001b[36m\u001b[1mInfo: \u001b[22m\u001b[39m         293.3760148s: 4 minutes, 53 seconds, 376 milliseconds\n",
      "\u001b[36m\u001b[1m[ \u001b[22m\u001b[39m\u001b[36m\u001b[1mInfo: \u001b[22m\u001b[39m started timer at: 2024-03-31T23:52:45.989\n"
     ]
    },
    {
     "name": "stdout",
     "output_type": "stream",
     "text": [
      "false\n",
      "60\n",
      "1\n",
      "-222988.60576109696\n",
      "8221.782994003097\n",
      "-------------------------\n",
      "60K : 8\n",
      "[0, -3200, -100, -1200, -2000]\n"
     ]
    },
    {
     "name": "stderr",
     "output_type": "stream",
     "text": [
      "\u001b[36m\u001b[1m[ \u001b[22m\u001b[39m\u001b[36m\u001b[1mInfo: \u001b[22m\u001b[39m         301.2303335s: 5 minutes, 1 second, 230 milliseconds\n",
      "\u001b[36m\u001b[1m[ \u001b[22m\u001b[39m\u001b[36m\u001b[1mInfo: \u001b[22m\u001b[39m started timer at: 2024-03-31T23:57:47.218\n"
     ]
    },
    {
     "name": "stdout",
     "output_type": "stream",
     "text": [
      "false\n",
      "60\n",
      "1\n",
      "-230284.1717058566\n",
      "7514.110476626111\n",
      "-------------------------\n",
      "60K : 10\n",
      "[0, -200, -100, -1200, -2000]\n"
     ]
    },
    {
     "name": "stderr",
     "output_type": "stream",
     "text": [
      "\u001b[36m\u001b[1m[ \u001b[22m\u001b[39m\u001b[36m\u001b[1mInfo: \u001b[22m\u001b[39m         291.6322023s: 4 minutes, 51 seconds, 632 milliseconds\n",
      "\u001b[36m\u001b[1m[ \u001b[22m\u001b[39m\u001b[36m\u001b[1mInfo: \u001b[22m\u001b[39m started timer at: 2024-04-01T00:02:38.862\n"
     ]
    },
    {
     "name": "stdout",
     "output_type": "stream",
     "text": [
      "false\n",
      "60\n",
      "1\n",
      "-172345.98083263828\n",
      "7310.494544394014\n",
      "-------------------------\n",
      "60K : 10\n",
      "[0, -400, -100, -1200, -2000]\n"
     ]
    },
    {
     "name": "stderr",
     "output_type": "stream",
     "text": [
      "\u001b[36m\u001b[1m[ \u001b[22m\u001b[39m\u001b[36m\u001b[1mInfo: \u001b[22m\u001b[39m         295.0772654s: 4 minutes, 55 seconds, 77 milliseconds\n",
      "\u001b[36m\u001b[1m[ \u001b[22m\u001b[39m\u001b[36m\u001b[1mInfo: \u001b[22m\u001b[39m started timer at: 2024-04-01T00:07:33.939\n"
     ]
    },
    {
     "name": "stdout",
     "output_type": "stream",
     "text": [
      "false\n",
      "60\n",
      "1\n",
      "-176153.77791894833\n",
      "7041.275581594637\n",
      "-------------------------\n",
      "60K : 10\n",
      "[0, -600, -100, -1200, -2000]\n"
     ]
    },
    {
     "name": "stderr",
     "output_type": "stream",
     "text": [
      "\u001b[36m\u001b[1m[ \u001b[22m\u001b[39m\u001b[36m\u001b[1mInfo: \u001b[22m\u001b[39m         292.5994734s: 4 minutes, 52 seconds, 599 milliseconds\n",
      "\u001b[36m\u001b[1m[ \u001b[22m\u001b[39m\u001b[36m\u001b[1mInfo: \u001b[22m\u001b[39m started timer at: 2024-04-01T00:12:26.549\n"
     ]
    },
    {
     "name": "stdout",
     "output_type": "stream",
     "text": [
      "false\n",
      "60\n",
      "1\n",
      "-179694.74559675495\n",
      "7133.14592834735\n",
      "-------------------------\n",
      "60K : 10\n",
      "[0, -800, -100, -1200, -2000]\n"
     ]
    },
    {
     "name": "stderr",
     "output_type": "stream",
     "text": [
      "\u001b[36m\u001b[1m[ \u001b[22m\u001b[39m\u001b[36m\u001b[1mInfo: \u001b[22m\u001b[39m         293.8509645s: 4 minutes, 53 seconds, 850 milliseconds\n",
      "\u001b[36m\u001b[1m[ \u001b[22m\u001b[39m\u001b[36m\u001b[1mInfo: \u001b[22m\u001b[39m started timer at: 2024-04-01T00:17:20.421\n"
     ]
    },
    {
     "name": "stdout",
     "output_type": "stream",
     "text": [
      "false\n",
      "60\n",
      "1\n",
      "-183322.67435627853\n",
      "7945.53058192847\n",
      "-------------------------\n",
      "60K : 10\n",
      "[0, -1000, -100, -1200, -2000]\n"
     ]
    },
    {
     "name": "stderr",
     "output_type": "stream",
     "text": [
      "\u001b[36m\u001b[1m[ \u001b[22m\u001b[39m\u001b[36m\u001b[1mInfo: \u001b[22m\u001b[39m         301.0585892s: 5 minutes, 1 second, 58 milliseconds\n",
      "\u001b[36m\u001b[1m[ \u001b[22m\u001b[39m\u001b[36m\u001b[1mInfo: \u001b[22m\u001b[39m started timer at: 2024-04-01T00:22:21.491\n"
     ]
    },
    {
     "name": "stdout",
     "output_type": "stream",
     "text": [
      "false\n",
      "60\n",
      "1\n",
      "-187012.46040135217\n",
      "7075.263019748694\n",
      "-------------------------\n",
      "60K : 10\n",
      "[0, -1200, -100, -1200, -2000]\n"
     ]
    },
    {
     "name": "stderr",
     "output_type": "stream",
     "text": [
      "\u001b[36m\u001b[1m[ \u001b[22m\u001b[39m\u001b[36m\u001b[1mInfo: \u001b[22m\u001b[39m         290.8312723s: 4 minutes, 50 seconds, 831 milliseconds\n",
      "\u001b[36m\u001b[1m[ \u001b[22m\u001b[39m\u001b[36m\u001b[1mInfo: \u001b[22m\u001b[39m started timer at: 2024-04-01T00:27:12.343\n"
     ]
    },
    {
     "name": "stdout",
     "output_type": "stream",
     "text": [
      "false\n",
      "60\n",
      "1\n",
      "-190607.44015089708\n",
      "7285.808822564535\n",
      "-------------------------\n",
      "60"
     ]
    },
    {
     "name": "stderr",
     "output_type": "stream",
     "text": [
      "\u001b[36m\u001b[1m[ \u001b[22m\u001b[39m\u001b[36m\u001b[1mInfo: \u001b[22m\u001b[39m         294.9017298s: 4 minutes, 54 seconds, 901 milliseconds\n",
      "\u001b[36m\u001b[1m[ \u001b[22m\u001b[39m\u001b[36m\u001b[1mInfo: \u001b[22m\u001b[39m started timer at: 2024-04-01T00:32:07.266\n"
     ]
    },
    {
     "name": "stdout",
     "output_type": "stream",
     "text": [
      "K : 10\n",
      "[0, -1400, -100, -1200, -2000]\n",
      "false\n",
      "60\n",
      "1\n",
      "-194053.11731576637\n",
      "7095.486755812722\n",
      "-------------------------\n",
      "60K : 10\n",
      "[0, -1600, -100, -1200, -2000]\n"
     ]
    },
    {
     "name": "stderr",
     "output_type": "stream",
     "text": [
      "\u001b[36m\u001b[1m[ \u001b[22m\u001b[39m\u001b[36m\u001b[1mInfo: \u001b[22m\u001b[39m          291.177113s: 4 minutes, 51 seconds, 177 milliseconds\n",
      "\u001b[36m\u001b[1m[ \u001b[22m\u001b[39m\u001b[36m\u001b[1mInfo: \u001b[22m\u001b[39m started timer at: 2024-04-01T00:36:58.443\n"
     ]
    },
    {
     "name": "stdout",
     "output_type": "stream",
     "text": [
      "false\n",
      "60\n",
      "1\n",
      "-197717.313287677\n",
      "7194.624649022626\n",
      "-------------------------\n",
      "60K : 10\n",
      "[0, -1800, -100, -1200, -2000]\n"
     ]
    },
    {
     "name": "stderr",
     "output_type": "stream",
     "text": [
      "\u001b[36m\u001b[1m[ \u001b[22m\u001b[39m\u001b[36m\u001b[1mInfo: \u001b[22m\u001b[39m         295.8602926s: 4 minutes, 55 seconds, 860 milliseconds\n",
      "\u001b[36m\u001b[1m[ \u001b[22m\u001b[39m\u001b[36m\u001b[1mInfo: \u001b[22m\u001b[39m started timer at: 2024-04-01T00:41:54.313\n"
     ]
    },
    {
     "name": "stdout",
     "output_type": "stream",
     "text": [
      "false\n",
      "60\n",
      "1\n",
      "-201391.31608681477\n",
      "8030.66160435513\n",
      "-------------------------\n",
      "60K : 10\n",
      "[0, -2000, -100, -1200, -2000]\n"
     ]
    },
    {
     "name": "stderr",
     "output_type": "stream",
     "text": [
      "\u001b[36m\u001b[1m[ \u001b[22m\u001b[39m\u001b[36m\u001b[1mInfo: \u001b[22m\u001b[39m          302.305041s: 5 minutes, 2 seconds, 305 milliseconds\n",
      "\u001b[36m\u001b[1m[ \u001b[22m\u001b[39m\u001b[36m\u001b[1mInfo: \u001b[22m\u001b[39m started timer at: 2024-04-01T00:46:56.618\n"
     ]
    },
    {
     "name": "stdout",
     "output_type": "stream",
     "text": [
      "false\n",
      "60\n",
      "1\n",
      "-205022.76756268597\n",
      "7193.427255537353\n",
      "-------------------------"
     ]
    },
    {
     "name": "stderr",
     "output_type": "stream",
     "text": [
      "\u001b[36m\u001b[1m[ \u001b[22m\u001b[39m\u001b[36m\u001b[1mInfo: \u001b[22m\u001b[39m         291.3285539s: 4 minutes, 51 seconds, 328 milliseconds\n"
     ]
    },
    {
     "name": "stdout",
     "output_type": "stream",
     "text": [
      "\n",
      "60K : 10\n",
      "[0, -2400, -100, -1200, -2000]\n"
     ]
    },
    {
     "name": "stderr",
     "output_type": "stream",
     "text": [
      "\u001b[36m\u001b[1m[ \u001b[22m\u001b[39m\u001b[36m\u001b[1mInfo: \u001b[22m\u001b[39m started timer at: 2024-04-01T00:51:47.969\n"
     ]
    },
    {
     "name": "stdout",
     "output_type": "stream",
     "text": [
      "false\n",
      "60\n",
      "1\n",
      "-212247.37625029747\n",
      "7432.078519653065\n",
      "-------------------------\n",
      "60K : 10\n",
      "[0, -2800, -100, -1200, -2000]\n"
     ]
    },
    {
     "name": "stderr",
     "output_type": "stream",
     "text": [
      "\u001b[36m\u001b[1m[ \u001b[22m\u001b[39m\u001b[36m\u001b[1mInfo: \u001b[22m\u001b[39m         293.7886032s: 4 minutes, 53 seconds, 788 milliseconds\n",
      "\u001b[36m\u001b[1m[ \u001b[22m\u001b[39m\u001b[36m\u001b[1mInfo: \u001b[22m\u001b[39m started timer at: 2024-04-01T00:56:41.768\n"
     ]
    },
    {
     "name": "stdout",
     "output_type": "stream",
     "text": [
      "false\n",
      "60\n",
      "1\n",
      "-219622.32375655594\n",
      "7363.717226432453\n",
      "-------------------------\n",
      "60K : 10\n",
      "[0, -3200, -100, -1200, -2000]\n"
     ]
    },
    {
     "name": "stderr",
     "output_type": "stream",
     "text": [
      "\u001b[36m\u001b[1m[ \u001b[22m\u001b[39m\u001b[36m\u001b[1mInfo: \u001b[22m\u001b[39m         291.6681624s: 4 minutes, 51 seconds, 668 milliseconds\n",
      "\u001b[36m\u001b[1m[ \u001b[22m\u001b[39m\u001b[36m\u001b[1mInfo: \u001b[22m\u001b[39m started timer at: 2024-04-01T01:01:33.436\n"
     ]
    },
    {
     "name": "stdout",
     "output_type": "stream",
     "text": [
      "false\n",
      "60\n",
      "1\n",
      "-226796.3716497699\n",
      "7399.325481835682\n",
      "-------------------------\n",
      "60K : 12\n",
      "[0, -200, -100, -1200, -2000]\n"
     ]
    },
    {
     "name": "stderr",
     "output_type": "stream",
     "text": [
      "\u001b[36m\u001b[1m[ \u001b[22m\u001b[39m\u001b[36m\u001b[1mInfo: \u001b[22m\u001b[39m         293.8434324s: 4 minutes, 53 seconds, 843 milliseconds\n",
      "\u001b[36m\u001b[1m[ \u001b[22m\u001b[39m\u001b[36m\u001b[1mInfo: \u001b[22m\u001b[39m started timer at: 2024-04-01T01:06:27.290\n"
     ]
    },
    {
     "name": "stdout",
     "output_type": "stream",
     "text": [
      "false\n",
      "60\n",
      "1\n",
      "-169783.11593985956\n",
      "7698.845879848173\n",
      "-------------------------\n",
      "60K : 12\n",
      "[0, -400, -100, -1200, -2000]\n"
     ]
    },
    {
     "name": "stderr",
     "output_type": "stream",
     "text": [
      "\u001b[36m\u001b[1m[ \u001b[22m\u001b[39m\u001b[36m\u001b[1mInfo: \u001b[22m\u001b[39m         302.7818922s: 5 minutes, 2 seconds, 781 milliseconds\n",
      "\u001b[36m\u001b[1m[ \u001b[22m\u001b[39m\u001b[36m\u001b[1mInfo: \u001b[22m\u001b[39m started timer at: 2024-04-01T01:11:30.082\n"
     ]
    },
    {
     "name": "stdout",
     "output_type": "stream",
     "text": [
      "false\n",
      "60\n",
      "1\n",
      "-173368.1863924987\n",
      "6875.213201769813\n",
      "-------------------------\n",
      "60K : 12\n",
      "[0, -600, -100, -1200, -2000]\n"
     ]
    },
    {
     "name": "stderr",
     "output_type": "stream",
     "text": [
      "\u001b[36m\u001b[1m[ \u001b[22m\u001b[39m\u001b[36m\u001b[1mInfo: \u001b[22m\u001b[39m         290.9365402s: 4 minutes, 50 seconds, 936 milliseconds\n",
      "\u001b[36m\u001b[1m[ \u001b[22m\u001b[39m\u001b[36m\u001b[1mInfo: \u001b[22m\u001b[39m started timer at: 2024-04-01T01:16:21.029\n"
     ]
    },
    {
     "name": "stdout",
     "output_type": "stream",
     "text": [
      "false\n",
      "60\n",
      "1\n",
      "-176982.05255628517\n",
      "6925.2800474621135\n",
      "-------------------------\n",
      "60K : 12\n",
      "[0, -800, -100, -1200, -2000]\n"
     ]
    },
    {
     "name": "stderr",
     "output_type": "stream",
     "text": [
      "\u001b[36m\u001b[1m[ \u001b[22m\u001b[39m\u001b[36m\u001b[1mInfo: \u001b[22m\u001b[39m         293.6443777s: 4 minutes, 53 seconds, 644 milliseconds\n",
      "\u001b[36m\u001b[1m[ \u001b[22m\u001b[39m\u001b[36m\u001b[1mInfo: \u001b[22m\u001b[39m started timer at: 2024-04-01T01:21:14.684\n"
     ]
    },
    {
     "name": "stdout",
     "output_type": "stream",
     "text": [
      "false\n",
      "60\n",
      "1\n",
      "-180597.3776252348\n",
      "7138.244976157386\n",
      "-------------------------\n",
      "60K : 12\n",
      "[0, -1000, -100, -1200, -2000]\n"
     ]
    },
    {
     "name": "stderr",
     "output_type": "stream",
     "text": [
      "\u001b[36m\u001b[1m[ \u001b[22m\u001b[39m\u001b[36m\u001b[1mInfo: \u001b[22m\u001b[39m         293.4618045s: 4 minutes, 53 seconds, 461 milliseconds\n",
      "\u001b[36m\u001b[1m[ \u001b[22m\u001b[39m\u001b[36m\u001b[1mInfo: \u001b[22m\u001b[39m started timer at: 2024-04-01T01:26:08.146\n"
     ]
    },
    {
     "name": "stdout",
     "output_type": "stream",
     "text": [
      "false\n",
      "60\n",
      "1\n",
      "-184391.12598327827\n",
      "6895.553230055057\n",
      "-------------------------\n",
      "60K : 12\n"
     ]
    },
    {
     "name": "stderr",
     "output_type": "stream",
     "text": [
      "\u001b[36m\u001b[1m[ \u001b[22m\u001b[39m\u001b[36m\u001b[1mInfo: \u001b[22m\u001b[39m          294.733519s: 4 minutes, 54 seconds, 733 milliseconds\n",
      "\u001b[36m\u001b[1m[ \u001b[22m\u001b[39m\u001b[36m\u001b[1mInfo: \u001b[22m\u001b[39m started timer at: 2024-04-01T01:31:02.900\n"
     ]
    },
    {
     "name": "stdout",
     "output_type": "stream",
     "text": [
      "[0, -1200, -100, -1200, -2000]\n",
      "false\n",
      "60\n",
      "1\n",
      "-187950.02284989812\n",
      "7685.64574465639\n",
      "-------------------------\n",
      "60K : 12\n",
      "[0, -1400, -100, -1200, -2000]\n"
     ]
    },
    {
     "name": "stderr",
     "output_type": "stream",
     "text": [
      "\u001b[36m\u001b[1m[ \u001b[22m\u001b[39m\u001b[36m\u001b[1mInfo: \u001b[22m\u001b[39m         301.1395871s: 5 minutes, 1 second, 139 milliseconds\n",
      "\u001b[36m\u001b[1m[ \u001b[22m\u001b[39m\u001b[36m\u001b[1mInfo: \u001b[22m\u001b[39m started timer at: 2024-04-01T01:36:04.050\n"
     ]
    },
    {
     "name": "stdout",
     "output_type": "stream",
     "text": [
      "false\n",
      "60\n",
      "1\n",
      "-191550.83988714527\n",
      "7022.073821624323\n",
      "-------------------------\n",
      "60K : 12\n",
      "[0, -1600, "
     ]
    },
    {
     "name": "stderr",
     "output_type": "stream",
     "text": [
      "\u001b[36m\u001b[1m[ \u001b[22m\u001b[39m\u001b[36m\u001b[1mInfo: \u001b[22m\u001b[39m         291.4229504s: 4 minutes, 51 seconds, 422 milliseconds\n",
      "\u001b[36m\u001b[1m[ \u001b[22m\u001b[39m\u001b[36m\u001b[1mInfo: \u001b[22m\u001b[39m started timer at: 2024-04-01T01:40:55.494\n"
     ]
    },
    {
     "name": "stdout",
     "output_type": "stream",
     "text": [
      "-100, -1200, -2000]\n",
      "false\n",
      "60\n",
      "1\n",
      "-195145.68482876752\n",
      "7039.198669882423\n",
      "-------------------------\n",
      "60K : 12\n",
      "[0, -1800, -100, -1200, -2000"
     ]
    },
    {
     "name": "stderr",
     "output_type": "stream",
     "text": [
      "\u001b[36m\u001b[1m[ \u001b[22m\u001b[39m\u001b[36m\u001b[1mInfo: \u001b[22m\u001b[39m         295.7758935s: 4 minutes, 55 seconds, 775 milliseconds\n",
      "\u001b[36m\u001b[1m[ \u001b[22m\u001b[39m\u001b[36m\u001b[1mInfo: \u001b[22m\u001b[39m started timer at: 2024-04-01T01:45:51.269\n"
     ]
    },
    {
     "name": "stdout",
     "output_type": "stream",
     "text": [
      "]\n",
      "false\n",
      "60\n",
      "1\n",
      "-198823.36819185768\n",
      "7257.987965032956\n",
      "-------------------------\n",
      "60K : 12\n",
      "[0, -2000, -100, -1200, -2000]\n"
     ]
    },
    {
     "name": "stderr",
     "output_type": "stream",
     "text": [
      "\u001b[36m\u001b[1m[ \u001b[22m\u001b[39m\u001b[36m\u001b[1mInfo: \u001b[22m\u001b[39m         294.1865875s: 4 minutes, 54 seconds, 186 milliseconds\n",
      "\u001b[36m\u001b[1m[ \u001b[22m\u001b[39m\u001b[36m\u001b[1mInfo: \u001b[22m\u001b[39m started timer at: 2024-04-01T01:50:45.478\n"
     ]
    },
    {
     "name": "stdout",
     "output_type": "stream",
     "text": [
      "false\n",
      "60\n",
      "1\n",
      "-202375.94145860482\n",
      "7078.462942786765\n",
      "-------------------------\n",
      "60K : 12"
     ]
    },
    {
     "name": "stderr",
     "output_type": "stream",
     "text": [
      "\u001b[36m\u001b[1m[ \u001b[22m\u001b[39m\u001b[36m\u001b[1mInfo: \u001b[22m\u001b[39m         293.7465962s: 4 minutes, 53 seconds, 746 milliseconds\n",
      "\u001b[36m\u001b[1m[ \u001b[22m\u001b[39m\u001b[36m\u001b[1mInfo: \u001b[22m\u001b[39m started timer at: 2024-04-01T01:55:39.235\n"
     ]
    },
    {
     "name": "stdout",
     "output_type": "stream",
     "text": [
      "\n",
      "[0, -2400, -100, -1200, -2000]\n",
      "false\n",
      "60\n",
      "1\n",
      "-209687.2268582873\n",
      "7568.075085499087\n",
      "-------------------------\n",
      "60K : 12\n",
      "[0, -2800, -100, -1200, -2000]\n"
     ]
    },
    {
     "name": "stderr",
     "output_type": "stream",
     "text": [
      "\u001b[36m\u001b[1m[ \u001b[22m\u001b[39m\u001b[36m\u001b[1mInfo: \u001b[22m\u001b[39m         299.6589896s: 4 minutes, 59 seconds, 658 milliseconds\n",
      "\u001b[36m\u001b[1m[ \u001b[22m\u001b[39m\u001b[36m\u001b[1mInfo: \u001b[22m\u001b[39m started timer at: 2024-04-01T02:00:38.904\n"
     ]
    },
    {
     "name": "stdout",
     "output_type": "stream",
     "text": [
      "false\n",
      "60\n",
      "1\n",
      "-216999.34053263153\n",
      "7090.565283961824\n"
     ]
    },
    {
     "name": "stderr",
     "output_type": "stream",
     "text": [
      "\u001b[36m\u001b[1m[ \u001b[22m\u001b[39m\u001b[36m\u001b[1mInfo: \u001b[22m\u001b[39m         290.5189278s: 4 minutes, 50 seconds, 518 milliseconds\n"
     ]
    },
    {
     "name": "stdout",
     "output_type": "stream",
     "text": [
      "-------------------------\n",
      "60K : 12\n",
      "[0, -3200, -100, -1200, -2000]\n"
     ]
    },
    {
     "name": "stderr",
     "output_type": "stream",
     "text": [
      "\u001b[36m\u001b[1m[ \u001b[22m\u001b[39m\u001b[36m\u001b[1mInfo: \u001b[22m\u001b[39m started timer at: 2024-04-01T02:05:29.433\n"
     ]
    },
    {
     "name": "stdout",
     "output_type": "stream",
     "text": [
      "false\n",
      "60\n",
      "1\n",
      "-224135.72471147223\n",
      "7196.533187240876\n",
      "-------------------------\n",
      "60K : 14\n",
      "[0, -200, -100, -1200, -2000]\n"
     ]
    },
    {
     "name": "stderr",
     "output_type": "stream",
     "text": [
      "\u001b[36m\u001b[1m[ \u001b[22m\u001b[39m\u001b[36m\u001b[1mInfo: \u001b[22m\u001b[39m         294.0798152s: 4 minutes, 54 seconds, 79 milliseconds\n",
      "\u001b[36m\u001b[1m[ \u001b[22m\u001b[39m\u001b[36m\u001b[1mInfo: \u001b[22m\u001b[39m started timer at: 2024-04-01T02:10:23.524\n"
     ]
    },
    {
     "name": "stdout",
     "output_type": "stream",
     "text": [
      "false\n",
      "60\n",
      "1\n",
      "-167627.84847529707\n",
      "6971.389281768583\n",
      "-------------------------\n",
      "60K : 14\n",
      "[0, -400, -100, -1200, -2000]\n"
     ]
    },
    {
     "name": "stderr",
     "output_type": "stream",
     "text": [
      "\u001b[36m\u001b[1m[ \u001b[22m\u001b[39m\u001b[36m\u001b[1mInfo: \u001b[22m\u001b[39m         295.3544666s: 4 minutes, 55 seconds, 354 milliseconds\n",
      "\u001b[36m\u001b[1m[ \u001b[22m\u001b[39m\u001b[36m\u001b[1mInfo: \u001b[22m\u001b[39m started timer at: 2024-04-01T02:15:18.889\n"
     ]
    },
    {
     "name": "stdout",
     "output_type": "stream",
     "text": [
      "false\n",
      "60\n",
      "1\n",
      "-171563.90963944347\n",
      "6609.763846562438\n"
     ]
    },
    {
     "name": "stderr",
     "output_type": "stream",
     "text": [
      "\u001b[36m\u001b[1m[ \u001b[22m\u001b[39m\u001b[36m\u001b[1mInfo: \u001b[22m\u001b[39m         293.4456966s: 4 minutes, 53 seconds, 445 milliseconds\n"
     ]
    },
    {
     "name": "stdout",
     "output_type": "stream",
     "text": [
      "-------------------------\n",
      "60K : 14\n",
      "[0, -600, -100, -1200, -2000]\n"
     ]
    },
    {
     "name": "stderr",
     "output_type": "stream",
     "text": [
      "\u001b[36m\u001b[1m[ \u001b[22m\u001b[39m\u001b[36m\u001b[1mInfo: \u001b[22m\u001b[39m started timer at: 2024-04-01T02:20:12.345\n"
     ]
    },
    {
     "name": "stdout",
     "output_type": "stream",
     "text": [
      "false\n",
      "60\n",
      "1\n",
      "-174933.92179369577\n",
      "7108.5683516822655\n",
      "-------------------------\n",
      "60K : 14\n",
      "[0, -800, -100, -1200, -2000]\n"
     ]
    },
    {
     "name": "stderr",
     "output_type": "stream",
     "text": [
      "\u001b[36m\u001b[1m[ \u001b[22m\u001b[39m\u001b[36m\u001b[1mInfo: \u001b[22m\u001b[39m         299.6695698s: 4 minutes, 59 seconds, 669 milliseconds\n",
      "\u001b[36m\u001b[1m[ \u001b[22m\u001b[39m\u001b[36m\u001b[1mInfo: \u001b[22m\u001b[39m started timer at: 2024-04-01T02:25:12.036\n"
     ]
    },
    {
     "name": "stdout",
     "output_type": "stream",
     "text": [
      "false\n",
      "60\n",
      "1\n",
      "-178654.57991509783\n",
      "6678.617671095671\n",
      "-------------------------\n",
      "60K : 14\n",
      "[0, -1000, -100, -1200, -2000]\n"
     ]
    },
    {
     "name": "stderr",
     "output_type": "stream",
     "text": [
      "\u001b[36m\u001b[1m[ \u001b[22m\u001b[39m\u001b[36m\u001b[1mInfo: \u001b[22m\u001b[39m         291.3708647s: 4 minutes, 51 seconds, 370 milliseconds\n",
      "\u001b[36m\u001b[1m[ \u001b[22m\u001b[39m\u001b[36m\u001b[1mInfo: \u001b[22m\u001b[39m started timer at: 2024-04-01T02:30:03.417\n"
     ]
    },
    {
     "name": "stdout",
     "output_type": "stream",
     "text": [
      "false\n",
      "60\n",
      "1\n",
      "-182155.0116455864\n",
      "6760.594366286205\n",
      "-------------------------\n"
     ]
    },
    {
     "name": "stderr",
     "output_type": "stream",
     "text": [
      "\u001b[36m\u001b[1m[ \u001b[22m\u001b[39m\u001b[36m\u001b[1mInfo: \u001b[22m\u001b[39m         290.2227056s: 4 minutes, 50 seconds, 222 milliseconds\n",
      "\u001b[36m\u001b[1m[ \u001b[22m\u001b[39m\u001b[36m\u001b[1mInfo: \u001b[22m\u001b[39m started timer at: 2024-04-01T02:34:53.661\n"
     ]
    },
    {
     "name": "stdout",
     "output_type": "stream",
     "text": [
      "60K : 14\n",
      "[0, -1200, -100, -1200, -2000]\n",
      "false\n",
      "60\n",
      "1\n",
      "-185848.07273677588\n",
      "6941.524723390098\n",
      "-------------------------\n",
      "60K : 14\n",
      "[0, -1400, -100, -1200, -2000]\n"
     ]
    },
    {
     "name": "stderr",
     "output_type": "stream",
     "text": [
      "\u001b[36m\u001b[1m[ \u001b[22m\u001b[39m\u001b[36m\u001b[1mInfo: \u001b[22m\u001b[39m         290.6900954s: 4 minutes, 50 seconds, 690 milliseconds\n",
      "\u001b[36m\u001b[1m[ \u001b[22m\u001b[39m\u001b[36m\u001b[1mInfo: \u001b[22m\u001b[39m started timer at: 2024-04-01T02:39:44.351\n"
     ]
    },
    {
     "name": "stdout",
     "output_type": "stream",
     "text": [
      "false\n",
      "60\n",
      "1\n",
      "-189393.51243579388\n",
      "6681.502747253374\n",
      "-------------------------\n",
      "60K : 14\n",
      "[0, -1600, -100, -1200, -2000]\n"
     ]
    },
    {
     "name": "stderr",
     "output_type": "stream",
     "text": [
      "\u001b[36m\u001b[1m[ \u001b[22m\u001b[39m\u001b[36m\u001b[1mInfo: \u001b[22m\u001b[39m         290.2398997s: 4 minutes, 50 seconds, 239 milliseconds\n",
      "\u001b[36m\u001b[1m[ \u001b[22m\u001b[39m\u001b[36m\u001b[1mInfo: \u001b[22m\u001b[39m started timer at: 2024-04-01T02:44:34.602\n"
     ]
    },
    {
     "name": "stdout",
     "output_type": "stream",
     "text": [
      "false\n",
      "60\n",
      "1\n",
      "-193122.28412088045\n",
      "7323.306876886112\n",
      "-------------------------\n",
      "60K : 14\n",
      "[0, -1800, -100, -1200, -2000]\n"
     ]
    },
    {
     "name": "stderr",
     "output_type": "stream",
     "text": [
      "\u001b[36m\u001b[1m[ \u001b[22m\u001b[39m\u001b[36m\u001b[1mInfo: \u001b[22m\u001b[39m         296.5813654s: 4 minutes, 56 seconds, 581 milliseconds\n",
      "\u001b[36m\u001b[1m[ \u001b[22m\u001b[39m\u001b[36m\u001b[1mInfo: \u001b[22m\u001b[39m started timer at: 2024-04-01T02:49:31.183\n"
     ]
    },
    {
     "name": "stdout",
     "output_type": "stream",
     "text": [
      "false\n",
      "60\n",
      "1\n",
      "-196688.96374672512\n",
      "6840.471352784568\n",
      "-------------------------\n",
      "60K : 14\n",
      "[0, -2000, -100, -1200, -2000]\n"
     ]
    },
    {
     "name": "stderr",
     "output_type": "stream",
     "text": [
      "\u001b[36m\u001b[1m[ \u001b[22m\u001b[39m\u001b[36m\u001b[1mInfo: \u001b[22m\u001b[39m         288.1941771s: 4 minutes, 48 seconds, 194 milliseconds\n",
      "\u001b[36m\u001b[1m[ \u001b[22m\u001b[39m\u001b[36m\u001b[1mInfo: \u001b[22m\u001b[39m started timer at: 2024-04-01T02:54:19.409\n"
     ]
    },
    {
     "name": "stdout",
     "output_type": "stream",
     "text": [
      "false\n",
      "60\n",
      "1\n",
      "-200320.12303248304\n",
      "6858.996441342175\n"
     ]
    },
    {
     "name": "stderr",
     "output_type": "stream",
     "text": [
      "\u001b[36m\u001b[1m[ \u001b[22m\u001b[39m\u001b[36m\u001b[1mInfo: \u001b[22m\u001b[39m         290.4442903s: 4 minutes, 50 seconds, 444 milliseconds\n"
     ]
    },
    {
     "name": "stdout",
     "output_type": "stream",
     "text": [
      "-------------------------\n",
      "60K : 14\n",
      "[0, -2400, -100, -1200, -2000]\n"
     ]
    },
    {
     "name": "stderr",
     "output_type": "stream",
     "text": [
      "\u001b[36m\u001b[1m[ \u001b[22m\u001b[39m\u001b[36m\u001b[1mInfo: \u001b[22m\u001b[39m started timer at: 2024-04-01T02:59:09.864\n"
     ]
    },
    {
     "name": "stdout",
     "output_type": "stream",
     "text": [
      "false\n",
      "60\n",
      "1\n",
      "-207578.1463161262\n",
      "7060.828559059554\n",
      "-------------------------\n",
      "60K : 14\n",
      "[0, -2800, -100, -1200, -2000]\n"
     ]
    },
    {
     "name": "stderr",
     "output_type": "stream",
     "text": [
      "\u001b[36m\u001b[1m[ \u001b[22m\u001b[39m\u001b[36m\u001b[1mInfo: \u001b[22m\u001b[39m         289.9540546s: 4 minutes, 49 seconds, 954 milliseconds\n",
      "\u001b[36m\u001b[1m[ \u001b[22m\u001b[39m\u001b[36m\u001b[1mInfo: \u001b[22m\u001b[39m started timer at: 2024-04-01T03:03:59.818\n"
     ]
    },
    {
     "name": "stdout",
     "output_type": "stream",
     "text": [
      "false\n",
      "60\n",
      "1\n",
      "-214809.73330070308\n",
      "6846.191794932916\n",
      "-------------------------\n",
      "60K : 14\n",
      "[0, -3200, -100, -1200, -2000]\n"
     ]
    },
    {
     "name": "stderr",
     "output_type": "stream",
     "text": [
      "\u001b[36m\u001b[1m[ \u001b[22m\u001b[39m\u001b[36m\u001b[1mInfo: \u001b[22m\u001b[39m         290.3676501s: 4 minutes, 50 seconds, 367 milliseconds\n",
      "\u001b[36m\u001b[1m[ \u001b[22m\u001b[39m\u001b[36m\u001b[1mInfo: \u001b[22m\u001b[39m started timer at: 2024-04-01T03:08:50.207\n"
     ]
    },
    {
     "name": "stdout",
     "output_type": "stream",
     "text": [
      "false\n",
      "60\n",
      "1\n",
      "-221955.17904514185\n",
      "7641.89076457856\n",
      "-------------------------\n",
      "60K : 16\n",
      "[0, -200, -100, -1200, -2000]\n"
     ]
    },
    {
     "name": "stderr",
     "output_type": "stream",
     "text": [
      "\u001b[36m\u001b[1m[ \u001b[22m\u001b[39m\u001b[36m\u001b[1mInfo: \u001b[22m\u001b[39m         298.4716979s: 4 minutes, 58 seconds, 471 milliseconds\n",
      "\u001b[36m\u001b[1m[ \u001b[22m\u001b[39m\u001b[36m\u001b[1mInfo: \u001b[22m\u001b[39m started timer at: 2024-04-01T03:13:48.688\n"
     ]
    },
    {
     "name": "stdout",
     "output_type": "stream",
     "text": [
      "false\n",
      "60\n",
      "1\n",
      "-166044.2942335803\n",
      "6387.5914377181325\n",
      "-------------------------\n",
      "60K : 16\n",
      "[0, -400, -100, -1200, -2000]\n"
     ]
    },
    {
     "name": "stderr",
     "output_type": "stream",
     "text": [
      "\u001b[36m\u001b[1m[ \u001b[22m\u001b[39m\u001b[36m\u001b[1mInfo: \u001b[22m\u001b[39m          287.724258s: 4 minutes, 47 seconds, 724 milliseconds\n",
      "\u001b[36m\u001b[1m[ \u001b[22m\u001b[39m\u001b[36m\u001b[1mInfo: \u001b[22m\u001b[39m started timer at: 2024-04-01T03:18:36.423\n"
     ]
    },
    {
     "name": "stdout",
     "output_type": "stream",
     "text": [
      "false\n",
      "60\n",
      "1\n",
      "-169785.21572707276\n",
      "6355.59116723904\n",
      "-------------------------\n",
      "60K : 16\n",
      "[0, -600, -100, -1200, -2000]\n"
     ]
    },
    {
     "name": "stderr",
     "output_type": "stream",
     "text": [
      "\u001b[36m\u001b[1m[ \u001b[22m\u001b[39m\u001b[36m\u001b[1mInfo: \u001b[22m\u001b[39m         290.4189787s: 4 minutes, 50 seconds, 418 milliseconds\n",
      "\u001b[36m\u001b[1m[ \u001b[22m\u001b[39m\u001b[36m\u001b[1mInfo: \u001b[22m\u001b[39m started timer at: 2024-04-01T03:23:26.873\n"
     ]
    },
    {
     "name": "stdout",
     "output_type": "stream",
     "text": [
      "false\n",
      "60\n",
      "1\n",
      "-173274.48413142478\n",
      "6394.820470709213\n",
      "-------------------------\n",
      "60K : 16\n",
      "[0, -800, -100, -1200, -2000]\n"
     ]
    },
    {
     "name": "stderr",
     "output_type": "stream",
     "text": [
      "\u001b[36m\u001b[1m[ \u001b[22m\u001b[39m\u001b[36m\u001b[1mInfo: \u001b[22m\u001b[39m         288.7282973s: 4 minutes, 48 seconds, 728 milliseconds\n",
      "\u001b[36m\u001b[1m[ \u001b[22m\u001b[39m\u001b[36m\u001b[1mInfo: \u001b[22m\u001b[39m started timer at: 2024-04-01T03:28:15.623\n"
     ]
    },
    {
     "name": "stdout",
     "output_type": "stream",
     "text": [
      "false\n",
      "60\n",
      "1\n",
      "-176929.93689922735\n",
      "6391.828386044735\n",
      "-------------------------\n",
      "60K : "
     ]
    },
    {
     "name": "stderr",
     "output_type": "stream",
     "text": [
      "\u001b[36m\u001b[1m[ \u001b[22m\u001b[39m\u001b[36m\u001b[1mInfo: \u001b[22m\u001b[39m         291.1412473s: 4 minutes, 51 seconds, 141 milliseconds\n",
      "\u001b[36m\u001b[1m[ \u001b[22m\u001b[39m\u001b[36m\u001b[1mInfo: \u001b[22m\u001b[39m started timer at: 2024-04-01T03:33:06.774\n"
     ]
    },
    {
     "name": "stdout",
     "output_type": "stream",
     "text": [
      "16\n",
      "[0, -1000, -100, -1200, -2000]\n",
      "false\n",
      "60\n",
      "1\n",
      "-180572.84837398835\n",
      "6791.184117660573\n",
      "-------------------------\n",
      "60K : 16\n",
      "[0, -1200, -100, -1200, -2000]\n"
     ]
    },
    {
     "name": "stderr",
     "output_type": "stream",
     "text": [
      "\u001b[36m\u001b[1m[ \u001b[22m\u001b[39m\u001b[36m\u001b[1mInfo: \u001b[22m\u001b[39m         305.7510087s: 5 minutes, 5 seconds, 751 milliseconds\n",
      "\u001b[36m\u001b[1m[ \u001b[22m\u001b[39m\u001b[36m\u001b[1mInfo: \u001b[22m\u001b[39m started timer at: 2024-04-01T03:38:12.535\n"
     ]
    },
    {
     "name": "stdout",
     "output_type": "stream",
     "text": [
      "false\n",
      "60\n",
      "1\n",
      "-184176.19376969218\n",
      "6424.242766614628\n",
      "-------------------------\n",
      "60K : 16\n",
      "[0, -1400, -100, -1200, -2000]\n"
     ]
    },
    {
     "name": "stderr",
     "output_type": "stream",
     "text": [
      "\u001b[36m\u001b[1m[ \u001b[22m\u001b[39m\u001b[36m\u001b[1mInfo: \u001b[22m\u001b[39m         298.1797112s: 4 minutes, 58 seconds, 179 milliseconds\n",
      "\u001b[36m\u001b[1m[ \u001b[22m\u001b[39m\u001b[36m\u001b[1mInfo: \u001b[22m\u001b[39m started timer at: 2024-04-01T03:43:10.725\n"
     ]
    },
    {
     "name": "stdout",
     "output_type": "stream",
     "text": [
      "false\n",
      "60\n",
      "1\n",
      "-187669.57421666785\n",
      "6695.45860570694\n",
      "-------------------------\n",
      "60K : 16\n",
      "[0"
     ]
    },
    {
     "name": "stderr",
     "output_type": "stream",
     "text": [
      "\u001b[36m\u001b[1m[ \u001b[22m\u001b[39m\u001b[36m\u001b[1mInfo: \u001b[22m\u001b[39m         293.4183332s: 4 minutes, 53 seconds, 418 milliseconds\n",
      "\u001b[36m\u001b[1m[ \u001b[22m\u001b[39m\u001b[36m\u001b[1mInfo: \u001b[22m\u001b[39m started timer at: 2024-04-01T03:48:04.165\n"
     ]
    },
    {
     "name": "stdout",
     "output_type": "stream",
     "text": [
      ", -1600, -100, -1200, -2000]\n",
      "false\n",
      "60\n",
      "1\n",
      "-191417.3190972393\n",
      "6470.906238611441\n",
      "-------------------------\n"
     ]
    },
    {
     "name": "stderr",
     "output_type": "stream",
     "text": [
      "\u001b[36m\u001b[1m[ \u001b[22m\u001b[39m\u001b[36m\u001b[1mInfo: \u001b[22m\u001b[39m         287.9452019s: 4 minutes, 47 seconds, 945 milliseconds\n",
      "\u001b[36m\u001b[1m[ \u001b[22m\u001b[39m\u001b[36m\u001b[1mInfo: \u001b[22m\u001b[39m started timer at: 2024-04-01T03:52:52.120\n"
     ]
    },
    {
     "name": "stdout",
     "output_type": "stream",
     "text": [
      "60K : 16\n",
      "[0, -1800, -100, -1200, -2000]\n",
      "false\n",
      "60\n",
      "1\n",
      "-195088.19451322625\n",
      "6653.341584277144\n",
      "-------------------------\n",
      "60K : 16\n",
      "[0, -2000, -100, -1200, -2000]\n"
     ]
    },
    {
     "name": "stderr",
     "output_type": "stream",
     "text": [
      "\u001b[36m\u001b[1m[ \u001b[22m\u001b[39m\u001b[36m\u001b[1mInfo: \u001b[22m\u001b[39m         292.4131376s: 4 minutes, 52 seconds, 413 milliseconds\n",
      "\u001b[36m\u001b[1m[ \u001b[22m\u001b[39m\u001b[36m\u001b[1mInfo: \u001b[22m\u001b[39m started timer at: 2024-04-01T03:57:44.555\n"
     ]
    },
    {
     "name": "stdout",
     "output_type": "stream",
     "text": [
      "false\n",
      "60\n",
      "1\n",
      "-198637.2086340387\n",
      "7063.293237721451\n",
      "-------------------------\n",
      "60K : 16\n",
      "[0, -2400, -100, -1200, -2000]\n"
     ]
    },
    {
     "name": "stderr",
     "output_type": "stream",
     "text": [
      "\u001b[36m\u001b[1m[ \u001b[22m\u001b[39m\u001b[36m\u001b[1mInfo: \u001b[22m\u001b[39m         296.2656245s: 4 minutes, 56 seconds, 265 milliseconds\n",
      "\u001b[36m\u001b[1m[ \u001b[22m\u001b[39m\u001b[36m\u001b[1mInfo: \u001b[22m\u001b[39m started timer at: 2024-04-01T04:02:40.831\n"
     ]
    },
    {
     "name": "stdout",
     "output_type": "stream",
     "text": [
      "false\n",
      "60\n",
      "1\n",
      "-205971.82705148272\n",
      "6609.27194696602\n",
      "-------------------------\n",
      "60K : 16\n"
     ]
    },
    {
     "name": "stderr",
     "output_type": "stream",
     "text": [
      "\u001b[36m\u001b[1m[ \u001b[22m\u001b[39m\u001b[36m\u001b[1mInfo: \u001b[22m\u001b[39m         288.4947574s: 4 minutes, 48 seconds, 494 milliseconds\n",
      "\u001b[36m\u001b[1m[ \u001b[22m\u001b[39m\u001b[36m\u001b[1mInfo: \u001b[22m\u001b[39m started timer at: 2024-04-01T04:07:29.347\n"
     ]
    },
    {
     "name": "stdout",
     "output_type": "stream",
     "text": [
      "[0, -2800, -100, -1200, -2000]\n",
      "false\n",
      "60\n",
      "1\n",
      "-213167.42282558916\n",
      "6947.452001366702\n",
      "-------------------------\n",
      "60K : 16\n",
      "[0, -3200, -100, -1200, -2000]\n"
     ]
    },
    {
     "name": "stderr",
     "output_type": "stream",
     "text": [
      "\u001b[36m\u001b[1m[ \u001b[22m\u001b[39m\u001b[36m\u001b[1mInfo: \u001b[22m\u001b[39m         294.2524748s: 4 minutes, 54 seconds, 252 milliseconds\n",
      "\u001b[36m\u001b[1m[ \u001b[22m\u001b[39m\u001b[36m\u001b[1mInfo: \u001b[22m\u001b[39m started timer at: 2024-04-01T04:12:23.621\n"
     ]
    },
    {
     "name": "stdout",
     "output_type": "stream",
     "text": [
      "false\n",
      "60\n",
      "1\n",
      "-220486.3323350564\n",
      "6791.370585604489\n",
      "-------------------------"
     ]
    },
    {
     "name": "stderr",
     "output_type": "stream",
     "text": [
      "\u001b[36m\u001b[1m[ \u001b[22m\u001b[39m\u001b[36m\u001b[1mInfo: \u001b[22m\u001b[39m         288.1615883s: 4 minutes, 48 seconds, 161 milliseconds\n"
     ]
    },
    {
     "name": "stdout",
     "output_type": "stream",
     "text": [
      "\n",
      "60K : 18\n",
      "[0, -200, -100, -1200, -2000]\n"
     ]
    },
    {
     "name": "stderr",
     "output_type": "stream",
     "text": [
      "\u001b[36m\u001b[1m[ \u001b[22m\u001b[39m\u001b[36m\u001b[1mInfo: \u001b[22m\u001b[39m started timer at: 2024-04-01T04:17:11.815\n"
     ]
    },
    {
     "name": "stdout",
     "output_type": "stream",
     "text": [
      "false\n",
      "60\n",
      "1\n",
      "-164864.7767782853\n",
      "6206.3271042673405\n"
     ]
    },
    {
     "name": "stderr",
     "output_type": "stream",
     "text": [
      "\u001b[36m\u001b[1m[ \u001b[22m\u001b[39m\u001b[36m\u001b[1mInfo: \u001b[22m\u001b[39m         291.4323161s: 4 minutes, 51 seconds, 432 milliseconds\n"
     ]
    },
    {
     "name": "stdout",
     "output_type": "stream",
     "text": [
      "-------------------------\n",
      "60K : 18\n",
      "[0, -400, -100, -1200, -2000]\n"
     ]
    },
    {
     "name": "stderr",
     "output_type": "stream",
     "text": [
      "\u001b[36m\u001b[1m[ \u001b[22m\u001b[39m\u001b[36m\u001b[1mInfo: \u001b[22m\u001b[39m started timer at: 2024-04-01T04:22:03.269\n"
     ]
    },
    {
     "name": "stdout",
     "output_type": "stream",
     "text": [
      "false\n",
      "60\n",
      "1\n",
      "-168535.35332729635\n",
      "6503.8645047991395\n",
      "-------------------------\n",
      "60K : 18\n",
      "[0, -600, -100, -1200, -2000]\n"
     ]
    },
    {
     "name": "stderr",
     "output_type": "stream",
     "text": [
      "\u001b[36m\u001b[1m[ \u001b[22m\u001b[39m\u001b[36m\u001b[1mInfo: \u001b[22m\u001b[39m         294.5419348s: 4 minutes, 54 seconds, 541 milliseconds\n",
      "\u001b[36m\u001b[1m[ \u001b[22m\u001b[39m\u001b[36m\u001b[1mInfo: \u001b[22m\u001b[39m started timer at: 2024-04-01T04:26:57.833\n"
     ]
    },
    {
     "name": "stdout",
     "output_type": "stream",
     "text": [
      "false\n",
      "60\n",
      "1\n",
      "-172026.16431972198\n",
      "6119.655190154661\n",
      "-------------------------\n",
      "60K : 18\n",
      "[0, -800, -100, -1200, -2000]\n"
     ]
    },
    {
     "name": "stderr",
     "output_type": "stream",
     "text": [
      "\u001b[36m\u001b[1m[ \u001b[22m\u001b[39m\u001b[36m\u001b[1mInfo: \u001b[22m\u001b[39m         289.3257454s: 4 minutes, 49 seconds, 325 milliseconds\n",
      "\u001b[36m\u001b[1m[ \u001b[22m\u001b[39m\u001b[36m\u001b[1mInfo: \u001b[22m\u001b[39m started timer at: 2024-04-01T04:31:47.180\n"
     ]
    },
    {
     "name": "stdout",
     "output_type": "stream",
     "text": [
      "false\n",
      "60\n",
      "1\n",
      "-175631.41550515094\n",
      "6564.622414339056\n",
      "-------------------------\n",
      "60K : 18\n",
      "[0, -1000, -100, -1200, -2000]\n"
     ]
    },
    {
     "name": "stderr",
     "output_type": "stream",
     "text": [
      "\u001b[36m\u001b[1m[ \u001b[22m\u001b[39m\u001b[36m\u001b[1mInfo: \u001b[22m\u001b[39m         294.8616256s: 4 minutes, 54 seconds, 861 milliseconds\n",
      "\u001b[36m\u001b[1m[ \u001b[22m\u001b[39m\u001b[36m\u001b[1mInfo: \u001b[22m\u001b[39m started timer at: 2024-04-01T04:36:42.040\n"
     ]
    },
    {
     "name": "stdout",
     "output_type": "stream",
     "text": [
      "false\n",
      "60\n",
      "1\n",
      "-179384.47012811652\n",
      "6237.963059978162\n",
      "-------------------------\n"
     ]
    },
    {
     "name": "stderr",
     "output_type": "stream",
     "text": [
      "\u001b[36m\u001b[1m[ \u001b[22m\u001b[39m\u001b[36m\u001b[1mInfo: \u001b[22m\u001b[39m         287.7718639s: 4 minutes, 47 seconds, 771 milliseconds\n",
      "\u001b[36m\u001b[1m[ \u001b[22m\u001b[39m\u001b[36m\u001b[1mInfo: \u001b[22m\u001b[39m started timer at: 2024-04-01T04:41:29.823\n"
     ]
    },
    {
     "name": "stdout",
     "output_type": "stream",
     "text": [
      "60K : 18\n",
      "[0, -1200, -100, -1200, -2000]\n",
      "false\n",
      "60\n",
      "1\n",
      "-182997.6794291096\n",
      "6316.793281279133\n",
      "-------------------------\n",
      "60K : 18\n",
      "[0, -1400, -100, -1200, -2000]\n"
     ]
    },
    {
     "name": "stderr",
     "output_type": "stream",
     "text": [
      "\u001b[36m\u001b[1m[ \u001b[22m\u001b[39m\u001b[36m\u001b[1mInfo: \u001b[22m\u001b[39m         293.7263579s: 4 minutes, 53 seconds, 726 milliseconds\n",
      "\u001b[36m\u001b[1m[ \u001b[22m\u001b[39m\u001b[36m\u001b[1mInfo: \u001b[22m\u001b[39m started timer at: 2024-04-01T04:46:23.571\n"
     ]
    },
    {
     "name": "stdout",
     "output_type": "stream",
     "text": [
      "false\n",
      "60\n",
      "1\n",
      "-186653.93651893226\n",
      "6544.768852989849\n",
      "-------------------------\n"
     ]
    },
    {
     "name": "stderr",
     "output_type": "stream",
     "text": [
      "\u001b[36m\u001b[1m[ \u001b[22m\u001b[39m\u001b[36m\u001b[1mInfo: \u001b[22m\u001b[39m         292.8644819s: 4 minutes, 52 seconds, 864 milliseconds\n",
      "\u001b[36m\u001b[1m[ \u001b[22m\u001b[39m\u001b[36m\u001b[1mInfo: \u001b[22m\u001b[39m started timer at: 2024-04-01T04:51:16.435\n"
     ]
    },
    {
     "name": "stdout",
     "output_type": "stream",
     "text": [
      "60K : 18\n",
      "[0, -1600, -100, -1200, -2000]\n",
      "false\n",
      "60\n",
      "1\n",
      "-190254.35894192726\n",
      "6309.938616539359\n",
      "-------------------------\n",
      "60K : 18\n",
      "[0, -1800, -100, -1200, -2000]\n"
     ]
    },
    {
     "name": "stderr",
     "output_type": "stream",
     "text": [
      "\u001b[36m\u001b[1m[ \u001b[22m\u001b[39m\u001b[36m\u001b[1mInfo: \u001b[22m\u001b[39m         289.6895319s: 4 minutes, 49 seconds, 689 milliseconds\n",
      "\u001b[36m\u001b[1m[ \u001b[22m\u001b[39m\u001b[36m\u001b[1mInfo: \u001b[22m\u001b[39m started timer at: 2024-04-01T04:56:06.135\n"
     ]
    },
    {
     "name": "stdout",
     "output_type": "stream",
     "text": [
      "false\n",
      "60\n",
      "1\n",
      "-193853.14462617537\n",
      "6715.801541418761\n",
      "-------------------------\n",
      "60K : 18\n",
      "[0, -2000, -100, -1200, -2000]\n"
     ]
    },
    {
     "name": "stderr",
     "output_type": "stream",
     "text": [
      "\u001b[36m\u001b[1m[ \u001b[22m\u001b[39m\u001b[36m\u001b[1mInfo: \u001b[22m\u001b[39m         295.5990474s: 4 minutes, 55 seconds, 599 milliseconds\n",
      "\u001b[36m\u001b[1m[ \u001b[22m\u001b[39m\u001b[36m\u001b[1mInfo: \u001b[22m\u001b[39m started timer at: 2024-04-01T05:01:01.745\n"
     ]
    },
    {
     "name": "stdout",
     "output_type": "stream",
     "text": [
      "false\n",
      "60\n",
      "1\n",
      "-197500.95462602054\n",
      "6343.400315413667\n",
      "-------------------------\n",
      "60K : 18\n",
      "[0, -2400, -100, -1200, -2000]\n"
     ]
    },
    {
     "name": "stderr",
     "output_type": "stream",
     "text": [
      "\u001b[36m\u001b[1m[ \u001b[22m\u001b[39m\u001b[36m\u001b[1mInfo: \u001b[22m\u001b[39m         287.8741872s: 4 minutes, 47 seconds, 874 milliseconds\n",
      "\u001b[36m\u001b[1m[ \u001b[22m\u001b[39m\u001b[36m\u001b[1mInfo: \u001b[22m\u001b[39m started timer at: 2024-04-01T05:05:49.618\n"
     ]
    },
    {
     "name": "stdout",
     "output_type": "stream",
     "text": [
      "false\n",
      "60\n",
      "1\n",
      "-204757.1125423723\n",
      "6433.108616219769\n",
      "-------------------------\n",
      "60"
     ]
    },
    {
     "name": "stderr",
     "output_type": "stream",
     "text": [
      "\u001b[36m\u001b[1m[ \u001b[22m\u001b[39m\u001b[36m\u001b[1mInfo: \u001b[22m\u001b[39m         290.3152843s: 4 minutes, 50 seconds, 315 milliseconds\n",
      "\u001b[36m\u001b[1m[ \u001b[22m\u001b[39m\u001b[36m\u001b[1mInfo: \u001b[22m\u001b[39m started timer at: 2024-04-01T05:10:39.956\n"
     ]
    },
    {
     "name": "stdout",
     "output_type": "stream",
     "text": [
      "K : 18\n",
      "[0, -2800, -100, -1200, -2000]\n",
      "false\n",
      "60\n",
      "1\n",
      "-211954.24578359135\n",
      "6623.233358240963\n",
      "-------------------------\n",
      "60K : 18\n",
      "[0, -3200, -100, -1200, -2000]\n"
     ]
    },
    {
     "name": "stderr",
     "output_type": "stream",
     "text": [
      "\u001b[36m\u001b[1m[ \u001b[22m\u001b[39m\u001b[36m\u001b[1mInfo: \u001b[22m\u001b[39m          291.491142s: 4 minutes, 51 seconds, 491 milliseconds\n",
      "\u001b[36m\u001b[1m[ \u001b[22m\u001b[39m\u001b[36m\u001b[1mInfo: \u001b[22m\u001b[39m started timer at: 2024-04-01T05:15:31.446\n"
     ]
    },
    {
     "name": "stdout",
     "output_type": "stream",
     "text": [
      "false\n",
      "60\n",
      "1\n",
      "-219249.111253857\n",
      "6482.735534816888\n",
      "-------------------------\n",
      "60K : 20"
     ]
    },
    {
     "name": "stderr",
     "output_type": "stream",
     "text": [
      "\u001b[36m\u001b[1m[ \u001b[22m\u001b[39m\u001b[36m\u001b[1mInfo: \u001b[22m\u001b[39m         289.6232679s: 4 minutes, 49 seconds, 623 milliseconds\n",
      "\u001b[36m\u001b[1m[ \u001b[22m\u001b[39m\u001b[36m\u001b[1mInfo: \u001b[22m\u001b[39m started timer at: 2024-04-01T05:20:21.091\n"
     ]
    },
    {
     "name": "stdout",
     "output_type": "stream",
     "text": [
      "\n",
      "[0, -200, -100, -1200, -2000]\n",
      "false\n",
      "60\n",
      "1\n",
      "-163934.55227348948\n",
      "6420.361394056783\n",
      "-------------------------\n",
      "60K : 20\n",
      "[0, -400, -100, -1200, -2000]\n"
     ]
    },
    {
     "name": "stderr",
     "output_type": "stream",
     "text": [
      "\u001b[36m\u001b[1m[ \u001b[22m\u001b[39m\u001b[36m\u001b[1mInfo: \u001b[22m\u001b[39m         297.7087296s: 4 minutes, 57 seconds, 708 milliseconds\n",
      "\u001b[36m\u001b[1m[ \u001b[22m\u001b[39m\u001b[36m\u001b[1mInfo: \u001b[22m\u001b[39m started timer at: 2024-04-01T05:25:18.821\n"
     ]
    },
    {
     "name": "stdout",
     "output_type": "stream",
     "text": [
      "false\n",
      "60\n",
      "1\n",
      "-167497.05449525735\n",
      "6049.982711134378\n",
      "-------------------------\n"
     ]
    },
    {
     "name": "stderr",
     "output_type": "stream",
     "text": [
      "\u001b[36m\u001b[1m[ \u001b[22m\u001b[39m\u001b[36m\u001b[1mInfo: \u001b[22m\u001b[39m          287.484293s: 4 minutes, 47 seconds, 484 milliseconds\n"
     ]
    },
    {
     "name": "stdout",
     "output_type": "stream",
     "text": [
      "60K : 20\n",
      "[0, -600, -100, -1200, -2000]\n"
     ]
    },
    {
     "name": "stderr",
     "output_type": "stream",
     "text": [
      "\u001b[36m\u001b[1m[ \u001b[22m\u001b[39m\u001b[36m\u001b[1mInfo: \u001b[22m\u001b[39m started timer at: 2024-04-01T05:30:06.316\n"
     ]
    },
    {
     "name": "stdout",
     "output_type": "stream",
     "text": [
      "false\n",
      "60\n",
      "1\n",
      "-171149.0052228328\n",
      "6040.091481029182\n",
      "-------------------------\n"
     ]
    },
    {
     "name": "stderr",
     "output_type": "stream",
     "text": [
      "\u001b[36m\u001b[1m[ \u001b[22m\u001b[39m\u001b[36m\u001b[1mInfo: \u001b[22m\u001b[39m         291.4504089s: 4 minutes, 51 seconds, 450 milliseconds\n",
      "\u001b[36m\u001b[1m[ \u001b[22m\u001b[39m\u001b[36m\u001b[1mInfo: \u001b[22m\u001b[39m started timer at: 2024-04-01T05:34:57.777\n"
     ]
    },
    {
     "name": "stdout",
     "output_type": "stream",
     "text": [
      "60K : 20\n",
      "[0, -800, -100, -1200, -2000]\n",
      "false\n",
      "60\n",
      "1\n",
      "-174648.8463851607\n",
      "6057.040239585519\n",
      "-------------------------\n",
      "60K : "
     ]
    },
    {
     "name": "stderr",
     "output_type": "stream",
     "text": [
      "\u001b[36m\u001b[1m[ \u001b[22m\u001b[39m\u001b[36m\u001b[1mInfo: \u001b[22m\u001b[39m          289.151689s: 4 minutes, 49 seconds, 151 milliseconds\n",
      "\u001b[36m\u001b[1m[ \u001b[22m\u001b[39m\u001b[36m\u001b[1mInfo: \u001b[22m\u001b[39m started timer at: 2024-04-01T05:39:46.939\n"
     ]
    },
    {
     "name": "stdout",
     "output_type": "stream",
     "text": [
      "20\n",
      "[0, -1000, -100, -1200, -2000]\n",
      "false\n",
      "60\n",
      "1\n",
      "-178346.54329006787\n",
      "6071.856294867265\n",
      "-------------------------"
     ]
    },
    {
     "name": "stderr",
     "output_type": "stream",
     "text": [
      "\u001b[36m\u001b[1m[ \u001b[22m\u001b[39m\u001b[36m\u001b[1mInfo: \u001b[22m\u001b[39m         290.8688043s: 4 minutes, 50 seconds, 868 milliseconds\n"
     ]
    },
    {
     "name": "stdout",
     "output_type": "stream",
     "text": [
      "\n",
      "60K : 20\n",
      "[0, -1200, -100, -1200, -2000]\n"
     ]
    },
    {
     "name": "stderr",
     "output_type": "stream",
     "text": [
      "\u001b[36m\u001b[1m[ \u001b[22m\u001b[39m\u001b[36m\u001b[1mInfo: \u001b[22m\u001b[39m started timer at: 2024-04-01T05:44:37.828\n"
     ]
    },
    {
     "name": "stdout",
     "output_type": "stream",
     "text": [
      "false\n",
      "60\n",
      "1\n",
      "-181913.88986800538\n",
      "6510.9991340582565\n",
      "-------------------------\n"
     ]
    },
    {
     "name": "stderr",
     "output_type": "stream",
     "text": [
      "\u001b[36m\u001b[1m[ \u001b[22m\u001b[39m\u001b[36m\u001b[1mInfo: \u001b[22m\u001b[39m         298.9187538s: 4 minutes, 58 seconds, 918 milliseconds\n"
     ]
    },
    {
     "name": "stdout",
     "output_type": "stream",
     "text": [
      "60K : 20\n",
      "[0, -1400, -100, -1200, -2000]\n"
     ]
    },
    {
     "name": "stderr",
     "output_type": "stream",
     "text": [
      "\u001b[36m\u001b[1m[ \u001b[22m\u001b[39m\u001b[36m\u001b[1mInfo: \u001b[22m\u001b[39m started timer at: 2024-04-01T05:49:36.757\n"
     ]
    },
    {
     "name": "stdout",
     "output_type": "stream",
     "text": [
      "false\n",
      "60\n",
      "1\n",
      "-185556.1047736756\n",
      "6131.590399541083\n",
      "-------------------------\n"
     ]
    },
    {
     "name": "stderr",
     "output_type": "stream",
     "text": [
      "\u001b[36m\u001b[1m[ \u001b[22m\u001b[39m\u001b[36m\u001b[1mInfo: \u001b[22m\u001b[39m         287.8433391s: 4 minutes, 47 seconds, 843 milliseconds\n",
      "\u001b[36m\u001b[1m[ \u001b[22m\u001b[39m\u001b[36m\u001b[1mInfo: \u001b[22m\u001b[39m started timer at: 2024-04-01T05:54:24.611\n"
     ]
    },
    {
     "name": "stdout",
     "output_type": "stream",
     "text": [
      "60K : 20\n",
      "[0, -1600, -100, -1200, -2000]\n",
      "false\n",
      "60\n",
      "1\n",
      "-189190.16119190736\n",
      "6181.968720496985\n"
     ]
    },
    {
     "name": "stderr",
     "output_type": "stream",
     "text": [
      "\u001b[36m\u001b[1m[ \u001b[22m\u001b[39m\u001b[36m\u001b[1mInfo: \u001b[22m\u001b[39m         290.6313593s: 4 minutes, 50 seconds, 631 milliseconds\n"
     ]
    },
    {
     "name": "stdout",
     "output_type": "stream",
     "text": [
      "-------------------------\n",
      "60K : 20\n",
      "[0, -1800, -100, -1200, -2000]\n"
     ]
    },
    {
     "name": "stderr",
     "output_type": "stream",
     "text": [
      "\u001b[36m\u001b[1m[ \u001b[22m\u001b[39m\u001b[36m\u001b[1mInfo: \u001b[22m\u001b[39m started timer at: 2024-04-01T05:59:15.264\n"
     ]
    },
    {
     "name": "stdout",
     "output_type": "stream",
     "text": [
      "false\n",
      "60\n",
      "1\n",
      "-192878.55469908274\n",
      "6219.014872821766\n",
      "-------------------------\n"
     ]
    },
    {
     "name": "stderr",
     "output_type": "stream",
     "text": [
      "\u001b[36m\u001b[1m[ \u001b[22m\u001b[39m\u001b[36m\u001b[1mInfo: \u001b[22m\u001b[39m         288.1816689s: 4 minutes, 48 seconds, 181 milliseconds\n"
     ]
    },
    {
     "name": "stdout",
     "output_type": "stream",
     "text": [
      "60K : 20\n",
      "[0, -2000, -100, -1200, -2000]\n"
     ]
    },
    {
     "name": "stderr",
     "output_type": "stream",
     "text": [
      "\u001b[36m\u001b[1m[ \u001b[22m\u001b[39m\u001b[36m\u001b[1mInfo: \u001b[22m\u001b[39m started timer at: 2024-04-01T06:04:03.445\n"
     ]
    },
    {
     "name": "stdout",
     "output_type": "stream",
     "text": [
      "false\n",
      "60\n",
      "1\n",
      "-196388.21232122256\n",
      "6174.345398837201\n",
      "-------------------------\n"
     ]
    },
    {
     "name": "stderr",
     "output_type": "stream",
     "text": [
      "\u001b[36m\u001b[1m[ \u001b[22m\u001b[39m\u001b[36m\u001b[1mInfo: \u001b[22m\u001b[39m         290.9640025s: 4 minutes, 50 seconds, 964 milliseconds\n",
      "\u001b[36m\u001b[1m[ \u001b[22m\u001b[39m\u001b[36m\u001b[1mInfo: \u001b[22m\u001b[39m started timer at: 2024-04-01T06:08:54.431\n"
     ]
    },
    {
     "name": "stdout",
     "output_type": "stream",
     "text": [
      "60K : 20\n",
      "[0, -2400, -100, -1200, -2000]\n",
      "false\n",
      "60\n",
      "1\n",
      "-203653.1535285287\n",
      "6570.743748800984\n",
      "-------------------------\n",
      "60K : 20\n",
      "[0, -2800, -100, -1200, -2000]\n"
     ]
    },
    {
     "name": "stderr",
     "output_type": "stream",
     "text": [
      "\u001b[36m\u001b[1m[ \u001b[22m\u001b[39m\u001b[36m\u001b[1mInfo: \u001b[22m\u001b[39m         297.8034371s: 4 minutes, 57 seconds, 803 milliseconds\n",
      "\u001b[36m\u001b[1m[ \u001b[22m\u001b[39m\u001b[36m\u001b[1mInfo: \u001b[22m\u001b[39m started timer at: 2024-04-01T06:13:52.245\n"
     ]
    },
    {
     "name": "stdout",
     "output_type": "stream",
     "text": [
      "false\n",
      "60\n",
      "1\n",
      "-211098.44971636357\n",
      "6345.047727696358\n",
      "-------------------------\n",
      "60K : 20\n",
      "[0, -3200, -100, -1200, -2000]\n"
     ]
    },
    {
     "name": "stderr",
     "output_type": "stream",
     "text": [
      "\u001b[36m\u001b[1m[ \u001b[22m\u001b[39m\u001b[36m\u001b[1mInfo: \u001b[22m\u001b[39m         287.9919711s: 4 minutes, 47 seconds, 991 milliseconds\n",
      "\u001b[36m\u001b[1m[ \u001b[22m\u001b[39m\u001b[36m\u001b[1mInfo: \u001b[22m\u001b[39m started timer at: 2024-04-01T06:18:40.270\n"
     ]
    },
    {
     "name": "stdout",
     "output_type": "stream",
     "text": [
      "false\n",
      "60\n",
      "1\n",
      "-218309.381810639\n",
      "6528.239072646533\n",
      "-------------------------\n",
      "60K : 22\n",
      "[0, -200, -100, -1200, -2000]\n"
     ]
    },
    {
     "name": "stderr",
     "output_type": "stream",
     "text": [
      "\u001b[36m\u001b[1m[ \u001b[22m\u001b[39m\u001b[36m\u001b[1mInfo: \u001b[22m\u001b[39m         292.2484989s: 4 minutes, 52 seconds, 248 milliseconds\n",
      "\u001b[36m\u001b[1m[ \u001b[22m\u001b[39m\u001b[36m\u001b[1mInfo: \u001b[22m\u001b[39m started timer at: 2024-04-01T06:23:32.529\n"
     ]
    },
    {
     "name": "stdout",
     "output_type": "stream",
     "text": [
      "false\n",
      "60\n",
      "1\n",
      "-163197.52490029536\n",
      "5865.33455737679\n",
      "-------------------------\n",
      "60K : 22\n",
      "[0, -400, -100, -1200, -2000]\n"
     ]
    },
    {
     "name": "stderr",
     "output_type": "stream",
     "text": [
      "\u001b[36m\u001b[1m[ \u001b[22m\u001b[39m\u001b[36m\u001b[1mInfo: \u001b[22m\u001b[39m         288.4058303s: 4 minutes, 48 seconds, 405 milliseconds\n",
      "\u001b[36m\u001b[1m[ \u001b[22m\u001b[39m\u001b[36m\u001b[1mInfo: \u001b[22m\u001b[39m started timer at: 2024-04-01T06:28:20.967\n"
     ]
    },
    {
     "name": "stdout",
     "output_type": "stream",
     "text": [
      "false\n",
      "60\n",
      "1\n",
      "-166678.99639102517\n",
      "5826.27427208555\n",
      "-------------------------\n",
      "60K : 22\n"
     ]
    },
    {
     "name": "stderr",
     "output_type": "stream",
     "text": [
      "\u001b[36m\u001b[1m[ \u001b[22m\u001b[39m\u001b[36m\u001b[1mInfo: \u001b[22m\u001b[39m         292.1855057s: 4 minutes, 52 seconds, 185 milliseconds\n",
      "\u001b[36m\u001b[1m[ \u001b[22m\u001b[39m\u001b[36m\u001b[1mInfo: \u001b[22m\u001b[39m started timer at: 2024-04-01T06:33:13.162\n"
     ]
    },
    {
     "name": "stdout",
     "output_type": "stream",
     "text": [
      "[0, -600, -100, -1200, -2000]\n",
      "false\n",
      "60\n",
      "1\n",
      "-170350.42321905686\n",
      "6139.885011930309\n",
      "-------------------------\n",
      "60K : 22\n",
      "[0, -800, -100, -1200, -2000]\n"
     ]
    },
    {
     "name": "stderr",
     "output_type": "stream",
     "text": [
      "\u001b[36m\u001b[1m[ \u001b[22m\u001b[39m\u001b[36m\u001b[1mInfo: \u001b[22m\u001b[39m         296.3027965s: 4 minutes, 56 seconds, 302 milliseconds\n",
      "\u001b[36m\u001b[1m[ \u001b[22m\u001b[39m\u001b[36m\u001b[1mInfo: \u001b[22m\u001b[39m started timer at: 2024-04-01T06:38:09.465\n"
     ]
    },
    {
     "name": "stdout",
     "output_type": "stream",
     "text": [
      "false\n",
      "60\n",
      "1\n",
      "-173966.84001980795\n",
      "5897.955163665949\n",
      "-------------------------\n",
      "60"
     ]
    },
    {
     "name": "stderr",
     "output_type": "stream",
     "text": [
      "\u001b[36m\u001b[1m[ \u001b[22m\u001b[39m\u001b[36m\u001b[1mInfo: \u001b[22m\u001b[39m         288.1846544s: 4 minutes, 48 seconds, 184 milliseconds\n",
      "\u001b[36m\u001b[1m[ \u001b[22m\u001b[39m\u001b[36m\u001b[1mInfo: \u001b[22m\u001b[39m started timer at: 2024-04-01T06:42:57.671\n"
     ]
    },
    {
     "name": "stdout",
     "output_type": "stream",
     "text": [
      "K : 22\n",
      "[0, -1000, -100, -1200, -2000]\n",
      "false\n",
      "60\n",
      "1\n",
      "-177652.59690697948\n",
      "6127.577855986122\n",
      "-------------------------\n",
      "60K : 22\n",
      "[0, -1200, -100, -1200, -2000]\n"
     ]
    },
    {
     "name": "stderr",
     "output_type": "stream",
     "text": [
      "\u001b[36m\u001b[1m[ \u001b[22m\u001b[39m\u001b[36m\u001b[1mInfo: \u001b[22m\u001b[39m         293.6124836s: 4 minutes, 53 seconds, 612 milliseconds\n",
      "\u001b[36m\u001b[1m[ \u001b[22m\u001b[39m\u001b[36m\u001b[1mInfo: \u001b[22m\u001b[39m started timer at: 2024-04-01T06:47:51.305\n"
     ]
    },
    {
     "name": "stdout",
     "output_type": "stream",
     "text": [
      "false\n",
      "60\n",
      "1\n",
      "-181209.72365802148\n",
      "5977.990382108028\n",
      "-------------------------\n",
      "60"
     ]
    },
    {
     "name": "stderr",
     "output_type": "stream",
     "text": [
      "\u001b[36m\u001b[1m[ \u001b[22m\u001b[39m\u001b[36m\u001b[1mInfo: \u001b[22m\u001b[39m         288.2001481s: 4 minutes, 48 seconds, 200 milliseconds\n",
      "\u001b[36m\u001b[1m[ \u001b[22m\u001b[39m\u001b[36m\u001b[1mInfo: \u001b[22m\u001b[39m started timer at: 2024-04-01T06:52:39.504\n"
     ]
    },
    {
     "name": "stdout",
     "output_type": "stream",
     "text": [
      "K : 22\n",
      "[0, -1400, -100, -1200, -2000]\n",
      "false\n",
      "60\n",
      "1\n",
      "-184840.63177796974\n",
      "5930.221888825299\n",
      "-------------------------\n",
      "60K : 22\n",
      "[0, -1600, -100,"
     ]
    },
    {
     "name": "stderr",
     "output_type": "stream",
     "text": [
      "\u001b[36m\u001b[1m[ \u001b[22m\u001b[39m\u001b[36m\u001b[1mInfo: \u001b[22m\u001b[39m         290.7860884s: 4 minutes, 50 seconds, 786 milliseconds\n",
      "\u001b[36m\u001b[1m[ \u001b[22m\u001b[39m\u001b[36m\u001b[1mInfo: \u001b[22m\u001b[39m started timer at: 2024-04-01T06:57:30.301\n"
     ]
    },
    {
     "name": "stdout",
     "output_type": "stream",
     "text": [
      " -1200, -2000]\n",
      "false\n",
      "60\n",
      "1\n",
      "-188513.4519635787\n",
      "6174.985365928404\n",
      "-------------------------\n",
      "60K : 22\n",
      "[0, -1800, -100, -1200, -2000]\n"
     ]
    },
    {
     "name": "stderr",
     "output_type": "stream",
     "text": [
      "\u001b[36m\u001b[1m[ \u001b[22m\u001b[39m\u001b[36m\u001b[1mInfo: \u001b[22m\u001b[39m         296.0245503s: 4 minutes, 56 seconds, 24 milliseconds\n",
      "\u001b[36m\u001b[1m[ \u001b[22m\u001b[39m\u001b[36m\u001b[1mInfo: \u001b[22m\u001b[39m started timer at: 2024-04-01T07:02:26.337\n"
     ]
    },
    {
     "name": "stdout",
     "output_type": "stream",
     "text": [
      "false\n",
      "60\n",
      "1\n",
      "-191955.9123780941\n",
      "5947.1805109065635\n",
      "-------------------------"
     ]
    },
    {
     "name": "stderr",
     "output_type": "stream",
     "text": [
      "\u001b[36m\u001b[1m[ \u001b[22m\u001b[39m\u001b[36m\u001b[1mInfo: \u001b[22m\u001b[39m         288.5195794s: 4 minutes, 48 seconds, 519 milliseconds\n"
     ]
    },
    {
     "name": "stdout",
     "output_type": "stream",
     "text": [
      "\n",
      "60K : 22\n",
      "[0, -2000, -100, -1200, -2000]\n"
     ]
    },
    {
     "name": "stderr",
     "output_type": "stream",
     "text": [
      "\u001b[36m\u001b[1m[ \u001b[22m\u001b[39m\u001b[36m\u001b[1mInfo: \u001b[22m\u001b[39m started timer at: 2024-04-01T07:07:14.889\n"
     ]
    },
    {
     "name": "stdout",
     "output_type": "stream",
     "text": [
      "false\n",
      "60\n",
      "1\n",
      "-195713.78288038223\n",
      "6206.569826974697\n",
      "-------------------------\n",
      "60K : 22\n",
      "[0, -2400, -100, -1200, -2000]\n"
     ]
    },
    {
     "name": "stderr",
     "output_type": "stream",
     "text": [
      "\u001b[36m\u001b[1m[ \u001b[22m\u001b[39m\u001b[36m\u001b[1mInfo: \u001b[22m\u001b[39m         294.6819891s: 4 minutes, 54 seconds, 681 milliseconds\n",
      "\u001b[36m\u001b[1m[ \u001b[22m\u001b[39m\u001b[36m\u001b[1mInfo: \u001b[22m\u001b[39m started timer at: 2024-04-01T07:12:09.571\n"
     ]
    },
    {
     "name": "stdout",
     "output_type": "stream",
     "text": [
      "false\n",
      "60\n",
      "1\n",
      "-202821.25827608228\n",
      "6136.544794616555\n",
      "-------------------------\n",
      "60K : 22\n",
      "[0, -2800, -100, -1200, -2000]\n"
     ]
    },
    {
     "name": "stderr",
     "output_type": "stream",
     "text": [
      "\u001b[36m\u001b[1m[ \u001b[22m\u001b[39m\u001b[36m\u001b[1mInfo: \u001b[22m\u001b[39m         288.2288631s: 4 minutes, 48 seconds, 228 milliseconds\n",
      "\u001b[36m\u001b[1m[ \u001b[22m\u001b[39m\u001b[36m\u001b[1mInfo: \u001b[22m\u001b[39m started timer at: 2024-04-01T07:16:57.799\n"
     ]
    },
    {
     "name": "stdout",
     "output_type": "stream",
     "text": [
      "false\n",
      "60\n",
      "1\n",
      "-210202.6626574264\n",
      "6188.767298665358\n",
      "-------------------------\n",
      "60K : 22\n",
      "[0, -3200, -100, -1200, -2000]\n"
     ]
    },
    {
     "name": "stderr",
     "output_type": "stream",
     "text": [
      "\u001b[36m\u001b[1m[ \u001b[22m\u001b[39m\u001b[36m\u001b[1mInfo: \u001b[22m\u001b[39m         291.6915417s: 4 minutes, 51 seconds, 691 milliseconds\n",
      "\u001b[36m\u001b[1m[ \u001b[22m\u001b[39m\u001b[36m\u001b[1mInfo: \u001b[22m\u001b[39m started timer at: 2024-04-01T07:21:49.491\n"
     ]
    },
    {
     "name": "stdout",
     "output_type": "stream",
     "text": [
      "false\n",
      "60\n",
      "1\n",
      "-217449.4561142332\n",
      "6405.01343893936\n",
      "-------------------------\n",
      "60K : 24\n",
      "[0, -200, -100, -1200, -2000]\n"
     ]
    },
    {
     "name": "stderr",
     "output_type": "stream",
     "text": [
      "\u001b[36m\u001b[1m[ \u001b[22m\u001b[39m\u001b[36m\u001b[1mInfo: \u001b[22m\u001b[39m         294.2822593s: 4 minutes, 54 seconds, 282 milliseconds\n",
      "\u001b[36m\u001b[1m[ \u001b[22m\u001b[39m\u001b[36m\u001b[1mInfo: \u001b[22m\u001b[39m started timer at: 2024-04-01T07:26:43.773\n"
     ]
    },
    {
     "name": "stdout",
     "output_type": "stream",
     "text": [
      "false\n",
      "60\n",
      "1\n",
      "-162561.72711186748\n",
      "5822.1805410088455\n"
     ]
    },
    {
     "name": "stderr",
     "output_type": "stream",
     "text": [
      "\u001b[36m\u001b[1m[ \u001b[22m\u001b[39m\u001b[36m\u001b[1mInfo: \u001b[22m\u001b[39m         288.9827942s: 4 minutes, 48 seconds, 982 milliseconds\n"
     ]
    },
    {
     "name": "stdout",
     "output_type": "stream",
     "text": [
      "-------------------------\n",
      "60K : 24\n",
      "[0, -400, -100, -1200, -2000]\n"
     ]
    },
    {
     "name": "stderr",
     "output_type": "stream",
     "text": [
      "\u001b[36m\u001b[1m[ \u001b[22m\u001b[39m\u001b[36m\u001b[1mInfo: \u001b[22m\u001b[39m started timer at: 2024-04-01T07:31:32.777\n"
     ]
    },
    {
     "name": "stdout",
     "output_type": "stream",
     "text": [
      "false\n",
      "60\n",
      "1\n",
      "-166163.313075306\n",
      "5893.095166479265\n",
      "-------------------------\n",
      "60K : 24\n",
      "[0, -600, -100, -1200, -2000]\n"
     ]
    },
    {
     "name": "stderr",
     "output_type": "stream",
     "text": [
      "\u001b[36m\u001b[1m[ \u001b[22m\u001b[39m\u001b[36m\u001b[1mInfo: \u001b[22m\u001b[39m         295.2343288s: 4 minutes, 55 seconds, 234 milliseconds\n",
      "\u001b[36m\u001b[1m[ \u001b[22m\u001b[39m\u001b[36m\u001b[1mInfo: \u001b[22m\u001b[39m started timer at: 2024-04-01T07:36:28.033\n"
     ]
    },
    {
     "name": "stdout",
     "output_type": "stream",
     "text": [
      "false\n",
      "60\n",
      "1\n",
      "-169766.69199356405\n",
      "5770.759614263521\n",
      "-------------------------\n",
      "60K : 24\n",
      "[0, -800, -100, -1200, -2000]\n"
     ]
    },
    {
     "name": "stderr",
     "output_type": "stream",
     "text": [
      "\u001b[36m\u001b[1m[ \u001b[22m\u001b[39m\u001b[36m\u001b[1mInfo: \u001b[22m\u001b[39m         287.5089104s: 4 minutes, 47 seconds, 508 milliseconds\n",
      "\u001b[36m\u001b[1m[ \u001b[22m\u001b[39m\u001b[36m\u001b[1mInfo: \u001b[22m\u001b[39m started timer at: 2024-04-01T07:41:15.563\n"
     ]
    },
    {
     "name": "stdout",
     "output_type": "stream",
     "text": [
      "false\n",
      "60\n",
      "1\n",
      "-173443.02943697583\n",
      "5735.694234260429\n",
      "-------------------------\n",
      "60K : 24\n",
      "[0, -1000, -100, -1200, -2000]\n"
     ]
    },
    {
     "name": "stderr",
     "output_type": "stream",
     "text": [
      "\u001b[36m\u001b[1m[ \u001b[22m\u001b[39m\u001b[36m\u001b[1mInfo: \u001b[22m\u001b[39m          290.753827s: 4 minutes, 50 seconds, 753 milliseconds\n",
      "\u001b[36m\u001b[1m[ \u001b[22m\u001b[39m\u001b[36m\u001b[1mInfo: \u001b[22m\u001b[39m started timer at: 2024-04-01T07:46:06.317\n"
     ]
    },
    {
     "name": "stdout",
     "output_type": "stream",
     "text": [
      "false\n",
      "60\n",
      "1\n",
      "-177022.86805936054\n",
      "5874.421517511125\n",
      "-------------------------\n",
      "60K : 24\n",
      "[0, -1200, -100, -1200, -2000]\n"
     ]
    },
    {
     "name": "stderr",
     "output_type": "stream",
     "text": [
      "\u001b[36m\u001b[1m[ \u001b[22m\u001b[39m\u001b[36m\u001b[1mInfo: \u001b[22m\u001b[39m         292.8213234s: 4 minutes, 52 seconds, 821 milliseconds\n",
      "\u001b[36m\u001b[1m[ \u001b[22m\u001b[39m\u001b[36m\u001b[1mInfo: \u001b[22m\u001b[39m started timer at: 2024-04-01T07:50:59.139\n"
     ]
    },
    {
     "name": "stdout",
     "output_type": "stream",
     "text": [
      "false\n",
      "60\n",
      "1\n",
      "-180478.42772733694\n",
      "5885.164706618488\n",
      "-------------------------\n",
      "60K : 24\n",
      "[0, -1400, -100, -1200, -2000]\n"
     ]
    },
    {
     "name": "stderr",
     "output_type": "stream",
     "text": [
      "\u001b[36m\u001b[1m[ \u001b[22m\u001b[39m\u001b[36m\u001b[1mInfo: \u001b[22m\u001b[39m         291.6449694s: 4 minutes, 51 seconds, 644 milliseconds\n",
      "\u001b[36m\u001b[1m[ \u001b[22m\u001b[39m\u001b[36m\u001b[1mInfo: \u001b[22m\u001b[39m started timer at: 2024-04-01T07:55:50.794\n"
     ]
    },
    {
     "name": "stdout",
     "output_type": "stream",
     "text": [
      "false\n",
      "60\n",
      "1\n",
      "-184277.29688297104\n",
      "6021.682436188359\n",
      "-------------------------\n"
     ]
    },
    {
     "name": "stderr",
     "output_type": "stream",
     "text": [
      "\u001b[36m\u001b[1m[ \u001b[22m\u001b[39m\u001b[36m\u001b[1mInfo: \u001b[22m\u001b[39m         295.9086699s: 4 minutes, 55 seconds, 908 milliseconds\n",
      "\u001b[36m\u001b[1m[ \u001b[22m\u001b[39m\u001b[36m\u001b[1mInfo: \u001b[22m\u001b[39m started timer at: 2024-04-01T08:00:46.702\n"
     ]
    },
    {
     "name": "stdout",
     "output_type": "stream",
     "text": [
      "60K : 24\n",
      "[0, -1600, -100, -1200, -2000]\n",
      "false\n",
      "60\n",
      "1\n",
      "-187989.7419623256\n",
      "5846.914288937329\n",
      "-------------------------\n"
     ]
    },
    {
     "name": "stderr",
     "output_type": "stream",
     "text": [
      "\u001b[36m\u001b[1m[ \u001b[22m\u001b[39m\u001b[36m\u001b[1mInfo: \u001b[22m\u001b[39m         290.9277799s: 4 minutes, 50 seconds, 927 milliseconds\n"
     ]
    },
    {
     "name": "stdout",
     "output_type": "stream",
     "text": [
      "60K : 24\n",
      "[0, -1800, -100, -1200, -2000]\n"
     ]
    },
    {
     "name": "stderr",
     "output_type": "stream",
     "text": [
      "\u001b[36m\u001b[1m[ \u001b[22m\u001b[39m\u001b[36m\u001b[1mInfo: \u001b[22m\u001b[39m started timer at: 2024-04-01T08:05:37.641\n"
     ]
    },
    {
     "name": "stdout",
     "output_type": "stream",
     "text": [
      "false\n",
      "60\n",
      "1\n",
      "-191482.2101636592\n",
      "5961.629630948679\n",
      "-------------------------\n",
      "60K : 24\n",
      "[0, -2000, -100, -1200, -2000]\n"
     ]
    },
    {
     "name": "stderr",
     "output_type": "stream",
     "text": [
      "\u001b[36m\u001b[1m[ \u001b[22m\u001b[39m\u001b[36m\u001b[1mInfo: \u001b[22m\u001b[39m         291.0531766s: 4 minutes, 51 seconds, 53 milliseconds\n",
      "\u001b[36m\u001b[1m[ \u001b[22m\u001b[39m\u001b[36m\u001b[1mInfo: \u001b[22m\u001b[39m started timer at: 2024-04-01T08:10:28.704\n"
     ]
    },
    {
     "name": "stdout",
     "output_type": "stream",
     "text": [
      "false\n",
      "60\n",
      "1\n",
      "-195182.27303488174\n",
      "5939.36628199807\n",
      "-------------------------"
     ]
    },
    {
     "name": "stderr",
     "output_type": "stream",
     "text": [
      "\u001b[36m\u001b[1m[ \u001b[22m\u001b[39m\u001b[36m\u001b[1mInfo: \u001b[22m\u001b[39m          290.199941s: 4 minutes, 50 seconds, 199 milliseconds\n"
     ]
    },
    {
     "name": "stdout",
     "output_type": "stream",
     "text": [
      "\n",
      "60K : 24\n",
      "[0, -2400, -100, -1200, -2000]\n"
     ]
    },
    {
     "name": "stderr",
     "output_type": "stream",
     "text": [
      "\u001b[36m\u001b[1m[ \u001b[22m\u001b[39m\u001b[36m\u001b[1mInfo: \u001b[22m\u001b[39m started timer at: 2024-04-01T08:15:18.936\n"
     ]
    },
    {
     "name": "stdout",
     "output_type": "stream",
     "text": [
      "false\n",
      "60\n",
      "1\n",
      "-202382.60238450623\n",
      "5963.285694450923\n",
      "-------------------------\n",
      "60K : 24\n",
      "[0, -2800, -100, -1200, -2000]\n"
     ]
    },
    {
     "name": "stderr",
     "output_type": "stream",
     "text": [
      "\u001b[36m\u001b[1m[ \u001b[22m\u001b[39m\u001b[36m\u001b[1mInfo: \u001b[22m\u001b[39m         289.4954554s: 4 minutes, 49 seconds, 495 milliseconds\n",
      "\u001b[36m\u001b[1m[ \u001b[22m\u001b[39m\u001b[36m\u001b[1mInfo: \u001b[22m\u001b[39m started timer at: 2024-04-01T08:20:08.453\n"
     ]
    },
    {
     "name": "stdout",
     "output_type": "stream",
     "text": [
      "false\n",
      "60\n",
      "1\n",
      "-209607.05047454554\n",
      "6373.966208013283\n",
      "-------------------------\n"
     ]
    },
    {
     "name": "stderr",
     "output_type": "stream",
     "text": [
      "\u001b[36m\u001b[1m[ \u001b[22m\u001b[39m\u001b[36m\u001b[1mInfo: \u001b[22m\u001b[39m         298.6996814s: 4 minutes, 58 seconds, 699 milliseconds\n"
     ]
    },
    {
     "name": "stdout",
     "output_type": "stream",
     "text": [
      "60K : 24\n",
      "[0, -3200, -100, -1200, -2000]\n"
     ]
    },
    {
     "name": "stderr",
     "output_type": "stream",
     "text": [
      "\u001b[36m\u001b[1m[ \u001b[22m\u001b[39m\u001b[36m\u001b[1mInfo: \u001b[22m\u001b[39m started timer at: 2024-04-01T08:25:07.152\n"
     ]
    },
    {
     "name": "stdout",
     "output_type": "stream",
     "text": [
      "false\n",
      "60\n",
      "1\n",
      "-216924.97502296706\n",
      "6204.942686099812\n",
      "-------------------------\n",
      "60K : 26\n",
      "[0, -200, -100, -1200, -2000]\n"
     ]
    },
    {
     "name": "stderr",
     "output_type": "stream",
     "text": [
      "\u001b[36m\u001b[1m[ \u001b[22m\u001b[39m\u001b[36m\u001b[1mInfo: \u001b[22m\u001b[39m         288.3927785s: 4 minutes, 48 seconds, 392 milliseconds\n",
      "\u001b[36m\u001b[1m[ \u001b[22m\u001b[39m\u001b[36m\u001b[1mInfo: \u001b[22m\u001b[39m started timer at: 2024-04-01T08:29:55.555\n"
     ]
    },
    {
     "name": "stdout",
     "output_type": "stream",
     "text": [
      "false\n",
      "60\n",
      "1\n",
      "-162045.30308033808\n",
      "5692.865192755945\n",
      "-------------------------\n",
      "60K : 26\n",
      "[0, -400, -100, -1200, -2000]\n"
     ]
    },
    {
     "name": "stderr",
     "output_type": "stream",
     "text": [
      "\u001b[36m\u001b[1m[ \u001b[22m\u001b[39m\u001b[36m\u001b[1mInfo: \u001b[22m\u001b[39m         291.8886637s: 4 minutes, 51 seconds, 888 milliseconds\n",
      "\u001b[36m\u001b[1m[ \u001b[22m\u001b[39m\u001b[36m\u001b[1mInfo: \u001b[22m\u001b[39m started timer at: 2024-04-01T08:34:47.454\n"
     ]
    },
    {
     "name": "stdout",
     "output_type": "stream",
     "text": [
      "false\n",
      "60\n",
      "1\n",
      "-165620.7893433681\n",
      "5705.017802703715\n"
     ]
    },
    {
     "name": "stderr",
     "output_type": "stream",
     "text": [
      "\u001b[36m\u001b[1m[ \u001b[22m\u001b[39m\u001b[36m\u001b[1mInfo: \u001b[22m\u001b[39m         289.1258921s: 4 minutes, 49 seconds, 125 milliseconds\n"
     ]
    },
    {
     "name": "stdout",
     "output_type": "stream",
     "text": [
      "-------------------------\n",
      "60K : 26\n",
      "[0, -600, -100, -1200, -2000]\n"
     ]
    },
    {
     "name": "stderr",
     "output_type": "stream",
     "text": [
      "\u001b[36m\u001b[1m[ \u001b[22m\u001b[39m\u001b[36m\u001b[1mInfo: \u001b[22m\u001b[39m started timer at: 2024-04-01T08:39:36.601\n"
     ]
    },
    {
     "name": "stdout",
     "output_type": "stream",
     "text": [
      "false\n",
      "60\n",
      "1\n",
      "-169278.90129468392\n",
      "5711.7511017990155\n",
      "-------------------------\n",
      "60K : 26\n",
      "[0, -800, -100, -1200, -2000]\n"
     ]
    },
    {
     "name": "stderr",
     "output_type": "stream",
     "text": [
      "\u001b[36m\u001b[1m[ \u001b[22m\u001b[39m\u001b[36m\u001b[1mInfo: \u001b[22m\u001b[39m         291.4815129s: 4 minutes, 51 seconds, 481 milliseconds\n",
      "\u001b[36m\u001b[1m[ \u001b[22m\u001b[39m\u001b[36m\u001b[1mInfo: \u001b[22m\u001b[39m started timer at: 2024-04-01T08:44:28.115\n"
     ]
    },
    {
     "name": "stdout",
     "output_type": "stream",
     "text": [
      "false\n",
      "60\n",
      "1\n",
      "-173007.0742949704\n",
      "5984.425940605886\n",
      "-------------------------\n"
     ]
    },
    {
     "name": "stderr",
     "output_type": "stream",
     "text": [
      "\u001b[36m\u001b[1m[ \u001b[22m\u001b[39m\u001b[36m\u001b[1mInfo: \u001b[22m\u001b[39m         303.0627266s: 5 minutes, 3 seconds, 62 milliseconds\n",
      "\u001b[36m\u001b[1m[ \u001b[22m\u001b[39m\u001b[36m\u001b[1mInfo: \u001b[22m\u001b[39m started timer at: 2024-04-01T08:49:31.199\n"
     ]
    },
    {
     "name": "stdout",
     "output_type": "stream",
     "text": [
      "60K : 26\n",
      "[0, -1000, -100, -1200, -2000]\n",
      "false\n",
      "60\n",
      "1\n",
      "-176500.94514495833\n",
      "5749.019581843575\n",
      "-------------------------\n"
     ]
    },
    {
     "name": "stderr",
     "output_type": "stream",
     "text": [
      "\u001b[36m\u001b[1m[ \u001b[22m\u001b[39m\u001b[36m\u001b[1mInfo: \u001b[22m\u001b[39m         293.1892352s: 4 minutes, 53 seconds, 189 milliseconds\n",
      "\u001b[36m\u001b[1m[ \u001b[22m\u001b[39m\u001b[36m\u001b[1mInfo: \u001b[22m\u001b[39m started timer at: 2024-04-01T08:54:24.398\n"
     ]
    },
    {
     "name": "stdout",
     "output_type": "stream",
     "text": [
      "60K : 26\n",
      "[0, -1200, -100, -1200, -2000]\n",
      "false\n",
      "60\n",
      "1\n",
      "-180209.97263719662\n",
      "5762.627681660371\n",
      "-------------------------\n",
      "60K : 26\n",
      "[0, -1400, -100, -1200, -2000]\n"
     ]
    },
    {
     "name": "stderr",
     "output_type": "stream",
     "text": [
      "\u001b[36m\u001b[1m[ \u001b[22m\u001b[39m\u001b[36m\u001b[1mInfo: \u001b[22m\u001b[39m           300.70345s: 5 minutes, 703 milliseconds\n",
      "\u001b[36m\u001b[1m[ \u001b[22m\u001b[39m\u001b[36m\u001b[1mInfo: \u001b[22m\u001b[39m started timer at: 2024-04-01T08:59:25.112\n"
     ]
    },
    {
     "name": "stdout",
     "output_type": "stream",
     "text": [
      "false\n",
      "60\n",
      "1\n",
      "-183833.5651196031\n",
      "5750.306038681811\n",
      "-------------------------\n",
      "60K : 26\n",
      "[0, -1600, -100, -1200, -2000]\n"
     ]
    },
    {
     "name": "stderr",
     "output_type": "stream",
     "text": [
      "\u001b[36m\u001b[1m[ \u001b[22m\u001b[39m\u001b[36m\u001b[1mInfo: \u001b[22m\u001b[39m          291.416211s: 4 minutes, 51 seconds, 416 milliseconds\n",
      "\u001b[36m\u001b[1m[ \u001b[22m\u001b[39m\u001b[36m\u001b[1mInfo: \u001b[22m\u001b[39m started timer at: 2024-04-01T09:04:16.550\n"
     ]
    },
    {
     "name": "stdout",
     "output_type": "stream",
     "text": [
      "false\n",
      "60\n",
      "1\n",
      "-187380.26205887512\n",
      "5797.657285845012\n",
      "-------------------------\n"
     ]
    },
    {
     "name": "stderr",
     "output_type": "stream",
     "text": [
      "\u001b[36m\u001b[1m[ \u001b[22m\u001b[39m\u001b[36m\u001b[1mInfo: \u001b[22m\u001b[39m         292.3839108s: 4 minutes, 52 seconds, 383 milliseconds\n",
      "\u001b[36m\u001b[1m[ \u001b[22m\u001b[39m\u001b[36m\u001b[1mInfo: \u001b[22m\u001b[39m started timer at: 2024-04-01T09:09:08.944\n"
     ]
    },
    {
     "name": "stdout",
     "output_type": "stream",
     "text": [
      "60K : 26\n",
      "[0, -1800, -100, -1200, -2000]\n",
      "false\n",
      "60\n",
      "1\n",
      "-191030.81466544405\n",
      "5878.759663747148\n"
     ]
    },
    {
     "name": "stderr",
     "output_type": "stream",
     "text": [
      "\u001b[36m\u001b[1m[ \u001b[22m\u001b[39m\u001b[36m\u001b[1mInfo: \u001b[22m\u001b[39m         294.5162089s: 4 minutes, 54 seconds, 516 milliseconds\n"
     ]
    },
    {
     "name": "stdout",
     "output_type": "stream",
     "text": [
      "-------------------------\n",
      "60K : 26\n",
      "[0, -2000, -100, -1200, -2000]\n"
     ]
    },
    {
     "name": "stderr",
     "output_type": "stream",
     "text": [
      "\u001b[36m\u001b[1m[ \u001b[22m\u001b[39m\u001b[36m\u001b[1mInfo: \u001b[22m\u001b[39m started timer at: 2024-04-01T09:14:03.471\n"
     ]
    },
    {
     "name": "stdout",
     "output_type": "stream",
     "text": [
      "false\n",
      "60\n",
      "1\n",
      "-194679.03365278884\n",
      "5786.6273778076475\n",
      "-------------------------\n"
     ]
    },
    {
     "name": "stderr",
     "output_type": "stream",
     "text": [
      "\u001b[36m\u001b[1m[ \u001b[22m\u001b[39m\u001b[36m\u001b[1mInfo: \u001b[22m\u001b[39m         288.7910471s: 4 minutes, 48 seconds, 791 milliseconds\n"
     ]
    },
    {
     "name": "stdout",
     "output_type": "stream",
     "text": [
      "60K : 26\n",
      "[0, -2400, -100, -1200, -2000]\n"
     ]
    },
    {
     "name": "stderr",
     "output_type": "stream",
     "text": [
      "\u001b[36m\u001b[1m[ \u001b[22m\u001b[39m\u001b[36m\u001b[1mInfo: \u001b[22m\u001b[39m started timer at: 2024-04-01T09:18:52.283\n"
     ]
    },
    {
     "name": "stdout",
     "output_type": "stream",
     "text": [
      "false\n",
      "60\n",
      "1\n",
      "-202046.47119499644\n",
      "6079.3898387411555\n",
      "-------------------------\n",
      "60K : 26\n",
      "[0, -2800, -100, -1200, -2000]\n"
     ]
    },
    {
     "name": "stderr",
     "output_type": "stream",
     "text": [
      "\u001b[36m\u001b[1m[ \u001b[22m\u001b[39m\u001b[36m\u001b[1mInfo: \u001b[22m\u001b[39m         295.0137025s: 4 minutes, 55 seconds, 13 milliseconds\n",
      "\u001b[36m\u001b[1m[ \u001b[22m\u001b[39m\u001b[36m\u001b[1mInfo: \u001b[22m\u001b[39m started timer at: 2024-04-01T09:23:47.307\n"
     ]
    },
    {
     "name": "stdout",
     "output_type": "stream",
     "text": [
      "false\n",
      "60\n",
      "1\n",
      "-209350.3313337554\n",
      "6007.277134644242\n",
      "-------------------------\n",
      "60K : 26\n",
      "[0, -3200, -100, -1200, -2000]\n"
     ]
    },
    {
     "name": "stderr",
     "output_type": "stream",
     "text": [
      "\u001b[36m\u001b[1m[ \u001b[22m\u001b[39m\u001b[36m\u001b[1mInfo: \u001b[22m\u001b[39m         288.4168421s: 4 minutes, 48 seconds, 416 milliseconds\n",
      "\u001b[36m\u001b[1m[ \u001b[22m\u001b[39m\u001b[36m\u001b[1mInfo: \u001b[22m\u001b[39m started timer at: 2024-04-01T09:28:35.746\n"
     ]
    },
    {
     "name": "stdout",
     "output_type": "stream",
     "text": [
      "false\n",
      "60\n",
      "1\n",
      "-216401.98145417866\n",
      "6058.047154656438\n",
      "-------------------------"
     ]
    },
    {
     "name": "stderr",
     "output_type": "stream",
     "text": [
      "\u001b[36m\u001b[1m[ \u001b[22m\u001b[39m\u001b[36m\u001b[1mInfo: \u001b[22m\u001b[39m         291.2855503s: 4 minutes, 51 seconds, 285 milliseconds\n"
     ]
    },
    {
     "name": "stdout",
     "output_type": "stream",
     "text": [
      "\n",
      "60K : 28\n",
      "[0, -200, -100, -1200, -2000]\n"
     ]
    },
    {
     "name": "stderr",
     "output_type": "stream",
     "text": [
      "\u001b[36m\u001b[1m[ \u001b[22m\u001b[39m\u001b[36m\u001b[1mInfo: \u001b[22m\u001b[39m started timer at: 2024-04-01T09:33:27.063\n"
     ]
    },
    {
     "name": "stdout",
     "output_type": "stream",
     "text": [
      "false\n",
      "60\n",
      "1\n",
      "-161781.1800205087\n",
      "5588.280785241388\n"
     ]
    },
    {
     "name": "stderr",
     "output_type": "stream",
     "text": [
      "\u001b[36m\u001b[1m[ \u001b[22m\u001b[39m\u001b[36m\u001b[1mInfo: \u001b[22m\u001b[39m         292.9918259s: 4 minutes, 52 seconds, 991 milliseconds\n"
     ]
    },
    {
     "name": "stdout",
     "output_type": "stream",
     "text": [
      "-------------------------\n",
      "60K : 28\n",
      "[0, -400, -100, -1200, -2000]\n"
     ]
    },
    {
     "name": "stderr",
     "output_type": "stream",
     "text": [
      "\u001b[36m\u001b[1m[ \u001b[22m\u001b[39m\u001b[36m\u001b[1mInfo: \u001b[22m\u001b[39m started timer at: 2024-04-01T09:38:20.087\n"
     ]
    },
    {
     "name": "stdout",
     "output_type": "stream",
     "text": [
      "false\n",
      "60\n",
      "1\n",
      "-165332.89635792823\n",
      "5625.35312520505\n",
      "-------------------------\n",
      "60K : 28\n",
      "[0, -600, -100, -1200, -2000]\n"
     ]
    },
    {
     "name": "stderr",
     "output_type": "stream",
     "text": [
      "\u001b[36m\u001b[1m[ \u001b[22m\u001b[39m\u001b[36m\u001b[1mInfo: \u001b[22m\u001b[39m         289.8583237s: 4 minutes, 49 seconds, 858 milliseconds\n",
      "\u001b[36m\u001b[1m[ \u001b[22m\u001b[39m\u001b[36m\u001b[1mInfo: \u001b[22m\u001b[39m started timer at: 2024-04-01T09:43:09.956\n"
     ]
    },
    {
     "name": "stdout",
     "output_type": "stream",
     "text": [
      "false\n",
      "60\n",
      "1\n",
      "-169021.42692911284\n",
      "5772.273083191753\n",
      "-------------------------"
     ]
    },
    {
     "name": "stderr",
     "output_type": "stream",
     "text": [
      "\u001b[36m\u001b[1m[ \u001b[22m\u001b[39m\u001b[36m\u001b[1mInfo: \u001b[22m\u001b[39m         296.0010208s: 4 minutes, 56 seconds, 1 millisecond\n"
     ]
    },
    {
     "name": "stdout",
     "output_type": "stream",
     "text": [
      "\n",
      "60K : 28\n",
      "[0, -800, -100, -1200, -2000]\n"
     ]
    },
    {
     "name": "stderr",
     "output_type": "stream",
     "text": [
      "\u001b[36m\u001b[1m[ \u001b[22m\u001b[39m\u001b[36m\u001b[1mInfo: \u001b[22m\u001b[39m started timer at: 2024-04-01T09:48:05.989\n"
     ]
    },
    {
     "name": "stdout",
     "output_type": "stream",
     "text": [
      "false\n",
      "60\n",
      "1\n",
      "-172660.39856198317\n",
      "5685.744872220137\n",
      "-------------------------\n",
      "60K : 28\n",
      "[0, -1000, -100, -1200, -2000]\n"
     ]
    },
    {
     "name": "stderr",
     "output_type": "stream",
     "text": [
      "\u001b[36m\u001b[1m[ \u001b[22m\u001b[39m\u001b[36m\u001b[1mInfo: \u001b[22m\u001b[39m         288.1052771s: 4 minutes, 48 seconds, 105 milliseconds\n",
      "\u001b[36m\u001b[1m[ \u001b[22m\u001b[39m\u001b[36m\u001b[1mInfo: \u001b[22m\u001b[39m started timer at: 2024-04-01T09:52:54.116\n"
     ]
    },
    {
     "name": "stdout",
     "output_type": "stream",
     "text": [
      "false\n",
      "60\n",
      "1\n",
      "-176196.75716445746\n",
      "5748.648249584137\n",
      "-------------------------\n",
      "60K : 28\n",
      "[0, -1200, -100, -1200, -2000]\n"
     ]
    },
    {
     "name": "stderr",
     "output_type": "stream",
     "text": [
      "\u001b[36m\u001b[1m[ \u001b[22m\u001b[39m\u001b[36m\u001b[1mInfo: \u001b[22m\u001b[39m         292.0733457s: 4 minutes, 52 seconds, 73 milliseconds\n",
      "\u001b[36m\u001b[1m[ \u001b[22m\u001b[39m\u001b[36m\u001b[1mInfo: \u001b[22m\u001b[39m started timer at: 2024-04-01T09:57:46.200\n"
     ]
    },
    {
     "name": "stdout",
     "output_type": "stream",
     "text": [
      "false\n",
      "60\n",
      "1\n",
      "-179820.73165924655\n",
      "5808.616025881352\n",
      "-------------------------\n",
      "60K : 28\n",
      "[0, -1400, -100, -1200, -2000]\n"
     ]
    },
    {
     "name": "stderr",
     "output_type": "stream",
     "text": [
      "\u001b[36m\u001b[1m[ \u001b[22m\u001b[39m\u001b[36m\u001b[1mInfo: \u001b[22m\u001b[39m         291.9530654s: 4 minutes, 51 seconds, 953 milliseconds\n",
      "\u001b[36m\u001b[1m[ \u001b[22m\u001b[39m\u001b[36m\u001b[1mInfo: \u001b[22m\u001b[39m started timer at: 2024-04-01T10:02:38.163\n"
     ]
    },
    {
     "name": "stdout",
     "output_type": "stream",
     "text": [
      "false\n",
      "60\n",
      "1\n",
      "-183569.63118437442\n",
      "5660.485492687989\n",
      "-------------------------\n",
      "60K : 28\n",
      "[0, -1600, -100, -1200, -2000]\n"
     ]
    },
    {
     "name": "stderr",
     "output_type": "stream",
     "text": [
      "\u001b[36m\u001b[1m[ \u001b[22m\u001b[39m\u001b[36m\u001b[1mInfo: \u001b[22m\u001b[39m         290.6978622s: 4 minutes, 50 seconds, 697 milliseconds\n",
      "\u001b[36m\u001b[1m[ \u001b[22m\u001b[39m\u001b[36m\u001b[1mInfo: \u001b[22m\u001b[39m started timer at: 2024-04-01T10:07:28.882\n"
     ]
    },
    {
     "name": "stdout",
     "output_type": "stream",
     "text": [
      "false\n",
      "60\n",
      "1\n",
      "-187166.04251406144\n",
      "5840.667074892739\n",
      "-------------------------\n",
      "60K : 28\n",
      "[0, -1800, -100, -1200, -2000]\n"
     ]
    },
    {
     "name": "stderr",
     "output_type": "stream",
     "text": [
      "\u001b[36m\u001b[1m[ \u001b[22m\u001b[39m\u001b[36m\u001b[1mInfo: \u001b[22m\u001b[39m         298.0905356s: 4 minutes, 58 seconds, 90 milliseconds\n",
      "\u001b[36m\u001b[1m[ \u001b[22m\u001b[39m\u001b[36m\u001b[1mInfo: \u001b[22m\u001b[39m started timer at: 2024-04-01T10:12:26.993\n"
     ]
    },
    {
     "name": "stdout",
     "output_type": "stream",
     "text": [
      "false\n",
      "60\n",
      "1\n",
      "-190689.57713088684\n",
      "5796.238437729518\n",
      "-------------------------\n",
      "60K : 28"
     ]
    },
    {
     "name": "stderr",
     "output_type": "stream",
     "text": [
      "\u001b[36m\u001b[1m[ \u001b[22m\u001b[39m\u001b[36m\u001b[1mInfo: \u001b[22m\u001b[39m         288.3654105s: 4 minutes, 48 seconds, 365 milliseconds\n",
      "\u001b[36m\u001b[1m[ \u001b[22m\u001b[39m\u001b[36m\u001b[1mInfo: \u001b[22m\u001b[39m started timer at: 2024-04-01T10:17:15.380\n"
     ]
    },
    {
     "name": "stdout",
     "output_type": "stream",
     "text": [
      "\n",
      "[0, -2000, -100, -1200, -2000]\n",
      "false\n",
      "60\n",
      "1\n",
      "-194340.47675428938\n",
      "5794.29562495514\n",
      "-------------------------\n",
      "60K : 28\n",
      "[0, -2400, -100, -1200, -2000]\n"
     ]
    },
    {
     "name": "stderr",
     "output_type": "stream",
     "text": [
      "\u001b[36m\u001b[1m[ \u001b[22m\u001b[39m\u001b[36m\u001b[1mInfo: \u001b[22m\u001b[39m         291.1024157s: 4 minutes, 51 seconds, 102 milliseconds\n",
      "\u001b[36m\u001b[1m[ \u001b[22m\u001b[39m\u001b[36m\u001b[1mInfo: \u001b[22m\u001b[39m started timer at: 2024-04-01T10:22:06.493\n"
     ]
    },
    {
     "name": "stdout",
     "output_type": "stream",
     "text": [
      "false\n",
      "60\n",
      "1\n",
      "-201538.48272270366\n",
      "5816.005300676986\n",
      "-------------------------\n",
      "60K : 28\n",
      "[0, -2800, -100, -1200, -2000]\n"
     ]
    },
    {
     "name": "stderr",
     "output_type": "stream",
     "text": [
      "\u001b[36m\u001b[1m[ \u001b[22m\u001b[39m\u001b[36m\u001b[1mInfo: \u001b[22m\u001b[39m         288.5922878s: 4 minutes, 48 seconds, 592 milliseconds\n",
      "\u001b[36m\u001b[1m[ \u001b[22m\u001b[39m\u001b[36m\u001b[1mInfo: \u001b[22m\u001b[39m started timer at: 2024-04-01T10:26:55.117\n"
     ]
    },
    {
     "name": "stdout",
     "output_type": "stream",
     "text": [
      "false\n",
      "60\n",
      "1\n",
      "-208861.54460952507\n",
      "5971.492341438652\n",
      "-------------------------\n",
      "60K : 28\n",
      "[0, -3200, -100, -1200, -2000]\n"
     ]
    },
    {
     "name": "stderr",
     "output_type": "stream",
     "text": [
      "\u001b[36m\u001b[1m[ \u001b[22m\u001b[39m\u001b[36m\u001b[1mInfo: \u001b[22m\u001b[39m         288.3995797s: 4 minutes, 48 seconds, 399 milliseconds\n",
      "\u001b[36m\u001b[1m[ \u001b[22m\u001b[39m\u001b[36m\u001b[1mInfo: \u001b[22m\u001b[39m started timer at: 2024-04-01T10:31:43.538\n"
     ]
    },
    {
     "name": "stdout",
     "output_type": "stream",
     "text": [
      "false\n",
      "60\n",
      "1\n",
      "-216156.1020036605\n",
      "6034.843738184555\n",
      "-------------------------\n",
      "60K : 30"
     ]
    },
    {
     "name": "stderr",
     "output_type": "stream",
     "text": [
      "\u001b[36m\u001b[1m[ \u001b[22m\u001b[39m\u001b[36m\u001b[1mInfo: \u001b[22m\u001b[39m         288.5393246s: 4 minutes, 48 seconds, 539 milliseconds\n",
      "\u001b[36m\u001b[1m[ \u001b[22m\u001b[39m\u001b[36m\u001b[1mInfo: \u001b[22m\u001b[39m started timer at: 2024-04-01T10:36:32.076\n"
     ]
    },
    {
     "name": "stdout",
     "output_type": "stream",
     "text": [
      "\n",
      "[0, -200, -100, -1200, -2000]\n",
      "false\n",
      "60\n",
      "1\n",
      "-161384.83123667073\n",
      "5576.629842808988\n",
      "-------------------------\n",
      "60K : 30\n",
      "[0, -400, -100,"
     ]
    },
    {
     "name": "stderr",
     "output_type": "stream",
     "text": [
      "\u001b[36m\u001b[1m[ \u001b[22m\u001b[39m\u001b[36m\u001b[1mInfo: \u001b[22m\u001b[39m         288.5384544s: 4 minutes, 48 seconds, 538 milliseconds\n",
      "\u001b[36m\u001b[1m[ \u001b[22m\u001b[39m\u001b[36m\u001b[1mInfo: \u001b[22m\u001b[39m started timer at: 2024-04-01T10:41:20.626\n"
     ]
    },
    {
     "name": "stdout",
     "output_type": "stream",
     "text": [
      " -1200, -2000]\n",
      "false\n",
      "60\n",
      "1\n",
      "-165074.54784349128\n",
      "5559.100629908119\n",
      "-------------------------\n",
      "60K : 30\n"
     ]
    },
    {
     "name": "stderr",
     "output_type": "stream",
     "text": [
      "\u001b[36m\u001b[1m[ \u001b[22m\u001b[39m\u001b[36m\u001b[1mInfo: \u001b[22m\u001b[39m         290.6868424s: 4 minutes, 50 seconds, 686 milliseconds\n",
      "\u001b[36m\u001b[1m[ \u001b[22m\u001b[39m\u001b[36m\u001b[1mInfo: \u001b[22m\u001b[39m started timer at: 2024-04-01T10:46:11.323\n"
     ]
    },
    {
     "name": "stdout",
     "output_type": "stream",
     "text": [
      "[0, -600, -100, -1200, -2000]\n",
      "false\n",
      "60\n",
      "1\n",
      "-168774.3062135324\n",
      "5661.11995388341\n",
      "-------------------------\n",
      "60K : 30\n",
      "[0, -800, -100, -1200, -2000]\n"
     ]
    },
    {
     "name": "stderr",
     "output_type": "stream",
     "text": [
      "\u001b[36m\u001b[1m[ \u001b[22m\u001b[39m\u001b[36m\u001b[1mInfo: \u001b[22m\u001b[39m         287.8985198s: 4 minutes, 47 seconds, 898 milliseconds\n",
      "\u001b[36m\u001b[1m[ \u001b[22m\u001b[39m\u001b[36m\u001b[1mInfo: \u001b[22m\u001b[39m started timer at: 2024-04-01T10:50:59.243\n"
     ]
    },
    {
     "name": "stdout",
     "output_type": "stream",
     "text": [
      "false\n",
      "60\n",
      "1\n",
      "-172370.63920016756\n",
      "5635.973909780061\n",
      "-------------------------\n",
      "60K : 30\n",
      "[0, -1000, -100, -1200, -2000]\n"
     ]
    },
    {
     "name": "stderr",
     "output_type": "stream",
     "text": [
      "\u001b[36m\u001b[1m[ \u001b[22m\u001b[39m\u001b[36m\u001b[1mInfo: \u001b[22m\u001b[39m         289.2800081s: 4 minutes, 49 seconds, 280 milliseconds\n",
      "\u001b[36m\u001b[1m[ \u001b[22m\u001b[39m\u001b[36m\u001b[1mInfo: \u001b[22m\u001b[39m started timer at: 2024-04-01T10:55:48.522\n"
     ]
    },
    {
     "name": "stdout",
     "output_type": "stream",
     "text": [
      "false\n",
      "60\n",
      "1\n",
      "-175920.22963024615\n",
      "5571.004243666833\n",
      "-------------------------\n",
      "60K : 30\n",
      "[0, -1200, -100, -1200, -2000]\n"
     ]
    },
    {
     "name": "stderr",
     "output_type": "stream",
     "text": [
      "\u001b[36m\u001b[1m[ \u001b[22m\u001b[39m\u001b[36m\u001b[1mInfo: \u001b[22m\u001b[39m         291.7607091s: 4 minutes, 51 seconds, 760 milliseconds\n",
      "\u001b[36m\u001b[1m[ \u001b[22m\u001b[39m\u001b[36m\u001b[1mInfo: \u001b[22m\u001b[39m started timer at: 2024-04-01T11:00:40.283\n"
     ]
    },
    {
     "name": "stdout",
     "output_type": "stream",
     "text": [
      "false\n",
      "60\n",
      "1\n",
      "-179580.46709631677\n",
      "5675.131796372179\n",
      "-------------------------\n",
      "60K : 30\n",
      "[0, -1400, -100, -1200, -2000]\n"
     ]
    },
    {
     "name": "stderr",
     "output_type": "stream",
     "text": [
      "\u001b[36m\u001b[1m[ \u001b[22m\u001b[39m\u001b[36m\u001b[1mInfo: \u001b[22m\u001b[39m         290.9455035s: 4 minutes, 50 seconds, 945 milliseconds\n",
      "\u001b[36m\u001b[1m[ \u001b[22m\u001b[39m\u001b[36m\u001b[1mInfo: \u001b[22m\u001b[39m started timer at: 2024-04-01T11:05:31.250\n"
     ]
    },
    {
     "name": "stdout",
     "output_type": "stream",
     "text": [
      "false\n",
      "60\n",
      "1\n",
      "-183190.02575795812\n",
      "5591.0225843610915\n",
      "-------------------------\n",
      "60K : 30\n",
      "[0, -1600, -100, -1200, -2000]\n"
     ]
    },
    {
     "name": "stderr",
     "output_type": "stream",
     "text": [
      "\u001b[36m\u001b[1m[ \u001b[22m\u001b[39m\u001b[36m\u001b[1mInfo: \u001b[22m\u001b[39m         288.6187984s: 4 minutes, 48 seconds, 618 milliseconds\n",
      "\u001b[36m\u001b[1m[ \u001b[22m\u001b[39m\u001b[36m\u001b[1mInfo: \u001b[22m\u001b[39m started timer at: 2024-04-01T11:10:19.869\n"
     ]
    },
    {
     "name": "stdout",
     "output_type": "stream",
     "text": [
      "false\n",
      "60\n",
      "1\n",
      "-186854.47067826398\n",
      "5695.47269413468\n",
      "-------------------------\n",
      "60K : 30\n",
      "[0, -1800, -100, -1200, -2000]\n"
     ]
    },
    {
     "name": "stderr",
     "output_type": "stream",
     "text": [
      "\u001b[36m\u001b[1m[ \u001b[22m\u001b[39m\u001b[36m\u001b[1mInfo: \u001b[22m\u001b[39m         291.7969405s: 4 minutes, 51 seconds, 796 milliseconds\n",
      "\u001b[36m\u001b[1m[ \u001b[22m\u001b[39m\u001b[36m\u001b[1mInfo: \u001b[22m\u001b[39m started timer at: 2024-04-01T11:15:11.688\n"
     ]
    },
    {
     "name": "stdout",
     "output_type": "stream",
     "text": [
      "false\n",
      "60\n",
      "1\n",
      "-190494.11906413798\n",
      "5759.825889017658\n",
      "-------------------------\n",
      "60K : 30\n",
      "[0"
     ]
    },
    {
     "name": "stderr",
     "output_type": "stream",
     "text": [
      "\u001b[36m\u001b[1m[ \u001b[22m\u001b[39m\u001b[36m\u001b[1mInfo: \u001b[22m\u001b[39m          293.706399s: 4 minutes, 53 seconds, 706 milliseconds\n",
      "\u001b[36m\u001b[1m[ \u001b[22m\u001b[39m\u001b[36m\u001b[1mInfo: \u001b[22m\u001b[39m started timer at: 2024-04-01T11:20:05.415\n"
     ]
    },
    {
     "name": "stdout",
     "output_type": "stream",
     "text": [
      ", -2000, -100, -1200, -2000]\n",
      "false\n",
      "60\n",
      "1\n",
      "-194024.37286064494\n",
      "5709.165881453196\n",
      "-------------------------\n",
      "60K : 30\n",
      "[0, -2400, -100, -1200, -2000]\n"
     ]
    },
    {
     "name": "stderr",
     "output_type": "stream",
     "text": [
      "\u001b[36m\u001b[1m[ \u001b[22m\u001b[39m\u001b[36m\u001b[1mInfo: \u001b[22m\u001b[39m         287.8333158s: 4 minutes, 47 seconds, 833 milliseconds\n",
      "\u001b[36m\u001b[1m[ \u001b[22m\u001b[39m\u001b[36m\u001b[1mInfo: \u001b[22m\u001b[39m started timer at: 2024-04-01T11:24:53.270\n"
     ]
    },
    {
     "name": "stdout",
     "output_type": "stream",
     "text": [
      "false\n",
      "60\n",
      "1\n",
      "-201361.92116966943\n",
      "5821.518711537032\n",
      "-------------------------\n",
      "60K : 30\n"
     ]
    },
    {
     "name": "stderr",
     "output_type": "stream",
     "text": [
      "\u001b[36m\u001b[1m[ \u001b[22m\u001b[39m\u001b[36m\u001b[1mInfo: \u001b[22m\u001b[39m         288.8470539s: 4 minutes, 48 seconds, 847 milliseconds\n",
      "\u001b[36m\u001b[1m[ \u001b[22m\u001b[39m\u001b[36m\u001b[1mInfo: \u001b[22m\u001b[39m started timer at: 2024-04-01T11:29:42.139\n"
     ]
    },
    {
     "name": "stdout",
     "output_type": "stream",
     "text": [
      "[0, -2800, -100, -1200, -2000]\n",
      "false\n",
      "60\n",
      "1\n",
      "-208610.3317834567\n",
      "5851.315212071957\n",
      "-------------------------\n",
      "60K : 30\n",
      "[0, -3200, -100, -1200, -2000]\n"
     ]
    },
    {
     "name": "stderr",
     "output_type": "stream",
     "text": [
      "\u001b[36m\u001b[1m[ \u001b[22m\u001b[39m\u001b[36m\u001b[1mInfo: \u001b[22m\u001b[39m         293.7702527s: 4 minutes, 53 seconds, 770 milliseconds\n",
      "\u001b[36m\u001b[1m[ \u001b[22m\u001b[39m\u001b[36m\u001b[1mInfo: \u001b[22m\u001b[39m started timer at: 2024-04-01T11:34:35.909\n"
     ]
    },
    {
     "name": "stdout",
     "output_type": "stream",
     "text": [
      "false\n",
      "60\n",
      "1\n",
      "-215837.70836055937\n",
      "5998.566674894004\n",
      "-------------------------\n",
      "50K : 2\n",
      "[0, -200, -100, -1200, -2000]\n"
     ]
    },
    {
     "name": "stderr",
     "output_type": "stream",
     "text": [
      "\u001b[36m\u001b[1m[ \u001b[22m\u001b[39m\u001b[36m\u001b[1mInfo: \u001b[22m\u001b[39m         295.5894131s: 4 minutes, 55 seconds, 589 milliseconds\n",
      "\u001b[36m\u001b[1m[ \u001b[22m\u001b[39m\u001b[36m\u001b[1mInfo: \u001b[22m\u001b[39m started timer at: 2024-04-01T11:39:31.520\n"
     ]
    },
    {
     "name": "stdout",
     "output_type": "stream",
     "text": [
      "false\n",
      "50\n",
      "1\n",
      "-162978.6223179982\n",
      "5916.557514625161\n",
      "-------------------------\n",
      "50K : 2\n",
      "[0, -400, -100,"
     ]
    },
    {
     "name": "stderr",
     "output_type": "stream",
     "text": [
      "\u001b[36m\u001b[1m[ \u001b[22m\u001b[39m\u001b[36m\u001b[1mInfo: \u001b[22m\u001b[39m         245.9368235s: 4 minutes, 5 seconds, 936 milliseconds\n",
      "\u001b[36m\u001b[1m[ \u001b[22m\u001b[39m\u001b[36m\u001b[1mInfo: \u001b[22m\u001b[39m started timer at: 2024-04-01T11:43:37.479\n"
     ]
    },
    {
     "name": "stdout",
     "output_type": "stream",
     "text": [
      " -1200, -2000]\n",
      "false\n",
      "50\n",
      "1\n",
      "-166629.63321684094\n",
      "5990.273601915908\n",
      "-------------------------\n"
     ]
    },
    {
     "name": "stderr",
     "output_type": "stream",
     "text": [
      "\u001b[36m\u001b[1m[ \u001b[22m\u001b[39m\u001b[36m\u001b[1mInfo: \u001b[22m\u001b[39m         246.4497433s: 4 minutes, 6 seconds, 449 milliseconds\n",
      "\u001b[36m\u001b[1m[ \u001b[22m\u001b[39m\u001b[36m\u001b[1mInfo: \u001b[22m\u001b[39m started timer at: 2024-04-01T11:47:43.950\n"
     ]
    },
    {
     "name": "stdout",
     "output_type": "stream",
     "text": [
      "50K : 2\n",
      "[0, -600, -100, -1200, -2000]\n",
      "false\n",
      "50\n",
      "1\n",
      "-170127.47696322427\n",
      "5951.380624770486\n",
      "-------------------------\n",
      "50K : 2\n",
      "[0, -800, -100, -1200, -2000]\n"
     ]
    },
    {
     "name": "stderr",
     "output_type": "stream",
     "text": [
      "\u001b[36m\u001b[1m[ \u001b[22m\u001b[39m\u001b[36m\u001b[1mInfo: \u001b[22m\u001b[39m         246.0721202s: 4 minutes, 6 seconds, 72 milliseconds\n",
      "\u001b[36m\u001b[1m[ \u001b[22m\u001b[39m\u001b[36m\u001b[1mInfo: \u001b[22m\u001b[39m started timer at: 2024-04-01T11:51:50.055\n"
     ]
    },
    {
     "name": "stdout",
     "output_type": "stream",
     "text": [
      "false\n",
      "50\n",
      "1\n",
      "-173755.21261615178\n",
      "6071.564880284446\n",
      "-------------------------\n",
      "50K : 2\n",
      "[0, -1000, -100, -1200, -2000]\n"
     ]
    },
    {
     "name": "stderr",
     "output_type": "stream",
     "text": [
      "\u001b[36m\u001b[1m[ \u001b[22m\u001b[39m\u001b[36m\u001b[1mInfo: \u001b[22m\u001b[39m         246.1014174s: 4 minutes, 6 seconds, 101 milliseconds\n",
      "\u001b[36m\u001b[1m[ \u001b[22m\u001b[39m\u001b[36m\u001b[1mInfo: \u001b[22m\u001b[39m started timer at: 2024-04-01T11:55:56.166\n"
     ]
    },
    {
     "name": "stdout",
     "output_type": "stream",
     "text": [
      "false\n",
      "50\n",
      "1\n",
      "-177262.46551288245\n",
      "6064.729532739332\n",
      "-------------------------\n",
      "50K : 2\n",
      "[0, -1200, -100, -1200, -2000]\n"
     ]
    },
    {
     "name": "stderr",
     "output_type": "stream",
     "text": [
      "\u001b[36m\u001b[1m[ \u001b[22m\u001b[39m\u001b[36m\u001b[1mInfo: \u001b[22m\u001b[39m         246.1089839s: 4 minutes, 6 seconds, 108 milliseconds\n",
      "\u001b[36m\u001b[1m[ \u001b[22m\u001b[39m\u001b[36m\u001b[1mInfo: \u001b[22m\u001b[39m started timer at: 2024-04-01T12:00:02.285\n"
     ]
    },
    {
     "name": "stdout",
     "output_type": "stream",
     "text": [
      "false\n",
      "50\n",
      "1\n",
      "-180993.47050511703\n",
      "6063.196302607663\n",
      "-------------------------\n",
      "50K : 2\n",
      "[0, -1400, -100, -1200, -2000]\n"
     ]
    },
    {
     "name": "stderr",
     "output_type": "stream",
     "text": [
      "\u001b[36m\u001b[1m[ \u001b[22m\u001b[39m\u001b[36m\u001b[1mInfo: \u001b[22m\u001b[39m         246.2098552s: 4 minutes, 6 seconds, 209 milliseconds\n",
      "\u001b[36m\u001b[1m[ \u001b[22m\u001b[39m\u001b[36m\u001b[1mInfo: \u001b[22m\u001b[39m started timer at: 2024-04-01T12:04:08.527\n"
     ]
    },
    {
     "name": "stdout",
     "output_type": "stream",
     "text": [
      "false\n",
      "50\n",
      "1\n",
      "-184723.55595919443\n",
      "6015.75363302098\n",
      "-------------------------\n",
      "50"
     ]
    },
    {
     "name": "stderr",
     "output_type": "stream",
     "text": [
      "\u001b[36m\u001b[1m[ \u001b[22m\u001b[39m\u001b[36m\u001b[1mInfo: \u001b[22m\u001b[39m         246.3255753s: 4 minutes, 6 seconds, 325 milliseconds\n",
      "\u001b[36m\u001b[1m[ \u001b[22m\u001b[39m\u001b[36m\u001b[1mInfo: \u001b[22m\u001b[39m started timer at: 2024-04-01T12:08:14.863\n"
     ]
    },
    {
     "name": "stdout",
     "output_type": "stream",
     "text": [
      "K : 2\n",
      "[0, -1600, -100, -1200, -2000]\n",
      "false\n",
      "50\n",
      "1\n",
      "-188153.6172413242\n",
      "6060.064384173186\n",
      "-------------------------\n",
      "50K : 2\n",
      "[0, -1800, -100, -1200, -2000]\n"
     ]
    },
    {
     "name": "stderr",
     "output_type": "stream",
     "text": [
      "\u001b[36m\u001b[1m[ \u001b[22m\u001b[39m\u001b[36m\u001b[1mInfo: \u001b[22m\u001b[39m         246.1028639s: 4 minutes, 6 seconds, 102 milliseconds\n",
      "\u001b[36m\u001b[1m[ \u001b[22m\u001b[39m\u001b[36m\u001b[1mInfo: \u001b[22m\u001b[39m started timer at: 2024-04-01T12:12:20.987\n"
     ]
    },
    {
     "name": "stdout",
     "output_type": "stream",
     "text": [
      "false\n",
      "50\n",
      "1\n",
      "-191798.73030727377\n",
      "6160.263287965018\n",
      "-------------------------\n",
      "50K : 2\n",
      "[0, -2000, -100, -1200, -2000]\n"
     ]
    },
    {
     "name": "stderr",
     "output_type": "stream",
     "text": [
      "\u001b[36m\u001b[1m[ \u001b[22m\u001b[39m\u001b[36m\u001b[1mInfo: \u001b[22m\u001b[39m         246.3296509s: 4 minutes, 6 seconds, 329 milliseconds\n",
      "\u001b[36m\u001b[1m[ \u001b[22m\u001b[39m\u001b[36m\u001b[1mInfo: \u001b[22m\u001b[39m started timer at: 2024-04-01T12:16:27.349\n"
     ]
    },
    {
     "name": "stdout",
     "output_type": "stream",
     "text": [
      "false\n",
      "50\n",
      "1\n",
      "-195450.83189478298\n",
      "6189.355584379851\n"
     ]
    },
    {
     "name": "stderr",
     "output_type": "stream",
     "text": [
      "\u001b[36m\u001b[1m[ \u001b[22m\u001b[39m\u001b[36m\u001b[1mInfo: \u001b[22m\u001b[39m          245.728379s: 4 minutes, 5 seconds, 728 milliseconds\n"
     ]
    },
    {
     "name": "stdout",
     "output_type": "stream",
     "text": [
      "-------------------------\n",
      "50K : 2\n",
      "[0, -2400, -100, -1200, -2000]\n"
     ]
    },
    {
     "name": "stderr",
     "output_type": "stream",
     "text": [
      "\u001b[36m\u001b[1m[ \u001b[22m\u001b[39m\u001b[36m\u001b[1mInfo: \u001b[22m\u001b[39m started timer at: 2024-04-01T12:20:33.099\n"
     ]
    },
    {
     "name": "stdout",
     "output_type": "stream",
     "text": [
      "false\n",
      "50\n",
      "1\n",
      "-202651.90539258847\n",
      "6181.390144177208\n",
      "-------------------------\n",
      "50K : 2\n",
      "[0, -2800, -100, -1200, -2000]\n"
     ]
    },
    {
     "name": "stderr",
     "output_type": "stream",
     "text": [
      "\u001b[36m\u001b[1m[ \u001b[22m\u001b[39m\u001b[36m\u001b[1mInfo: \u001b[22m\u001b[39m         246.9796994s: 4 minutes, 6 seconds, 979 milliseconds\n",
      "\u001b[36m\u001b[1m[ \u001b[22m\u001b[39m\u001b[36m\u001b[1mInfo: \u001b[22m\u001b[39m started timer at: 2024-04-01T12:24:40.089\n"
     ]
    },
    {
     "name": "stdout",
     "output_type": "stream",
     "text": [
      "false\n",
      "50\n",
      "1\n",
      "-209868.36096726535\n",
      "6374.623462277355\n"
     ]
    },
    {
     "name": "stderr",
     "output_type": "stream",
     "text": [
      "\u001b[36m\u001b[1m[ \u001b[22m\u001b[39m\u001b[36m\u001b[1mInfo: \u001b[22m\u001b[39m          246.085033s: 4 minutes, 6 seconds, 85 milliseconds\n"
     ]
    },
    {
     "name": "stdout",
     "output_type": "stream",
     "text": [
      "-------------------------\n",
      "50K : 2\n",
      "[0, -3200, -100, -1200, -2000]\n"
     ]
    },
    {
     "name": "stderr",
     "output_type": "stream",
     "text": [
      "\u001b[36m\u001b[1m[ \u001b[22m\u001b[39m\u001b[36m\u001b[1mInfo: \u001b[22m\u001b[39m started timer at: 2024-04-01T12:28:46.195\n"
     ]
    },
    {
     "name": "stdout",
     "output_type": "stream",
     "text": [
      "false\n",
      "50\n",
      "1\n",
      "-217098.68941342135\n",
      "6458.30069868775\n",
      "-------------------------\n",
      "50K : 4\n",
      "[0, -200, -100, -1200, -2000]\n"
     ]
    },
    {
     "name": "stderr",
     "output_type": "stream",
     "text": [
      "\u001b[36m\u001b[1m[ \u001b[22m\u001b[39m\u001b[36m\u001b[1mInfo: \u001b[22m\u001b[39m          246.152706s: 4 minutes, 6 seconds, 152 milliseconds\n",
      "\u001b[36m\u001b[1m[ \u001b[22m\u001b[39m\u001b[36m\u001b[1mInfo: \u001b[22m\u001b[39m started timer at: 2024-04-01T12:32:52.347\n"
     ]
    },
    {
     "name": "stdout",
     "output_type": "stream",
     "text": [
      "false\n",
      "50\n",
      "1\n",
      "-155509.36067224573\n",
      "6497.883647137645\n",
      "-------------------------\n",
      "50K : 4\n",
      "[0, -400, -100, -1200, -2000]\n"
     ]
    },
    {
     "name": "stderr",
     "output_type": "stream",
     "text": [
      "\u001b[36m\u001b[1m[ \u001b[22m\u001b[39m\u001b[36m\u001b[1mInfo: \u001b[22m\u001b[39m         246.0012306s: 4 minutes, 6 seconds, 1 millisecond\n",
      "\u001b[36m\u001b[1m[ \u001b[22m\u001b[39m\u001b[36m\u001b[1mInfo: \u001b[22m\u001b[39m started timer at: 2024-04-01T12:36:58.382\n"
     ]
    },
    {
     "name": "stdout",
     "output_type": "stream",
     "text": [
      "false\n",
      "50\n",
      "1\n",
      "-159070.3433837716\n",
      "6461.281124772569\n",
      "-------------------------\n",
      "50K : 4\n",
      "[0, -600, -100, -1200, -2000]\n"
     ]
    },
    {
     "name": "stderr",
     "output_type": "stream",
     "text": [
      "\u001b[36m\u001b[1m[ \u001b[22m\u001b[39m\u001b[36m\u001b[1mInfo: \u001b[22m\u001b[39m         246.4708032s: 4 minutes, 6 seconds, 470 milliseconds\n",
      "\u001b[36m\u001b[1m[ \u001b[22m\u001b[39m\u001b[36m\u001b[1mInfo: \u001b[22m\u001b[39m started timer at: 2024-04-01T12:41:04.874\n"
     ]
    },
    {
     "name": "stdout",
     "output_type": "stream",
     "text": [
      "false\n",
      "50\n",
      "1\n",
      "-162691.6226551589\n",
      "6491.586334023121\n",
      "-------------------------\n"
     ]
    },
    {
     "name": "stderr",
     "output_type": "stream",
     "text": [
      "\u001b[36m\u001b[1m[ \u001b[22m\u001b[39m\u001b[36m\u001b[1mInfo: \u001b[22m\u001b[39m         245.9527232s: 4 minutes, 5 seconds, 952 milliseconds\n"
     ]
    },
    {
     "name": "stdout",
     "output_type": "stream",
     "text": [
      "50K : 4\n",
      "[0, -800, -100, -1200, -2000]\n"
     ]
    },
    {
     "name": "stderr",
     "output_type": "stream",
     "text": [
      "\u001b[36m\u001b[1m[ \u001b[22m\u001b[39m\u001b[36m\u001b[1mInfo: \u001b[22m\u001b[39m started timer at: 2024-04-01T12:45:10.836\n"
     ]
    },
    {
     "name": "stdout",
     "output_type": "stream",
     "text": [
      "false\n",
      "50\n",
      "1\n",
      "-166376.51862666677\n",
      "6616.515349964533\n",
      "-------------------------\n",
      "50K : 4\n",
      "[0, -1000, -100, -1200, -2000]\n"
     ]
    },
    {
     "name": "stderr",
     "output_type": "stream",
     "text": [
      "\u001b[36m\u001b[1m[ \u001b[22m\u001b[39m\u001b[36m\u001b[1mInfo: \u001b[22m\u001b[39m         247.3066371s: 4 minutes, 7 seconds, 306 milliseconds\n",
      "\u001b[36m\u001b[1m[ \u001b[22m\u001b[39m\u001b[36m\u001b[1mInfo: \u001b[22m\u001b[39m started timer at: 2024-04-01T12:49:18.154\n"
     ]
    },
    {
     "name": "stdout",
     "output_type": "stream",
     "text": [
      "false\n",
      "50\n",
      "1\n",
      "-169893.34639357342\n",
      "6661.275252299402\n",
      "-------------------------\n",
      "50K : 4\n",
      "[0, -1200, -100, -1200, -2000]\n"
     ]
    },
    {
     "name": "stderr",
     "output_type": "stream",
     "text": [
      "\u001b[36m\u001b[1m[ \u001b[22m\u001b[39m\u001b[36m\u001b[1mInfo: \u001b[22m\u001b[39m         244.4686071s: 4 minutes, 4 seconds, 468 milliseconds\n",
      "\u001b[36m\u001b[1m[ \u001b[22m\u001b[39m\u001b[36m\u001b[1mInfo: \u001b[22m\u001b[39m started timer at: 2024-04-01T12:53:22.644\n"
     ]
    },
    {
     "name": "stdout",
     "output_type": "stream",
     "text": [
      "false\n",
      "50\n",
      "1\n",
      "-173486.48590217694\n",
      "6743.286389260912\n",
      "-------------------------\n",
      "50K : 4\n",
      "[0, -1400, -100, -1200, -2000]\n"
     ]
    },
    {
     "name": "stderr",
     "output_type": "stream",
     "text": [
      "\u001b[36m\u001b[1m[ \u001b[22m\u001b[39m\u001b[36m\u001b[1mInfo: \u001b[22m\u001b[39m         245.3310156s: 4 minutes, 5 seconds, 331 milliseconds\n",
      "\u001b[36m\u001b[1m[ \u001b[22m\u001b[39m\u001b[36m\u001b[1mInfo: \u001b[22m\u001b[39m started timer at: 2024-04-01T12:57:27.985\n"
     ]
    },
    {
     "name": "stdout",
     "output_type": "stream",
     "text": [
      "false\n",
      "50\n",
      "1\n",
      "-177189.0210832494\n",
      "6701.179171030679\n",
      "-------------------------\n",
      "50K : 4\n",
      "[0, -1600, -100, -1200, -2000]\n"
     ]
    },
    {
     "name": "stderr",
     "output_type": "stream",
     "text": [
      "\u001b[36m\u001b[1m[ \u001b[22m\u001b[39m\u001b[36m\u001b[1mInfo: \u001b[22m\u001b[39m         245.8428622s: 4 minutes, 5 seconds, 842 milliseconds\n",
      "\u001b[36m\u001b[1m[ \u001b[22m\u001b[39m\u001b[36m\u001b[1mInfo: \u001b[22m\u001b[39m started timer at: 2024-04-01T13:01:33.838\n"
     ]
    },
    {
     "name": "stdout",
     "output_type": "stream",
     "text": [
      "false\n",
      "50\n",
      "1\n",
      "-180759.9502319734\n",
      "6586.261380284751\n",
      "-------------------------\n",
      "50"
     ]
    },
    {
     "name": "stderr",
     "output_type": "stream",
     "text": [
      "\u001b[36m\u001b[1m[ \u001b[22m\u001b[39m\u001b[36m\u001b[1mInfo: \u001b[22m\u001b[39m         249.0107845s: 4 minutes, 9 seconds, 10 milliseconds\n",
      "\u001b[36m\u001b[1m[ \u001b[22m\u001b[39m\u001b[36m\u001b[1mInfo: \u001b[22m\u001b[39m started timer at: 2024-04-01T13:05:42.870\n"
     ]
    },
    {
     "name": "stdout",
     "output_type": "stream",
     "text": [
      "K : 4\n",
      "[0, -1800, -100, -1200, -2000]\n",
      "false\n",
      "50\n",
      "1\n",
      "-184312.07352575488\n",
      "6736.267849378376\n",
      "-------------------------\n"
     ]
    },
    {
     "name": "stderr",
     "output_type": "stream",
     "text": [
      "\u001b[36m\u001b[1m[ \u001b[22m\u001b[39m\u001b[36m\u001b[1mInfo: \u001b[22m\u001b[39m         244.5105288s: 4 minutes, 4 seconds, 510 milliseconds\n",
      "\u001b[36m\u001b[1m[ \u001b[22m\u001b[39m\u001b[36m\u001b[1mInfo: \u001b[22m\u001b[39m started timer at: 2024-04-01T13:09:47.403\n"
     ]
    },
    {
     "name": "stdout",
     "output_type": "stream",
     "text": [
      "50K : 4\n",
      "[0, -2000, -100, -1200, -2000]\n",
      "false\n",
      "50\n",
      "1\n",
      "-187929.1273678909\n",
      "6748.930823210072\n",
      "-------------------------\n",
      "50K : 4\n",
      "[0, -2400, -100, -1200, -2000]\n"
     ]
    },
    {
     "name": "stderr",
     "output_type": "stream",
     "text": [
      "\u001b[36m\u001b[1m[ \u001b[22m\u001b[39m\u001b[36m\u001b[1mInfo: \u001b[22m\u001b[39m          244.746658s: 4 minutes, 4 seconds, 746 milliseconds\n",
      "\u001b[36m\u001b[1m[ \u001b[22m\u001b[39m\u001b[36m\u001b[1mInfo: \u001b[22m\u001b[39m started timer at: 2024-04-01T13:13:52.171\n"
     ]
    },
    {
     "name": "stdout",
     "output_type": "stream",
     "text": [
      "false\n",
      "50\n",
      "1\n",
      "-195197.68418230567\n",
      "6831.477694563147\n",
      "-------------------------\n",
      "50K : 4\n",
      "[0, -2800, -100, -1200, -2000]\n"
     ]
    },
    {
     "name": "stderr",
     "output_type": "stream",
     "text": [
      "\u001b[36m\u001b[1m[ \u001b[22m\u001b[39m\u001b[36m\u001b[1mInfo: \u001b[22m\u001b[39m         245.1255357s: 4 minutes, 5 seconds, 125 milliseconds\n",
      "\u001b[36m\u001b[1m[ \u001b[22m\u001b[39m\u001b[36m\u001b[1mInfo: \u001b[22m\u001b[39m started timer at: 2024-04-01T13:17:57.318\n"
     ]
    },
    {
     "name": "stdout",
     "output_type": "stream",
     "text": [
      "false\n",
      "50\n",
      "1\n",
      "-202331.2312446288\n",
      "6894.463331426749\n",
      "-------------------------\n",
      "50"
     ]
    },
    {
     "name": "stderr",
     "output_type": "stream",
     "text": [
      "\u001b[36m\u001b[1m[ \u001b[22m\u001b[39m\u001b[36m\u001b[1mInfo: \u001b[22m\u001b[39m         244.6832061s: 4 minutes, 4 seconds, 683 milliseconds\n",
      "\u001b[36m\u001b[1m[ \u001b[22m\u001b[39m\u001b[36m\u001b[1mInfo: \u001b[22m\u001b[39m started timer at: 2024-04-01T13:22:02.023\n"
     ]
    },
    {
     "name": "stdout",
     "output_type": "stream",
     "text": [
      "K : 4\n",
      "[0, -3200, -100, -1200, -2000]\n",
      "false\n",
      "50\n",
      "1\n",
      "-209655.51675693208\n",
      "6963.364803808102\n",
      "-------------------------\n",
      "50K : 6\n",
      "[0, -200, -100, -1200, -2000]\n"
     ]
    },
    {
     "name": "stderr",
     "output_type": "stream",
     "text": [
      "\u001b[36m\u001b[1m[ \u001b[22m\u001b[39m\u001b[36m\u001b[1mInfo: \u001b[22m\u001b[39m           245.71204s: 4 minutes, 5 seconds, 712 milliseconds\n",
      "\u001b[36m\u001b[1m[ \u001b[22m\u001b[39m\u001b[36m\u001b[1mInfo: \u001b[22m\u001b[39m started timer at: 2024-04-01T13:26:07.767\n"
     ]
    },
    {
     "name": "stdout",
     "output_type": "stream",
     "text": [
      "false\n",
      "50\n",
      "1\n",
      "-149721.04954204193\n",
      "6744.8351777449525\n",
      "-------------------------\n"
     ]
    },
    {
     "name": "stderr",
     "output_type": "stream",
     "text": [
      "\u001b[36m\u001b[1m[ \u001b[22m\u001b[39m\u001b[36m\u001b[1mInfo: \u001b[22m\u001b[39m         244.8088794s: 4 minutes, 4 seconds, 808 milliseconds\n",
      "\u001b[36m\u001b[1m[ \u001b[22m\u001b[39m\u001b[36m\u001b[1mInfo: \u001b[22m\u001b[39m started timer at: 2024-04-01T13:30:12.597\n"
     ]
    },
    {
     "name": "stdout",
     "output_type": "stream",
     "text": [
      "50K : 6\n",
      "[0, -400, -100, -1200, -2000]\n",
      "false\n",
      "50\n",
      "1\n",
      "-153273.23871649374\n",
      "6733.025732183292\n",
      "-------------------------"
     ]
    },
    {
     "name": "stderr",
     "output_type": "stream",
     "text": [
      "\u001b[36m\u001b[1m[ \u001b[22m\u001b[39m\u001b[36m\u001b[1mInfo: \u001b[22m\u001b[39m         244.4716674s: 4 minutes, 4 seconds, 471 milliseconds\n"
     ]
    },
    {
     "name": "stdout",
     "output_type": "stream",
     "text": [
      "\n",
      "50K : 6\n",
      "[0, -600, -100, -1200, -2000]\n"
     ]
    },
    {
     "name": "stderr",
     "output_type": "stream",
     "text": [
      "\u001b[36m\u001b[1m[ \u001b[22m\u001b[39m\u001b[36m\u001b[1mInfo: \u001b[22m\u001b[39m started timer at: 2024-04-01T13:34:17.101\n"
     ]
    },
    {
     "name": "stdout",
     "output_type": "stream",
     "text": [
      "false\n",
      "50\n",
      "1\n",
      "-156845.96672203165\n",
      "6820.88779112219\n",
      "-------------------------\n",
      "50K : 6\n"
     ]
    },
    {
     "name": "stderr",
     "output_type": "stream",
     "text": [
      "\u001b[36m\u001b[1m[ \u001b[22m\u001b[39m\u001b[36m\u001b[1mInfo: \u001b[22m\u001b[39m         245.3702526s: 4 minutes, 5 seconds, 370 milliseconds\n",
      "\u001b[36m\u001b[1m[ \u001b[22m\u001b[39m\u001b[36m\u001b[1mInfo: \u001b[22m\u001b[39m started timer at: 2024-04-01T13:38:22.482\n"
     ]
    },
    {
     "name": "stdout",
     "output_type": "stream",
     "text": [
      "[0, -800, -100, -1200, -2000]\n",
      "false\n",
      "50\n",
      "1\n",
      "-160486.38386019968\n",
      "6656.642080219759\n",
      "-------------------------\n"
     ]
    },
    {
     "name": "stderr",
     "output_type": "stream",
     "text": [
      "\u001b[36m\u001b[1m[ \u001b[22m\u001b[39m\u001b[36m\u001b[1mInfo: \u001b[22m\u001b[39m         244.8930153s: 4 minutes, 4 seconds, 893 milliseconds\n",
      "\u001b[36m\u001b[1m[ \u001b[22m\u001b[39m\u001b[36m\u001b[1mInfo: \u001b[22m\u001b[39m started timer at: 2024-04-01T13:42:27.374\n"
     ]
    },
    {
     "name": "stdout",
     "output_type": "stream",
     "text": [
      "50K : 6\n",
      "[0, -1000, -100, -1200, -2000]\n",
      "false\n",
      "50\n",
      "1\n",
      "-164192.91380311016\n",
      "6801.792914050989\n",
      "-------------------------\n",
      "50"
     ]
    },
    {
     "name": "stderr",
     "output_type": "stream",
     "text": [
      "\u001b[36m\u001b[1m[ \u001b[22m\u001b[39m\u001b[36m\u001b[1mInfo: \u001b[22m\u001b[39m         245.5232121s: 4 minutes, 5 seconds, 523 milliseconds\n",
      "\u001b[36m\u001b[1m[ \u001b[22m\u001b[39m\u001b[36m\u001b[1mInfo: \u001b[22m\u001b[39m started timer at: 2024-04-01T13:46:32.920\n"
     ]
    },
    {
     "name": "stdout",
     "output_type": "stream",
     "text": [
      "K : 6\n",
      "[0, -1200, -100, -1200, -2000]\n",
      "false\n",
      "50\n",
      "1\n",
      "-167712.77541020545\n",
      "6770.334578085323\n",
      "-------------------------\n",
      "50K : 6\n",
      "[0, -1400, -100, -1200, -2000]\n"
     ]
    },
    {
     "name": "stderr",
     "output_type": "stream",
     "text": [
      "\u001b[36m\u001b[1m[ \u001b[22m\u001b[39m\u001b[36m\u001b[1mInfo: \u001b[22m\u001b[39m         245.1253976s: 4 minutes, 5 seconds, 125 milliseconds\n",
      "\u001b[36m\u001b[1m[ \u001b[22m\u001b[39m\u001b[36m\u001b[1mInfo: \u001b[22m\u001b[39m started timer at: 2024-04-01T13:50:38.055\n"
     ]
    },
    {
     "name": "stdout",
     "output_type": "stream",
     "text": [
      "false\n",
      "50\n",
      "1\n",
      "-171289.2911812553\n",
      "6787.799564243296\n",
      "-------------------------\n",
      "50K : 6\n",
      "[0, -1600, -100, -1200, -2000]\n"
     ]
    },
    {
     "name": "stderr",
     "output_type": "stream",
     "text": [
      "\u001b[36m\u001b[1m[ \u001b[22m\u001b[39m\u001b[36m\u001b[1mInfo: \u001b[22m\u001b[39m         247.5450229s: 4 minutes, 7 seconds, 545 milliseconds\n",
      "\u001b[36m\u001b[1m[ \u001b[22m\u001b[39m\u001b[36m\u001b[1mInfo: \u001b[22m\u001b[39m started timer at: 2024-04-01T13:54:45.611\n"
     ]
    },
    {
     "name": "stdout",
     "output_type": "stream",
     "text": [
      "false\n",
      "50\n",
      "1\n",
      "-175052.94843953702\n",
      "6807.95452503762\n",
      "-------------------------\n",
      "50K : 6\n",
      "[0, -1800, -100, -1200, -2000]\n"
     ]
    },
    {
     "name": "stderr",
     "output_type": "stream",
     "text": [
      "\u001b[36m\u001b[1m[ \u001b[22m\u001b[39m\u001b[36m\u001b[1mInfo: \u001b[22m\u001b[39m          245.108979s: 4 minutes, 5 seconds, 108 milliseconds\n",
      "\u001b[36m\u001b[1m[ \u001b[22m\u001b[39m\u001b[36m\u001b[1mInfo: \u001b[22m\u001b[39m started timer at: 2024-04-01T13:58:50.752\n"
     ]
    },
    {
     "name": "stdout",
     "output_type": "stream",
     "text": [
      "false\n",
      "50\n",
      "1\n",
      "-178459.9217946269\n",
      "6914.719514510237\n",
      "-------------------------\n",
      "50K : 6\n",
      "[0, -2000, -100, -1200, -2000]\n"
     ]
    },
    {
     "name": "stderr",
     "output_type": "stream",
     "text": [
      "\u001b[36m\u001b[1m[ \u001b[22m\u001b[39m\u001b[36m\u001b[1mInfo: \u001b[22m\u001b[39m         245.0227181s: 4 minutes, 5 seconds, 22 milliseconds\n",
      "\u001b[36m\u001b[1m[ \u001b[22m\u001b[39m\u001b[36m\u001b[1mInfo: \u001b[22m\u001b[39m started timer at: 2024-04-01T14:02:55.785\n"
     ]
    },
    {
     "name": "stdout",
     "output_type": "stream",
     "text": [
      "false\n",
      "50\n",
      "1\n",
      "-182178.12352173604\n",
      "6865.510481277887\n",
      "-------------------------\n",
      "50K : 6\n",
      "[0, -2400, -100, -1200, -2000]\n"
     ]
    },
    {
     "name": "stderr",
     "output_type": "stream",
     "text": [
      "\u001b[36m\u001b[1m[ \u001b[22m\u001b[39m\u001b[36m\u001b[1mInfo: \u001b[22m\u001b[39m         244.9405045s: 4 minutes, 4 seconds, 940 milliseconds\n",
      "\u001b[36m\u001b[1m[ \u001b[22m\u001b[39m\u001b[36m\u001b[1mInfo: \u001b[22m\u001b[39m started timer at: 2024-04-01T14:07:00.748\n"
     ]
    },
    {
     "name": "stdout",
     "output_type": "stream",
     "text": [
      "false\n",
      "50\n",
      "1\n",
      "-189439.3275934477\n",
      "6913.266024311662\n",
      "-------------------------\n",
      "50K : 6\n",
      "[0, -2800, -100"
     ]
    },
    {
     "name": "stderr",
     "output_type": "stream",
     "text": [
      "\u001b[36m\u001b[1m[ \u001b[22m\u001b[39m\u001b[36m\u001b[1mInfo: \u001b[22m\u001b[39m         245.3242965s: 4 minutes, 5 seconds, 324 milliseconds\n",
      "\u001b[36m\u001b[1m[ \u001b[22m\u001b[39m\u001b[36m\u001b[1mInfo: \u001b[22m\u001b[39m started timer at: 2024-04-01T14:11:06.094\n"
     ]
    },
    {
     "name": "stdout",
     "output_type": "stream",
     "text": [
      ", -1200, -2000]\n",
      "false\n",
      "50\n",
      "1\n",
      "-196586.20140217128\n",
      "6994.9782589115985\n",
      "-------------------------"
     ]
    },
    {
     "name": "stderr",
     "output_type": "stream",
     "text": [
      "\u001b[36m\u001b[1m[ \u001b[22m\u001b[39m\u001b[36m\u001b[1mInfo: \u001b[22m\u001b[39m          245.232823s: 4 minutes, 5 seconds, 232 milliseconds\n"
     ]
    },
    {
     "name": "stdout",
     "output_type": "stream",
     "text": [
      "\n",
      "50K : 6\n",
      "[0, -3200, -100, -1200, -2000]\n"
     ]
    },
    {
     "name": "stderr",
     "output_type": "stream",
     "text": [
      "\u001b[36m\u001b[1m[ \u001b[22m\u001b[39m\u001b[36m\u001b[1mInfo: \u001b[22m\u001b[39m started timer at: 2024-04-01T14:15:11.359\n"
     ]
    },
    {
     "name": "stdout",
     "output_type": "stream",
     "text": [
      "false\n",
      "50\n",
      "1\n",
      "-203737.72601824868\n",
      "7122.077862893101\n",
      "-------------------------\n",
      "50K : 8\n",
      "[0, -200, -100, -1200, -2000]\n"
     ]
    },
    {
     "name": "stderr",
     "output_type": "stream",
     "text": [
      "\u001b[36m\u001b[1m[ \u001b[22m\u001b[39m\u001b[36m\u001b[1mInfo: \u001b[22m\u001b[39m         245.6275032s: 4 minutes, 5 seconds, 627 milliseconds\n",
      "\u001b[36m\u001b[1m[ \u001b[22m\u001b[39m\u001b[36m\u001b[1mInfo: \u001b[22m\u001b[39m started timer at: 2024-04-01T14:19:17.019\n"
     ]
    },
    {
     "name": "stdout",
     "output_type": "stream",
     "text": [
      "false\n",
      "50\n",
      "1\n",
      "-145282.2822065473\n",
      "6549.906669169454\n",
      "-------------------------\n",
      "50K : 8\n",
      "[0, -400, -100, -1200, -2000]\n"
     ]
    },
    {
     "name": "stderr",
     "output_type": "stream",
     "text": [
      "\u001b[36m\u001b[1m[ \u001b[22m\u001b[39m\u001b[36m\u001b[1mInfo: \u001b[22m\u001b[39m         244.8090015s: 4 minutes, 4 seconds, 809 milliseconds\n",
      "\u001b[36m\u001b[1m[ \u001b[22m\u001b[39m\u001b[36m\u001b[1mInfo: \u001b[22m\u001b[39m started timer at: 2024-04-01T14:23:21.839\n"
     ]
    },
    {
     "name": "stdout",
     "output_type": "stream",
     "text": [
      "false\n",
      "50\n",
      "1\n",
      "-148903.48330927535\n",
      "6610.229810033193\n",
      "-------------------------\n",
      "50K : 8\n",
      "[0, -600, -100, -1200, -2000]\n"
     ]
    },
    {
     "name": "stderr",
     "output_type": "stream",
     "text": [
      "\u001b[36m\u001b[1m[ \u001b[22m\u001b[39m\u001b[36m\u001b[1mInfo: \u001b[22m\u001b[39m         245.6086418s: 4 minutes, 5 seconds, 608 milliseconds\n",
      "\u001b[36m\u001b[1m[ \u001b[22m\u001b[39m\u001b[36m\u001b[1mInfo: \u001b[22m\u001b[39m started timer at: 2024-04-01T14:27:27.469\n"
     ]
    },
    {
     "name": "stdout",
     "output_type": "stream",
     "text": [
      "false\n",
      "50\n",
      "1\n",
      "-152579.72382104254\n",
      "6628.73022840018\n",
      "-------------------------\n",
      "50K : "
     ]
    },
    {
     "name": "stderr",
     "output_type": "stream",
     "text": [
      "\u001b[36m\u001b[1m[ \u001b[22m\u001b[39m\u001b[36m\u001b[1mInfo: \u001b[22m\u001b[39m         245.6315724s: 4 minutes, 5 seconds, 631 milliseconds\n",
      "\u001b[36m\u001b[1m[ \u001b[22m\u001b[39m\u001b[36m\u001b[1mInfo: \u001b[22m\u001b[39m started timer at: 2024-04-01T14:31:33.122\n"
     ]
    },
    {
     "name": "stdout",
     "output_type": "stream",
     "text": [
      "8\n",
      "[0, -800, -100, -1200, -2000]\n",
      "false\n",
      "50\n",
      "1\n",
      "-156029.01468637228\n",
      "6642.472327136526\n",
      "-------------------------\n",
      "50"
     ]
    },
    {
     "name": "stderr",
     "output_type": "stream",
     "text": [
      "\u001b[36m\u001b[1m[ \u001b[22m\u001b[39m\u001b[36m\u001b[1mInfo: \u001b[22m\u001b[39m         245.5517127s: 4 minutes, 5 seconds, 551 milliseconds\n",
      "\u001b[36m\u001b[1m[ \u001b[22m\u001b[39m\u001b[36m\u001b[1mInfo: \u001b[22m\u001b[39m started timer at: 2024-04-01T14:35:38.695\n"
     ]
    },
    {
     "name": "stdout",
     "output_type": "stream",
     "text": [
      "K : 8\n",
      "[0, -1000, -100, -1200, -2000]\n",
      "false\n",
      "50\n",
      "1\n",
      "-159757.19521231818\n",
      "6614.706895445395\n",
      "-------------------------\n",
      "50K : 8\n",
      "[0, -1200, -100, -1200, -2000]\n"
     ]
    },
    {
     "name": "stderr",
     "output_type": "stream",
     "text": [
      "\u001b[36m\u001b[1m[ \u001b[22m\u001b[39m\u001b[36m\u001b[1mInfo: \u001b[22m\u001b[39m         244.9140893s: 4 minutes, 4 seconds, 914 milliseconds\n",
      "\u001b[36m\u001b[1m[ \u001b[22m\u001b[39m\u001b[36m\u001b[1mInfo: \u001b[22m\u001b[39m started timer at: 2024-04-01T14:39:43.619\n"
     ]
    },
    {
     "name": "stdout",
     "output_type": "stream",
     "text": [
      "false\n",
      "50\n",
      "1\n",
      "-163430.208313706\n",
      "7032.283212151418\n",
      "-------------------------\n",
      "50K : 8\n",
      "[0, -1400, -100, -1200, -2000]\n"
     ]
    },
    {
     "name": "stderr",
     "output_type": "stream",
     "text": [
      "\u001b[36m\u001b[1m[ \u001b[22m\u001b[39m\u001b[36m\u001b[1mInfo: \u001b[22m\u001b[39m         251.8585447s: 4 minutes, 11 seconds, 858 milliseconds\n",
      "\u001b[36m\u001b[1m[ \u001b[22m\u001b[39m\u001b[36m\u001b[1mInfo: \u001b[22m\u001b[39m started timer at: 2024-04-01T14:43:55.477\n"
     ]
    },
    {
     "name": "stdout",
     "output_type": "stream",
     "text": [
      "false\n",
      "50\n",
      "1\n",
      "-166961.93813920306\n",
      "6641.104789947801\n",
      "-------------------------\n"
     ]
    },
    {
     "name": "stderr",
     "output_type": "stream",
     "text": [
      "\u001b[36m\u001b[1m[ \u001b[22m\u001b[39m\u001b[36m\u001b[1mInfo: \u001b[22m\u001b[39m         245.3717384s: 4 minutes, 5 seconds, 371 milliseconds\n",
      "\u001b[36m\u001b[1m[ \u001b[22m\u001b[39m\u001b[36m\u001b[1mInfo: \u001b[22m\u001b[39m started timer at: 2024-04-01T14:48:00.882\n"
     ]
    },
    {
     "name": "stdout",
     "output_type": "stream",
     "text": [
      "50K : 8\n",
      "[0, -1600, -100, -1200, -2000]\n",
      "false\n",
      "50\n",
      "1\n",
      "-170486.8995545474\n",
      "7082.922086089543\n",
      "-------------------------\n",
      "50K : 8\n",
      "[0, -1800, -100, -1200, -2000]\n"
     ]
    },
    {
     "name": "stderr",
     "output_type": "stream",
     "text": [
      "\u001b[36m\u001b[1m[ \u001b[22m\u001b[39m\u001b[36m\u001b[1mInfo: \u001b[22m\u001b[39m         252.9442463s: 4 minutes, 12 seconds, 944 milliseconds\n",
      "\u001b[36m\u001b[1m[ \u001b[22m\u001b[39m\u001b[36m\u001b[1mInfo: \u001b[22m\u001b[39m started timer at: 2024-04-01T14:52:13.847\n"
     ]
    },
    {
     "name": "stdout",
     "output_type": "stream",
     "text": [
      "false\n",
      "50\n",
      "1\n",
      "-174074.69343534685\n",
      "6783.115657094147\n",
      "-------------------------\n",
      "50"
     ]
    },
    {
     "name": "stderr",
     "output_type": "stream",
     "text": [
      "\u001b[36m\u001b[1m[ \u001b[22m\u001b[39m\u001b[36m\u001b[1mInfo: \u001b[22m\u001b[39m         246.2788587s: 4 minutes, 6 seconds, 278 milliseconds\n",
      "\u001b[36m\u001b[1m[ \u001b[22m\u001b[39m\u001b[36m\u001b[1mInfo: \u001b[22m\u001b[39m started timer at: 2024-04-01T14:56:20.136\n"
     ]
    },
    {
     "name": "stdout",
     "output_type": "stream",
     "text": [
      "K : 8\n",
      "[0, -2000, -100, -1200, -2000]\n",
      "false\n",
      "50\n",
      "1\n",
      "-177709.91204169433\n",
      "7145.0592892661925\n",
      "-------------------------\n",
      "50K : 8\n",
      "[0, -2400, -100, -1200, -2000]\n"
     ]
    },
    {
     "name": "stderr",
     "output_type": "stream",
     "text": [
      "\u001b[36m\u001b[1m[ \u001b[22m\u001b[39m\u001b[36m\u001b[1mInfo: \u001b[22m\u001b[39m         252.9854303s: 4 minutes, 12 seconds, 985 milliseconds\n",
      "\u001b[36m\u001b[1m[ \u001b[22m\u001b[39m\u001b[36m\u001b[1mInfo: \u001b[22m\u001b[39m started timer at: 2024-04-01T15:00:33.154\n"
     ]
    },
    {
     "name": "stdout",
     "output_type": "stream",
     "text": [
      "false\n",
      "50\n",
      "1\n",
      "-184926.66209476342\n",
      "6878.786936991877\n",
      "-------------------------\n",
      "50"
     ]
    },
    {
     "name": "stderr",
     "output_type": "stream",
     "text": [
      "\u001b[36m\u001b[1m[ \u001b[22m\u001b[39m\u001b[36m\u001b[1mInfo: \u001b[22m\u001b[39m         245.2795165s: 4 minutes, 5 seconds, 279 milliseconds\n",
      "\u001b[36m\u001b[1m[ \u001b[22m\u001b[39m\u001b[36m\u001b[1mInfo: \u001b[22m\u001b[39m started timer at: 2024-04-01T15:04:38.455\n"
     ]
    },
    {
     "name": "stdout",
     "output_type": "stream",
     "text": [
      "K : 8\n",
      "[0, -2800, -100, -1200, -2000]\n",
      "false\n",
      "50\n",
      "1\n",
      "-192051.69298185455\n",
      "7453.372495079981\n",
      "-------------------------\n",
      "50K : 8\n",
      "[0, -3200, -100, -1200, -2000]\n"
     ]
    },
    {
     "name": "stderr",
     "output_type": "stream",
     "text": [
      "\u001b[36m\u001b[1m[ \u001b[22m\u001b[39m\u001b[36m\u001b[1mInfo: \u001b[22m\u001b[39m         254.7976481s: 4 minutes, 14 seconds, 797 milliseconds\n",
      "\u001b[36m\u001b[1m[ \u001b[22m\u001b[39m\u001b[36m\u001b[1mInfo: \u001b[22m\u001b[39m started timer at: 2024-04-01T15:08:53.263\n"
     ]
    },
    {
     "name": "stdout",
     "output_type": "stream",
     "text": [
      "false\n",
      "50\n",
      "1\n",
      "-199346.37191367274\n",
      "6955.692489014177\n",
      "-------------------------\n",
      "50K : 10\n",
      "[0, -200, -100, -1200, -2000]\n"
     ]
    },
    {
     "name": "stderr",
     "output_type": "stream",
     "text": [
      "\u001b[36m\u001b[1m[ \u001b[22m\u001b[39m\u001b[36m\u001b[1mInfo: \u001b[22m\u001b[39m         245.8107105s: 4 minutes, 5 seconds, 810 milliseconds\n",
      "\u001b[36m\u001b[1m[ \u001b[22m\u001b[39m\u001b[36m\u001b[1mInfo: \u001b[22m\u001b[39m started timer at: 2024-04-01T15:12:59.084\n"
     ]
    },
    {
     "name": "stdout",
     "output_type": "stream",
     "text": [
      "false\n",
      "50\n",
      "1\n",
      "-142059.28641848732\n",
      "6851.048545242646\n",
      "-------------------------\n",
      "50K : 10\n",
      "[0, -400, -100, -1200, -2000]\n"
     ]
    },
    {
     "name": "stderr",
     "output_type": "stream",
     "text": [
      "\u001b[36m\u001b[1m[ \u001b[22m\u001b[39m\u001b[36m\u001b[1mInfo: \u001b[22m\u001b[39m         256.6887482s: 4 minutes, 16 seconds, 688 milliseconds\n",
      "\u001b[36m\u001b[1m[ \u001b[22m\u001b[39m\u001b[36m\u001b[1mInfo: \u001b[22m\u001b[39m started timer at: 2024-04-01T15:17:15.783\n"
     ]
    },
    {
     "name": "stdout",
     "output_type": "stream",
     "text": [
      "false\n",
      "50\n",
      "1\n",
      "-145616.16808498782\n",
      "6369.545617233562\n",
      "-------------------------\n",
      "50"
     ]
    },
    {
     "name": "stderr",
     "output_type": "stream",
     "text": [
      "\u001b[36m\u001b[1m[ \u001b[22m\u001b[39m\u001b[36m\u001b[1mInfo: \u001b[22m\u001b[39m         245.9205271s: 4 minutes, 5 seconds, 920 milliseconds\n",
      "\u001b[36m\u001b[1m[ \u001b[22m\u001b[39m\u001b[36m\u001b[1mInfo: \u001b[22m\u001b[39m started timer at: 2024-04-01T15:21:21.714\n"
     ]
    },
    {
     "name": "stdout",
     "output_type": "stream",
     "text": [
      "K : 10\n",
      "[0, -600, -100, -1200, -2000]\n",
      "false\n",
      "50\n",
      "1\n",
      "-149079.7709860314\n",
      "6726.3121340604985\n",
      "-------------------------\n",
      "50K : 10\n",
      "[0, -800, -100, -1200, -2000]\n"
     ]
    },
    {
     "name": "stderr",
     "output_type": "stream",
     "text": [
      "\u001b[36m\u001b[1m[ \u001b[22m\u001b[39m\u001b[36m\u001b[1mInfo: \u001b[22m\u001b[39m         256.4726269s: 4 minutes, 16 seconds, 472 milliseconds\n",
      "\u001b[36m\u001b[1m[ \u001b[22m\u001b[39m\u001b[36m\u001b[1mInfo: \u001b[22m\u001b[39m started timer at: 2024-04-01T15:25:38.197\n"
     ]
    },
    {
     "name": "stdout",
     "output_type": "stream",
     "text": [
      "false\n",
      "50\n",
      "1\n",
      "-152887.67885875035\n",
      "6456.468356596951\n",
      "-------------------------"
     ]
    },
    {
     "name": "stderr",
     "output_type": "stream",
     "text": [
      "\u001b[36m\u001b[1m[ \u001b[22m\u001b[39m\u001b[36m\u001b[1mInfo: \u001b[22m\u001b[39m         245.4389604s: 4 minutes, 5 seconds, 438 milliseconds\n"
     ]
    },
    {
     "name": "stdout",
     "output_type": "stream",
     "text": [
      "\n",
      "50K : 10\n",
      "[0, -1000, -100, -1200, -2000]\n"
     ]
    },
    {
     "name": "stderr",
     "output_type": "stream",
     "text": [
      "\u001b[36m\u001b[1m[ \u001b[22m\u001b[39m\u001b[36m\u001b[1mInfo: \u001b[22m\u001b[39m started timer at: 2024-04-01T15:29:43.657\n"
     ]
    },
    {
     "name": "stdout",
     "output_type": "stream",
     "text": [
      "false\n",
      "50\n",
      "1\n",
      "-156459.89019010283\n",
      "6984.546144749842\n",
      "-------------------------\n",
      "50K : 10\n",
      "[0, -1200, -100, -1200, -2000]\n"
     ]
    },
    {
     "name": "stderr",
     "output_type": "stream",
     "text": [
      "\u001b[36m\u001b[1m[ \u001b[22m\u001b[39m\u001b[36m\u001b[1mInfo: \u001b[22m\u001b[39m          254.582691s: 4 minutes, 14 seconds, 582 milliseconds\n",
      "\u001b[36m\u001b[1m[ \u001b[22m\u001b[39m\u001b[36m\u001b[1mInfo: \u001b[22m\u001b[39m started timer at: 2024-04-01T15:33:58.272\n"
     ]
    },
    {
     "name": "stdout",
     "output_type": "stream",
     "text": [
      "false\n",
      "50\n",
      "1\n",
      "-160012.62554117545\n",
      "6470.833335363671\n"
     ]
    },
    {
     "name": "stderr",
     "output_type": "stream",
     "text": [
      "\u001b[36m\u001b[1m[ \u001b[22m\u001b[39m\u001b[36m\u001b[1mInfo: \u001b[22m\u001b[39m         245.7113487s: 4 minutes, 5 seconds, 711 milliseconds\n"
     ]
    },
    {
     "name": "stdout",
     "output_type": "stream",
     "text": [
      "-------------------------\n",
      "50K : 10\n",
      "[0, -1400, -100, -1200, -2000]\n"
     ]
    },
    {
     "name": "stderr",
     "output_type": "stream",
     "text": [
      "\u001b[36m\u001b[1m[ \u001b[22m\u001b[39m\u001b[36m\u001b[1mInfo: \u001b[22m\u001b[39m started timer at: 2024-04-01T15:38:04.005\n"
     ]
    },
    {
     "name": "stdout",
     "output_type": "stream",
     "text": [
      "false\n",
      "50\n",
      "1\n",
      "-163665.88091878447\n",
      "6958.056179744041\n",
      "-------------------------\n"
     ]
    },
    {
     "name": "stderr",
     "output_type": "stream",
     "text": [
      "\u001b[36m\u001b[1m[ \u001b[22m\u001b[39m\u001b[36m\u001b[1mInfo: \u001b[22m\u001b[39m         257.0633039s: 4 minutes, 17 seconds, 63 milliseconds\n",
      "\u001b[36m\u001b[1m[ \u001b[22m\u001b[39m\u001b[36m\u001b[1mInfo: \u001b[22m\u001b[39m started timer at: 2024-04-01T15:42:21.090\n"
     ]
    },
    {
     "name": "stdout",
     "output_type": "stream",
     "text": [
      "50K : 10\n",
      "[0, -1600, -100, -1200, -2000]\n",
      "false\n",
      "50\n",
      "1\n",
      "-167198.92055758604\n",
      "6500.204250563041\n",
      "-------------------------\n"
     ]
    },
    {
     "name": "stderr",
     "output_type": "stream",
     "text": [
      "\u001b[36m\u001b[1m[ \u001b[22m\u001b[39m\u001b[36m\u001b[1mInfo: \u001b[22m\u001b[39m         245.2969762s: 4 minutes, 5 seconds, 296 milliseconds\n",
      "\u001b[36m\u001b[1m[ \u001b[22m\u001b[39m\u001b[36m\u001b[1mInfo: \u001b[22m\u001b[39m started timer at: 2024-04-01T15:46:26.419\n"
     ]
    },
    {
     "name": "stdout",
     "output_type": "stream",
     "text": [
      "50K : 10\n",
      "[0, -1800, -100, -1200, -2000]\n",
      "false\n",
      "50\n",
      "1\n",
      "-170750.83283291475\n",
      "7177.841790929041\n",
      "-------------------------\n",
      "50K : 10\n",
      "[0, -2000, -100, -1200, -2000]\n"
     ]
    },
    {
     "name": "stderr",
     "output_type": "stream",
     "text": [
      "\u001b[36m\u001b[1m[ \u001b[22m\u001b[39m\u001b[36m\u001b[1mInfo: \u001b[22m\u001b[39m         256.7727178s: 4 minutes, 16 seconds, 772 milliseconds\n",
      "\u001b[36m\u001b[1m[ \u001b[22m\u001b[39m\u001b[36m\u001b[1mInfo: \u001b[22m\u001b[39m started timer at: 2024-04-01T15:50:43.212\n"
     ]
    },
    {
     "name": "stdout",
     "output_type": "stream",
     "text": [
      "false\n",
      "50\n",
      "1\n",
      "-174495.05200677086\n",
      "6528.135998728484\n",
      "-------------------------\n",
      "50K : 10\n",
      "[0, -2400, -100, -1200, -2000]\n"
     ]
    },
    {
     "name": "stderr",
     "output_type": "stream",
     "text": [
      "\u001b[36m\u001b[1m[ \u001b[22m\u001b[39m\u001b[36m\u001b[1mInfo: \u001b[22m\u001b[39m         244.9826576s: 4 minutes, 4 seconds, 982 milliseconds\n",
      "\u001b[36m\u001b[1m[ \u001b[22m\u001b[39m\u001b[36m\u001b[1mInfo: \u001b[22m\u001b[39m started timer at: 2024-04-01T15:54:48.216\n"
     ]
    },
    {
     "name": "stdout",
     "output_type": "stream",
     "text": [
      "false\n",
      "50\n",
      "1\n",
      "-181680.02794803094\n",
      "7222.209207815861\n",
      "-------------------------\n",
      "50K : 10\n",
      "[0, -2800, -100, -1200, -2000]\n"
     ]
    },
    {
     "name": "stderr",
     "output_type": "stream",
     "text": [
      "\u001b[36m\u001b[1m[ \u001b[22m\u001b[39m\u001b[36m\u001b[1mInfo: \u001b[22m\u001b[39m         256.3994666s: 4 minutes, 16 seconds, 399 milliseconds\n",
      "\u001b[36m\u001b[1m[ \u001b[22m\u001b[39m\u001b[36m\u001b[1mInfo: \u001b[22m\u001b[39m started timer at: 2024-04-01T15:59:04.626\n"
     ]
    },
    {
     "name": "stdout",
     "output_type": "stream",
     "text": [
      "false\n",
      "50\n",
      "1\n",
      "-188886.1395439517\n",
      "6739.075661760159\n",
      "-------------------------\n",
      "50K : 10\n",
      "[0, -3200, -100, -1200, -2000]\n"
     ]
    },
    {
     "name": "stderr",
     "output_type": "stream",
     "text": [
      "\u001b[36m\u001b[1m[ \u001b[22m\u001b[39m\u001b[36m\u001b[1mInfo: \u001b[22m\u001b[39m         246.1725289s: 4 minutes, 6 seconds, 172 milliseconds\n",
      "\u001b[36m\u001b[1m[ \u001b[22m\u001b[39m\u001b[36m\u001b[1mInfo: \u001b[22m\u001b[39m started timer at: 2024-04-01T16:03:10.798\n"
     ]
    },
    {
     "name": "stdout",
     "output_type": "stream",
     "text": [
      "false\n",
      "50\n",
      "1\n",
      "-195974.34661170625\n",
      "7375.719798616944\n",
      "-------------------------\n",
      "50"
     ]
    },
    {
     "name": "stderr",
     "output_type": "stream",
     "text": [
      "\u001b[36m\u001b[1m[ \u001b[22m\u001b[39m\u001b[36m\u001b[1mInfo: \u001b[22m\u001b[39m         255.8247715s: 4 minutes, 15 seconds, 824 milliseconds\n",
      "\u001b[36m\u001b[1m[ \u001b[22m\u001b[39m\u001b[36m\u001b[1mInfo: \u001b[22m\u001b[39m started timer at: 2024-04-01T16:07:26.634\n"
     ]
    },
    {
     "name": "stdout",
     "output_type": "stream",
     "text": [
      "K : 12\n",
      "[0, -200, -100, -1200, -2000]\n",
      "false\n",
      "50\n",
      "1\n",
      "-139553.2353988956\n",
      "6017.6928366538605\n",
      "-------------------------\n",
      "50"
     ]
    },
    {
     "name": "stderr",
     "output_type": "stream",
     "text": [
      "\u001b[36m\u001b[1m[ \u001b[22m\u001b[39m\u001b[36m\u001b[1mInfo: \u001b[22m\u001b[39m         244.9495613s: 4 minutes, 4 seconds, 949 milliseconds\n",
      "\u001b[36m\u001b[1m[ \u001b[22m\u001b[39m\u001b[36m\u001b[1mInfo: \u001b[22m\u001b[39m started timer at: 2024-04-01T16:11:31.593\n"
     ]
    },
    {
     "name": "stdout",
     "output_type": "stream",
     "text": [
      "K : 12\n",
      "[0, -400, -100, -1200, -2000]\n",
      "false\n",
      "50\n",
      "1\n",
      "-143024.7577447191\n",
      "6528.867615541712\n",
      "-------------------------\n",
      "50K : 12\n",
      "[0, -600, -100, -1200, -2000]\n"
     ]
    },
    {
     "name": "stderr",
     "output_type": "stream",
     "text": [
      "\u001b[36m\u001b[1m[ \u001b[22m\u001b[39m\u001b[36m\u001b[1mInfo: \u001b[22m\u001b[39m         256.0639421s: 4 minutes, 16 seconds, 63 milliseconds\n",
      "\u001b[36m\u001b[1m[ \u001b[22m\u001b[39m\u001b[36m\u001b[1mInfo: \u001b[22m\u001b[39m started timer at: 2024-04-01T16:15:47.679\n"
     ]
    },
    {
     "name": "stdout",
     "output_type": "stream",
     "text": [
      "false\n",
      "50\n",
      "1\n",
      "-146784.63007458526\n",
      "6162.799830386596\n",
      "-------------------------\n",
      "50K : 12\n"
     ]
    },
    {
     "name": "stderr",
     "output_type": "stream",
     "text": [
      "\u001b[36m\u001b[1m[ \u001b[22m\u001b[39m\u001b[36m\u001b[1mInfo: \u001b[22m\u001b[39m         245.7237801s: 4 minutes, 5 seconds, 723 milliseconds\n",
      "\u001b[36m\u001b[1m[ \u001b[22m\u001b[39m\u001b[36m\u001b[1mInfo: \u001b[22m\u001b[39m started timer at: 2024-04-01T16:19:53.413\n"
     ]
    },
    {
     "name": "stdout",
     "output_type": "stream",
     "text": [
      "[0, -800, -100, -1200, -2000]\n",
      "false\n",
      "50\n",
      "1\n",
      "-150268.67307831164\n",
      "6564.38808252545\n",
      "-------------------------\n",
      "50K : 12\n",
      "[0, -1000, -100, -1200, -2000]\n"
     ]
    },
    {
     "name": "stderr",
     "output_type": "stream",
     "text": [
      "\u001b[36m\u001b[1m[ \u001b[22m\u001b[39m\u001b[36m\u001b[1mInfo: \u001b[22m\u001b[39m         255.5784511s: 4 minutes, 15 seconds, 578 milliseconds\n",
      "\u001b[36m\u001b[1m[ \u001b[22m\u001b[39m\u001b[36m\u001b[1mInfo: \u001b[22m\u001b[39m started timer at: 2024-04-01T16:24:09.013\n"
     ]
    },
    {
     "name": "stdout",
     "output_type": "stream",
     "text": [
      "false\n",
      "50\n",
      "1\n",
      "-154075.29863568724\n",
      "6112.512989878076\n",
      "-------------------------\n",
      "50K : 12\n",
      "[0, -1200, -100, -1200, -2000]\n"
     ]
    },
    {
     "name": "stderr",
     "output_type": "stream",
     "text": [
      "\u001b[36m\u001b[1m[ \u001b[22m\u001b[39m\u001b[36m\u001b[1mInfo: \u001b[22m\u001b[39m         246.9306538s: 4 minutes, 6 seconds, 930 milliseconds\n",
      "\u001b[36m\u001b[1m[ \u001b[22m\u001b[39m\u001b[36m\u001b[1mInfo: \u001b[22m\u001b[39m started timer at: 2024-04-01T16:28:15.976\n"
     ]
    },
    {
     "name": "stdout",
     "output_type": "stream",
     "text": [
      "false\n",
      "50\n",
      "1\n",
      "-157644.92894616863\n",
      "6694.720085964874\n",
      "-------------------------\n",
      "50K : 12\n",
      "[0, -1400, -100, -1200, -2000]\n"
     ]
    },
    {
     "name": "stderr",
     "output_type": "stream",
     "text": [
      "\u001b[36m\u001b[1m[ \u001b[22m\u001b[39m\u001b[36m\u001b[1mInfo: \u001b[22m\u001b[39m         253.5853568s: 4 minutes, 13 seconds, 585 milliseconds\n",
      "\u001b[36m\u001b[1m[ \u001b[22m\u001b[39m\u001b[36m\u001b[1mInfo: \u001b[22m\u001b[39m started timer at: 2024-04-01T16:32:29.594\n"
     ]
    },
    {
     "name": "stdout",
     "output_type": "stream",
     "text": [
      "false\n",
      "50\n",
      "1\n",
      "-161190.21186778112\n",
      "6267.887405038015\n",
      "-------------------------\n"
     ]
    },
    {
     "name": "stderr",
     "output_type": "stream",
     "text": [
      "\u001b[36m\u001b[1m[ \u001b[22m\u001b[39m\u001b[36m\u001b[1mInfo: \u001b[22m\u001b[39m         246.1092524s: 4 minutes, 6 seconds, 109 milliseconds\n",
      "\u001b[36m\u001b[1m[ \u001b[22m\u001b[39m\u001b[36m\u001b[1mInfo: \u001b[22m\u001b[39m started timer at: 2024-04-01T16:36:35.703\n"
     ]
    },
    {
     "name": "stdout",
     "output_type": "stream",
     "text": [
      "50K : 12\n",
      "[0, -1600, -100, -1200, -2000]\n",
      "false\n",
      "50\n",
      "1\n",
      "-164783.46914070903\n",
      "6636.45609903599\n",
      "-------------------------\n"
     ]
    },
    {
     "name": "stderr",
     "output_type": "stream",
     "text": [
      "\u001b[36m\u001b[1m[ \u001b[22m\u001b[39m\u001b[36m\u001b[1mInfo: \u001b[22m\u001b[39m         253.8132182s: 4 minutes, 13 seconds, 813 milliseconds\n",
      "\u001b[36m\u001b[1m[ \u001b[22m\u001b[39m\u001b[36m\u001b[1mInfo: \u001b[22m\u001b[39m started timer at: 2024-04-01T16:40:49.538\n"
     ]
    },
    {
     "name": "stdout",
     "output_type": "stream",
     "text": [
      "50K : 12\n",
      "[0, -1800, -100, -1200, -2000]\n",
      "false\n",
      "50\n",
      "1\n",
      "-168389.11234082843\n",
      "6303.076276158676\n",
      "-------------------------"
     ]
    },
    {
     "name": "stderr",
     "output_type": "stream",
     "text": [
      "\u001b[36m\u001b[1m[ \u001b[22m\u001b[39m\u001b[36m\u001b[1mInfo: \u001b[22m\u001b[39m         245.7632429s: 4 minutes, 5 seconds, 763 milliseconds\n"
     ]
    },
    {
     "name": "stdout",
     "output_type": "stream",
     "text": [
      "\n",
      "50K : 12\n",
      "[0, -2000, -100, -1200, -2000]\n"
     ]
    },
    {
     "name": "stderr",
     "output_type": "stream",
     "text": [
      "\u001b[36m\u001b[1m[ \u001b[22m\u001b[39m\u001b[36m\u001b[1mInfo: \u001b[22m\u001b[39m started timer at: 2024-04-01T16:44:55.312\n"
     ]
    },
    {
     "name": "stdout",
     "output_type": "stream",
     "text": [
      "false\n",
      "50\n",
      "1\n",
      "-172005.0010136067\n",
      "6567.010058513593\n",
      "-------------------------\n",
      "50K : 12\n"
     ]
    },
    {
     "name": "stderr",
     "output_type": "stream",
     "text": [
      "\u001b[36m\u001b[1m[ \u001b[22m\u001b[39m\u001b[36m\u001b[1mInfo: \u001b[22m\u001b[39m         255.5713444s: 4 minutes, 15 seconds, 571 milliseconds\n",
      "\u001b[36m\u001b[1m[ \u001b[22m\u001b[39m\u001b[36m\u001b[1mInfo: \u001b[22m\u001b[39m started timer at: 2024-04-01T16:49:10.894\n"
     ]
    },
    {
     "name": "stdout",
     "output_type": "stream",
     "text": [
      "[0, -2400, -100, -1200, -2000]\n",
      "false\n",
      "50\n",
      "1\n",
      "-179278.34026173197\n",
      "6344.216743966053\n",
      "-------------------------\n",
      "50K : 12\n",
      "[0, -2800, -100, -1200, -2000]\n"
     ]
    },
    {
     "name": "stderr",
     "output_type": "stream",
     "text": [
      "\u001b[36m\u001b[1m[ \u001b[22m\u001b[39m\u001b[36m\u001b[1mInfo: \u001b[22m\u001b[39m         246.4199498s: 4 minutes, 6 seconds, 419 milliseconds\n",
      "\u001b[36m\u001b[1m[ \u001b[22m\u001b[39m\u001b[36m\u001b[1mInfo: \u001b[22m\u001b[39m started timer at: 2024-04-01T16:53:17.324\n"
     ]
    },
    {
     "name": "stdout",
     "output_type": "stream",
     "text": [
      "false\n",
      "50\n",
      "1\n",
      "-186453.99202118543\n",
      "6740.2743991481175\n",
      "-------------------------\n",
      "50K : 12\n",
      "[0, -3200,"
     ]
    },
    {
     "name": "stderr",
     "output_type": "stream",
     "text": [
      "\u001b[36m\u001b[1m[ \u001b[22m\u001b[39m\u001b[36m\u001b[1mInfo: \u001b[22m\u001b[39m         252.4199737s: 4 minutes, 12 seconds, 419 milliseconds\n",
      "\u001b[36m\u001b[1m[ \u001b[22m\u001b[39m\u001b[36m\u001b[1mInfo: \u001b[22m\u001b[39m started timer at: 2024-04-01T16:57:29.765\n"
     ]
    },
    {
     "name": "stdout",
     "output_type": "stream",
     "text": [
      " -100, -1200, -2000]\n",
      "false\n",
      "50\n",
      "1\n",
      "-193615.25951690393\n",
      "6543.946073911291\n",
      "-------------------------\n"
     ]
    },
    {
     "name": "stderr",
     "output_type": "stream",
     "text": [
      "\u001b[36m\u001b[1m[ \u001b[22m\u001b[39m\u001b[36m\u001b[1mInfo: \u001b[22m\u001b[39m         246.5302828s: 4 minutes, 6 seconds, 530 milliseconds\n",
      "\u001b[36m\u001b[1m[ \u001b[22m\u001b[39m\u001b[36m\u001b[1mInfo: \u001b[22m\u001b[39m started timer at: 2024-04-01T17:01:36.317\n"
     ]
    },
    {
     "name": "stdout",
     "output_type": "stream",
     "text": [
      "50K : 14\n",
      "[0, -200, -100, -1200, -2000]\n",
      "false\n",
      "50\n",
      "1\n",
      "-137690.06384793879\n",
      "6147.014537208746\n",
      "-------------------------\n",
      "50K : 14\n",
      "[0, -400, -100, -1200, -2000]\n"
     ]
    },
    {
     "name": "stderr",
     "output_type": "stream",
     "text": [
      "\u001b[36m\u001b[1m[ \u001b[22m\u001b[39m\u001b[36m\u001b[1mInfo: \u001b[22m\u001b[39m         251.1262503s: 4 minutes, 11 seconds, 126 milliseconds\n",
      "\u001b[36m\u001b[1m[ \u001b[22m\u001b[39m\u001b[36m\u001b[1mInfo: \u001b[22m\u001b[39m started timer at: 2024-04-01T17:05:47.465\n"
     ]
    },
    {
     "name": "stdout",
     "output_type": "stream",
     "text": [
      "false\n",
      "50\n",
      "1\n",
      "-141352.28591273585\n",
      "5882.537894492714\n",
      "-------------------------\n",
      "50K : 14\n",
      "[0, -600, -100, -1200, -2000]\n"
     ]
    },
    {
     "name": "stderr",
     "output_type": "stream",
     "text": [
      "\u001b[36m\u001b[1m[ \u001b[22m\u001b[39m\u001b[36m\u001b[1mInfo: \u001b[22m\u001b[39m         247.1824792s: 4 minutes, 7 seconds, 182 milliseconds\n",
      "\u001b[36m\u001b[1m[ \u001b[22m\u001b[39m\u001b[36m\u001b[1mInfo: \u001b[22m\u001b[39m started timer at: 2024-04-01T17:09:54.658\n"
     ]
    },
    {
     "name": "stdout",
     "output_type": "stream",
     "text": [
      "false\n",
      "50\n",
      "1\n",
      "-144956.3471656511\n",
      "6082.650860256794\n",
      "-------------------------\n"
     ]
    },
    {
     "name": "stderr",
     "output_type": "stream",
     "text": [
      "\u001b[36m\u001b[1m[ \u001b[22m\u001b[39m\u001b[36m\u001b[1mInfo: \u001b[22m\u001b[39m         250.5811508s: 4 minutes, 10 seconds, 581 milliseconds\n",
      "\u001b[36m\u001b[1m[ \u001b[22m\u001b[39m\u001b[36m\u001b[1mInfo: \u001b[22m\u001b[39m started timer at: 2024-04-01T17:14:05.261\n"
     ]
    },
    {
     "name": "stdout",
     "output_type": "stream",
     "text": [
      "50K : 14\n",
      "[0, -800, -100, -1200, -2000]\n",
      "false\n",
      "50\n",
      "1\n",
      "-148562.95481930187\n",
      "5855.107148492841\n",
      "-------------------------\n"
     ]
    },
    {
     "name": "stderr",
     "output_type": "stream",
     "text": [
      "\u001b[36m\u001b[1m[ \u001b[22m\u001b[39m\u001b[36m\u001b[1mInfo: \u001b[22m\u001b[39m         249.5163579s: 4 minutes, 9 seconds, 516 milliseconds\n"
     ]
    },
    {
     "name": "stdout",
     "output_type": "stream",
     "text": [
      "50K : 14\n",
      "[0, -1000, -100, -1200, -2000]\n"
     ]
    },
    {
     "name": "stderr",
     "output_type": "stream",
     "text": [
      "\u001b[36m\u001b[1m[ \u001b[22m\u001b[39m\u001b[36m\u001b[1mInfo: \u001b[22m\u001b[39m started timer at: 2024-04-01T17:18:14.787\n"
     ]
    },
    {
     "name": "stdout",
     "output_type": "stream",
     "text": [
      "false\n",
      "50\n",
      "1\n",
      "-152134.50731539464\n",
      "5961.073932720339\n",
      "-------------------------\n"
     ]
    },
    {
     "name": "stderr",
     "output_type": "stream",
     "text": [
      "\u001b[36m\u001b[1m[ \u001b[22m\u001b[39m\u001b[36m\u001b[1mInfo: \u001b[22m\u001b[39m         250.2144101s: 4 minutes, 10 seconds, 214 milliseconds\n",
      "\u001b[36m\u001b[1m[ \u001b[22m\u001b[39m\u001b[36m\u001b[1mInfo: \u001b[22m\u001b[39m started timer at: 2024-04-01T17:22:25.023\n"
     ]
    },
    {
     "name": "stdout",
     "output_type": "stream",
     "text": [
      "50K : 14\n",
      "[0, -1200, -100, -1200, -2000]\n",
      "false\n",
      "50\n",
      "1\n",
      "-155751.8347708487\n",
      "5903.596146497936\n",
      "-------------------------\n",
      "50K : 14\n",
      "[0, -1400, -100, -1200, -2000]\n"
     ]
    },
    {
     "name": "stderr",
     "output_type": "stream",
     "text": [
      "\u001b[36m\u001b[1m[ \u001b[22m\u001b[39m\u001b[36m\u001b[1mInfo: \u001b[22m\u001b[39m         247.6696212s: 4 minutes, 7 seconds, 669 milliseconds\n",
      "\u001b[36m\u001b[1m[ \u001b[22m\u001b[39m\u001b[36m\u001b[1mInfo: \u001b[22m\u001b[39m started timer at: 2024-04-01T17:26:32.692\n"
     ]
    },
    {
     "name": "stdout",
     "output_type": "stream",
     "text": [
      "false\n",
      "50\n",
      "1\n",
      "-159298.484272122\n",
      "6124.356815682757\n",
      "-------------------------\n"
     ]
    },
    {
     "name": "stderr",
     "output_type": "stream",
     "text": [
      "\u001b[36m\u001b[1m[ \u001b[22m\u001b[39m\u001b[36m\u001b[1mInfo: \u001b[22m\u001b[39m         249.4251301s: 4 minutes, 9 seconds, 425 milliseconds\n",
      "\u001b[36m\u001b[1m[ \u001b[22m\u001b[39m\u001b[36m\u001b[1mInfo: \u001b[22m\u001b[39m started timer at: 2024-04-01T17:30:42.139\n"
     ]
    },
    {
     "name": "stdout",
     "output_type": "stream",
     "text": [
      "50K : 14\n",
      "[0, -1600, -100, -1200, -2000]\n",
      "false\n",
      "50\n",
      "1\n",
      "-162905.3865242339\n",
      "5972.192151531939\n",
      "-------------------------\n",
      "50K : 14\n",
      "[0, -1800, -100, -1200, -2000]\n"
     ]
    },
    {
     "name": "stderr",
     "output_type": "stream",
     "text": [
      "\u001b[36m\u001b[1m[ \u001b[22m\u001b[39m\u001b[36m\u001b[1mInfo: \u001b[22m\u001b[39m         247.5952687s: 4 minutes, 7 seconds, 595 milliseconds\n",
      "\u001b[36m\u001b[1m[ \u001b[22m\u001b[39m\u001b[36m\u001b[1mInfo: \u001b[22m\u001b[39m started timer at: 2024-04-01T17:34:49.755\n"
     ]
    },
    {
     "name": "stdout",
     "output_type": "stream",
     "text": [
      "false\n",
      "50\n",
      "1\n",
      "-166580.76849957457\n",
      "6077.007065438236\n",
      "-------------------------\n",
      "50K : 14\n",
      "[0, -2000, -100, -1200, -2000]\n"
     ]
    },
    {
     "name": "stderr",
     "output_type": "stream",
     "text": [
      "\u001b[36m\u001b[1m[ \u001b[22m\u001b[39m\u001b[36m\u001b[1mInfo: \u001b[22m\u001b[39m         247.8519113s: 4 minutes, 7 seconds, 851 milliseconds\n",
      "\u001b[36m\u001b[1m[ \u001b[22m\u001b[39m\u001b[36m\u001b[1mInfo: \u001b[22m\u001b[39m started timer at: 2024-04-01T17:38:57.617\n"
     ]
    },
    {
     "name": "stdout",
     "output_type": "stream",
     "text": [
      "false\n",
      "50\n",
      "1\n",
      "-170114.31362719854\n",
      "6102.545718107948\n",
      "-------------------------\n",
      "50K : 14\n",
      "[0, -2400, -100, -1200, -2000]\n"
     ]
    },
    {
     "name": "stderr",
     "output_type": "stream",
     "text": [
      "\u001b[36m\u001b[1m[ \u001b[22m\u001b[39m\u001b[36m\u001b[1mInfo: \u001b[22m\u001b[39m         248.6774335s: 4 minutes, 8 seconds, 677 milliseconds\n",
      "\u001b[36m\u001b[1m[ \u001b[22m\u001b[39m\u001b[36m\u001b[1mInfo: \u001b[22m\u001b[39m started timer at: 2024-04-01T17:43:06.305\n"
     ]
    },
    {
     "name": "stdout",
     "output_type": "stream",
     "text": [
      "false\n",
      "50\n",
      "1\n",
      "-177544.8603573098\n",
      "6222.476258479711\n",
      "-------------------------\n",
      "50K : 14\n",
      "[0, -2800, -100, -1200, -2000]\n"
     ]
    },
    {
     "name": "stderr",
     "output_type": "stream",
     "text": [
      "\u001b[36m\u001b[1m[ \u001b[22m\u001b[39m\u001b[36m\u001b[1mInfo: \u001b[22m\u001b[39m         247.6354009s: 4 minutes, 7 seconds, 635 milliseconds\n",
      "\u001b[36m\u001b[1m[ \u001b[22m\u001b[39m\u001b[36m\u001b[1mInfo: \u001b[22m\u001b[39m started timer at: 2024-04-01T17:47:13.940\n"
     ]
    },
    {
     "name": "stdout",
     "output_type": "stream",
     "text": [
      "false\n",
      "50\n",
      "1\n",
      "-184642.01412839323\n",
      "6260.175199389748\n",
      "-------------------------\n",
      "50K : 14\n",
      "[0, -3200, -100, -1200, -2000]\n"
     ]
    },
    {
     "name": "stderr",
     "output_type": "stream",
     "text": [
      "\u001b[36m\u001b[1m[ \u001b[22m\u001b[39m\u001b[36m\u001b[1mInfo: \u001b[22m\u001b[39m         248.0451119s: 4 minutes, 8 seconds, 45 milliseconds\n",
      "\u001b[36m\u001b[1m[ \u001b[22m\u001b[39m\u001b[36m\u001b[1mInfo: \u001b[22m\u001b[39m started timer at: 2024-04-01T17:51:21.996\n"
     ]
    },
    {
     "name": "stdout",
     "output_type": "stream",
     "text": [
      "false\n",
      "50\n",
      "1\n",
      "-191766.32735571\n",
      "6306.108622742356\n",
      "-------------------------\n",
      "50K : 16\n",
      "[0, -200, -100, -1200, -2000]\n"
     ]
    },
    {
     "name": "stderr",
     "output_type": "stream",
     "text": [
      "\u001b[36m\u001b[1m[ \u001b[22m\u001b[39m\u001b[36m\u001b[1mInfo: \u001b[22m\u001b[39m         246.1391601s: 4 minutes, 6 seconds, 139 milliseconds\n",
      "\u001b[36m\u001b[1m[ \u001b[22m\u001b[39m\u001b[36m\u001b[1mInfo: \u001b[22m\u001b[39m started timer at: 2024-04-01T17:55:28.135\n"
     ]
    },
    {
     "name": "stdout",
     "output_type": "stream",
     "text": [
      "false\n",
      "50\n",
      "1\n",
      "-136313.44741860713\n",
      "5494.1871749050015\n",
      "-------------------------\n"
     ]
    },
    {
     "name": "stderr",
     "output_type": "stream",
     "text": [
      "\u001b[36m\u001b[1m[ \u001b[22m\u001b[39m\u001b[36m\u001b[1mInfo: \u001b[22m\u001b[39m         249.1337726s: 4 minutes, 9 seconds, 133 milliseconds\n",
      "\u001b[36m\u001b[1m[ \u001b[22m\u001b[39m\u001b[36m\u001b[1mInfo: \u001b[22m\u001b[39m started timer at: 2024-04-01T17:59:37.279\n"
     ]
    },
    {
     "name": "stdout",
     "output_type": "stream",
     "text": [
      "50K : 16\n",
      "[0, -400, -100, -1200, -2000]\n",
      "false\n",
      "50\n",
      "1\n",
      "-140134.0617060488\n",
      "5589.818731421826\n"
     ]
    },
    {
     "name": "stderr",
     "output_type": "stream",
     "text": [
      "\u001b[36m\u001b[1m[ \u001b[22m\u001b[39m\u001b[36m\u001b[1mInfo: \u001b[22m\u001b[39m         245.4303058s: 4 minutes, 5 seconds, 430 milliseconds\n"
     ]
    },
    {
     "name": "stdout",
     "output_type": "stream",
     "text": [
      "-------------------------\n",
      "50K : 16\n",
      "[0, -600, -100, -1200, -2000]\n"
     ]
    },
    {
     "name": "stderr",
     "output_type": "stream",
     "text": [
      "\u001b[36m\u001b[1m[ \u001b[22m\u001b[39m\u001b[36m\u001b[1mInfo: \u001b[22m\u001b[39m started timer at: 2024-04-01T18:03:42.720\n"
     ]
    },
    {
     "name": "stdout",
     "output_type": "stream",
     "text": [
      "false\n",
      "50\n",
      "1\n",
      "-143664.56896028772\n",
      "5644.476989524497\n",
      "-------------------------\n",
      "50K : 16\n",
      "[0, -800, -100, -1200, -2000]\n"
     ]
    },
    {
     "name": "stderr",
     "output_type": "stream",
     "text": [
      "\u001b[36m\u001b[1m[ \u001b[22m\u001b[39m\u001b[36m\u001b[1mInfo: \u001b[22m\u001b[39m         249.0768802s: 4 minutes, 9 seconds, 76 milliseconds\n",
      "\u001b[36m\u001b[1m[ \u001b[22m\u001b[39m\u001b[36m\u001b[1mInfo: \u001b[22m\u001b[39m started timer at: 2024-04-01T18:07:51.808\n"
     ]
    },
    {
     "name": "stdout",
     "output_type": "stream",
     "text": [
      "false\n",
      "50\n",
      "1\n",
      "-147232.819000137\n",
      "5689.670139793145\n",
      "-------------------------\n",
      "50K : 16\n",
      "[0, -1000, -100, -1200, -2000]\n"
     ]
    },
    {
     "name": "stderr",
     "output_type": "stream",
     "text": [
      "\u001b[36m\u001b[1m[ \u001b[22m\u001b[39m\u001b[36m\u001b[1mInfo: \u001b[22m\u001b[39m         245.6710787s: 4 minutes, 5 seconds, 671 milliseconds\n",
      "\u001b[36m\u001b[1m[ \u001b[22m\u001b[39m\u001b[36m\u001b[1mInfo: \u001b[22m\u001b[39m started timer at: 2024-04-01T18:11:57.489\n"
     ]
    },
    {
     "name": "stdout",
     "output_type": "stream",
     "text": [
      "false\n",
      "50\n",
      "1\n",
      "-150774.09119011858\n",
      "5750.333437679945\n",
      "-------------------------\n",
      "50K : 16\n",
      "[0, -1200, -100, -1200, -2000]\n"
     ]
    },
    {
     "name": "stderr",
     "output_type": "stream",
     "text": [
      "\u001b[36m\u001b[1m[ \u001b[22m\u001b[39m\u001b[36m\u001b[1mInfo: \u001b[22m\u001b[39m         249.8424009s: 4 minutes, 9 seconds, 842 milliseconds\n",
      "\u001b[36m\u001b[1m[ \u001b[22m\u001b[39m\u001b[36m\u001b[1mInfo: \u001b[22m\u001b[39m started timer at: 2024-04-01T18:16:07.353\n"
     ]
    },
    {
     "name": "stdout",
     "output_type": "stream",
     "text": [
      "false\n",
      "50\n",
      "1\n",
      "-154386.9326221383\n",
      "5645.302130993799\n",
      "-------------------------\n",
      "50K : 16\n",
      "[0, -1400, -100, -1200, -2000]\n"
     ]
    },
    {
     "name": "stderr",
     "output_type": "stream",
     "text": [
      "\u001b[36m\u001b[1m[ \u001b[22m\u001b[39m\u001b[36m\u001b[1mInfo: \u001b[22m\u001b[39m         245.7956168s: 4 minutes, 5 seconds, 795 milliseconds\n",
      "\u001b[36m\u001b[1m[ \u001b[22m\u001b[39m\u001b[36m\u001b[1mInfo: \u001b[22m\u001b[39m started timer at: 2024-04-01T18:20:13.159\n"
     ]
    },
    {
     "name": "stdout",
     "output_type": "stream",
     "text": [
      "false\n",
      "50\n",
      "1\n",
      "-158040.71249604897\n",
      "5749.762920969996\n",
      "-------------------------\n",
      "50K : 16\n",
      "[0, -1600, -100, -1200, -2000]\n"
     ]
    },
    {
     "name": "stderr",
     "output_type": "stream",
     "text": [
      "\u001b[36m\u001b[1m[ \u001b[22m\u001b[39m\u001b[36m\u001b[1mInfo: \u001b[22m\u001b[39m         249.6597126s: 4 minutes, 9 seconds, 659 milliseconds\n",
      "\u001b[36m\u001b[1m[ \u001b[22m\u001b[39m\u001b[36m\u001b[1mInfo: \u001b[22m\u001b[39m started timer at: 2024-04-01T18:24:22.840\n"
     ]
    },
    {
     "name": "stdout",
     "output_type": "stream",
     "text": [
      "false\n",
      "50\n",
      "1\n",
      "-161600.19210616802\n",
      "5771.255838481543\n",
      "-------------------------\n",
      "50K : 16\n"
     ]
    },
    {
     "name": "stderr",
     "output_type": "stream",
     "text": [
      "\u001b[36m\u001b[1m[ \u001b[22m\u001b[39m\u001b[36m\u001b[1mInfo: \u001b[22m\u001b[39m          246.051805s: 4 minutes, 6 seconds, 51 milliseconds\n",
      "\u001b[36m\u001b[1m[ \u001b[22m\u001b[39m\u001b[36m\u001b[1mInfo: \u001b[22m\u001b[39m started timer at: 2024-04-01T18:28:28.924\n"
     ]
    },
    {
     "name": "stdout",
     "output_type": "stream",
     "text": [
      "[0, -1800, -100, -1200, -2000]\n",
      "false\n",
      "50\n",
      "1\n",
      "-165291.29041461664\n",
      "5725.646610189121\n",
      "-------------------------\n",
      "50K : 16\n",
      "[0, -2000, -100, -1200, -2000]\n"
     ]
    },
    {
     "name": "stderr",
     "output_type": "stream",
     "text": [
      "\u001b[36m\u001b[1m[ \u001b[22m\u001b[39m\u001b[36m\u001b[1mInfo: \u001b[22m\u001b[39m         248.8851375s: 4 minutes, 8 seconds, 885 milliseconds\n",
      "\u001b[36m\u001b[1m[ \u001b[22m\u001b[39m\u001b[36m\u001b[1mInfo: \u001b[22m\u001b[39m started timer at: 2024-04-01T18:32:37.830\n"
     ]
    },
    {
     "name": "stdout",
     "output_type": "stream",
     "text": [
      "false\n",
      "50\n",
      "1\n",
      "-168761.90241265087\n",
      "5819.58946382221\n",
      "-------------------------\n"
     ]
    },
    {
     "name": "stderr",
     "output_type": "stream",
     "text": [
      "\u001b[36m\u001b[1m[ \u001b[22m\u001b[39m\u001b[36m\u001b[1mInfo: \u001b[22m\u001b[39m         246.2053175s: 4 minutes, 6 seconds, 205 milliseconds\n"
     ]
    },
    {
     "name": "stdout",
     "output_type": "stream",
     "text": [
      "50K : 16\n",
      "[0, -2400, -100, -1200, -2000]\n"
     ]
    },
    {
     "name": "stderr",
     "output_type": "stream",
     "text": [
      "\u001b[36m\u001b[1m[ \u001b[22m\u001b[39m\u001b[36m\u001b[1mInfo: \u001b[22m\u001b[39m started timer at: 2024-04-01T18:36:44.057\n"
     ]
    },
    {
     "name": "stdout",
     "output_type": "stream",
     "text": [
      "false\n",
      "50\n",
      "1\n",
      "-176074.85440112272\n",
      "5931.71459281738\n",
      "-------------------------\n",
      "50K : 16\n",
      "[0, -2800, -100, -1200, -2000]\n"
     ]
    },
    {
     "name": "stderr",
     "output_type": "stream",
     "text": [
      "\u001b[36m\u001b[1m[ \u001b[22m\u001b[39m\u001b[36m\u001b[1mInfo: \u001b[22m\u001b[39m         249.1215836s: 4 minutes, 9 seconds, 121 milliseconds\n",
      "\u001b[36m\u001b[1m[ \u001b[22m\u001b[39m\u001b[36m\u001b[1mInfo: \u001b[22m\u001b[39m started timer at: 2024-04-01T18:40:53.211\n"
     ]
    },
    {
     "name": "stdout",
     "output_type": "stream",
     "text": [
      "false\n",
      "50\n",
      "1\n",
      "-183323.05375917\n",
      "5974.334192679072\n",
      "-------------------------\n",
      "50K : 16\n",
      "[0, -3200, -100, -1200, -2000]\n"
     ]
    },
    {
     "name": "stderr",
     "output_type": "stream",
     "text": [
      "\u001b[36m\u001b[1m[ \u001b[22m\u001b[39m\u001b[36m\u001b[1mInfo: \u001b[22m\u001b[39m         245.0759831s: 4 minutes, 5 seconds, 75 milliseconds\n",
      "\u001b[36m\u001b[1m[ \u001b[22m\u001b[39m\u001b[36m\u001b[1mInfo: \u001b[22m\u001b[39m started timer at: 2024-04-01T18:44:58.297\n"
     ]
    },
    {
     "name": "stdout",
     "output_type": "stream",
     "text": [
      "false\n",
      "50\n",
      "1\n",
      "-190498.9083475734\n",
      "6112.82998484673\n",
      "-------------------------\n",
      "50K : 18\n",
      "[0, -200, -100, -1200, -2000]\n"
     ]
    },
    {
     "name": "stderr",
     "output_type": "stream",
     "text": [
      "\u001b[36m\u001b[1m[ \u001b[22m\u001b[39m\u001b[36m\u001b[1mInfo: \u001b[22m\u001b[39m         249.6871658s: 4 minutes, 9 seconds, 687 milliseconds\n",
      "\u001b[36m\u001b[1m[ \u001b[22m\u001b[39m\u001b[36m\u001b[1mInfo: \u001b[22m\u001b[39m started timer at: 2024-04-01T18:49:07.995\n"
     ]
    },
    {
     "name": "stdout",
     "output_type": "stream",
     "text": [
      "false\n",
      "50\n",
      "1\n",
      "-135292.11561254808\n",
      "5395.915461061568\n",
      "-------------------------"
     ]
    },
    {
     "name": "stderr",
     "output_type": "stream",
     "text": [
      "\u001b[36m\u001b[1m[ \u001b[22m\u001b[39m\u001b[36m\u001b[1mInfo: \u001b[22m\u001b[39m         245.3992478s: 4 minutes, 5 seconds, 399 milliseconds\n"
     ]
    },
    {
     "name": "stdout",
     "output_type": "stream",
     "text": [
      "\n",
      "50K : 18\n",
      "[0, -400, -100, -1200, -2000]\n"
     ]
    },
    {
     "name": "stderr",
     "output_type": "stream",
     "text": [
      "\u001b[36m\u001b[1m[ \u001b[22m\u001b[39m\u001b[36m\u001b[1mInfo: \u001b[22m\u001b[39m started timer at: 2024-04-01T18:53:13.415\n"
     ]
    },
    {
     "name": "stdout",
     "output_type": "stream",
     "text": [
      "false\n",
      "50\n",
      "1\n",
      "-138984.07778591794\n",
      "5462.795410109699\n",
      "-------------------------\n",
      "50K : 18\n",
      "[0, -600, -100, -1200, -2000]\n"
     ]
    },
    {
     "name": "stderr",
     "output_type": "stream",
     "text": [
      "\u001b[36m\u001b[1m[ \u001b[22m\u001b[39m\u001b[36m\u001b[1mInfo: \u001b[22m\u001b[39m         250.1920647s: 4 minutes, 10 seconds, 192 milliseconds\n",
      "\u001b[36m\u001b[1m[ \u001b[22m\u001b[39m\u001b[36m\u001b[1mInfo: \u001b[22m\u001b[39m started timer at: 2024-04-01T18:57:23.629\n"
     ]
    },
    {
     "name": "stdout",
     "output_type": "stream",
     "text": [
      "false\n",
      "50\n",
      "1\n",
      "-142632.06596286537\n",
      "5460.817605431925\n",
      "-------------------------\n",
      "50K : 18"
     ]
    },
    {
     "name": "stderr",
     "output_type": "stream",
     "text": [
      "\u001b[36m\u001b[1m[ \u001b[22m\u001b[39m\u001b[36m\u001b[1mInfo: \u001b[22m\u001b[39m         246.4055642s: 4 minutes, 6 seconds, 405 milliseconds\n",
      "\u001b[36m\u001b[1m[ \u001b[22m\u001b[39m\u001b[36m\u001b[1mInfo: \u001b[22m\u001b[39m started timer at: 2024-04-01T19:01:30.045\n"
     ]
    },
    {
     "name": "stdout",
     "output_type": "stream",
     "text": [
      "\n",
      "[0, -800, -100, -1200, -2000]\n",
      "false\n",
      "50\n",
      "1\n",
      "-146267.39547570611\n",
      "5546.558032052885\n",
      "-------------------------\n",
      "50K : 18\n",
      "[0, -1000, -100, -1200, -2000]\n"
     ]
    },
    {
     "name": "stderr",
     "output_type": "stream",
     "text": [
      "\u001b[36m\u001b[1m[ \u001b[22m\u001b[39m\u001b[36m\u001b[1mInfo: \u001b[22m\u001b[39m         251.6373793s: 4 minutes, 11 seconds, 637 milliseconds\n",
      "\u001b[36m\u001b[1m[ \u001b[22m\u001b[39m\u001b[36m\u001b[1mInfo: \u001b[22m\u001b[39m started timer at: 2024-04-01T19:05:41.694\n"
     ]
    },
    {
     "name": "stdout",
     "output_type": "stream",
     "text": [
      "false\n",
      "50\n",
      "1\n",
      "-149707.6720912722\n",
      "5566.340093167878\n",
      "-------------------------"
     ]
    },
    {
     "name": "stderr",
     "output_type": "stream",
     "text": [
      "\u001b[36m\u001b[1m[ \u001b[22m\u001b[39m\u001b[36m\u001b[1mInfo: \u001b[22m\u001b[39m         246.2138496s: 4 minutes, 6 seconds, 213 milliseconds\n"
     ]
    },
    {
     "name": "stdout",
     "output_type": "stream",
     "text": [
      "\n",
      "50K : 18\n",
      "[0, -1200, -100, -1200, -2000]\n"
     ]
    },
    {
     "name": "stderr",
     "output_type": "stream",
     "text": [
      "\u001b[36m\u001b[1m[ \u001b[22m\u001b[39m\u001b[36m\u001b[1mInfo: \u001b[22m\u001b[39m started timer at: 2024-04-01T19:09:47.919\n"
     ]
    },
    {
     "name": "stdout",
     "output_type": "stream",
     "text": [
      "false\n",
      "50\n",
      "1\n",
      "-153446.6937212409\n",
      "5663.220480048483\n",
      "-------------------------\n",
      "50K : 18\n",
      "[0, -1400, -100, -1200, -2000]\n"
     ]
    },
    {
     "name": "stderr",
     "output_type": "stream",
     "text": [
      "\u001b[36m\u001b[1m[ \u001b[22m\u001b[39m\u001b[36m\u001b[1mInfo: \u001b[22m\u001b[39m         251.6119545s: 4 minutes, 11 seconds, 611 milliseconds\n",
      "\u001b[36m\u001b[1m[ \u001b[22m\u001b[39m\u001b[36m\u001b[1mInfo: \u001b[22m\u001b[39m started timer at: 2024-04-01T19:13:59.553\n"
     ]
    },
    {
     "name": "stdout",
     "output_type": "stream",
     "text": [
      "false\n",
      "50\n",
      "1\n",
      "-157075.43559550634\n",
      "5648.015604521635\n"
     ]
    },
    {
     "name": "stderr",
     "output_type": "stream",
     "text": [
      "\u001b[36m\u001b[1m[ \u001b[22m\u001b[39m\u001b[36m\u001b[1mInfo: \u001b[22m\u001b[39m         245.7211081s: 4 minutes, 5 seconds, 721 milliseconds\n"
     ]
    },
    {
     "name": "stdout",
     "output_type": "stream",
     "text": [
      "-------------------------\n",
      "50K : 18\n",
      "[0, -1600, -100, -1200, -2000]\n"
     ]
    },
    {
     "name": "stderr",
     "output_type": "stream",
     "text": [
      "\u001b[36m\u001b[1m[ \u001b[22m\u001b[39m\u001b[36m\u001b[1mInfo: \u001b[22m\u001b[39m started timer at: 2024-04-01T19:18:05.296\n"
     ]
    },
    {
     "name": "stdout",
     "output_type": "stream",
     "text": [
      "false\n",
      "50\n",
      "1\n",
      "-160603.48192096563\n",
      "5711.1970436239235\n",
      "-------------------------\n",
      "50K : 18\n",
      "[0, -1800, -100, -1200, -2000]\n"
     ]
    },
    {
     "name": "stderr",
     "output_type": "stream",
     "text": [
      "\u001b[36m\u001b[1m[ \u001b[22m\u001b[39m\u001b[36m\u001b[1mInfo: \u001b[22m\u001b[39m         251.9110593s: 4 minutes, 11 seconds, 911 milliseconds\n",
      "\u001b[36m\u001b[1m[ \u001b[22m\u001b[39m\u001b[36m\u001b[1mInfo: \u001b[22m\u001b[39m started timer at: 2024-04-01T19:22:17.216\n"
     ]
    },
    {
     "name": "stdout",
     "output_type": "stream",
     "text": [
      "false\n",
      "50\n",
      "1\n",
      "-164250.90839899358\n",
      "5627.033989240099\n",
      "-------------------------\n",
      "50K : 18\n",
      "[0, -2000, -100, -1200, -2000]\n"
     ]
    },
    {
     "name": "stderr",
     "output_type": "stream",
     "text": [
      "\u001b[36m\u001b[1m[ \u001b[22m\u001b[39m\u001b[36m\u001b[1mInfo: \u001b[22m\u001b[39m         245.9439058s: 4 minutes, 5 seconds, 943 milliseconds\n",
      "\u001b[36m\u001b[1m[ \u001b[22m\u001b[39m\u001b[36m\u001b[1mInfo: \u001b[22m\u001b[39m started timer at: 2024-04-01T19:26:23.170\n"
     ]
    },
    {
     "name": "stdout",
     "output_type": "stream",
     "text": [
      "false\n",
      "50\n",
      "1\n",
      "-167937.81191104636\n",
      "5714.478452140271\n",
      "-------------------------\n",
      "50K : 18\n",
      "[0, -2400, -100, -1200, -2000]\n"
     ]
    },
    {
     "name": "stderr",
     "output_type": "stream",
     "text": [
      "\u001b[36m\u001b[1m[ \u001b[22m\u001b[39m\u001b[36m\u001b[1mInfo: \u001b[22m\u001b[39m         252.5368635s: 4 minutes, 12 seconds, 536 milliseconds\n",
      "\u001b[36m\u001b[1m[ \u001b[22m\u001b[39m\u001b[36m\u001b[1mInfo: \u001b[22m\u001b[39m started timer at: 2024-04-01T19:30:35.739\n"
     ]
    },
    {
     "name": "stdout",
     "output_type": "stream",
     "text": [
      "false\n",
      "50\n",
      "1\n",
      "-175103.3332884086\n",
      "5798.463619111899\n",
      "-------------------------\n",
      "50K : 18\n",
      "[0, -2800, -100, -1200, -2000]\n"
     ]
    },
    {
     "name": "stderr",
     "output_type": "stream",
     "text": [
      "\u001b[36m\u001b[1m[ \u001b[22m\u001b[39m\u001b[36m\u001b[1mInfo: \u001b[22m\u001b[39m         245.8700032s: 4 minutes, 5 seconds, 870 milliseconds\n",
      "\u001b[36m\u001b[1m[ \u001b[22m\u001b[39m\u001b[36m\u001b[1mInfo: \u001b[22m\u001b[39m started timer at: 2024-04-01T19:34:41.609\n"
     ]
    },
    {
     "name": "stdout",
     "output_type": "stream",
     "text": [
      "false\n",
      "50\n",
      "1\n",
      "-182318.26138285885\n",
      "5983.088498340881\n"
     ]
    },
    {
     "name": "stderr",
     "output_type": "stream",
     "text": [
      "\u001b[36m\u001b[1m[ \u001b[22m\u001b[39m\u001b[36m\u001b[1mInfo: \u001b[22m\u001b[39m         253.9589564s: 4 minutes, 13 seconds, 958 milliseconds\n"
     ]
    },
    {
     "name": "stdout",
     "output_type": "stream",
     "text": [
      "-------------------------\n",
      "50K : 18\n",
      "[0, -3200, -100, -1200, -2000]\n"
     ]
    },
    {
     "name": "stderr",
     "output_type": "stream",
     "text": [
      "\u001b[36m\u001b[1m[ \u001b[22m\u001b[39m\u001b[36m\u001b[1mInfo: \u001b[22m\u001b[39m started timer at: 2024-04-01T19:38:55.589\n"
     ]
    },
    {
     "name": "stdout",
     "output_type": "stream",
     "text": [
      "false\n",
      "50\n",
      "1\n",
      "-189447.0674442102\n",
      "5901.619313882287\n",
      "-------------------------\n",
      "50K : 20\n",
      "[0, -200, -100, -1200, -2000]\n"
     ]
    },
    {
     "name": "stderr",
     "output_type": "stream",
     "text": [
      "\u001b[36m\u001b[1m[ \u001b[22m\u001b[39m\u001b[36m\u001b[1mInfo: \u001b[22m\u001b[39m         245.9236594s: 4 minutes, 5 seconds, 923 milliseconds\n",
      "\u001b[36m\u001b[1m[ \u001b[22m\u001b[39m\u001b[36m\u001b[1mInfo: \u001b[22m\u001b[39m started timer at: 2024-04-01T19:43:01.534\n"
     ]
    },
    {
     "name": "stdout",
     "output_type": "stream",
     "text": [
      "false\n",
      "50\n",
      "1\n",
      "-134713.0535971287\n",
      "5421.832772508627\n",
      "-------------------------\n",
      "50K : 20\n",
      "[0, -400, -100, -1200, -2000]\n"
     ]
    },
    {
     "name": "stderr",
     "output_type": "stream",
     "text": [
      "\u001b[36m\u001b[1m[ \u001b[22m\u001b[39m\u001b[36m\u001b[1mInfo: \u001b[22m\u001b[39m         253.2229754s: 4 minutes, 13 seconds, 222 milliseconds\n",
      "\u001b[36m\u001b[1m[ \u001b[22m\u001b[39m\u001b[36m\u001b[1mInfo: \u001b[22m\u001b[39m started timer at: 2024-04-01T19:47:14.757\n"
     ]
    },
    {
     "name": "stdout",
     "output_type": "stream",
     "text": [
      "false\n",
      "50\n",
      "1\n",
      "-138259.3150261849\n",
      "5327.70928158343\n",
      "-------------------------\n",
      "50"
     ]
    },
    {
     "name": "stderr",
     "output_type": "stream",
     "text": [
      "\u001b[36m\u001b[1m[ \u001b[22m\u001b[39m\u001b[36m\u001b[1mInfo: \u001b[22m\u001b[39m         247.3228274s: 4 minutes, 7 seconds, 322 milliseconds\n",
      "\u001b[36m\u001b[1m[ \u001b[22m\u001b[39m\u001b[36m\u001b[1mInfo: \u001b[22m\u001b[39m started timer at: 2024-04-01T19:51:22.101\n"
     ]
    },
    {
     "name": "stdout",
     "output_type": "stream",
     "text": [
      "K : 20\n",
      "[0, -600, -100, -1200, -2000]\n",
      "false\n",
      "50\n",
      "1\n",
      "-141799.1643747992\n",
      "5457.465336687184\n",
      "-------------------------\n",
      "50K : 20\n",
      "[0, -800, -100, -1200, -2000]\n"
     ]
    },
    {
     "name": "stderr",
     "output_type": "stream",
     "text": [
      "\u001b[36m\u001b[1m[ \u001b[22m\u001b[39m\u001b[36m\u001b[1mInfo: \u001b[22m\u001b[39m         254.0711861s: 4 minutes, 14 seconds, 71 milliseconds\n",
      "\u001b[36m\u001b[1m[ \u001b[22m\u001b[39m\u001b[36m\u001b[1mInfo: \u001b[22m\u001b[39m started timer at: 2024-04-01T19:55:36.193\n"
     ]
    },
    {
     "name": "stdout",
     "output_type": "stream",
     "text": [
      "false\n",
      "50\n",
      "1\n",
      "-145422.21371162616\n",
      "5395.019207085816\n",
      "-------------------------\n"
     ]
    },
    {
     "name": "stderr",
     "output_type": "stream",
     "text": [
      "\u001b[36m\u001b[1m[ \u001b[22m\u001b[39m\u001b[36m\u001b[1mInfo: \u001b[22m\u001b[39m         245.7404808s: 4 minutes, 5 seconds, 740 milliseconds\n",
      "\u001b[36m\u001b[1m[ \u001b[22m\u001b[39m\u001b[36m\u001b[1mInfo: \u001b[22m\u001b[39m started timer at: 2024-04-01T19:59:41.955\n"
     ]
    },
    {
     "name": "stdout",
     "output_type": "stream",
     "text": [
      "50K : 20\n",
      "[0, -1000, -100, -1200, -2000]\n",
      "false\n",
      "50\n",
      "1\n",
      "-149097.19114246874\n",
      "5561.262897765458\n",
      "-------------------------\n",
      "50K : 20\n",
      "[0, -1200, -100, -1200, -2000]\n"
     ]
    },
    {
     "name": "stderr",
     "output_type": "stream",
     "text": [
      "\u001b[36m\u001b[1m[ \u001b[22m\u001b[39m\u001b[36m\u001b[1mInfo: \u001b[22m\u001b[39m         253.3909029s: 4 minutes, 13 seconds, 390 milliseconds\n",
      "\u001b[36m\u001b[1m[ \u001b[22m\u001b[39m\u001b[36m\u001b[1mInfo: \u001b[22m\u001b[39m started timer at: 2024-04-01T20:03:55.367\n"
     ]
    },
    {
     "name": "stdout",
     "output_type": "stream",
     "text": [
      "false\n",
      "50\n",
      "1\n",
      "-152618.6849067426\n",
      "5435.3792296654\n",
      "-------------------------\n"
     ]
    },
    {
     "name": "stderr",
     "output_type": "stream",
     "text": [
      "\u001b[36m\u001b[1m[ \u001b[22m\u001b[39m\u001b[36m\u001b[1mInfo: \u001b[22m\u001b[39m          245.611234s: 4 minutes, 5 seconds, 611 milliseconds\n",
      "\u001b[36m\u001b[1m[ \u001b[22m\u001b[39m\u001b[36m\u001b[1mInfo: \u001b[22m\u001b[39m started timer at: 2024-04-01T20:08:01.011\n"
     ]
    },
    {
     "name": "stdout",
     "output_type": "stream",
     "text": [
      "50K : 20\n",
      "[0, -1400, -100, -1200, -2000]\n",
      "false\n",
      "50\n",
      "1\n",
      "-156371.45185337393\n",
      "5571.010501915849\n",
      "-------------------------\n",
      "50K : 20"
     ]
    },
    {
     "name": "stderr",
     "output_type": "stream",
     "text": [
      "\u001b[36m\u001b[1m[ \u001b[22m\u001b[39m\u001b[36m\u001b[1mInfo: \u001b[22m\u001b[39m         254.5633438s: 4 minutes, 14 seconds, 563 milliseconds\n",
      "\u001b[36m\u001b[1m[ \u001b[22m\u001b[39m\u001b[36m\u001b[1mInfo: \u001b[22m\u001b[39m started timer at: 2024-04-01T20:12:15.584\n"
     ]
    },
    {
     "name": "stdout",
     "output_type": "stream",
     "text": [
      "\n",
      "[0, -1600, -100, -1200, -2000]\n",
      "false\n",
      "50\n",
      "1\n",
      "-159850.2096154937\n",
      "5450.275369214295\n",
      "-------------------------\n",
      "50K : 20\n",
      "[0, -1800, -100, -1200, -2000]\n"
     ]
    },
    {
     "name": "stderr",
     "output_type": "stream",
     "text": [
      "\u001b[36m\u001b[1m[ \u001b[22m\u001b[39m\u001b[36m\u001b[1mInfo: \u001b[22m\u001b[39m         246.0261189s: 4 minutes, 6 seconds, 26 milliseconds\n",
      "\u001b[36m\u001b[1m[ \u001b[22m\u001b[39m\u001b[36m\u001b[1mInfo: \u001b[22m\u001b[39m started timer at: 2024-04-01T20:16:21.610\n"
     ]
    },
    {
     "name": "stdout",
     "output_type": "stream",
     "text": [
      "false\n",
      "50\n",
      "1\n",
      "-163526.81162505056\n",
      "5725.247387416273\n",
      "-------------------------\n",
      "50K : 20\n",
      "[0, -2000, -100, -1200, -2000]\n"
     ]
    },
    {
     "name": "stderr",
     "output_type": "stream",
     "text": [
      "\u001b[36m\u001b[1m[ \u001b[22m\u001b[39m\u001b[36m\u001b[1mInfo: \u001b[22m\u001b[39m         254.6417157s: 4 minutes, 14 seconds, 641 milliseconds\n",
      "\u001b[36m\u001b[1m[ \u001b[22m\u001b[39m\u001b[36m\u001b[1mInfo: \u001b[22m\u001b[39m started timer at: 2024-04-01T20:20:36.263\n"
     ]
    },
    {
     "name": "stdout",
     "output_type": "stream",
     "text": [
      "false\n",
      "50\n",
      "1\n",
      "-167179.0933778028\n",
      "5547.290339308579\n",
      "-------------------------\n",
      "50K : 20\n",
      "[0, -2400, -100, -1200, -2000]\n"
     ]
    },
    {
     "name": "stderr",
     "output_type": "stream",
     "text": [
      "\u001b[36m\u001b[1m[ \u001b[22m\u001b[39m\u001b[36m\u001b[1mInfo: \u001b[22m\u001b[39m         245.9353446s: 4 minutes, 5 seconds, 935 milliseconds\n",
      "\u001b[36m\u001b[1m[ \u001b[22m\u001b[39m\u001b[36m\u001b[1mInfo: \u001b[22m\u001b[39m started timer at: 2024-04-01T20:24:42.219\n"
     ]
    },
    {
     "name": "stdout",
     "output_type": "stream",
     "text": [
      "false\n",
      "50\n",
      "1\n",
      "-174307.94643735272\n",
      "5706.108545590135\n",
      "-------------------------\n",
      "50K : 20\n",
      "[0, -2800, -100, -1200, -2000]\n"
     ]
    },
    {
     "name": "stderr",
     "output_type": "stream",
     "text": [
      "\u001b[36m\u001b[1m[ \u001b[22m\u001b[39m\u001b[36m\u001b[1mInfo: \u001b[22m\u001b[39m         254.8568283s: 4 minutes, 14 seconds, 856 milliseconds\n",
      "\u001b[36m\u001b[1m[ \u001b[22m\u001b[39m\u001b[36m\u001b[1mInfo: \u001b[22m\u001b[39m started timer at: 2024-04-01T20:28:57.086\n"
     ]
    },
    {
     "name": "stdout",
     "output_type": "stream",
     "text": [
      "false\n",
      "50\n",
      "1\n",
      "-181691.84518645672\n",
      "5652.411515577649\n",
      "-------------------------\n",
      "50K : 20\n",
      "[0, -3200, -100, -1200, -2000]\n"
     ]
    },
    {
     "name": "stderr",
     "output_type": "stream",
     "text": [
      "\u001b[36m\u001b[1m[ \u001b[22m\u001b[39m\u001b[36m\u001b[1mInfo: \u001b[22m\u001b[39m         245.9911849s: 4 minutes, 5 seconds, 991 milliseconds\n",
      "\u001b[36m\u001b[1m[ \u001b[22m\u001b[39m\u001b[36m\u001b[1mInfo: \u001b[22m\u001b[39m started timer at: 2024-04-01T20:33:03.110\n"
     ]
    },
    {
     "name": "stdout",
     "output_type": "stream",
     "text": [
      "false\n",
      "50\n",
      "1\n",
      "-188659.15567297125\n",
      "5909.946655679141\n",
      "-------------------------\n",
      "50K : 22\n",
      "[0, -200, -100, -1200, -2000]\n"
     ]
    },
    {
     "name": "stderr",
     "output_type": "stream",
     "text": [
      "\u001b[36m\u001b[1m[ \u001b[22m\u001b[39m\u001b[36m\u001b[1mInfo: \u001b[22m\u001b[39m         255.4773889s: 4 minutes, 15 seconds, 477 milliseconds\n",
      "\u001b[36m\u001b[1m[ \u001b[22m\u001b[39m\u001b[36m\u001b[1mInfo: \u001b[22m\u001b[39m started timer at: 2024-04-01T20:37:18.598\n"
     ]
    },
    {
     "name": "stdout",
     "output_type": "stream",
     "text": [
      "false\n",
      "50\n",
      "1\n",
      "-134198.60829853115\n",
      "5256.60337031791\n",
      "-------------------------\n",
      "50"
     ]
    },
    {
     "name": "stderr",
     "output_type": "stream",
     "text": [
      "\u001b[36m\u001b[1m[ \u001b[22m\u001b[39m\u001b[36m\u001b[1mInfo: \u001b[22m\u001b[39m          245.742345s: 4 minutes, 5 seconds, 742 milliseconds\n",
      "\u001b[36m\u001b[1m[ \u001b[22m\u001b[39m\u001b[36m\u001b[1mInfo: \u001b[22m\u001b[39m started timer at: 2024-04-01T20:41:24.351\n"
     ]
    },
    {
     "name": "stdout",
     "output_type": "stream",
     "text": [
      "K : 22\n",
      "[0, -400, -100, -1200, -2000]\n",
      "false\n",
      "50\n",
      "1\n",
      "-137763.7227977618\n",
      "5297.486337666969\n",
      "-------------------------\n",
      "50K : 22\n",
      "[0, -600, -100, -1200, -2000]\n"
     ]
    },
    {
     "name": "stderr",
     "output_type": "stream",
     "text": [
      "\u001b[36m\u001b[1m[ \u001b[22m\u001b[39m\u001b[36m\u001b[1mInfo: \u001b[22m\u001b[39m         255.7938839s: 4 minutes, 15 seconds, 793 milliseconds\n",
      "\u001b[36m\u001b[1m[ \u001b[22m\u001b[39m\u001b[36m\u001b[1mInfo: \u001b[22m\u001b[39m started timer at: 2024-04-01T20:45:40.166\n"
     ]
    },
    {
     "name": "stdout",
     "output_type": "stream",
     "text": [
      "false\n",
      "50\n",
      "1\n",
      "-141469.74858930637\n",
      "5221.780916959641\n",
      "-------------------------\n",
      "50K : 22\n",
      "[0, -800, -100, -1200, -2000]\n"
     ]
    },
    {
     "name": "stderr",
     "output_type": "stream",
     "text": [
      "\u001b[36m\u001b[1m[ \u001b[22m\u001b[39m\u001b[36m\u001b[1mInfo: \u001b[22m\u001b[39m         246.2751258s: 4 minutes, 6 seconds, 275 milliseconds\n",
      "\u001b[36m\u001b[1m[ \u001b[22m\u001b[39m\u001b[36m\u001b[1mInfo: \u001b[22m\u001b[39m started timer at: 2024-04-01T20:49:46.474\n"
     ]
    },
    {
     "name": "stdout",
     "output_type": "stream",
     "text": [
      "false\n",
      "50\n",
      "1\n",
      "-144995.64831949535\n",
      "5362.160185387463\n"
     ]
    },
    {
     "name": "stderr",
     "output_type": "stream",
     "text": [
      "\u001b[36m\u001b[1m[ \u001b[22m\u001b[39m\u001b[36m\u001b[1mInfo: \u001b[22m\u001b[39m         255.7865992s: 4 minutes, 15 seconds, 786 milliseconds\n"
     ]
    },
    {
     "name": "stdout",
     "output_type": "stream",
     "text": [
      "-------------------------\n",
      "50K : 22\n",
      "[0, -1000, -100, -1200, -2000]\n"
     ]
    },
    {
     "name": "stderr",
     "output_type": "stream",
     "text": [
      "\u001b[36m\u001b[1m[ \u001b[22m\u001b[39m\u001b[36m\u001b[1mInfo: \u001b[22m\u001b[39m started timer at: 2024-04-01T20:54:02.282\n"
     ]
    },
    {
     "name": "stdout",
     "output_type": "stream",
     "text": [
      "false\n",
      "50\n",
      "1\n",
      "-148576.2011736164\n",
      "5315.794620596039\n",
      "-------------------------"
     ]
    },
    {
     "name": "stderr",
     "output_type": "stream",
     "text": [
      "\u001b[36m\u001b[1m[ \u001b[22m\u001b[39m\u001b[36m\u001b[1mInfo: \u001b[22m\u001b[39m         246.0135724s: 4 minutes, 6 seconds, 13 milliseconds\n"
     ]
    },
    {
     "name": "stdout",
     "output_type": "stream",
     "text": [
      "\n",
      "50K : 22\n",
      "[0, -1200, -100, -1200, -2000]\n"
     ]
    },
    {
     "name": "stderr",
     "output_type": "stream",
     "text": [
      "\u001b[36m\u001b[1m[ \u001b[22m\u001b[39m\u001b[36m\u001b[1mInfo: \u001b[22m\u001b[39m started timer at: 2024-04-01T20:58:08.317\n"
     ]
    },
    {
     "name": "stdout",
     "output_type": "stream",
     "text": [
      "false\n",
      "50\n",
      "1\n",
      "-152134.48984102593\n",
      "5405.962646395752\n"
     ]
    },
    {
     "name": "stderr",
     "output_type": "stream",
     "text": [
      "\u001b[36m\u001b[1m[ \u001b[22m\u001b[39m\u001b[36m\u001b[1mInfo: \u001b[22m\u001b[39m         257.1003207s: 4 minutes, 17 seconds, 100 milliseconds\n"
     ]
    },
    {
     "name": "stdout",
     "output_type": "stream",
     "text": [
      "-------------------------\n",
      "50K : 22\n",
      "[0, -1400, -100, -1200, -2000]\n"
     ]
    },
    {
     "name": "stderr",
     "output_type": "stream",
     "text": [
      "\u001b[36m\u001b[1m[ \u001b[22m\u001b[39m\u001b[36m\u001b[1mInfo: \u001b[22m\u001b[39m started timer at: 2024-04-01T21:02:25.439\n"
     ]
    },
    {
     "name": "stdout",
     "output_type": "stream",
     "text": [
      "false\n",
      "50\n",
      "1\n",
      "-155813.74178571443\n",
      "5370.772637575861\n",
      "-------------------------\n",
      "50K : 22\n",
      "[0, -1600, -100, -1200, -2000]\n"
     ]
    },
    {
     "name": "stderr",
     "output_type": "stream",
     "text": [
      "\u001b[36m\u001b[1m[ \u001b[22m\u001b[39m\u001b[36m\u001b[1mInfo: \u001b[22m\u001b[39m          246.519741s: 4 minutes, 6 seconds, 519 milliseconds\n",
      "\u001b[36m\u001b[1m[ \u001b[22m\u001b[39m\u001b[36m\u001b[1mInfo: \u001b[22m\u001b[39m started timer at: 2024-04-01T21:06:31.980\n"
     ]
    },
    {
     "name": "stdout",
     "output_type": "stream",
     "text": [
      "false\n",
      "50\n",
      "1\n",
      "-159376.60342826057\n",
      "5420.914977836346\n",
      "-------------------------\n",
      "50K : 22\n",
      "[0, -1800, -100, -1200, -2000]\n"
     ]
    },
    {
     "name": "stderr",
     "output_type": "stream",
     "text": [
      "\u001b[36m\u001b[1m[ \u001b[22m\u001b[39m\u001b[36m\u001b[1mInfo: \u001b[22m\u001b[39m         256.5890156s: 4 minutes, 16 seconds, 589 milliseconds\n",
      "\u001b[36m\u001b[1m[ \u001b[22m\u001b[39m\u001b[36m\u001b[1mInfo: \u001b[22m\u001b[39m started timer at: 2024-04-01T21:10:48.579\n"
     ]
    },
    {
     "name": "stdout",
     "output_type": "stream",
     "text": [
      "false\n",
      "50\n",
      "1\n",
      "-163027.99173540133\n",
      "5448.6977415367355\n",
      "-------------------------\n",
      "50K : 22\n",
      "[0, -2000, -100, -1200, -2000]\n"
     ]
    },
    {
     "name": "stderr",
     "output_type": "stream",
     "text": [
      "\u001b[36m\u001b[1m[ \u001b[22m\u001b[39m\u001b[36m\u001b[1mInfo: \u001b[22m\u001b[39m         245.9757875s: 4 minutes, 5 seconds, 975 milliseconds\n",
      "\u001b[36m\u001b[1m[ \u001b[22m\u001b[39m\u001b[36m\u001b[1mInfo: \u001b[22m\u001b[39m started timer at: 2024-04-01T21:14:54.565\n"
     ]
    },
    {
     "name": "stdout",
     "output_type": "stream",
     "text": [
      "false\n",
      "50\n",
      "1\n",
      "-166652.8559388625\n",
      "5579.671597832632\n",
      "-------------------------"
     ]
    },
    {
     "name": "stderr",
     "output_type": "stream",
     "text": [
      "\u001b[36m\u001b[1m[ \u001b[22m\u001b[39m\u001b[36m\u001b[1mInfo: \u001b[22m\u001b[39m         259.0999524s: 4 minutes, 19 seconds, 99 milliseconds\n"
     ]
    },
    {
     "name": "stdout",
     "output_type": "stream",
     "text": [
      "\n",
      "50K : 22\n",
      "[0, -2400, -100, -1200, -2000]\n"
     ]
    },
    {
     "name": "stderr",
     "output_type": "stream",
     "text": [
      "\u001b[36m\u001b[1m[ \u001b[22m\u001b[39m\u001b[36m\u001b[1mInfo: \u001b[22m\u001b[39m started timer at: 2024-04-01T21:19:13.698\n"
     ]
    },
    {
     "name": "stdout",
     "output_type": "stream",
     "text": [
      "false\n",
      "50\n",
      "1\n",
      "-173859.56536850668\n",
      "5531.325483396137\n",
      "-------------------------\n",
      "50K : 22\n",
      "[0, -2800, -100, -1200, -2000]\n"
     ]
    },
    {
     "name": "stderr",
     "output_type": "stream",
     "text": [
      "\u001b[36m\u001b[1m[ \u001b[22m\u001b[39m\u001b[36m\u001b[1mInfo: \u001b[22m\u001b[39m         246.4524576s: 4 minutes, 6 seconds, 452 milliseconds\n",
      "\u001b[36m\u001b[1m[ \u001b[22m\u001b[39m\u001b[36m\u001b[1mInfo: \u001b[22m\u001b[39m started timer at: 2024-04-01T21:23:20.172\n"
     ]
    },
    {
     "name": "stdout",
     "output_type": "stream",
     "text": [
      "false\n",
      "50\n",
      "1\n",
      "-181053.0653291291\n",
      "5719.034545835544\n",
      "-------------------------\n",
      "50K : 22\n"
     ]
    },
    {
     "name": "stderr",
     "output_type": "stream",
     "text": [
      "\u001b[36m\u001b[1m[ \u001b[22m\u001b[39m\u001b[36m\u001b[1mInfo: \u001b[22m\u001b[39m         256.3148146s: 4 minutes, 16 seconds, 314 milliseconds\n",
      "\u001b[36m\u001b[1m[ \u001b[22m\u001b[39m\u001b[36m\u001b[1mInfo: \u001b[22m\u001b[39m started timer at: 2024-04-01T21:27:36.508\n"
     ]
    },
    {
     "name": "stdout",
     "output_type": "stream",
     "text": [
      "[0, -3200, -100, -1200, -2000]\n",
      "false\n",
      "50\n",
      "1\n",
      "-188220.49015570525\n",
      "5699.267930465041\n"
     ]
    },
    {
     "name": "stderr",
     "output_type": "stream",
     "text": [
      "\u001b[36m\u001b[1m[ \u001b[22m\u001b[39m\u001b[36m\u001b[1mInfo: \u001b[22m\u001b[39m          244.198605s: 4 minutes, 4 seconds, 198 milliseconds\n"
     ]
    },
    {
     "name": "stdout",
     "output_type": "stream",
     "text": [
      "-------------------------\n",
      "50K : 24\n",
      "[0, -200, -100, -1200, -2000]\n"
     ]
    },
    {
     "name": "stderr",
     "output_type": "stream",
     "text": [
      "\u001b[36m\u001b[1m[ \u001b[22m\u001b[39m\u001b[36m\u001b[1mInfo: \u001b[22m\u001b[39m started timer at: 2024-04-01T21:31:40.739\n"
     ]
    },
    {
     "name": "stdout",
     "output_type": "stream",
     "text": [
      "false\n",
      "50\n",
      "1\n",
      "-133753.2648567909\n",
      "5171.123246453975\n",
      "-------------------------\n",
      "50K : 24\n",
      "[0, -400, -100, -1200, -2000]\n"
     ]
    },
    {
     "name": "stderr",
     "output_type": "stream",
     "text": [
      "\u001b[36m\u001b[1m[ \u001b[22m\u001b[39m\u001b[36m\u001b[1mInfo: \u001b[22m\u001b[39m         255.3082508s: 4 minutes, 15 seconds, 308 milliseconds\n",
      "\u001b[36m\u001b[1m[ \u001b[22m\u001b[39m\u001b[36m\u001b[1mInfo: \u001b[22m\u001b[39m started timer at: 2024-04-01T21:35:56.080\n"
     ]
    },
    {
     "name": "stdout",
     "output_type": "stream",
     "text": [
      "false\n",
      "50\n",
      "1\n",
      "-137360.04385166874\n",
      "5087.78506296797\n",
      "-------------------------\n",
      "50K : 24"
     ]
    },
    {
     "name": "stderr",
     "output_type": "stream",
     "text": [
      "\u001b[36m\u001b[1m[ \u001b[22m\u001b[39m\u001b[36m\u001b[1mInfo: \u001b[22m\u001b[39m         244.1819225s: 4 minutes, 4 seconds, 181 milliseconds\n",
      "\u001b[36m\u001b[1m[ \u001b[22m\u001b[39m\u001b[36m\u001b[1mInfo: \u001b[22m\u001b[39m started timer at: 2024-04-01T21:40:00.283\n"
     ]
    },
    {
     "name": "stdout",
     "output_type": "stream",
     "text": [
      "\n",
      "[0, -600, -100, -1200, -2000]\n",
      "false\n",
      "50\n",
      "1\n",
      "-140992.94735503415\n",
      "5223.247063328381\n",
      "-------------------------\n",
      "50K : 24\n",
      "[0, -800, -100, -1200, -2000]\n"
     ]
    },
    {
     "name": "stderr",
     "output_type": "stream",
     "text": [
      "\u001b[36m\u001b[1m[ \u001b[22m\u001b[39m\u001b[36m\u001b[1mInfo: \u001b[22m\u001b[39m         256.4058975s: 4 minutes, 16 seconds, 405 milliseconds\n",
      "\u001b[36m\u001b[1m[ \u001b[22m\u001b[39m\u001b[36m\u001b[1mInfo: \u001b[22m\u001b[39m started timer at: 2024-04-01T21:44:16.689\n"
     ]
    },
    {
     "name": "stdout",
     "output_type": "stream",
     "text": [
      "false\n",
      "50\n",
      "1\n",
      "-144579.27311048377\n",
      "5126.071434264116\n",
      "-------------------------\n",
      "50K : 24\n",
      "[0, -1000, -100, -1200, -2000]\n"
     ]
    },
    {
     "name": "stderr",
     "output_type": "stream",
     "text": [
      "\u001b[36m\u001b[1m[ \u001b[22m\u001b[39m\u001b[36m\u001b[1mInfo: \u001b[22m\u001b[39m         244.8526585s: 4 minutes, 4 seconds, 852 milliseconds\n",
      "\u001b[36m\u001b[1m[ \u001b[22m\u001b[39m\u001b[36m\u001b[1mInfo: \u001b[22m\u001b[39m started timer at: 2024-04-01T21:48:21.552\n"
     ]
    },
    {
     "name": "stdout",
     "output_type": "stream",
     "text": [
      "false\n",
      "50\n",
      "1\n",
      "-148207.9057409797\n",
      "5319.877136483841\n",
      "-------------------------\n",
      "50K : 24\n",
      "[0, -1200, -100, -1200, -2000]\n"
     ]
    },
    {
     "name": "stderr",
     "output_type": "stream",
     "text": [
      "\u001b[36m\u001b[1m[ \u001b[22m\u001b[39m\u001b[36m\u001b[1mInfo: \u001b[22m\u001b[39m         254.8015804s: 4 minutes, 14 seconds, 801 milliseconds\n",
      "\u001b[36m\u001b[1m[ \u001b[22m\u001b[39m\u001b[36m\u001b[1mInfo: \u001b[22m\u001b[39m started timer at: 2024-04-01T21:52:36.353\n"
     ]
    },
    {
     "name": "stdout",
     "output_type": "stream",
     "text": [
      "false\n",
      "50\n",
      "1\n",
      "-151781.58008304352\n",
      "5247.338296651512\n"
     ]
    },
    {
     "name": "stderr",
     "output_type": "stream",
     "text": [
      "\u001b[36m\u001b[1m[ \u001b[22m\u001b[39m\u001b[36m\u001b[1mInfo: \u001b[22m\u001b[39m         244.4619556s: 4 minutes, 4 seconds, 461 milliseconds\n"
     ]
    },
    {
     "name": "stdout",
     "output_type": "stream",
     "text": [
      "-------------------------\n",
      "50K : 24\n",
      "[0, -1400, -100, -1200, -2000]\n"
     ]
    },
    {
     "name": "stderr",
     "output_type": "stream",
     "text": [
      "\u001b[36m\u001b[1m[ \u001b[22m\u001b[39m\u001b[36m\u001b[1mInfo: \u001b[22m\u001b[39m started timer at: 2024-04-01T21:56:40.837\n"
     ]
    },
    {
     "name": "stdout",
     "output_type": "stream",
     "text": [
      "false\n",
      "50\n",
      "1\n",
      "-155386.1369706691\n",
      "5374.2225973894465\n",
      "-------------------------\n",
      "50K : 24\n",
      "[0, -1600, -100, -1200, -2000]\n"
     ]
    },
    {
     "name": "stderr",
     "output_type": "stream",
     "text": [
      "\u001b[36m\u001b[1m[ \u001b[22m\u001b[39m\u001b[36m\u001b[1mInfo: \u001b[22m\u001b[39m         254.7253809s: 4 minutes, 14 seconds, 725 milliseconds\n",
      "\u001b[36m\u001b[1m[ \u001b[22m\u001b[39m\u001b[36m\u001b[1mInfo: \u001b[22m\u001b[39m started timer at: 2024-04-01T22:00:55.573\n"
     ]
    },
    {
     "name": "stdout",
     "output_type": "stream",
     "text": [
      "false\n",
      "50\n",
      "1\n",
      "-159113.0962528044\n",
      "5301.369613474466\n",
      "-------------------------\n"
     ]
    },
    {
     "name": "stderr",
     "output_type": "stream",
     "text": [
      "\u001b[36m\u001b[1m[ \u001b[22m\u001b[39m\u001b[36m\u001b[1mInfo: \u001b[22m\u001b[39m         244.9930215s: 4 minutes, 4 seconds, 993 milliseconds\n"
     ]
    },
    {
     "name": "stdout",
     "output_type": "stream",
     "text": [
      "50K : 24\n",
      "[0, -1800, -100, -1200, -2000]\n"
     ]
    },
    {
     "name": "stderr",
     "output_type": "stream",
     "text": [
      "\u001b[36m\u001b[1m[ \u001b[22m\u001b[39m\u001b[36m\u001b[1mInfo: \u001b[22m\u001b[39m started timer at: 2024-04-01T22:05:00.565\n"
     ]
    },
    {
     "name": "stdout",
     "output_type": "stream",
     "text": [
      "false\n",
      "50\n",
      "1\n",
      "-162690.3360353233\n",
      "5442.453439068596\n",
      "-------------------------\n",
      "50K : 24\n",
      "[0, -2000, -100, -1200, -2000]\n"
     ]
    },
    {
     "name": "stderr",
     "output_type": "stream",
     "text": [
      "\u001b[36m\u001b[1m[ \u001b[22m\u001b[39m\u001b[36m\u001b[1mInfo: \u001b[22m\u001b[39m         254.2545678s: 4 minutes, 14 seconds, 254 milliseconds\n",
      "\u001b[36m\u001b[1m[ \u001b[22m\u001b[39m\u001b[36m\u001b[1mInfo: \u001b[22m\u001b[39m started timer at: 2024-04-01T22:09:14.820\n"
     ]
    },
    {
     "name": "stdout",
     "output_type": "stream",
     "text": [
      "false\n",
      "50\n",
      "1\n",
      "-166208.70944307346\n",
      "5343.475361048033\n",
      "-------------------------\n",
      "50K : 24\n",
      "[0, -2400, -100, -1200, -2000]\n"
     ]
    },
    {
     "name": "stderr",
     "output_type": "stream",
     "text": [
      "\u001b[36m\u001b[1m[ \u001b[22m\u001b[39m\u001b[36m\u001b[1mInfo: \u001b[22m\u001b[39m         245.2832856s: 4 minutes, 5 seconds, 283 milliseconds\n",
      "\u001b[36m\u001b[1m[ \u001b[22m\u001b[39m\u001b[36m\u001b[1mInfo: \u001b[22m\u001b[39m started timer at: 2024-04-01T22:13:20.114\n"
     ]
    },
    {
     "name": "stdout",
     "output_type": "stream",
     "text": [
      "false\n",
      "50\n",
      "1\n",
      "-173455.71613645297\n",
      "5552.524390544937\n",
      "-------------------------\n",
      "50K : 24\n",
      "[0, -2800, -100, -1200"
     ]
    },
    {
     "name": "stderr",
     "output_type": "stream",
     "text": [
      "\u001b[36m\u001b[1m[ \u001b[22m\u001b[39m\u001b[36m\u001b[1mInfo: \u001b[22m\u001b[39m         253.1767115s: 4 minutes, 13 seconds, 176 milliseconds\n",
      "\u001b[36m\u001b[1m[ \u001b[22m\u001b[39m\u001b[36m\u001b[1mInfo: \u001b[22m\u001b[39m started timer at: 2024-04-01T22:17:33.300\n"
     ]
    },
    {
     "name": "stdout",
     "output_type": "stream",
     "text": [
      ", -2000]\n",
      "false\n",
      "50\n",
      "1\n",
      "-180663.01571427364\n",
      "5545.3806066602365\n",
      "-------------------------\n",
      "50K : 24\n",
      "[0, -3200, -100, -1200, -2000]\n"
     ]
    },
    {
     "name": "stderr",
     "output_type": "stream",
     "text": [
      "\u001b[36m\u001b[1m[ \u001b[22m\u001b[39m\u001b[36m\u001b[1mInfo: \u001b[22m\u001b[39m          245.099582s: 4 minutes, 5 seconds, 99 milliseconds\n",
      "\u001b[36m\u001b[1m[ \u001b[22m\u001b[39m\u001b[36m\u001b[1mInfo: \u001b[22m\u001b[39m started timer at: 2024-04-01T22:21:38.422\n"
     ]
    },
    {
     "name": "stdout",
     "output_type": "stream",
     "text": [
      "false\n",
      "50\n",
      "1\n",
      "-187885.5502446931\n",
      "5703.342196239879\n",
      "-------------------------\n",
      "40K : 2\n",
      "[0, -200, -100, -1200, -2000]\n"
     ]
    },
    {
     "name": "stderr",
     "output_type": "stream",
     "text": [
      "\u001b[36m\u001b[1m[ \u001b[22m\u001b[39m\u001b[36m\u001b[1mInfo: \u001b[22m\u001b[39m          252.005688s: 4 minutes, 12 seconds, 5 milliseconds\n",
      "\u001b[36m\u001b[1m[ \u001b[22m\u001b[39m\u001b[36m\u001b[1mInfo: \u001b[22m\u001b[39m started timer at: 2024-04-01T22:25:50.449\n"
     ]
    },
    {
     "name": "stdout",
     "output_type": "stream",
     "text": [
      "false\n",
      "40\n",
      "1\n",
      "-135608.37475220382\n",
      "5715.9833333145925\n",
      "-------------------------\n",
      "40K : 2\n",
      "[0, -400, -100, -1200, -2000]\n"
     ]
    },
    {
     "name": "stderr",
     "output_type": "stream",
     "text": [
      "\u001b[36m\u001b[1m[ \u001b[22m\u001b[39m\u001b[36m\u001b[1mInfo: \u001b[22m\u001b[39m         196.6637663s: 3 minutes, 16 seconds, 663 milliseconds\n",
      "\u001b[36m\u001b[1m[ \u001b[22m\u001b[39m\u001b[36m\u001b[1mInfo: \u001b[22m\u001b[39m started timer at: 2024-04-01T22:29:07.145\n"
     ]
    },
    {
     "name": "stdout",
     "output_type": "stream",
     "text": [
      "false\n",
      "40\n",
      "1\n",
      "-139226.9853981676\n",
      "5717.260387849409\n",
      "-------------------------\n",
      "40K : 2\n",
      "[0, -600, -100, -1200, -2000]\n"
     ]
    },
    {
     "name": "stderr",
     "output_type": "stream",
     "text": [
      "\u001b[36m\u001b[1m[ \u001b[22m\u001b[39m\u001b[36m\u001b[1mInfo: \u001b[22m\u001b[39m         195.6235107s: 3 minutes, 15 seconds, 623 milliseconds\n",
      "\u001b[36m\u001b[1m[ \u001b[22m\u001b[39m\u001b[36m\u001b[1mInfo: \u001b[22m\u001b[39m started timer at: 2024-04-01T22:32:22.790\n"
     ]
    },
    {
     "name": "stdout",
     "output_type": "stream",
     "text": [
      "false\n",
      "40\n",
      "1\n",
      "-142699.03226430516\n",
      "5891.220956022278\n",
      "-------------------------\n",
      "40"
     ]
    },
    {
     "name": "stderr",
     "output_type": "stream",
     "text": [
      "\u001b[36m\u001b[1m[ \u001b[22m\u001b[39m\u001b[36m\u001b[1mInfo: \u001b[22m\u001b[39m         200.5094613s: 3 minutes, 20 seconds, 509 milliseconds\n",
      "\u001b[36m\u001b[1m[ \u001b[22m\u001b[39m\u001b[36m\u001b[1mInfo: \u001b[22m\u001b[39m started timer at: 2024-04-01T22:35:43.321\n"
     ]
    },
    {
     "name": "stdout",
     "output_type": "stream",
     "text": [
      "K : 2\n",
      "[0, -800, -100, -1200, -2000]\n",
      "false\n",
      "40\n",
      "1\n",
      "-146313.55416496194\n",
      "5844.271844877065\n",
      "-------------------------\n",
      "40K : 2\n",
      "[0, -1000, -100, -1200, -2000]\n"
     ]
    },
    {
     "name": "stderr",
     "output_type": "stream",
     "text": [
      "\u001b[36m\u001b[1m[ \u001b[22m\u001b[39m\u001b[36m\u001b[1mInfo: \u001b[22m\u001b[39m         195.7475789s: 3 minutes, 15 seconds, 747 milliseconds\n",
      "\u001b[36m\u001b[1m[ \u001b[22m\u001b[39m\u001b[36m\u001b[1mInfo: \u001b[22m\u001b[39m started timer at: 2024-04-01T22:38:59.080\n"
     ]
    },
    {
     "name": "stdout",
     "output_type": "stream",
     "text": [
      "false\n",
      "40\n",
      "1\n",
      "-149891.7158986655\n",
      "6029.936482445312\n",
      "-------------------------\n"
     ]
    },
    {
     "name": "stderr",
     "output_type": "stream",
     "text": [
      "\u001b[36m\u001b[1m[ \u001b[22m\u001b[39m\u001b[36m\u001b[1mInfo: \u001b[22m\u001b[39m         201.3271332s: 3 minutes, 21 seconds, 327 milliseconds\n",
      "\u001b[36m\u001b[1m[ \u001b[22m\u001b[39m\u001b[36m\u001b[1mInfo: \u001b[22m\u001b[39m started timer at: 2024-04-01T22:42:20.428\n"
     ]
    },
    {
     "name": "stdout",
     "output_type": "stream",
     "text": [
      "40K : 2\n",
      "[0, -1200, -100, -1200, -2000]\n",
      "false\n",
      "40\n",
      "1\n",
      "-153487.1782013813\n",
      "5886.83362376002\n"
     ]
    },
    {
     "name": "stderr",
     "output_type": "stream",
     "text": [
      "\u001b[36m\u001b[1m[ \u001b[22m\u001b[39m\u001b[36m\u001b[1mInfo: \u001b[22m\u001b[39m         198.9356268s: 3 minutes, 18 seconds, 935 milliseconds\n"
     ]
    },
    {
     "name": "stdout",
     "output_type": "stream",
     "text": [
      "-------------------------\n",
      "40K : 2\n",
      "[0, -1400, -100, -1200, -2000]\n"
     ]
    },
    {
     "name": "stderr",
     "output_type": "stream",
     "text": [
      "\u001b[36m\u001b[1m[ \u001b[22m\u001b[39m\u001b[36m\u001b[1mInfo: \u001b[22m\u001b[39m started timer at: 2024-04-01T22:45:39.374\n"
     ]
    },
    {
     "name": "stdout",
     "output_type": "stream",
     "text": [
      "false\n",
      "40\n",
      "1\n",
      "-157081.83070921898\n",
      "5894.601664582785\n",
      "-------------------------\n",
      "40K : 2\n",
      "[0, -1600, -100, -1200, -2000]\n"
     ]
    },
    {
     "name": "stderr",
     "output_type": "stream",
     "text": [
      "\u001b[36m\u001b[1m[ \u001b[22m\u001b[39m\u001b[36m\u001b[1mInfo: \u001b[22m\u001b[39m         195.7732388s: 3 minutes, 15 seconds, 773 milliseconds\n",
      "\u001b[36m\u001b[1m[ \u001b[22m\u001b[39m\u001b[36m\u001b[1mInfo: \u001b[22m\u001b[39m started timer at: 2024-04-01T22:48:55.157\n"
     ]
    },
    {
     "name": "stdout",
     "output_type": "stream",
     "text": [
      "false\n",
      "40\n",
      "1\n",
      "-160671.65718842263\n",
      "6154.710966687692\n",
      "-------------------------\n",
      "40K : 2\n",
      "[0, -1800, -100, -1200, -2000]\n"
     ]
    },
    {
     "name": "stderr",
     "output_type": "stream",
     "text": [
      "\u001b[36m\u001b[1m[ \u001b[22m\u001b[39m\u001b[36m\u001b[1mInfo: \u001b[22m\u001b[39m         202.1308437s: 3 minutes, 22 seconds, 130 milliseconds\n",
      "\u001b[36m\u001b[1m[ \u001b[22m\u001b[39m\u001b[36m\u001b[1mInfo: \u001b[22m\u001b[39m started timer at: 2024-04-01T22:52:17.309\n"
     ]
    },
    {
     "name": "stdout",
     "output_type": "stream",
     "text": [
      "false\n",
      "40\n",
      "1\n",
      "-164240.19359278426\n",
      "5990.787334927481\n",
      "-------------------------\n"
     ]
    },
    {
     "name": "stderr",
     "output_type": "stream",
     "text": [
      "\u001b[36m\u001b[1m[ \u001b[22m\u001b[39m\u001b[36m\u001b[1mInfo: \u001b[22m\u001b[39m         195.5768435s: 3 minutes, 15 seconds, 576 milliseconds\n",
      "\u001b[36m\u001b[1m[ \u001b[22m\u001b[39m\u001b[36m\u001b[1mInfo: \u001b[22m\u001b[39m started timer at: 2024-04-01T22:55:32.885\n"
     ]
    },
    {
     "name": "stdout",
     "output_type": "stream",
     "text": [
      "40K : 2\n",
      "[0, -2000, -100, -1200, -2000]\n",
      "false\n",
      "40\n",
      "1\n",
      "-167804.53194033873\n",
      "6159.898465637405\n",
      "-------------------------\n",
      "40K : 2\n",
      "[0, -2400, -100, -1200, -2000]\n"
     ]
    },
    {
     "name": "stderr",
     "output_type": "stream",
     "text": [
      "\u001b[36m\u001b[1m[ \u001b[22m\u001b[39m\u001b[36m\u001b[1mInfo: \u001b[22m\u001b[39m         198.4933396s: 3 minutes, 18 seconds, 493 milliseconds\n",
      "\u001b[36m\u001b[1m[ \u001b[22m\u001b[39m\u001b[36m\u001b[1mInfo: \u001b[22m\u001b[39m started timer at: 2024-04-01T22:58:51.400\n"
     ]
    },
    {
     "name": "stdout",
     "output_type": "stream",
     "text": [
      "false\n",
      "40\n",
      "1\n",
      "-174973.61794331306\n",
      "6120.496806206453\n",
      "-------------------------"
     ]
    },
    {
     "name": "stderr",
     "output_type": "stream",
     "text": [
      "\u001b[36m\u001b[1m[ \u001b[22m\u001b[39m\u001b[36m\u001b[1mInfo: \u001b[22m\u001b[39m         198.0489754s: 3 minutes, 18 seconds, 48 milliseconds\n"
     ]
    },
    {
     "name": "stdout",
     "output_type": "stream",
     "text": [
      "\n",
      "40K : 2\n",
      "[0, -2800, -100, -1200, -2000]\n"
     ]
    },
    {
     "name": "stderr",
     "output_type": "stream",
     "text": [
      "\u001b[36m\u001b[1m[ \u001b[22m\u001b[39m\u001b[36m\u001b[1mInfo: \u001b[22m\u001b[39m started timer at: 2024-04-01T23:02:09.460\n"
     ]
    },
    {
     "name": "stdout",
     "output_type": "stream",
     "text": [
      "false\n",
      "40\n",
      "1\n",
      "-182108.06362619018\n",
      "6129.95863627843\n",
      "-------------------------\n",
      "40K : 2\n",
      "[0, -3200, -100, -1200, -2000]\n"
     ]
    },
    {
     "name": "stderr",
     "output_type": "stream",
     "text": [
      "\u001b[36m\u001b[1m[ \u001b[22m\u001b[39m\u001b[36m\u001b[1mInfo: \u001b[22m\u001b[39m         195.7133126s: 3 minutes, 15 seconds, 713 milliseconds\n",
      "\u001b[36m\u001b[1m[ \u001b[22m\u001b[39m\u001b[36m\u001b[1mInfo: \u001b[22m\u001b[39m started timer at: 2024-04-01T23:05:25.185\n"
     ]
    },
    {
     "name": "stdout",
     "output_type": "stream",
     "text": [
      "false\n",
      "40\n",
      "1\n",
      "-189292.2020744562\n",
      "6532.308870041356\n",
      "-------------------------\n"
     ]
    },
    {
     "name": "stderr",
     "output_type": "stream",
     "text": [
      "\u001b[36m\u001b[1m[ \u001b[22m\u001b[39m\u001b[36m\u001b[1mInfo: \u001b[22m\u001b[39m         203.4398158s: 3 minutes, 23 seconds, 439 milliseconds\n",
      "\u001b[36m\u001b[1m[ \u001b[22m\u001b[39m\u001b[36m\u001b[1mInfo: \u001b[22m\u001b[39m started timer at: 2024-04-01T23:08:48.635\n"
     ]
    },
    {
     "name": "stdout",
     "output_type": "stream",
     "text": [
      "40K : 4\n",
      "[0, -200, -100, -1200, -2000]\n",
      "false\n",
      "40\n",
      "1\n",
      "-126997.20047249465\n",
      "6332.542767780599\n",
      "-------------------------\n",
      "40K : 4\n",
      "[0, -400, -100, -1200, -2000]\n"
     ]
    },
    {
     "name": "stderr",
     "output_type": "stream",
     "text": [
      "\u001b[36m\u001b[1m[ \u001b[22m\u001b[39m\u001b[36m\u001b[1mInfo: \u001b[22m\u001b[39m         195.6390848s: 3 minutes, 15 seconds, 639 milliseconds\n",
      "\u001b[36m\u001b[1m[ \u001b[22m\u001b[39m\u001b[36m\u001b[1mInfo: \u001b[22m\u001b[39m started timer at: 2024-04-01T23:12:04.296\n"
     ]
    },
    {
     "name": "stdout",
     "output_type": "stream",
     "text": [
      "false\n",
      "40\n",
      "1\n",
      "-130567.39592846466\n",
      "6350.3762637881055\n",
      "-------------------------\n",
      "40K : 4\n",
      "[0, -600, -100, -1200, -2000]\n"
     ]
    },
    {
     "name": "stderr",
     "output_type": "stream",
     "text": [
      "\u001b[36m\u001b[1m[ \u001b[22m\u001b[39m\u001b[36m\u001b[1mInfo: \u001b[22m\u001b[39m         196.3601162s: 3 minutes, 16 seconds, 360 milliseconds\n",
      "\u001b[36m\u001b[1m[ \u001b[22m\u001b[39m\u001b[36m\u001b[1mInfo: \u001b[22m\u001b[39m started timer at: 2024-04-01T23:15:20.688\n"
     ]
    },
    {
     "name": "stdout",
     "output_type": "stream",
     "text": [
      "false\n",
      "40\n",
      "1\n",
      "-134145.1204981152\n",
      "6282.53037842203\n",
      "-------------------------\n"
     ]
    },
    {
     "name": "stderr",
     "output_type": "stream",
     "text": [
      "\u001b[36m\u001b[1m[ \u001b[22m\u001b[39m\u001b[36m\u001b[1mInfo: \u001b[22m\u001b[39m         198.3532285s: 3 minutes, 18 seconds, 353 milliseconds\n",
      "\u001b[36m\u001b[1m[ \u001b[22m\u001b[39m\u001b[36m\u001b[1mInfo: \u001b[22m\u001b[39m started timer at: 2024-04-01T23:18:39.063\n"
     ]
    },
    {
     "name": "stdout",
     "output_type": "stream",
     "text": [
      "40K : 4\n",
      "[0, -800, -100, -1200, -2000]\n",
      "false\n",
      "40\n",
      "1\n",
      "-137817.9571544315\n",
      "6286.652410500293\n",
      "-------------------------\n",
      "40K : 4\n",
      "[0, -1000, -100, -1200, -2000]\n"
     ]
    },
    {
     "name": "stderr",
     "output_type": "stream",
     "text": [
      "\u001b[36m\u001b[1m[ \u001b[22m\u001b[39m\u001b[36m\u001b[1mInfo: \u001b[22m\u001b[39m         195.6149419s: 3 minutes, 15 seconds, 614 milliseconds\n",
      "\u001b[36m\u001b[1m[ \u001b[22m\u001b[39m\u001b[36m\u001b[1mInfo: \u001b[22m\u001b[39m started timer at: 2024-04-01T23:21:54.710\n"
     ]
    },
    {
     "name": "stdout",
     "output_type": "stream",
     "text": [
      "false\n",
      "40\n",
      "1\n",
      "-141317.28525915736\n",
      "6847.543813768811\n",
      "-------------------------\n",
      "40K : 4\n",
      "[0, -1200, -100, -1200, -2000]\n"
     ]
    },
    {
     "name": "stderr",
     "output_type": "stream",
     "text": [
      "\u001b[36m\u001b[1m[ \u001b[22m\u001b[39m\u001b[36m\u001b[1mInfo: \u001b[22m\u001b[39m         204.4931451s: 3 minutes, 24 seconds, 493 milliseconds\n",
      "\u001b[36m\u001b[1m[ \u001b[22m\u001b[39m\u001b[36m\u001b[1mInfo: \u001b[22m\u001b[39m started timer at: 2024-04-01T23:25:19.203\n"
     ]
    },
    {
     "name": "stdout",
     "output_type": "stream",
     "text": [
      "false\n",
      "40\n",
      "1\n",
      "-144945.61611320032\n",
      "6324.244624512376\n",
      "-------------------------\n",
      "40K : 4\n",
      "[0, -1400, -100, -1200, -2000]\n"
     ]
    },
    {
     "name": "stderr",
     "output_type": "stream",
     "text": [
      "\u001b[36m\u001b[1m[ \u001b[22m\u001b[39m\u001b[36m\u001b[1mInfo: \u001b[22m\u001b[39m         195.3982015s: 3 minutes, 15 seconds, 398 milliseconds\n",
      "\u001b[36m\u001b[1m[ \u001b[22m\u001b[39m\u001b[36m\u001b[1mInfo: \u001b[22m\u001b[39m started timer at: 2024-04-01T23:28:34.612\n"
     ]
    },
    {
     "name": "stdout",
     "output_type": "stream",
     "text": [
      "false\n",
      "40\n",
      "1\n",
      "-148518.39448140064\n",
      "6429.994837041886\n"
     ]
    },
    {
     "name": "stderr",
     "output_type": "stream",
     "text": [
      "\u001b[36m\u001b[1m[ \u001b[22m\u001b[39m\u001b[36m\u001b[1mInfo: \u001b[22m\u001b[39m          195.417219s: 3 minutes, 15 seconds, 417 milliseconds\n"
     ]
    },
    {
     "name": "stdout",
     "output_type": "stream",
     "text": [
      "-------------------------\n",
      "40K : 4\n",
      "[0, -1600, -100, -1200, -2000]\n"
     ]
    },
    {
     "name": "stderr",
     "output_type": "stream",
     "text": [
      "\u001b[36m\u001b[1m[ \u001b[22m\u001b[39m\u001b[36m\u001b[1mInfo: \u001b[22m\u001b[39m started timer at: 2024-04-01T23:31:50.051\n"
     ]
    },
    {
     "name": "stdout",
     "output_type": "stream",
     "text": [
      "false\n",
      "40\n",
      "1\n",
      "-152091.64718399887\n",
      "6477.868117196953\n",
      "-------------------------\n",
      "40K : 4\n",
      "[0, -1800, -100, -1200, -2000]\n"
     ]
    },
    {
     "name": "stderr",
     "output_type": "stream",
     "text": [
      "\u001b[36m\u001b[1m[ \u001b[22m\u001b[39m\u001b[36m\u001b[1mInfo: \u001b[22m\u001b[39m         199.1445964s: 3 minutes, 19 seconds, 144 milliseconds\n",
      "\u001b[36m\u001b[1m[ \u001b[22m\u001b[39m\u001b[36m\u001b[1mInfo: \u001b[22m\u001b[39m started timer at: 2024-04-01T23:35:09.228\n"
     ]
    },
    {
     "name": "stdout",
     "output_type": "stream",
     "text": [
      "false\n",
      "40\n",
      "1\n",
      "-155700.50407110047\n",
      "6523.954678412655\n",
      "-------------------------\n",
      "40K : 4\n",
      "[0"
     ]
    },
    {
     "name": "stderr",
     "output_type": "stream",
     "text": [
      "\u001b[36m\u001b[1m[ \u001b[22m\u001b[39m\u001b[36m\u001b[1mInfo: \u001b[22m\u001b[39m         195.1428677s: 3 minutes, 15 seconds, 142 milliseconds\n",
      "\u001b[36m\u001b[1m[ \u001b[22m\u001b[39m\u001b[36m\u001b[1mInfo: \u001b[22m\u001b[39m started timer at: 2024-04-01T23:38:24.381\n"
     ]
    },
    {
     "name": "stdout",
     "output_type": "stream",
     "text": [
      ", -2000, -100, -1200, -2000]\n",
      "false\n",
      "40\n",
      "1\n",
      "-159126.90647653266\n",
      "7189.4507100591445\n",
      "-------------------------\n",
      "40K : 4\n",
      "[0, -2400, -100, -1200, -2000]\n"
     ]
    },
    {
     "name": "stderr",
     "output_type": "stream",
     "text": [
      "\u001b[36m\u001b[1m[ \u001b[22m\u001b[39m\u001b[36m\u001b[1mInfo: \u001b[22m\u001b[39m         203.4810437s: 3 minutes, 23 seconds, 481 milliseconds\n",
      "\u001b[36m\u001b[1m[ \u001b[22m\u001b[39m\u001b[36m\u001b[1mInfo: \u001b[22m\u001b[39m started timer at: 2024-04-01T23:41:47.862\n"
     ]
    },
    {
     "name": "stdout",
     "output_type": "stream",
     "text": [
      "false\n",
      "40\n",
      "1\n",
      "-166397.1245751215\n",
      "6534.05018359169\n",
      "-------------------------\n",
      "40K : 4\n",
      "[0, -2800, -100, -1200, -2000]\n"
     ]
    },
    {
     "name": "stderr",
     "output_type": "stream",
     "text": [
      "\u001b[36m\u001b[1m[ \u001b[22m\u001b[39m\u001b[36m\u001b[1mInfo: \u001b[22m\u001b[39m         196.9334896s: 3 minutes, 16 seconds, 933 milliseconds\n",
      "\u001b[36m\u001b[1m[ \u001b[22m\u001b[39m\u001b[36m\u001b[1mInfo: \u001b[22m\u001b[39m started timer at: 2024-04-01T23:45:04.795\n"
     ]
    },
    {
     "name": "stdout",
     "output_type": "stream",
     "text": [
      "false\n",
      "40\n",
      "1\n",
      "-173465.75518391986\n",
      "6635.943646409688\n",
      "-------------------------\n",
      "40K : 4\n",
      "[0,"
     ]
    },
    {
     "name": "stderr",
     "output_type": "stream",
     "text": [
      "\u001b[36m\u001b[1m[ \u001b[22m\u001b[39m\u001b[36m\u001b[1mInfo: \u001b[22m\u001b[39m         196.2254535s: 3 minutes, 16 seconds, 225 milliseconds\n",
      "\u001b[36m\u001b[1m[ \u001b[22m\u001b[39m\u001b[36m\u001b[1mInfo: \u001b[22m\u001b[39m started timer at: 2024-04-01T23:48:21.054\n"
     ]
    },
    {
     "name": "stdout",
     "output_type": "stream",
     "text": [
      " -3200, -100, -1200, -2000]\n",
      "false\n",
      "40\n",
      "1\n",
      "-180618.4777065201\n",
      "6895.513863945504\n",
      "-------------------------\n"
     ]
    },
    {
     "name": "stderr",
     "output_type": "stream",
     "text": [
      "\u001b[36m\u001b[1m[ \u001b[22m\u001b[39m\u001b[36m\u001b[1mInfo: \u001b[22m\u001b[39m         200.4359892s: 3 minutes, 20 seconds, 435 milliseconds\n",
      "\u001b[36m\u001b[1m[ \u001b[22m\u001b[39m\u001b[36m\u001b[1mInfo: \u001b[22m\u001b[39m started timer at: 2024-04-01T23:51:41.511\n"
     ]
    },
    {
     "name": "stdout",
     "output_type": "stream",
     "text": [
      "40K : 6\n",
      "[0, -200, -100, -1200, -2000]\n",
      "false\n",
      "40\n",
      "1\n",
      "-120995.14962560918\n",
      "6252.2391685574075\n",
      "-------------------------\n",
      "40K : 6\n",
      "[0, -400, -100, -1200, -2000]\n"
     ]
    },
    {
     "name": "stderr",
     "output_type": "stream",
     "text": [
      "\u001b[36m\u001b[1m[ \u001b[22m\u001b[39m\u001b[36m\u001b[1mInfo: \u001b[22m\u001b[39m         195.4307548s: 3 minutes, 15 seconds, 430 milliseconds\n",
      "\u001b[36m\u001b[1m[ \u001b[22m\u001b[39m\u001b[36m\u001b[1mInfo: \u001b[22m\u001b[39m started timer at: 2024-04-01T23:54:56.952\n"
     ]
    },
    {
     "name": "stdout",
     "output_type": "stream",
     "text": [
      "false\n",
      "40\n",
      "1\n",
      "-124395.19845405535\n",
      "6767.356757143805\n",
      "-------------------------\n",
      "40K : 6\n",
      "[0, -600, -100, -1200, -2000]\n"
     ]
    },
    {
     "name": "stderr",
     "output_type": "stream",
     "text": [
      "\u001b[36m\u001b[1m[ \u001b[22m\u001b[39m\u001b[36m\u001b[1mInfo: \u001b[22m\u001b[39m         201.6319907s: 3 minutes, 21 seconds, 631 milliseconds\n",
      "\u001b[36m\u001b[1m[ \u001b[22m\u001b[39m\u001b[36m\u001b[1mInfo: \u001b[22m\u001b[39m started timer at: 2024-04-01T23:58:18.594\n"
     ]
    },
    {
     "name": "stdout",
     "output_type": "stream",
     "text": [
      "false\n",
      "40\n",
      "1\n",
      "-128071.28392006016\n",
      "6168.949611417425\n",
      "-------------------------\n"
     ]
    },
    {
     "name": "stderr",
     "output_type": "stream",
     "text": [
      "\u001b[36m\u001b[1m[ \u001b[22m\u001b[39m\u001b[36m\u001b[1mInfo: \u001b[22m\u001b[39m         197.7025676s: 3 minutes, 17 seconds, 702 milliseconds\n",
      "\u001b[36m\u001b[1m[ \u001b[22m\u001b[39m\u001b[36m\u001b[1mInfo: \u001b[22m\u001b[39m started timer at: 2024-04-02T00:01:36.329\n"
     ]
    },
    {
     "name": "stdout",
     "output_type": "stream",
     "text": [
      "40K : 6\n",
      "[0, -800, -100, -1200, -2000]\n",
      "false\n",
      "40\n",
      "1\n",
      "-131657.31547555537\n",
      "6304.718682550122\n",
      "-------------------------\n",
      "40K : 6\n",
      "[0"
     ]
    },
    {
     "name": "stderr",
     "output_type": "stream",
     "text": [
      "\u001b[36m\u001b[1m[ \u001b[22m\u001b[39m\u001b[36m\u001b[1mInfo: \u001b[22m\u001b[39m         195.5393677s: 3 minutes, 15 seconds, 539 milliseconds\n",
      "\u001b[36m\u001b[1m[ \u001b[22m\u001b[39m\u001b[36m\u001b[1mInfo: \u001b[22m\u001b[39m started timer at: 2024-04-02T00:04:51.879\n"
     ]
    },
    {
     "name": "stdout",
     "output_type": "stream",
     "text": [
      ", -1000, -100, -1200, -2000]\n",
      "false\n",
      "40\n",
      "1\n",
      "-135200.7188758056\n",
      "6662.416233674289\n",
      "-------------------------\n",
      "40K : 6\n",
      "[0, -1200, -100, -1200, -2000]\n"
     ]
    },
    {
     "name": "stderr",
     "output_type": "stream",
     "text": [
      "\u001b[36m\u001b[1m[ \u001b[22m\u001b[39m\u001b[36m\u001b[1mInfo: \u001b[22m\u001b[39m         204.0478519s: 3 minutes, 24 seconds, 47 milliseconds\n",
      "\u001b[36m\u001b[1m[ \u001b[22m\u001b[39m\u001b[36m\u001b[1mInfo: \u001b[22m\u001b[39m started timer at: 2024-04-02T00:08:15.937\n"
     ]
    },
    {
     "name": "stdout",
     "output_type": "stream",
     "text": [
      "false\n",
      "40\n",
      "1\n",
      "-138784.18723101224\n",
      "6311.3244423003\n",
      "-------------------------\n",
      "40K : 6\n",
      "[0, -1400, -100, -1200, -2000]\n"
     ]
    },
    {
     "name": "stderr",
     "output_type": "stream",
     "text": [
      "\u001b[36m\u001b[1m[ \u001b[22m\u001b[39m\u001b[36m\u001b[1mInfo: \u001b[22m\u001b[39m          195.430724s: 3 minutes, 15 seconds, 430 milliseconds\n",
      "\u001b[36m\u001b[1m[ \u001b[22m\u001b[39m\u001b[36m\u001b[1mInfo: \u001b[22m\u001b[39m started timer at: 2024-04-02T00:11:31.390\n"
     ]
    },
    {
     "name": "stdout",
     "output_type": "stream",
     "text": [
      "false\n",
      "40\n",
      "1\n",
      "-142368.10634571486\n",
      "6639.159283091808\n",
      "-------------------------\n",
      "40K : 6\n",
      "[0, -1600, -100, -1200, -2000]\n"
     ]
    },
    {
     "name": "stderr",
     "output_type": "stream",
     "text": [
      "\u001b[36m\u001b[1m[ \u001b[22m\u001b[39m\u001b[36m\u001b[1mInfo: \u001b[22m\u001b[39m          199.409859s: 3 minutes, 19 seconds, 409 milliseconds\n",
      "\u001b[36m\u001b[1m[ \u001b[22m\u001b[39m\u001b[36m\u001b[1mInfo: \u001b[22m\u001b[39m started timer at: 2024-04-02T00:14:50.821\n"
     ]
    },
    {
     "name": "stdout",
     "output_type": "stream",
     "text": [
      "false\n",
      "40\n",
      "1\n",
      "-146042.42001108837\n",
      "6502.511400987915\n",
      "-------------------------"
     ]
    },
    {
     "name": "stderr",
     "output_type": "stream",
     "text": [
      "\u001b[36m\u001b[1m[ \u001b[22m\u001b[39m\u001b[36m\u001b[1mInfo: \u001b[22m\u001b[39m         198.0203291s: 3 minutes, 18 seconds, 20 milliseconds\n"
     ]
    },
    {
     "name": "stdout",
     "output_type": "stream",
     "text": [
      "\n",
      "40K : 6\n",
      "[0, -1800, -100, -1200, -2000]\n"
     ]
    },
    {
     "name": "stderr",
     "output_type": "stream",
     "text": [
      "\u001b[36m\u001b[1m[ \u001b[22m\u001b[39m\u001b[36m\u001b[1mInfo: \u001b[22m\u001b[39m started timer at: 2024-04-02T00:18:08.874\n"
     ]
    },
    {
     "name": "stdout",
     "output_type": "stream",
     "text": [
      "false\n",
      "40\n",
      "1\n",
      "-149404.4700956733\n",
      "6464.600055536947\n",
      "-------------------------\n",
      "40K : 6\n",
      "[0, -2000, -100, -1200, -2000]\n"
     ]
    },
    {
     "name": "stderr",
     "output_type": "stream",
     "text": [
      "\u001b[36m\u001b[1m[ \u001b[22m\u001b[39m\u001b[36m\u001b[1mInfo: \u001b[22m\u001b[39m         195.5546261s: 3 minutes, 15 seconds, 554 milliseconds\n",
      "\u001b[36m\u001b[1m[ \u001b[22m\u001b[39m\u001b[36m\u001b[1mInfo: \u001b[22m\u001b[39m started timer at: 2024-04-02T00:21:24.451\n"
     ]
    },
    {
     "name": "stdout",
     "output_type": "stream",
     "text": [
      "false\n",
      "40\n",
      "1\n",
      "-153076.93648304316\n",
      "6995.770380844903\n"
     ]
    },
    {
     "name": "stderr",
     "output_type": "stream",
     "text": [
      "\u001b[36m\u001b[1m[ \u001b[22m\u001b[39m\u001b[36m\u001b[1mInfo: \u001b[22m\u001b[39m         203.9777979s: 3 minutes, 23 seconds, 977 milliseconds\n"
     ]
    },
    {
     "name": "stdout",
     "output_type": "stream",
     "text": [
      "-------------------------\n",
      "40K : 6\n",
      "[0, -2400, -100, -1200, -2000]\n"
     ]
    },
    {
     "name": "stderr",
     "output_type": "stream",
     "text": [
      "\u001b[36m\u001b[1m[ \u001b[22m\u001b[39m\u001b[36m\u001b[1mInfo: \u001b[22m\u001b[39m started timer at: 2024-04-02T00:24:48.439\n"
     ]
    },
    {
     "name": "stdout",
     "output_type": "stream",
     "text": [
      "false\n",
      "40\n",
      "1\n",
      "-160303.65147389175\n",
      "6611.999325948368\n",
      "-------------------------\n"
     ]
    },
    {
     "name": "stderr",
     "output_type": "stream",
     "text": [
      "\u001b[36m\u001b[1m[ \u001b[22m\u001b[39m\u001b[36m\u001b[1mInfo: \u001b[22m\u001b[39m         195.9693626s: 3 minutes, 15 seconds, 969 milliseconds\n",
      "\u001b[36m\u001b[1m[ \u001b[22m\u001b[39m\u001b[36m\u001b[1mInfo: \u001b[22m\u001b[39m started timer at: 2024-04-02T00:28:04.419\n"
     ]
    },
    {
     "name": "stdout",
     "output_type": "stream",
     "text": [
      "40K : 6\n",
      "[0, -2800, -100, -1200, -2000]\n",
      "false\n",
      "40\n",
      "1\n",
      "-167211.3171125237\n",
      "6797.0148750312355\n",
      "-------------------------\n",
      "40K : 6\n",
      "[0, -3200, -100, -1200, -2000]\n"
     ]
    },
    {
     "name": "stderr",
     "output_type": "stream",
     "text": [
      "\u001b[36m\u001b[1m[ \u001b[22m\u001b[39m\u001b[36m\u001b[1mInfo: \u001b[22m\u001b[39m          197.049776s: 3 minutes, 17 seconds, 49 milliseconds\n",
      "\u001b[36m\u001b[1m[ \u001b[22m\u001b[39m\u001b[36m\u001b[1mInfo: \u001b[22m\u001b[39m started timer at: 2024-04-02T00:31:21.490\n"
     ]
    },
    {
     "name": "stdout",
     "output_type": "stream",
     "text": [
      "false\n",
      "40\n",
      "1\n",
      "-174529.3101389279\n",
      "6676.251408381644\n",
      "-------------------------\n",
      "40K : 8\n",
      "[0, -200, -100, -1200, -2000]\n"
     ]
    },
    {
     "name": "stderr",
     "output_type": "stream",
     "text": [
      "\u001b[36m\u001b[1m[ \u001b[22m\u001b[39m\u001b[36m\u001b[1mInfo: \u001b[22m\u001b[39m         198.3078213s: 3 minutes, 18 seconds, 307 milliseconds\n",
      "\u001b[36m\u001b[1m[ \u001b[22m\u001b[39m\u001b[36m\u001b[1mInfo: \u001b[22m\u001b[39m started timer at: 2024-04-02T00:34:39.808\n"
     ]
    },
    {
     "name": "stdout",
     "output_type": "stream",
     "text": [
      "false\n",
      "40\n",
      "1\n",
      "-116618.42990500474\n",
      "5967.820481135808\n",
      "-------------------------\n",
      "40K : 8\n",
      "[0, -400, -100, -1200, -2000]\n"
     ]
    },
    {
     "name": "stderr",
     "output_type": "stream",
     "text": [
      "\u001b[36m\u001b[1m[ \u001b[22m\u001b[39m\u001b[36m\u001b[1mInfo: \u001b[22m\u001b[39m         196.1829086s: 3 minutes, 16 seconds, 182 milliseconds\n",
      "\u001b[36m\u001b[1m[ \u001b[22m\u001b[39m\u001b[36m\u001b[1mInfo: \u001b[22m\u001b[39m started timer at: 2024-04-02T00:37:55.991\n"
     ]
    },
    {
     "name": "stdout",
     "output_type": "stream",
     "text": [
      "false\n",
      "40\n",
      "1\n",
      "-120192.55735331046\n",
      "6624.998161983895\n",
      "-------------------------\n",
      "40K : 8\n",
      "[0, -600, -100, -1200, -2000]\n"
     ]
    },
    {
     "name": "stderr",
     "output_type": "stream",
     "text": [
      "\u001b[36m\u001b[1m[ \u001b[22m\u001b[39m\u001b[36m\u001b[1mInfo: \u001b[22m\u001b[39m         206.1088458s: 3 minutes, 26 seconds, 108 milliseconds\n",
      "\u001b[36m\u001b[1m[ \u001b[22m\u001b[39m\u001b[36m\u001b[1mInfo: \u001b[22m\u001b[39m started timer at: 2024-04-02T00:41:22.122\n"
     ]
    },
    {
     "name": "stdout",
     "output_type": "stream",
     "text": [
      "false\n",
      "40\n",
      "1\n",
      "-123769.13975891609\n",
      "6033.938143830707\n",
      "-------------------------\n",
      "40K : 8\n",
      "[0, -800, -100, -1200, -2000]\n"
     ]
    },
    {
     "name": "stderr",
     "output_type": "stream",
     "text": [
      "\u001b[36m\u001b[1m[ \u001b[22m\u001b[39m\u001b[36m\u001b[1mInfo: \u001b[22m\u001b[39m         195.6456604s: 3 minutes, 15 seconds, 645 milliseconds\n",
      "\u001b[36m\u001b[1m[ \u001b[22m\u001b[39m\u001b[36m\u001b[1mInfo: \u001b[22m\u001b[39m started timer at: 2024-04-02T00:44:37.778\n"
     ]
    },
    {
     "name": "stdout",
     "output_type": "stream",
     "text": [
      "false\n",
      "40\n",
      "1\n",
      "-127436.52061705444\n",
      "6055.200612350611\n",
      "-------------------------\n",
      "40K : 8\n",
      "[0, -1000, -100, -1200, -2000]\n"
     ]
    },
    {
     "name": "stderr",
     "output_type": "stream",
     "text": [
      "\u001b[36m\u001b[1m[ \u001b[22m\u001b[39m\u001b[36m\u001b[1mInfo: \u001b[22m\u001b[39m         196.3898363s: 3 minutes, 16 seconds, 389 milliseconds\n",
      "\u001b[36m\u001b[1m[ \u001b[22m\u001b[39m\u001b[36m\u001b[1mInfo: \u001b[22m\u001b[39m started timer at: 2024-04-02T00:47:54.189\n"
     ]
    },
    {
     "name": "stdout",
     "output_type": "stream",
     "text": [
      "false\n",
      "40\n",
      "1\n",
      "-131024.87382275739\n",
      "6053.016069847409\n",
      "-------------------------\n",
      "40K : 8\n",
      "[0, -1200, -100, -1200, -2000]\n"
     ]
    },
    {
     "name": "stderr",
     "output_type": "stream",
     "text": [
      "\u001b[36m\u001b[1m[ \u001b[22m\u001b[39m\u001b[36m\u001b[1mInfo: \u001b[22m\u001b[39m         199.7948537s: 3 minutes, 19 seconds, 794 milliseconds\n",
      "\u001b[36m\u001b[1m[ \u001b[22m\u001b[39m\u001b[36m\u001b[1mInfo: \u001b[22m\u001b[39m started timer at: 2024-04-02T00:51:14.005\n"
     ]
    },
    {
     "name": "stdout",
     "output_type": "stream",
     "text": [
      "false\n",
      "40\n",
      "1\n",
      "-134530.03384885224\n",
      "6090.482706106257\n",
      "-------------------------\n",
      "40K : 8\n",
      "[0, -1400, -100, -1200, -2000]\n"
     ]
    },
    {
     "name": "stderr",
     "output_type": "stream",
     "text": [
      "\u001b[36m\u001b[1m[ \u001b[22m\u001b[39m\u001b[36m\u001b[1mInfo: \u001b[22m\u001b[39m         195.7051024s: 3 minutes, 15 seconds, 705 milliseconds\n",
      "\u001b[36m\u001b[1m[ \u001b[22m\u001b[39m\u001b[36m\u001b[1mInfo: \u001b[22m\u001b[39m started timer at: 2024-04-02T00:54:29.732\n"
     ]
    },
    {
     "name": "stdout",
     "output_type": "stream",
     "text": [
      "false\n",
      "40\n",
      "1\n",
      "-138007.10448219714\n",
      "6764.937562432304\n",
      "-------------------------\n"
     ]
    },
    {
     "name": "stderr",
     "output_type": "stream",
     "text": [
      "\u001b[36m\u001b[1m[ \u001b[22m\u001b[39m\u001b[36m\u001b[1mInfo: \u001b[22m\u001b[39m         204.7367426s: 3 minutes, 24 seconds, 736 milliseconds\n",
      "\u001b[36m\u001b[1m[ \u001b[22m\u001b[39m\u001b[36m\u001b[1mInfo: \u001b[22m\u001b[39m started timer at: 2024-04-02T00:57:54.490\n"
     ]
    },
    {
     "name": "stdout",
     "output_type": "stream",
     "text": [
      "40K : 8\n",
      "[0, -1600, -100, -1200, -2000]\n",
      "false\n",
      "40\n",
      "1\n",
      "-141659.20362610856\n",
      "6234.924105719162\n",
      "-------------------------\n",
      "40K : 8\n",
      "[0, -1800, -100, -1200, -2000]\n"
     ]
    },
    {
     "name": "stderr",
     "output_type": "stream",
     "text": [
      "\u001b[36m\u001b[1m[ \u001b[22m\u001b[39m\u001b[36m\u001b[1mInfo: \u001b[22m\u001b[39m         196.0168717s: 3 minutes, 16 seconds, 16 milliseconds\n",
      "\u001b[36m\u001b[1m[ \u001b[22m\u001b[39m\u001b[36m\u001b[1mInfo: \u001b[22m\u001b[39m started timer at: 2024-04-02T01:01:10.518\n"
     ]
    },
    {
     "name": "stdout",
     "output_type": "stream",
     "text": [
      "false\n",
      "40\n",
      "1\n",
      "-145221.16503074393\n",
      "6156.209980740224\n",
      "-------------------------\n",
      "40K : 8\n",
      "[0, -2000, -100, -1200, -2000]\n"
     ]
    },
    {
     "name": "stderr",
     "output_type": "stream",
     "text": [
      "\u001b[36m\u001b[1m[ \u001b[22m\u001b[39m\u001b[36m\u001b[1mInfo: \u001b[22m\u001b[39m         195.2076601s: 3 minutes, 15 seconds, 207 milliseconds\n",
      "\u001b[36m\u001b[1m[ \u001b[22m\u001b[39m\u001b[36m\u001b[1mInfo: \u001b[22m\u001b[39m started timer at: 2024-04-02T01:04:25.736\n"
     ]
    },
    {
     "name": "stdout",
     "output_type": "stream",
     "text": [
      "false\n",
      "40\n",
      "1\n",
      "-148848.27345656473\n",
      "6315.982619631651\n",
      "-------------------------\n",
      "40K : 8\n",
      "[0, -2400, -100, -1200, -2000]\n"
     ]
    },
    {
     "name": "stderr",
     "output_type": "stream",
     "text": [
      "\u001b[36m\u001b[1m[ \u001b[22m\u001b[39m\u001b[36m\u001b[1mInfo: \u001b[22m\u001b[39m         199.1991104s: 3 minutes, 19 seconds, 199 milliseconds\n",
      "\u001b[36m\u001b[1m[ \u001b[22m\u001b[39m\u001b[36m\u001b[1mInfo: \u001b[22m\u001b[39m started timer at: 2024-04-02T01:07:44.957\n"
     ]
    },
    {
     "name": "stdout",
     "output_type": "stream",
     "text": [
      "false\n",
      "40\n",
      "1\n",
      "-155963.2293579398\n",
      "6298.478066721032\n",
      "-------------------------\n",
      "40K : 8\n",
      "[0, -2800, -100, -1200, -2000]\n"
     ]
    },
    {
     "name": "stderr",
     "output_type": "stream",
     "text": [
      "\u001b[36m\u001b[1m[ \u001b[22m\u001b[39m\u001b[36m\u001b[1mInfo: \u001b[22m\u001b[39m         195.9265892s: 3 minutes, 15 seconds, 926 milliseconds\n",
      "\u001b[36m\u001b[1m[ \u001b[22m\u001b[39m\u001b[36m\u001b[1mInfo: \u001b[22m\u001b[39m started timer at: 2024-04-02T01:11:00.882\n"
     ]
    },
    {
     "name": "stdout",
     "output_type": "stream",
     "text": [
      "false\n",
      "40\n",
      "1\n",
      "-163022.14678804568\n",
      "6936.3222912215015\n",
      "-------------------------\n",
      "40K : 8\n",
      "[0, -3200, -100, -1200, -2000]\n"
     ]
    },
    {
     "name": "stderr",
     "output_type": "stream",
     "text": [
      "\u001b[36m\u001b[1m[ \u001b[22m\u001b[39m\u001b[36m\u001b[1mInfo: \u001b[22m\u001b[39m         202.7728031s: 3 minutes, 22 seconds, 772 milliseconds\n",
      "\u001b[36m\u001b[1m[ \u001b[22m\u001b[39m\u001b[36m\u001b[1mInfo: \u001b[22m\u001b[39m started timer at: 2024-04-02T01:14:23.677\n"
     ]
    },
    {
     "name": "stdout",
     "output_type": "stream",
     "text": [
      "false\n",
      "40\n",
      "1\n",
      "-170202.21943687391\n",
      "6463.875207509425\n",
      "-------------------------\n",
      "40K : 10\n"
     ]
    },
    {
     "name": "stderr",
     "output_type": "stream",
     "text": [
      "\u001b[36m\u001b[1m[ \u001b[22m\u001b[39m\u001b[36m\u001b[1mInfo: \u001b[22m\u001b[39m          196.890801s: 3 minutes, 16 seconds, 890 milliseconds\n",
      "\u001b[36m\u001b[1m[ \u001b[22m\u001b[39m\u001b[36m\u001b[1mInfo: \u001b[22m\u001b[39m started timer at: 2024-04-02T01:17:40.579\n"
     ]
    },
    {
     "name": "stdout",
     "output_type": "stream",
     "text": [
      "[0, -200, -100, -1200, -2000]\n",
      "false\n",
      "40\n",
      "1\n",
      "-113754.95335908614\n",
      "5546.738926249646\n",
      "-------------------------\n",
      "40K : 10\n",
      "[0, -400, -100, -1200, -2000]\n"
     ]
    },
    {
     "name": "stderr",
     "output_type": "stream",
     "text": [
      "\u001b[36m\u001b[1m[ \u001b[22m\u001b[39m\u001b[36m\u001b[1mInfo: \u001b[22m\u001b[39m         197.8508014s: 3 minutes, 17 seconds, 850 milliseconds\n",
      "\u001b[36m\u001b[1m[ \u001b[22m\u001b[39m\u001b[36m\u001b[1mInfo: \u001b[22m\u001b[39m started timer at: 2024-04-02T01:20:58.462\n"
     ]
    },
    {
     "name": "stdout",
     "output_type": "stream",
     "text": [
      "false\n",
      "40\n",
      "1\n",
      "-117271.58016421663\n",
      "5839.855088418153\n",
      "-------------------------\n",
      "40K : 10\n",
      "[0, -600, -100, -1200, -2000]\n"
     ]
    },
    {
     "name": "stderr",
     "output_type": "stream",
     "text": [
      "\u001b[36m\u001b[1m[ \u001b[22m\u001b[39m\u001b[36m\u001b[1mInfo: \u001b[22m\u001b[39m         201.1659331s: 3 minutes, 21 seconds, 165 milliseconds\n",
      "\u001b[36m\u001b[1m[ \u001b[22m\u001b[39m\u001b[36m\u001b[1mInfo: \u001b[22m\u001b[39m started timer at: 2024-04-02T01:24:19.649\n"
     ]
    },
    {
     "name": "stdout",
     "output_type": "stream",
     "text": [
      "false\n",
      "40\n",
      "1\n",
      "-120823.85147950494\n",
      "5553.625700639496\n",
      "-------------------------\n",
      "40K : 10\n",
      "[0, -800, -100, -1200, -2000]\n"
     ]
    },
    {
     "name": "stderr",
     "output_type": "stream",
     "text": [
      "\u001b[36m\u001b[1m[ \u001b[22m\u001b[39m\u001b[36m\u001b[1mInfo: \u001b[22m\u001b[39m          196.096644s: 3 minutes, 16 seconds, 96 milliseconds\n",
      "\u001b[36m\u001b[1m[ \u001b[22m\u001b[39m\u001b[36m\u001b[1mInfo: \u001b[22m\u001b[39m started timer at: 2024-04-02T01:27:35.767\n"
     ]
    },
    {
     "name": "stdout",
     "output_type": "stream",
     "text": [
      "false\n",
      "40\n",
      "1\n",
      "-124453.96378511448\n",
      "5977.0978999695435\n",
      "-------------------------\n",
      "40K : 10\n",
      "[0, -1000, -100, -1200, -2000]\n"
     ]
    },
    {
     "name": "stderr",
     "output_type": "stream",
     "text": [
      "\u001b[36m\u001b[1m[ \u001b[22m\u001b[39m\u001b[36m\u001b[1mInfo: \u001b[22m\u001b[39m         200.5519309s: 3 minutes, 20 seconds, 551 milliseconds\n",
      "\u001b[36m\u001b[1m[ \u001b[22m\u001b[39m\u001b[36m\u001b[1mInfo: \u001b[22m\u001b[39m started timer at: 2024-04-02T01:30:56.329\n"
     ]
    },
    {
     "name": "stdout",
     "output_type": "stream",
     "text": [
      "false\n",
      "40\n",
      "1\n",
      "-127950.7139288075\n",
      "5632.704035397979\n",
      "-------------------------\n",
      "40K : 10\n",
      "[0, -1200, -100, -1200, -2000]\n"
     ]
    },
    {
     "name": "stderr",
     "output_type": "stream",
     "text": [
      "\u001b[36m\u001b[1m[ \u001b[22m\u001b[39m\u001b[36m\u001b[1mInfo: \u001b[22m\u001b[39m         197.9966919s: 3 minutes, 17 seconds, 996 milliseconds\n",
      "\u001b[36m\u001b[1m[ \u001b[22m\u001b[39m\u001b[36m\u001b[1mInfo: \u001b[22m\u001b[39m started timer at: 2024-04-02T01:34:14.337\n"
     ]
    },
    {
     "name": "stdout",
     "output_type": "stream",
     "text": [
      "false\n",
      "40\n",
      "1\n",
      "-131440.9891062878\n",
      "5698.680517378453\n",
      "-------------------------\n",
      "40K : 10\n",
      "[0, -1400, -100, -1200, -2000]\n"
     ]
    },
    {
     "name": "stderr",
     "output_type": "stream",
     "text": [
      "\u001b[36m\u001b[1m[ \u001b[22m\u001b[39m\u001b[36m\u001b[1mInfo: \u001b[22m\u001b[39m         195.3320877s: 3 minutes, 15 seconds, 332 milliseconds\n",
      "\u001b[36m\u001b[1m[ \u001b[22m\u001b[39m\u001b[36m\u001b[1mInfo: \u001b[22m\u001b[39m started timer at: 2024-04-02T01:37:29.679\n"
     ]
    },
    {
     "name": "stdout",
     "output_type": "stream",
     "text": [
      "false\n",
      "40\n",
      "1\n",
      "-135062.81440380815\n",
      "6186.177919099763\n",
      "-------------------------\n",
      "40K : 10\n",
      "[0, -1600, -100, -1200, -2000]\n"
     ]
    },
    {
     "name": "stderr",
     "output_type": "stream",
     "text": [
      "\u001b[36m\u001b[1m[ \u001b[22m\u001b[39m\u001b[36m\u001b[1mInfo: \u001b[22m\u001b[39m          202.703187s: 3 minutes, 22 seconds, 703 milliseconds\n",
      "\u001b[36m\u001b[1m[ \u001b[22m\u001b[39m\u001b[36m\u001b[1mInfo: \u001b[22m\u001b[39m started timer at: 2024-04-02T01:40:52.404\n"
     ]
    },
    {
     "name": "stdout",
     "output_type": "stream",
     "text": [
      "false\n",
      "40\n",
      "1\n",
      "-138677.38241294707\n",
      "5773.935375711375\n"
     ]
    },
    {
     "name": "stderr",
     "output_type": "stream",
     "text": [
      "\u001b[36m\u001b[1m[ \u001b[22m\u001b[39m\u001b[36m\u001b[1mInfo: \u001b[22m\u001b[39m         195.7143467s: 3 minutes, 15 seconds, 714 milliseconds\n"
     ]
    },
    {
     "name": "stdout",
     "output_type": "stream",
     "text": [
      "-------------------------\n",
      "40K : 10\n",
      "[0, -1800, -100, -1200, -2000]\n"
     ]
    },
    {
     "name": "stderr",
     "output_type": "stream",
     "text": [
      "\u001b[36m\u001b[1m[ \u001b[22m\u001b[39m\u001b[36m\u001b[1mInfo: \u001b[22m\u001b[39m started timer at: 2024-04-02T01:44:08.139\n"
     ]
    },
    {
     "name": "stdout",
     "output_type": "stream",
     "text": [
      "false\n",
      "40\n",
      "1\n",
      "-142343.86932291742\n",
      "5953.919941819004\n",
      "-------------------------\n"
     ]
    },
    {
     "name": "stderr",
     "output_type": "stream",
     "text": [
      "\u001b[36m\u001b[1m[ \u001b[22m\u001b[39m\u001b[36m\u001b[1mInfo: \u001b[22m\u001b[39m         197.4632025s: 3 minutes, 17 seconds, 463 milliseconds\n",
      "\u001b[36m\u001b[1m[ \u001b[22m\u001b[39m\u001b[36m\u001b[1mInfo: \u001b[22m\u001b[39m started timer at: 2024-04-02T01:47:25.614\n"
     ]
    },
    {
     "name": "stdout",
     "output_type": "stream",
     "text": [
      "40K : 10\n",
      "[0, -2000, -100, -1200, -2000]\n",
      "false\n",
      "40\n",
      "1\n",
      "-145705.28601829268\n",
      "5868.481336156354\n",
      "-------------------------\n",
      "40K : 10\n",
      "[0, -2400, -100, -1200, -2000]\n"
     ]
    },
    {
     "name": "stderr",
     "output_type": "stream",
     "text": [
      "\u001b[36m\u001b[1m[ \u001b[22m\u001b[39m\u001b[36m\u001b[1mInfo: \u001b[22m\u001b[39m         198.9726068s: 3 minutes, 18 seconds, 972 milliseconds\n",
      "\u001b[36m\u001b[1m[ \u001b[22m\u001b[39m\u001b[36m\u001b[1mInfo: \u001b[22m\u001b[39m started timer at: 2024-04-02T01:50:44.607\n"
     ]
    },
    {
     "name": "stdout",
     "output_type": "stream",
     "text": [
      "false\n",
      "40\n",
      "1\n",
      "-153106.40857919207\n",
      "5969.211141646983\n",
      "-------------------------\n",
      "40K : 10\n",
      "[0, -2800, -100, -1200, -2000]\n"
     ]
    },
    {
     "name": "stderr",
     "output_type": "stream",
     "text": [
      "\u001b[36m\u001b[1m[ \u001b[22m\u001b[39m\u001b[36m\u001b[1mInfo: \u001b[22m\u001b[39m         196.1677311s: 3 minutes, 16 seconds, 167 milliseconds\n",
      "\u001b[36m\u001b[1m[ \u001b[22m\u001b[39m\u001b[36m\u001b[1mInfo: \u001b[22m\u001b[39m started timer at: 2024-04-02T01:54:00.785\n"
     ]
    },
    {
     "name": "stdout",
     "output_type": "stream",
     "text": [
      "false\n",
      "40\n",
      "1\n",
      "-160166.65342404114\n",
      "6581.660934277349\n",
      "-------------------------\n",
      "40K : 10\n",
      "[0, -3200, -100, -1200, -2000]\n"
     ]
    },
    {
     "name": "stderr",
     "output_type": "stream",
     "text": [
      "\u001b[36m\u001b[1m[ \u001b[22m\u001b[39m\u001b[36m\u001b[1mInfo: \u001b[22m\u001b[39m         205.3964525s: 3 minutes, 25 seconds, 396 milliseconds\n",
      "\u001b[36m\u001b[1m[ \u001b[22m\u001b[39m\u001b[36m\u001b[1mInfo: \u001b[22m\u001b[39m started timer at: 2024-04-02T01:57:26.192\n"
     ]
    },
    {
     "name": "stdout",
     "output_type": "stream",
     "text": [
      "false\n",
      "40\n",
      "1\n",
      "-167182.88120233512\n",
      "6046.648661707599\n",
      "-------------------------\n",
      "40K : 12\n",
      "[0, -200, -100, -1200, -2000]\n"
     ]
    },
    {
     "name": "stderr",
     "output_type": "stream",
     "text": [
      "\u001b[36m\u001b[1m[ \u001b[22m\u001b[39m\u001b[36m\u001b[1mInfo: \u001b[22m\u001b[39m          195.631863s: 3 minutes, 15 seconds, 631 milliseconds\n",
      "\u001b[36m\u001b[1m[ \u001b[22m\u001b[39m\u001b[36m\u001b[1mInfo: \u001b[22m\u001b[39m started timer at: 2024-04-02T02:00:41.835\n"
     ]
    },
    {
     "name": "stdout",
     "output_type": "stream",
     "text": [
      "false\n",
      "40\n",
      "1\n",
      "-111638.1976000458\n",
      "5238.153553856483\n",
      "-------------------------\n",
      "40K : 12\n",
      "[0, -400, -100, -1200, -2000]\n"
     ]
    },
    {
     "name": "stderr",
     "output_type": "stream",
     "text": [
      "\u001b[36m\u001b[1m[ \u001b[22m\u001b[39m\u001b[36m\u001b[1mInfo: \u001b[22m\u001b[39m          195.837843s: 3 minutes, 15 seconds, 837 milliseconds\n",
      "\u001b[36m\u001b[1m[ \u001b[22m\u001b[39m\u001b[36m\u001b[1mInfo: \u001b[22m\u001b[39m started timer at: 2024-04-02T02:03:57.683\n"
     ]
    },
    {
     "name": "stdout",
     "output_type": "stream",
     "text": [
      "false\n",
      "40\n",
      "1\n",
      "-115182.0339922802\n",
      "5333.452563286086\n",
      "-------------------------\n",
      "40K : 12\n",
      "[0, -600"
     ]
    },
    {
     "name": "stderr",
     "output_type": "stream",
     "text": [
      "\u001b[36m\u001b[1m[ \u001b[22m\u001b[39m\u001b[36m\u001b[1mInfo: \u001b[22m\u001b[39m         199.1643423s: 3 minutes, 19 seconds, 164 milliseconds\n",
      "\u001b[36m\u001b[1m[ \u001b[22m\u001b[39m\u001b[36m\u001b[1mInfo: \u001b[22m\u001b[39m started timer at: 2024-04-02T02:07:16.857\n"
     ]
    },
    {
     "name": "stdout",
     "output_type": "stream",
     "text": [
      ", -100, -1200, -2000]\n",
      "false\n",
      "40\n",
      "1\n",
      "-118747.32469408674\n",
      "5316.910152376376\n",
      "-------------------------\n"
     ]
    },
    {
     "name": "stderr",
     "output_type": "stream",
     "text": [
      "\u001b[36m\u001b[1m[ \u001b[22m\u001b[39m\u001b[36m\u001b[1mInfo: \u001b[22m\u001b[39m         195.6542831s: 3 minutes, 15 seconds, 654 milliseconds\n",
      "\u001b[36m\u001b[1m[ \u001b[22m\u001b[39m\u001b[36m\u001b[1mInfo: \u001b[22m\u001b[39m started timer at: 2024-04-02T02:10:32.533\n"
     ]
    },
    {
     "name": "stdout",
     "output_type": "stream",
     "text": [
      "40K : 12\n",
      "[0, -800, -100, -1200, -2000]\n",
      "false\n",
      "40\n",
      "1\n",
      "-122316.86196684222\n",
      "5755.506645819322\n",
      "-------------------------\n",
      "40K : 12\n",
      "[0, -1000, -100, -1200, -2000]\n"
     ]
    },
    {
     "name": "stderr",
     "output_type": "stream",
     "text": [
      "\u001b[36m\u001b[1m[ \u001b[22m\u001b[39m\u001b[36m\u001b[1mInfo: \u001b[22m\u001b[39m         205.2194841s: 3 minutes, 25 seconds, 219 milliseconds\n",
      "\u001b[36m\u001b[1m[ \u001b[22m\u001b[39m\u001b[36m\u001b[1mInfo: \u001b[22m\u001b[39m started timer at: 2024-04-02T02:13:57.752\n"
     ]
    },
    {
     "name": "stdout",
     "output_type": "stream",
     "text": [
      "false\n",
      "40\n",
      "1\n",
      "-125893.77873430232\n",
      "5389.710850111282\n",
      "-------------------------\n",
      "40K : 12\n",
      "[0, -1200, -100, -1200, -2000]\n"
     ]
    },
    {
     "name": "stderr",
     "output_type": "stream",
     "text": [
      "\u001b[36m\u001b[1m[ \u001b[22m\u001b[39m\u001b[36m\u001b[1mInfo: \u001b[22m\u001b[39m         196.4571059s: 3 minutes, 16 seconds, 457 milliseconds\n",
      "\u001b[36m\u001b[1m[ \u001b[22m\u001b[39m\u001b[36m\u001b[1mInfo: \u001b[22m\u001b[39m started timer at: 2024-04-02T02:17:14.220\n"
     ]
    },
    {
     "name": "stdout",
     "output_type": "stream",
     "text": [
      "false\n",
      "40\n",
      "1\n",
      "-129559.10384429293\n",
      "5514.5071179416445\n",
      "-------------------------\n"
     ]
    },
    {
     "name": "stderr",
     "output_type": "stream",
     "text": [
      "\u001b[36m\u001b[1m[ \u001b[22m\u001b[39m\u001b[36m\u001b[1mInfo: \u001b[22m\u001b[39m         195.9470114s: 3 minutes, 15 seconds, 947 milliseconds\n",
      "\u001b[36m\u001b[1m[ \u001b[22m\u001b[39m\u001b[36m\u001b[1mInfo: \u001b[22m\u001b[39m started timer at: 2024-04-02T02:20:30.188\n"
     ]
    },
    {
     "name": "stdout",
     "output_type": "stream",
     "text": [
      "40K : 12\n",
      "[0, -1400, -100, -1200, -2000]\n",
      "false\n",
      "40\n",
      "1\n",
      "-133085.1598139438\n",
      "5408.7760210702345\n",
      "-------------------------\n",
      "40K : 12\n",
      "[0, -1600, -100, -1200, -2000]\n"
     ]
    },
    {
     "name": "stderr",
     "output_type": "stream",
     "text": [
      "\u001b[36m\u001b[1m[ \u001b[22m\u001b[39m\u001b[36m\u001b[1mInfo: \u001b[22m\u001b[39m         199.6776158s: 3 minutes, 19 seconds, 677 milliseconds\n",
      "\u001b[36m\u001b[1m[ \u001b[22m\u001b[39m\u001b[36m\u001b[1mInfo: \u001b[22m\u001b[39m started timer at: 2024-04-02T02:23:49.887\n"
     ]
    },
    {
     "name": "stdout",
     "output_type": "stream",
     "text": [
      "false\n",
      "40\n",
      "1\n",
      "-136632.44979245742\n",
      "5494.440623726846\n",
      "-------------------------"
     ]
    },
    {
     "name": "stderr",
     "output_type": "stream",
     "text": [
      "\u001b[36m\u001b[1m[ \u001b[22m\u001b[39m\u001b[36m\u001b[1mInfo: \u001b[22m\u001b[39m         195.6668719s: 3 minutes, 15 seconds, 666 milliseconds\n"
     ]
    },
    {
     "name": "stdout",
     "output_type": "stream",
     "text": [
      "\n",
      "40K : 12\n",
      "[0, -1800, -100, -1200, -2000]\n"
     ]
    },
    {
     "name": "stderr",
     "output_type": "stream",
     "text": [
      "\u001b[36m\u001b[1m[ \u001b[22m\u001b[39m\u001b[36m\u001b[1mInfo: \u001b[22m\u001b[39m started timer at: 2024-04-02T02:27:05.587\n"
     ]
    },
    {
     "name": "stdout",
     "output_type": "stream",
     "text": [
      "false\n",
      "40\n",
      "1\n",
      "-140241.06172218805\n",
      "5914.203163139643\n",
      "-------------------------\n",
      "40K : 12\n",
      "[0, -2000, -100, -1200, -2000]\n"
     ]
    },
    {
     "name": "stderr",
     "output_type": "stream",
     "text": [
      "\u001b[36m\u001b[1m[ \u001b[22m\u001b[39m\u001b[36m\u001b[1mInfo: \u001b[22m\u001b[39m         203.7360051s: 3 minutes, 23 seconds, 736 milliseconds\n",
      "\u001b[36m\u001b[1m[ \u001b[22m\u001b[39m\u001b[36m\u001b[1mInfo: \u001b[22m\u001b[39m started timer at: 2024-04-02T02:30:29.345\n"
     ]
    },
    {
     "name": "stdout",
     "output_type": "stream",
     "text": [
      "false\n",
      "40\n",
      "1\n",
      "-143768.32123150743\n",
      "5619.383608067031\n",
      "-------------------------\n",
      "40K : 12\n",
      "[0, -2400, -100, -1200, -2000]\n"
     ]
    },
    {
     "name": "stderr",
     "output_type": "stream",
     "text": [
      "\u001b[36m\u001b[1m[ \u001b[22m\u001b[39m\u001b[36m\u001b[1mInfo: \u001b[22m\u001b[39m         197.3300493s: 3 minutes, 17 seconds, 330 milliseconds\n",
      "\u001b[36m\u001b[1m[ \u001b[22m\u001b[39m\u001b[36m\u001b[1mInfo: \u001b[22m\u001b[39m started timer at: 2024-04-02T02:33:46.685\n"
     ]
    },
    {
     "name": "stdout",
     "output_type": "stream",
     "text": [
      "false\n",
      "40\n",
      "1\n",
      "-150831.24658065513\n",
      "5701.197716576814\n",
      "-------------------------\n",
      "40K : 12\n",
      "[0, -2800, -100, -1200, -2000]\n"
     ]
    },
    {
     "name": "stderr",
     "output_type": "stream",
     "text": [
      "\u001b[36m\u001b[1m[ \u001b[22m\u001b[39m\u001b[36m\u001b[1mInfo: \u001b[22m\u001b[39m         195.5758455s: 3 minutes, 15 seconds, 575 milliseconds\n",
      "\u001b[36m\u001b[1m[ \u001b[22m\u001b[39m\u001b[36m\u001b[1mInfo: \u001b[22m\u001b[39m started timer at: 2024-04-02T02:37:02.260\n"
     ]
    },
    {
     "name": "stdout",
     "output_type": "stream",
     "text": [
      "false\n",
      "40\n",
      "1\n",
      "-158125.1049362143\n",
      "5954.816731757561\n",
      "-------------------------\n",
      "40"
     ]
    },
    {
     "name": "stderr",
     "output_type": "stream",
     "text": [
      "\u001b[36m\u001b[1m[ \u001b[22m\u001b[39m\u001b[36m\u001b[1mInfo: \u001b[22m\u001b[39m         201.4735596s: 3 minutes, 21 seconds, 473 milliseconds\n",
      "\u001b[36m\u001b[1m[ \u001b[22m\u001b[39m\u001b[36m\u001b[1mInfo: \u001b[22m\u001b[39m started timer at: 2024-04-02T02:40:23.767\n"
     ]
    },
    {
     "name": "stdout",
     "output_type": "stream",
     "text": [
      "K : 12\n",
      "[0, -3200, -100, -1200, -2000]\n",
      "false\n",
      "40\n",
      "1\n",
      "-165199.27903577313\n",
      "5856.932025068638\n",
      "-------------------------\n",
      "40K : 14\n",
      "[0, -200, -100, -1200, -2000]\n"
     ]
    },
    {
     "name": "stderr",
     "output_type": "stream",
     "text": [
      "\u001b[36m\u001b[1m[ \u001b[22m\u001b[39m\u001b[36m\u001b[1mInfo: \u001b[22m\u001b[39m         195.5996237s: 3 minutes, 15 seconds, 599 milliseconds\n",
      "\u001b[36m\u001b[1m[ \u001b[22m\u001b[39m\u001b[36m\u001b[1mInfo: \u001b[22m\u001b[39m started timer at: 2024-04-02T02:43:39.376\n"
     ]
    },
    {
     "name": "stdout",
     "output_type": "stream",
     "text": [
      "false\n",
      "40\n",
      "1\n",
      "-110172.90637683943\n",
      "5208.935381687931\n",
      "-------------------------\n",
      "40K : 14\n",
      "[0, -400, -100, -1200, "
     ]
    },
    {
     "name": "stderr",
     "output_type": "stream",
     "text": [
      "\u001b[36m\u001b[1m[ \u001b[22m\u001b[39m\u001b[36m\u001b[1mInfo: \u001b[22m\u001b[39m         201.9164957s: 3 minutes, 21 seconds, 916 milliseconds\n",
      "\u001b[36m\u001b[1m[ \u001b[22m\u001b[39m\u001b[36m\u001b[1mInfo: \u001b[22m\u001b[39m started timer at: 2024-04-02T02:47:01.304\n"
     ]
    },
    {
     "name": "stdout",
     "output_type": "stream",
     "text": [
      "-2000]\n",
      "false\n",
      "40\n",
      "1\n",
      "-113845.48149674547\n",
      "4992.654995982414\n",
      "-------------------------\n"
     ]
    },
    {
     "name": "stderr",
     "output_type": "stream",
     "text": [
      "\u001b[36m\u001b[1m[ \u001b[22m\u001b[39m\u001b[36m\u001b[1mInfo: \u001b[22m\u001b[39m         197.9625844s: 3 minutes, 17 seconds, 962 milliseconds\n",
      "\u001b[36m\u001b[1m[ \u001b[22m\u001b[39m\u001b[36m\u001b[1mInfo: \u001b[22m\u001b[39m started timer at: 2024-04-02T02:50:19.277\n"
     ]
    },
    {
     "name": "stdout",
     "output_type": "stream",
     "text": [
      "40K : 14\n",
      "[0, -600, -100, -1200, -2000]\n",
      "false\n",
      "40\n",
      "1\n",
      "-117347.9242729752\n",
      "5055.429213967365\n",
      "-------------------------\n",
      "40K : 14\n",
      "[0, -800, -100, -1200, -2000]\n"
     ]
    },
    {
     "name": "stderr",
     "output_type": "stream",
     "text": [
      "\u001b[36m\u001b[1m[ \u001b[22m\u001b[39m\u001b[36m\u001b[1mInfo: \u001b[22m\u001b[39m         196.1656929s: 3 minutes, 16 seconds, 165 milliseconds\n",
      "\u001b[36m\u001b[1m[ \u001b[22m\u001b[39m\u001b[36m\u001b[1mInfo: \u001b[22m\u001b[39m started timer at: 2024-04-02T02:53:35.453\n"
     ]
    },
    {
     "name": "stdout",
     "output_type": "stream",
     "text": [
      "false\n",
      "40\n",
      "1\n",
      "-120920.82931467438\n",
      "5241.808010639842\n",
      "-------------------------\n",
      "40K : 14\n",
      "[0, -1000, -100, -1200, -2000]\n"
     ]
    },
    {
     "name": "stderr",
     "output_type": "stream",
     "text": [
      "\u001b[36m\u001b[1m[ \u001b[22m\u001b[39m\u001b[36m\u001b[1mInfo: \u001b[22m\u001b[39m         203.4862823s: 3 minutes, 23 seconds, 486 milliseconds\n",
      "\u001b[36m\u001b[1m[ \u001b[22m\u001b[39m\u001b[36m\u001b[1mInfo: \u001b[22m\u001b[39m started timer at: 2024-04-02T02:56:58.972\n"
     ]
    },
    {
     "name": "stdout",
     "output_type": "stream",
     "text": [
      "false\n",
      "40\n",
      "1\n",
      "-124521.97928416893\n",
      "5094.279592404754\n",
      "-------------------------\n",
      "40K : 14\n",
      "[0, -1200, -100, -1200, -2000]\n"
     ]
    },
    {
     "name": "stderr",
     "output_type": "stream",
     "text": [
      "\u001b[36m\u001b[1m[ \u001b[22m\u001b[39m\u001b[36m\u001b[1mInfo: \u001b[22m\u001b[39m         195.7906158s: 3 minutes, 15 seconds, 790 milliseconds\n",
      "\u001b[36m\u001b[1m[ \u001b[22m\u001b[39m\u001b[36m\u001b[1mInfo: \u001b[22m\u001b[39m started timer at: 2024-04-02T03:00:14.762\n"
     ]
    },
    {
     "name": "stdout",
     "output_type": "stream",
     "text": [
      "false\n",
      "40\n",
      "1\n",
      "-127971.369395185\n",
      "5288.812431355867\n",
      "-------------------------\n",
      "40K : 14\n",
      "[0, -1400, -100, -1200, -2000]\n"
     ]
    },
    {
     "name": "stderr",
     "output_type": "stream",
     "text": [
      "\u001b[36m\u001b[1m[ \u001b[22m\u001b[39m\u001b[36m\u001b[1mInfo: \u001b[22m\u001b[39m         199.4308241s: 3 minutes, 19 seconds, 430 milliseconds\n",
      "\u001b[36m\u001b[1m[ \u001b[22m\u001b[39m\u001b[36m\u001b[1mInfo: \u001b[22m\u001b[39m started timer at: 2024-04-02T03:03:34.215\n"
     ]
    },
    {
     "name": "stdout",
     "output_type": "stream",
     "text": [
      "false\n",
      "40\n",
      "1\n",
      "-131648.20024375108\n",
      "5186.703482695958\n"
     ]
    },
    {
     "name": "stderr",
     "output_type": "stream",
     "text": [
      "\u001b[36m\u001b[1m[ \u001b[22m\u001b[39m\u001b[36m\u001b[1mInfo: \u001b[22m\u001b[39m         198.2966535s: 3 minutes, 18 seconds, 296 milliseconds\n"
     ]
    },
    {
     "name": "stdout",
     "output_type": "stream",
     "text": [
      "-------------------------\n",
      "40K : 14\n",
      "[0, -1600, -100, -1200, -2000]\n"
     ]
    },
    {
     "name": "stderr",
     "output_type": "stream",
     "text": [
      "\u001b[36m\u001b[1m[ \u001b[22m\u001b[39m\u001b[36m\u001b[1mInfo: \u001b[22m\u001b[39m started timer at: 2024-04-02T03:06:52.532\n"
     ]
    },
    {
     "name": "stdout",
     "output_type": "stream",
     "text": [
      "false\n",
      "40\n",
      "1\n",
      "-135232.67743175186\n",
      "5147.570460807643\n",
      "-------------------------\n"
     ]
    },
    {
     "name": "stderr",
     "output_type": "stream",
     "text": [
      "\u001b[36m\u001b[1m[ \u001b[22m\u001b[39m\u001b[36m\u001b[1mInfo: \u001b[22m\u001b[39m         195.9030639s: 3 minutes, 15 seconds, 903 milliseconds\n",
      "\u001b[36m\u001b[1m[ \u001b[22m\u001b[39m\u001b[36m\u001b[1mInfo: \u001b[22m\u001b[39m started timer at: 2024-04-02T03:10:08.457\n"
     ]
    },
    {
     "name": "stdout",
     "output_type": "stream",
     "text": [
      "40K : 14\n",
      "[0, -1800, -100, -1200, -2000]\n",
      "false\n",
      "40\n",
      "1\n",
      "-138794.20081692713\n",
      "5589.556632909663\n",
      "-------------------------\n",
      "40K : 14\n",
      "[0, -2000, -100,"
     ]
    },
    {
     "name": "stderr",
     "output_type": "stream",
     "text": [
      "\u001b[36m\u001b[1m[ \u001b[22m\u001b[39m\u001b[36m\u001b[1mInfo: \u001b[22m\u001b[39m         203.8184684s: 3 minutes, 23 seconds, 818 milliseconds\n",
      "\u001b[36m\u001b[1m[ \u001b[22m\u001b[39m\u001b[36m\u001b[1mInfo: \u001b[22m\u001b[39m started timer at: 2024-04-02T03:13:32.308\n"
     ]
    },
    {
     "name": "stdout",
     "output_type": "stream",
     "text": [
      " -1200, -2000]\n",
      "false\n",
      "40\n",
      "1\n",
      "-142386.22290693523\n",
      "5319.880119101096\n",
      "-------------------------\n",
      "40K : 14\n",
      "[0, -2400, -100, -1200, -2000]\n"
     ]
    },
    {
     "name": "stderr",
     "output_type": "stream",
     "text": [
      "\u001b[36m\u001b[1m[ \u001b[22m\u001b[39m\u001b[36m\u001b[1mInfo: \u001b[22m\u001b[39m         196.2371727s: 3 minutes, 16 seconds, 237 milliseconds\n",
      "\u001b[36m\u001b[1m[ \u001b[22m\u001b[39m\u001b[36m\u001b[1mInfo: \u001b[22m\u001b[39m started timer at: 2024-04-02T03:16:48.577\n"
     ]
    },
    {
     "name": "stdout",
     "output_type": "stream",
     "text": [
      "false\n",
      "40\n",
      "1\n",
      "-149490.75593836495\n",
      "5470.84096369892\n",
      "-------------------------\n",
      "40K : 14\n",
      "[0, -2800, -100, -1200, -2000]\n"
     ]
    },
    {
     "name": "stderr",
     "output_type": "stream",
     "text": [
      "\u001b[36m\u001b[1m[ \u001b[22m\u001b[39m\u001b[36m\u001b[1mInfo: \u001b[22m\u001b[39m         197.5808659s: 3 minutes, 17 seconds, 580 milliseconds\n",
      "\u001b[36m\u001b[1m[ \u001b[22m\u001b[39m\u001b[36m\u001b[1mInfo: \u001b[22m\u001b[39m started timer at: 2024-04-02T03:20:06.168\n"
     ]
    },
    {
     "name": "stdout",
     "output_type": "stream",
     "text": [
      "false\n",
      "40\n",
      "1\n",
      "-156594.49730085305\n",
      "5538.705321329263\n",
      "-------------------------\n",
      "40K : 14\n",
      "[0, -3200, -100, -1200, -2000]\n"
     ]
    },
    {
     "name": "stderr",
     "output_type": "stream",
     "text": [
      "\u001b[36m\u001b[1m[ \u001b[22m\u001b[39m\u001b[36m\u001b[1mInfo: \u001b[22m\u001b[39m         198.7674415s: 3 minutes, 18 seconds, 767 milliseconds\n",
      "\u001b[36m\u001b[1m[ \u001b[22m\u001b[39m\u001b[36m\u001b[1mInfo: \u001b[22m\u001b[39m started timer at: 2024-04-02T03:23:24.957\n"
     ]
    },
    {
     "name": "stdout",
     "output_type": "stream",
     "text": [
      "false\n",
      "40\n",
      "1\n",
      "-163850.15386472546\n",
      "5636.725370246366\n",
      "-------------------------\n",
      "40K : 16\n",
      "[0, -200, -100, -1200, -2000]\n"
     ]
    },
    {
     "name": "stderr",
     "output_type": "stream",
     "text": [
      "\u001b[36m\u001b[1m[ \u001b[22m\u001b[39m\u001b[36m\u001b[1mInfo: \u001b[22m\u001b[39m         195.8492599s: 3 minutes, 15 seconds, 849 milliseconds\n",
      "\u001b[36m\u001b[1m[ \u001b[22m\u001b[39m\u001b[36m\u001b[1mInfo: \u001b[22m\u001b[39m started timer at: 2024-04-02T03:26:40.817\n"
     ]
    },
    {
     "name": "stdout",
     "output_type": "stream",
     "text": [
      "false\n",
      "40\n",
      "1\n",
      "-109178.24508051795\n",
      "5011.380713319092\n",
      "-------------------------\n"
     ]
    },
    {
     "name": "stderr",
     "output_type": "stream",
     "text": [
      "\u001b[36m\u001b[1m[ \u001b[22m\u001b[39m\u001b[36m\u001b[1mInfo: \u001b[22m\u001b[39m         206.1441242s: 3 minutes, 26 seconds, 144 milliseconds\n",
      "\u001b[36m\u001b[1m[ \u001b[22m\u001b[39m\u001b[36m\u001b[1mInfo: \u001b[22m\u001b[39m started timer at: 2024-04-02T03:30:06.972\n"
     ]
    },
    {
     "name": "stdout",
     "output_type": "stream",
     "text": [
      "40K : 16\n",
      "[0, -400, -100, -1200, -2000]\n",
      "false\n",
      "40\n",
      "1\n",
      "-112793.28966578012\n",
      "4856.2326760248325\n"
     ]
    },
    {
     "name": "stderr",
     "output_type": "stream",
     "text": [
      "\u001b[36m\u001b[1m[ \u001b[22m\u001b[39m\u001b[36m\u001b[1mInfo: \u001b[22m\u001b[39m         196.2731347s: 3 minutes, 16 seconds, 273 milliseconds\n"
     ]
    },
    {
     "name": "stdout",
     "output_type": "stream",
     "text": [
      "-------------------------\n",
      "40K : 16\n",
      "[0, -600, -100, -1200, -2000]\n"
     ]
    },
    {
     "name": "stderr",
     "output_type": "stream",
     "text": [
      "\u001b[36m\u001b[1m[ \u001b[22m\u001b[39m\u001b[36m\u001b[1mInfo: \u001b[22m\u001b[39m started timer at: 2024-04-02T03:33:23.256\n"
     ]
    },
    {
     "name": "stdout",
     "output_type": "stream",
     "text": [
      "false\n",
      "40\n",
      "1\n",
      "-116312.98373376382\n",
      "4909.1975033873905\n",
      "-------------------------\n",
      "40K : 16\n",
      "[0, -800, -100, -1200, -2000]\n"
     ]
    },
    {
     "name": "stderr",
     "output_type": "stream",
     "text": [
      "\u001b[36m\u001b[1m[ \u001b[22m\u001b[39m\u001b[36m\u001b[1mInfo: \u001b[22m\u001b[39m         196.0685886s: 3 minutes, 16 seconds, 68 milliseconds\n",
      "\u001b[36m\u001b[1m[ \u001b[22m\u001b[39m\u001b[36m\u001b[1mInfo: \u001b[22m\u001b[39m started timer at: 2024-04-02T03:36:39.335\n"
     ]
    },
    {
     "name": "stdout",
     "output_type": "stream",
     "text": [
      "false\n",
      "40\n",
      "1\n",
      "-119915.7432219469\n",
      "4838.343227599582\n"
     ]
    },
    {
     "name": "stderr",
     "output_type": "stream",
     "text": [
      "\u001b[36m\u001b[1m[ \u001b[22m\u001b[39m\u001b[36m\u001b[1mInfo: \u001b[22m\u001b[39m         199.9757989s: 3 minutes, 19 seconds, 975 milliseconds\n"
     ]
    },
    {
     "name": "stdout",
     "output_type": "stream",
     "text": [
      "-------------------------\n",
      "40K : 16\n",
      "[0, -1000, -100, -1200, -2000]\n"
     ]
    },
    {
     "name": "stderr",
     "output_type": "stream",
     "text": [
      "\u001b[36m\u001b[1m[ \u001b[22m\u001b[39m\u001b[36m\u001b[1mInfo: \u001b[22m\u001b[39m started timer at: 2024-04-02T03:39:59.333\n"
     ]
    },
    {
     "name": "stdout",
     "output_type": "stream",
     "text": [
      "false\n",
      "40\n",
      "1\n",
      "-123637.69288968878\n",
      "4929.369560462582\n"
     ]
    },
    {
     "name": "stderr",
     "output_type": "stream",
     "text": [
      "\u001b[36m\u001b[1m[ \u001b[22m\u001b[39m\u001b[36m\u001b[1mInfo: \u001b[22m\u001b[39m         196.1213946s: 3 minutes, 16 seconds, 121 milliseconds\n"
     ]
    },
    {
     "name": "stdout",
     "output_type": "stream",
     "text": [
      "-------------------------\n",
      "40K : 16\n",
      "[0, -1200, -100, -1200, -2000]\n"
     ]
    },
    {
     "name": "stderr",
     "output_type": "stream",
     "text": [
      "\u001b[36m\u001b[1m[ \u001b[22m\u001b[39m\u001b[36m\u001b[1mInfo: \u001b[22m\u001b[39m started timer at: 2024-04-02T03:43:15.476\n"
     ]
    },
    {
     "name": "stdout",
     "output_type": "stream",
     "text": [
      "false\n",
      "40\n",
      "1\n",
      "-127051.88271657143\n",
      "5237.8906645603565\n",
      "-------------------------\n",
      "40K : 16\n",
      "[0, -1400, -100, -1200, -2000]\n"
     ]
    },
    {
     "name": "stderr",
     "output_type": "stream",
     "text": [
      "\u001b[36m\u001b[1m[ \u001b[22m\u001b[39m\u001b[36m\u001b[1mInfo: \u001b[22m\u001b[39m         205.6054457s: 3 minutes, 25 seconds, 605 milliseconds\n",
      "\u001b[36m\u001b[1m[ \u001b[22m\u001b[39m\u001b[36m\u001b[1mInfo: \u001b[22m\u001b[39m started timer at: 2024-04-02T03:46:41.093\n"
     ]
    },
    {
     "name": "stdout",
     "output_type": "stream",
     "text": [
      "false\n",
      "40\n",
      "1\n",
      "-130635.5010264554\n",
      "5020.879069309174\n",
      "-------------------------\n",
      "40K : 16\n",
      "[0, -1600, -100, -1200, -2000]\n"
     ]
    },
    {
     "name": "stderr",
     "output_type": "stream",
     "text": [
      "\u001b[36m\u001b[1m[ \u001b[22m\u001b[39m\u001b[36m\u001b[1mInfo: \u001b[22m\u001b[39m         197.1074308s: 3 minutes, 17 seconds, 107 milliseconds\n",
      "\u001b[36m\u001b[1m[ \u001b[22m\u001b[39m\u001b[36m\u001b[1mInfo: \u001b[22m\u001b[39m started timer at: 2024-04-02T03:49:58.210\n"
     ]
    },
    {
     "name": "stdout",
     "output_type": "stream",
     "text": [
      "false\n",
      "40\n",
      "1\n",
      "-134134.830509994\n",
      "5037.772121252561\n"
     ]
    },
    {
     "name": "stderr",
     "output_type": "stream",
     "text": [
      "\u001b[36m\u001b[1m[ \u001b[22m\u001b[39m\u001b[36m\u001b[1mInfo: \u001b[22m\u001b[39m         196.9220613s: 3 minutes, 16 seconds, 922 milliseconds\n"
     ]
    },
    {
     "name": "stdout",
     "output_type": "stream",
     "text": [
      "-------------------------\n",
      "40K : 16\n",
      "[0, -1800, -100, -1200, -2000]\n"
     ]
    },
    {
     "name": "stderr",
     "output_type": "stream",
     "text": [
      "\u001b[36m\u001b[1m[ \u001b[22m\u001b[39m\u001b[36m\u001b[1mInfo: \u001b[22m\u001b[39m started timer at: 2024-04-02T03:53:15.165\n"
     ]
    },
    {
     "name": "stdout",
     "output_type": "stream",
     "text": [
      "false\n",
      "40\n",
      "1\n",
      "-137922.1955159786\n",
      "5087.593284779377\n"
     ]
    },
    {
     "name": "stderr",
     "output_type": "stream",
     "text": [
      "\u001b[36m\u001b[1m[ \u001b[22m\u001b[39m\u001b[36m\u001b[1mInfo: \u001b[22m\u001b[39m         199.9121689s: 3 minutes, 19 seconds, 912 milliseconds\n"
     ]
    },
    {
     "name": "stdout",
     "output_type": "stream",
     "text": [
      "-------------------------\n",
      "40K : 16\n",
      "[0, -2000, -100, -1200, -2000]\n"
     ]
    },
    {
     "name": "stderr",
     "output_type": "stream",
     "text": [
      "\u001b[36m\u001b[1m[ \u001b[22m\u001b[39m\u001b[36m\u001b[1mInfo: \u001b[22m\u001b[39m started timer at: 2024-04-02T03:56:35.098\n"
     ]
    },
    {
     "name": "stdout",
     "output_type": "stream",
     "text": [
      "false\n",
      "40\n",
      "1\n",
      "-141445.31276687092\n",
      "5071.385924674892\n",
      "-------------------------\n",
      "40K : 16\n",
      "[0, -2400, -100, -1200, -2000]\n"
     ]
    },
    {
     "name": "stderr",
     "output_type": "stream",
     "text": [
      "\u001b[36m\u001b[1m[ \u001b[22m\u001b[39m\u001b[36m\u001b[1mInfo: \u001b[22m\u001b[39m         195.7215157s: 3 minutes, 15 seconds, 721 milliseconds\n",
      "\u001b[36m\u001b[1m[ \u001b[22m\u001b[39m\u001b[36m\u001b[1mInfo: \u001b[22m\u001b[39m started timer at: 2024-04-02T03:59:50.831\n"
     ]
    },
    {
     "name": "stdout",
     "output_type": "stream",
     "text": [
      "false\n",
      "40\n",
      "1\n",
      "-148503.49453272155\n",
      "5439.4643519461315\n",
      "-------------------------\n"
     ]
    },
    {
     "name": "stderr",
     "output_type": "stream",
     "text": [
      "\u001b[36m\u001b[1m[ \u001b[22m\u001b[39m\u001b[36m\u001b[1mInfo: \u001b[22m\u001b[39m         203.7680658s: 3 minutes, 23 seconds, 768 milliseconds\n",
      "\u001b[36m\u001b[1m[ \u001b[22m\u001b[39m\u001b[36m\u001b[1mInfo: \u001b[22m\u001b[39m started timer at: 2024-04-02T04:03:14.620\n"
     ]
    },
    {
     "name": "stdout",
     "output_type": "stream",
     "text": [
      "40K : 16\n",
      "[0, -2800, -100, -1200, -2000]\n",
      "false\n",
      "40\n",
      "1\n",
      "-155671.88243194876\n",
      "5271.788688685383\n",
      "-------------------------\n",
      "40K : 16\n",
      "[0, -3200, -100, -1200, -2000]\n"
     ]
    },
    {
     "name": "stderr",
     "output_type": "stream",
     "text": [
      "\u001b[36m\u001b[1m[ \u001b[22m\u001b[39m\u001b[36m\u001b[1mInfo: \u001b[22m\u001b[39m         197.3852473s: 3 minutes, 17 seconds, 385 milliseconds\n",
      "\u001b[36m\u001b[1m[ \u001b[22m\u001b[39m\u001b[36m\u001b[1mInfo: \u001b[22m\u001b[39m started timer at: 2024-04-02T04:06:32.016\n"
     ]
    },
    {
     "name": "stdout",
     "output_type": "stream",
     "text": [
      "false\n",
      "40\n",
      "1\n",
      "-163000.9406614089\n",
      "5501.620065245593\n",
      "-------------------------\n",
      "40K : 18\n",
      "[0, -200, -100, -1200, -2000]\n"
     ]
    },
    {
     "name": "stderr",
     "output_type": "stream",
     "text": [
      "\u001b[36m\u001b[1m[ \u001b[22m\u001b[39m\u001b[36m\u001b[1mInfo: \u001b[22m\u001b[39m         195.9595048s: 3 minutes, 15 seconds, 959 milliseconds\n",
      "\u001b[36m\u001b[1m[ \u001b[22m\u001b[39m\u001b[36m\u001b[1mInfo: \u001b[22m\u001b[39m started timer at: 2024-04-02T04:09:47.986\n"
     ]
    },
    {
     "name": "stdout",
     "output_type": "stream",
     "text": [
      "false\n",
      "40\n",
      "1\n",
      "-108596.37914969861\n",
      "4756.186136494003\n",
      "-------------------------\n",
      "40K : 18\n",
      "[0, -400, -100, -1200, -2000]\n"
     ]
    },
    {
     "name": "stderr",
     "output_type": "stream",
     "text": [
      "\u001b[36m\u001b[1m[ \u001b[22m\u001b[39m\u001b[36m\u001b[1mInfo: \u001b[22m\u001b[39m         201.2405976s: 3 minutes, 21 seconds, 240 milliseconds\n",
      "\u001b[36m\u001b[1m[ \u001b[22m\u001b[39m\u001b[36m\u001b[1mInfo: \u001b[22m\u001b[39m started timer at: 2024-04-02T04:13:09.237\n"
     ]
    },
    {
     "name": "stdout",
     "output_type": "stream",
     "text": [
      "false\n",
      "40\n",
      "1\n",
      "-112268.56721644253\n",
      "4749.32403647352\n",
      "-------------------------\n",
      "40K : 18\n",
      "[0, -600, -100, -1200, -2000]\n"
     ]
    },
    {
     "name": "stderr",
     "output_type": "stream",
     "text": [
      "\u001b[36m\u001b[1m[ \u001b[22m\u001b[39m\u001b[36m\u001b[1mInfo: \u001b[22m\u001b[39m         195.7396491s: 3 minutes, 15 seconds, 739 milliseconds\n",
      "\u001b[36m\u001b[1m[ \u001b[22m\u001b[39m\u001b[36m\u001b[1mInfo: \u001b[22m\u001b[39m started timer at: 2024-04-02T04:16:25.008\n"
     ]
    },
    {
     "name": "stdout",
     "output_type": "stream",
     "text": [
      "false\n",
      "40\n",
      "1\n",
      "-115725.96023602824\n",
      "4762.088090132999\n",
      "-------------------------\n",
      "40K : 18\n",
      "[0, -800, -100, -1200, -2000]\n"
     ]
    },
    {
     "name": "stderr",
     "output_type": "stream",
     "text": [
      "\u001b[36m\u001b[1m[ \u001b[22m\u001b[39m\u001b[36m\u001b[1mInfo: \u001b[22m\u001b[39m         202.0295591s: 3 minutes, 22 seconds, 29 milliseconds\n",
      "\u001b[36m\u001b[1m[ \u001b[22m\u001b[39m\u001b[36m\u001b[1mInfo: \u001b[22m\u001b[39m started timer at: 2024-04-02T04:19:47.060\n"
     ]
    },
    {
     "name": "stdout",
     "output_type": "stream",
     "text": [
      "false\n",
      "40\n",
      "1\n",
      "-119295.80883429351\n",
      "4776.932356272933\n"
     ]
    },
    {
     "name": "stderr",
     "output_type": "stream",
     "text": [
      "\u001b[36m\u001b[1m[ \u001b[22m\u001b[39m\u001b[36m\u001b[1mInfo: \u001b[22m\u001b[39m         197.5193896s: 3 minutes, 17 seconds, 519 milliseconds\n"
     ]
    },
    {
     "name": "stdout",
     "output_type": "stream",
     "text": [
      "-------------------------\n",
      "40K : 18\n",
      "[0, -1000, -100, -1200, -2000]\n"
     ]
    },
    {
     "name": "stderr",
     "output_type": "stream",
     "text": [
      "\u001b[36m\u001b[1m[ \u001b[22m\u001b[39m\u001b[36m\u001b[1mInfo: \u001b[22m\u001b[39m started timer at: 2024-04-02T04:23:04.600\n"
     ]
    },
    {
     "name": "stdout",
     "output_type": "stream",
     "text": [
      "false\n",
      "40\n",
      "1\n",
      "-122967.66090139473\n",
      "4773.387772732998\n",
      "-------------------------\n",
      "40K : 18\n",
      "[0, -1200, -100, -1200, -2000]\n"
     ]
    },
    {
     "name": "stderr",
     "output_type": "stream",
     "text": [
      "\u001b[36m\u001b[1m[ \u001b[22m\u001b[39m\u001b[36m\u001b[1mInfo: \u001b[22m\u001b[39m         196.0186598s: 3 minutes, 16 seconds, 18 milliseconds\n",
      "\u001b[36m\u001b[1m[ \u001b[22m\u001b[39m\u001b[36m\u001b[1mInfo: \u001b[22m\u001b[39m started timer at: 2024-04-02T04:26:20.640\n"
     ]
    },
    {
     "name": "stdout",
     "output_type": "stream",
     "text": [
      "false\n",
      "40\n",
      "1\n",
      "-126444.26007159043\n",
      "4923.011708826046\n",
      "-------------------------\n",
      "40K : 18\n",
      "[0, -1400, -100, -1200, -2000]\n"
     ]
    },
    {
     "name": "stderr",
     "output_type": "stream",
     "text": [
      "\u001b[36m\u001b[1m[ \u001b[22m\u001b[39m\u001b[36m\u001b[1mInfo: \u001b[22m\u001b[39m         203.3080702s: 3 minutes, 23 seconds, 308 milliseconds\n",
      "\u001b[36m\u001b[1m[ \u001b[22m\u001b[39m\u001b[36m\u001b[1mInfo: \u001b[22m\u001b[39m started timer at: 2024-04-02T04:29:43.981\n"
     ]
    },
    {
     "name": "stdout",
     "output_type": "stream",
     "text": [
      "false\n",
      "40\n",
      "1\n",
      "-130094.58168206504\n",
      "4852.883611717932\n",
      "-------------------------\n",
      "40K : 18\n",
      "[0, -1600, -100, -1200, -2000]\n"
     ]
    },
    {
     "name": "stderr",
     "output_type": "stream",
     "text": [
      "\u001b[36m\u001b[1m[ \u001b[22m\u001b[39m\u001b[36m\u001b[1mInfo: \u001b[22m\u001b[39m         195.8690939s: 3 minutes, 15 seconds, 869 milliseconds\n",
      "\u001b[36m\u001b[1m[ \u001b[22m\u001b[39m\u001b[36m\u001b[1mInfo: \u001b[22m\u001b[39m started timer at: 2024-04-02T04:32:59.860\n"
     ]
    },
    {
     "name": "stdout",
     "output_type": "stream",
     "text": [
      "false\n",
      "40\n",
      "1\n",
      "-133504.55766827188\n",
      "4999.397456673201\n",
      "-------------------------\n",
      "40K : 18\n",
      "[0, -1800, -100, -1200, -2000]\n"
     ]
    },
    {
     "name": "stderr",
     "output_type": "stream",
     "text": [
      "\u001b[36m\u001b[1m[ \u001b[22m\u001b[39m\u001b[36m\u001b[1mInfo: \u001b[22m\u001b[39m         199.2465033s: 3 minutes, 19 seconds, 246 milliseconds\n",
      "\u001b[36m\u001b[1m[ \u001b[22m\u001b[39m\u001b[36m\u001b[1mInfo: \u001b[22m\u001b[39m started timer at: 2024-04-02T04:36:19.117\n"
     ]
    },
    {
     "name": "stdout",
     "output_type": "stream",
     "text": [
      "false\n",
      "40\n",
      "1\n",
      "-137215.6095061797\n",
      "4874.861896163622\n",
      "-------------------------\n",
      "40K : 18\n",
      "[0, -2000, -100, -1200, -2000]\n"
     ]
    },
    {
     "name": "stderr",
     "output_type": "stream",
     "text": [
      "\u001b[36m\u001b[1m[ \u001b[22m\u001b[39m\u001b[36m\u001b[1mInfo: \u001b[22m\u001b[39m         198.2137574s: 3 minutes, 18 seconds, 213 milliseconds\n",
      "\u001b[36m\u001b[1m[ \u001b[22m\u001b[39m\u001b[36m\u001b[1mInfo: \u001b[22m\u001b[39m started timer at: 2024-04-02T04:39:37.341\n"
     ]
    },
    {
     "name": "stdout",
     "output_type": "stream",
     "text": [
      "false\n",
      "40\n",
      "1\n",
      "-140864.07836137724\n",
      "5111.782537016534\n"
     ]
    },
    {
     "name": "stderr",
     "output_type": "stream",
     "text": [
      "\u001b[36m\u001b[1m[ \u001b[22m\u001b[39m\u001b[36m\u001b[1mInfo: \u001b[22m\u001b[39m         196.4340319s: 3 minutes, 16 seconds, 434 milliseconds\n"
     ]
    },
    {
     "name": "stdout",
     "output_type": "stream",
     "text": [
      "-------------------------\n",
      "40K : 18\n",
      "[0, -2400, -100, -1200, -2000]\n"
     ]
    },
    {
     "name": "stderr",
     "output_type": "stream",
     "text": [
      "\u001b[36m\u001b[1m[ \u001b[22m\u001b[39m\u001b[36m\u001b[1mInfo: \u001b[22m\u001b[39m started timer at: 2024-04-02T04:42:53.796\n"
     ]
    },
    {
     "name": "stdout",
     "output_type": "stream",
     "text": [
      "false\n",
      "40\n",
      "1\n",
      "-147943.4595463955\n",
      "5275.552844932797\n",
      "-------------------------\n",
      "40K : 18\n",
      "[0, -2800, -100, -1200, -2000]\n"
     ]
    },
    {
     "name": "stderr",
     "output_type": "stream",
     "text": [
      "\u001b[36m\u001b[1m[ \u001b[22m\u001b[39m\u001b[36m\u001b[1mInfo: \u001b[22m\u001b[39m         204.2972895s: 3 minutes, 24 seconds, 297 milliseconds\n",
      "\u001b[36m\u001b[1m[ \u001b[22m\u001b[39m\u001b[36m\u001b[1mInfo: \u001b[22m\u001b[39m started timer at: 2024-04-02T04:46:18.093\n"
     ]
    },
    {
     "name": "stdout",
     "output_type": "stream",
     "text": [
      "false\n",
      "40\n",
      "1\n",
      "-154970.62133550007\n",
      "5231.110998291235\n"
     ]
    },
    {
     "name": "stderr",
     "output_type": "stream",
     "text": [
      "\u001b[36m\u001b[1m[ \u001b[22m\u001b[39m\u001b[36m\u001b[1mInfo: \u001b[22m\u001b[39m         196.2583318s: 3 minutes, 16 seconds, 258 milliseconds\n"
     ]
    },
    {
     "name": "stdout",
     "output_type": "stream",
     "text": [
      "-------------------------\n",
      "40K : 18\n",
      "[0, -3200, -100, -1200, -2000]\n"
     ]
    },
    {
     "name": "stderr",
     "output_type": "stream",
     "text": [
      "\u001b[36m\u001b[1m[ \u001b[22m\u001b[39m\u001b[36m\u001b[1mInfo: \u001b[22m\u001b[39m started timer at: 2024-04-02T04:49:34.373\n"
     ]
    },
    {
     "name": "stdout",
     "output_type": "stream",
     "text": [
      "false\n",
      "40\n",
      "1\n",
      "-162215.3674056922\n",
      "5360.287815082062\n",
      "-------------------------\n",
      "40K : 20\n",
      "[0, -200, -100, -1200, -2000]\n"
     ]
    },
    {
     "name": "stderr",
     "output_type": "stream",
     "text": [
      "\u001b[36m\u001b[1m[ \u001b[22m\u001b[39m\u001b[36m\u001b[1mInfo: \u001b[22m\u001b[39m         197.8043205s: 3 minutes, 17 seconds, 804 milliseconds\n",
      "\u001b[36m\u001b[1m[ \u001b[22m\u001b[39m\u001b[36m\u001b[1mInfo: \u001b[22m\u001b[39m started timer at: 2024-04-02T04:52:52.199\n"
     ]
    },
    {
     "name": "stdout",
     "output_type": "stream",
     "text": [
      "false\n",
      "40\n",
      "1\n",
      "-108208.6056810697\n",
      "4601.974697954735\n",
      "-------------------------\n",
      "40K : 20\n",
      "[0, -400, -100, -1200, -2000]\n"
     ]
    },
    {
     "name": "stderr",
     "output_type": "stream",
     "text": [
      "\u001b[36m\u001b[1m[ \u001b[22m\u001b[39m\u001b[36m\u001b[1mInfo: \u001b[22m\u001b[39m         198.8879637s: 3 minutes, 18 seconds, 887 milliseconds\n",
      "\u001b[36m\u001b[1m[ \u001b[22m\u001b[39m\u001b[36m\u001b[1mInfo: \u001b[22m\u001b[39m started timer at: 2024-04-02T04:56:11.098\n"
     ]
    },
    {
     "name": "stdout",
     "output_type": "stream",
     "text": [
      "false\n",
      "40\n",
      "1\n",
      "-111739.49977059427\n",
      "4517.895677642926\n",
      "-------------------------\n",
      "40K : 20\n",
      "[0, -600, -100, -1200, -2000]\n"
     ]
    },
    {
     "name": "stderr",
     "output_type": "stream",
     "text": [
      "\u001b[36m\u001b[1m[ \u001b[22m\u001b[39m\u001b[36m\u001b[1mInfo: \u001b[22m\u001b[39m         195.4847795s: 3 minutes, 15 seconds, 484 milliseconds\n",
      "\u001b[36m\u001b[1m[ \u001b[22m\u001b[39m\u001b[36m\u001b[1mInfo: \u001b[22m\u001b[39m started timer at: 2024-04-02T04:59:26.593\n"
     ]
    },
    {
     "name": "stdout",
     "output_type": "stream",
     "text": [
      "false\n",
      "40\n",
      "1\n",
      "-115308.29449405556\n",
      "4743.145159871816\n",
      "-------------------------\n",
      "40K : 20\n",
      "[0, -800, -100, -1200, -2000]\n"
     ]
    },
    {
     "name": "stderr",
     "output_type": "stream",
     "text": [
      "\u001b[36m\u001b[1m[ \u001b[22m\u001b[39m\u001b[36m\u001b[1mInfo: \u001b[22m\u001b[39m         205.5145557s: 3 minutes, 25 seconds, 514 milliseconds\n",
      "\u001b[36m\u001b[1m[ \u001b[22m\u001b[39m\u001b[36m\u001b[1mInfo: \u001b[22m\u001b[39m started timer at: 2024-04-02T05:02:52.118\n"
     ]
    },
    {
     "name": "stdout",
     "output_type": "stream",
     "text": [
      "false\n",
      "40\n",
      "1\n",
      "-118850.98146393898\n",
      "4705.210169772527\n",
      "-------------------------\n",
      "40K : 20\n",
      "[0, -1000, -100, -1200, -2000]\n"
     ]
    },
    {
     "name": "stderr",
     "output_type": "stream",
     "text": [
      "\u001b[36m\u001b[1m[ \u001b[22m\u001b[39m\u001b[36m\u001b[1mInfo: \u001b[22m\u001b[39m         195.8738637s: 3 minutes, 15 seconds, 873 milliseconds\n",
      "\u001b[36m\u001b[1m[ \u001b[22m\u001b[39m\u001b[36m\u001b[1mInfo: \u001b[22m\u001b[39m started timer at: 2024-04-02T05:06:07.992\n"
     ]
    },
    {
     "name": "stdout",
     "output_type": "stream",
     "text": [
      "false\n",
      "40\n",
      "1\n",
      "-122445.64178144469\n",
      "4734.260632778844\n",
      "-------------------------\n",
      "40K : 20\n",
      "[0, -1200, -100, -1200, -2000]\n"
     ]
    },
    {
     "name": "stderr",
     "output_type": "stream",
     "text": [
      "\u001b[36m\u001b[1m[ \u001b[22m\u001b[39m\u001b[36m\u001b[1mInfo: \u001b[22m\u001b[39m         196.0684209s: 3 minutes, 16 seconds, 68 milliseconds\n",
      "\u001b[36m\u001b[1m[ \u001b[22m\u001b[39m\u001b[36m\u001b[1mInfo: \u001b[22m\u001b[39m started timer at: 2024-04-02T05:09:24.060\n"
     ]
    },
    {
     "name": "stdout",
     "output_type": "stream",
     "text": [
      "false\n",
      "40\n",
      "1\n",
      "-126012.08019301938\n",
      "4780.689269833217\n",
      "-------------------------\n"
     ]
    },
    {
     "name": "stderr",
     "output_type": "stream",
     "text": [
      "\u001b[36m\u001b[1m[ \u001b[22m\u001b[39m\u001b[36m\u001b[1mInfo: \u001b[22m\u001b[39m         199.5752362s: 3 minutes, 19 seconds, 575 milliseconds\n",
      "\u001b[36m\u001b[1m[ \u001b[22m\u001b[39m\u001b[36m\u001b[1mInfo: \u001b[22m\u001b[39m started timer at: 2024-04-02T05:12:43.646\n"
     ]
    },
    {
     "name": "stdout",
     "output_type": "stream",
     "text": [
      "40K : 20\n",
      "[0, -1400, -100, -1200, -2000]\n",
      "false\n",
      "40\n",
      "1\n",
      "-129571.05053673135\n",
      "4764.256048139931\n",
      "-------------------------\n",
      "40K : 20\n",
      "[0, -1600, -100, -1200, -2000]\n"
     ]
    },
    {
     "name": "stderr",
     "output_type": "stream",
     "text": [
      "\u001b[36m\u001b[1m[ \u001b[22m\u001b[39m\u001b[36m\u001b[1mInfo: \u001b[22m\u001b[39m         195.9248743s: 3 minutes, 15 seconds, 924 milliseconds\n",
      "\u001b[36m\u001b[1m[ \u001b[22m\u001b[39m\u001b[36m\u001b[1mInfo: \u001b[22m\u001b[39m started timer at: 2024-04-02T05:15:59.582\n"
     ]
    },
    {
     "name": "stdout",
     "output_type": "stream",
     "text": [
      "false\n",
      "40\n",
      "1\n",
      "-133222.46966363685\n",
      "4889.442304374489\n",
      "-------------------------\n",
      "40K : "
     ]
    },
    {
     "name": "stderr",
     "output_type": "stream",
     "text": [
      "\u001b[36m\u001b[1m[ \u001b[22m\u001b[39m\u001b[36m\u001b[1mInfo: \u001b[22m\u001b[39m         205.4742631s: 3 minutes, 25 seconds, 474 milliseconds\n",
      "\u001b[36m\u001b[1m[ \u001b[22m\u001b[39m\u001b[36m\u001b[1mInfo: \u001b[22m\u001b[39m started timer at: 2024-04-02T05:19:25.066\n"
     ]
    },
    {
     "name": "stdout",
     "output_type": "stream",
     "text": [
      "20\n",
      "[0, -1800, -100, -1200, -2000]\n",
      "false\n",
      "40\n",
      "1\n",
      "-136717.47763783613\n",
      "4876.0141160584\n"
     ]
    },
    {
     "name": "stderr",
     "output_type": "stream",
     "text": [
      "\u001b[36m\u001b[1m[ \u001b[22m\u001b[39m\u001b[36m\u001b[1mInfo: \u001b[22m\u001b[39m          198.546877s: 3 minutes, 18 seconds, 546 milliseconds\n"
     ]
    },
    {
     "name": "stdout",
     "output_type": "stream",
     "text": [
      "-------------------------\n",
      "40K : 20\n",
      "[0, -2000, -100, -1200, -2000]\n"
     ]
    },
    {
     "name": "stderr",
     "output_type": "stream",
     "text": [
      "\u001b[36m\u001b[1m[ \u001b[22m\u001b[39m\u001b[36m\u001b[1mInfo: \u001b[22m\u001b[39m started timer at: 2024-04-02T05:22:43.635\n"
     ]
    },
    {
     "name": "stdout",
     "output_type": "stream",
     "text": [
      "false\n",
      "40\n",
      "1\n",
      "-140400.70862859307\n",
      "4882.013845569421\n",
      "-------------------------\n",
      "40K : 20\n",
      "[0, -2400, -100, -1200, -2000]\n"
     ]
    },
    {
     "name": "stderr",
     "output_type": "stream",
     "text": [
      "\u001b[36m\u001b[1m[ \u001b[22m\u001b[39m\u001b[36m\u001b[1mInfo: \u001b[22m\u001b[39m           195.93054s: 3 minutes, 15 seconds, 930 milliseconds\n",
      "\u001b[36m\u001b[1m[ \u001b[22m\u001b[39m\u001b[36m\u001b[1mInfo: \u001b[22m\u001b[39m started timer at: 2024-04-02T05:25:59.587\n"
     ]
    },
    {
     "name": "stdout",
     "output_type": "stream",
     "text": [
      "false\n",
      "40\n",
      "1\n",
      "-147508.4253398393\n",
      "5013.934029405981\n",
      "-------------------------\n",
      "40K : 20\n",
      "[0, -2800, -100, -1200, -2000]\n"
     ]
    },
    {
     "name": "stderr",
     "output_type": "stream",
     "text": [
      "\u001b[36m\u001b[1m[ \u001b[22m\u001b[39m\u001b[36m\u001b[1mInfo: \u001b[22m\u001b[39m         200.1320861s: 3 minutes, 20 seconds, 132 milliseconds\n",
      "\u001b[36m\u001b[1m[ \u001b[22m\u001b[39m\u001b[36m\u001b[1mInfo: \u001b[22m\u001b[39m started timer at: 2024-04-02T05:29:19.730\n"
     ]
    },
    {
     "name": "stdout",
     "output_type": "stream",
     "text": [
      "false\n",
      "40\n",
      "1\n",
      "-154576.35916032287\n",
      "5197.176118328589\n"
     ]
    },
    {
     "name": "stderr",
     "output_type": "stream",
     "text": [
      "\u001b[36m\u001b[1m[ \u001b[22m\u001b[39m\u001b[36m\u001b[1mInfo: \u001b[22m\u001b[39m          196.336516s: 3 minutes, 16 seconds, 336 milliseconds\n"
     ]
    },
    {
     "name": "stdout",
     "output_type": "stream",
     "text": [
      "-------------------------\n",
      "40K : 20\n",
      "[0, -3200, -100, -1200, -2000]\n"
     ]
    },
    {
     "name": "stderr",
     "output_type": "stream",
     "text": [
      "\u001b[36m\u001b[1m[ \u001b[22m\u001b[39m\u001b[36m\u001b[1mInfo: \u001b[22m\u001b[39m started timer at: 2024-04-02T05:32:36.088\n"
     ]
    },
    {
     "name": "stdout",
     "output_type": "stream",
     "text": [
      "false\n",
      "40\n",
      "1\n",
      "-161707.52381755193\n",
      "5364.49696904772\n",
      "-------------------------\n",
      "30K : 2\n",
      "[0, -200, -100, -1200, -2000]\n"
     ]
    },
    {
     "name": "stderr",
     "output_type": "stream",
     "text": [
      "\u001b[36m\u001b[1m[ \u001b[22m\u001b[39m\u001b[36m\u001b[1mInfo: \u001b[22m\u001b[39m         203.4046489s: 3 minutes, 23 seconds, 404 milliseconds\n",
      "\u001b[36m\u001b[1m[ \u001b[22m\u001b[39m\u001b[36m\u001b[1mInfo: \u001b[22m\u001b[39m started timer at: 2024-04-02T05:35:59.492\n"
     ]
    },
    {
     "name": "stdout",
     "output_type": "stream",
     "text": [
      "false\n",
      "30\n",
      "1\n",
      "-112718.18648893294\n",
      "5410.851971025097\n",
      "-------------------------\n",
      "30K : 2\n",
      "[0, -400, -100, -1200, -2000]\n"
     ]
    },
    {
     "name": "stderr",
     "output_type": "stream",
     "text": [
      "\u001b[36m\u001b[1m[ \u001b[22m\u001b[39m\u001b[36m\u001b[1mInfo: \u001b[22m\u001b[39m         152.3082082s: 2 minutes, 32 seconds, 308 milliseconds\n",
      "\u001b[36m\u001b[1m[ \u001b[22m\u001b[39m\u001b[36m\u001b[1mInfo: \u001b[22m\u001b[39m started timer at: 2024-04-02T05:38:31.822\n"
     ]
    },
    {
     "name": "stdout",
     "output_type": "stream",
     "text": [
      "false\n",
      "30\n",
      "1\n",
      "-116272.33267406779\n",
      "5576.27113463775\n",
      "-------------------------\n"
     ]
    },
    {
     "name": "stderr",
     "output_type": "stream",
     "text": [
      "\u001b[36m\u001b[1m[ \u001b[22m\u001b[39m\u001b[36m\u001b[1mInfo: \u001b[22m\u001b[39m         157.1295408s: 2 minutes, 37 seconds, 129 milliseconds\n",
      "\u001b[36m\u001b[1m[ \u001b[22m\u001b[39m\u001b[36m\u001b[1mInfo: \u001b[22m\u001b[39m started timer at: 2024-04-02T05:41:08.962\n"
     ]
    },
    {
     "name": "stdout",
     "output_type": "stream",
     "text": [
      "30K : 2\n",
      "[0, -600, -100, -1200, -2000]\n",
      "false\n",
      "30\n",
      "1\n",
      "-119747.62541958074\n",
      "5525.502388662968\n",
      "-------------------------\n",
      "30K : 2\n",
      "[0, -800, -100, -1200, -2000]\n"
     ]
    },
    {
     "name": "stderr",
     "output_type": "stream",
     "text": [
      "\u001b[36m\u001b[1m[ \u001b[22m\u001b[39m\u001b[36m\u001b[1mInfo: \u001b[22m\u001b[39m          147.004337s: 2 minutes, 27 seconds, 4 milliseconds\n",
      "\u001b[36m\u001b[1m[ \u001b[22m\u001b[39m\u001b[36m\u001b[1mInfo: \u001b[22m\u001b[39m started timer at: 2024-04-02T05:43:35.977\n"
     ]
    },
    {
     "name": "stdout",
     "output_type": "stream",
     "text": [
      "false\n",
      "30\n",
      "1\n",
      "-123347.49971857242\n",
      "5631.888728485497\n",
      "-------------------------\n",
      "30K : 2\n",
      "[0, -1000, -100, -1200, -2000]\n"
     ]
    },
    {
     "name": "stderr",
     "output_type": "stream",
     "text": [
      "\u001b[36m\u001b[1m[ \u001b[22m\u001b[39m\u001b[36m\u001b[1mInfo: \u001b[22m\u001b[39m         152.2652225s: 2 minutes, 32 seconds, 265 milliseconds\n",
      "\u001b[36m\u001b[1m[ \u001b[22m\u001b[39m\u001b[36m\u001b[1mInfo: \u001b[22m\u001b[39m started timer at: 2024-04-02T05:46:08.253\n"
     ]
    },
    {
     "name": "stdout",
     "output_type": "stream",
     "text": [
      "false\n",
      "30\n",
      "1\n",
      "-126910.16683489185\n",
      "5577.299980430131\n",
      "-------------------------\n",
      "30K : 2\n"
     ]
    },
    {
     "name": "stderr",
     "output_type": "stream",
     "text": [
      "\u001b[36m\u001b[1m[ \u001b[22m\u001b[39m\u001b[36m\u001b[1mInfo: \u001b[22m\u001b[39m         147.1347437s: 2 minutes, 27 seconds, 134 milliseconds\n",
      "\u001b[36m\u001b[1m[ \u001b[22m\u001b[39m\u001b[36m\u001b[1mInfo: \u001b[22m\u001b[39m started timer at: 2024-04-02T05:48:35.408\n"
     ]
    },
    {
     "name": "stdout",
     "output_type": "stream",
     "text": [
      "[0, -1200, -100, -1200, -2000]\n",
      "false\n",
      "30\n",
      "1\n",
      "-130246.65750593899\n",
      "5546.212528869019\n",
      "-------------------------\n",
      "30K : 2\n",
      "[0, -1400, -100, -1200, -2000]\n"
     ]
    },
    {
     "name": "stderr",
     "output_type": "stream",
     "text": [
      "\u001b[36m\u001b[1m[ \u001b[22m\u001b[39m\u001b[36m\u001b[1mInfo: \u001b[22m\u001b[39m         147.5724784s: 2 minutes, 27 seconds, 572 milliseconds\n",
      "\u001b[36m\u001b[1m[ \u001b[22m\u001b[39m\u001b[36m\u001b[1mInfo: \u001b[22m\u001b[39m started timer at: 2024-04-02T05:51:03.002\n"
     ]
    },
    {
     "name": "stdout",
     "output_type": "stream",
     "text": [
      "false\n",
      "30\n",
      "1\n",
      "-133870.61785735827\n",
      "6141.160211224502\n",
      "-------------------------\n",
      "30K : 2\n",
      "[0, -1600, -100, -1200, -2000]\n"
     ]
    },
    {
     "name": "stderr",
     "output_type": "stream",
     "text": [
      "\u001b[36m\u001b[1m[ \u001b[22m\u001b[39m\u001b[36m\u001b[1mInfo: \u001b[22m\u001b[39m         154.7594205s: 2 minutes, 34 seconds, 759 milliseconds\n",
      "\u001b[36m\u001b[1m[ \u001b[22m\u001b[39m\u001b[36m\u001b[1mInfo: \u001b[22m\u001b[39m started timer at: 2024-04-02T05:53:37.784\n"
     ]
    },
    {
     "name": "stdout",
     "output_type": "stream",
     "text": [
      "false\n",
      "30\n",
      "1\n",
      "-137378.85044154717\n",
      "5683.270121523091\n",
      "-------------------------"
     ]
    },
    {
     "name": "stderr",
     "output_type": "stream",
     "text": [
      "\u001b[36m\u001b[1m[ \u001b[22m\u001b[39m\u001b[36m\u001b[1mInfo: \u001b[22m\u001b[39m         147.2582768s: 2 minutes, 27 seconds, 258 milliseconds\n"
     ]
    },
    {
     "name": "stdout",
     "output_type": "stream",
     "text": [
      "\n",
      "30K : 2\n",
      "[0, -1800, -100, -1200, -2000]\n"
     ]
    },
    {
     "name": "stderr",
     "output_type": "stream",
     "text": [
      "\u001b[36m\u001b[1m[ \u001b[22m\u001b[39m\u001b[36m\u001b[1mInfo: \u001b[22m\u001b[39m started timer at: 2024-04-02T05:56:05.075\n"
     ]
    },
    {
     "name": "stdout",
     "output_type": "stream",
     "text": [
      "false\n",
      "30\n",
      "1\n",
      "-140918.42943572436\n",
      "5748.786855454088\n",
      "-------------------------\n",
      "30K : 2\n",
      "[0, -2000, -100, -1200, -2000]\n"
     ]
    },
    {
     "name": "stderr",
     "output_type": "stream",
     "text": [
      "\u001b[36m\u001b[1m[ \u001b[22m\u001b[39m\u001b[36m\u001b[1mInfo: \u001b[22m\u001b[39m         147.3920635s: 2 minutes, 27 seconds, 392 milliseconds\n",
      "\u001b[36m\u001b[1m[ \u001b[22m\u001b[39m\u001b[36m\u001b[1mInfo: \u001b[22m\u001b[39m started timer at: 2024-04-02T05:58:32.478\n"
     ]
    },
    {
     "name": "stdout",
     "output_type": "stream",
     "text": [
      "false\n",
      "30\n",
      "1\n",
      "-144454.6032070716\n",
      "6068.418364332385\n",
      "-------------------------\n",
      "30K : 2\n",
      "[0, -2400, -100, -1200, -2000]\n"
     ]
    },
    {
     "name": "stderr",
     "output_type": "stream",
     "text": [
      "\u001b[36m\u001b[1m[ \u001b[22m\u001b[39m\u001b[36m\u001b[1mInfo: \u001b[22m\u001b[39m         151.3243525s: 2 minutes, 31 seconds, 324 milliseconds\n",
      "\u001b[36m\u001b[1m[ \u001b[22m\u001b[39m\u001b[36m\u001b[1mInfo: \u001b[22m\u001b[39m started timer at: 2024-04-02T06:01:03.802\n"
     ]
    },
    {
     "name": "stdout",
     "output_type": "stream",
     "text": [
      "false\n",
      "30\n",
      "1\n",
      "-151537.67311170118\n",
      "5880.592043878483\n",
      "-------------------------\n"
     ]
    },
    {
     "name": "stderr",
     "output_type": "stream",
     "text": [
      "\u001b[36m\u001b[1m[ \u001b[22m\u001b[39m\u001b[36m\u001b[1mInfo: \u001b[22m\u001b[39m         149.4355672s: 2 minutes, 29 seconds, 435 milliseconds\n"
     ]
    },
    {
     "name": "stdout",
     "output_type": "stream",
     "text": [
      "30K : 2\n",
      "[0, -2800, -100, -1200, -2000]\n"
     ]
    },
    {
     "name": "stderr",
     "output_type": "stream",
     "text": [
      "\u001b[36m\u001b[1m[ \u001b[22m\u001b[39m\u001b[36m\u001b[1mInfo: \u001b[22m\u001b[39m started timer at: 2024-04-02T06:03:33.259\n"
     ]
    },
    {
     "name": "stdout",
     "output_type": "stream",
     "text": [
      "false\n",
      "30\n",
      "1\n",
      "-158581.7889093089\n",
      "6015.9402368178025\n"
     ]
    },
    {
     "name": "stderr",
     "output_type": "stream",
     "text": [
      "\u001b[36m\u001b[1m[ \u001b[22m\u001b[39m\u001b[36m\u001b[1mInfo: \u001b[22m\u001b[39m         147.2982545s: 2 minutes, 27 seconds, 298 milliseconds\n"
     ]
    },
    {
     "name": "stdout",
     "output_type": "stream",
     "text": [
      "-------------------------\n",
      "30K : 2\n",
      "[0, -3200, -100, -1200, -2000]\n"
     ]
    },
    {
     "name": "stderr",
     "output_type": "stream",
     "text": [
      "\u001b[36m\u001b[1m[ \u001b[22m\u001b[39m\u001b[36m\u001b[1mInfo: \u001b[22m\u001b[39m started timer at: 2024-04-02T06:06:00.579\n"
     ]
    },
    {
     "name": "stdout",
     "output_type": "stream",
     "text": [
      "false\n",
      "30\n",
      "1\n",
      "-165498.52998727147\n",
      "6262.6062046531915\n"
     ]
    },
    {
     "name": "stderr",
     "output_type": "stream",
     "text": [
      "\u001b[36m\u001b[1m[ \u001b[22m\u001b[39m\u001b[36m\u001b[1mInfo: \u001b[22m\u001b[39m         147.6152179s: 2 minutes, 27 seconds, 615 milliseconds\n"
     ]
    },
    {
     "name": "stdout",
     "output_type": "stream",
     "text": [
      "-------------------------\n",
      "30K : 4\n",
      "[0, -200, -100, -1200, -2000]\n"
     ]
    },
    {
     "name": "stderr",
     "output_type": "stream",
     "text": [
      "\u001b[36m\u001b[1m[ \u001b[22m\u001b[39m\u001b[36m\u001b[1mInfo: \u001b[22m\u001b[39m started timer at: 2024-04-02T06:08:28.216\n"
     ]
    },
    {
     "name": "stdout",
     "output_type": "stream",
     "text": [
      "false\n",
      "30\n",
      "1\n",
      "-103329.1342037294\n",
      "6409.972040067291\n",
      "-------------------------\n",
      "30K : 4\n",
      "[0, -400, -100, -1200, -2000]\n"
     ]
    },
    {
     "name": "stderr",
     "output_type": "stream",
     "text": [
      "\u001b[36m\u001b[1m[ \u001b[22m\u001b[39m\u001b[36m\u001b[1mInfo: \u001b[22m\u001b[39m         154.2293391s: 2 minutes, 34 seconds, 229 milliseconds\n",
      "\u001b[36m\u001b[1m[ \u001b[22m\u001b[39m\u001b[36m\u001b[1mInfo: \u001b[22m\u001b[39m started timer at: 2024-04-02T06:11:02.478\n"
     ]
    },
    {
     "name": "stdout",
     "output_type": "stream",
     "text": [
      "false\n",
      "30\n",
      "1\n",
      "-106856.66944476712\n",
      "5883.7260793265705\n",
      "-------------------------"
     ]
    },
    {
     "name": "stderr",
     "output_type": "stream",
     "text": [
      "\u001b[36m\u001b[1m[ \u001b[22m\u001b[39m\u001b[36m\u001b[1mInfo: \u001b[22m\u001b[39m         147.0550873s: 2 minutes, 27 seconds, 55 milliseconds\n"
     ]
    },
    {
     "name": "stdout",
     "output_type": "stream",
     "text": [
      "\n",
      "30K : 4\n",
      "[0, -600, -100, -1200, -2000]\n"
     ]
    },
    {
     "name": "stderr",
     "output_type": "stream",
     "text": [
      "\u001b[36m\u001b[1m[ \u001b[22m\u001b[39m\u001b[36m\u001b[1mInfo: \u001b[22m\u001b[39m started timer at: 2024-04-02T06:13:29.566\n"
     ]
    },
    {
     "name": "stdout",
     "output_type": "stream",
     "text": [
      "false\n",
      "30\n",
      "1\n",
      "-110469.31369095932\n",
      "5898.810832384096\n",
      "-------------------------\n",
      "30K : 4\n",
      "[0, -800, -100, -1200,"
     ]
    },
    {
     "name": "stderr",
     "output_type": "stream",
     "text": [
      "\u001b[36m\u001b[1m[ \u001b[22m\u001b[39m\u001b[36m\u001b[1mInfo: \u001b[22m\u001b[39m         146.9325966s: 2 minutes, 26 seconds, 932 milliseconds\n",
      "\u001b[36m\u001b[1m[ \u001b[22m\u001b[39m\u001b[36m\u001b[1mInfo: \u001b[22m\u001b[39m started timer at: 2024-04-02T06:15:56.509\n"
     ]
    },
    {
     "name": "stdout",
     "output_type": "stream",
     "text": [
      " -2000]\n",
      "false\n",
      "30\n",
      "1\n",
      "-113883.0391975599\n",
      "6615.144102432524\n",
      "-------------------------\n",
      "30K : 4\n",
      "[0, -1000, -100, -1200, -2000]\n"
     ]
    },
    {
     "name": "stderr",
     "output_type": "stream",
     "text": [
      "\u001b[36m\u001b[1m[ \u001b[22m\u001b[39m\u001b[36m\u001b[1mInfo: \u001b[22m\u001b[39m         154.9491017s: 2 minutes, 34 seconds, 949 milliseconds\n",
      "\u001b[36m\u001b[1m[ \u001b[22m\u001b[39m\u001b[36m\u001b[1mInfo: \u001b[22m\u001b[39m started timer at: 2024-04-02T06:18:31.479\n"
     ]
    },
    {
     "name": "stdout",
     "output_type": "stream",
     "text": [
      "false\n",
      "30\n",
      "1\n",
      "-117483.47630403827\n",
      "5955.194359514236\n",
      "-------------------------\n",
      "30K : 4\n",
      "[0, -1200, -100, -1200, -2000]\n"
     ]
    },
    {
     "name": "stderr",
     "output_type": "stream",
     "text": [
      "\u001b[36m\u001b[1m[ \u001b[22m\u001b[39m\u001b[36m\u001b[1mInfo: \u001b[22m\u001b[39m         148.0048057s: 2 minutes, 28 seconds, 4 milliseconds\n",
      "\u001b[36m\u001b[1m[ \u001b[22m\u001b[39m\u001b[36m\u001b[1mInfo: \u001b[22m\u001b[39m started timer at: 2024-04-02T06:20:59.495\n"
     ]
    },
    {
     "name": "stdout",
     "output_type": "stream",
     "text": [
      "false\n",
      "30\n",
      "1\n",
      "-120949.1754819966\n",
      "6078.516661764765\n",
      "-------------------------\n",
      "30K : 4\n",
      "[0, -1400, -100, -1200, -2000]\n"
     ]
    },
    {
     "name": "stderr",
     "output_type": "stream",
     "text": [
      "\u001b[36m\u001b[1m[ \u001b[22m\u001b[39m\u001b[36m\u001b[1mInfo: \u001b[22m\u001b[39m         147.4730534s: 2 minutes, 27 seconds, 473 milliseconds\n",
      "\u001b[36m\u001b[1m[ \u001b[22m\u001b[39m\u001b[36m\u001b[1mInfo: \u001b[22m\u001b[39m started timer at: 2024-04-02T06:23:26.990\n"
     ]
    },
    {
     "name": "stdout",
     "output_type": "stream",
     "text": [
      "false\n",
      "30\n",
      "1\n",
      "-124452.08904487242\n",
      "6196.369182608374\n",
      "-------------------------\n",
      "30K : 4\n",
      "[0, -1600, -100, -1200, -2000]\n"
     ]
    },
    {
     "name": "stderr",
     "output_type": "stream",
     "text": [
      "\u001b[36m\u001b[1m[ \u001b[22m\u001b[39m\u001b[36m\u001b[1mInfo: \u001b[22m\u001b[39m         148.9366149s: 2 minutes, 28 seconds, 936 milliseconds\n",
      "\u001b[36m\u001b[1m[ \u001b[22m\u001b[39m\u001b[36m\u001b[1mInfo: \u001b[22m\u001b[39m started timer at: 2024-04-02T06:25:55.948\n"
     ]
    },
    {
     "name": "stdout",
     "output_type": "stream",
     "text": [
      "false\n",
      "30\n",
      "1\n",
      "-128028.54174473674\n",
      "6143.062920358455\n",
      "-------------------------\n",
      "30K : 4\n",
      "[0, -1800, -100, -1200, -2000]\n"
     ]
    },
    {
     "name": "stderr",
     "output_type": "stream",
     "text": [
      "\u001b[36m\u001b[1m[ \u001b[22m\u001b[39m\u001b[36m\u001b[1mInfo: \u001b[22m\u001b[39m         149.5961969s: 2 minutes, 29 seconds, 596 milliseconds\n",
      "\u001b[36m\u001b[1m[ \u001b[22m\u001b[39m\u001b[36m\u001b[1mInfo: \u001b[22m\u001b[39m started timer at: 2024-04-02T06:28:25.565\n"
     ]
    },
    {
     "name": "stdout",
     "output_type": "stream",
     "text": [
      "false\n",
      "30\n",
      "1\n",
      "-131495.01228935292\n",
      "6122.370054648145\n",
      "-------------------------\n",
      "30K : 4\n",
      "[0, -2000, -100, -1200, -2000]\n"
     ]
    },
    {
     "name": "stderr",
     "output_type": "stream",
     "text": [
      "\u001b[36m\u001b[1m[ \u001b[22m\u001b[39m\u001b[36m\u001b[1mInfo: \u001b[22m\u001b[39m         147.4482607s: 2 minutes, 27 seconds, 448 milliseconds\n",
      "\u001b[36m\u001b[1m[ \u001b[22m\u001b[39m\u001b[36m\u001b[1mInfo: \u001b[22m\u001b[39m started timer at: 2024-04-02T06:30:53.024\n"
     ]
    },
    {
     "name": "stdout",
     "output_type": "stream",
     "text": [
      "false\n",
      "30\n",
      "1\n",
      "-135057.01575551074\n",
      "6163.608913211527\n",
      "-------------------------"
     ]
    },
    {
     "name": "stderr",
     "output_type": "stream",
     "text": [
      "\u001b[36m\u001b[1m[ \u001b[22m\u001b[39m\u001b[36m\u001b[1mInfo: \u001b[22m\u001b[39m         147.1639532s: 2 minutes, 27 seconds, 163 milliseconds\n"
     ]
    },
    {
     "name": "stdout",
     "output_type": "stream",
     "text": [
      "\n",
      "30K : 4\n",
      "[0, -2400, -100, -1200, -2000]\n"
     ]
    },
    {
     "name": "stderr",
     "output_type": "stream",
     "text": [
      "\u001b[36m\u001b[1m[ \u001b[22m\u001b[39m\u001b[36m\u001b[1mInfo: \u001b[22m\u001b[39m started timer at: 2024-04-02T06:33:20.199\n"
     ]
    },
    {
     "name": "stdout",
     "output_type": "stream",
     "text": [
      "false\n",
      "30\n",
      "1\n",
      "-142018.58178873788\n",
      "6982.672582000962\n",
      "-------------------------\n",
      "30K : 4\n",
      "[0, -2800, -100, -1200, -2000]\n"
     ]
    },
    {
     "name": "stderr",
     "output_type": "stream",
     "text": [
      "\u001b[36m\u001b[1m[ \u001b[22m\u001b[39m\u001b[36m\u001b[1mInfo: \u001b[22m\u001b[39m         155.5152334s: 2 minutes, 35 seconds, 515 milliseconds\n",
      "\u001b[36m\u001b[1m[ \u001b[22m\u001b[39m\u001b[36m\u001b[1mInfo: \u001b[22m\u001b[39m started timer at: 2024-04-02T06:35:55.724\n"
     ]
    },
    {
     "name": "stdout",
     "output_type": "stream",
     "text": [
      "false\n",
      "30\n",
      "1\n",
      "-149189.05801521472\n",
      "6380.324842019208\n",
      "-------------------------\n",
      "30K : 4\n",
      "[0, -3200, -100, -1200, -2000]\n"
     ]
    },
    {
     "name": "stderr",
     "output_type": "stream",
     "text": [
      "\u001b[36m\u001b[1m[ \u001b[22m\u001b[39m\u001b[36m\u001b[1mInfo: \u001b[22m\u001b[39m         147.4151195s: 2 minutes, 27 seconds, 415 milliseconds\n",
      "\u001b[36m\u001b[1m[ \u001b[22m\u001b[39m\u001b[36m\u001b[1mInfo: \u001b[22m\u001b[39m started timer at: 2024-04-02T06:38:23.172\n"
     ]
    },
    {
     "name": "stdout",
     "output_type": "stream",
     "text": [
      "false\n",
      "30\n",
      "1\n",
      "-156179.46998327845\n",
      "6438.763250893347\n",
      "-------------------------\n",
      "30K : 6\n",
      "[0, -200, -100, -1200, -2000]\n"
     ]
    },
    {
     "name": "stderr",
     "output_type": "stream",
     "text": [
      "\u001b[36m\u001b[1m[ \u001b[22m\u001b[39m\u001b[36m\u001b[1mInfo: \u001b[22m\u001b[39m         147.1578934s: 2 minutes, 27 seconds, 157 milliseconds\n",
      "\u001b[36m\u001b[1m[ \u001b[22m\u001b[39m\u001b[36m\u001b[1mInfo: \u001b[22m\u001b[39m started timer at: 2024-04-02T06:40:50.362\n"
     ]
    },
    {
     "name": "stdout",
     "output_type": "stream",
     "text": [
      "false\n",
      "30\n",
      "1\n",
      "-97236.87976691156\n",
      "6153.978489910399\n",
      "-------------------------\n",
      "30K : 6\n",
      "[0, -400, -100, -1200, -2000]\n"
     ]
    },
    {
     "name": "stderr",
     "output_type": "stream",
     "text": [
      "\u001b[36m\u001b[1m[ \u001b[22m\u001b[39m\u001b[36m\u001b[1mInfo: \u001b[22m\u001b[39m         153.1725267s: 2 minutes, 33 seconds, 172 milliseconds\n",
      "\u001b[36m\u001b[1m[ \u001b[22m\u001b[39m\u001b[36m\u001b[1mInfo: \u001b[22m\u001b[39m started timer at: 2024-04-02T06:43:23.556\n"
     ]
    },
    {
     "name": "stdout",
     "output_type": "stream",
     "text": [
      "false\n",
      "30\n",
      "1\n",
      "-100845.14635960123\n",
      "5698.597614257532\n",
      "-------------------------\n",
      "30K : 6\n",
      "[0, -600, -100, -1200, -2000]\n"
     ]
    },
    {
     "name": "stderr",
     "output_type": "stream",
     "text": [
      "\u001b[36m\u001b[1m[ \u001b[22m\u001b[39m\u001b[36m\u001b[1mInfo: \u001b[22m\u001b[39m          148.964311s: 2 minutes, 28 seconds, 964 milliseconds\n",
      "\u001b[36m\u001b[1m[ \u001b[22m\u001b[39m\u001b[36m\u001b[1mInfo: \u001b[22m\u001b[39m started timer at: 2024-04-02T06:45:52.542\n"
     ]
    },
    {
     "name": "stdout",
     "output_type": "stream",
     "text": [
      "false\n",
      "30\n",
      "1\n",
      "-104228.07246190985\n",
      "5718.3103208564025\n",
      "-------------------------\n",
      "30K : 6\n",
      "[0, -800, -100, -1200, -2000]\n"
     ]
    },
    {
     "name": "stderr",
     "output_type": "stream",
     "text": [
      "\u001b[36m\u001b[1m[ \u001b[22m\u001b[39m\u001b[36m\u001b[1mInfo: \u001b[22m\u001b[39m          147.286035s: 2 minutes, 27 seconds, 286 milliseconds\n",
      "\u001b[36m\u001b[1m[ \u001b[22m\u001b[39m\u001b[36m\u001b[1mInfo: \u001b[22m\u001b[39m started timer at: 2024-04-02T06:48:19.828\n"
     ]
    },
    {
     "name": "stdout",
     "output_type": "stream",
     "text": [
      "false\n",
      "30\n",
      "1\n",
      "-107779.33484749436\n",
      "5603.028010616237\n",
      "-------------------------\n",
      "30K : 6\n",
      "[0, -1000, -100, -1200, -2000]\n"
     ]
    },
    {
     "name": "stderr",
     "output_type": "stream",
     "text": [
      "\u001b[36m\u001b[1m[ \u001b[22m\u001b[39m\u001b[36m\u001b[1mInfo: \u001b[22m\u001b[39m         147.2667867s: 2 minutes, 27 seconds, 266 milliseconds\n",
      "\u001b[36m\u001b[1m[ \u001b[22m\u001b[39m\u001b[36m\u001b[1mInfo: \u001b[22m\u001b[39m started timer at: 2024-04-02T06:50:47.128\n"
     ]
    },
    {
     "name": "stdout",
     "output_type": "stream",
     "text": [
      "false\n",
      "30\n",
      "1\n",
      "-111215.23711139198\n",
      "6125.795309262813\n",
      "-------------------------\n",
      "30K : 6\n",
      "[0, -1200, -100, -1200, -2000]\n"
     ]
    },
    {
     "name": "stderr",
     "output_type": "stream",
     "text": [
      "\u001b[36m\u001b[1m[ \u001b[22m\u001b[39m\u001b[36m\u001b[1mInfo: \u001b[22m\u001b[39m         152.6458692s: 2 minutes, 32 seconds, 645 milliseconds\n",
      "\u001b[36m\u001b[1m[ \u001b[22m\u001b[39m\u001b[36m\u001b[1mInfo: \u001b[22m\u001b[39m started timer at: 2024-04-02T06:53:19.784\n"
     ]
    },
    {
     "name": "stdout",
     "output_type": "stream",
     "text": [
      "false\n",
      "30\n",
      "1\n",
      "-114774.01887229101\n",
      "5812.451212052889\n",
      "-------------------------\n",
      "30K : 6\n",
      "[0, -1400, -100, -1200, -2000]\n"
     ]
    },
    {
     "name": "stderr",
     "output_type": "stream",
     "text": [
      "\u001b[36m\u001b[1m[ \u001b[22m\u001b[39m\u001b[36m\u001b[1mInfo: \u001b[22m\u001b[39m         147.0744672s: 2 minutes, 27 seconds, 74 milliseconds\n",
      "\u001b[36m\u001b[1m[ \u001b[22m\u001b[39m\u001b[36m\u001b[1mInfo: \u001b[22m\u001b[39m started timer at: 2024-04-02T06:55:46.891\n"
     ]
    },
    {
     "name": "stdout",
     "output_type": "stream",
     "text": [
      "false\n",
      "30\n",
      "1\n",
      "-118405.66763272729\n",
      "5765.424341200503\n",
      "-------------------------\n",
      "30K : 6\n",
      "[0, -1600, -100, -1200, -2000]\n"
     ]
    },
    {
     "name": "stderr",
     "output_type": "stream",
     "text": [
      "\u001b[36m\u001b[1m[ \u001b[22m\u001b[39m\u001b[36m\u001b[1mInfo: \u001b[22m\u001b[39m         147.6416948s: 2 minutes, 27 seconds, 641 milliseconds\n",
      "\u001b[36m\u001b[1m[ \u001b[22m\u001b[39m\u001b[36m\u001b[1mInfo: \u001b[22m\u001b[39m started timer at: 2024-04-02T06:58:14.554\n"
     ]
    },
    {
     "name": "stdout",
     "output_type": "stream",
     "text": [
      "false\n",
      "30\n",
      "1\n",
      "-121692.50455843413\n",
      "6433.592241022983\n",
      "-------------------------\n",
      "30K : 6\n",
      "[0, -1800, -100, -1200, -2000]\n"
     ]
    },
    {
     "name": "stderr",
     "output_type": "stream",
     "text": [
      "\u001b[36m\u001b[1m[ \u001b[22m\u001b[39m\u001b[36m\u001b[1mInfo: \u001b[22m\u001b[39m          155.200387s: 2 minutes, 35 seconds, 200 milliseconds\n",
      "\u001b[36m\u001b[1m[ \u001b[22m\u001b[39m\u001b[36m\u001b[1mInfo: \u001b[22m\u001b[39m started timer at: 2024-04-02T07:00:49.765\n"
     ]
    },
    {
     "name": "stdout",
     "output_type": "stream",
     "text": [
      "false\n",
      "30\n",
      "1\n",
      "-125493.25789412303\n",
      "5882.192830735284\n",
      "-------------------------\n",
      "30K : 6\n",
      "[0, -2000, -100, -1200, -2000]\n"
     ]
    },
    {
     "name": "stderr",
     "output_type": "stream",
     "text": [
      "\u001b[36m\u001b[1m[ \u001b[22m\u001b[39m\u001b[36m\u001b[1mInfo: \u001b[22m\u001b[39m         150.1525231s: 2 minutes, 30 seconds, 152 milliseconds\n",
      "\u001b[36m\u001b[1m[ \u001b[22m\u001b[39m\u001b[36m\u001b[1mInfo: \u001b[22m\u001b[39m started timer at: 2024-04-02T07:03:19.927\n"
     ]
    },
    {
     "name": "stdout",
     "output_type": "stream",
     "text": [
      "false\n",
      "30\n",
      "1\n",
      "-128937.84286014283\n",
      "5929.991905095336\n",
      "-------------------------"
     ]
    },
    {
     "name": "stderr",
     "output_type": "stream",
     "text": [
      "\u001b[36m\u001b[1m[ \u001b[22m\u001b[39m\u001b[36m\u001b[1mInfo: \u001b[22m\u001b[39m         147.0940711s: 2 minutes, 27 seconds, 94 milliseconds\n"
     ]
    },
    {
     "name": "stdout",
     "output_type": "stream",
     "text": [
      "\n",
      "30K : 6\n",
      "[0, -2400, -100, -1200, -2000]\n"
     ]
    },
    {
     "name": "stderr",
     "output_type": "stream",
     "text": [
      "\u001b[36m\u001b[1m[ \u001b[22m\u001b[39m\u001b[36m\u001b[1mInfo: \u001b[22m\u001b[39m started timer at: 2024-04-02T07:05:47.043\n"
     ]
    },
    {
     "name": "stdout",
     "output_type": "stream",
     "text": [
      "false\n",
      "30\n",
      "1\n",
      "-135871.13371036676\n",
      "6269.849736522991\n",
      "-------------------------\n",
      "30K : 6\n",
      "[0, -2800, -100, -1200, -2000]\n"
     ]
    },
    {
     "name": "stderr",
     "output_type": "stream",
     "text": [
      "\u001b[36m\u001b[1m[ \u001b[22m\u001b[39m\u001b[36m\u001b[1mInfo: \u001b[22m\u001b[39m          150.248187s: 2 minutes, 30 seconds, 248 milliseconds\n",
      "\u001b[36m\u001b[1m[ \u001b[22m\u001b[39m\u001b[36m\u001b[1mInfo: \u001b[22m\u001b[39m started timer at: 2024-04-02T07:08:17.313\n"
     ]
    },
    {
     "name": "stdout",
     "output_type": "stream",
     "text": [
      "false\n",
      "30\n",
      "1\n",
      "-142946.00336363527\n",
      "6198.489632543792\n",
      "-------------------------\n",
      "30K : 6\n",
      "[0, -3200, -100, -1200, -2000]\n"
     ]
    },
    {
     "name": "stderr",
     "output_type": "stream",
     "text": [
      "\u001b[36m\u001b[1m[ \u001b[22m\u001b[39m\u001b[36m\u001b[1mInfo: \u001b[22m\u001b[39m         150.3786189s: 2 minutes, 30 seconds, 378 milliseconds\n",
      "\u001b[36m\u001b[1m[ \u001b[22m\u001b[39m\u001b[36m\u001b[1mInfo: \u001b[22m\u001b[39m started timer at: 2024-04-02T07:10:47.724\n"
     ]
    },
    {
     "name": "stdout",
     "output_type": "stream",
     "text": [
      "false\n",
      "30\n",
      "1\n",
      "-149937.40106428266\n",
      "6225.060227695023\n",
      "-------------------------\n",
      "30K : 8\n",
      "[0, -200, -100, -1200, -2000]\n"
     ]
    },
    {
     "name": "stderr",
     "output_type": "stream",
     "text": [
      "\u001b[36m\u001b[1m[ \u001b[22m\u001b[39m\u001b[36m\u001b[1mInfo: \u001b[22m\u001b[39m         147.5402399s: 2 minutes, 27 seconds, 540 milliseconds\n",
      "\u001b[36m\u001b[1m[ \u001b[22m\u001b[39m\u001b[36m\u001b[1mInfo: \u001b[22m\u001b[39m started timer at: 2024-04-02T07:13:15.297\n"
     ]
    },
    {
     "name": "stdout",
     "output_type": "stream",
     "text": [
      "false\n",
      "30\n",
      "1\n",
      "-93165.90944831446\n",
      "5141.711204536419\n",
      "-------------------------\n",
      "30K : 8\n",
      "[0, -400, -100, -1200, -2000]\n"
     ]
    },
    {
     "name": "stderr",
     "output_type": "stream",
     "text": [
      "\u001b[36m\u001b[1m[ \u001b[22m\u001b[39m\u001b[36m\u001b[1mInfo: \u001b[22m\u001b[39m         146.9534392s: 2 minutes, 26 seconds, 953 milliseconds\n",
      "\u001b[36m\u001b[1m[ \u001b[22m\u001b[39m\u001b[36m\u001b[1mInfo: \u001b[22m\u001b[39m started timer at: 2024-04-02T07:15:42.272\n"
     ]
    },
    {
     "name": "stdout",
     "output_type": "stream",
     "text": [
      "false\n",
      "30\n",
      "1\n",
      "-96767.87768857072\n",
      "5785.46652615633\n",
      "-------------------------\n",
      "30K : 8\n",
      "[0, -600, -100, -1200, -2000]\n"
     ]
    },
    {
     "name": "stderr",
     "output_type": "stream",
     "text": [
      "\u001b[36m\u001b[1m[ \u001b[22m\u001b[39m\u001b[36m\u001b[1mInfo: \u001b[22m\u001b[39m          155.876584s: 2 minutes, 35 seconds, 876 milliseconds\n",
      "\u001b[36m\u001b[1m[ \u001b[22m\u001b[39m\u001b[36m\u001b[1mInfo: \u001b[22m\u001b[39m started timer at: 2024-04-02T07:18:18.160\n"
     ]
    },
    {
     "name": "stdout",
     "output_type": "stream",
     "text": [
      "false\n",
      "30\n",
      "1\n",
      "-100310.26052045151\n",
      "5222.271782774023\n",
      "-------------------------\n",
      "30K : 8\n",
      "[0, -800, -100, -1200, -2000]\n"
     ]
    },
    {
     "name": "stderr",
     "output_type": "stream",
     "text": [
      "\u001b[36m\u001b[1m[ \u001b[22m\u001b[39m\u001b[36m\u001b[1mInfo: \u001b[22m\u001b[39m         147.1076988s: 2 minutes, 27 seconds, 107 milliseconds\n",
      "\u001b[36m\u001b[1m[ \u001b[22m\u001b[39m\u001b[36m\u001b[1mInfo: \u001b[22m\u001b[39m started timer at: 2024-04-02T07:20:45.289\n"
     ]
    },
    {
     "name": "stdout",
     "output_type": "stream",
     "text": [
      "false\n",
      "30\n",
      "1\n",
      "-103776.06186837549\n",
      "5245.535798127827\n",
      "-------------------------\n",
      "30K : 8\n",
      "[0, -1000, -100, -1200, -2000]\n"
     ]
    },
    {
     "name": "stderr",
     "output_type": "stream",
     "text": [
      "\u001b[36m\u001b[1m[ \u001b[22m\u001b[39m\u001b[36m\u001b[1mInfo: \u001b[22m\u001b[39m         147.2025889s: 2 minutes, 27 seconds, 202 milliseconds\n",
      "\u001b[36m\u001b[1m[ \u001b[22m\u001b[39m\u001b[36m\u001b[1mInfo: \u001b[22m\u001b[39m started timer at: 2024-04-02T07:23:12.514\n"
     ]
    },
    {
     "name": "stdout",
     "output_type": "stream",
     "text": [
      "false\n",
      "30\n",
      "1\n",
      "-107267.19870420489\n",
      "5725.350801151569\n",
      "-------------------------\n"
     ]
    },
    {
     "name": "stderr",
     "output_type": "stream",
     "text": [
      "\u001b[36m\u001b[1m[ \u001b[22m\u001b[39m\u001b[36m\u001b[1mInfo: \u001b[22m\u001b[39m         153.8130493s: 2 minutes, 33 seconds, 813 milliseconds\n"
     ]
    },
    {
     "name": "stdout",
     "output_type": "stream",
     "text": [
      "30K : 8\n",
      "[0, -1200, -100, -1200, -2000]\n"
     ]
    },
    {
     "name": "stderr",
     "output_type": "stream",
     "text": [
      "\u001b[36m\u001b[1m[ \u001b[22m\u001b[39m\u001b[36m\u001b[1mInfo: \u001b[22m\u001b[39m started timer at: 2024-04-02T07:25:46.326\n"
     ]
    },
    {
     "name": "stdout",
     "output_type": "stream",
     "text": [
      "false\n",
      "30\n",
      "1\n",
      "-110815.81185510149\n",
      "5382.144534801342\n",
      "-------------------------\n",
      "30K : 8\n",
      "[0, -1400, -100, -1200, -2000]\n"
     ]
    },
    {
     "name": "stderr",
     "output_type": "stream",
     "text": [
      "\u001b[36m\u001b[1m[ \u001b[22m\u001b[39m\u001b[36m\u001b[1mInfo: \u001b[22m\u001b[39m         148.3738599s: 2 minutes, 28 seconds, 373 milliseconds\n",
      "\u001b[36m\u001b[1m[ \u001b[22m\u001b[39m\u001b[36m\u001b[1mInfo: \u001b[22m\u001b[39m started timer at: 2024-04-02T07:28:14.722\n"
     ]
    },
    {
     "name": "stdout",
     "output_type": "stream",
     "text": [
      "false\n",
      "30\n",
      "1\n",
      "-114326.79179910145\n",
      "5423.674534943885\n"
     ]
    },
    {
     "name": "stderr",
     "output_type": "stream",
     "text": [
      "\u001b[36m\u001b[1m[ \u001b[22m\u001b[39m\u001b[36m\u001b[1mInfo: \u001b[22m\u001b[39m         147.7694852s: 2 minutes, 27 seconds, 769 milliseconds\n"
     ]
    },
    {
     "name": "stdout",
     "output_type": "stream",
     "text": [
      "-------------------------\n",
      "30K : 8\n",
      "[0, -1600, -100, -1200, -2000]\n"
     ]
    },
    {
     "name": "stderr",
     "output_type": "stream",
     "text": [
      "\u001b[36m\u001b[1m[ \u001b[22m\u001b[39m\u001b[36m\u001b[1mInfo: \u001b[22m\u001b[39m started timer at: 2024-04-02T07:30:42.513\n"
     ]
    },
    {
     "name": "stdout",
     "output_type": "stream",
     "text": [
      "false\n",
      "30\n",
      "1\n",
      "-117913.589225248\n",
      "5408.2837626411065\n",
      "-------------------------\n",
      "30K : 8\n",
      "[0, -1800, -100, -1200, -2000"
     ]
    },
    {
     "name": "stderr",
     "output_type": "stream",
     "text": [
      "\u001b[36m\u001b[1m[ \u001b[22m\u001b[39m\u001b[36m\u001b[1mInfo: \u001b[22m\u001b[39m          147.407114s: 2 minutes, 27 seconds, 407 milliseconds\n",
      "\u001b[36m\u001b[1m[ \u001b[22m\u001b[39m\u001b[36m\u001b[1mInfo: \u001b[22m\u001b[39m started timer at: 2024-04-02T07:33:09.942\n"
     ]
    },
    {
     "name": "stdout",
     "output_type": "stream",
     "text": [
      "]\n",
      "false\n",
      "30\n",
      "1\n",
      "-121431.80415522702\n",
      "5696.481012109184\n",
      "-------------------------"
     ]
    },
    {
     "name": "stderr",
     "output_type": "stream",
     "text": [
      "\u001b[36m\u001b[1m[ \u001b[22m\u001b[39m\u001b[36m\u001b[1mInfo: \u001b[22m\u001b[39m         152.4549884s: 2 minutes, 32 seconds, 454 milliseconds\n"
     ]
    },
    {
     "name": "stdout",
     "output_type": "stream",
     "text": [
      "\n",
      "30K : 8\n",
      "[0, -2000, -100, -1200, -2000]\n"
     ]
    },
    {
     "name": "stderr",
     "output_type": "stream",
     "text": [
      "\u001b[36m\u001b[1m[ \u001b[22m\u001b[39m\u001b[36m\u001b[1mInfo: \u001b[22m\u001b[39m started timer at: 2024-04-02T07:35:42.418\n"
     ]
    },
    {
     "name": "stdout",
     "output_type": "stream",
     "text": [
      "false\n",
      "30\n",
      "1\n",
      "-124983.9477121573\n",
      "5492.670493540264\n",
      "-------------------------\n",
      "30K : 8\n",
      "[0, -2400, -100, -1200, -2000]\n"
     ]
    },
    {
     "name": "stderr",
     "output_type": "stream",
     "text": [
      "\u001b[36m\u001b[1m[ \u001b[22m\u001b[39m\u001b[36m\u001b[1mInfo: \u001b[22m\u001b[39m         147.2056634s: 2 minutes, 27 seconds, 205 milliseconds\n",
      "\u001b[36m\u001b[1m[ \u001b[22m\u001b[39m\u001b[36m\u001b[1mInfo: \u001b[22m\u001b[39m started timer at: 2024-04-02T07:38:09.624\n"
     ]
    },
    {
     "name": "stdout",
     "output_type": "stream",
     "text": [
      "false\n",
      "30\n",
      "1\n",
      "-131975.25322947197\n",
      "5663.779885981627\n",
      "-------------------------\n",
      "30K : 8\n",
      "[0, -2800, -100, -1200, -2000]\n"
     ]
    },
    {
     "name": "stderr",
     "output_type": "stream",
     "text": [
      "\u001b[36m\u001b[1m[ \u001b[22m\u001b[39m\u001b[36m\u001b[1mInfo: \u001b[22m\u001b[39m         148.6944497s: 2 minutes, 28 seconds, 694 milliseconds\n",
      "\u001b[36m\u001b[1m[ \u001b[22m\u001b[39m\u001b[36m\u001b[1mInfo: \u001b[22m\u001b[39m started timer at: 2024-04-02T07:40:38.329\n"
     ]
    },
    {
     "name": "stdout",
     "output_type": "stream",
     "text": [
      "false\n",
      "30\n",
      "1\n",
      "-138894.90863619148\n",
      "6232.854289853672\n",
      "-------------------------"
     ]
    },
    {
     "name": "stderr",
     "output_type": "stream",
     "text": [
      "\u001b[36m\u001b[1m[ \u001b[22m\u001b[39m\u001b[36m\u001b[1mInfo: \u001b[22m\u001b[39m         155.3613059s: 2 minutes, 35 seconds, 361 milliseconds\n"
     ]
    },
    {
     "name": "stdout",
     "output_type": "stream",
     "text": [
      "\n",
      "30K : 8\n",
      "[0, -3200, -100, -1200, -2000]\n"
     ]
    },
    {
     "name": "stderr",
     "output_type": "stream",
     "text": [
      "\u001b[36m\u001b[1m[ \u001b[22m\u001b[39m\u001b[36m\u001b[1mInfo: \u001b[22m\u001b[39m started timer at: 2024-04-02T07:43:13.712\n"
     ]
    },
    {
     "name": "stdout",
     "output_type": "stream",
     "text": [
      "false\n",
      "30\n",
      "1\n",
      "-146060.9846712368\n",
      "5900.009652871352\n",
      "-------------------------\n"
     ]
    },
    {
     "name": "stderr",
     "output_type": "stream",
     "text": [
      "\u001b[36m\u001b[1m[ \u001b[22m\u001b[39m\u001b[36m\u001b[1mInfo: \u001b[22m\u001b[39m         147.8167575s: 2 minutes, 27 seconds, 816 milliseconds\n",
      "\u001b[36m\u001b[1m[ \u001b[22m\u001b[39m\u001b[36m\u001b[1mInfo: \u001b[22m\u001b[39m started timer at: 2024-04-02T07:45:41.561\n"
     ]
    },
    {
     "name": "stdout",
     "output_type": "stream",
     "text": [
      "30K : 10\n",
      "[0, -200, -100, -1200, -2000]\n",
      "false\n",
      "30\n",
      "1\n",
      "-90777.14350519293\n",
      "4736.0401942299795\n",
      "-------------------------\n",
      "30K : 10\n",
      "[0, -400, -100, -1200, -2000]\n"
     ]
    },
    {
     "name": "stderr",
     "output_type": "stream",
     "text": [
      "\u001b[36m\u001b[1m[ \u001b[22m\u001b[39m\u001b[36m\u001b[1mInfo: \u001b[22m\u001b[39m          147.722701s: 2 minutes, 27 seconds, 722 milliseconds\n",
      "\u001b[36m\u001b[1m[ \u001b[22m\u001b[39m\u001b[36m\u001b[1mInfo: \u001b[22m\u001b[39m started timer at: 2024-04-02T07:48:09.305\n"
     ]
    },
    {
     "name": "stdout",
     "output_type": "stream",
     "text": [
      "false\n",
      "30\n",
      "1\n",
      "-94181.34739552022\n",
      "5022.514236648258\n",
      "-------------------------\n",
      "30K : 10\n",
      "[0, -600, -100, -1200, -2000]\n"
     ]
    },
    {
     "name": "stderr",
     "output_type": "stream",
     "text": [
      "\u001b[36m\u001b[1m[ \u001b[22m\u001b[39m\u001b[36m\u001b[1mInfo: \u001b[22m\u001b[39m         150.6887967s: 2 minutes, 30 seconds, 688 milliseconds\n",
      "\u001b[36m\u001b[1m[ \u001b[22m\u001b[39m\u001b[36m\u001b[1mInfo: \u001b[22m\u001b[39m started timer at: 2024-04-02T07:50:40.026\n"
     ]
    },
    {
     "name": "stdout",
     "output_type": "stream",
     "text": [
      "false\n",
      "30\n",
      "1\n",
      "-97849.12396681361\n",
      "4861.640934581256\n",
      "-------------------------\n",
      "30K : 10\n",
      "[0, -800, -100, -1200, -2000]\n"
     ]
    },
    {
     "name": "stderr",
     "output_type": "stream",
     "text": [
      "\u001b[36m\u001b[1m[ \u001b[22m\u001b[39m\u001b[36m\u001b[1mInfo: \u001b[22m\u001b[39m         149.4519036s: 2 minutes, 29 seconds, 451 milliseconds\n",
      "\u001b[36m\u001b[1m[ \u001b[22m\u001b[39m\u001b[36m\u001b[1mInfo: \u001b[22m\u001b[39m started timer at: 2024-04-02T07:53:09.500\n"
     ]
    },
    {
     "name": "stdout",
     "output_type": "stream",
     "text": [
      "false\n",
      "30\n",
      "1\n",
      "-101311.314153121\n",
      "4872.8238413244835\n",
      "-------------------------\n",
      "30K : 10\n",
      "[0, -1000, -100, -1200, -2000]\n"
     ]
    },
    {
     "name": "stderr",
     "output_type": "stream",
     "text": [
      "\u001b[36m\u001b[1m[ \u001b[22m\u001b[39m\u001b[36m\u001b[1mInfo: \u001b[22m\u001b[39m         147.5697302s: 2 minutes, 27 seconds, 569 milliseconds\n",
      "\u001b[36m\u001b[1m[ \u001b[22m\u001b[39m\u001b[36m\u001b[1mInfo: \u001b[22m\u001b[39m started timer at: 2024-04-02T07:55:37.080\n"
     ]
    },
    {
     "name": "stdout",
     "output_type": "stream",
     "text": [
      "false\n",
      "30\n",
      "1\n",
      "-104853.33804318702\n",
      "4947.426109695261\n",
      "-------------------------\n",
      "30K : 10\n",
      "[0, -1200, -100, -1200, -2000]\n"
     ]
    },
    {
     "name": "stderr",
     "output_type": "stream",
     "text": [
      "\u001b[36m\u001b[1m[ \u001b[22m\u001b[39m\u001b[36m\u001b[1mInfo: \u001b[22m\u001b[39m          147.533192s: 2 minutes, 27 seconds, 533 milliseconds\n",
      "\u001b[36m\u001b[1m[ \u001b[22m\u001b[39m\u001b[36m\u001b[1mInfo: \u001b[22m\u001b[39m started timer at: 2024-04-02T07:58:04.624\n"
     ]
    },
    {
     "name": "stdout",
     "output_type": "stream",
     "text": [
      "false\n",
      "30\n",
      "1\n",
      "-108305.85831737537\n",
      "5316.128049005295\n",
      "-------------------------\n",
      "30K : 10\n",
      "[0, -1400, -100, -1200, -2000]\n"
     ]
    },
    {
     "name": "stderr",
     "output_type": "stream",
     "text": [
      "\u001b[36m\u001b[1m[ \u001b[22m\u001b[39m\u001b[36m\u001b[1mInfo: \u001b[22m\u001b[39m         154.3113704s: 2 minutes, 34 seconds, 311 milliseconds\n",
      "\u001b[36m\u001b[1m[ \u001b[22m\u001b[39m\u001b[36m\u001b[1mInfo: \u001b[22m\u001b[39m started timer at: 2024-04-02T08:00:38.946\n"
     ]
    },
    {
     "name": "stdout",
     "output_type": "stream",
     "text": [
      "false\n",
      "30\n",
      "1\n",
      "-111827.79565871437\n",
      "4991.355297482617\n",
      "-------------------------\n",
      "30"
     ]
    },
    {
     "name": "stderr",
     "output_type": "stream",
     "text": [
      "\u001b[36m\u001b[1m[ \u001b[22m\u001b[39m\u001b[36m\u001b[1mInfo: \u001b[22m\u001b[39m         149.7242718s: 2 minutes, 29 seconds, 724 milliseconds\n",
      "\u001b[36m\u001b[1m[ \u001b[22m\u001b[39m\u001b[36m\u001b[1mInfo: \u001b[22m\u001b[39m started timer at: 2024-04-02T08:03:08.682\n"
     ]
    },
    {
     "name": "stdout",
     "output_type": "stream",
     "text": [
      "K : 10\n",
      "[0, -1600, -100, -1200, -2000]\n",
      "false\n",
      "30\n",
      "1\n",
      "-115384.41004317932\n",
      "5052.300922580849\n",
      "-------------------------\n",
      "30K : 10\n",
      "[0, -1800, -100, -1200, -2000]\n"
     ]
    },
    {
     "name": "stderr",
     "output_type": "stream",
     "text": [
      "\u001b[36m\u001b[1m[ \u001b[22m\u001b[39m\u001b[36m\u001b[1mInfo: \u001b[22m\u001b[39m         147.7832793s: 2 minutes, 27 seconds, 783 milliseconds\n",
      "\u001b[36m\u001b[1m[ \u001b[22m\u001b[39m\u001b[36m\u001b[1mInfo: \u001b[22m\u001b[39m started timer at: 2024-04-02T08:05:36.497\n"
     ]
    },
    {
     "name": "stdout",
     "output_type": "stream",
     "text": [
      "false\n",
      "30\n",
      "1\n",
      "-118906.61159150985\n",
      "5582.399521152845\n",
      "-------------------------\n",
      "30K : 10\n",
      "[0, -2000, -100, -1200, -2000]\n"
     ]
    },
    {
     "name": "stderr",
     "output_type": "stream",
     "text": [
      "\u001b[36m\u001b[1m[ \u001b[22m\u001b[39m\u001b[36m\u001b[1mInfo: \u001b[22m\u001b[39m         154.2362519s: 2 minutes, 34 seconds, 236 milliseconds\n",
      "\u001b[36m\u001b[1m[ \u001b[22m\u001b[39m\u001b[36m\u001b[1mInfo: \u001b[22m\u001b[39m started timer at: 2024-04-02T08:08:10.744\n"
     ]
    },
    {
     "name": "stdout",
     "output_type": "stream",
     "text": [
      "false\n",
      "30\n",
      "1\n",
      "-122426.40564509192\n",
      "5122.715346385401\n",
      "-------------------------\n",
      "30K : 10\n",
      "[0, -2400, -100, -1200, -2000]\n"
     ]
    },
    {
     "name": "stderr",
     "output_type": "stream",
     "text": [
      "\u001b[36m\u001b[1m[ \u001b[22m\u001b[39m\u001b[36m\u001b[1mInfo: \u001b[22m\u001b[39m         148.6533004s: 2 minutes, 28 seconds, 653 milliseconds\n",
      "\u001b[36m\u001b[1m[ \u001b[22m\u001b[39m\u001b[36m\u001b[1mInfo: \u001b[22m\u001b[39m started timer at: 2024-04-02T08:10:39.408\n"
     ]
    },
    {
     "name": "stdout",
     "output_type": "stream",
     "text": [
      "false\n",
      "30\n",
      "1\n",
      "-129474.4356987814\n",
      "5293.889119495346\n",
      "-------------------------\n",
      "30K : 10\n",
      "[0, -2800, -100, -1200, -2000]\n"
     ]
    },
    {
     "name": "stderr",
     "output_type": "stream",
     "text": [
      "\u001b[36m\u001b[1m[ \u001b[22m\u001b[39m\u001b[36m\u001b[1mInfo: \u001b[22m\u001b[39m         147.0301939s: 2 minutes, 27 seconds, 30 milliseconds\n",
      "\u001b[36m\u001b[1m[ \u001b[22m\u001b[39m\u001b[36m\u001b[1mInfo: \u001b[22m\u001b[39m started timer at: 2024-04-02T08:13:06.449\n"
     ]
    },
    {
     "name": "stdout",
     "output_type": "stream",
     "text": [
      "false\n",
      "30\n",
      "1\n",
      "-136517.87411493875\n",
      "5419.920022254812\n",
      "-------------------------\n",
      "30K : 10\n",
      "[0, -3200, -100, -1200, -2000]\n"
     ]
    },
    {
     "name": "stderr",
     "output_type": "stream",
     "text": [
      "\u001b[36m\u001b[1m[ \u001b[22m\u001b[39m\u001b[36m\u001b[1mInfo: \u001b[22m\u001b[39m          147.688419s: 2 minutes, 27 seconds, 688 milliseconds\n",
      "\u001b[36m\u001b[1m[ \u001b[22m\u001b[39m\u001b[36m\u001b[1mInfo: \u001b[22m\u001b[39m started timer at: 2024-04-02T08:15:34.147\n"
     ]
    },
    {
     "name": "stdout",
     "output_type": "stream",
     "text": [
      "false\n",
      "30\n",
      "1\n",
      "-143521.27351612566\n",
      "5613.410904772627\n",
      "-------------------------\n",
      "30K : 12\n",
      "[0, -200, -100, -1200, -2000]\n"
     ]
    },
    {
     "name": "stderr",
     "output_type": "stream",
     "text": [
      "\u001b[36m\u001b[1m[ \u001b[22m\u001b[39m\u001b[36m\u001b[1mInfo: \u001b[22m\u001b[39m         151.9270668s: 2 minutes, 31 seconds, 927 milliseconds\n",
      "\u001b[36m\u001b[1m[ \u001b[22m\u001b[39m\u001b[36m\u001b[1mInfo: \u001b[22m\u001b[39m started timer at: 2024-04-02T08:18:06.085\n"
     ]
    },
    {
     "name": "stdout",
     "output_type": "stream",
     "text": [
      "false\n",
      "30\n",
      "1\n",
      "-89114.30158831138\n",
      "4425.204924577133\n",
      "-------------------------\n",
      "30K : 12\n",
      "[0, -400, -100, -1200, -2000]\n"
     ]
    },
    {
     "name": "stderr",
     "output_type": "stream",
     "text": [
      "\u001b[36m\u001b[1m[ \u001b[22m\u001b[39m\u001b[36m\u001b[1mInfo: \u001b[22m\u001b[39m         147.4015146s: 2 minutes, 27 seconds, 401 milliseconds\n",
      "\u001b[36m\u001b[1m[ \u001b[22m\u001b[39m\u001b[36m\u001b[1mInfo: \u001b[22m\u001b[39m started timer at: 2024-04-02T08:20:33.508\n"
     ]
    },
    {
     "name": "stdout",
     "output_type": "stream",
     "text": [
      "false\n",
      "30\n",
      "1\n",
      "-92648.13133527343\n",
      "4418.576611328495\n",
      "-------------------------\n",
      "30K : 12\n",
      "[0, -600, -100, -1200, -2000]\n"
     ]
    },
    {
     "name": "stderr",
     "output_type": "stream",
     "text": [
      "\u001b[36m\u001b[1m[ \u001b[22m\u001b[39m\u001b[36m\u001b[1mInfo: \u001b[22m\u001b[39m          147.508281s: 2 minutes, 27 seconds, 508 milliseconds\n",
      "\u001b[36m\u001b[1m[ \u001b[22m\u001b[39m\u001b[36m\u001b[1mInfo: \u001b[22m\u001b[39m started timer at: 2024-04-02T08:23:01.027\n"
     ]
    },
    {
     "name": "stdout",
     "output_type": "stream",
     "text": [
      "false\n",
      "30\n",
      "1\n",
      "-96088.06271625734\n",
      "4783.132452491282\n",
      "-------------------------\n",
      "30K : 12\n",
      "[0, -800, -100, -1200, -2000]\n"
     ]
    },
    {
     "name": "stderr",
     "output_type": "stream",
     "text": [
      "\u001b[36m\u001b[1m[ \u001b[22m\u001b[39m\u001b[36m\u001b[1mInfo: \u001b[22m\u001b[39m         155.5448879s: 2 minutes, 35 seconds, 544 milliseconds\n",
      "\u001b[36m\u001b[1m[ \u001b[22m\u001b[39m\u001b[36m\u001b[1mInfo: \u001b[22m\u001b[39m started timer at: 2024-04-02T08:25:36.594\n"
     ]
    },
    {
     "name": "stdout",
     "output_type": "stream",
     "text": [
      "false\n",
      "30\n",
      "1\n",
      "-99625.61400244945\n",
      "4530.752452358067\n",
      "-------------------------\n",
      "30K : 12\n"
     ]
    },
    {
     "name": "stderr",
     "output_type": "stream",
     "text": [
      "\u001b[36m\u001b[1m[ \u001b[22m\u001b[39m\u001b[36m\u001b[1mInfo: \u001b[22m\u001b[39m         147.4796512s: 2 minutes, 27 seconds, 479 milliseconds\n",
      "\u001b[36m\u001b[1m[ \u001b[22m\u001b[39m\u001b[36m\u001b[1mInfo: \u001b[22m\u001b[39m started timer at: 2024-04-02T08:28:04.084\n"
     ]
    },
    {
     "name": "stdout",
     "output_type": "stream",
     "text": [
      "[0, -1000, -100, -1200, -2000]\n",
      "false\n",
      "30\n",
      "1\n",
      "-103272.03855720577\n",
      "4583.491806778305\n"
     ]
    },
    {
     "name": "stderr",
     "output_type": "stream",
     "text": [
      "\u001b[36m\u001b[1m[ \u001b[22m\u001b[39m\u001b[36m\u001b[1mInfo: \u001b[22m\u001b[39m         147.7882317s: 2 minutes, 27 seconds, 788 milliseconds\n"
     ]
    },
    {
     "name": "stdout",
     "output_type": "stream",
     "text": [
      "-------------------------\n",
      "30K : 12\n",
      "[0, -1200, -100, -1200, -2000]\n"
     ]
    },
    {
     "name": "stderr",
     "output_type": "stream",
     "text": [
      "\u001b[36m\u001b[1m[ \u001b[22m\u001b[39m\u001b[36m\u001b[1mInfo: \u001b[22m\u001b[39m started timer at: 2024-04-02T08:30:31.882\n"
     ]
    },
    {
     "name": "stdout",
     "output_type": "stream",
     "text": [
      "false\n",
      "30\n",
      "1\n",
      "-106714.44222151834\n",
      "4889.651854673102\n",
      "-------------------------\n",
      "30K : 12\n",
      "[0, -1400, -100, -1200, -2000]\n"
     ]
    },
    {
     "name": "stderr",
     "output_type": "stream",
     "text": [
      "\u001b[36m\u001b[1m[ \u001b[22m\u001b[39m\u001b[36m\u001b[1mInfo: \u001b[22m\u001b[39m          152.083251s: 2 minutes, 32 seconds, 83 milliseconds\n",
      "\u001b[36m\u001b[1m[ \u001b[22m\u001b[39m\u001b[36m\u001b[1mInfo: \u001b[22m\u001b[39m started timer at: 2024-04-02T08:33:03.987\n"
     ]
    },
    {
     "name": "stdout",
     "output_type": "stream",
     "text": [
      "false\n",
      "30\n",
      "1\n",
      "-110178.85956500302\n",
      "4704.3139396862625\n"
     ]
    },
    {
     "name": "stderr",
     "output_type": "stream",
     "text": [
      "\u001b[36m\u001b[1m[ \u001b[22m\u001b[39m\u001b[36m\u001b[1mInfo: \u001b[22m\u001b[39m         149.9133938s: 2 minutes, 29 seconds, 913 milliseconds\n"
     ]
    },
    {
     "name": "stdout",
     "output_type": "stream",
     "text": [
      "-------------------------\n",
      "30K : 12\n",
      "[0, -1600, -100, -1200, -2000]\n"
     ]
    },
    {
     "name": "stderr",
     "output_type": "stream",
     "text": [
      "\u001b[36m\u001b[1m[ \u001b[22m\u001b[39m\u001b[36m\u001b[1mInfo: \u001b[22m\u001b[39m started timer at: 2024-04-02T08:35:33.922\n"
     ]
    },
    {
     "name": "stdout",
     "output_type": "stream",
     "text": [
      "false\n",
      "30\n",
      "1\n",
      "-113781.5116973792\n",
      "4783.240975236618\n",
      "-------------------------\n",
      "30K : 12\n",
      "[0, -1800, -100, -1200, -2000]\n"
     ]
    },
    {
     "name": "stderr",
     "output_type": "stream",
     "text": [
      "\u001b[36m\u001b[1m[ \u001b[22m\u001b[39m\u001b[36m\u001b[1mInfo: \u001b[22m\u001b[39m           147.40396s: 2 minutes, 27 seconds, 403 milliseconds\n",
      "\u001b[36m\u001b[1m[ \u001b[22m\u001b[39m\u001b[36m\u001b[1mInfo: \u001b[22m\u001b[39m started timer at: 2024-04-02T08:38:01.348\n"
     ]
    },
    {
     "name": "stdout",
     "output_type": "stream",
     "text": [
      "false\n",
      "30\n",
      "1\n",
      "-117258.13030798091\n",
      "4806.587968157657\n",
      "-------------------------\n",
      "30K : 12\n",
      "[0, -2000, -100, -1200, -2000]\n"
     ]
    },
    {
     "name": "stderr",
     "output_type": "stream",
     "text": [
      "\u001b[36m\u001b[1m[ \u001b[22m\u001b[39m\u001b[36m\u001b[1mInfo: \u001b[22m\u001b[39m         147.3615979s: 2 minutes, 27 seconds, 361 milliseconds\n",
      "\u001b[36m\u001b[1m[ \u001b[22m\u001b[39m\u001b[36m\u001b[1mInfo: \u001b[22m\u001b[39m started timer at: 2024-04-02T08:40:28.731\n"
     ]
    },
    {
     "name": "stdout",
     "output_type": "stream",
     "text": [
      "false\n",
      "30\n",
      "1\n",
      "-120702.87298334355\n",
      "5030.328929880633\n",
      "-------------------------\n",
      "30K : 12\n",
      "[0, -2400, -100, -1200, -2000]\n"
     ]
    },
    {
     "name": "stderr",
     "output_type": "stream",
     "text": [
      "\u001b[36m\u001b[1m[ \u001b[22m\u001b[39m\u001b[36m\u001b[1mInfo: \u001b[22m\u001b[39m         152.9952729s: 2 minutes, 32 seconds, 995 milliseconds\n",
      "\u001b[36m\u001b[1m[ \u001b[22m\u001b[39m\u001b[36m\u001b[1mInfo: \u001b[22m\u001b[39m started timer at: 2024-04-02T08:43:01.748\n"
     ]
    },
    {
     "name": "stdout",
     "output_type": "stream",
     "text": [
      "false\n",
      "30\n",
      "1\n",
      "-127785.35328769838\n",
      "4969.114083922828\n"
     ]
    },
    {
     "name": "stderr",
     "output_type": "stream",
     "text": [
      "\u001b[36m\u001b[1m[ \u001b[22m\u001b[39m\u001b[36m\u001b[1mInfo: \u001b[22m\u001b[39m          147.425192s: 2 minutes, 27 seconds, 425 milliseconds\n"
     ]
    },
    {
     "name": "stdout",
     "output_type": "stream",
     "text": [
      "-------------------------\n",
      "30K : 12\n",
      "[0, -2800, -100, -1200, -2000]\n"
     ]
    },
    {
     "name": "stderr",
     "output_type": "stream",
     "text": [
      "\u001b[36m\u001b[1m[ \u001b[22m\u001b[39m\u001b[36m\u001b[1mInfo: \u001b[22m\u001b[39m started timer at: 2024-04-02T08:45:29.205\n"
     ]
    },
    {
     "name": "stdout",
     "output_type": "stream",
     "text": [
      "false\n",
      "30\n",
      "1\n",
      "-134872.08070398212\n",
      "5173.094790218479\n",
      "-------------------------\n",
      "30K : 12\n",
      "[0, -3200, -100, -1200, -2000]\n"
     ]
    },
    {
     "name": "stderr",
     "output_type": "stream",
     "text": [
      "\u001b[36m\u001b[1m[ \u001b[22m\u001b[39m\u001b[36m\u001b[1mInfo: \u001b[22m\u001b[39m         147.8070971s: 2 minutes, 27 seconds, 807 milliseconds\n",
      "\u001b[36m\u001b[1m[ \u001b[22m\u001b[39m\u001b[36m\u001b[1mInfo: \u001b[22m\u001b[39m started timer at: 2024-04-02T08:47:57.012\n"
     ]
    },
    {
     "name": "stdout",
     "output_type": "stream",
     "text": [
      "false\n",
      "30\n",
      "1\n",
      "-141943.03832092453\n",
      "5531.093480020441\n",
      "-------------------------\n",
      "30K : 14\n",
      "[0, -200, -100, -1200, -2000]\n"
     ]
    },
    {
     "name": "stderr",
     "output_type": "stream",
     "text": [
      "\u001b[36m\u001b[1m[ \u001b[22m\u001b[39m\u001b[36m\u001b[1mInfo: \u001b[22m\u001b[39m         154.4819332s: 2 minutes, 34 seconds, 481 milliseconds\n",
      "\u001b[36m\u001b[1m[ \u001b[22m\u001b[39m\u001b[36m\u001b[1mInfo: \u001b[22m\u001b[39m started timer at: 2024-04-02T08:50:31.505\n"
     ]
    },
    {
     "name": "stdout",
     "output_type": "stream",
     "text": [
      "false\n",
      "30\n",
      "1\n",
      "-88126.5978658669\n",
      "4238.303880021034\n",
      "-------------------------\n",
      "30K : 14\n",
      "[0, -400, -100, -1200, -2000]\n"
     ]
    },
    {
     "name": "stderr",
     "output_type": "stream",
     "text": [
      "\u001b[36m\u001b[1m[ \u001b[22m\u001b[39m\u001b[36m\u001b[1mInfo: \u001b[22m\u001b[39m         148.9761603s: 2 minutes, 28 seconds, 976 milliseconds\n",
      "\u001b[36m\u001b[1m[ \u001b[22m\u001b[39m\u001b[36m\u001b[1mInfo: \u001b[22m\u001b[39m started timer at: 2024-04-02T08:53:00.492\n"
     ]
    },
    {
     "name": "stdout",
     "output_type": "stream",
     "text": [
      "false\n",
      "30\n",
      "1\n",
      "-91555.35384384578\n",
      "4234.369411837722\n",
      "-------------------------\n",
      "30K : 14\n",
      "[0, -600, -100, -1200, -2000]\n"
     ]
    },
    {
     "name": "stderr",
     "output_type": "stream",
     "text": [
      "\u001b[36m\u001b[1m[ \u001b[22m\u001b[39m\u001b[36m\u001b[1mInfo: \u001b[22m\u001b[39m         147.0981062s: 2 minutes, 27 seconds, 98 milliseconds\n",
      "\u001b[36m\u001b[1m[ \u001b[22m\u001b[39m\u001b[36m\u001b[1mInfo: \u001b[22m\u001b[39m started timer at: 2024-04-02T08:55:27.589\n"
     ]
    },
    {
     "name": "stdout",
     "output_type": "stream",
     "text": [
      "false\n",
      "30\n",
      "1\n",
      "-95088.69609403878\n",
      "4271.570203578868\n",
      "-------------------------\n",
      "30K : 14\n",
      "[0, -800, -100, -1200, -2000]\n"
     ]
    },
    {
     "name": "stderr",
     "output_type": "stream",
     "text": [
      "\u001b[36m\u001b[1m[ \u001b[22m\u001b[39m\u001b[36m\u001b[1mInfo: \u001b[22m\u001b[39m         149.3728019s: 2 minutes, 29 seconds, 372 milliseconds\n",
      "\u001b[36m\u001b[1m[ \u001b[22m\u001b[39m\u001b[36m\u001b[1mInfo: \u001b[22m\u001b[39m started timer at: 2024-04-02T08:57:56.963\n"
     ]
    },
    {
     "name": "stdout",
     "output_type": "stream",
     "text": [
      "false\n",
      "30\n",
      "1\n",
      "-98664.03378682888\n",
      "4271.048100705721\n",
      "-------------------------\n",
      "30K : 14\n",
      "[0, -1000, -100, -1200, -2000]\n"
     ]
    },
    {
     "name": "stderr",
     "output_type": "stream",
     "text": [
      "\u001b[36m\u001b[1m[ \u001b[22m\u001b[39m\u001b[36m\u001b[1mInfo: \u001b[22m\u001b[39m         150.4013808s: 2 minutes, 30 seconds, 401 milliseconds\n",
      "\u001b[36m\u001b[1m[ \u001b[22m\u001b[39m\u001b[36m\u001b[1mInfo: \u001b[22m\u001b[39m started timer at: 2024-04-02T09:00:27.375\n"
     ]
    },
    {
     "name": "stdout",
     "output_type": "stream",
     "text": [
      "false\n",
      "30\n",
      "1\n",
      "-102169.20056642599\n",
      "4291.914267390566\n",
      "-------------------------\n",
      "30K : 14\n",
      "[0, -1200, -100, -1200, -2000]\n"
     ]
    },
    {
     "name": "stderr",
     "output_type": "stream",
     "text": [
      "\u001b[36m\u001b[1m[ \u001b[22m\u001b[39m\u001b[36m\u001b[1mInfo: \u001b[22m\u001b[39m         147.9984976s: 2 minutes, 27 seconds, 998 milliseconds\n",
      "\u001b[36m\u001b[1m[ \u001b[22m\u001b[39m\u001b[36m\u001b[1mInfo: \u001b[22m\u001b[39m started timer at: 2024-04-02T09:02:55.383\n"
     ]
    },
    {
     "name": "stdout",
     "output_type": "stream",
     "text": [
      "false\n",
      "30\n",
      "1\n",
      "-105652.121556172\n",
      "4431.774343174863\n",
      "-------------------------\n",
      "30K : 14\n",
      "[0, -1400, -100, -1200, -2000]\n"
     ]
    },
    {
     "name": "stderr",
     "output_type": "stream",
     "text": [
      "\u001b[36m\u001b[1m[ \u001b[22m\u001b[39m\u001b[36m\u001b[1mInfo: \u001b[22m\u001b[39m         148.0226854s: 2 minutes, 28 seconds, 22 milliseconds\n",
      "\u001b[36m\u001b[1m[ \u001b[22m\u001b[39m\u001b[36m\u001b[1mInfo: \u001b[22m\u001b[39m started timer at: 2024-04-02T09:05:23.406\n"
     ]
    },
    {
     "name": "stdout",
     "output_type": "stream",
     "text": [
      "false\n",
      "30\n",
      "1\n",
      "-109268.20350149166\n",
      "4591.239763661966\n",
      "-------------------------\n",
      "30K : 14\n",
      "[0, -1600, -100, -1200, -2000]\n"
     ]
    },
    {
     "name": "stderr",
     "output_type": "stream",
     "text": [
      "\u001b[36m\u001b[1m[ \u001b[22m\u001b[39m\u001b[36m\u001b[1mInfo: \u001b[22m\u001b[39m         155.3930662s: 2 minutes, 35 seconds, 393 milliseconds\n",
      "\u001b[36m\u001b[1m[ \u001b[22m\u001b[39m\u001b[36m\u001b[1mInfo: \u001b[22m\u001b[39m started timer at: 2024-04-02T09:07:58.821\n"
     ]
    },
    {
     "name": "stdout",
     "output_type": "stream",
     "text": [
      "false\n",
      "30\n",
      "1\n",
      "-112782.65339513116\n",
      "4562.365409548813\n",
      "-------------------------\n"
     ]
    },
    {
     "name": "stderr",
     "output_type": "stream",
     "text": [
      "\u001b[36m\u001b[1m[ \u001b[22m\u001b[39m\u001b[36m\u001b[1mInfo: \u001b[22m\u001b[39m         147.7812933s: 2 minutes, 27 seconds, 781 milliseconds\n"
     ]
    },
    {
     "name": "stdout",
     "output_type": "stream",
     "text": [
      "30K : 14\n",
      "[0, -1800, -100, -1200, -2000]\n"
     ]
    },
    {
     "name": "stderr",
     "output_type": "stream",
     "text": [
      "\u001b[36m\u001b[1m[ \u001b[22m\u001b[39m\u001b[36m\u001b[1mInfo: \u001b[22m\u001b[39m started timer at: 2024-04-02T09:10:26.623\n"
     ]
    },
    {
     "name": "stdout",
     "output_type": "stream",
     "text": [
      "false\n",
      "30\n",
      "1\n",
      "-116237.94981682315\n",
      "4613.198763866269\n",
      "-------------------------\n",
      "30K : 14\n",
      "[0, -2000, -100, -1200, -2000]\n"
     ]
    },
    {
     "name": "stderr",
     "output_type": "stream",
     "text": [
      "\u001b[36m\u001b[1m[ \u001b[22m\u001b[39m\u001b[36m\u001b[1mInfo: \u001b[22m\u001b[39m         147.6673134s: 2 minutes, 27 seconds, 667 milliseconds\n",
      "\u001b[36m\u001b[1m[ \u001b[22m\u001b[39m\u001b[36m\u001b[1mInfo: \u001b[22m\u001b[39m started timer at: 2024-04-02T09:12:54.291\n"
     ]
    },
    {
     "name": "stdout",
     "output_type": "stream",
     "text": [
      "false\n",
      "30\n",
      "1\n",
      "-119708.24588635642\n",
      "4834.133122090158\n",
      "-------------------------\n",
      "30K : 14\n",
      "[0, -2400, -100, -1200, -2000]\n"
     ]
    },
    {
     "name": "stderr",
     "output_type": "stream",
     "text": [
      "\u001b[36m\u001b[1m[ \u001b[22m\u001b[39m\u001b[36m\u001b[1mInfo: \u001b[22m\u001b[39m         154.1773371s: 2 minutes, 34 seconds, 177 milliseconds\n",
      "\u001b[36m\u001b[1m[ \u001b[22m\u001b[39m\u001b[36m\u001b[1mInfo: \u001b[22m\u001b[39m started timer at: 2024-04-02T09:15:28.468\n"
     ]
    },
    {
     "name": "stdout",
     "output_type": "stream",
     "text": [
      "false\n",
      "30\n",
      "1\n",
      "-126858.39863426132\n",
      "4759.46775442461\n",
      "-------------------------\n"
     ]
    },
    {
     "name": "stderr",
     "output_type": "stream",
     "text": [
      "\u001b[36m\u001b[1m[ \u001b[22m\u001b[39m\u001b[36m\u001b[1mInfo: \u001b[22m\u001b[39m         149.7032578s: 2 minutes, 29 seconds, 703 milliseconds\n",
      "\u001b[36m\u001b[1m[ \u001b[22m\u001b[39m\u001b[36m\u001b[1mInfo: \u001b[22m\u001b[39m started timer at: 2024-04-02T09:17:58.171\n"
     ]
    },
    {
     "name": "stdout",
     "output_type": "stream",
     "text": [
      "30K : 14\n",
      "[0, -2800, -100, -1200, -2000]\n",
      "false\n",
      "30\n",
      "1\n",
      "-133849.36031718235\n",
      "4900.995817748593\n",
      "-------------------------\n",
      "30K : 14\n",
      "[0, -3200, -100, -1200, -2000]\n"
     ]
    },
    {
     "name": "stderr",
     "output_type": "stream",
     "text": [
      "\u001b[36m\u001b[1m[ \u001b[22m\u001b[39m\u001b[36m\u001b[1mInfo: \u001b[22m\u001b[39m         148.2377019s: 2 minutes, 28 seconds, 237 milliseconds\n",
      "\u001b[36m\u001b[1m[ \u001b[22m\u001b[39m\u001b[36m\u001b[1mInfo: \u001b[22m\u001b[39m started timer at: 2024-04-02T09:20:26.420\n"
     ]
    },
    {
     "name": "stdout",
     "output_type": "stream",
     "text": [
      "false\n",
      "30\n",
      "1\n",
      "-140912.1718671968\n",
      "5037.058642362814\n",
      "-------------------------\n",
      "25K : 2\n",
      "[0, -200, -100, -1200, -2000]\n"
     ]
    },
    {
     "name": "stderr",
     "output_type": "stream",
     "text": [
      "\u001b[36m\u001b[1m[ \u001b[22m\u001b[39m\u001b[36m\u001b[1mInfo: \u001b[22m\u001b[39m         147.8003337s: 2 minutes, 27 seconds, 800 milliseconds\n",
      "\u001b[36m\u001b[1m[ \u001b[22m\u001b[39m\u001b[36m\u001b[1mInfo: \u001b[22m\u001b[39m started timer at: 2024-04-02T09:22:54.230\n"
     ]
    },
    {
     "name": "stdout",
     "output_type": "stream",
     "text": [
      "false\n",
      "25\n",
      "1\n",
      "-95515.71995900698\n",
      "5803.472623315497\n",
      "-------------------------\n",
      "25K : 2\n",
      "[0, -400, -100, -1200, -2000]\n"
     ]
    },
    {
     "name": "stderr",
     "output_type": "stream",
     "text": [
      "\u001b[36m\u001b[1m[ \u001b[22m\u001b[39m\u001b[36m\u001b[1mInfo: \u001b[22m\u001b[39m         132.4411705s: 2 minutes, 12 seconds, 441 milliseconds\n",
      "\u001b[36m\u001b[1m[ \u001b[22m\u001b[39m\u001b[36m\u001b[1mInfo: \u001b[22m\u001b[39m started timer at: 2024-04-02T09:25:06.682\n"
     ]
    },
    {
     "name": "stdout",
     "output_type": "stream",
     "text": [
      "false\n",
      "25\n",
      "1\n",
      "-98905.36099916985\n",
      "5311.855236761256\n",
      "-------------------------\n",
      "25K : 2\n",
      "[0, -600, -100, -1200, -2000]\n"
     ]
    },
    {
     "name": "stderr",
     "output_type": "stream",
     "text": [
      "\u001b[36m\u001b[1m[ \u001b[22m\u001b[39m\u001b[36m\u001b[1mInfo: \u001b[22m\u001b[39m         123.2210678s: 2 minutes, 3 seconds, 221 milliseconds\n",
      "\u001b[36m\u001b[1m[ \u001b[22m\u001b[39m\u001b[36m\u001b[1mInfo: \u001b[22m\u001b[39m started timer at: 2024-04-02T09:27:09.903\n"
     ]
    },
    {
     "name": "stdout",
     "output_type": "stream",
     "text": [
      "false\n",
      "25\n",
      "1\n",
      "-102327.37845556483\n",
      "5417.924139979794\n",
      "-------------------------\n",
      "25K : 2\n",
      "[0, -800, -100, -1200, -2000]\n"
     ]
    },
    {
     "name": "stderr",
     "output_type": "stream",
     "text": [
      "\u001b[36m\u001b[1m[ \u001b[22m\u001b[39m\u001b[36m\u001b[1mInfo: \u001b[22m\u001b[39m         122.8109297s: 2 minutes, 2 seconds, 810 milliseconds\n",
      "\u001b[36m\u001b[1m[ \u001b[22m\u001b[39m\u001b[36m\u001b[1mInfo: \u001b[22m\u001b[39m started timer at: 2024-04-02T09:29:12.747\n"
     ]
    },
    {
     "name": "stdout",
     "output_type": "stream",
     "text": [
      "false\n",
      "25\n",
      "1\n",
      "-105843.18121900728\n",
      "5362.09720821582\n",
      "-------------------------\n",
      "25K : 2\n",
      "[0, -1000, -100, -1200, -2000]\n"
     ]
    },
    {
     "name": "stderr",
     "output_type": "stream",
     "text": [
      "\u001b[36m\u001b[1m[ \u001b[22m\u001b[39m\u001b[36m\u001b[1mInfo: \u001b[22m\u001b[39m         123.1154115s: 2 minutes, 3 seconds, 115 milliseconds\n",
      "\u001b[36m\u001b[1m[ \u001b[22m\u001b[39m\u001b[36m\u001b[1mInfo: \u001b[22m\u001b[39m started timer at: 2024-04-02T09:31:15.873\n"
     ]
    },
    {
     "name": "stdout",
     "output_type": "stream",
     "text": [
      "false\n",
      "25\n",
      "1\n",
      "-109243.71696505594\n",
      "5929.196759612444\n",
      "-------------------------\n",
      "25K : 2\n",
      "[0, -1200, -100, -1200, -2000]\n"
     ]
    },
    {
     "name": "stderr",
     "output_type": "stream",
     "text": [
      "\u001b[36m\u001b[1m[ \u001b[22m\u001b[39m\u001b[36m\u001b[1mInfo: \u001b[22m\u001b[39m         130.7882434s: 2 minutes, 10 seconds, 788 milliseconds\n",
      "\u001b[36m\u001b[1m[ \u001b[22m\u001b[39m\u001b[36m\u001b[1mInfo: \u001b[22m\u001b[39m started timer at: 2024-04-02T09:33:26.682\n"
     ]
    },
    {
     "name": "stdout",
     "output_type": "stream",
     "text": [
      "false\n",
      "25\n",
      "1\n",
      "-112686.59964159284\n",
      "5516.4778989155\n",
      "-------------------------\n",
      "25K : 2\n"
     ]
    },
    {
     "name": "stderr",
     "output_type": "stream",
     "text": [
      "\u001b[36m\u001b[1m[ \u001b[22m\u001b[39m\u001b[36m\u001b[1mInfo: \u001b[22m\u001b[39m           122.90013s: 2 minutes, 2 seconds, 900 milliseconds\n",
      "\u001b[36m\u001b[1m[ \u001b[22m\u001b[39m\u001b[36m\u001b[1mInfo: \u001b[22m\u001b[39m started timer at: 2024-04-02T09:35:29.603\n"
     ]
    },
    {
     "name": "stdout",
     "output_type": "stream",
     "text": [
      "[0, -1400, -100, -1200, -2000]\n",
      "false\n",
      "25\n",
      "1\n",
      "-116077.61143674393\n",
      "5598.529368228119\n",
      "-------------------------\n",
      "25K : 2\n",
      "[0, -1600, -100, -1200, -2000]\n"
     ]
    },
    {
     "name": "stderr",
     "output_type": "stream",
     "text": [
      "\u001b[36m\u001b[1m[ \u001b[22m\u001b[39m\u001b[36m\u001b[1mInfo: \u001b[22m\u001b[39m         123.1418408s: 2 minutes, 3 seconds, 141 milliseconds\n",
      "\u001b[36m\u001b[1m[ \u001b[22m\u001b[39m\u001b[36m\u001b[1mInfo: \u001b[22m\u001b[39m started timer at: 2024-04-02T09:37:32.767\n"
     ]
    },
    {
     "name": "stdout",
     "output_type": "stream",
     "text": [
      "false\n",
      "25\n",
      "1\n",
      "-119453.5948720443\n",
      "5633.911176271367\n",
      "-------------------------\n",
      "25K : 2\n",
      "[0, -1800, -100, -1200, -2000]\n"
     ]
    },
    {
     "name": "stderr",
     "output_type": "stream",
     "text": [
      "\u001b[36m\u001b[1m[ \u001b[22m\u001b[39m\u001b[36m\u001b[1mInfo: \u001b[22m\u001b[39m         123.2577058s: 2 minutes, 3 seconds, 257 milliseconds\n",
      "\u001b[36m\u001b[1m[ \u001b[22m\u001b[39m\u001b[36m\u001b[1mInfo: \u001b[22m\u001b[39m started timer at: 2024-04-02T09:39:36.035\n"
     ]
    },
    {
     "name": "stdout",
     "output_type": "stream",
     "text": [
      "false\n",
      "25\n",
      "1\n",
      "-122920.30271754017\n",
      "6218.904076675838\n",
      "-------------------------\n",
      "25K : 2\n",
      "[0, -2000, -100, -1200, -2000]\n"
     ]
    },
    {
     "name": "stderr",
     "output_type": "stream",
     "text": [
      "\u001b[36m\u001b[1m[ \u001b[22m\u001b[39m\u001b[36m\u001b[1mInfo: \u001b[22m\u001b[39m         130.7019745s: 2 minutes, 10 seconds, 701 milliseconds\n",
      "\u001b[36m\u001b[1m[ \u001b[22m\u001b[39m\u001b[36m\u001b[1mInfo: \u001b[22m\u001b[39m started timer at: 2024-04-02T09:41:46.758\n"
     ]
    },
    {
     "name": "stdout",
     "output_type": "stream",
     "text": [
      "false\n",
      "25\n",
      "1\n",
      "-126394.04932923827\n",
      "5673.946868269685\n",
      "-------------------------\n",
      "25K : 2\n",
      "[0, -2400, -100, -1200"
     ]
    },
    {
     "name": "stderr",
     "output_type": "stream",
     "text": [
      "\u001b[36m\u001b[1m[ \u001b[22m\u001b[39m\u001b[36m\u001b[1mInfo: \u001b[22m\u001b[39m         123.2759534s: 2 minutes, 3 seconds, 275 milliseconds\n",
      "\u001b[36m\u001b[1m[ \u001b[22m\u001b[39m\u001b[36m\u001b[1mInfo: \u001b[22m\u001b[39m started timer at: 2024-04-02T09:43:50.056\n"
     ]
    },
    {
     "name": "stdout",
     "output_type": "stream",
     "text": [
      ", -2000]\n",
      "false\n",
      "25\n",
      "1\n",
      "-133292.4407784089\n",
      "5844.207389314924\n",
      "-------------------------\n",
      "25K : 2\n",
      "[0, -2800, -100, -1200, -2000]\n"
     ]
    },
    {
     "name": "stderr",
     "output_type": "stream",
     "text": [
      "\u001b[36m\u001b[1m[ \u001b[22m\u001b[39m\u001b[36m\u001b[1mInfo: \u001b[22m\u001b[39m         123.2172289s: 2 minutes, 3 seconds, 217 milliseconds\n",
      "\u001b[36m\u001b[1m[ \u001b[22m\u001b[39m\u001b[36m\u001b[1mInfo: \u001b[22m\u001b[39m started timer at: 2024-04-02T09:45:53.284\n"
     ]
    },
    {
     "name": "stdout",
     "output_type": "stream",
     "text": [
      "false\n",
      "25\n",
      "1\n",
      "-140159.6031168366\n",
      "6013.416863261929\n",
      "-------------------------\n"
     ]
    },
    {
     "name": "stderr",
     "output_type": "stream",
     "text": [
      "\u001b[36m\u001b[1m[ \u001b[22m\u001b[39m\u001b[36m\u001b[1mInfo: \u001b[22m\u001b[39m         122.9210968s: 2 minutes, 2 seconds, 921 milliseconds\n",
      "\u001b[36m\u001b[1m[ \u001b[22m\u001b[39m\u001b[36m\u001b[1mInfo: \u001b[22m\u001b[39m started timer at: 2024-04-02T09:47:56.215\n"
     ]
    },
    {
     "name": "stdout",
     "output_type": "stream",
     "text": [
      "25K : 2\n",
      "[0, -3200, -100, -1200, -2000]\n",
      "false\n",
      "25\n",
      "1\n",
      "-146961.56843199593\n",
      "6635.513152692762\n",
      "-------------------------\n",
      "25K : 4\n",
      "[0, -200, -100, -1200, -2000]\n"
     ]
    },
    {
     "name": "stderr",
     "output_type": "stream",
     "text": [
      "\u001b[36m\u001b[1m[ \u001b[22m\u001b[39m\u001b[36m\u001b[1mInfo: \u001b[22m\u001b[39m         130.3869722s: 2 minutes, 10 seconds, 386 milliseconds\n",
      "\u001b[36m\u001b[1m[ \u001b[22m\u001b[39m\u001b[36m\u001b[1mInfo: \u001b[22m\u001b[39m started timer at: 2024-04-02T09:50:06.602\n"
     ]
    },
    {
     "name": "stdout",
     "output_type": "stream",
     "text": [
      "false\n",
      "25\n",
      "1\n",
      "-85407.67114344811\n",
      "5510.165999074465\n",
      "-------------------------\n",
      "25"
     ]
    },
    {
     "name": "stderr",
     "output_type": "stream",
     "text": [
      "\u001b[36m\u001b[1m[ \u001b[22m\u001b[39m\u001b[36m\u001b[1mInfo: \u001b[22m\u001b[39m         123.3446972s: 2 minutes, 3 seconds, 344 milliseconds\n",
      "\u001b[36m\u001b[1m[ \u001b[22m\u001b[39m\u001b[36m\u001b[1mInfo: \u001b[22m\u001b[39m started timer at: 2024-04-02T09:52:09.958\n"
     ]
    },
    {
     "name": "stdout",
     "output_type": "stream",
     "text": [
      "K : 4\n",
      "[0, -400, -100, -1200, -2000]\n",
      "false\n",
      "25\n",
      "1\n",
      "-88841.13661207331\n",
      "5476.107955961834\n",
      "-------------------------\n",
      "25K : 4\n",
      "[0, -600, -100, -1200, -2000]\n"
     ]
    },
    {
     "name": "stderr",
     "output_type": "stream",
     "text": [
      "\u001b[36m\u001b[1m[ \u001b[22m\u001b[39m\u001b[36m\u001b[1mInfo: \u001b[22m\u001b[39m         123.4755373s: 2 minutes, 3 seconds, 475 milliseconds\n",
      "\u001b[36m\u001b[1m[ \u001b[22m\u001b[39m\u001b[36m\u001b[1mInfo: \u001b[22m\u001b[39m started timer at: 2024-04-02T09:54:13.433\n"
     ]
    },
    {
     "name": "stdout",
     "output_type": "stream",
     "text": [
      "false\n",
      "25\n",
      "1\n",
      "-92320.19832489801\n",
      "5465.292233576337\n",
      "-------------------------\n",
      "25K : 4\n",
      "[0, -800, -100, -1200, -2000]\n"
     ]
    },
    {
     "name": "stderr",
     "output_type": "stream",
     "text": [
      "\u001b[36m\u001b[1m[ \u001b[22m\u001b[39m\u001b[36m\u001b[1mInfo: \u001b[22m\u001b[39m         123.3933731s: 2 minutes, 3 seconds, 393 milliseconds\n",
      "\u001b[36m\u001b[1m[ \u001b[22m\u001b[39m\u001b[36m\u001b[1mInfo: \u001b[22m\u001b[39m started timer at: 2024-04-02T09:56:16.849\n"
     ]
    },
    {
     "name": "stdout",
     "output_type": "stream",
     "text": [
      "false\n",
      "25\n",
      "1\n",
      "-95718.9740786945\n",
      "6233.1432994379775\n",
      "-------------------------\n",
      "25K : 4\n",
      "[0, -1000, -100, -1200, -2000]\n"
     ]
    },
    {
     "name": "stderr",
     "output_type": "stream",
     "text": [
      "\u001b[36m\u001b[1m[ \u001b[22m\u001b[39m\u001b[36m\u001b[1mInfo: \u001b[22m\u001b[39m         130.5009862s: 2 minutes, 10 seconds, 500 milliseconds\n",
      "\u001b[36m\u001b[1m[ \u001b[22m\u001b[39m\u001b[36m\u001b[1mInfo: \u001b[22m\u001b[39m started timer at: 2024-04-02T09:58:27.371\n"
     ]
    },
    {
     "name": "stdout",
     "output_type": "stream",
     "text": [
      "false\n",
      "25\n",
      "1\n",
      "-99214.86895381662\n",
      "5576.81082871172\n",
      "-------------------------\n",
      "25K : 4\n",
      "[0, -1200, -100, -1200, -2000]\n"
     ]
    },
    {
     "name": "stderr",
     "output_type": "stream",
     "text": [
      "\u001b[36m\u001b[1m[ \u001b[22m\u001b[39m\u001b[36m\u001b[1mInfo: \u001b[22m\u001b[39m         123.4259944s: 2 minutes, 3 seconds, 425 milliseconds\n",
      "\u001b[36m\u001b[1m[ \u001b[22m\u001b[39m\u001b[36m\u001b[1mInfo: \u001b[22m\u001b[39m started timer at: 2024-04-02T10:00:30.807\n"
     ]
    },
    {
     "name": "stdout",
     "output_type": "stream",
     "text": [
      "false\n",
      "25\n",
      "1\n",
      "-102674.34126837904\n",
      "5706.068510718761\n",
      "-------------------------\n",
      "25K : 4\n",
      "[0, -1400, -100, -1200, -2000]\n"
     ]
    },
    {
     "name": "stderr",
     "output_type": "stream",
     "text": [
      "\u001b[36m\u001b[1m[ \u001b[22m\u001b[39m\u001b[36m\u001b[1mInfo: \u001b[22m\u001b[39m         123.6389098s: 2 minutes, 3 seconds, 638 milliseconds\n",
      "\u001b[36m\u001b[1m[ \u001b[22m\u001b[39m\u001b[36m\u001b[1mInfo: \u001b[22m\u001b[39m started timer at: 2024-04-02T10:02:34.468\n"
     ]
    },
    {
     "name": "stdout",
     "output_type": "stream",
     "text": [
      "false\n",
      "25\n",
      "1\n",
      "-106056.96329777443\n",
      "5680.910397422179\n",
      "-------------------------\n",
      "25K : 4\n",
      "[0, -1600, -100, -1200, -2000]\n"
     ]
    },
    {
     "name": "stderr",
     "output_type": "stream",
     "text": [
      "\u001b[36m\u001b[1m[ \u001b[22m\u001b[39m\u001b[36m\u001b[1mInfo: \u001b[22m\u001b[39m         122.9015291s: 2 minutes, 2 seconds, 901 milliseconds\n",
      "\u001b[36m\u001b[1m[ \u001b[22m\u001b[39m\u001b[36m\u001b[1mInfo: \u001b[22m\u001b[39m started timer at: 2024-04-02T10:04:37.380\n"
     ]
    },
    {
     "name": "stdout",
     "output_type": "stream",
     "text": [
      "false\n",
      "25\n",
      "1\n",
      "-109449.69636752123\n",
      "6445.187008988587\n",
      "-------------------------\n",
      "25K : 4\n",
      "[0, -1800, -100, -1200, -2000]\n"
     ]
    },
    {
     "name": "stderr",
     "output_type": "stream",
     "text": [
      "\u001b[36m\u001b[1m[ \u001b[22m\u001b[39m\u001b[36m\u001b[1mInfo: \u001b[22m\u001b[39m         129.9126829s: 2 minutes, 9 seconds, 912 milliseconds\n",
      "\u001b[36m\u001b[1m[ \u001b[22m\u001b[39m\u001b[36m\u001b[1mInfo: \u001b[22m\u001b[39m started timer at: 2024-04-02T10:06:47.303\n"
     ]
    },
    {
     "name": "stdout",
     "output_type": "stream",
     "text": [
      "false\n",
      "25\n",
      "1\n",
      "-112933.62580479961\n",
      "5824.6541343942345\n",
      "-------------------------\n",
      "25K : 4\n",
      "[0, -2000, -100, -1200, -2000]\n"
     ]
    },
    {
     "name": "stderr",
     "output_type": "stream",
     "text": [
      "\u001b[36m\u001b[1m[ \u001b[22m\u001b[39m\u001b[36m\u001b[1mInfo: \u001b[22m\u001b[39m          123.532208s: 2 minutes, 3 seconds, 532 milliseconds\n",
      "\u001b[36m\u001b[1m[ \u001b[22m\u001b[39m\u001b[36m\u001b[1mInfo: \u001b[22m\u001b[39m started timer at: 2024-04-02T10:08:50.846\n"
     ]
    },
    {
     "name": "stdout",
     "output_type": "stream",
     "text": [
      "false\n",
      "25\n",
      "1\n",
      "-116308.43664861322\n",
      "5901.812970197985\n",
      "-------------------------"
     ]
    },
    {
     "name": "stderr",
     "output_type": "stream",
     "text": [
      "\u001b[36m\u001b[1m[ \u001b[22m\u001b[39m\u001b[36m\u001b[1mInfo: \u001b[22m\u001b[39m         123.4999409s: 2 minutes, 3 seconds, 499 milliseconds\n"
     ]
    },
    {
     "name": "stdout",
     "output_type": "stream",
     "text": [
      "\n",
      "25K : 4\n",
      "[0, -2400, -100, -1200, -2000]\n"
     ]
    },
    {
     "name": "stderr",
     "output_type": "stream",
     "text": [
      "\u001b[36m\u001b[1m[ \u001b[22m\u001b[39m\u001b[36m\u001b[1mInfo: \u001b[22m\u001b[39m started timer at: 2024-04-02T10:10:54.379\n"
     ]
    },
    {
     "name": "stdout",
     "output_type": "stream",
     "text": [
      "false\n",
      "25\n",
      "1\n",
      "-123152.23118615957\n",
      "5959.650976350524\n",
      "-------------------------\n",
      "25K : 4\n",
      "[0, -2800, -100, -1200, -2000]\n"
     ]
    },
    {
     "name": "stderr",
     "output_type": "stream",
     "text": [
      "\u001b[36m\u001b[1m[ \u001b[22m\u001b[39m\u001b[36m\u001b[1mInfo: \u001b[22m\u001b[39m           122.90166s: 2 minutes, 2 seconds, 901 milliseconds\n",
      "\u001b[36m\u001b[1m[ \u001b[22m\u001b[39m\u001b[36m\u001b[1mInfo: \u001b[22m\u001b[39m started timer at: 2024-04-02T10:12:57.313\n"
     ]
    },
    {
     "name": "stdout",
     "output_type": "stream",
     "text": [
      "false\n",
      "25\n",
      "1\n",
      "-130211.70401232409\n",
      "6808.545715240553\n",
      "-------------------------\n",
      "25K : 4\n",
      "[0, -3200, -100, -1200, -2000]\n"
     ]
    },
    {
     "name": "stderr",
     "output_type": "stream",
     "text": [
      "\u001b[36m\u001b[1m[ \u001b[22m\u001b[39m\u001b[36m\u001b[1mInfo: \u001b[22m\u001b[39m         129.5692736s: 2 minutes, 9 seconds, 569 milliseconds\n",
      "\u001b[36m\u001b[1m[ \u001b[22m\u001b[39m\u001b[36m\u001b[1mInfo: \u001b[22m\u001b[39m started timer at: 2024-04-02T10:15:06.882\n"
     ]
    },
    {
     "name": "stdout",
     "output_type": "stream",
     "text": [
      "false\n",
      "25\n",
      "1\n",
      "-136860.37110128865\n",
      "6314.630857332656\n",
      "-------------------------\n"
     ]
    },
    {
     "name": "stderr",
     "output_type": "stream",
     "text": [
      "\u001b[36m\u001b[1m[ \u001b[22m\u001b[39m\u001b[36m\u001b[1mInfo: \u001b[22m\u001b[39m         124.2444775s: 2 minutes, 4 seconds, 244 milliseconds\n",
      "\u001b[36m\u001b[1m[ \u001b[22m\u001b[39m\u001b[36m\u001b[1mInfo: \u001b[22m\u001b[39m started timer at: 2024-04-02T10:17:11.149\n"
     ]
    },
    {
     "name": "stdout",
     "output_type": "stream",
     "text": [
      "25K : 6\n",
      "[0, -200, -100, -1200, -2000]\n",
      "false\n",
      "25\n",
      "1\n",
      "-79476.13432077348\n",
      "5011.021218006115\n",
      "-------------------------\n",
      "25K : 6\n",
      "[0, -400, -100, -1200, -2000]\n"
     ]
    },
    {
     "name": "stderr",
     "output_type": "stream",
     "text": [
      "\u001b[36m\u001b[1m[ \u001b[22m\u001b[39m\u001b[36m\u001b[1mInfo: \u001b[22m\u001b[39m         123.4407456s: 2 minutes, 3 seconds, 440 milliseconds\n",
      "\u001b[36m\u001b[1m[ \u001b[22m\u001b[39m\u001b[36m\u001b[1mInfo: \u001b[22m\u001b[39m started timer at: 2024-04-02T10:19:14.611\n"
     ]
    },
    {
     "name": "stdout",
     "output_type": "stream",
     "text": [
      "false\n",
      "25\n",
      "1\n",
      "-82839.55615693612\n",
      "4982.390654068923\n",
      "-------------------------\n",
      "25"
     ]
    },
    {
     "name": "stderr",
     "output_type": "stream",
     "text": [
      "\u001b[36m\u001b[1m[ \u001b[22m\u001b[39m\u001b[36m\u001b[1mInfo: \u001b[22m\u001b[39m         122.7485451s: 2 minutes, 2 seconds, 748 milliseconds\n",
      "\u001b[36m\u001b[1m[ \u001b[22m\u001b[39m\u001b[36m\u001b[1mInfo: \u001b[22m\u001b[39m started timer at: 2024-04-02T10:21:17.370\n"
     ]
    },
    {
     "name": "stdout",
     "output_type": "stream",
     "text": [
      "K : 6\n",
      "[0, -600, -100, -1200, -2000]\n",
      "false\n",
      "25\n",
      "1\n",
      "-86257.79310872138\n",
      "5660.44909833876\n",
      "-------------------------\n",
      "25K : 6\n",
      "[0, -800, -100, -1200, -2000]\n"
     ]
    },
    {
     "name": "stderr",
     "output_type": "stream",
     "text": [
      "\u001b[36m\u001b[1m[ \u001b[22m\u001b[39m\u001b[36m\u001b[1mInfo: \u001b[22m\u001b[39m         129.2499476s: 2 minutes, 9 seconds, 249 milliseconds\n",
      "\u001b[36m\u001b[1m[ \u001b[22m\u001b[39m\u001b[36m\u001b[1mInfo: \u001b[22m\u001b[39m started timer at: 2024-04-02T10:23:26.630\n"
     ]
    },
    {
     "name": "stdout",
     "output_type": "stream",
     "text": [
      "false\n",
      "25\n",
      "1\n",
      "-89810.46264408353\n",
      "5097.894633640751\n",
      "-------------------------\n",
      "25K : 6\n",
      "[0, -1000, -100, -1200, -2000]\n"
     ]
    },
    {
     "name": "stderr",
     "output_type": "stream",
     "text": [
      "\u001b[36m\u001b[1m[ \u001b[22m\u001b[39m\u001b[36m\u001b[1mInfo: \u001b[22m\u001b[39m         124.5769169s: 2 minutes, 4 seconds, 576 milliseconds\n",
      "\u001b[36m\u001b[1m[ \u001b[22m\u001b[39m\u001b[36m\u001b[1mInfo: \u001b[22m\u001b[39m started timer at: 2024-04-02T10:25:31.239\n"
     ]
    },
    {
     "name": "stdout",
     "output_type": "stream",
     "text": [
      "false\n",
      "25\n",
      "1\n",
      "-93166.65370393684\n",
      "5225.569058730731\n",
      "-------------------------\n"
     ]
    },
    {
     "name": "stderr",
     "output_type": "stream",
     "text": [
      "\u001b[36m\u001b[1m[ \u001b[22m\u001b[39m\u001b[36m\u001b[1mInfo: \u001b[22m\u001b[39m         123.1280076s: 2 minutes, 3 seconds, 128 milliseconds\n",
      "\u001b[36m\u001b[1m[ \u001b[22m\u001b[39m\u001b[36m\u001b[1mInfo: \u001b[22m\u001b[39m started timer at: 2024-04-02T10:27:34.377\n"
     ]
    },
    {
     "name": "stdout",
     "output_type": "stream",
     "text": [
      "25K : 6\n",
      "[0, -1200, -100, -1200, -2000]\n",
      "false\n",
      "25\n",
      "1\n",
      "-96622.19046885426\n",
      "5234.924772167123\n",
      "-------------------------\n"
     ]
    },
    {
     "name": "stderr",
     "output_type": "stream",
     "text": [
      "\u001b[36m\u001b[1m[ \u001b[22m\u001b[39m\u001b[36m\u001b[1mInfo: \u001b[22m\u001b[39m         123.3155548s: 2 minutes, 3 seconds, 315 milliseconds\n",
      "\u001b[36m\u001b[1m[ \u001b[22m\u001b[39m\u001b[36m\u001b[1mInfo: \u001b[22m\u001b[39m started timer at: 2024-04-02T10:29:37.715\n"
     ]
    },
    {
     "name": "stdout",
     "output_type": "stream",
     "text": [
      "25K : 6\n",
      "[0, -1400, -100, -1200, -2000]\n",
      "false\n",
      "25\n",
      "1\n",
      "-100087.48079509944\n",
      "5921.968379049119\n",
      "-------------------------\n",
      "25K : "
     ]
    },
    {
     "name": "stderr",
     "output_type": "stream",
     "text": [
      "\u001b[36m\u001b[1m[ \u001b[22m\u001b[39m\u001b[36m\u001b[1mInfo: \u001b[22m\u001b[39m         129.7272102s: 2 minutes, 9 seconds, 727 milliseconds\n",
      "\u001b[36m\u001b[1m[ \u001b[22m\u001b[39m\u001b[36m\u001b[1mInfo: \u001b[22m\u001b[39m started timer at: 2024-04-02T10:31:47.463\n"
     ]
    },
    {
     "name": "stdout",
     "output_type": "stream",
     "text": [
      "6\n",
      "[0, -1600, -100, -1200, -2000]\n",
      "false\n",
      "25\n",
      "1\n",
      "-103483.83940127556\n",
      "5439.4333578308\n",
      "-------------------------\n",
      "25K : 6\n",
      "[0, -1800, -100, -1200, -2000]\n"
     ]
    },
    {
     "name": "stderr",
     "output_type": "stream",
     "text": [
      "\u001b[36m\u001b[1m[ \u001b[22m\u001b[39m\u001b[36m\u001b[1mInfo: \u001b[22m\u001b[39m         124.1705701s: 2 minutes, 4 seconds, 170 milliseconds\n",
      "\u001b[36m\u001b[1m[ \u001b[22m\u001b[39m\u001b[36m\u001b[1mInfo: \u001b[22m\u001b[39m started timer at: 2024-04-02T10:33:51.644\n"
     ]
    },
    {
     "name": "stdout",
     "output_type": "stream",
     "text": [
      "false\n",
      "25\n",
      "1\n",
      "-106907.6135616613\n",
      "5458.446491305029\n",
      "-------------------------\n",
      "25K : 6"
     ]
    },
    {
     "name": "stderr",
     "output_type": "stream",
     "text": [
      "\u001b[36m\u001b[1m[ \u001b[22m\u001b[39m\u001b[36m\u001b[1mInfo: \u001b[22m\u001b[39m         123.7059778s: 2 minutes, 3 seconds, 705 milliseconds\n",
      "\u001b[36m\u001b[1m[ \u001b[22m\u001b[39m\u001b[36m\u001b[1mInfo: \u001b[22m\u001b[39m started timer at: 2024-04-02T10:35:55.383\n"
     ]
    },
    {
     "name": "stdout",
     "output_type": "stream",
     "text": [
      "\n",
      "[0, -2000, -100, -1200, -2000]\n",
      "false\n",
      "25\n",
      "1\n",
      "-110379.16111636169\n",
      "5555.331589338114\n",
      "-------------------------\n",
      "25K : 6\n",
      "[0, -2400, -100, -1200, -2000]\n"
     ]
    },
    {
     "name": "stderr",
     "output_type": "stream",
     "text": [
      "\u001b[36m\u001b[1m[ \u001b[22m\u001b[39m\u001b[36m\u001b[1mInfo: \u001b[22m\u001b[39m          123.097527s: 2 minutes, 3 seconds, 97 milliseconds\n",
      "\u001b[36m\u001b[1m[ \u001b[22m\u001b[39m\u001b[36m\u001b[1mInfo: \u001b[22m\u001b[39m started timer at: 2024-04-02T10:37:58.491\n"
     ]
    },
    {
     "name": "stdout",
     "output_type": "stream",
     "text": [
      "false\n",
      "25\n",
      "1\n",
      "-117181.576403371\n",
      "6261.433637113826\n"
     ]
    },
    {
     "name": "stderr",
     "output_type": "stream",
     "text": [
      "\u001b[36m\u001b[1m[ \u001b[22m\u001b[39m\u001b[36m\u001b[1mInfo: \u001b[22m\u001b[39m         129.3410218s: 2 minutes, 9 seconds, 341 milliseconds\n"
     ]
    },
    {
     "name": "stdout",
     "output_type": "stream",
     "text": [
      "-------------------------\n",
      "25K : 6\n",
      "[0, -2800, -100, -1200, -2000]\n"
     ]
    },
    {
     "name": "stderr",
     "output_type": "stream",
     "text": [
      "\u001b[36m\u001b[1m[ \u001b[22m\u001b[39m\u001b[36m\u001b[1mInfo: \u001b[22m\u001b[39m started timer at: 2024-04-02T10:40:07.843\n"
     ]
    },
    {
     "name": "stdout",
     "output_type": "stream",
     "text": [
      "false\n",
      "25\n",
      "1\n",
      "-124100.29363269999\n",
      "5836.06099114482\n",
      "-------------------------\n",
      "25K : 6\n",
      "[0, -3200, "
     ]
    },
    {
     "name": "stderr",
     "output_type": "stream",
     "text": [
      "\u001b[36m\u001b[1m[ \u001b[22m\u001b[39m\u001b[36m\u001b[1mInfo: \u001b[22m\u001b[39m         124.9271748s: 2 minutes, 4 seconds, 927 milliseconds\n",
      "\u001b[36m\u001b[1m[ \u001b[22m\u001b[39m\u001b[36m\u001b[1mInfo: \u001b[22m\u001b[39m started timer at: 2024-04-02T10:42:12.792\n"
     ]
    },
    {
     "name": "stdout",
     "output_type": "stream",
     "text": [
      "-100, -1200, -2000]\n",
      "false\n",
      "25\n",
      "1\n",
      "-131023.66293933323\n",
      "5977.946192409976\n",
      "-------------------------\n",
      "25K : 8\n",
      "[0, -200, -100, -1200, -2000]\n"
     ]
    },
    {
     "name": "stderr",
     "output_type": "stream",
     "text": [
      "\u001b[36m\u001b[1m[ \u001b[22m\u001b[39m\u001b[36m\u001b[1mInfo: \u001b[22m\u001b[39m         123.0955043s: 2 minutes, 3 seconds, 95 milliseconds\n",
      "\u001b[36m\u001b[1m[ \u001b[22m\u001b[39m\u001b[36m\u001b[1mInfo: \u001b[22m\u001b[39m started timer at: 2024-04-02T10:44:15.899\n"
     ]
    },
    {
     "name": "stdout",
     "output_type": "stream",
     "text": [
      "false\n",
      "25\n",
      "1\n",
      "-75858.42931793649\n",
      "4498.729858742739\n",
      "-------------------------\n",
      "25K : 8\n",
      "[0, -400, -100, -1200, -2000]\n"
     ]
    },
    {
     "name": "stderr",
     "output_type": "stream",
     "text": [
      "\u001b[36m\u001b[1m[ \u001b[22m\u001b[39m\u001b[36m\u001b[1mInfo: \u001b[22m\u001b[39m         123.2531596s: 2 minutes, 3 seconds, 253 milliseconds\n",
      "\u001b[36m\u001b[1m[ \u001b[22m\u001b[39m\u001b[36m\u001b[1mInfo: \u001b[22m\u001b[39m started timer at: 2024-04-02T10:46:19.173\n"
     ]
    },
    {
     "name": "stdout",
     "output_type": "stream",
     "text": [
      "false\n",
      "25\n",
      "1\n",
      "-79274.56252616286\n",
      "5016.173106967206\n",
      "-------------------------\n",
      "25K : 8\n",
      "[0, -600, -100, -1200, -2000]\n"
     ]
    },
    {
     "name": "stderr",
     "output_type": "stream",
     "text": [
      "\u001b[36m\u001b[1m[ \u001b[22m\u001b[39m\u001b[36m\u001b[1mInfo: \u001b[22m\u001b[39m         129.0586783s: 2 minutes, 9 seconds, 58 milliseconds\n",
      "\u001b[36m\u001b[1m[ \u001b[22m\u001b[39m\u001b[36m\u001b[1mInfo: \u001b[22m\u001b[39m started timer at: 2024-04-02T10:48:28.254\n"
     ]
    },
    {
     "name": "stdout",
     "output_type": "stream",
     "text": [
      "false\n",
      "25\n",
      "1\n",
      "-82801.48360077079\n",
      "4571.928850378949\n",
      "-------------------------\n",
      "25K : 8\n",
      "[0, -800, -100, -1200, -2000]\n"
     ]
    },
    {
     "name": "stderr",
     "output_type": "stream",
     "text": [
      "\u001b[36m\u001b[1m[ \u001b[22m\u001b[39m\u001b[36m\u001b[1mInfo: \u001b[22m\u001b[39m          124.383347s: 2 minutes, 4 seconds, 383 milliseconds\n",
      "\u001b[36m\u001b[1m[ \u001b[22m\u001b[39m\u001b[36m\u001b[1mInfo: \u001b[22m\u001b[39m started timer at: 2024-04-02T10:50:32.648\n"
     ]
    },
    {
     "name": "stdout",
     "output_type": "stream",
     "text": [
      "false\n",
      "25\n",
      "1\n",
      "-86222.61061491774\n",
      "4638.055927439127\n",
      "-------------------------\n",
      "25K : 8\n",
      "[0, -1000, -100, -1200, -2000]\n"
     ]
    },
    {
     "name": "stderr",
     "output_type": "stream",
     "text": [
      "\u001b[36m\u001b[1m[ \u001b[22m\u001b[39m\u001b[36m\u001b[1mInfo: \u001b[22m\u001b[39m         123.0194273s: 2 minutes, 3 seconds, 19 milliseconds\n",
      "\u001b[36m\u001b[1m[ \u001b[22m\u001b[39m\u001b[36m\u001b[1mInfo: \u001b[22m\u001b[39m started timer at: 2024-04-02T10:52:35.678\n"
     ]
    },
    {
     "name": "stdout",
     "output_type": "stream",
     "text": [
      "false\n",
      "25\n",
      "1\n",
      "-89551.10198213592\n",
      "4650.262874439779\n",
      "-------------------------\n",
      "25K : 8\n",
      "[0, -1200, -100, -1200, -2000]\n"
     ]
    },
    {
     "name": "stderr",
     "output_type": "stream",
     "text": [
      "\u001b[36m\u001b[1m[ \u001b[22m\u001b[39m\u001b[36m\u001b[1mInfo: \u001b[22m\u001b[39m          123.128688s: 2 minutes, 3 seconds, 128 milliseconds\n",
      "\u001b[36m\u001b[1m[ \u001b[22m\u001b[39m\u001b[36m\u001b[1mInfo: \u001b[22m\u001b[39m started timer at: 2024-04-02T10:54:38.817\n"
     ]
    },
    {
     "name": "stdout",
     "output_type": "stream",
     "text": [
      "false\n",
      "25\n",
      "1\n",
      "-93066.53000064\n",
      "5325.053937293929\n",
      "-------------------------\n",
      "25K : 8\n",
      "[0, -1400, -100, -1200, -2000]\n"
     ]
    },
    {
     "name": "stderr",
     "output_type": "stream",
     "text": [
      "\u001b[36m\u001b[1m[ \u001b[22m\u001b[39m\u001b[36m\u001b[1mInfo: \u001b[22m\u001b[39m          129.274944s: 2 minutes, 9 seconds, 274 milliseconds\n",
      "\u001b[36m\u001b[1m[ \u001b[22m\u001b[39m\u001b[36m\u001b[1mInfo: \u001b[22m\u001b[39m started timer at: 2024-04-02T10:56:48.103\n"
     ]
    },
    {
     "name": "stdout",
     "output_type": "stream",
     "text": [
      "false\n",
      "25\n",
      "1\n",
      "-96534.21125216002\n",
      "4813.195101660078\n"
     ]
    },
    {
     "name": "stderr",
     "output_type": "stream",
     "text": [
      "\u001b[36m\u001b[1m[ \u001b[22m\u001b[39m\u001b[36m\u001b[1mInfo: \u001b[22m\u001b[39m         124.7747131s: 2 minutes, 4 seconds, 774 milliseconds\n"
     ]
    },
    {
     "name": "stdout",
     "output_type": "stream",
     "text": [
      "-------------------------\n",
      "25K : 8\n",
      "[0, -1600, -100, -1200, -2000]\n"
     ]
    },
    {
     "name": "stderr",
     "output_type": "stream",
     "text": [
      "\u001b[36m\u001b[1m[ \u001b[22m\u001b[39m\u001b[36m\u001b[1mInfo: \u001b[22m\u001b[39m started timer at: 2024-04-02T10:58:52.899\n"
     ]
    },
    {
     "name": "stdout",
     "output_type": "stream",
     "text": [
      "false\n",
      "25\n",
      "1\n",
      "-99910.43301046568\n",
      "4938.644829380896\n",
      "-------------------------\n",
      "25K : 8\n",
      "[0, -1800, -100, -1200, -2000]\n"
     ]
    },
    {
     "name": "stderr",
     "output_type": "stream",
     "text": [
      "\u001b[36m\u001b[1m[ \u001b[22m\u001b[39m\u001b[36m\u001b[1mInfo: \u001b[22m\u001b[39m         123.2224282s: 2 minutes, 3 seconds, 222 milliseconds\n",
      "\u001b[36m\u001b[1m[ \u001b[22m\u001b[39m\u001b[36m\u001b[1mInfo: \u001b[22m\u001b[39m started timer at: 2024-04-02T11:00:56.143\n"
     ]
    },
    {
     "name": "stdout",
     "output_type": "stream",
     "text": [
      "false\n",
      "25\n",
      "1\n",
      "-103369.88103117971\n",
      "4943.581740393133\n",
      "-------------------------\n"
     ]
    },
    {
     "name": "stderr",
     "output_type": "stream",
     "text": [
      "\u001b[36m\u001b[1m[ \u001b[22m\u001b[39m\u001b[36m\u001b[1mInfo: \u001b[22m\u001b[39m         123.2172399s: 2 minutes, 3 seconds, 217 milliseconds\n",
      "\u001b[36m\u001b[1m[ \u001b[22m\u001b[39m\u001b[36m\u001b[1mInfo: \u001b[22m\u001b[39m started timer at: 2024-04-02T11:02:59.371\n"
     ]
    },
    {
     "name": "stdout",
     "output_type": "stream",
     "text": [
      "25K : 8\n",
      "[0, -2000, -100, -1200, -2000]\n",
      "false\n",
      "25\n",
      "1\n",
      "-106798.47367946082\n",
      "5459.556331786485\n",
      "-------------------------\n"
     ]
    },
    {
     "name": "stderr",
     "output_type": "stream",
     "text": [
      "\u001b[36m\u001b[1m[ \u001b[22m\u001b[39m\u001b[36m\u001b[1mInfo: \u001b[22m\u001b[39m         128.7453664s: 2 minutes, 8 seconds, 745 milliseconds\n",
      "\u001b[36m\u001b[1m[ \u001b[22m\u001b[39m\u001b[36m\u001b[1mInfo: \u001b[22m\u001b[39m started timer at: 2024-04-02T11:05:08.116\n"
     ]
    },
    {
     "name": "stdout",
     "output_type": "stream",
     "text": [
      "25K : 8\n",
      "[0, -2400, -100, -1200, -2000]\n",
      "false\n",
      "25\n",
      "1\n",
      "-113798.3280533993\n",
      "5183.545739737415\n",
      "-------------------------\n",
      "25"
     ]
    },
    {
     "name": "stderr",
     "output_type": "stream",
     "text": [
      "\u001b[36m\u001b[1m[ \u001b[22m\u001b[39m\u001b[36m\u001b[1mInfo: \u001b[22m\u001b[39m         124.8291994s: 2 minutes, 4 seconds, 829 milliseconds\n",
      "\u001b[36m\u001b[1m[ \u001b[22m\u001b[39m\u001b[36m\u001b[1mInfo: \u001b[22m\u001b[39m started timer at: 2024-04-02T11:07:12.967\n"
     ]
    },
    {
     "name": "stdout",
     "output_type": "stream",
     "text": [
      "K : 8\n",
      "[0, -2800, -100, -1200, -2000]\n",
      "false\n",
      "25\n",
      "1\n",
      "-120633.1425815237\n",
      "5355.736114330461\n",
      "-------------------------\n",
      "25K : 8\n",
      "[0, -3200, -100, -1200, -2000]\n"
     ]
    },
    {
     "name": "stderr",
     "output_type": "stream",
     "text": [
      "\u001b[36m\u001b[1m[ \u001b[22m\u001b[39m\u001b[36m\u001b[1mInfo: \u001b[22m\u001b[39m         123.3078707s: 2 minutes, 3 seconds, 307 milliseconds\n",
      "\u001b[36m\u001b[1m[ \u001b[22m\u001b[39m\u001b[36m\u001b[1mInfo: \u001b[22m\u001b[39m started timer at: 2024-04-02T11:09:16.308\n"
     ]
    },
    {
     "name": "stdout",
     "output_type": "stream",
     "text": [
      "false\n",
      "25\n",
      "1\n",
      "-127390.04395197387\n",
      "5498.977447985342\n",
      "-------------------------\n",
      "25K : 10\n",
      "[0, -200, -100, -1200, -2000]\n"
     ]
    },
    {
     "name": "stderr",
     "output_type": "stream",
     "text": [
      "\u001b[36m\u001b[1m[ \u001b[22m\u001b[39m\u001b[36m\u001b[1mInfo: \u001b[22m\u001b[39m         123.0747004s: 2 minutes, 3 seconds, 74 milliseconds\n",
      "\u001b[36m\u001b[1m[ \u001b[22m\u001b[39m\u001b[36m\u001b[1mInfo: \u001b[22m\u001b[39m started timer at: 2024-04-02T11:11:19.393\n"
     ]
    },
    {
     "name": "stdout",
     "output_type": "stream",
     "text": [
      "false\n",
      "25\n",
      "1\n",
      "-73940.10844266396\n",
      "4409.462226410581\n",
      "-------------------------\n",
      "25K : 10"
     ]
    },
    {
     "name": "stderr",
     "output_type": "stream",
     "text": [
      "\u001b[36m\u001b[1m[ \u001b[22m\u001b[39m\u001b[36m\u001b[1mInfo: \u001b[22m\u001b[39m         128.9309846s: 2 minutes, 8 seconds, 930 milliseconds\n",
      "\u001b[36m\u001b[1m[ \u001b[22m\u001b[39m\u001b[36m\u001b[1mInfo: \u001b[22m\u001b[39m started timer at: 2024-04-02T11:13:28.345\n"
     ]
    },
    {
     "name": "stdout",
     "output_type": "stream",
     "text": [
      "\n",
      "[0, -400, -100, -1200, -2000]\n",
      "false\n",
      "25\n",
      "1\n",
      "-77274.33123274818\n",
      "4171.364178895235\n",
      "-------------------------\n"
     ]
    },
    {
     "name": "stderr",
     "output_type": "stream",
     "text": [
      "\u001b[36m\u001b[1m[ \u001b[22m\u001b[39m\u001b[36m\u001b[1mInfo: \u001b[22m\u001b[39m         125.0677238s: 2 minutes, 5 seconds, 67 milliseconds\n",
      "\u001b[36m\u001b[1m[ \u001b[22m\u001b[39m\u001b[36m\u001b[1mInfo: \u001b[22m\u001b[39m started timer at: 2024-04-02T11:15:33.424\n"
     ]
    },
    {
     "name": "stdout",
     "output_type": "stream",
     "text": [
      "25K : 10\n",
      "[0, -600, -100, -1200, -2000]\n",
      "false\n",
      "25\n",
      "1\n",
      "-80767.49196067163\n",
      "4159.3446579070915\n",
      "-------------------------"
     ]
    },
    {
     "name": "stderr",
     "output_type": "stream",
     "text": [
      "\u001b[36m\u001b[1m[ \u001b[22m\u001b[39m\u001b[36m\u001b[1mInfo: \u001b[22m\u001b[39m         123.1759192s: 2 minutes, 3 seconds, 175 milliseconds\n"
     ]
    },
    {
     "name": "stdout",
     "output_type": "stream",
     "text": [
      "\n",
      "25K : 10\n",
      "[0, -800, -100, -1200, -2000]\n"
     ]
    },
    {
     "name": "stderr",
     "output_type": "stream",
     "text": [
      "\u001b[36m\u001b[1m[ \u001b[22m\u001b[39m\u001b[36m\u001b[1mInfo: \u001b[22m\u001b[39m started timer at: 2024-04-02T11:17:36.621\n"
     ]
    },
    {
     "name": "stdout",
     "output_type": "stream",
     "text": [
      "false\n",
      "25\n",
      "1\n",
      "-84078.71193358299\n",
      "4275.5400378756285\n",
      "-------------------------\n"
     ]
    },
    {
     "name": "stderr",
     "output_type": "stream",
     "text": [
      "\u001b[36m\u001b[1m[ \u001b[22m\u001b[39m\u001b[36m\u001b[1mInfo: \u001b[22m\u001b[39m         123.2810467s: 2 minutes, 3 seconds, 281 milliseconds\n",
      "\u001b[36m\u001b[1m[ \u001b[22m\u001b[39m\u001b[36m\u001b[1mInfo: \u001b[22m\u001b[39m started timer at: 2024-04-02T11:19:39.924\n"
     ]
    },
    {
     "name": "stdout",
     "output_type": "stream",
     "text": [
      "25K : 10\n",
      "[0, -1000, -100, -1200, -2000]\n",
      "false\n",
      "25\n",
      "1\n",
      "-87553.49638615202\n",
      "4489.233761430168\n",
      "-------------------------\n",
      "25K : 10\n",
      "[0, -1200, -100, -1200, -2000]\n"
     ]
    },
    {
     "name": "stderr",
     "output_type": "stream",
     "text": [
      "\u001b[36m\u001b[1m[ \u001b[22m\u001b[39m\u001b[36m\u001b[1mInfo: \u001b[22m\u001b[39m         127.1469146s: 2 minutes, 7 seconds, 146 milliseconds\n",
      "\u001b[36m\u001b[1m[ \u001b[22m\u001b[39m\u001b[36m\u001b[1mInfo: \u001b[22m\u001b[39m started timer at: 2024-04-02T11:21:47.081\n"
     ]
    },
    {
     "name": "stdout",
     "output_type": "stream",
     "text": [
      "false\n",
      "25\n",
      "1\n",
      "-90986.6505738115\n",
      "4398.73109378925\n",
      "-------------------------\n",
      "25K : 10\n",
      "[0, -1400, -100, -1200, -2000]\n"
     ]
    },
    {
     "name": "stderr",
     "output_type": "stream",
     "text": [
      "\u001b[36m\u001b[1m[ \u001b[22m\u001b[39m\u001b[36m\u001b[1mInfo: \u001b[22m\u001b[39m         125.2354036s: 2 minutes, 5 seconds, 235 milliseconds\n",
      "\u001b[36m\u001b[1m[ \u001b[22m\u001b[39m\u001b[36m\u001b[1mInfo: \u001b[22m\u001b[39m started timer at: 2024-04-02T11:23:52.338\n"
     ]
    },
    {
     "name": "stdout",
     "output_type": "stream",
     "text": [
      "false\n",
      "25\n",
      "1\n",
      "-94397.02958730991\n",
      "4452.47364673287\n",
      "-------------------------\n",
      "25"
     ]
    },
    {
     "name": "stderr",
     "output_type": "stream",
     "text": [
      "\u001b[36m\u001b[1m[ \u001b[22m\u001b[39m\u001b[36m\u001b[1mInfo: \u001b[22m\u001b[39m         123.3684365s: 2 minutes, 3 seconds, 368 milliseconds\n",
      "\u001b[36m\u001b[1m[ \u001b[22m\u001b[39m\u001b[36m\u001b[1mInfo: \u001b[22m\u001b[39m started timer at: 2024-04-02T11:25:55.706\n"
     ]
    },
    {
     "name": "stdout",
     "output_type": "stream",
     "text": [
      "K : 10\n",
      "[0, -1600, -100, -1200, -2000]\n",
      "false\n",
      "25\n",
      "1\n",
      "-97939.39803317637\n",
      "4489.61177205985\n",
      "-------------------------\n",
      "25K : 10\n",
      "[0, -1800, -100, -1200, -2000]\n"
     ]
    },
    {
     "name": "stderr",
     "output_type": "stream",
     "text": [
      "\u001b[36m\u001b[1m[ \u001b[22m\u001b[39m\u001b[36m\u001b[1mInfo: \u001b[22m\u001b[39m         123.0769999s: 2 minutes, 3 seconds, 76 milliseconds\n",
      "\u001b[36m\u001b[1m[ \u001b[22m\u001b[39m\u001b[36m\u001b[1mInfo: \u001b[22m\u001b[39m started timer at: 2024-04-02T11:27:58.805\n"
     ]
    },
    {
     "name": "stdout",
     "output_type": "stream",
     "text": [
      "false\n",
      "25\n",
      "1\n",
      "-101316.4409188057\n",
      "4699.0957038537845\n"
     ]
    },
    {
     "name": "stderr",
     "output_type": "stream",
     "text": [
      "\u001b[36m\u001b[1m[ \u001b[22m\u001b[39m\u001b[36m\u001b[1mInfo: \u001b[22m\u001b[39m         125.2231872s: 2 minutes, 5 seconds, 223 milliseconds\n"
     ]
    },
    {
     "name": "stdout",
     "output_type": "stream",
     "text": [
      "-------------------------\n",
      "25K : 10\n",
      "[0, -2000, -100, -1200, -2000]\n"
     ]
    },
    {
     "name": "stderr",
     "output_type": "stream",
     "text": [
      "\u001b[36m\u001b[1m[ \u001b[22m\u001b[39m\u001b[36m\u001b[1mInfo: \u001b[22m\u001b[39m started timer at: 2024-04-02T11:30:04.050\n"
     ]
    },
    {
     "name": "stdout",
     "output_type": "stream",
     "text": [
      "false\n",
      "25\n",
      "1\n",
      "-104795.17012426374\n",
      "4743.55509393351\n",
      "-------------------------\n",
      "25K : 10"
     ]
    },
    {
     "name": "stderr",
     "output_type": "stream",
     "text": [
      "\u001b[36m\u001b[1m[ \u001b[22m\u001b[39m\u001b[36m\u001b[1mInfo: \u001b[22m\u001b[39m         124.8371194s: 2 minutes, 4 seconds, 837 milliseconds\n",
      "\u001b[36m\u001b[1m[ \u001b[22m\u001b[39m\u001b[36m\u001b[1mInfo: \u001b[22m\u001b[39m started timer at: 2024-04-02T11:32:08.908\n"
     ]
    },
    {
     "name": "stdout",
     "output_type": "stream",
     "text": [
      "\n",
      "[0, -2400, -100, -1200, -2000]\n",
      "false\n",
      "25\n",
      "1\n",
      "-111681.25356226525\n",
      "4777.349704292486\n",
      "-------------------------\n",
      "25K : 10\n",
      "[0, -2800, -100, -1200, -2000]\n"
     ]
    },
    {
     "name": "stderr",
     "output_type": "stream",
     "text": [
      "\u001b[36m\u001b[1m[ \u001b[22m\u001b[39m\u001b[36m\u001b[1mInfo: \u001b[22m\u001b[39m         122.1040713s: 2 minutes, 2 seconds, 104 milliseconds\n",
      "\u001b[36m\u001b[1m[ \u001b[22m\u001b[39m\u001b[36m\u001b[1mInfo: \u001b[22m\u001b[39m started timer at: 2024-04-02T11:34:11.012\n"
     ]
    },
    {
     "name": "stdout",
     "output_type": "stream",
     "text": [
      "false\n",
      "25\n",
      "1\n",
      "-118548.0281396078\n",
      "5023.295713887188\n",
      "-------------------------\n",
      "25K : 10\n",
      "[0, -3200, -100, -1200, -2000]\n"
     ]
    },
    {
     "name": "stderr",
     "output_type": "stream",
     "text": [
      "\u001b[36m\u001b[1m[ \u001b[22m\u001b[39m\u001b[36m\u001b[1mInfo: \u001b[22m\u001b[39m          122.571357s: 2 minutes, 2 seconds, 571 milliseconds\n",
      "\u001b[36m\u001b[1m[ \u001b[22m\u001b[39m\u001b[36m\u001b[1mInfo: \u001b[22m\u001b[39m started timer at: 2024-04-02T11:36:13.594\n"
     ]
    },
    {
     "name": "stdout",
     "output_type": "stream",
     "text": [
      "false\n",
      "25\n",
      "1\n",
      "-125534.0585733338\n",
      "5266.71617022203\n",
      "-------------------------\n",
      "25K : 12\n",
      "[0, -200, -100, -1200, -2000]\n"
     ]
    },
    {
     "name": "stderr",
     "output_type": "stream",
     "text": [
      "\u001b[36m\u001b[1m[ \u001b[22m\u001b[39m\u001b[36m\u001b[1mInfo: \u001b[22m\u001b[39m         123.5226834s: 2 minutes, 3 seconds, 522 milliseconds\n",
      "\u001b[36m\u001b[1m[ \u001b[22m\u001b[39m\u001b[36m\u001b[1mInfo: \u001b[22m\u001b[39m started timer at: 2024-04-02T11:38:17.116\n"
     ]
    },
    {
     "name": "stdout",
     "output_type": "stream",
     "text": [
      "false\n",
      "25\n",
      "1\n",
      "-72726.03148326356\n",
      "3943.4732762726685\n",
      "-------------------------\n",
      "25K : 12\n"
     ]
    },
    {
     "name": "stderr",
     "output_type": "stream",
     "text": [
      "\u001b[36m\u001b[1m[ \u001b[22m\u001b[39m\u001b[36m\u001b[1mInfo: \u001b[22m\u001b[39m         126.4066858s: 2 minutes, 6 seconds, 406 milliseconds\n",
      "\u001b[36m\u001b[1m[ \u001b[22m\u001b[39m\u001b[36m\u001b[1mInfo: \u001b[22m\u001b[39m started timer at: 2024-04-02T11:40:23.556\n"
     ]
    },
    {
     "name": "stdout",
     "output_type": "stream",
     "text": [
      "[0, -400, -100, -1200, -2000]\n",
      "false\n",
      "25\n",
      "1\n",
      "-76132.97626727558\n",
      "3852.7351379934644\n",
      "-------------------------\n",
      "25K : 12\n"
     ]
    },
    {
     "name": "stderr",
     "output_type": "stream",
     "text": [
      "\u001b[36m\u001b[1m[ \u001b[22m\u001b[39m\u001b[36m\u001b[1mInfo: \u001b[22m\u001b[39m         122.1396721s: 2 minutes, 2 seconds, 139 milliseconds\n",
      "\u001b[36m\u001b[1m[ \u001b[22m\u001b[39m\u001b[36m\u001b[1mInfo: \u001b[22m\u001b[39m started timer at: 2024-04-02T11:42:25.706\n"
     ]
    },
    {
     "name": "stdout",
     "output_type": "stream",
     "text": [
      "[0, -600, -100, -1200, -2000]\n",
      "false\n",
      "25\n",
      "1\n",
      "-79656.6840583653\n",
      "3959.445967069589\n",
      "-------------------------\n",
      "25K : 12\n",
      "[0, -800, -100, -1200, -2000]\n"
     ]
    },
    {
     "name": "stderr",
     "output_type": "stream",
     "text": [
      "\u001b[36m\u001b[1m[ \u001b[22m\u001b[39m\u001b[36m\u001b[1mInfo: \u001b[22m\u001b[39m         121.8354936s: 2 minutes, 1 second, 835 milliseconds\n",
      "\u001b[36m\u001b[1m[ \u001b[22m\u001b[39m\u001b[36m\u001b[1mInfo: \u001b[22m\u001b[39m started timer at: 2024-04-02T11:44:27.552\n"
     ]
    },
    {
     "name": "stdout",
     "output_type": "stream",
     "text": [
      "false\n",
      "25\n",
      "1\n",
      "-82997.37617711088\n",
      "3944.9144692382165\n",
      "-------------------------\n",
      "25K : 12\n",
      "[0, -1000, -100, -1200, -2000]\n"
     ]
    },
    {
     "name": "stderr",
     "output_type": "stream",
     "text": [
      "\u001b[36m\u001b[1m[ \u001b[22m\u001b[39m\u001b[36m\u001b[1mInfo: \u001b[22m\u001b[39m          122.227169s: 2 minutes, 2 seconds, 227 milliseconds\n",
      "\u001b[36m\u001b[1m[ \u001b[22m\u001b[39m\u001b[36m\u001b[1mInfo: \u001b[22m\u001b[39m started timer at: 2024-04-02T11:46:29.790\n"
     ]
    },
    {
     "name": "stdout",
     "output_type": "stream",
     "text": [
      "false\n",
      "25\n",
      "1\n",
      "-86405.53400726798\n",
      "4176.626450299779\n",
      "-------------------------\n",
      "25K : 12\n",
      "[0, -1200, -100, -1200, -2000]\n"
     ]
    },
    {
     "name": "stderr",
     "output_type": "stream",
     "text": [
      "\u001b[36m\u001b[1m[ \u001b[22m\u001b[39m\u001b[36m\u001b[1mInfo: \u001b[22m\u001b[39m         128.5911654s: 2 minutes, 8 seconds, 591 milliseconds\n",
      "\u001b[36m\u001b[1m[ \u001b[22m\u001b[39m\u001b[36m\u001b[1mInfo: \u001b[22m\u001b[39m started timer at: 2024-04-02T11:48:38.392\n"
     ]
    },
    {
     "name": "stdout",
     "output_type": "stream",
     "text": [
      "false\n",
      "25\n",
      "1\n",
      "-89847.76669819899\n",
      "4135.291975897678\n",
      "-------------------------\n",
      "25K : 12\n",
      "[0, -1400, -100, -1200, -2000]\n"
     ]
    },
    {
     "name": "stderr",
     "output_type": "stream",
     "text": [
      "\u001b[36m\u001b[1m[ \u001b[22m\u001b[39m\u001b[36m\u001b[1mInfo: \u001b[22m\u001b[39m         122.2951847s: 2 minutes, 2 seconds, 295 milliseconds\n",
      "\u001b[36m\u001b[1m[ \u001b[22m\u001b[39m\u001b[36m\u001b[1mInfo: \u001b[22m\u001b[39m started timer at: 2024-04-02T11:50:40.697\n"
     ]
    },
    {
     "name": "stdout",
     "output_type": "stream",
     "text": [
      "false\n",
      "25\n",
      "1\n",
      "-93344.58885968\n",
      "4241.675895573377\n",
      "-------------------------\n",
      "25K : 12\n",
      "[0, -1600, -100, -1200, -2000]\n"
     ]
    },
    {
     "name": "stderr",
     "output_type": "stream",
     "text": [
      "\u001b[36m\u001b[1m[ \u001b[22m\u001b[39m\u001b[36m\u001b[1mInfo: \u001b[22m\u001b[39m         122.1256436s: 2 minutes, 2 seconds, 125 milliseconds\n",
      "\u001b[36m\u001b[1m[ \u001b[22m\u001b[39m\u001b[36m\u001b[1mInfo: \u001b[22m\u001b[39m started timer at: 2024-04-02T11:52:42.823\n"
     ]
    },
    {
     "name": "stdout",
     "output_type": "stream",
     "text": [
      "false\n",
      "25\n",
      "1\n",
      "-96759.28858902134\n",
      "4253.507969426383\n",
      "-------------------------\n",
      "25K : 12\n",
      "[0, -1800, -100, -1200, -2000]\n"
     ]
    },
    {
     "name": "stderr",
     "output_type": "stream",
     "text": [
      "\u001b[36m\u001b[1m[ \u001b[22m\u001b[39m\u001b[36m\u001b[1mInfo: \u001b[22m\u001b[39m         122.1756696s: 2 minutes, 2 seconds, 175 milliseconds\n",
      "\u001b[36m\u001b[1m[ \u001b[22m\u001b[39m\u001b[36m\u001b[1mInfo: \u001b[22m\u001b[39m started timer at: 2024-04-02T11:54:44.999\n"
     ]
    },
    {
     "name": "stdout",
     "output_type": "stream",
     "text": [
      "false\n",
      "25\n",
      "1\n",
      "-100191.95478713654\n",
      "4468.341504735696\n",
      "-------------------------\n",
      "25K : 12\n",
      "[0, -2000, -100, -1200, -2000]\n"
     ]
    },
    {
     "name": "stderr",
     "output_type": "stream",
     "text": [
      "\u001b[36m\u001b[1m[ \u001b[22m\u001b[39m\u001b[36m\u001b[1mInfo: \u001b[22m\u001b[39m          128.918571s: 2 minutes, 8 seconds, 918 milliseconds\n",
      "\u001b[36m\u001b[1m[ \u001b[22m\u001b[39m\u001b[36m\u001b[1mInfo: \u001b[22m\u001b[39m started timer at: 2024-04-02T11:56:53.939\n"
     ]
    },
    {
     "name": "stdout",
     "output_type": "stream",
     "text": [
      "false\n",
      "25\n",
      "1\n",
      "-103604.60890873424\n",
      "4449.404108543528\n",
      "-------------------------\n",
      "25K : 12\n",
      "[0, -2400, -100, -1200, -2000]\n"
     ]
    },
    {
     "name": "stderr",
     "output_type": "stream",
     "text": [
      "\u001b[36m\u001b[1m[ \u001b[22m\u001b[39m\u001b[36m\u001b[1mInfo: \u001b[22m\u001b[39m         121.9913213s: 2 minutes, 1 second, 991 milliseconds\n",
      "\u001b[36m\u001b[1m[ \u001b[22m\u001b[39m\u001b[36m\u001b[1mInfo: \u001b[22m\u001b[39m started timer at: 2024-04-02T11:58:55.941\n"
     ]
    },
    {
     "name": "stdout",
     "output_type": "stream",
     "text": [
      "false\n",
      "25\n",
      "1\n",
      "-110488.20302621898\n",
      "4665.790385548554\n",
      "-------------------------\n",
      "25K : 12\n",
      "[0, -2800, -100, -1200, -2000]\n"
     ]
    },
    {
     "name": "stderr",
     "output_type": "stream",
     "text": [
      "\u001b[36m\u001b[1m[ \u001b[22m\u001b[39m\u001b[36m\u001b[1mInfo: \u001b[22m\u001b[39m         122.0228364s: 2 minutes, 2 seconds, 22 milliseconds\n",
      "\u001b[36m\u001b[1m[ \u001b[22m\u001b[39m\u001b[36m\u001b[1mInfo: \u001b[22m\u001b[39m started timer at: 2024-04-02T12:00:57.975\n"
     ]
    },
    {
     "name": "stdout",
     "output_type": "stream",
     "text": [
      "false\n",
      "25\n",
      "1\n",
      "-117303.31835869134\n",
      "4829.141086932734\n",
      "-------------------------\n"
     ]
    },
    {
     "name": "stderr",
     "output_type": "stream",
     "text": [
      "\u001b[36m\u001b[1m[ \u001b[22m\u001b[39m\u001b[36m\u001b[1mInfo: \u001b[22m\u001b[39m          122.472786s: 2 minutes, 2 seconds, 472 milliseconds\n",
      "\u001b[36m\u001b[1m[ \u001b[22m\u001b[39m\u001b[36m\u001b[1mInfo: \u001b[22m\u001b[39m started timer at: 2024-04-02T12:03:00.458\n"
     ]
    },
    {
     "name": "stdout",
     "output_type": "stream",
     "text": [
      "25K : 12\n",
      "[0, -3200, -100, -1200, -2000]\n",
      "false\n",
      "25\n",
      "1\n",
      "-124210.7680968752\n",
      "5107.236264273292\n",
      "-------------------------\n",
      "20K : 2\n",
      "[0, -200, -100, -1200, -2000]\n"
     ]
    },
    {
     "name": "stderr",
     "output_type": "stream",
     "text": [
      "\u001b[36m\u001b[1m[ \u001b[22m\u001b[39m\u001b[36m\u001b[1mInfo: \u001b[22m\u001b[39m         129.5314295s: 2 minutes, 9 seconds, 531 milliseconds\n",
      "\u001b[36m\u001b[1m[ \u001b[22m\u001b[39m\u001b[36m\u001b[1mInfo: \u001b[22m\u001b[39m started timer at: 2024-04-02T12:05:10.011\n"
     ]
    },
    {
     "name": "stdout",
     "output_type": "stream",
     "text": [
      "false\n",
      "20\n",
      "1\n",
      "-80819.40130354479\n",
      "5172.092642494024\n",
      "-------------------------\n",
      "20K : 2\n",
      "[0, -400, -100, -1200, -2000]\n"
     ]
    },
    {
     "name": "stderr",
     "output_type": "stream",
     "text": [
      "\u001b[36m\u001b[1m[ \u001b[22m\u001b[39m\u001b[36m\u001b[1mInfo: \u001b[22m\u001b[39m          97.8859024s: 1 minute, 37 seconds, 885 milliseconds\n",
      "\u001b[36m\u001b[1m[ \u001b[22m\u001b[39m\u001b[36m\u001b[1mInfo: \u001b[22m\u001b[39m started timer at: 2024-04-02T12:06:47.908\n"
     ]
    },
    {
     "name": "stdout",
     "output_type": "stream",
     "text": [
      "false\n",
      "20\n",
      "1\n",
      "-84213.75818990932\n",
      "5158.988273468669\n",
      "-------------------------\n",
      "20K : 2\n",
      "[0, -600, -100, -1200, -2000]\n"
     ]
    },
    {
     "name": "stderr",
     "output_type": "stream",
     "text": [
      "\u001b[36m\u001b[1m[ \u001b[22m\u001b[39m\u001b[36m\u001b[1mInfo: \u001b[22m\u001b[39m          97.7148152s: 1 minute, 37 seconds, 714 milliseconds\n",
      "\u001b[36m\u001b[1m[ \u001b[22m\u001b[39m\u001b[36m\u001b[1mInfo: \u001b[22m\u001b[39m started timer at: 2024-04-02T12:08:25.645\n"
     ]
    },
    {
     "name": "stdout",
     "output_type": "stream",
     "text": [
      "false\n",
      "20\n",
      "1\n",
      "-87395.95143482456\n",
      "5219.824284621715\n",
      "-------------------------\n",
      "20K : 2\n",
      "[0, -800, -100, -1200, -2000]\n"
     ]
    },
    {
     "name": "stderr",
     "output_type": "stream",
     "text": [
      "\u001b[36m\u001b[1m[ \u001b[22m\u001b[39m\u001b[36m\u001b[1mInfo: \u001b[22m\u001b[39m          97.8400931s: 1 minute, 37 seconds, 840 milliseconds\n",
      "\u001b[36m\u001b[1m[ \u001b[22m\u001b[39m\u001b[36m\u001b[1mInfo: \u001b[22m\u001b[39m started timer at: 2024-04-02T12:10:03.506\n"
     ]
    },
    {
     "name": "stdout",
     "output_type": "stream",
     "text": [
      "false\n",
      "20\n",
      "1\n",
      "-90751.82793404772\n",
      "5297.263353867279\n",
      "-------------------------\n",
      "20K : 2\n",
      "[0, -1000, -100, -1200, -2000]\n"
     ]
    },
    {
     "name": "stderr",
     "output_type": "stream",
     "text": [
      "\u001b[36m\u001b[1m[ \u001b[22m\u001b[39m\u001b[36m\u001b[1mInfo: \u001b[22m\u001b[39m          97.8064978s: 1 minute, 37 seconds, 806 milliseconds\n",
      "\u001b[36m\u001b[1m[ \u001b[22m\u001b[39m\u001b[36m\u001b[1mInfo: \u001b[22m\u001b[39m started timer at: 2024-04-02T12:11:41.334\n"
     ]
    },
    {
     "name": "stdout",
     "output_type": "stream",
     "text": [
      "false\n",
      "20\n",
      "1\n",
      "-94060.26920880415\n",
      "5880.15622715752\n",
      "-------------------------\n",
      "20K : 2\n",
      "[0, -1200, -100, -1200, -2000]\n"
     ]
    },
    {
     "name": "stderr",
     "output_type": "stream",
     "text": [
      "\u001b[36m\u001b[1m[ \u001b[22m\u001b[39m\u001b[36m\u001b[1mInfo: \u001b[22m\u001b[39m         104.4763597s: 1 minute, 44 seconds, 476 milliseconds\n",
      "\u001b[36m\u001b[1m[ \u001b[22m\u001b[39m\u001b[36m\u001b[1mInfo: \u001b[22m\u001b[39m started timer at: 2024-04-02T12:13:25.832\n"
     ]
    },
    {
     "name": "stdout",
     "output_type": "stream",
     "text": [
      "false\n",
      "20\n",
      "1\n",
      "-97475.1844613039\n",
      "5421.321947424595\n",
      "-------------------------\n",
      "20K : 2\n",
      "[0, -1400, -100, -1200, -2000]\n"
     ]
    },
    {
     "name": "stderr",
     "output_type": "stream",
     "text": [
      "\u001b[36m\u001b[1m[ \u001b[22m\u001b[39m\u001b[36m\u001b[1mInfo: \u001b[22m\u001b[39m          98.6628888s: 1 minute, 38 seconds, 662 milliseconds\n",
      "\u001b[36m\u001b[1m[ \u001b[22m\u001b[39m\u001b[36m\u001b[1mInfo: \u001b[22m\u001b[39m started timer at: 2024-04-02T12:15:04.506\n"
     ]
    },
    {
     "name": "stdout",
     "output_type": "stream",
     "text": [
      "false\n",
      "20\n",
      "1\n",
      "-100916.08905007372\n",
      "5450.681364391487\n",
      "-------------------------\n",
      "20K : 2\n",
      "[0, -1600, -100, -1200, -2000]\n"
     ]
    },
    {
     "name": "stderr",
     "output_type": "stream",
     "text": [
      "\u001b[36m\u001b[1m[ \u001b[22m\u001b[39m\u001b[36m\u001b[1mInfo: \u001b[22m\u001b[39m          97.9386035s: 1 minute, 37 seconds, 938 milliseconds\n",
      "\u001b[36m\u001b[1m[ \u001b[22m\u001b[39m\u001b[36m\u001b[1mInfo: \u001b[22m\u001b[39m started timer at: 2024-04-02T12:16:42.477\n"
     ]
    },
    {
     "name": "stdout",
     "output_type": "stream",
     "text": [
      "false\n",
      "20\n",
      "1\n",
      "-104187.42873604916\n",
      "5549.934823748775\n",
      "-------------------------\n",
      "20K : 2\n"
     ]
    },
    {
     "name": "stderr",
     "output_type": "stream",
     "text": [
      "\u001b[36m\u001b[1m[ \u001b[22m\u001b[39m\u001b[36m\u001b[1mInfo: \u001b[22m\u001b[39m          98.3197777s: 1 minute, 38 seconds, 319 milliseconds\n",
      "\u001b[36m\u001b[1m[ \u001b[22m\u001b[39m\u001b[36m\u001b[1mInfo: \u001b[22m\u001b[39m started timer at: 2024-04-02T12:18:20.808\n"
     ]
    },
    {
     "name": "stdout",
     "output_type": "stream",
     "text": [
      "[0, -1800, -100, -1200, -2000]\n",
      "false\n",
      "20\n",
      "1\n",
      "-107566.20964188997\n",
      "5623.320328809714\n",
      "-------------------------\n",
      "20K : 2\n",
      "[0"
     ]
    },
    {
     "name": "stderr",
     "output_type": "stream",
     "text": [
      "\u001b[36m\u001b[1m[ \u001b[22m\u001b[39m\u001b[36m\u001b[1mInfo: \u001b[22m\u001b[39m          97.7402636s: 1 minute, 37 seconds, 740 milliseconds\n",
      "\u001b[36m\u001b[1m[ \u001b[22m\u001b[39m\u001b[36m\u001b[1mInfo: \u001b[22m\u001b[39m started timer at: 2024-04-02T12:19:58.559\n"
     ]
    },
    {
     "name": "stdout",
     "output_type": "stream",
     "text": [
      ", -2000, -100, -1200, -2000]\n",
      "false\n",
      "20\n",
      "1\n",
      "-110690.85377138088\n",
      "6387.084241373023\n"
     ]
    },
    {
     "name": "stderr",
     "output_type": "stream",
     "text": [
      "\u001b[36m\u001b[1m[ \u001b[22m\u001b[39m\u001b[36m\u001b[1mInfo: \u001b[22m\u001b[39m         103.5754037s: 1 minute, 43 seconds, 575 milliseconds\n"
     ]
    },
    {
     "name": "stdout",
     "output_type": "stream",
     "text": [
      "-------------------------\n",
      "20K : 2\n",
      "[0, -2400, -100, -1200, -2000]\n"
     ]
    },
    {
     "name": "stderr",
     "output_type": "stream",
     "text": [
      "\u001b[36m\u001b[1m[ \u001b[22m\u001b[39m\u001b[36m\u001b[1mInfo: \u001b[22m\u001b[39m started timer at: 2024-04-02T12:21:42.156\n"
     ]
    },
    {
     "name": "stdout",
     "output_type": "stream",
     "text": [
      "false\n",
      "20\n",
      "1\n",
      "-117396.21620100422\n",
      "5898.727912622009\n"
     ]
    },
    {
     "name": "stderr",
     "output_type": "stream",
     "text": [
      "\u001b[36m\u001b[1m[ \u001b[22m\u001b[39m\u001b[36m\u001b[1mInfo: \u001b[22m\u001b[39m          98.4079804s: 1 minute, 38 seconds, 407 milliseconds\n"
     ]
    },
    {
     "name": "stdout",
     "output_type": "stream",
     "text": [
      "-------------------------\n",
      "20K : 2\n",
      "[0, -2800, -100, -1200, -2000]\n"
     ]
    },
    {
     "name": "stderr",
     "output_type": "stream",
     "text": [
      "\u001b[36m\u001b[1m[ \u001b[22m\u001b[39m\u001b[36m\u001b[1mInfo: \u001b[22m\u001b[39m started timer at: 2024-04-02T12:23:20.575\n"
     ]
    },
    {
     "name": "stdout",
     "output_type": "stream",
     "text": [
      "false\n",
      "20\n",
      "1\n",
      "-124090.43611299031\n",
      "6010.311614202987\n",
      "-------------------------\n",
      "20K : 2\n",
      "[0, -3200, -100, -1200, -2000]\n"
     ]
    },
    {
     "name": "stderr",
     "output_type": "stream",
     "text": [
      "\u001b[36m\u001b[1m[ \u001b[22m\u001b[39m\u001b[36m\u001b[1mInfo: \u001b[22m\u001b[39m          97.9925984s: 1 minute, 37 seconds, 992 milliseconds\n",
      "\u001b[36m\u001b[1m[ \u001b[22m\u001b[39m\u001b[36m\u001b[1mInfo: \u001b[22m\u001b[39m started timer at: 2024-04-02T12:24:58.579\n"
     ]
    },
    {
     "name": "stdout",
     "output_type": "stream",
     "text": [
      "false\n",
      "20\n",
      "1\n",
      "-130800.5448243519\n",
      "6282.07282421295\n",
      "-------------------------\n",
      "20K : 4\n",
      "[0, -200, -100, -1200, -2000]\n"
     ]
    },
    {
     "name": "stderr",
     "output_type": "stream",
     "text": [
      "\u001b[36m\u001b[1m[ \u001b[22m\u001b[39m\u001b[36m\u001b[1mInfo: \u001b[22m\u001b[39m           98.137741s: 1 minute, 38 seconds, 137 milliseconds\n",
      "\u001b[36m\u001b[1m[ \u001b[22m\u001b[39m\u001b[36m\u001b[1mInfo: \u001b[22m\u001b[39m started timer at: 2024-04-02T12:26:36.738\n"
     ]
    },
    {
     "name": "stdout",
     "output_type": "stream",
     "text": [
      "false\n",
      "20\n",
      "1\n",
      "-70416.81769590105\n",
      "5014.105930255711\n",
      "-------------------------\n",
      "20K : 4\n",
      "[0, -400, -100, -1200, -2000]\n"
     ]
    },
    {
     "name": "stderr",
     "output_type": "stream",
     "text": [
      "\u001b[36m\u001b[1m[ \u001b[22m\u001b[39m\u001b[36m\u001b[1mInfo: \u001b[22m\u001b[39m          97.8068374s: 1 minute, 37 seconds, 806 milliseconds\n",
      "\u001b[36m\u001b[1m[ \u001b[22m\u001b[39m\u001b[36m\u001b[1mInfo: \u001b[22m\u001b[39m started timer at: 2024-04-02T12:28:14.567\n"
     ]
    },
    {
     "name": "stdout",
     "output_type": "stream",
     "text": [
      "false\n",
      "20\n",
      "1\n",
      "-73803.1286526771\n",
      "5786.774376724707\n",
      "-------------------------\n",
      "20K : 4\n",
      "[0, -600, -100, -1200, -2000]\n"
     ]
    },
    {
     "name": "stderr",
     "output_type": "stream",
     "text": [
      "\u001b[36m\u001b[1m[ \u001b[22m\u001b[39m\u001b[36m\u001b[1mInfo: \u001b[22m\u001b[39m         103.5076594s: 1 minute, 43 seconds, 507 milliseconds\n",
      "\u001b[36m\u001b[1m[ \u001b[22m\u001b[39m\u001b[36m\u001b[1mInfo: \u001b[22m\u001b[39m started timer at: 2024-04-02T12:29:58.096\n"
     ]
    },
    {
     "name": "stdout",
     "output_type": "stream",
     "text": [
      "false\n",
      "20\n",
      "1\n",
      "-77071.12571297698\n",
      "5120.612269681711\n",
      "-------------------------\n",
      "20K : 4\n",
      "[0, -800, -100, -1200, -2000]\n"
     ]
    },
    {
     "name": "stderr",
     "output_type": "stream",
     "text": [
      "\u001b[36m\u001b[1m[ \u001b[22m\u001b[39m\u001b[36m\u001b[1mInfo: \u001b[22m\u001b[39m          99.5948939s: 1 minute, 39 seconds, 594 milliseconds\n",
      "\u001b[36m\u001b[1m[ \u001b[22m\u001b[39m\u001b[36m\u001b[1mInfo: \u001b[22m\u001b[39m started timer at: 2024-04-02T12:31:37.702\n"
     ]
    },
    {
     "name": "stdout",
     "output_type": "stream",
     "text": [
      "false\n",
      "20\n",
      "1\n",
      "-80478.43007433444\n",
      "5141.083147019807\n",
      "-------------------------"
     ]
    },
    {
     "name": "stderr",
     "output_type": "stream",
     "text": [
      "\u001b[36m\u001b[1m[ \u001b[22m\u001b[39m\u001b[36m\u001b[1mInfo: \u001b[22m\u001b[39m          98.4469896s: 1 minute, 38 seconds, 446 milliseconds\n"
     ]
    },
    {
     "name": "stdout",
     "output_type": "stream",
     "text": [
      "\n",
      "20K : 4\n",
      "[0, -1000, -100, -1200, -2000]\n"
     ]
    },
    {
     "name": "stderr",
     "output_type": "stream",
     "text": [
      "\u001b[36m\u001b[1m[ \u001b[22m\u001b[39m\u001b[36m\u001b[1mInfo: \u001b[22m\u001b[39m started timer at: 2024-04-02T12:33:16.170\n"
     ]
    },
    {
     "name": "stdout",
     "output_type": "stream",
     "text": [
      "false\n",
      "20\n",
      "1\n",
      "-83776.51059470963\n",
      "5203.251991648758\n"
     ]
    },
    {
     "name": "stderr",
     "output_type": "stream",
     "text": [
      "\u001b[36m\u001b[1m[ \u001b[22m\u001b[39m\u001b[36m\u001b[1mInfo: \u001b[22m\u001b[39m          98.2315786s: 1 minute, 38 seconds, 231 milliseconds\n"
     ]
    },
    {
     "name": "stdout",
     "output_type": "stream",
     "text": [
      "-------------------------\n",
      "20K : 4\n",
      "[0, -1200, -100, -1200, -2000]\n"
     ]
    },
    {
     "name": "stderr",
     "output_type": "stream",
     "text": [
      "\u001b[36m\u001b[1m[ \u001b[22m\u001b[39m\u001b[36m\u001b[1mInfo: \u001b[22m\u001b[39m started timer at: 2024-04-02T12:34:54.413\n"
     ]
    },
    {
     "name": "stdout",
     "output_type": "stream",
     "text": [
      "false\n",
      "20\n",
      "1\n",
      "-87102.4971121989\n",
      "5320.022222353164\n",
      "-------------------------\n",
      "20K : 4\n",
      "[0, -1400, -100, -1200, -2000]\n"
     ]
    },
    {
     "name": "stderr",
     "output_type": "stream",
     "text": [
      "\u001b[36m\u001b[1m[ \u001b[22m\u001b[39m\u001b[36m\u001b[1mInfo: \u001b[22m\u001b[39m          97.8796317s: 1 minute, 37 seconds, 879 milliseconds\n",
      "\u001b[36m\u001b[1m[ \u001b[22m\u001b[39m\u001b[36m\u001b[1mInfo: \u001b[22m\u001b[39m started timer at: 2024-04-02T12:36:32.292\n"
     ]
    },
    {
     "name": "stdout",
     "output_type": "stream",
     "text": [
      "false\n",
      "20\n",
      "1\n",
      "-90440.48703789695\n",
      "6014.3808456523375\n",
      "-------------------------\n",
      "20K : 4\n",
      "[0, -1600, -100, -1200, -2000]\n"
     ]
    },
    {
     "name": "stderr",
     "output_type": "stream",
     "text": [
      "\u001b[36m\u001b[1m[ \u001b[22m\u001b[39m\u001b[36m\u001b[1mInfo: \u001b[22m\u001b[39m         102.9282396s: 1 minute, 42 seconds, 928 milliseconds\n",
      "\u001b[36m\u001b[1m[ \u001b[22m\u001b[39m\u001b[36m\u001b[1mInfo: \u001b[22m\u001b[39m started timer at: 2024-04-02T12:38:15.253\n"
     ]
    },
    {
     "name": "stdout",
     "output_type": "stream",
     "text": [
      "false\n",
      "20\n",
      "1\n",
      "-93676.06392333076\n",
      "5474.106903386616\n",
      "-------------------------\n"
     ]
    },
    {
     "name": "stderr",
     "output_type": "stream",
     "text": [
      "\u001b[36m\u001b[1m[ \u001b[22m\u001b[39m\u001b[36m\u001b[1mInfo: \u001b[22m\u001b[39m          99.5096347s: 1 minute, 39 seconds, 509 milliseconds\n",
      "\u001b[36m\u001b[1m[ \u001b[22m\u001b[39m\u001b[36m\u001b[1mInfo: \u001b[22m\u001b[39m started timer at: 2024-04-02T12:39:54.773\n"
     ]
    },
    {
     "name": "stdout",
     "output_type": "stream",
     "text": [
      "20K : 4\n",
      "[0, -1800, -100, -1200, -2000]\n",
      "false\n",
      "20\n",
      "1\n",
      "-97196.57282720499\n",
      "5541.212655055685\n",
      "-------------------------\n",
      "20K : 4\n",
      "[0, -2000, -100, -1200, -2000]\n"
     ]
    },
    {
     "name": "stderr",
     "output_type": "stream",
     "text": [
      "\u001b[36m\u001b[1m[ \u001b[22m\u001b[39m\u001b[36m\u001b[1mInfo: \u001b[22m\u001b[39m          98.0404374s: 1 minute, 38 seconds, 40 milliseconds\n",
      "\u001b[36m\u001b[1m[ \u001b[22m\u001b[39m\u001b[36m\u001b[1mInfo: \u001b[22m\u001b[39m started timer at: 2024-04-02T12:41:32.824\n"
     ]
    },
    {
     "name": "stdout",
     "output_type": "stream",
     "text": [
      "false\n",
      "20\n",
      "1\n",
      "-100470.78125542252\n",
      "5662.901578164502\n",
      "-------------------------\n",
      "20K : 4\n",
      "[0, -2400, -100, -1200"
     ]
    },
    {
     "name": "stderr",
     "output_type": "stream",
     "text": [
      "\u001b[36m\u001b[1m[ \u001b[22m\u001b[39m\u001b[36m\u001b[1mInfo: \u001b[22m\u001b[39m         105.7338924s: 1 minute, 45 seconds, 733 milliseconds\n",
      "\u001b[36m\u001b[1m[ \u001b[22m\u001b[39m\u001b[36m\u001b[1mInfo: \u001b[22m\u001b[39m started timer at: 2024-04-02T12:43:18.581\n"
     ]
    },
    {
     "name": "stdout",
     "output_type": "stream",
     "text": [
      ", -2000]\n",
      "false\n",
      "20\n",
      "1\n",
      "-107250.3864986185\n",
      "5862.146812326224\n",
      "-------------------------\n",
      "20K : 4\n",
      "[0, -2800, -100, -1200, -2000]\n"
     ]
    },
    {
     "name": "stderr",
     "output_type": "stream",
     "text": [
      "\u001b[36m\u001b[1m[ \u001b[22m\u001b[39m\u001b[36m\u001b[1mInfo: \u001b[22m\u001b[39m         116.2770768s: 1 minute, 56 seconds, 277 milliseconds\n",
      "\u001b[36m\u001b[1m[ \u001b[22m\u001b[39m\u001b[36m\u001b[1mInfo: \u001b[22m\u001b[39m started timer at: 2024-04-02T12:45:14.880\n"
     ]
    },
    {
     "name": "stdout",
     "output_type": "stream",
     "text": [
      "false\n",
      "20\n",
      "1\n",
      "-113828.45700920091\n",
      "6005.469246339726\n",
      "-------------------------\n",
      "20K : 4\n",
      "[0, -3200, -100, -1200, -2000]\n"
     ]
    },
    {
     "name": "stderr",
     "output_type": "stream",
     "text": [
      "\u001b[36m\u001b[1m[ \u001b[22m\u001b[39m\u001b[36m\u001b[1mInfo: \u001b[22m\u001b[39m         116.7782798s: 1 minute, 56 seconds, 778 milliseconds\n",
      "\u001b[36m\u001b[1m[ \u001b[22m\u001b[39m\u001b[36m\u001b[1mInfo: \u001b[22m\u001b[39m started timer at: 2024-04-02T12:47:11.669\n"
     ]
    },
    {
     "name": "stdout",
     "output_type": "stream",
     "text": [
      "false\n",
      "20\n",
      "1\n",
      "-120521.97313627026\n",
      "6270.83875523806\n",
      "-------------------------\n",
      "20K : 6\n",
      "[0, -200, -100, -1200, -2000]\n"
     ]
    },
    {
     "name": "stderr",
     "output_type": "stream",
     "text": [
      "\u001b[36m\u001b[1m[ \u001b[22m\u001b[39m\u001b[36m\u001b[1mInfo: \u001b[22m\u001b[39m         116.4187267s: 1 minute, 56 seconds, 418 milliseconds\n",
      "\u001b[36m\u001b[1m[ \u001b[22m\u001b[39m\u001b[36m\u001b[1mInfo: \u001b[22m\u001b[39m started timer at: 2024-04-02T12:49:08.094\n"
     ]
    },
    {
     "name": "stdout",
     "output_type": "stream",
     "text": [
      "false\n",
      "20\n",
      "1\n",
      "-64876.98852461375\n",
      "4463.112053835586\n",
      "-------------------------\n",
      "20K : 6\n",
      "[0, -400, -100,"
     ]
    },
    {
     "name": "stderr",
     "output_type": "stream",
     "text": [
      "\u001b[36m\u001b[1m[ \u001b[22m\u001b[39m\u001b[36m\u001b[1mInfo: \u001b[22m\u001b[39m         185.5133299s: 3 minutes, 5 seconds, 513 milliseconds\n",
      "\u001b[36m\u001b[1m[ \u001b[22m\u001b[39m\u001b[36m\u001b[1mInfo: \u001b[22m\u001b[39m started timer at: 2024-04-02T12:52:13.640\n"
     ]
    },
    {
     "name": "stdout",
     "output_type": "stream",
     "text": [
      " -1200, -2000]\n",
      "false\n",
      "20\n",
      "1\n",
      "-68205.62403608605\n",
      "4472.94848510195\n",
      "-------------------------\n"
     ]
    },
    {
     "name": "stderr",
     "output_type": "stream",
     "text": [
      "\u001b[36m\u001b[1m[ \u001b[22m\u001b[39m\u001b[36m\u001b[1mInfo: \u001b[22m\u001b[39m         116.2634882s: 1 minute, 56 seconds, 263 milliseconds\n",
      "\u001b[36m\u001b[1m[ \u001b[22m\u001b[39m\u001b[36m\u001b[1mInfo: \u001b[22m\u001b[39m started timer at: 2024-04-02T12:54:09.926\n"
     ]
    },
    {
     "name": "stdout",
     "output_type": "stream",
     "text": [
      "20K : 6\n",
      "[0, -600, -100, -1200, -2000]\n",
      "false\n",
      "20\n",
      "1\n",
      "-71627.76378427267\n",
      "4562.665060060086\n",
      "-------------------------\n",
      "20K : 6\n",
      "[0, -800, -100, -1200, -2000]\n"
     ]
    },
    {
     "name": "stderr",
     "output_type": "stream",
     "text": [
      "\u001b[36m\u001b[1m[ \u001b[22m\u001b[39m\u001b[36m\u001b[1mInfo: \u001b[22m\u001b[39m         116.1813442s: 1 minute, 56 seconds, 181 milliseconds\n",
      "\u001b[36m\u001b[1m[ \u001b[22m\u001b[39m\u001b[36m\u001b[1mInfo: \u001b[22m\u001b[39m started timer at: 2024-04-02T12:56:06.135\n"
     ]
    },
    {
     "name": "stdout",
     "output_type": "stream",
     "text": [
      "false\n",
      "20\n",
      "1\n",
      "-74900.38899454978\n",
      "4548.424114628544\n",
      "-------------------------\n",
      "20K : 6\n",
      "[0, -1000,"
     ]
    },
    {
     "name": "stderr",
     "output_type": "stream",
     "text": [
      "\u001b[36m\u001b[1m[ \u001b[22m\u001b[39m\u001b[36m\u001b[1mInfo: \u001b[22m\u001b[39m         120.8334017s: 2 minutes, 833 milliseconds\n",
      "\u001b[36m\u001b[1m[ \u001b[22m\u001b[39m\u001b[36m\u001b[1mInfo: \u001b[22m\u001b[39m started timer at: 2024-04-02T12:58:06.984\n"
     ]
    },
    {
     "name": "stdout",
     "output_type": "stream",
     "text": [
      " -100, -1200, -2000]\n",
      "false\n",
      "20\n",
      "1\n",
      "-78204.05590838153\n",
      "4587.8913425380715\n"
     ]
    },
    {
     "name": "stderr",
     "output_type": "stream",
     "text": [
      "\u001b[36m\u001b[1m[ \u001b[22m\u001b[39m\u001b[36m\u001b[1mInfo: \u001b[22m\u001b[39m         116.4575539s: 1 minute, 56 seconds, 457 milliseconds\n"
     ]
    },
    {
     "name": "stdout",
     "output_type": "stream",
     "text": [
      "-------------------------\n",
      "20K : 6\n",
      "[0, -1200, -100, -1200, -2000]\n"
     ]
    },
    {
     "name": "stderr",
     "output_type": "stream",
     "text": [
      "\u001b[36m\u001b[1m[ \u001b[22m\u001b[39m\u001b[36m\u001b[1mInfo: \u001b[22m\u001b[39m started timer at: 2024-04-02T13:00:03.470\n"
     ]
    },
    {
     "name": "stdout",
     "output_type": "stream",
     "text": [
      "false\n",
      "20\n",
      "1\n",
      "-81584.33906083809\n",
      "4735.424567486411\n",
      "-------------------------\n",
      "20K : 6\n",
      "[0, -1400, -100, -1200, -2000]\n"
     ]
    },
    {
     "name": "stderr",
     "output_type": "stream",
     "text": [
      "\u001b[36m\u001b[1m[ \u001b[22m\u001b[39m\u001b[36m\u001b[1mInfo: \u001b[22m\u001b[39m         116.8904741s: 1 minute, 56 seconds, 890 milliseconds\n",
      "\u001b[36m\u001b[1m[ \u001b[22m\u001b[39m\u001b[36m\u001b[1mInfo: \u001b[22m\u001b[39m started timer at: 2024-04-02T13:02:00.361\n"
     ]
    },
    {
     "name": "stdout",
     "output_type": "stream",
     "text": [
      "false\n",
      "20\n",
      "1\n",
      "-84997.86827730904\n",
      "4834.218379592372\n",
      "-------------------------\n",
      "20K : 6\n",
      "[0, -1600, -100, -1200, -2000]\n"
     ]
    },
    {
     "name": "stderr",
     "output_type": "stream",
     "text": [
      "\u001b[36m\u001b[1m[ \u001b[22m\u001b[39m\u001b[36m\u001b[1mInfo: \u001b[22m\u001b[39m         119.0438946s: 1 minute, 59 seconds, 43 milliseconds\n",
      "\u001b[36m\u001b[1m[ \u001b[22m\u001b[39m\u001b[36m\u001b[1mInfo: \u001b[22m\u001b[39m started timer at: 2024-04-02T13:03:59.427\n"
     ]
    },
    {
     "name": "stdout",
     "output_type": "stream",
     "text": [
      "false\n",
      "20\n",
      "1\n",
      "-88333.20510751507\n",
      "5015.256656397717\n",
      "-------------------------\n",
      "20K : 6\n",
      "[0, -1800, -100, -1200, -2000]\n"
     ]
    },
    {
     "name": "stderr",
     "output_type": "stream",
     "text": [
      "\u001b[36m\u001b[1m[ \u001b[22m\u001b[39m\u001b[36m\u001b[1mInfo: \u001b[22m\u001b[39m          141.381942s: 2 minutes, 21 seconds, 381 milliseconds\n",
      "\u001b[36m\u001b[1m[ \u001b[22m\u001b[39m\u001b[36m\u001b[1mInfo: \u001b[22m\u001b[39m started timer at: 2024-04-02T13:06:20.830\n"
     ]
    },
    {
     "name": "stdout",
     "output_type": "stream",
     "text": [
      "false\n",
      "20\n",
      "1\n",
      "-91645.55456507728\n",
      "4954.937598240429\n",
      "-------------------------\n",
      "20K : 6\n",
      "[0, -2000, -100, -1200, -2000]\n"
     ]
    },
    {
     "name": "stderr",
     "output_type": "stream",
     "text": [
      "\u001b[36m\u001b[1m[ \u001b[22m\u001b[39m\u001b[36m\u001b[1mInfo: \u001b[22m\u001b[39m          150.009775s: 2 minutes, 30 seconds, 9 milliseconds\n",
      "\u001b[36m\u001b[1m[ \u001b[22m\u001b[39m\u001b[36m\u001b[1mInfo: \u001b[22m\u001b[39m started timer at: 2024-04-02T13:08:50.857\n"
     ]
    },
    {
     "name": "stdout",
     "output_type": "stream",
     "text": [
      "false\n",
      "20\n",
      "1\n",
      "-94997.01368306382\n",
      "5070.23272485591\n",
      "-------------------------\n",
      "20K : 6\n",
      "[0, -2400, -100, -1200, -2000]\n"
     ]
    },
    {
     "name": "stderr",
     "output_type": "stream",
     "text": [
      "\u001b[36m\u001b[1m[ \u001b[22m\u001b[39m\u001b[36m\u001b[1mInfo: \u001b[22m\u001b[39m         117.0537051s: 1 minute, 57 seconds, 53 milliseconds\n",
      "\u001b[36m\u001b[1m[ \u001b[22m\u001b[39m\u001b[36m\u001b[1mInfo: \u001b[22m\u001b[39m started timer at: 2024-04-02T13:10:47.933\n"
     ]
    },
    {
     "name": "stdout",
     "output_type": "stream",
     "text": [
      "false\n",
      "20\n",
      "1\n",
      "-101608.41464548722\n",
      "5293.497154986852\n",
      "-------------------------\n",
      "20K : 6\n",
      "[0, -2800,"
     ]
    },
    {
     "name": "stderr",
     "output_type": "stream",
     "text": [
      "\u001b[36m\u001b[1m[ \u001b[22m\u001b[39m\u001b[36m\u001b[1mInfo: \u001b[22m\u001b[39m         116.1548989s: 1 minute, 56 seconds, 154 milliseconds\n",
      "\u001b[36m\u001b[1m[ \u001b[22m\u001b[39m\u001b[36m\u001b[1mInfo: \u001b[22m\u001b[39m started timer at: 2024-04-02T13:12:44.127\n"
     ]
    },
    {
     "name": "stdout",
     "output_type": "stream",
     "text": [
      " -100, -1200, -2000]\n",
      "false\n",
      "20\n",
      "1\n",
      "-108248.10702473116\n",
      "5452.362170852259\n",
      "-------------------------\n",
      "20"
     ]
    },
    {
     "name": "stderr",
     "output_type": "stream",
     "text": [
      "\u001b[36m\u001b[1m[ \u001b[22m\u001b[39m\u001b[36m\u001b[1mInfo: \u001b[22m\u001b[39m         115.7815209s: 1 minute, 55 seconds, 781 milliseconds\n",
      "\u001b[36m\u001b[1m[ \u001b[22m\u001b[39m\u001b[36m\u001b[1mInfo: \u001b[22m\u001b[39m started timer at: 2024-04-02T13:14:39.915\n"
     ]
    },
    {
     "name": "stdout",
     "output_type": "stream",
     "text": [
      "K : 6\n",
      "[0, -3200, -100, -1200, -2000]\n",
      "false\n",
      "20\n",
      "1\n",
      "-115005.74702360397\n",
      "5718.23585688007\n",
      "-------------------------\n",
      "20K : 8\n",
      "[0, "
     ]
    },
    {
     "name": "stderr",
     "output_type": "stream",
     "text": [
      "\u001b[36m\u001b[1m[ \u001b[22m\u001b[39m\u001b[36m\u001b[1mInfo: \u001b[22m\u001b[39m         116.8413193s: 1 minute, 56 seconds, 841 milliseconds\n",
      "\u001b[36m\u001b[1m[ \u001b[22m\u001b[39m\u001b[36m\u001b[1mInfo: \u001b[22m\u001b[39m started timer at: 2024-04-02T13:16:36.790\n"
     ]
    },
    {
     "name": "stdout",
     "output_type": "stream",
     "text": [
      "-200, -100, -1200, -2000]\n",
      "false\n",
      "20\n",
      "1\n",
      "-61996.48927448627\n",
      "3853.4876868343854\n",
      "-------------------------\n",
      "20K : 8\n",
      "[0, -400,"
     ]
    },
    {
     "name": "stderr",
     "output_type": "stream",
     "text": [
      "\u001b[36m\u001b[1m[ \u001b[22m\u001b[39m\u001b[36m\u001b[1mInfo: \u001b[22m\u001b[39m         116.7181628s: 1 minute, 56 seconds, 718 milliseconds\n",
      "\u001b[36m\u001b[1m[ \u001b[22m\u001b[39m\u001b[36m\u001b[1mInfo: \u001b[22m\u001b[39m started timer at: 2024-04-02T13:18:33.519\n"
     ]
    },
    {
     "name": "stdout",
     "output_type": "stream",
     "text": [
      " -100, -1200, -2000]\n",
      "false\n",
      "20\n",
      "1\n",
      "-65344.12261346066\n",
      "3929.457218503346\n",
      "-------------------------\n",
      "20K : 8\n",
      "[0, -600, -100, -1200, -2000]\n"
     ]
    },
    {
     "name": "stderr",
     "output_type": "stream",
     "text": [
      "\u001b[36m\u001b[1m[ \u001b[22m\u001b[39m\u001b[36m\u001b[1mInfo: \u001b[22m\u001b[39m         116.0812312s: 1 minute, 56 seconds, 81 milliseconds\n",
      "\u001b[36m\u001b[1m[ \u001b[22m\u001b[39m\u001b[36m\u001b[1mInfo: \u001b[22m\u001b[39m started timer at: 2024-04-02T13:20:29.611\n"
     ]
    },
    {
     "name": "stdout",
     "output_type": "stream",
     "text": [
      "false\n",
      "20\n",
      "1\n",
      "-68636.65928891621\n",
      "4069.6096776996797\n",
      "-------------------------\n",
      "20K : 8\n",
      "[0, -800, -100, -1200, -2000]\n"
     ]
    },
    {
     "name": "stderr",
     "output_type": "stream",
     "text": [
      "\u001b[36m\u001b[1m[ \u001b[22m\u001b[39m\u001b[36m\u001b[1mInfo: \u001b[22m\u001b[39m         184.7618041s: 3 minutes, 4 seconds, 761 milliseconds\n",
      "\u001b[36m\u001b[1m[ \u001b[22m\u001b[39m\u001b[36m\u001b[1mInfo: \u001b[22m\u001b[39m started timer at: 2024-04-02T13:23:34.379\n"
     ]
    },
    {
     "name": "stdout",
     "output_type": "stream",
     "text": [
      "false\n",
      "20\n",
      "1\n",
      "-72002.85229593841\n",
      "4020.663362430202\n",
      "-------------------------\n",
      "20K : 8\n",
      "[0, "
     ]
    },
    {
     "name": "stderr",
     "output_type": "stream",
     "text": [
      "\u001b[36m\u001b[1m[ \u001b[22m\u001b[39m\u001b[36m\u001b[1mInfo: \u001b[22m\u001b[39m         120.1873835s: 2 minutes, 187 milliseconds\n",
      "\u001b[36m\u001b[1m[ \u001b[22m\u001b[39m\u001b[36m\u001b[1mInfo: \u001b[22m\u001b[39m started timer at: 2024-04-02T13:25:34.569\n"
     ]
    },
    {
     "name": "stdout",
     "output_type": "stream",
     "text": [
      "-1000, -100, -1200, -2000]\n",
      "false\n",
      "20\n",
      "1\n",
      "-75347.33170476332\n",
      "4168.22007091077\n"
     ]
    },
    {
     "name": "stderr",
     "output_type": "stream",
     "text": [
      "\u001b[36m\u001b[1m[ \u001b[22m\u001b[39m\u001b[36m\u001b[1mInfo: \u001b[22m\u001b[39m         117.6881524s: 1 minute, 57 seconds, 688 milliseconds\n"
     ]
    },
    {
     "name": "stdout",
     "output_type": "stream",
     "text": [
      "-------------------------\n",
      "20K : 8\n",
      "[0, -1200, -100, -1200, -2000]\n"
     ]
    },
    {
     "name": "stderr",
     "output_type": "stream",
     "text": [
      "\u001b[36m\u001b[1m[ \u001b[22m\u001b[39m\u001b[36m\u001b[1mInfo: \u001b[22m\u001b[39m started timer at: 2024-04-02T13:27:32.283\n"
     ]
    },
    {
     "name": "stdout",
     "output_type": "stream",
     "text": [
      "false\n",
      "20\n",
      "1\n",
      "-78632.28259155549\n",
      "4239.30915412421\n",
      "-------------------------\n",
      "20K : 8\n",
      "[0, -1400, -100, -1200, -2000]\n"
     ]
    },
    {
     "name": "stderr",
     "output_type": "stream",
     "text": [
      "\u001b[36m\u001b[1m[ \u001b[22m\u001b[39m\u001b[36m\u001b[1mInfo: \u001b[22m\u001b[39m         117.1708017s: 1 minute, 57 seconds, 170 milliseconds\n",
      "\u001b[36m\u001b[1m[ \u001b[22m\u001b[39m\u001b[36m\u001b[1mInfo: \u001b[22m\u001b[39m started timer at: 2024-04-02T13:29:29.454\n"
     ]
    },
    {
     "name": "stdout",
     "output_type": "stream",
     "text": [
      "false\n",
      "20\n",
      "1\n",
      "-82026.19100790659\n",
      "4301.078582817097\n",
      "-------------------------\n",
      "20K : 8\n",
      "[0, -1600, -100, -1200, -2000]\n"
     ]
    },
    {
     "name": "stderr",
     "output_type": "stream",
     "text": [
      "\u001b[36m\u001b[1m[ \u001b[22m\u001b[39m\u001b[36m\u001b[1mInfo: \u001b[22m\u001b[39m         116.0872478s: 1 minute, 56 seconds, 87 milliseconds\n",
      "\u001b[36m\u001b[1m[ \u001b[22m\u001b[39m\u001b[36m\u001b[1mInfo: \u001b[22m\u001b[39m started timer at: 2024-04-02T13:31:25.556\n"
     ]
    },
    {
     "name": "stdout",
     "output_type": "stream",
     "text": [
      "false\n",
      "20\n",
      "1\n",
      "-85364.27507884071\n",
      "4423.490388496535\n",
      "-------------------------\n",
      "20K : 8\n",
      "[0, -1800, -100, -1200, -2000]\n"
     ]
    },
    {
     "name": "stderr",
     "output_type": "stream",
     "text": [
      "\u001b[36m\u001b[1m[ \u001b[22m\u001b[39m\u001b[36m\u001b[1mInfo: \u001b[22m\u001b[39m         116.6026335s: 1 minute, 56 seconds, 602 milliseconds\n",
      "\u001b[36m\u001b[1m[ \u001b[22m\u001b[39m\u001b[36m\u001b[1mInfo: \u001b[22m\u001b[39m started timer at: 2024-04-02T13:33:22.172\n"
     ]
    },
    {
     "name": "stdout",
     "output_type": "stream",
     "text": [
      "false\n",
      "20\n",
      "1\n",
      "-88692.05317329164\n",
      "4555.731430260738\n",
      "-------------------------\n",
      "20K : 8\n",
      "[0, -2000, -100, -1200, -2000]\n"
     ]
    },
    {
     "name": "stderr",
     "output_type": "stream",
     "text": [
      "\u001b[36m\u001b[1m[ \u001b[22m\u001b[39m\u001b[36m\u001b[1mInfo: \u001b[22m\u001b[39m         117.3658081s: 1 minute, 57 seconds, 365 milliseconds\n",
      "\u001b[36m\u001b[1m[ \u001b[22m\u001b[39m\u001b[36m\u001b[1mInfo: \u001b[22m\u001b[39m started timer at: 2024-04-02T13:35:19.555\n"
     ]
    },
    {
     "name": "stdout",
     "output_type": "stream",
     "text": [
      "false\n",
      "20\n",
      "1\n",
      "-91984.56748262559\n",
      "4693.205177606417\n",
      "-------------------------\n",
      "20"
     ]
    },
    {
     "name": "stderr",
     "output_type": "stream",
     "text": [
      "\u001b[36m\u001b[1m[ \u001b[22m\u001b[39m\u001b[36m\u001b[1mInfo: \u001b[22m\u001b[39m         129.6520497s: 2 minutes, 9 seconds, 652 milliseconds\n",
      "\u001b[36m\u001b[1m[ \u001b[22m\u001b[39m\u001b[36m\u001b[1mInfo: \u001b[22m\u001b[39m started timer at: 2024-04-02T13:37:29.222\n"
     ]
    },
    {
     "name": "stdout",
     "output_type": "stream",
     "text": [
      "K : 8\n",
      "[0, -2400, -100, -1200, -2000]\n",
      "false\n",
      "20\n",
      "1\n",
      "-98677.61278438286\n",
      "4817.481853596699\n",
      "-------------------------\n"
     ]
    },
    {
     "name": "stderr",
     "output_type": "stream",
     "text": [
      "\u001b[36m\u001b[1m[ \u001b[22m\u001b[39m\u001b[36m\u001b[1mInfo: \u001b[22m\u001b[39m         162.5792629s: 2 minutes, 42 seconds, 579 milliseconds\n"
     ]
    },
    {
     "name": "stdout",
     "output_type": "stream",
     "text": [
      "20K : 8\n",
      "[0, -2800, -100, -1200, -2000]\n"
     ]
    },
    {
     "name": "stderr",
     "output_type": "stream",
     "text": [
      "\u001b[36m\u001b[1m[ \u001b[22m\u001b[39m\u001b[36m\u001b[1mInfo: \u001b[22m\u001b[39m started timer at: 2024-04-02T13:40:11.801\n"
     ]
    },
    {
     "name": "stdout",
     "output_type": "stream",
     "text": [
      "false\n",
      "20\n",
      "1\n",
      "-105359.83208304373\n",
      "4996.97083779679\n",
      "-------------------------\n",
      "20K : 8\n",
      "[0, -3200, -100, -1200, -2000]\n"
     ]
    },
    {
     "name": "stderr",
     "output_type": "stream",
     "text": [
      "\u001b[36m\u001b[1m[ \u001b[22m\u001b[39m\u001b[36m\u001b[1mInfo: \u001b[22m\u001b[39m         116.1584693s: 1 minute, 56 seconds, 158 milliseconds\n",
      "\u001b[36m\u001b[1m[ \u001b[22m\u001b[39m\u001b[36m\u001b[1mInfo: \u001b[22m\u001b[39m started timer at: 2024-04-02T13:42:07.984\n"
     ]
    },
    {
     "name": "stdout",
     "output_type": "stream",
     "text": [
      "false\n",
      "20\n",
      "1\n",
      "-112091.90319681716\n",
      "5245.454183626174\n",
      "-------------------------"
     ]
    },
    {
     "name": "stderr",
     "output_type": "stream",
     "text": [
      "\u001b[36m\u001b[1m[ \u001b[22m\u001b[39m\u001b[36m\u001b[1mInfo: \u001b[22m\u001b[39m         117.3896918s: 1 minute, 57 seconds, 389 milliseconds\n"
     ]
    },
    {
     "name": "stdout",
     "output_type": "stream",
     "text": [
      "\n",
      "20K : 10\n",
      "[0, -200, -100, -1200, -2000]\n"
     ]
    },
    {
     "name": "stderr",
     "output_type": "stream",
     "text": [
      "\u001b[36m\u001b[1m[ \u001b[22m\u001b[39m\u001b[36m\u001b[1mInfo: \u001b[22m\u001b[39m started timer at: 2024-04-02T13:44:05.406\n"
     ]
    },
    {
     "name": "stdout",
     "output_type": "stream",
     "text": [
      "false\n",
      "20\n",
      "1\n",
      "-60455.459906953714\n",
      "3577.5545137180443\n",
      "-------------------------\n",
      "20K : 10\n",
      "[0, -400, -100, -1200, -2000]"
     ]
    },
    {
     "name": "stderr",
     "output_type": "stream",
     "text": [
      "\u001b[36m\u001b[1m[ \u001b[22m\u001b[39m\u001b[36m\u001b[1mInfo: \u001b[22m\u001b[39m          116.864395s: 1 minute, 56 seconds, 864 milliseconds\n",
      "\u001b[36m\u001b[1m[ \u001b[22m\u001b[39m\u001b[36m\u001b[1mInfo: \u001b[22m\u001b[39m started timer at: 2024-04-02T13:46:02.282\n"
     ]
    },
    {
     "name": "stdout",
     "output_type": "stream",
     "text": [
      "\n",
      "false\n",
      "20\n",
      "1\n",
      "-63886.14578696372\n",
      "3597.254997698714\n",
      "-------------------------\n",
      "20"
     ]
    },
    {
     "name": "stderr",
     "output_type": "stream",
     "text": [
      "\u001b[36m\u001b[1m[ \u001b[22m\u001b[39m\u001b[36m\u001b[1mInfo: \u001b[22m\u001b[39m          116.098202s: 1 minute, 56 seconds, 98 milliseconds\n",
      "\u001b[36m\u001b[1m[ \u001b[22m\u001b[39m\u001b[36m\u001b[1mInfo: \u001b[22m\u001b[39m started timer at: 2024-04-02T13:47:58.380\n"
     ]
    },
    {
     "name": "stdout",
     "output_type": "stream",
     "text": [
      "K : 10\n",
      "[0, -600, -100, -1200, -2000]\n",
      "false\n",
      "20\n",
      "1\n",
      "-67090.80280252724\n",
      "3653.977052775385\n",
      "-------------------------\n",
      "20K : 10\n",
      "[0, -800, -100"
     ]
    },
    {
     "name": "stderr",
     "output_type": "stream",
     "text": [
      "\u001b[36m\u001b[1m[ \u001b[22m\u001b[39m\u001b[36m\u001b[1mInfo: \u001b[22m\u001b[39m         116.9490792s: 1 minute, 56 seconds, 949 milliseconds\n",
      "\u001b[36m\u001b[1m[ \u001b[22m\u001b[39m\u001b[36m\u001b[1mInfo: \u001b[22m\u001b[39m started timer at: 2024-04-02T13:49:55.342\n"
     ]
    },
    {
     "name": "stdout",
     "output_type": "stream",
     "text": [
      ", -1200, -2000]\n",
      "false\n",
      "20\n",
      "1\n",
      "-70520.70616464884\n",
      "3715.831890381991\n",
      "-------------------------\n",
      "20K : 10\n",
      "[0, -1000, -100, -1200, -2000]\n"
     ]
    },
    {
     "name": "stderr",
     "output_type": "stream",
     "text": [
      "\u001b[36m\u001b[1m[ \u001b[22m\u001b[39m\u001b[36m\u001b[1mInfo: \u001b[22m\u001b[39m         117.2721827s: 1 minute, 57 seconds, 272 milliseconds\n",
      "\u001b[36m\u001b[1m[ \u001b[22m\u001b[39m\u001b[36m\u001b[1mInfo: \u001b[22m\u001b[39m started timer at: 2024-04-02T13:51:52.626\n"
     ]
    },
    {
     "name": "stdout",
     "output_type": "stream",
     "text": [
      "false\n",
      "20\n",
      "1\n",
      "-73722.34864286525\n",
      "3831.871121673242\n",
      "-------------------------\n",
      "20K : 10\n",
      "[0, -1200, -100, -1200, -2000]\n"
     ]
    },
    {
     "name": "stderr",
     "output_type": "stream",
     "text": [
      "\u001b[36m\u001b[1m[ \u001b[22m\u001b[39m\u001b[36m\u001b[1mInfo: \u001b[22m\u001b[39m           180.36216s: 3 minutes, 362 milliseconds\n",
      "\u001b[36m\u001b[1m[ \u001b[22m\u001b[39m\u001b[36m\u001b[1mInfo: \u001b[22m\u001b[39m started timer at: 2024-04-02T13:54:53.016\n"
     ]
    },
    {
     "name": "stdout",
     "output_type": "stream",
     "text": [
      "false\n",
      "20\n",
      "1\n",
      "-77167.90832210009\n",
      "3872.840255986824\n",
      "-------------------------\n",
      "20K : 10\n",
      "[0, -1400, -100, -1200, "
     ]
    },
    {
     "name": "stderr",
     "output_type": "stream",
     "text": [
      "\u001b[36m\u001b[1m[ \u001b[22m\u001b[39m\u001b[36m\u001b[1mInfo: \u001b[22m\u001b[39m         117.8037324s: 1 minute, 57 seconds, 803 milliseconds\n",
      "\u001b[36m\u001b[1m[ \u001b[22m\u001b[39m\u001b[36m\u001b[1mInfo: \u001b[22m\u001b[39m started timer at: 2024-04-02T13:56:50.820\n"
     ]
    },
    {
     "name": "stdout",
     "output_type": "stream",
     "text": [
      "-2000]\n",
      "false\n",
      "20\n",
      "1\n",
      "-80449.39376388474\n",
      "3956.608047597591\n",
      "-------------------------"
     ]
    },
    {
     "name": "stderr",
     "output_type": "stream",
     "text": [
      "\u001b[36m\u001b[1m[ \u001b[22m\u001b[39m\u001b[36m\u001b[1mInfo: \u001b[22m\u001b[39m         115.9941335s: 1 minute, 55 seconds, 994 milliseconds\n"
     ]
    },
    {
     "name": "stdout",
     "output_type": "stream",
     "text": [
      "\n",
      "20K : 10\n",
      "[0, -1600, -100, -1200, -2000]\n"
     ]
    },
    {
     "name": "stderr",
     "output_type": "stream",
     "text": [
      "\u001b[36m\u001b[1m[ \u001b[22m\u001b[39m\u001b[36m\u001b[1mInfo: \u001b[22m\u001b[39m started timer at: 2024-04-02T13:58:46.861\n"
     ]
    },
    {
     "name": "stdout",
     "output_type": "stream",
     "text": [
      "false\n",
      "20\n",
      "1\n",
      "-83851.27047037541\n",
      "4115.864022652428\n",
      "-------------------------"
     ]
    },
    {
     "name": "stderr",
     "output_type": "stream",
     "text": [
      "\u001b[36m\u001b[1m[ \u001b[22m\u001b[39m\u001b[36m\u001b[1mInfo: \u001b[22m\u001b[39m         116.3774465s: 1 minute, 56 seconds, 377 milliseconds\n"
     ]
    },
    {
     "name": "stdout",
     "output_type": "stream",
     "text": [
      "\n",
      "20K : 10\n",
      "[0, -1800, -100, -1200, -2000]\n"
     ]
    },
    {
     "name": "stderr",
     "output_type": "stream",
     "text": [
      "\u001b[36m\u001b[1m[ \u001b[22m\u001b[39m\u001b[36m\u001b[1mInfo: \u001b[22m\u001b[39m started timer at: 2024-04-02T14:00:43.267\n"
     ]
    },
    {
     "name": "stdout",
     "output_type": "stream",
     "text": [
      "false\n",
      "20\n",
      "1\n",
      "-87192.38181150882\n",
      "4184.222832274335\n",
      "-------------------------\n",
      "20K : 10\n",
      "[0, -2000, -100, -1200, -2000]\n"
     ]
    },
    {
     "name": "stderr",
     "output_type": "stream",
     "text": [
      "\u001b[36m\u001b[1m[ \u001b[22m\u001b[39m\u001b[36m\u001b[1mInfo: \u001b[22m\u001b[39m         117.0083155s: 1 minute, 57 seconds, 8 milliseconds\n",
      "\u001b[36m\u001b[1m[ \u001b[22m\u001b[39m\u001b[36m\u001b[1mInfo: \u001b[22m\u001b[39m started timer at: 2024-04-02T14:02:40.298\n"
     ]
    },
    {
     "name": "stdout",
     "output_type": "stream",
     "text": [
      "false\n",
      "20\n",
      "1\n",
      "-90415.9555840589\n",
      "4342.7643462953265\n",
      "-------------------------\n",
      "20K : 10\n"
     ]
    },
    {
     "name": "stderr",
     "output_type": "stream",
     "text": [
      "\u001b[36m\u001b[1m[ \u001b[22m\u001b[39m\u001b[36m\u001b[1mInfo: \u001b[22m\u001b[39m         116.6584224s: 1 minute, 56 seconds, 658 milliseconds\n",
      "\u001b[36m\u001b[1m[ \u001b[22m\u001b[39m\u001b[36m\u001b[1mInfo: \u001b[22m\u001b[39m started timer at: 2024-04-02T14:04:36.975\n"
     ]
    },
    {
     "name": "stdout",
     "output_type": "stream",
     "text": [
      "[0, -2400, -100, -1200, -2000]\n",
      "false\n",
      "20\n",
      "1\n",
      "-97187.45919979844\n",
      "4561.107304467553\n",
      "-------------------------\n"
     ]
    },
    {
     "name": "stderr",
     "output_type": "stream",
     "text": [
      "\u001b[36m\u001b[1m[ \u001b[22m\u001b[39m\u001b[36m\u001b[1mInfo: \u001b[22m\u001b[39m          115.866413s: 1 minute, 55 seconds, 866 milliseconds\n",
      "\u001b[36m\u001b[1m[ \u001b[22m\u001b[39m\u001b[36m\u001b[1mInfo: \u001b[22m\u001b[39m started timer at: 2024-04-02T14:06:32.851\n"
     ]
    },
    {
     "name": "stdout",
     "output_type": "stream",
     "text": [
      "20K : 10\n",
      "[0, -2800, -100, -1200, -2000]\n",
      "false\n",
      "20\n",
      "1\n",
      "-103884.75754796498\n",
      "4756.789235614432\n",
      "-------------------------\n",
      "20K : 10\n"
     ]
    },
    {
     "name": "stderr",
     "output_type": "stream",
     "text": [
      "\u001b[36m\u001b[1m[ \u001b[22m\u001b[39m\u001b[36m\u001b[1mInfo: \u001b[22m\u001b[39m          125.702555s: 2 minutes, 5 seconds, 702 milliseconds\n",
      "\u001b[36m\u001b[1m[ \u001b[22m\u001b[39m\u001b[36m\u001b[1mInfo: \u001b[22m\u001b[39m started timer at: 2024-04-02T14:08:38.564\n"
     ]
    },
    {
     "name": "stdout",
     "output_type": "stream",
     "text": [
      "[0, -3200, -100, -1200, -2000]\n",
      "false\n",
      "20\n",
      "1\n",
      "-110496.16197292219\n",
      "5023.92635483372\n",
      "-------------------------\n"
     ]
    },
    {
     "name": "stderr",
     "output_type": "stream",
     "text": [
      "\u001b[36m\u001b[1m[ \u001b[22m\u001b[39m\u001b[36m\u001b[1mInfo: \u001b[22m\u001b[39m         169.5468957s: 2 minutes, 49 seconds, 546 milliseconds\n"
     ]
    },
    {
     "ename": "LoadError",
     "evalue": "ParseError:\n\u001b[90m# Error @ \u001b[0;0m\u001b]8;;file://C:/Users/hhu98/Documents/CW-MDP revision/Code/heterogeneous/In[12]#100:1\u001b\\\u001b[90mIn[12]:100:1\u001b[0;0m\u001b]8;;\u001b\\\nend\n\u001b[48;2;120;70;70mend\u001b[0;0m\n\u001b[90m└─┘ ── \u001b[0;0m\u001b[91minvalid identifier\u001b[0;0m",
     "output_type": "error",
     "traceback": [
      "ParseError:\n\u001b[90m# Error @ \u001b[0;0m\u001b]8;;file://C:/Users/hhu98/Documents/CW-MDP revision/Code/heterogeneous/In[12]#100:1\u001b\\\u001b[90mIn[12]:100:1\u001b[0;0m\u001b]8;;\u001b\\\nend\n\u001b[48;2;120;70;70mend\u001b[0;0m\n\u001b[90m└─┘ ── \u001b[0;0m\u001b[91minvalid identifier\u001b[0;0m",
      "",
      "Stacktrace:",
      " [1] top-level scope",
      "   @ In[12]:100"
     ]
    }
   ],
   "source": [
    "cost=[ [0\t-200\t-100\t-1200 -2000],\n",
    "    [0\t-400\t-100\t-1200 -2000],\n",
    "    [0\t-600\t-100\t-1200 -2000],\n",
    "    [0\t-800\t-100\t-1200 -2000],\n",
    "    [0\t-1000\t-100\t-1200 -2000],\n",
    "    [0\t-1200\t-100\t-1200 -2000],\n",
    "    [0\t-1400\t-100\t-1200 -2000],\n",
    "    [0\t-1600\t-100\t-1200 -2000],\n",
    "    [0\t-1800\t-100\t-1200 -2000],\n",
    "    [0\t-2000\t-100\t-1200 -2000],\n",
    "    [0  -2400   -100    -1200 -2000],\n",
    "    [0  -2800   -100    -1200 -2000],\n",
    "    [0  -3200   -100    -1200 -2000]\n",
    "] \n",
    "\n",
    "\n",
    "\n",
    "for units in [60,50,40,30,25,20]\n",
    "    for K in 2:2:convert(Int64, floor((units+1)/2))\n",
    "        \n",
    "        global NumberUnits=convert(Int64,units)\n",
    "        global limit=convert(Int64, K)\n",
    "    for c in cost\n",
    "    tick()\n",
    "   print(units)  \n",
    "   print(\"K : \")\n",
    "    println(K)\n",
    "    global normal_operation,setup_cost,maintenance_penalty,failure_penalty,system_penalty=c\n",
    "     println([normal_operation,setup_cost,maintenance_penalty,failure_penalty,system_penalty])   \n",
    "     for lambda in 1:1:1\n",
    "        global  lamb=lambda\n",
    "     Q,V=ValueIteration(.95)\n",
    "         println(isnan(Q[1,1,1]))\n",
    "       if sum(isnan(Q[1,1,1]))>0.0\n",
    "            continue\n",
    "        end\n",
    "\n",
    "trials=10000;\n",
    "simsteps = 100;\n",
    "results=zeros(trials)*0.1\n",
    "Threads.@threads for h in 1:trials\n",
    "s=repeat(1:1,NumberUnits)\n",
    "r1=[]\n",
    "a1=[]   \n",
    "r=repeat(1:1,NumberUnits)*1.0\n",
    " for k in 1:simsteps\n",
    "    a =decison(Q,s)\n",
    "    r2=0.0\n",
    "    s1=repeat(1:1,NumberUnits)\n",
    "              \n",
    "# Here we are calculating the \"true\" system-level rewards, following formulation (3) in original paper\n",
    "# i.e., adding up reward of each component, and decide to add setup cost or not depending on system-level condition \n",
    "# In contrast, the policy we are using is obtained only at component level          \n",
    "#     print(a)\n",
    "global failed_components = 0\n",
    "    for i in 1:NumberUnits\n",
    "#             print(generative(s[i],a[i],234))\n",
    "         s1[i],r[i]=generative(s[i],a[i],i,234);\n",
    "          r2+=r[i]\n",
    "         if s[i] == Number_level\n",
    "            failed_components += 1\n",
    "         end\n",
    "            end \n",
    "#     println(r2)\n",
    "#     println(s)\n",
    "\n",
    "    if (Number_level in s) || (2 in a) \n",
    "        # if any replacement\n",
    "            r2+=setup_cost\n",
    "                    end\n",
    "    if failed_components >= limit\n",
    "        r2+=system_penalty\n",
    "    end\n",
    "    s=s1;\n",
    "    append!(a1,a)\n",
    "    append!(r1,r2)\n",
    "end\n",
    "rk=0\n",
    "for i in 1:simsteps\n",
    "    rk=0.95*rk+r1[simsteps-i+1]\n",
    "end\n",
    "#     println(rk)\n",
    "    results[h]=rk\n",
    "#     println(results)\n",
    "end\n",
    "println(units)\n",
    "println(lambda)\n",
    "\n",
    "println(mean(results))\n",
    "\n",
    "println(std(results))\n",
    "pushfirst!(df,[units,limit,normal_operation,setup_cost,maintenance_penalty,failure_penalty,system_penalty,lamb,mean(results),std(results)])\n",
    "        \n",
    "tock()\n",
    "end\n",
    "    println(\"-------------------------\")\n",
    "end\n",
    "end\n",
    "end\n",
    "end"
   ]
  },
  {
   "cell_type": "code",
   "execution_count": null,
   "metadata": {},
   "outputs": [],
   "source": []
  },
  {
   "cell_type": "code",
   "execution_count": null,
   "metadata": {},
   "outputs": [],
   "source": []
  },
  {
   "cell_type": "code",
   "execution_count": 13,
   "metadata": {},
   "outputs": [
    {
     "data": {
      "text/html": [
       "<div><div style = \"float: left;\"><span>715×10 DataFrame</span></div><div style = \"float: right;\"><span style = \"font-style: italic;\">690 rows omitted</span></div><div style = \"clear: both;\"></div></div><div class = \"data-frame\" style = \"overflow-x: scroll;\"><table class = \"data-frame\" style = \"margin-bottom: 6px;\"><thead><tr class = \"header\"><th class = \"rowNumber\" style = \"font-weight: bold; text-align: right;\">Row</th><th style = \"text-align: left;\">u</th><th style = \"text-align: left;\">K</th><th style = \"text-align: left;\">n</th><th style = \"text-align: left;\">s</th><th style = \"text-align: left;\">m</th><th style = \"text-align: left;\">f</th><th style = \"text-align: left;\">p</th><th style = \"text-align: left;\">lamb</th><th style = \"text-align: left;\">mean</th><th style = \"text-align: left;\">std</th></tr><tr class = \"subheader headerLastRow\"><th class = \"rowNumber\" style = \"font-weight: bold; text-align: right;\"></th><th title = \"Any\" style = \"text-align: left;\">Any</th><th title = \"Any\" style = \"text-align: left;\">Any</th><th title = \"Any\" style = \"text-align: left;\">Any</th><th title = \"Any\" style = \"text-align: left;\">Any</th><th title = \"Any\" style = \"text-align: left;\">Any</th><th title = \"Any\" style = \"text-align: left;\">Any</th><th title = \"Any\" style = \"text-align: left;\">Any</th><th title = \"Any\" style = \"text-align: left;\">Any</th><th title = \"Any\" style = \"text-align: left;\">Any</th><th title = \"Any\" style = \"text-align: left;\">Any</th></tr></thead><tbody><tr><td class = \"rowNumber\" style = \"font-weight: bold; text-align: right;\">1</td><td style = \"text-align: left;\">20.0</td><td style = \"text-align: left;\">10.0</td><td style = \"text-align: left;\">0.0</td><td style = \"text-align: left;\">-3200.0</td><td style = \"text-align: left;\">-100.0</td><td style = \"text-align: left;\">-1200.0</td><td style = \"text-align: left;\">-2000.0</td><td style = \"text-align: left;\">1.0</td><td style = \"text-align: left;\">-1.10496e5</td><td style = \"text-align: left;\">5023.93</td></tr><tr><td class = \"rowNumber\" style = \"font-weight: bold; text-align: right;\">2</td><td style = \"text-align: left;\">20.0</td><td style = \"text-align: left;\">10.0</td><td style = \"text-align: left;\">0.0</td><td style = \"text-align: left;\">-2800.0</td><td style = \"text-align: left;\">-100.0</td><td style = \"text-align: left;\">-1200.0</td><td style = \"text-align: left;\">-2000.0</td><td style = \"text-align: left;\">1.0</td><td style = \"text-align: left;\">-1.03885e5</td><td style = \"text-align: left;\">4756.79</td></tr><tr><td class = \"rowNumber\" style = \"font-weight: bold; text-align: right;\">3</td><td style = \"text-align: left;\">20.0</td><td style = \"text-align: left;\">10.0</td><td style = \"text-align: left;\">0.0</td><td style = \"text-align: left;\">-2400.0</td><td style = \"text-align: left;\">-100.0</td><td style = \"text-align: left;\">-1200.0</td><td style = \"text-align: left;\">-2000.0</td><td style = \"text-align: left;\">1.0</td><td style = \"text-align: left;\">-97187.5</td><td style = \"text-align: left;\">4561.11</td></tr><tr><td class = \"rowNumber\" style = \"font-weight: bold; text-align: right;\">4</td><td style = \"text-align: left;\">20.0</td><td style = \"text-align: left;\">10.0</td><td style = \"text-align: left;\">0.0</td><td style = \"text-align: left;\">-2000.0</td><td style = \"text-align: left;\">-100.0</td><td style = \"text-align: left;\">-1200.0</td><td style = \"text-align: left;\">-2000.0</td><td style = \"text-align: left;\">1.0</td><td style = \"text-align: left;\">-90416.0</td><td style = \"text-align: left;\">4342.76</td></tr><tr><td class = \"rowNumber\" style = \"font-weight: bold; text-align: right;\">5</td><td style = \"text-align: left;\">20.0</td><td style = \"text-align: left;\">10.0</td><td style = \"text-align: left;\">0.0</td><td style = \"text-align: left;\">-1800.0</td><td style = \"text-align: left;\">-100.0</td><td style = \"text-align: left;\">-1200.0</td><td style = \"text-align: left;\">-2000.0</td><td style = \"text-align: left;\">1.0</td><td style = \"text-align: left;\">-87192.4</td><td style = \"text-align: left;\">4184.22</td></tr><tr><td class = \"rowNumber\" style = \"font-weight: bold; text-align: right;\">6</td><td style = \"text-align: left;\">20.0</td><td style = \"text-align: left;\">10.0</td><td style = \"text-align: left;\">0.0</td><td style = \"text-align: left;\">-1600.0</td><td style = \"text-align: left;\">-100.0</td><td style = \"text-align: left;\">-1200.0</td><td style = \"text-align: left;\">-2000.0</td><td style = \"text-align: left;\">1.0</td><td style = \"text-align: left;\">-83851.3</td><td style = \"text-align: left;\">4115.86</td></tr><tr><td class = \"rowNumber\" style = \"font-weight: bold; text-align: right;\">7</td><td style = \"text-align: left;\">20.0</td><td style = \"text-align: left;\">10.0</td><td style = \"text-align: left;\">0.0</td><td style = \"text-align: left;\">-1400.0</td><td style = \"text-align: left;\">-100.0</td><td style = \"text-align: left;\">-1200.0</td><td style = \"text-align: left;\">-2000.0</td><td style = \"text-align: left;\">1.0</td><td style = \"text-align: left;\">-80449.4</td><td style = \"text-align: left;\">3956.61</td></tr><tr><td class = \"rowNumber\" style = \"font-weight: bold; text-align: right;\">8</td><td style = \"text-align: left;\">20.0</td><td style = \"text-align: left;\">10.0</td><td style = \"text-align: left;\">0.0</td><td style = \"text-align: left;\">-1200.0</td><td style = \"text-align: left;\">-100.0</td><td style = \"text-align: left;\">-1200.0</td><td style = \"text-align: left;\">-2000.0</td><td style = \"text-align: left;\">1.0</td><td style = \"text-align: left;\">-77167.9</td><td style = \"text-align: left;\">3872.84</td></tr><tr><td class = \"rowNumber\" style = \"font-weight: bold; text-align: right;\">9</td><td style = \"text-align: left;\">20.0</td><td style = \"text-align: left;\">10.0</td><td style = \"text-align: left;\">0.0</td><td style = \"text-align: left;\">-1000.0</td><td style = \"text-align: left;\">-100.0</td><td style = \"text-align: left;\">-1200.0</td><td style = \"text-align: left;\">-2000.0</td><td style = \"text-align: left;\">1.0</td><td style = \"text-align: left;\">-73722.3</td><td style = \"text-align: left;\">3831.87</td></tr><tr><td class = \"rowNumber\" style = \"font-weight: bold; text-align: right;\">10</td><td style = \"text-align: left;\">20.0</td><td style = \"text-align: left;\">10.0</td><td style = \"text-align: left;\">0.0</td><td style = \"text-align: left;\">-800.0</td><td style = \"text-align: left;\">-100.0</td><td style = \"text-align: left;\">-1200.0</td><td style = \"text-align: left;\">-2000.0</td><td style = \"text-align: left;\">1.0</td><td style = \"text-align: left;\">-70520.7</td><td style = \"text-align: left;\">3715.83</td></tr><tr><td class = \"rowNumber\" style = \"font-weight: bold; text-align: right;\">11</td><td style = \"text-align: left;\">20.0</td><td style = \"text-align: left;\">10.0</td><td style = \"text-align: left;\">0.0</td><td style = \"text-align: left;\">-600.0</td><td style = \"text-align: left;\">-100.0</td><td style = \"text-align: left;\">-1200.0</td><td style = \"text-align: left;\">-2000.0</td><td style = \"text-align: left;\">1.0</td><td style = \"text-align: left;\">-67090.8</td><td style = \"text-align: left;\">3653.98</td></tr><tr><td class = \"rowNumber\" style = \"font-weight: bold; text-align: right;\">12</td><td style = \"text-align: left;\">20.0</td><td style = \"text-align: left;\">10.0</td><td style = \"text-align: left;\">0.0</td><td style = \"text-align: left;\">-400.0</td><td style = \"text-align: left;\">-100.0</td><td style = \"text-align: left;\">-1200.0</td><td style = \"text-align: left;\">-2000.0</td><td style = \"text-align: left;\">1.0</td><td style = \"text-align: left;\">-63886.1</td><td style = \"text-align: left;\">3597.25</td></tr><tr><td class = \"rowNumber\" style = \"font-weight: bold; text-align: right;\">13</td><td style = \"text-align: left;\">20.0</td><td style = \"text-align: left;\">10.0</td><td style = \"text-align: left;\">0.0</td><td style = \"text-align: left;\">-200.0</td><td style = \"text-align: left;\">-100.0</td><td style = \"text-align: left;\">-1200.0</td><td style = \"text-align: left;\">-2000.0</td><td style = \"text-align: left;\">1.0</td><td style = \"text-align: left;\">-60455.5</td><td style = \"text-align: left;\">3577.55</td></tr><tr><td style = \"text-align: right;\">&vellip;</td><td style = \"text-align: right;\">&vellip;</td><td style = \"text-align: right;\">&vellip;</td><td style = \"text-align: right;\">&vellip;</td><td style = \"text-align: right;\">&vellip;</td><td style = \"text-align: right;\">&vellip;</td><td style = \"text-align: right;\">&vellip;</td><td style = \"text-align: right;\">&vellip;</td><td style = \"text-align: right;\">&vellip;</td><td style = \"text-align: right;\">&vellip;</td><td style = \"text-align: right;\">&vellip;</td></tr><tr><td class = \"rowNumber\" style = \"font-weight: bold; text-align: right;\">704</td><td style = \"text-align: left;\">60.0</td><td style = \"text-align: left;\">2.0</td><td style = \"text-align: left;\">0.0</td><td style = \"text-align: left;\">-2800.0</td><td style = \"text-align: left;\">-100.0</td><td style = \"text-align: left;\">-1200.0</td><td style = \"text-align: left;\">-2000.0</td><td style = \"text-align: left;\">1.0</td><td style = \"text-align: left;\">-2.39461e5</td><td style = \"text-align: left;\">6632.81</td></tr><tr><td class = \"rowNumber\" style = \"font-weight: bold; text-align: right;\">705</td><td style = \"text-align: left;\">60.0</td><td style = \"text-align: left;\">2.0</td><td style = \"text-align: left;\">0.0</td><td style = \"text-align: left;\">-2400.0</td><td style = \"text-align: left;\">-100.0</td><td style = \"text-align: left;\">-1200.0</td><td style = \"text-align: left;\">-2000.0</td><td style = \"text-align: left;\">1.0</td><td style = \"text-align: left;\">-2.32207e5</td><td style = \"text-align: left;\">6606.1</td></tr><tr><td class = \"rowNumber\" style = \"font-weight: bold; text-align: right;\">706</td><td style = \"text-align: left;\">60.0</td><td style = \"text-align: left;\">2.0</td><td style = \"text-align: left;\">0.0</td><td style = \"text-align: left;\">-2000.0</td><td style = \"text-align: left;\">-100.0</td><td style = \"text-align: left;\">-1200.0</td><td style = \"text-align: left;\">-2000.0</td><td style = \"text-align: left;\">1.0</td><td style = \"text-align: left;\">-2.24935e5</td><td style = \"text-align: left;\">6523.8</td></tr><tr><td class = \"rowNumber\" style = \"font-weight: bold; text-align: right;\">707</td><td style = \"text-align: left;\">60.0</td><td style = \"text-align: left;\">2.0</td><td style = \"text-align: left;\">0.0</td><td style = \"text-align: left;\">-1800.0</td><td style = \"text-align: left;\">-100.0</td><td style = \"text-align: left;\">-1200.0</td><td style = \"text-align: left;\">-2000.0</td><td style = \"text-align: left;\">1.0</td><td style = \"text-align: left;\">-2.2133e5</td><td style = \"text-align: left;\">6491.51</td></tr><tr><td class = \"rowNumber\" style = \"font-weight: bold; text-align: right;\">708</td><td style = \"text-align: left;\">60.0</td><td style = \"text-align: left;\">2.0</td><td style = \"text-align: left;\">0.0</td><td style = \"text-align: left;\">-1600.0</td><td style = \"text-align: left;\">-100.0</td><td style = \"text-align: left;\">-1200.0</td><td style = \"text-align: left;\">-2000.0</td><td style = \"text-align: left;\">1.0</td><td style = \"text-align: left;\">-2.17644e5</td><td style = \"text-align: left;\">6688.48</td></tr><tr><td class = \"rowNumber\" style = \"font-weight: bold; text-align: right;\">709</td><td style = \"text-align: left;\">60.0</td><td style = \"text-align: left;\">2.0</td><td style = \"text-align: left;\">0.0</td><td style = \"text-align: left;\">-1400.0</td><td style = \"text-align: left;\">-100.0</td><td style = \"text-align: left;\">-1200.0</td><td style = \"text-align: left;\">-2000.0</td><td style = \"text-align: left;\">1.0</td><td style = \"text-align: left;\">-2.14013e5</td><td style = \"text-align: left;\">6387.75</td></tr><tr><td class = \"rowNumber\" style = \"font-weight: bold; text-align: right;\">710</td><td style = \"text-align: left;\">60.0</td><td style = \"text-align: left;\">2.0</td><td style = \"text-align: left;\">0.0</td><td style = \"text-align: left;\">-1200.0</td><td style = \"text-align: left;\">-100.0</td><td style = \"text-align: left;\">-1200.0</td><td style = \"text-align: left;\">-2000.0</td><td style = \"text-align: left;\">1.0</td><td style = \"text-align: left;\">-2.10383e5</td><td style = \"text-align: left;\">6578.86</td></tr><tr><td class = \"rowNumber\" style = \"font-weight: bold; text-align: right;\">711</td><td style = \"text-align: left;\">60.0</td><td style = \"text-align: left;\">2.0</td><td style = \"text-align: left;\">0.0</td><td style = \"text-align: left;\">-1000.0</td><td style = \"text-align: left;\">-100.0</td><td style = \"text-align: left;\">-1200.0</td><td style = \"text-align: left;\">-2000.0</td><td style = \"text-align: left;\">1.0</td><td style = \"text-align: left;\">-206834.0</td><td style = \"text-align: left;\">6363.81</td></tr><tr><td class = \"rowNumber\" style = \"font-weight: bold; text-align: right;\">712</td><td style = \"text-align: left;\">60.0</td><td style = \"text-align: left;\">2.0</td><td style = \"text-align: left;\">0.0</td><td style = \"text-align: left;\">-800.0</td><td style = \"text-align: left;\">-100.0</td><td style = \"text-align: left;\">-1200.0</td><td style = \"text-align: left;\">-2000.0</td><td style = \"text-align: left;\">1.0</td><td style = \"text-align: left;\">-2.03237e5</td><td style = \"text-align: left;\">6403.09</td></tr><tr><td class = \"rowNumber\" style = \"font-weight: bold; text-align: right;\">713</td><td style = \"text-align: left;\">60.0</td><td style = \"text-align: left;\">2.0</td><td style = \"text-align: left;\">0.0</td><td style = \"text-align: left;\">-600.0</td><td style = \"text-align: left;\">-100.0</td><td style = \"text-align: left;\">-1200.0</td><td style = \"text-align: left;\">-2000.0</td><td style = \"text-align: left;\">1.0</td><td style = \"text-align: left;\">-1.99617e5</td><td style = \"text-align: left;\">6494.32</td></tr><tr><td class = \"rowNumber\" style = \"font-weight: bold; text-align: right;\">714</td><td style = \"text-align: left;\">60.0</td><td style = \"text-align: left;\">2.0</td><td style = \"text-align: left;\">0.0</td><td style = \"text-align: left;\">-400.0</td><td style = \"text-align: left;\">-100.0</td><td style = \"text-align: left;\">-1200.0</td><td style = \"text-align: left;\">-2000.0</td><td style = \"text-align: left;\">1.0</td><td style = \"text-align: left;\">-1.9583e5</td><td style = \"text-align: left;\">6250.64</td></tr><tr><td class = \"rowNumber\" style = \"font-weight: bold; text-align: right;\">715</td><td style = \"text-align: left;\">60.0</td><td style = \"text-align: left;\">2.0</td><td style = \"text-align: left;\">0.0</td><td style = \"text-align: left;\">-200.0</td><td style = \"text-align: left;\">-100.0</td><td style = \"text-align: left;\">-1200.0</td><td style = \"text-align: left;\">-2000.0</td><td style = \"text-align: left;\">1.0</td><td style = \"text-align: left;\">-1.9226e5</td><td style = \"text-align: left;\">6361.24</td></tr></tbody></table></div>"
      ],
      "text/latex": [
       "\\begin{tabular}{r|cccccccccc}\n",
       "\t& u & K & n & s & m & f & p & lamb & mean & std\\\\\n",
       "\t\\hline\n",
       "\t& Any & Any & Any & Any & Any & Any & Any & Any & Any & Any\\\\\n",
       "\t\\hline\n",
       "\t1 & 20.0 & 10.0 & 0.0 & -3200.0 & -100.0 & -1200.0 & -2000.0 & 1.0 & -1.10496e5 & 5023.93 \\\\\n",
       "\t2 & 20.0 & 10.0 & 0.0 & -2800.0 & -100.0 & -1200.0 & -2000.0 & 1.0 & -1.03885e5 & 4756.79 \\\\\n",
       "\t3 & 20.0 & 10.0 & 0.0 & -2400.0 & -100.0 & -1200.0 & -2000.0 & 1.0 & -97187.5 & 4561.11 \\\\\n",
       "\t4 & 20.0 & 10.0 & 0.0 & -2000.0 & -100.0 & -1200.0 & -2000.0 & 1.0 & -90416.0 & 4342.76 \\\\\n",
       "\t5 & 20.0 & 10.0 & 0.0 & -1800.0 & -100.0 & -1200.0 & -2000.0 & 1.0 & -87192.4 & 4184.22 \\\\\n",
       "\t6 & 20.0 & 10.0 & 0.0 & -1600.0 & -100.0 & -1200.0 & -2000.0 & 1.0 & -83851.3 & 4115.86 \\\\\n",
       "\t7 & 20.0 & 10.0 & 0.0 & -1400.0 & -100.0 & -1200.0 & -2000.0 & 1.0 & -80449.4 & 3956.61 \\\\\n",
       "\t8 & 20.0 & 10.0 & 0.0 & -1200.0 & -100.0 & -1200.0 & -2000.0 & 1.0 & -77167.9 & 3872.84 \\\\\n",
       "\t9 & 20.0 & 10.0 & 0.0 & -1000.0 & -100.0 & -1200.0 & -2000.0 & 1.0 & -73722.3 & 3831.87 \\\\\n",
       "\t10 & 20.0 & 10.0 & 0.0 & -800.0 & -100.0 & -1200.0 & -2000.0 & 1.0 & -70520.7 & 3715.83 \\\\\n",
       "\t11 & 20.0 & 10.0 & 0.0 & -600.0 & -100.0 & -1200.0 & -2000.0 & 1.0 & -67090.8 & 3653.98 \\\\\n",
       "\t12 & 20.0 & 10.0 & 0.0 & -400.0 & -100.0 & -1200.0 & -2000.0 & 1.0 & -63886.1 & 3597.25 \\\\\n",
       "\t13 & 20.0 & 10.0 & 0.0 & -200.0 & -100.0 & -1200.0 & -2000.0 & 1.0 & -60455.5 & 3577.55 \\\\\n",
       "\t14 & 20.0 & 8.0 & 0.0 & -3200.0 & -100.0 & -1200.0 & -2000.0 & 1.0 & -1.12092e5 & 5245.45 \\\\\n",
       "\t15 & 20.0 & 8.0 & 0.0 & -2800.0 & -100.0 & -1200.0 & -2000.0 & 1.0 & -1.0536e5 & 4996.97 \\\\\n",
       "\t16 & 20.0 & 8.0 & 0.0 & -2400.0 & -100.0 & -1200.0 & -2000.0 & 1.0 & -98677.6 & 4817.48 \\\\\n",
       "\t17 & 20.0 & 8.0 & 0.0 & -2000.0 & -100.0 & -1200.0 & -2000.0 & 1.0 & -91984.6 & 4693.21 \\\\\n",
       "\t18 & 20.0 & 8.0 & 0.0 & -1800.0 & -100.0 & -1200.0 & -2000.0 & 1.0 & -88692.1 & 4555.73 \\\\\n",
       "\t19 & 20.0 & 8.0 & 0.0 & -1600.0 & -100.0 & -1200.0 & -2000.0 & 1.0 & -85364.3 & 4423.49 \\\\\n",
       "\t20 & 20.0 & 8.0 & 0.0 & -1400.0 & -100.0 & -1200.0 & -2000.0 & 1.0 & -82026.2 & 4301.08 \\\\\n",
       "\t21 & 20.0 & 8.0 & 0.0 & -1200.0 & -100.0 & -1200.0 & -2000.0 & 1.0 & -78632.3 & 4239.31 \\\\\n",
       "\t22 & 20.0 & 8.0 & 0.0 & -1000.0 & -100.0 & -1200.0 & -2000.0 & 1.0 & -75347.3 & 4168.22 \\\\\n",
       "\t23 & 20.0 & 8.0 & 0.0 & -800.0 & -100.0 & -1200.0 & -2000.0 & 1.0 & -72002.9 & 4020.66 \\\\\n",
       "\t24 & 20.0 & 8.0 & 0.0 & -600.0 & -100.0 & -1200.0 & -2000.0 & 1.0 & -68636.7 & 4069.61 \\\\\n",
       "\t25 & 20.0 & 8.0 & 0.0 & -400.0 & -100.0 & -1200.0 & -2000.0 & 1.0 & -65344.1 & 3929.46 \\\\\n",
       "\t26 & 20.0 & 8.0 & 0.0 & -200.0 & -100.0 & -1200.0 & -2000.0 & 1.0 & -61996.5 & 3853.49 \\\\\n",
       "\t27 & 20.0 & 6.0 & 0.0 & -3200.0 & -100.0 & -1200.0 & -2000.0 & 1.0 & -1.15006e5 & 5718.24 \\\\\n",
       "\t28 & 20.0 & 6.0 & 0.0 & -2800.0 & -100.0 & -1200.0 & -2000.0 & 1.0 & -1.08248e5 & 5452.36 \\\\\n",
       "\t29 & 20.0 & 6.0 & 0.0 & -2400.0 & -100.0 & -1200.0 & -2000.0 & 1.0 & -1.01608e5 & 5293.5 \\\\\n",
       "\t30 & 20.0 & 6.0 & 0.0 & -2000.0 & -100.0 & -1200.0 & -2000.0 & 1.0 & -94997.0 & 5070.23 \\\\\n",
       "\t$\\dots$ & $\\dots$ & $\\dots$ & $\\dots$ & $\\dots$ & $\\dots$ & $\\dots$ & $\\dots$ & $\\dots$ & $\\dots$ & $\\dots$ \\\\\n",
       "\\end{tabular}\n"
      ],
      "text/plain": [
       "\u001b[1m715×10 DataFrame\u001b[0m\n",
       "\u001b[1m Row \u001b[0m│\u001b[1m u    \u001b[0m\u001b[1m K    \u001b[0m\u001b[1m n   \u001b[0m\u001b[1m s       \u001b[0m\u001b[1m m      \u001b[0m\u001b[1m f       \u001b[0m\u001b[1m p       \u001b[0m\u001b[1m lamb \u001b[0m\u001b[1m mean       \u001b[0m\u001b[1m s\u001b[0m ⋯\n",
       "     │\u001b[90m Any  \u001b[0m\u001b[90m Any  \u001b[0m\u001b[90m Any \u001b[0m\u001b[90m Any     \u001b[0m\u001b[90m Any    \u001b[0m\u001b[90m Any     \u001b[0m\u001b[90m Any     \u001b[0m\u001b[90m Any  \u001b[0m\u001b[90m Any        \u001b[0m\u001b[90m A\u001b[0m ⋯\n",
       "─────┼──────────────────────────────────────────────────────────────────────────\n",
       "   1 │ 20.0  10.0  0.0  -3200.0  -100.0  -1200.0  -2000.0  1.0   -1.10496e5  5 ⋯\n",
       "   2 │ 20.0  10.0  0.0  -2800.0  -100.0  -1200.0  -2000.0  1.0   -1.03885e5  4\n",
       "   3 │ 20.0  10.0  0.0  -2400.0  -100.0  -1200.0  -2000.0  1.0   -97187.5    4\n",
       "   4 │ 20.0  10.0  0.0  -2000.0  -100.0  -1200.0  -2000.0  1.0   -90416.0    4\n",
       "   5 │ 20.0  10.0  0.0  -1800.0  -100.0  -1200.0  -2000.0  1.0   -87192.4    4 ⋯\n",
       "   6 │ 20.0  10.0  0.0  -1600.0  -100.0  -1200.0  -2000.0  1.0   -83851.3    4\n",
       "   7 │ 20.0  10.0  0.0  -1400.0  -100.0  -1200.0  -2000.0  1.0   -80449.4    3\n",
       "   8 │ 20.0  10.0  0.0  -1200.0  -100.0  -1200.0  -2000.0  1.0   -77167.9    3\n",
       "   9 │ 20.0  10.0  0.0  -1000.0  -100.0  -1200.0  -2000.0  1.0   -73722.3    3 ⋯\n",
       "  10 │ 20.0  10.0  0.0  -800.0   -100.0  -1200.0  -2000.0  1.0   -70520.7    3\n",
       "  11 │ 20.0  10.0  0.0  -600.0   -100.0  -1200.0  -2000.0  1.0   -67090.8    3\n",
       "  ⋮  │  ⋮     ⋮     ⋮      ⋮       ⋮        ⋮        ⋮      ⋮        ⋮         ⋱\n",
       " 706 │ 60.0  2.0   0.0  -2000.0  -100.0  -1200.0  -2000.0  1.0   -2.24935e5  6\n",
       " 707 │ 60.0  2.0   0.0  -1800.0  -100.0  -1200.0  -2000.0  1.0   -2.2133e5   6 ⋯\n",
       " 708 │ 60.0  2.0   0.0  -1600.0  -100.0  -1200.0  -2000.0  1.0   -2.17644e5  6\n",
       " 709 │ 60.0  2.0   0.0  -1400.0  -100.0  -1200.0  -2000.0  1.0   -2.14013e5  6\n",
       " 710 │ 60.0  2.0   0.0  -1200.0  -100.0  -1200.0  -2000.0  1.0   -2.10383e5  6\n",
       " 711 │ 60.0  2.0   0.0  -1000.0  -100.0  -1200.0  -2000.0  1.0   -206834.0   6 ⋯\n",
       " 712 │ 60.0  2.0   0.0  -800.0   -100.0  -1200.0  -2000.0  1.0   -2.03237e5  6\n",
       " 713 │ 60.0  2.0   0.0  -600.0   -100.0  -1200.0  -2000.0  1.0   -1.99617e5  6\n",
       " 714 │ 60.0  2.0   0.0  -400.0   -100.0  -1200.0  -2000.0  1.0   -1.9583e5   6\n",
       " 715 │ 60.0  2.0   0.0  -200.0   -100.0  -1200.0  -2000.0  1.0   -1.9226e5   6 ⋯\n",
       "\u001b[36m                                                   1 column and 694 rows omitted\u001b[0m"
      ]
     },
     "execution_count": 13,
     "metadata": {},
     "output_type": "execute_result"
    }
   ],
   "source": [
    "df"
   ]
  },
  {
   "cell_type": "code",
   "execution_count": 14,
   "metadata": {},
   "outputs": [
    {
     "data": {
      "text/plain": [
       "\"Heterogeneous Independent policy.csv\""
      ]
     },
     "execution_count": 14,
     "metadata": {},
     "output_type": "execute_result"
    }
   ],
   "source": [
    "using CSV\n",
    "CSV.write(\"Heterogeneous Independent policy.csv\", df)"
   ]
  },
  {
   "cell_type": "code",
   "execution_count": 15,
   "metadata": {},
   "outputs": [],
   "source": [
    "#  Q=ValueIteration(s,T,.95,3000)\n",
    "# for s in 1:Number_level\n",
    "# p=[exp(0.01*sum(Q[s,1])),exp(0.01*sum(Q[s,2])),exp(0.01*sum(Q[s,3]))]\n",
    "#     p./=sum(p)\n",
    "#     println(p)\n",
    "# end"
   ]
  },
  {
   "cell_type": "code",
   "execution_count": 16,
   "metadata": {},
   "outputs": [],
   "source": [
    "#= using Plotsa =#"
   ]
  },
  {
   "cell_type": "code",
   "execution_count": 17,
   "metadata": {
    "scrolled": true
   },
   "outputs": [],
   "source": [
    "#= for i in [3,5,10,15,20,25,30,40,50,60]\n",
    "   display( plot(df[df.Units.==i,:].lambda,df[df.Units.==i,:].mean, xtick=df[df.Units.==i,:].lambda, show = true,title=string(i),label=false, xaxis=:log10,rotation=40))\n",
    "    plot(show=true)\n",
    "    println(df[df.Units.==i,:][findmax(df[df.Units.==i,:].mean)[2],:])\n",
    "\n",
    "end =#"
   ]
  },
  {
   "cell_type": "code",
   "execution_count": 18,
   "metadata": {},
   "outputs": [],
   "source": [
    "#= plot!()\n",
    " =#"
   ]
  },
  {
   "cell_type": "code",
   "execution_count": null,
   "metadata": {},
   "outputs": [],
   "source": []
  },
  {
   "cell_type": "code",
   "execution_count": null,
   "metadata": {},
   "outputs": [],
   "source": []
  },
  {
   "cell_type": "code",
   "execution_count": null,
   "metadata": {},
   "outputs": [],
   "source": []
  },
  {
   "cell_type": "code",
   "execution_count": null,
   "metadata": {},
   "outputs": [],
   "source": []
  }
 ],
 "metadata": {
  "kernelspec": {
   "display_name": "Julia 1.10.2",
   "language": "julia",
   "name": "julia-1.10"
  },
  "language_info": {
   "file_extension": ".jl",
   "mimetype": "application/julia",
   "name": "julia",
   "version": "1.10.2"
  },
  "vscode": {
   "interpreter": {
    "hash": "aee8b7b246df8f9039afb4144a1f6fd8d2ca17a180786b69acc140d282b71a49"
   }
  }
 },
 "nbformat": 4,
 "nbformat_minor": 4
}
