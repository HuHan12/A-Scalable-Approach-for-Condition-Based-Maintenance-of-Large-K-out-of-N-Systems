{
 "cells": [
  {
   "cell_type": "code",
   "execution_count": 1,
   "metadata": {},
   "outputs": [],
   "source": [
    "using POMDPs, POMDPTools, QuickPOMDPs, MCTS, DiscreteValueIteration, POMDPSimulators, POMDPModels, POMDPPolicies\n",
    "using Distributions, Combinatorics, StaticArrays, D3Trees, Random\n",
    "using FileIO, JLD2, TickTock"
   ]
  },
  {
   "cell_type": "code",
   "execution_count": null,
   "metadata": {},
   "outputs": [],
   "source": []
  },
  {
   "cell_type": "code",
   "execution_count": 2,
   "metadata": {},
   "outputs": [],
   "source": [
    "action=[(0,0), (0,1), (1,1)]\n",
    "\n",
    "Number_level = 10;\n",
    "\n",
    "# fullname = \"tm10\";\n",
    "# generate_transition_matrix(Number_level, fullname) \n",
    "# Transition_matrix = load(fullname*\".jld2\",\"transition_matrix\");\n"
   ]
  },
  {
   "cell_type": "code",
   "execution_count": 3,
   "metadata": {},
   "outputs": [],
   "source": [
    "T=zeros(Number_level,Number_level,3,100);\n",
    "\n",
    "# Load transition probability matrix for each component\n",
    "for i in 1:100\n",
    "    fullname = \"J:/Master's Thesis/Heterogeneous/TM_MATRIX/tm\"*string(i);\n",
    "    #fullname = \"/Users/huhan/Library/CloudStorage/GoogleDrive-hhu98@wisc.edu/My Drive/Master's Thesis/Heterogeneous/TM_MATRIX/tm\"*string(i);\n",
    "    # generate_transition_matrix(Number_level, fullname) \n",
    "    Transition_matrix = load(fullname*\".jld2\",\"transition_matrix\");\n",
    "    # the last term in argument of T, which is written as 'i' here,\n",
    "    # is the index of component in the heterogeneous system\n",
    "    T[:,:,1,i].=Transition_matrix; # a=1: do not replace\n",
    "    T[:,:,2,i].=Transition_matrix; # a=2: corrective replacement\n",
    "    for j in 1:Number_level\n",
    "        T[j,:,3,i].=Transition_matrix[1,:]; # a=3: preventive replacement\n",
    "        end\n",
    "    # T[Number_level,:,1,i].=Transition_matrix[1,:]\n",
    "    T[Number_level,:,1,i].=0.0\n",
    "    T[Number_level,Number_level,1,i]=1.0\n",
    "    T[Number_level,:,2,i].=Transition_matrix[1,:]\n",
    "\n",
    "end"
   ]
  },
  {
   "cell_type": "code",
   "execution_count": 4,
   "metadata": {},
   "outputs": [],
   "source": [
    "#T[:,:,:,20]"
   ]
  },
  {
   "cell_type": "code",
   "execution_count": 5,
   "metadata": {},
   "outputs": [
    {
     "data": {
      "text/plain": [
       "reward (generic function with 3 methods)"
      ]
     },
     "execution_count": 5,
     "metadata": {},
     "output_type": "execute_result"
    }
   ],
   "source": [
    "function reward(s, a, k, s1=10, rng=23)       #s is a vector of number units at each level and a is the number of units we will repair\n",
    "   if a==1 #NO REPAIR AND SYSTEM FAILURE\n",
    "        if s==Number_level\n",
    "            r=system_penalty/(limit);\n",
    "            return r\n",
    "        else\n",
    "            crd = Categorical(T[s,:,1,k]);\n",
    "            s = rand(crd);\n",
    "            r = normal_operation ;\n",
    "             return r\n",
    "            end\n",
    "        end\n",
    "    if a==2 # UNIT NOT REPAIRED UNLESS FAILURE BUT REPAIR IN SYSTEM\n",
    "        if s==Number_level\n",
    "             s=1\n",
    "            crd = Categorical(T[s,:,1,k]);\n",
    "            s = rand(crd);\n",
    "            r=failure_penalty +  setup_cost/NumberUnits + normal_operation  ;\n",
    "        return r\n",
    "        else\n",
    "            crd = Categorical(T[s,:,1,k]);\n",
    "            s = rand(crd);\n",
    "            r = normal_operation +  setup_cost/NumberUnits;\n",
    "             return r\n",
    "        end\n",
    "    end\n",
    "\n",
    "     if a==3 # UNIT REPAIRED AND MAINTENANCE IN SYSTEM NO SYSTEM FAILURE\n",
    "        if s==Number_level\n",
    "             s=1\n",
    "            crd = Categorical(T[s,:,1,k]);\n",
    "            s = rand(crd);\n",
    "            r=failure_penalty +  setup_cost/NumberUnits + normal_operation  ;\n",
    "        return r\n",
    "        else\n",
    "        s1=deepcopy(s)\n",
    "        s=1\n",
    "        r = maintenance_penalty +  setup_cost/NumberUnits\n",
    "         crd = Categorical(T[s,:,1,k]);\n",
    "            s = rand(crd);\n",
    "            r+= normal_operation  ;\n",
    "#            r*=(s1/10);\n",
    "       return r\n",
    "#         end\n",
    "    end\n",
    "    end\n",
    "    \n",
    "    if a==4 #UNIT REPAIRED AND MAINTENANCE IN SYSTEM with SYSTEM FAILURE FAILED UNIT TAKES Kth Component\n",
    "        if s==Number_level\n",
    "             s=1\n",
    "            crd = Categorical(T[s,:,1,k]);\n",
    "            s = rand(crd);\n",
    "            r=failure_penalty +  setup_cost/NumberUnits + normal_operation + system_penalty/(limit) ;\n",
    "        return r\n",
    "        else\n",
    "        s1=deepcopy(s)\n",
    "        s=1\n",
    "        r = maintenance_penalty +  setup_cost/NumberUnits\n",
    "         crd = Categorical(T[s,:,1,k]);\n",
    "            s = rand(crd);\n",
    "            r+= normal_operation  ;\n",
    "#            r*=(s1/10);\n",
    "       return r\n",
    "#         end\n",
    "    end\n",
    "    end\n",
    "    \n",
    "    end"
   ]
  },
  {
   "cell_type": "code",
   "execution_count": 6,
   "metadata": {},
   "outputs": [],
   "source": [
    "# function explore()\n",
    "#     c=[1/3,1/3,1/3]\n",
    "\n",
    "#      crd = Categorical(c);\n",
    "#      return rand(crd)\n",
    "#     end \n",
    "# function generative(s, a, k, rng=23)       #s is a vector of number units at each level and a is the number of units we will repair\n",
    "#     if a==1 # component continues unless failed\n",
    "#         if s==Number_level\n",
    "#             r=failure_penalty +  setup_cost/NumberUnits + normal_operation  ;\n",
    "#             return (sp=s, r=r)\n",
    "#         else\n",
    "#             crd = Categorical(T[s,:,1,k]);\n",
    "#             s = rand(crd);\n",
    "#             r = normal_operation ;\n",
    "#              return (sp=s, r=r)\n",
    "#             end\n",
    "#         end\n",
    "#     if a==2 # UNIT NOT REPAIRED UNLESS FAILURE BUT REPAIR IN SYSTEM\n",
    "#         if s==Number_level\n",
    "#              s=1\n",
    "#             crd = Categorical(T[s,:,2,k]);\n",
    "#             s = rand(crd);\n",
    "#             r=failure_penalty +  setup_cost/NumberUnits + normal_operation  ;\n",
    "#         return (sp=s, r=r)\n",
    "#         else\n",
    "#             crd = Categorical(T[s,:,2,k]);\n",
    "#             s = rand(crd);\n",
    "#             r = normal_operation +  setup_cost/NumberUnits;\n",
    "#              return (sp=s, r=r)\n",
    "#         end\n",
    "#     end\n",
    "\n",
    "#      if a==3 # preventive replacement; no system failure\n",
    "#         if s==Number_level\n",
    "#              s=1\n",
    "#             crd = Categorical(T[s,:,3,k]);\n",
    "#             s = rand(crd);\n",
    "#             r=failure_penalty +  setup_cost/NumberUnits + normal_operation  ;\n",
    "#         return (sp=s, r=r)\n",
    "#         else\n",
    "#         s1=deepcopy(s)\n",
    "#         s=1\n",
    "#         r = maintenance_penalty +  setup_cost/NumberUnits\n",
    "#          crd = Categorical(T[s,:,3,k]);\n",
    "#             s = rand(crd);\n",
    "#             r+= normal_operation  ;\n",
    "# #            r*=(s1/10);\n",
    "#        return (sp=s, r=r)\n",
    "# #         end\n",
    "#     end\n",
    "#     end\n",
    "    \n",
    "    \n",
    "#     if a==4 # preventive or corrective replacement; system fails\n",
    "#         if s==Number_level\n",
    "#              s=1\n",
    "#             crd = Categorical(T[s,:,3,k]);\n",
    "#             s = rand(crd);\n",
    "#             r=failure_penalty +  setup_cost/NumberUnits + normal_operation + system_penalty/(limit) ;\n",
    "#         return (sp=s, r=r)\n",
    "#         else\n",
    "#         s1=deepcopy(s)\n",
    "#         s=1\n",
    "#         r = maintenance_penalty +  setup_cost/NumberUnits\n",
    "#          crd = Categorical(T[s,:,3,k]);\n",
    "#             s = rand(crd);\n",
    "#             r+= normal_operation  ;\n",
    "# #            r*=(s1/10);\n",
    "#        return (sp=s, r=r)\n",
    "# #         end\n",
    "#     end\n",
    "#     end\n",
    "\n",
    "    \n",
    "#     end"
   ]
  },
  {
   "cell_type": "code",
   "execution_count": 7,
   "metadata": {},
   "outputs": [
    {
     "data": {
      "text/plain": [
       "generative (generic function with 2 methods)"
      ]
     },
     "execution_count": 7,
     "metadata": {},
     "output_type": "execute_result"
    }
   ],
   "source": [
    "function explore()\n",
    "    c=[1/3,1/3,1/3]\n",
    "\n",
    "     crd = Categorical(c);\n",
    "     return rand(crd)\n",
    "    end \n",
    "function generative(s, a,k, rng=23)       # calculate true component-level reward r_i(s_i,a_i) nd get evolving states\n",
    "    if a==1 # No replacement in system, no system failure\n",
    "        # if s==Number_level\n",
    "        #     r=system_penalty/(limit);\n",
    "        #     return (sp=s, r=r)\n",
    "        # else\n",
    "            crd = Categorical(T[s,:,1,k]);\n",
    "            s = rand(crd);\n",
    "            r = normal_operation ;\n",
    "             return (sp=s, r=r)\n",
    "            # end\n",
    "        end\n",
    "    if a==2 # replacement in system, no system failure, corrective replacement for unit\n",
    "        if s==Number_level\n",
    "             s=1\n",
    "            crd = Categorical(T[s,:,2,k]);\n",
    "            s = rand(crd);\n",
    "            #r=failure_penalty +  setup_cost/NumberUnits + normal_operation  ;\n",
    "            r=failure_penalty  + normal_operation  ;\n",
    "        return (sp=s, r=r)\n",
    "        else\n",
    "            crd = Categorical(T[s,:,2,k]);\n",
    "            s = rand(crd);\n",
    "            #r = normal_operation +  setup_cost/NumberUnits;\n",
    "            r = normal_operation;\n",
    "             return (sp=s, r=r)\n",
    "        end\n",
    "    end\n",
    "\n",
    "     if a==3 # replacement in system, no system failure, preventive replacement for unit\n",
    "        if s==Number_level\n",
    "             s=1\n",
    "            crd = Categorical(T[s,:,3,k]);\n",
    "            s = rand(crd);\n",
    "            #r=failure_penalty +  setup_cost/NumberUnits + normal_operation  ;\n",
    "            r=failure_penalty + normal_operation  ;\n",
    "        return (sp=s, r=r)\n",
    "        else\n",
    "        s1=deepcopy(s)\n",
    "        s=1\n",
    "        #r = maintenance_penalty +  setup_cost/NumberUnits\n",
    "        r = maintenance_penalty\n",
    "         crd = Categorical(T[s,:,3,k]);\n",
    "            s = rand(crd);\n",
    "            r+= normal_operation  ;\n",
    "#            r*=(s1/10);\n",
    "       return (sp=s, r=r)\n",
    "#         end\n",
    "    end\n",
    "    end\n",
    "    \n",
    "    \n",
    "    if a==4 # replacement in system, system failure occurs, preventive replacement for unit\n",
    "        if s==Number_level\n",
    "             s=1\n",
    "            crd = Categorical(T[s,:,3,k]);\n",
    "            s = rand(crd);\n",
    "            #r=failure_penalty +  setup_cost/NumberUnits + normal_operation + system_penalty/(limit) ;\n",
    "            r=failure_penalty+ normal_operation;\n",
    "        return (sp=s, r=r)\n",
    "        else\n",
    "        s1=deepcopy(s)\n",
    "        s=1\n",
    "        #r = maintenance_penalty +  setup_cost/NumberUnits\n",
    "        r = maintenance_penalty\n",
    "         crd = Categorical(T[s,:,3,k]);\n",
    "            s = rand(crd);\n",
    "            r+= normal_operation;\n",
    "#            r*=(s1/10);\n",
    "       return (sp=s, r=r)\n",
    "#         end\n",
    "    end\n",
    "    end\n",
    "\n",
    "    end"
   ]
  },
  {
   "cell_type": "code",
   "execution_count": 8,
   "metadata": {},
   "outputs": [
    {
     "data": {
      "text/plain": [
       "ValueIteration (generic function with 1 method)"
      ]
     },
     "execution_count": 8,
     "metadata": {},
     "output_type": "execute_result"
    }
   ],
   "source": [
    "function ValueIteration(γ)\n",
    "    # s in input is not necessary\n",
    "    Q=zeros((Number_level,4,NumberUnits))\n",
    "#     print(Q)\n",
    "    V= zeros(Float64, (Number_level,NumberUnits)).+1000\n",
    "    # i=0\n",
    "   for k in 1:NumberUnits\n",
    "    for i in 1:10000\n",
    "#     while  i<=10000\n",
    "      for s in 1:Number_level\n",
    "        Threads.@threads for a in 1:4\n",
    "#                 println(a)\n",
    "#                 println(reward(s,a))\n",
    "                if a>3 # as we don't have T defined for a=4 and transition is actually same as a=3\n",
    "                Q[s,a,k]= (reward(s,a,k)) + γ*( sum(T[s,s1,3,k]*(V[s1,k]) for (s1) in 1:Number_level ))\n",
    "                else\n",
    "                Q[s,a,k]= (reward(s,a,k)) + γ*( sum(T[s,s1,a,k]*(V[s1,k]) for (s1) in 1:Number_level ))\n",
    "                end\n",
    "                           end\n",
    "#             print(\"here\")\n",
    "\n",
    "#                 p1=[exp(lamb*sum(Q[s,a3])) for a3 in 1:4]\n",
    "#                 p1=p1./sum(p1)\n",
    "# #                  V[s]=sum(p1[1:3])*(p[1]*Q[s,1] + (p[2]+p[3])*max(Q[s,2],Q[s,3])) + sum(p1[4:(NumberUnits-limit+4)])*(sum(p2[b]*Q[s,b+3] for b in 1:(NumberUnits-limit+1)))\n",
    "#                  V[s]=(p1[1]*Q[s,1] + (p1[2]+p1[3])*max(Q[s,2],Q[s,3])) + p1[4]*Q[s,4]\n",
    "#             println(findmax(Q[s,1:4]))\n",
    "              \n",
    "                V[s,k]=findmax(Q[s,1:4,k])[1]      \n",
    "      end\n",
    "\n",
    "    end\n",
    "    end\n",
    "    # print(V)\n",
    "   \n",
    "    return Q\n",
    "    end"
   ]
  },
  {
   "cell_type": "code",
   "execution_count": 9,
   "metadata": {},
   "outputs": [
    {
     "data": {
      "text/plain": [
       "decison (generic function with 2 methods)"
      ]
     },
     "execution_count": 9,
     "metadata": {},
     "output_type": "execute_result"
    }
   ],
   "source": [
    "\n",
    "function decison(Q, s,n=0.2)\n",
    "   a_final=[]\n",
    "    alpha=count(i->(i==Number_level), s) \n",
    "    alpha=deepcopy(limit)\n",
    "   if count(i->(i==Number_level), s) >=limit # If system fails\n",
    "#         print(\"hi\")\n",
    "        count_1=0\n",
    "        a_1=repeat(1:1,NumberUnits);\n",
    "        for i in 1:NumberUnits\n",
    "            a_1[i]=argmax(a->Q[s[i],a,i], [2,3])\n",
    "            if s[i]==Number_level && alpha>0\n",
    "                a_1[i]=4\n",
    "                alpha=alpha-1\n",
    "            end\n",
    "        end\n",
    "        return a_1\n",
    "    end\n",
    "    \n",
    "    \n",
    "    \n",
    "    \n",
    "    # if system does not fail\n",
    "    q0=0.0\n",
    "    a_0=repeat(1:1,NumberUnits);\n",
    "    for i in 1:NumberUnits\n",
    "            q0+=Q[s[i],1,i]\n",
    "    end\n",
    "    a_1=repeat(1:1,NumberUnits);\n",
    "    b=0\n",
    "    for i in 1:NumberUnits\n",
    "            a_1[i]=argmax(a->Q[s[i],a,i], [2,3])\n",
    "            if s[i]==Number_level\n",
    "                a_1[i]=3\n",
    "            end\n",
    "    end\n",
    "    q1=0.0\n",
    "    for i in 1:NumberUnits\n",
    "            q1+=Q[s[i],a_1[i],i]\n",
    "    end\n",
    "    \n",
    "    if !(3 in a_1) \n",
    "        a_1=a_0\n",
    "        q1=q0\n",
    "    end\n",
    "    \n",
    "    \n",
    "     if q0>q1 # if no replacement \n",
    "            return a_0\n",
    "        else # if any replacement is required\n",
    "            return a_1\n",
    "            \n",
    "        end\n",
    "end"
   ]
  },
  {
   "cell_type": "code",
   "execution_count": 10,
   "metadata": {},
   "outputs": [
    {
     "data": {
      "text/html": [
       "<div><div style = \"float: left;\"><span>0×10 DataFrame</span></div><div style = \"clear: both;\"></div></div><div class = \"data-frame\" style = \"overflow-x: scroll;\"><table class = \"data-frame\" style = \"margin-bottom: 6px;\"><thead><tr class = \"header\"><th class = \"rowNumber\" style = \"font-weight: bold; text-align: right;\">Row</th><th style = \"text-align: left;\">u</th><th style = \"text-align: left;\">K</th><th style = \"text-align: left;\">n</th><th style = \"text-align: left;\">s</th><th style = \"text-align: left;\">m</th><th style = \"text-align: left;\">f</th><th style = \"text-align: left;\">p</th><th style = \"text-align: left;\">lamb</th><th style = \"text-align: left;\">mean</th><th style = \"text-align: left;\">std</th></tr><tr class = \"subheader headerLastRow\"><th class = \"rowNumber\" style = \"font-weight: bold; text-align: right;\"></th><th title = \"Any\" style = \"text-align: left;\">Any</th><th title = \"Any\" style = \"text-align: left;\">Any</th><th title = \"Any\" style = \"text-align: left;\">Any</th><th title = \"Any\" style = \"text-align: left;\">Any</th><th title = \"Any\" style = \"text-align: left;\">Any</th><th title = \"Any\" style = \"text-align: left;\">Any</th><th title = \"Any\" style = \"text-align: left;\">Any</th><th title = \"Any\" style = \"text-align: left;\">Any</th><th title = \"Any\" style = \"text-align: left;\">Any</th><th title = \"Any\" style = \"text-align: left;\">Any</th></tr></thead><tbody></tbody></table></div>"
      ],
      "text/latex": [
       "\\begin{tabular}{r|cccccccccc}\n",
       "\t& u & K & n & s & m & f & p & lamb & mean & std\\\\\n",
       "\t\\hline\n",
       "\t& Any & Any & Any & Any & Any & Any & Any & Any & Any & Any\\\\\n",
       "\t\\hline\n",
       "\\end{tabular}\n"
      ],
      "text/plain": [
       "\u001b[1m0×10 DataFrame\u001b[0m\n",
       "\u001b[1m Row \u001b[0m│\u001b[1m u   \u001b[0m\u001b[1m K   \u001b[0m\u001b[1m n   \u001b[0m\u001b[1m s   \u001b[0m\u001b[1m m   \u001b[0m\u001b[1m f   \u001b[0m\u001b[1m p   \u001b[0m\u001b[1m lamb \u001b[0m\u001b[1m mean \u001b[0m\u001b[1m std \u001b[0m\n",
       "     │\u001b[90m Any \u001b[0m\u001b[90m Any \u001b[0m\u001b[90m Any \u001b[0m\u001b[90m Any \u001b[0m\u001b[90m Any \u001b[0m\u001b[90m Any \u001b[0m\u001b[90m Any \u001b[0m\u001b[90m Any  \u001b[0m\u001b[90m Any  \u001b[0m\u001b[90m Any \u001b[0m\n",
       "─────┴────────────────────────────────────────────────────"
      ]
     },
     "execution_count": 10,
     "metadata": {},
     "output_type": "execute_result"
    }
   ],
   "source": [
    "using DataFrames\n",
    "df= DataFrame(u=[],K=[],n=[],s=[],m=[],f=[],p=[],lamb=[],mean=[],std=[])"
   ]
  },
  {
   "cell_type": "code",
   "execution_count": 11,
   "metadata": {
    "scrolled": true
   },
   "outputs": [
    {
     "name": "stdout",
     "output_type": "stream",
     "text": [
      "60\n",
      "K : 2\n"
     ]
    },
    {
     "name": "stderr",
     "output_type": "stream",
     "text": [
      "\u001b[36m\u001b[1m[ \u001b[22m\u001b[39m\u001b[36m\u001b[1mInfo: \u001b[22m\u001b[39m started timer at: 2024-03-15T10:33:40.949\n"
     ]
    },
    {
     "name": "stdout",
     "output_type": "stream",
     "text": [
      "[0 -200 -100 -1200 -2000]\n",
      "false\n",
      "60\n",
      "k : 2\n",
      "1\n",
      "-75170.08939384468\n",
      "4414.401120856999\n",
      "60\n",
      "K : 2\n",
      "[0 -400 -100 -1200 -2000]\n"
     ]
    },
    {
     "name": "stderr",
     "output_type": "stream",
     "text": [
      "\u001b[36m\u001b[1m[ \u001b[22m\u001b[39m\u001b[36m\u001b[1mInfo: \u001b[22m\u001b[39m        1007.6537361s: 16 minutes, 47 seconds, 653 milliseconds\n",
      "\u001b[36m\u001b[1m[ \u001b[22m\u001b[39m\u001b[36m\u001b[1mInfo: \u001b[22m\u001b[39m started timer at: 2024-03-15T10:50:28.756\n"
     ]
    },
    {
     "name": "stdout",
     "output_type": "stream",
     "text": [
      "false\n",
      "60\n",
      "k : 2\n",
      "1\n",
      "-78396.3063083512\n",
      "4291.166511630309\n",
      "60\n",
      "K : 2\n",
      "[0 -600 -100 -1200 -2000]\n"
     ]
    },
    {
     "name": "stderr",
     "output_type": "stream",
     "text": [
      "\u001b[36m\u001b[1m[ \u001b[22m\u001b[39m\u001b[36m\u001b[1mInfo: \u001b[22m\u001b[39m         979.7521486s: 16 minutes, 19 seconds, 752 milliseconds\n",
      "\u001b[36m\u001b[1m[ \u001b[22m\u001b[39m\u001b[36m\u001b[1mInfo: \u001b[22m\u001b[39m started timer at: 2024-03-15T11:06:48.528\n"
     ]
    },
    {
     "name": "stdout",
     "output_type": "stream",
     "text": [
      "false\n",
      "60\n",
      "k : 2\n",
      "1\n",
      "-81951.74340131295\n",
      "4265.907210745873\n",
      "60\n",
      "K : 2\n",
      "[0 -800 -100 -1200 -2000]\n"
     ]
    },
    {
     "name": "stderr",
     "output_type": "stream",
     "text": [
      "\u001b[36m\u001b[1m[ \u001b[22m\u001b[39m\u001b[36m\u001b[1mInfo: \u001b[22m\u001b[39m         979.6451973s: 16 minutes, 19 seconds, 645 milliseconds\n",
      "\u001b[36m\u001b[1m[ \u001b[22m\u001b[39m\u001b[36m\u001b[1mInfo: \u001b[22m\u001b[39m started timer at: 2024-03-15T11:23:08.192\n"
     ]
    },
    {
     "name": "stdout",
     "output_type": "stream",
     "text": [
      "false\n",
      "60\n",
      "k : 2\n",
      "1\n",
      "-85791.6689248456\n",
      "4286.765328146341\n",
      "60\n",
      "K : 2\n",
      "[0 -1000 -100 -1200 -2000]\n"
     ]
    },
    {
     "name": "stderr",
     "output_type": "stream",
     "text": [
      "\u001b[36m\u001b[1m[ \u001b[22m\u001b[39m\u001b[36m\u001b[1mInfo: \u001b[22m\u001b[39m         979.1609666s: 16 minutes, 19 seconds, 160 milliseconds\n",
      "\u001b[36m\u001b[1m[ \u001b[22m\u001b[39m\u001b[36m\u001b[1mInfo: \u001b[22m\u001b[39m started timer at: 2024-03-15T11:39:27.372\n"
     ]
    },
    {
     "name": "stdout",
     "output_type": "stream",
     "text": [
      "false\n",
      "60\n",
      "k : 2\n",
      "1\n",
      "-89594.76408267928\n",
      "4397.644756299828\n",
      "60\n",
      "K : 2\n",
      "[0 -1200 -100 -1200 -2000]\n"
     ]
    },
    {
     "name": "stderr",
     "output_type": "stream",
     "text": [
      "\u001b[36m\u001b[1m[ \u001b[22m\u001b[39m\u001b[36m\u001b[1mInfo: \u001b[22m\u001b[39m         978.9767589s: 16 minutes, 18 seconds, 976 milliseconds\n",
      "\u001b[36m\u001b[1m[ \u001b[22m\u001b[39m\u001b[36m\u001b[1mInfo: \u001b[22m\u001b[39m started timer at: 2024-03-15T11:55:46.369\n"
     ]
    },
    {
     "name": "stdout",
     "output_type": "stream",
     "text": [
      "false\n",
      "60\n",
      "k : 2\n",
      "1\n",
      "-93325.81518280105\n",
      "4440.2836944910805\n",
      "60\n",
      "K : 2\n",
      "[0 -1400 -100 -1200 -2000]\n"
     ]
    },
    {
     "name": "stderr",
     "output_type": "stream",
     "text": [
      "\u001b[36m\u001b[1m[ \u001b[22m\u001b[39m\u001b[36m\u001b[1mInfo: \u001b[22m\u001b[39m         977.6381187s: 16 minutes, 17 seconds, 638 milliseconds\n",
      "\u001b[36m\u001b[1m[ \u001b[22m\u001b[39m\u001b[36m\u001b[1mInfo: \u001b[22m\u001b[39m started timer at: 2024-03-15T12:12:04.026\n"
     ]
    },
    {
     "name": "stdout",
     "output_type": "stream",
     "text": [
      "false\n",
      "60\n",
      "k : 2\n",
      "1\n",
      "-97198.50000038886\n",
      "4694.097331954002\n",
      "60\n",
      "K : 2\n",
      "[0 -1600 -100 -1200 -2000]\n"
     ]
    },
    {
     "name": "stderr",
     "output_type": "stream",
     "text": [
      "\u001b[36m\u001b[1m[ \u001b[22m\u001b[39m\u001b[36m\u001b[1mInfo: \u001b[22m\u001b[39m         977.3519037s: 16 minutes, 17 seconds, 351 milliseconds\n",
      "\u001b[36m\u001b[1m[ \u001b[22m\u001b[39m\u001b[36m\u001b[1mInfo: \u001b[22m\u001b[39m started timer at: 2024-03-15T12:28:21.408\n"
     ]
    },
    {
     "name": "stdout",
     "output_type": "stream",
     "text": [
      "false\n",
      "60\n",
      "k : 2\n",
      "1\n",
      "-100959.92153025646\n",
      "4810.282536981741\n",
      "60\n",
      "K : 2\n",
      "[0 -1800 -100 -1200 -2000]\n"
     ]
    },
    {
     "name": "stderr",
     "output_type": "stream",
     "text": [
      "\u001b[36m\u001b[1m[ \u001b[22m\u001b[39m\u001b[36m\u001b[1mInfo: \u001b[22m\u001b[39m          977.150621s: 16 minutes, 17 seconds, 150 milliseconds\n",
      "\u001b[36m\u001b[1m[ \u001b[22m\u001b[39m\u001b[36m\u001b[1mInfo: \u001b[22m\u001b[39m started timer at: 2024-03-15T12:44:38.577\n"
     ]
    },
    {
     "name": "stdout",
     "output_type": "stream",
     "text": [
      "false\n",
      "60\n",
      "k : 2\n",
      "1\n",
      "-104371.45708054969\n",
      "5117.17128046956\n",
      "60\n",
      "K : 2\n",
      "[0 -2000 -100 -1200 -2000]\n"
     ]
    },
    {
     "name": "stderr",
     "output_type": "stream",
     "text": [
      "\u001b[36m\u001b[1m[ \u001b[22m\u001b[39m\u001b[36m\u001b[1mInfo: \u001b[22m\u001b[39m         978.2035173s: 16 minutes, 18 seconds, 203 milliseconds\n",
      "\u001b[36m\u001b[1m[ \u001b[22m\u001b[39m\u001b[36m\u001b[1mInfo: \u001b[22m\u001b[39m started timer at: 2024-03-15T13:00:56.800\n"
     ]
    },
    {
     "name": "stdout",
     "output_type": "stream",
     "text": [
      "false\n",
      "60\n",
      "k : 2\n",
      "1\n",
      "-107553.88745083247\n",
      "5220.896367048502\n",
      "60\n",
      "K : 2\n",
      "[0 -2400 -100 -1200 -2000]\n"
     ]
    },
    {
     "name": "stderr",
     "output_type": "stream",
     "text": [
      "\u001b[36m\u001b[1m[ \u001b[22m\u001b[39m\u001b[36m\u001b[1mInfo: \u001b[22m\u001b[39m         977.7144719s: 16 minutes, 17 seconds, 714 milliseconds\n",
      "\u001b[36m\u001b[1m[ \u001b[22m\u001b[39m\u001b[36m\u001b[1mInfo: \u001b[22m\u001b[39m started timer at: 2024-03-15T13:17:14.533\n"
     ]
    },
    {
     "name": "stdout",
     "output_type": "stream",
     "text": [
      "false\n",
      "60\n",
      "k : 2\n",
      "1\n",
      "-112680.67931271222\n",
      "5563.565224443695\n",
      "60\n",
      "K : 2\n",
      "[0 -2800 -100 -1200 -2000]\n"
     ]
    },
    {
     "name": "stderr",
     "output_type": "stream",
     "text": [
      "\u001b[36m\u001b[1m[ \u001b[22m\u001b[39m\u001b[36m\u001b[1mInfo: \u001b[22m\u001b[39m         978.8038441s: 16 minutes, 18 seconds, 803 milliseconds\n",
      "\u001b[36m\u001b[1m[ \u001b[22m\u001b[39m\u001b[36m\u001b[1mInfo: \u001b[22m\u001b[39m started timer at: 2024-03-15T13:33:33.367\n"
     ]
    },
    {
     "name": "stdout",
     "output_type": "stream",
     "text": [
      "false\n",
      "60\n",
      "k : 2\n",
      "1\n",
      "-117081.08868109691\n",
      "5655.839550542376\n",
      "60\n",
      "K : 2\n",
      "[0 -3200 -100 -1200 -2000]\n"
     ]
    },
    {
     "name": "stderr",
     "output_type": "stream",
     "text": [
      "\u001b[36m\u001b[1m[ \u001b[22m\u001b[39m\u001b[36m\u001b[1mInfo: \u001b[22m\u001b[39m         979.9310414s: 16 minutes, 19 seconds, 931 milliseconds\n",
      "\u001b[36m\u001b[1m[ \u001b[22m\u001b[39m\u001b[36m\u001b[1mInfo: \u001b[22m\u001b[39m started timer at: 2024-03-15T13:49:53.317\n"
     ]
    },
    {
     "name": "stdout",
     "output_type": "stream",
     "text": [
      "false\n",
      "60\n",
      "k : 2\n",
      "1\n",
      "-120674.8915849362\n",
      "5626.8117149770615\n",
      "-------------------------\n",
      "60\n",
      "K : 4\n",
      "[0 -200 -100 -1200 -2000]\n"
     ]
    },
    {
     "name": "stderr",
     "output_type": "stream",
     "text": [
      "\u001b[36m\u001b[1m[ \u001b[22m\u001b[39m\u001b[36m\u001b[1mInfo: \u001b[22m\u001b[39m         976.5028035s: 16 minutes, 16 seconds, 502 milliseconds\n",
      "\u001b[36m\u001b[1m[ \u001b[22m\u001b[39m\u001b[36m\u001b[1mInfo: \u001b[22m\u001b[39m started timer at: 2024-03-15T14:06:09.854\n"
     ]
    },
    {
     "name": "stdout",
     "output_type": "stream",
     "text": [
      "false\n",
      "60\n",
      "k : 4\n",
      "1\n",
      "-67513.08566919903\n",
      "3746.694423186536\n",
      "60\n",
      "K : 4\n",
      "[0 -400 -100 "
     ]
    },
    {
     "name": "stderr",
     "output_type": "stream",
     "text": [
      "\u001b[36m\u001b[1m[ \u001b[22m\u001b[39m\u001b[36m\u001b[1mInfo: \u001b[22m\u001b[39m         978.0376781s: 16 minutes, 18 seconds, 37 milliseconds\n",
      "\u001b[36m\u001b[1m[ \u001b[22m\u001b[39m\u001b[36m\u001b[1mInfo: \u001b[22m\u001b[39m started timer at: 2024-03-15T14:22:27.910\n"
     ]
    },
    {
     "name": "stdout",
     "output_type": "stream",
     "text": [
      "-1200 -2000]\n",
      "false\n",
      "60\n",
      "k : 4\n",
      "1\n",
      "-71074.0312155427\n",
      "3626.7618092591265\n",
      "60\n",
      "K : 4\n",
      "[0 -600 -100 -1200 -2000]\n"
     ]
    },
    {
     "name": "stderr",
     "output_type": "stream",
     "text": [
      "\u001b[36m\u001b[1m[ \u001b[22m\u001b[39m\u001b[36m\u001b[1mInfo: \u001b[22m\u001b[39m         978.2052907s: 16 minutes, 18 seconds, 205 milliseconds\n",
      "\u001b[36m\u001b[1m[ \u001b[22m\u001b[39m\u001b[36m\u001b[1mInfo: \u001b[22m\u001b[39m started timer at: 2024-03-15T14:38:46.135\n"
     ]
    },
    {
     "name": "stdout",
     "output_type": "stream",
     "text": [
      "false\n",
      "60\n",
      "k : 4\n",
      "1\n",
      "-74728.2833814447\n",
      "3628.9463259494214\n",
      "60\n",
      "K : 4\n",
      "[0 -800 -100 -1200 -2000]\n"
     ]
    },
    {
     "name": "stderr",
     "output_type": "stream",
     "text": [
      "\u001b[36m\u001b[1m[ \u001b[22m\u001b[39m\u001b[36m\u001b[1mInfo: \u001b[22m\u001b[39m         979.4475879s: 16 minutes, 19 seconds, 447 milliseconds\n",
      "\u001b[36m\u001b[1m[ \u001b[22m\u001b[39m\u001b[36m\u001b[1mInfo: \u001b[22m\u001b[39m started timer at: 2024-03-15T14:55:05.602\n"
     ]
    },
    {
     "name": "stdout",
     "output_type": "stream",
     "text": [
      "false\n",
      "60\n",
      "k : 4\n",
      "1\n",
      "-78473.36150249703\n",
      "3617.724567917444\n",
      "60\n",
      "K : 4\n",
      "[0 -1000 -100 -1200 -2000]\n"
     ]
    },
    {
     "name": "stderr",
     "output_type": "stream",
     "text": [
      "\u001b[36m\u001b[1m[ \u001b[22m\u001b[39m\u001b[36m\u001b[1mInfo: \u001b[22m\u001b[39m         978.7334981s: 16 minutes, 18 seconds, 733 milliseconds\n",
      "\u001b[36m\u001b[1m[ \u001b[22m\u001b[39m\u001b[36m\u001b[1mInfo: \u001b[22m\u001b[39m started timer at: 2024-03-15T15:11:24.354\n"
     ]
    },
    {
     "name": "stdout",
     "output_type": "stream",
     "text": [
      "false\n",
      "60\n",
      "k : 4\n",
      "1\n",
      "-82130.95706208513\n",
      "3705.9021809527044\n",
      "60\n",
      "K : 4\n",
      "[0 -1200 -100 -1200 -2000]\n"
     ]
    },
    {
     "name": "stderr",
     "output_type": "stream",
     "text": [
      "\u001b[36m\u001b[1m[ \u001b[22m\u001b[39m\u001b[36m\u001b[1mInfo: \u001b[22m\u001b[39m         977.5225355s: 16 minutes, 17 seconds, 522 milliseconds\n",
      "\u001b[36m\u001b[1m[ \u001b[22m\u001b[39m\u001b[36m\u001b[1mInfo: \u001b[22m\u001b[39m started timer at: 2024-03-15T15:27:41.906\n"
     ]
    },
    {
     "name": "stdout",
     "output_type": "stream",
     "text": [
      "false\n",
      "60\n",
      "k : 4\n",
      "1\n",
      "-85810.32144306849\n",
      "3829.279643446656\n",
      "60\n",
      "K : 4\n",
      "[0 -1400 -100 -1200 -2000]\n"
     ]
    },
    {
     "name": "stderr",
     "output_type": "stream",
     "text": [
      "\u001b[36m\u001b[1m[ \u001b[22m\u001b[39m\u001b[36m\u001b[1mInfo: \u001b[22m\u001b[39m         977.7686584s: 16 minutes, 17 seconds, 768 milliseconds\n",
      "\u001b[36m\u001b[1m[ \u001b[22m\u001b[39m\u001b[36m\u001b[1mInfo: \u001b[22m\u001b[39m started timer at: 2024-03-15T15:43:59.704\n"
     ]
    },
    {
     "name": "stdout",
     "output_type": "stream",
     "text": [
      "false\n",
      "60\n",
      "k : 4\n",
      "1\n",
      "-89246.47679685446\n",
      "4098.772950715618\n",
      "60\n",
      "K : "
     ]
    },
    {
     "name": "stderr",
     "output_type": "stream",
     "text": [
      "\u001b[36m\u001b[1m[ \u001b[22m\u001b[39m\u001b[36m\u001b[1mInfo: \u001b[22m\u001b[39m         977.9319161s: 16 minutes, 17 seconds, 931 milliseconds\n",
      "\u001b[36m\u001b[1m[ \u001b[22m\u001b[39m\u001b[36m\u001b[1mInfo: \u001b[22m\u001b[39m started timer at: 2024-03-15T16:00:17.666\n"
     ]
    },
    {
     "name": "stdout",
     "output_type": "stream",
     "text": [
      "4\n",
      "[0 -1600 -100 -1200 -2000]\n",
      "false\n",
      "60\n",
      "k : 4\n",
      "1\n",
      "-92390.98235731409\n",
      "4366.796322061035\n",
      "60\n",
      "K : 4\n",
      "[0 -1800 -100 -1200 -2000]\n"
     ]
    },
    {
     "name": "stderr",
     "output_type": "stream",
     "text": [
      "\u001b[36m\u001b[1m[ \u001b[22m\u001b[39m\u001b[36m\u001b[1mInfo: \u001b[22m\u001b[39m         979.4862073s: 16 minutes, 19 seconds, 486 milliseconds\n",
      "\u001b[36m\u001b[1m[ \u001b[22m\u001b[39m\u001b[36m\u001b[1mInfo: \u001b[22m\u001b[39m started timer at: 2024-03-15T16:16:37.181\n"
     ]
    },
    {
     "name": "stdout",
     "output_type": "stream",
     "text": [
      "false\n",
      "60\n",
      "k : 4\n",
      "1\n",
      "-95401.19688446756\n",
      "4610.74935857379\n",
      "60\n",
      "K : 4\n",
      "[0 -2000 -100 -1200 -2000]\n"
     ]
    },
    {
     "name": "stderr",
     "output_type": "stream",
     "text": [
      "\u001b[36m\u001b[1m[ \u001b[22m\u001b[39m\u001b[36m\u001b[1mInfo: \u001b[22m\u001b[39m         980.1443018s: 16 minutes, 20 seconds, 144 milliseconds\n",
      "\u001b[36m\u001b[1m[ \u001b[22m\u001b[39m\u001b[36m\u001b[1mInfo: \u001b[22m\u001b[39m started timer at: 2024-03-15T16:32:57.345\n"
     ]
    },
    {
     "name": "stdout",
     "output_type": "stream",
     "text": [
      "false\n",
      "60\n",
      "k : 4\n",
      "1\n",
      "-97960.95233239584\n",
      "4763.55465943707\n",
      "60\n",
      "K : 4\n",
      "[0 -2400 -100 -1200 -2000]\n"
     ]
    },
    {
     "name": "stderr",
     "output_type": "stream",
     "text": [
      "\u001b[36m\u001b[1m[ \u001b[22m\u001b[39m\u001b[36m\u001b[1mInfo: \u001b[22m\u001b[39m         978.2382673s: 16 minutes, 18 seconds, 238 milliseconds\n",
      "\u001b[36m\u001b[1m[ \u001b[22m\u001b[39m\u001b[36m\u001b[1mInfo: \u001b[22m\u001b[39m started timer at: 2024-03-15T16:49:15.613\n"
     ]
    },
    {
     "name": "stdout",
     "output_type": "stream",
     "text": [
      "false\n",
      "60\n",
      "k : 4\n",
      "1\n",
      "-102499.67873053742\n",
      "4980.045990760717\n",
      "60\n",
      "K : 4\n",
      "[0 -2800 -100 -1200 -2000]\n"
     ]
    },
    {
     "name": "stderr",
     "output_type": "stream",
     "text": [
      "\u001b[36m\u001b[1m[ \u001b[22m\u001b[39m\u001b[36m\u001b[1mInfo: \u001b[22m\u001b[39m         976.9070604s: 16 minutes, 16 seconds, 907 milliseconds\n",
      "\u001b[36m\u001b[1m[ \u001b[22m\u001b[39m\u001b[36m\u001b[1mInfo: \u001b[22m\u001b[39m started timer at: 2024-03-15T17:05:32.549\n"
     ]
    },
    {
     "name": "stdout",
     "output_type": "stream",
     "text": [
      "false\n",
      "60\n",
      "k : 4\n",
      "1\n",
      "-106423.56232148907\n",
      "4938.848317004007\n",
      "60\n",
      "K : 4\n",
      "[0 -3200 -100 -1200 -2000]\n"
     ]
    },
    {
     "name": "stderr",
     "output_type": "stream",
     "text": [
      "\u001b[36m\u001b[1m[ \u001b[22m\u001b[39m\u001b[36m\u001b[1mInfo: \u001b[22m\u001b[39m          977.388682s: 16 minutes, 17 seconds, 388 milliseconds\n",
      "\u001b[36m\u001b[1m[ \u001b[22m\u001b[39m\u001b[36m\u001b[1mInfo: \u001b[22m\u001b[39m started timer at: 2024-03-15T17:21:49.957\n"
     ]
    },
    {
     "name": "stdout",
     "output_type": "stream",
     "text": [
      "false\n",
      "60\n",
      "k : 4\n",
      "1\n",
      "-110023.41272940805\n",
      "5030.5541944283505\n",
      "-------------------------\n",
      "60\n",
      "K : 6\n",
      "[0 -200 -100 -1200 -2000]\n"
     ]
    },
    {
     "name": "stderr",
     "output_type": "stream",
     "text": [
      "\u001b[36m\u001b[1m[ \u001b[22m\u001b[39m\u001b[36m\u001b[1mInfo: \u001b[22m\u001b[39m         979.2001114s: 16 minutes, 19 seconds, 200 milliseconds\n",
      "\u001b[36m\u001b[1m[ \u001b[22m\u001b[39m\u001b[36m\u001b[1mInfo: \u001b[22m\u001b[39m started timer at: 2024-03-15T17:38:09.198\n"
     ]
    },
    {
     "name": "stdout",
     "output_type": "stream",
     "text": [
      "false\n",
      "60\n",
      "k : 6\n",
      "1\n",
      "-65600.03414218799\n",
      "3452.7581230044175\n",
      "60\n",
      "K : 6\n",
      "[0 -400 -100 -1200 -2000]\n"
     ]
    },
    {
     "name": "stderr",
     "output_type": "stream",
     "text": [
      "\u001b[36m\u001b[1m[ \u001b[22m\u001b[39m\u001b[36m\u001b[1mInfo: \u001b[22m\u001b[39m          978.026032s: 16 minutes, 18 seconds, 26 milliseconds\n",
      "\u001b[36m\u001b[1m[ \u001b[22m\u001b[39m\u001b[36m\u001b[1mInfo: \u001b[22m\u001b[39m started timer at: 2024-03-15T17:54:27.243\n"
     ]
    },
    {
     "name": "stdout",
     "output_type": "stream",
     "text": [
      "false\n",
      "60\n",
      "k : 6\n",
      "1\n",
      "-69363.44675569439\n",
      "3370.9250256651258\n",
      "60\n",
      "K : 6\n",
      "[0 -600 -100 -1200 -2000]\n"
     ]
    },
    {
     "name": "stderr",
     "output_type": "stream",
     "text": [
      "\u001b[36m\u001b[1m[ \u001b[22m\u001b[39m\u001b[36m\u001b[1mInfo: \u001b[22m\u001b[39m         978.3896839s: 16 minutes, 18 seconds, 389 milliseconds\n",
      "\u001b[36m\u001b[1m[ \u001b[22m\u001b[39m\u001b[36m\u001b[1mInfo: \u001b[22m\u001b[39m started timer at: 2024-03-15T18:10:45.652\n"
     ]
    },
    {
     "name": "stdout",
     "output_type": "stream",
     "text": [
      "false\n",
      "60\n",
      "k : 6\n",
      "1\n",
      "-73175.06099292905\n",
      "3341.2741071137098\n",
      "60\n",
      "K : 6\n",
      "[0 -800 -100 -1200 -2000]\n"
     ]
    },
    {
     "name": "stderr",
     "output_type": "stream",
     "text": [
      "\u001b[36m\u001b[1m[ \u001b[22m\u001b[39m\u001b[36m\u001b[1mInfo: \u001b[22m\u001b[39m         977.1929178s: 16 minutes, 17 seconds, 192 milliseconds\n",
      "\u001b[36m\u001b[1m[ \u001b[22m\u001b[39m\u001b[36m\u001b[1mInfo: \u001b[22m\u001b[39m started timer at: 2024-03-15T18:27:02.864\n"
     ]
    },
    {
     "name": "stdout",
     "output_type": "stream",
     "text": [
      "false\n",
      "60\n",
      "k : 6\n",
      "1\n",
      "-76811.81711666056\n",
      "3393.1110519720587\n",
      "60\n",
      "K : 6\n",
      "[0 -1000 -100 -1200 -2000]\n"
     ]
    },
    {
     "name": "stderr",
     "output_type": "stream",
     "text": [
      "\u001b[36m\u001b[1m[ \u001b[22m\u001b[39m\u001b[36m\u001b[1mInfo: \u001b[22m\u001b[39m         975.9268596s: 16 minutes, 15 seconds, 926 milliseconds\n",
      "\u001b[36m\u001b[1m[ \u001b[22m\u001b[39m\u001b[36m\u001b[1mInfo: \u001b[22m\u001b[39m started timer at: 2024-03-15T18:43:18.821\n"
     ]
    },
    {
     "name": "stdout",
     "output_type": "stream",
     "text": [
      "false\n",
      "60\n",
      "k : 6\n",
      "1\n",
      "-80452.17009573182\n",
      "3532.8578958724684\n",
      "60\n",
      "K : 6\n",
      "[0 -1200 -100 -1200 -2000]\n"
     ]
    },
    {
     "name": "stderr",
     "output_type": "stream",
     "text": [
      "\u001b[36m\u001b[1m[ \u001b[22m\u001b[39m\u001b[36m\u001b[1mInfo: \u001b[22m\u001b[39m         977.1425752s: 16 minutes, 17 seconds, 142 milliseconds\n",
      "\u001b[36m\u001b[1m[ \u001b[22m\u001b[39m\u001b[36m\u001b[1mInfo: \u001b[22m\u001b[39m started timer at: 2024-03-15T18:59:35.982\n"
     ]
    },
    {
     "name": "stdout",
     "output_type": "stream",
     "text": [
      "false\n",
      "60\n",
      "k : 6\n",
      "1\n",
      "-83831.00125121439\n",
      "3625.998496959725\n",
      "60\n",
      "K : 6\n",
      "[0 -1400 -100 -1200 -2000]\n"
     ]
    },
    {
     "name": "stderr",
     "output_type": "stream",
     "text": [
      "\u001b[36m\u001b[1m[ \u001b[22m\u001b[39m\u001b[36m\u001b[1mInfo: \u001b[22m\u001b[39m         979.7892881s: 16 minutes, 19 seconds, 789 milliseconds\n",
      "\u001b[36m\u001b[1m[ \u001b[22m\u001b[39m\u001b[36m\u001b[1mInfo: \u001b[22m\u001b[39m started timer at: 2024-03-15T19:15:55.802\n"
     ]
    },
    {
     "name": "stdout",
     "output_type": "stream",
     "text": [
      "false\n",
      "60\n",
      "k : 6\n",
      "1\n",
      "-86805.018765828\n",
      "3841.7779312980324\n",
      "60\n",
      "K : 6\n",
      "[0 -1600 -100 -1200 -2000]\n"
     ]
    },
    {
     "name": "stderr",
     "output_type": "stream",
     "text": [
      "\u001b[36m\u001b[1m[ \u001b[22m\u001b[39m\u001b[36m\u001b[1mInfo: \u001b[22m\u001b[39m         979.0350381s: 16 minutes, 19 seconds, 35 milliseconds\n",
      "\u001b[36m\u001b[1m[ \u001b[22m\u001b[39m\u001b[36m\u001b[1mInfo: \u001b[22m\u001b[39m started timer at: 2024-03-15T19:32:14.856\n"
     ]
    },
    {
     "name": "stdout",
     "output_type": "stream",
     "text": [
      "false\n",
      "60\n",
      "k : 6\n",
      "1\n",
      "-89492.2710011362\n",
      "4100.5247886180005\n",
      "60\n",
      "K : 6\n",
      "[0 -1800 -100 -1200 -2000]\n"
     ]
    },
    {
     "name": "stderr",
     "output_type": "stream",
     "text": [
      "\u001b[36m\u001b[1m[ \u001b[22m\u001b[39m\u001b[36m\u001b[1mInfo: \u001b[22m\u001b[39m         976.4136103s: 16 minutes, 16 seconds, 413 milliseconds\n",
      "\u001b[36m\u001b[1m[ \u001b[22m\u001b[39m\u001b[36m\u001b[1mInfo: \u001b[22m\u001b[39m started timer at: 2024-03-15T19:48:31.288\n"
     ]
    },
    {
     "name": "stdout",
     "output_type": "stream",
     "text": [
      "false\n",
      "60\n",
      "k : 6\n",
      "1\n",
      "-92024.6800862036\n",
      "4329.1304880935695\n",
      "60\n",
      "K : 6\n",
      "[0 -2000 -100 -1200 -2000]\n"
     ]
    },
    {
     "name": "stderr",
     "output_type": "stream",
     "text": [
      "\u001b[36m\u001b[1m[ \u001b[22m\u001b[39m\u001b[36m\u001b[1mInfo: \u001b[22m\u001b[39m         974.3184662s: 16 minutes, 14 seconds, 318 milliseconds\n",
      "\u001b[36m\u001b[1m[ \u001b[22m\u001b[39m\u001b[36m\u001b[1mInfo: \u001b[22m\u001b[39m started timer at: 2024-03-15T20:04:45.625\n"
     ]
    },
    {
     "name": "stdout",
     "output_type": "stream",
     "text": [
      "false\n",
      "60\n",
      "k : 6\n",
      "1\n",
      "-94130.47773892446\n",
      "4504.401682977784\n",
      "60\n",
      "K : 6\n",
      "[0 -2400 -100 -1200 -2000]\n"
     ]
    },
    {
     "name": "stderr",
     "output_type": "stream",
     "text": [
      "\u001b[36m\u001b[1m[ \u001b[22m\u001b[39m\u001b[36m\u001b[1mInfo: \u001b[22m\u001b[39m         974.4074198s: 16 minutes, 14 seconds, 407 milliseconds\n",
      "\u001b[36m\u001b[1m[ \u001b[22m\u001b[39m\u001b[36m\u001b[1mInfo: \u001b[22m\u001b[39m started timer at: 2024-03-15T20:21:00.051\n"
     ]
    },
    {
     "name": "stdout",
     "output_type": "stream",
     "text": [
      "false\n",
      "60\n",
      "k : 6\n",
      "1\n",
      "-98267.11709920748\n",
      "4612.897560380758\n",
      "60\n",
      "K : 6\n",
      "[0 -2800 -100 -1200 -2000]\n"
     ]
    },
    {
     "name": "stderr",
     "output_type": "stream",
     "text": [
      "\u001b[36m\u001b[1m[ \u001b[22m\u001b[39m\u001b[36m\u001b[1mInfo: \u001b[22m\u001b[39m         976.0408364s: 16 minutes, 16 seconds, 40 milliseconds\n",
      "\u001b[36m\u001b[1m[ \u001b[22m\u001b[39m\u001b[36m\u001b[1mInfo: \u001b[22m\u001b[39m started timer at: 2024-03-15T20:37:16.123\n"
     ]
    },
    {
     "name": "stdout",
     "output_type": "stream",
     "text": [
      "false\n",
      "60\n",
      "k : 6\n",
      "1\n",
      "-102035.5057561264\n",
      "4652.29964587101\n",
      "60\n",
      "K : 6\n",
      "[0 -3200 -100 -1200 -2000]\n"
     ]
    },
    {
     "name": "stderr",
     "output_type": "stream",
     "text": [
      "\u001b[36m\u001b[1m[ \u001b[22m\u001b[39m\u001b[36m\u001b[1mInfo: \u001b[22m\u001b[39m         975.1121694s: 16 minutes, 15 seconds, 112 milliseconds\n",
      "\u001b[36m\u001b[1m[ \u001b[22m\u001b[39m\u001b[36m\u001b[1mInfo: \u001b[22m\u001b[39m started timer at: 2024-03-15T20:53:31.254\n"
     ]
    },
    {
     "name": "stdout",
     "output_type": "stream",
     "text": [
      "false\n",
      "60\n",
      "k : 6\n",
      "1\n",
      "-105490.47598295592\n",
      "4631.508124952447\n",
      "-------------------------\n",
      "60\n",
      "K : 8\n",
      "[0 -200 -100 -1200 -2000]\n"
     ]
    },
    {
     "name": "stderr",
     "output_type": "stream",
     "text": [
      "\u001b[36m\u001b[1m[ \u001b[22m\u001b[39m\u001b[36m\u001b[1mInfo: \u001b[22m\u001b[39m         974.7010867s: 16 minutes, 14 seconds, 701 milliseconds\n",
      "\u001b[36m\u001b[1m[ \u001b[22m\u001b[39m\u001b[36m\u001b[1mInfo: \u001b[22m\u001b[39m started timer at: 2024-03-15T21:09:45.985\n"
     ]
    },
    {
     "name": "stdout",
     "output_type": "stream",
     "text": [
      "false\n",
      "60\n",
      "k : 8\n",
      "1\n",
      "-65177.344666082696\n",
      "3435.1029759767557\n",
      "60\n",
      "K : 8\n",
      "[0 -400 -100 -1200 -2000]\n"
     ]
    },
    {
     "name": "stderr",
     "output_type": "stream",
     "text": [
      "\u001b[36m\u001b[1m[ \u001b[22m\u001b[39m\u001b[36m\u001b[1mInfo: \u001b[22m\u001b[39m         976.8099965s: 16 minutes, 16 seconds, 809 milliseconds\n",
      "\u001b[36m\u001b[1m[ \u001b[22m\u001b[39m\u001b[36m\u001b[1mInfo: \u001b[22m\u001b[39m started timer at: 2024-03-15T21:26:02.814\n"
     ]
    },
    {
     "name": "stdout",
     "output_type": "stream",
     "text": [
      "false\n",
      "60\n",
      "k : 8\n",
      "1\n",
      "-68964.01654437011\n",
      "3274.384423614773\n",
      "60\n",
      "K : 8\n",
      "[0 -600 -100 -1200 -2000]\n"
     ]
    },
    {
     "name": "stderr",
     "output_type": "stream",
     "text": [
      "\u001b[36m\u001b[1m[ \u001b[22m\u001b[39m\u001b[36m\u001b[1mInfo: \u001b[22m\u001b[39m         975.7614942s: 16 minutes, 15 seconds, 761 milliseconds\n",
      "\u001b[36m\u001b[1m[ \u001b[22m\u001b[39m\u001b[36m\u001b[1mInfo: \u001b[22m\u001b[39m started timer at: 2024-03-15T21:42:18.594\n"
     ]
    },
    {
     "name": "stdout",
     "output_type": "stream",
     "text": [
      "false\n",
      "60\n",
      "k : 8\n",
      "1\n",
      "-72811.19677924547\n",
      "3297.189681662498\n",
      "60\n",
      "K : 8\n",
      "[0 -800 -100 -1200 -2000]\n"
     ]
    },
    {
     "name": "stderr",
     "output_type": "stream",
     "text": [
      "\u001b[36m\u001b[1m[ \u001b[22m\u001b[39m\u001b[36m\u001b[1mInfo: \u001b[22m\u001b[39m         976.8901417s: 16 minutes, 16 seconds, 890 milliseconds\n",
      "\u001b[36m\u001b[1m[ \u001b[22m\u001b[39m\u001b[36m\u001b[1mInfo: \u001b[22m\u001b[39m started timer at: 2024-03-15T21:58:35.503\n"
     ]
    },
    {
     "name": "stdout",
     "output_type": "stream",
     "text": [
      "false\n",
      "60\n",
      "k : 8\n",
      "1\n",
      "-76399.50136328005\n",
      "3336.7252991045048\n",
      "60\n",
      "K : 8\n",
      "[0 -1000 -100 -1200 -2000]\n"
     ]
    },
    {
     "name": "stderr",
     "output_type": "stream",
     "text": [
      "\u001b[36m\u001b[1m[ \u001b[22m\u001b[39m\u001b[36m\u001b[1mInfo: \u001b[22m\u001b[39m         975.4170674s: 16 minutes, 15 seconds, 417 milliseconds\n",
      "\u001b[36m\u001b[1m[ \u001b[22m\u001b[39m\u001b[36m\u001b[1mInfo: \u001b[22m\u001b[39m started timer at: 2024-03-15T22:14:50.950\n"
     ]
    },
    {
     "name": "stdout",
     "output_type": "stream",
     "text": [
      "false\n",
      "60\n",
      "k : 8\n",
      "1\n",
      "-79929.31139077619\n",
      "3454.9325780562003\n",
      "60\n",
      "K : 8\n",
      "[0 -1200 -100 -1200 -2000]\n"
     ]
    },
    {
     "name": "stderr",
     "output_type": "stream",
     "text": [
      "\u001b[36m\u001b[1m[ \u001b[22m\u001b[39m\u001b[36m\u001b[1mInfo: \u001b[22m\u001b[39m         975.0101352s: 16 minutes, 15 seconds, 10 milliseconds\n",
      "\u001b[36m\u001b[1m[ \u001b[22m\u001b[39m\u001b[36m\u001b[1mInfo: \u001b[22m\u001b[39m started timer at: 2024-03-15T22:31:05.990\n"
     ]
    },
    {
     "name": "stdout",
     "output_type": "stream",
     "text": [
      "false\n",
      "60\n",
      "k : 8\n",
      "1\n",
      "-83093.7426862447\n",
      "3596.914302898661\n",
      "60\n",
      "K : 8\n",
      "[0 -1400 -100 -1200 -2000]\n"
     ]
    },
    {
     "name": "stderr",
     "output_type": "stream",
     "text": [
      "\u001b[36m\u001b[1m[ \u001b[22m\u001b[39m\u001b[36m\u001b[1mInfo: \u001b[22m\u001b[39m         974.9944715s: 16 minutes, 14 seconds, 994 milliseconds\n",
      "\u001b[36m\u001b[1m[ \u001b[22m\u001b[39m\u001b[36m\u001b[1mInfo: \u001b[22m\u001b[39m started timer at: 2024-03-15T22:47:21.003\n"
     ]
    },
    {
     "name": "stdout",
     "output_type": "stream",
     "text": [
      "false\n",
      "60\n",
      "k : 8\n",
      "1\n",
      "-85887.42609408639\n",
      "3794.7055403951226\n",
      "60\n",
      "K : 8\n",
      "[0 -1600 -100 -1200 -2000]\n"
     ]
    },
    {
     "name": "stderr",
     "output_type": "stream",
     "text": [
      "\u001b[36m\u001b[1m[ \u001b[22m\u001b[39m\u001b[36m\u001b[1mInfo: \u001b[22m\u001b[39m         975.2307323s: 16 minutes, 15 seconds, 230 milliseconds\n",
      "\u001b[36m\u001b[1m[ \u001b[22m\u001b[39m\u001b[36m\u001b[1mInfo: \u001b[22m\u001b[39m started timer at: 2024-03-15T23:03:36.264\n"
     ]
    },
    {
     "name": "stdout",
     "output_type": "stream",
     "text": [
      "false\n",
      "60\n",
      "k : 8\n",
      "1\n",
      "-88348.17788590443\n",
      "4010.0053876540615\n",
      "60\n",
      "K : 8\n",
      "[0 -1800 -100 -1200 -2000]\n"
     ]
    },
    {
     "name": "stderr",
     "output_type": "stream",
     "text": [
      "\u001b[36m\u001b[1m[ \u001b[22m\u001b[39m\u001b[36m\u001b[1mInfo: \u001b[22m\u001b[39m          974.143525s: 16 minutes, 14 seconds, 143 milliseconds\n",
      "\u001b[36m\u001b[1m[ \u001b[22m\u001b[39m\u001b[36m\u001b[1mInfo: \u001b[22m\u001b[39m started timer at: 2024-03-15T23:19:50.426\n"
     ]
    },
    {
     "name": "stdout",
     "output_type": "stream",
     "text": [
      "false\n",
      "60\n",
      "k : 8\n",
      "1\n",
      "-90389.32816233693\n",
      "4085.9419556662756\n",
      "60\n",
      "K : 8\n",
      "[0 -2000 -100 -1200 -2000]\n"
     ]
    },
    {
     "name": "stderr",
     "output_type": "stream",
     "text": [
      "\u001b[36m\u001b[1m[ \u001b[22m\u001b[39m\u001b[36m\u001b[1mInfo: \u001b[22m\u001b[39m         975.4457808s: 16 minutes, 15 seconds, 445 milliseconds\n",
      "\u001b[36m\u001b[1m[ \u001b[22m\u001b[39m\u001b[36m\u001b[1mInfo: \u001b[22m\u001b[39m started timer at: 2024-03-15T23:36:05.891\n"
     ]
    },
    {
     "name": "stdout",
     "output_type": "stream",
     "text": [
      "false\n",
      "60\n",
      "k : 8\n",
      "1\n",
      "-92437.14630984583\n",
      "4307.352346931947\n",
      "60\n",
      "K : 8\n",
      "[0 -2400 -100 -1200 -2000]\n"
     ]
    },
    {
     "name": "stderr",
     "output_type": "stream",
     "text": [
      "\u001b[36m\u001b[1m[ \u001b[22m\u001b[39m\u001b[36m\u001b[1mInfo: \u001b[22m\u001b[39m         974.0816751s: 16 minutes, 14 seconds, 81 milliseconds\n",
      "\u001b[36m\u001b[1m[ \u001b[22m\u001b[39m\u001b[36m\u001b[1mInfo: \u001b[22m\u001b[39m started timer at: 2024-03-15T23:52:19.992\n"
     ]
    },
    {
     "name": "stdout",
     "output_type": "stream",
     "text": [
      "false\n",
      "60\n",
      "k : 8\n",
      "1\n",
      "-96238.50729001513\n",
      "4405.309347487597\n",
      "60\n",
      "K : 8\n",
      "[0 -2800 -100 -1200 -2000]\n"
     ]
    },
    {
     "name": "stderr",
     "output_type": "stream",
     "text": [
      "\u001b[36m\u001b[1m[ \u001b[22m\u001b[39m\u001b[36m\u001b[1mInfo: \u001b[22m\u001b[39m         974.2866261s: 16 minutes, 14 seconds, 286 milliseconds\n",
      "\u001b[36m\u001b[1m[ \u001b[22m\u001b[39m\u001b[36m\u001b[1mInfo: \u001b[22m\u001b[39m started timer at: 2024-03-16T00:08:34.297\n"
     ]
    },
    {
     "name": "stdout",
     "output_type": "stream",
     "text": [
      "false\n",
      "60\n",
      "k : 8\n",
      "1\n",
      "-99934.46332721131\n",
      "4403.612896083575\n",
      "60\n",
      "K : 8\n",
      "[0 -3200 -100 -1200 -2000]\n"
     ]
    },
    {
     "name": "stderr",
     "output_type": "stream",
     "text": [
      "\u001b[36m\u001b[1m[ \u001b[22m\u001b[39m\u001b[36m\u001b[1mInfo: \u001b[22m\u001b[39m         973.7299594s: 16 minutes, 13 seconds, 729 milliseconds\n",
      "\u001b[36m\u001b[1m[ \u001b[22m\u001b[39m\u001b[36m\u001b[1mInfo: \u001b[22m\u001b[39m started timer at: 2024-03-16T00:24:48.046\n"
     ]
    },
    {
     "name": "stdout",
     "output_type": "stream",
     "text": [
      "false\n",
      "60\n",
      "k : 8\n",
      "1\n",
      "-103398.13695064627\n",
      "4461.08050053475\n",
      "-------------------------\n",
      "60\n",
      "K : 10\n",
      "[0 -200 -100 -1200 -2000]\n"
     ]
    },
    {
     "name": "stderr",
     "output_type": "stream",
     "text": [
      "\u001b[36m\u001b[1m[ \u001b[22m\u001b[39m\u001b[36m\u001b[1mInfo: \u001b[22m\u001b[39m         974.1098285s: 16 minutes, 14 seconds, 109 milliseconds\n",
      "\u001b[36m\u001b[1m[ \u001b[22m\u001b[39m\u001b[36m\u001b[1mInfo: \u001b[22m\u001b[39m started timer at: 2024-03-16T00:41:02.197\n"
     ]
    },
    {
     "name": "stdout",
     "output_type": "stream",
     "text": [
      "false\n",
      "60\n",
      "k : 10\n",
      "1\n",
      "-65035.89179746039\n",
      "3389.881229471207\n",
      "60\n",
      "K : 10\n",
      "[0 -400 -100 -1200 -2000]\n"
     ]
    },
    {
     "name": "stderr",
     "output_type": "stream",
     "text": [
      "\u001b[36m\u001b[1m[ \u001b[22m\u001b[39m\u001b[36m\u001b[1mInfo: \u001b[22m\u001b[39m         974.9496125s: 16 minutes, 14 seconds, 949 milliseconds\n",
      "\u001b[36m\u001b[1m[ \u001b[22m\u001b[39m\u001b[36m\u001b[1mInfo: \u001b[22m\u001b[39m started timer at: 2024-03-16T00:57:17.165\n"
     ]
    },
    {
     "name": "stdout",
     "output_type": "stream",
     "text": [
      "false\n",
      "60\n",
      "k : 10\n",
      "1\n",
      "-68804.74373606173\n",
      "3290.9529083562916\n",
      "60\n",
      "K : 10\n",
      "[0 -600 -100 -1200 -2000]\n"
     ]
    },
    {
     "name": "stderr",
     "output_type": "stream",
     "text": [
      "\u001b[36m\u001b[1m[ \u001b[22m\u001b[39m\u001b[36m\u001b[1mInfo: \u001b[22m\u001b[39m         974.4735684s: 16 minutes, 14 seconds, 473 milliseconds\n",
      "\u001b[36m\u001b[1m[ \u001b[22m\u001b[39m\u001b[36m\u001b[1mInfo: \u001b[22m\u001b[39m started timer at: 2024-03-16T01:13:31.658\n"
     ]
    },
    {
     "name": "stdout",
     "output_type": "stream",
     "text": [
      "false\n",
      "60\n",
      "k : 10\n",
      "1\n",
      "-72660.08623798261\n",
      "3312.9342640859345\n",
      "60\n",
      "K : 10\n",
      "[0 -800 -100 -1200 -2000]\n"
     ]
    },
    {
     "name": "stderr",
     "output_type": "stream",
     "text": [
      "\u001b[36m\u001b[1m[ \u001b[22m\u001b[39m\u001b[36m\u001b[1mInfo: \u001b[22m\u001b[39m         976.0327261s: 16 minutes, 16 seconds, 32 milliseconds\n",
      "\u001b[36m\u001b[1m[ \u001b[22m\u001b[39m\u001b[36m\u001b[1mInfo: \u001b[22m\u001b[39m started timer at: 2024-03-16T01:29:47.720\n"
     ]
    },
    {
     "name": "stdout",
     "output_type": "stream",
     "text": [
      "false\n",
      "60\n",
      "k : 10\n",
      "1\n",
      "-76288.59162737036\n",
      "3349.7325238864096\n",
      "60\n",
      "K : 10\n",
      "[0 -1000 -100 -1200 -2000]\n"
     ]
    },
    {
     "name": "stderr",
     "output_type": "stream",
     "text": [
      "\u001b[36m\u001b[1m[ \u001b[22m\u001b[39m\u001b[36m\u001b[1mInfo: \u001b[22m\u001b[39m         977.3065698s: 16 minutes, 17 seconds, 306 milliseconds\n",
      "\u001b[36m\u001b[1m[ \u001b[22m\u001b[39m\u001b[36m\u001b[1mInfo: \u001b[22m\u001b[39m started timer at: 2024-03-16T01:46:05.045\n"
     ]
    },
    {
     "name": "stdout",
     "output_type": "stream",
     "text": [
      "false\n",
      "60\n",
      "k : 10\n",
      "1\n",
      "-79756.34236727378\n",
      "3430.8445894176157\n",
      "60\n",
      "K : 10\n",
      "[0 -1200 -100 -1200 -2000]\n"
     ]
    },
    {
     "name": "stderr",
     "output_type": "stream",
     "text": [
      "\u001b[36m\u001b[1m[ \u001b[22m\u001b[39m\u001b[36m\u001b[1mInfo: \u001b[22m\u001b[39m         973.0919666s: 16 minutes, 13 seconds, 91 milliseconds\n",
      "\u001b[36m\u001b[1m[ \u001b[22m\u001b[39m\u001b[36m\u001b[1mInfo: \u001b[22m\u001b[39m started timer at: 2024-03-16T02:02:18.156\n"
     ]
    },
    {
     "name": "stdout",
     "output_type": "stream",
     "text": [
      "false\n",
      "60\n",
      "k : 10\n",
      "1\n",
      "-82857.8677996321\n",
      "3556.491842192001\n",
      "60\n",
      "K : 10\n",
      "[0 -1400 -100 -1200 -2000]\n"
     ]
    },
    {
     "name": "stderr",
     "output_type": "stream",
     "text": [
      "\u001b[36m\u001b[1m[ \u001b[22m\u001b[39m\u001b[36m\u001b[1mInfo: \u001b[22m\u001b[39m         973.8606153s: 16 minutes, 13 seconds, 860 milliseconds\n",
      "\u001b[36m\u001b[1m[ \u001b[22m\u001b[39m\u001b[36m\u001b[1mInfo: \u001b[22m\u001b[39m started timer at: 2024-03-16T02:18:32.036\n"
     ]
    },
    {
     "name": "stdout",
     "output_type": "stream",
     "text": [
      "false\n",
      "60\n",
      "k : 10\n",
      "1\n",
      "-85536.50368376733\n",
      "3714.381528718195\n",
      "60\n",
      "K : 10\n",
      "[0 -1600 -100 -1200 -2000]\n"
     ]
    },
    {
     "name": "stderr",
     "output_type": "stream",
     "text": [
      "\u001b[36m\u001b[1m[ \u001b[22m\u001b[39m\u001b[36m\u001b[1mInfo: \u001b[22m\u001b[39m         973.3181528s: 16 minutes, 13 seconds, 318 milliseconds\n",
      "\u001b[36m\u001b[1m[ \u001b[22m\u001b[39m\u001b[36m\u001b[1mInfo: \u001b[22m\u001b[39m started timer at: 2024-03-16T02:34:45.384\n"
     ]
    },
    {
     "name": "stdout",
     "output_type": "stream",
     "text": [
      "false\n",
      "60\n",
      "k : 10\n",
      "1\n",
      "-87756.58613336722\n",
      "3973.689911497503\n",
      "60\n",
      "K : 10\n",
      "[0 -1800 -100 -1200 -2000]\n"
     ]
    },
    {
     "name": "stderr",
     "output_type": "stream",
     "text": [
      "\u001b[36m\u001b[1m[ \u001b[22m\u001b[39m\u001b[36m\u001b[1mInfo: \u001b[22m\u001b[39m         974.1275291s: 16 minutes, 14 seconds, 127 milliseconds\n",
      "\u001b[36m\u001b[1m[ \u001b[22m\u001b[39m\u001b[36m\u001b[1mInfo: \u001b[22m\u001b[39m started timer at: 2024-03-16T02:50:59.541\n"
     ]
    },
    {
     "name": "stdout",
     "output_type": "stream",
     "text": [
      "false\n",
      "60\n",
      "k : 10\n",
      "1\n",
      "-89630.5385388678\n",
      "4005.8963789581567\n",
      "60\n",
      "K : 10\n",
      "[0 -2000 -100 -1200 -2000]\n"
     ]
    },
    {
     "name": "stderr",
     "output_type": "stream",
     "text": [
      "\u001b[36m\u001b[1m[ \u001b[22m\u001b[39m\u001b[36m\u001b[1mInfo: \u001b[22m\u001b[39m         974.4200973s: 16 minutes, 14 seconds, 420 milliseconds\n",
      "\u001b[36m\u001b[1m[ \u001b[22m\u001b[39m\u001b[36m\u001b[1mInfo: \u001b[22m\u001b[39m started timer at: 2024-03-16T03:07:13.979\n"
     ]
    },
    {
     "name": "stdout",
     "output_type": "stream",
     "text": [
      "false\n",
      "60\n",
      "k : 10\n",
      "1\n",
      "-91583.24628707294\n",
      "4146.978913600404\n",
      "60\n",
      "K : 10\n",
      "[0 -2400 -100 -1200 -2000]\n"
     ]
    },
    {
     "name": "stderr",
     "output_type": "stream",
     "text": [
      "\u001b[36m\u001b[1m[ \u001b[22m\u001b[39m\u001b[36m\u001b[1mInfo: \u001b[22m\u001b[39m         973.9608172s: 16 minutes, 13 seconds, 960 milliseconds\n",
      "\u001b[36m\u001b[1m[ \u001b[22m\u001b[39m\u001b[36m\u001b[1mInfo: \u001b[22m\u001b[39m started timer at: 2024-03-16T03:23:27.959\n"
     ]
    },
    {
     "name": "stdout",
     "output_type": "stream",
     "text": [
      "false\n",
      "60\n",
      "k : 10\n",
      "1\n",
      "-95368.1910239291\n",
      "4273.497223624604\n",
      "60\n",
      "K : 10\n",
      "[0 -2800 -100 -1200 -2000]\n"
     ]
    },
    {
     "name": "stderr",
     "output_type": "stream",
     "text": [
      "\u001b[36m\u001b[1m[ \u001b[22m\u001b[39m\u001b[36m\u001b[1mInfo: \u001b[22m\u001b[39m         974.9656578s: 16 minutes, 14 seconds, 965 milliseconds\n",
      "\u001b[36m\u001b[1m[ \u001b[22m\u001b[39m\u001b[36m\u001b[1mInfo: \u001b[22m\u001b[39m started timer at: 2024-03-16T03:39:42.943\n"
     ]
    },
    {
     "name": "stdout",
     "output_type": "stream",
     "text": [
      "false\n",
      "60\n",
      "k : 10\n",
      "1\n",
      "-98924.81913149722\n",
      "4391.530371205736\n",
      "60\n",
      "K : 10\n",
      "[0 -3200 -100 -1200 -2000]\n"
     ]
    },
    {
     "name": "stderr",
     "output_type": "stream",
     "text": [
      "\u001b[36m\u001b[1m[ \u001b[22m\u001b[39m\u001b[36m\u001b[1mInfo: \u001b[22m\u001b[39m         973.1107185s: 16 minutes, 13 seconds, 110 milliseconds\n",
      "\u001b[36m\u001b[1m[ \u001b[22m\u001b[39m\u001b[36m\u001b[1mInfo: \u001b[22m\u001b[39m started timer at: 2024-03-16T03:55:56.074\n"
     ]
    },
    {
     "name": "stdout",
     "output_type": "stream",
     "text": [
      "false\n",
      "60\n",
      "k : 10\n",
      "1\n",
      "-102397.77049886168\n",
      "4397.434650031692\n",
      "-------------------------\n",
      "60\n",
      "K : 12\n",
      "[0 -200 -100 -1200 -2000]\n"
     ]
    },
    {
     "name": "stderr",
     "output_type": "stream",
     "text": [
      "\u001b[36m\u001b[1m[ \u001b[22m\u001b[39m\u001b[36m\u001b[1mInfo: \u001b[22m\u001b[39m         974.0011467s: 16 minutes, 14 seconds, 1 millisecond\n",
      "\u001b[36m\u001b[1m[ \u001b[22m\u001b[39m\u001b[36m\u001b[1mInfo: \u001b[22m\u001b[39m started timer at: 2024-03-16T04:12:10.105\n"
     ]
    },
    {
     "name": "stdout",
     "output_type": "stream",
     "text": [
      "false\n",
      "60\n",
      "k : 12\n",
      "1\n",
      "-65086.336359728586\n",
      "3408.813953981505\n",
      "60\n",
      "K : 12\n",
      "[0 -400 -100 -1200 -2000]\n"
     ]
    },
    {
     "name": "stderr",
     "output_type": "stream",
     "text": [
      "\u001b[36m\u001b[1m[ \u001b[22m\u001b[39m\u001b[36m\u001b[1mInfo: \u001b[22m\u001b[39m           973.84012s: 16 minutes, 13 seconds, 840 milliseconds\n",
      "\u001b[36m\u001b[1m[ \u001b[22m\u001b[39m\u001b[36m\u001b[1mInfo: \u001b[22m\u001b[39m started timer at: 2024-03-16T04:28:23.975\n"
     ]
    },
    {
     "name": "stdout",
     "output_type": "stream",
     "text": [
      "false\n",
      "60\n",
      "k : 12\n",
      "1\n",
      "-68865.82740859878\n",
      "3296.270761862552\n",
      "60\n",
      "K : 12\n",
      "[0 -600 -100 -1200 -2000]\n"
     ]
    },
    {
     "name": "stderr",
     "output_type": "stream",
     "text": [
      "\u001b[36m\u001b[1m[ \u001b[22m\u001b[39m\u001b[36m\u001b[1mInfo: \u001b[22m\u001b[39m         972.8907339s: 16 minutes, 12 seconds, 890 milliseconds\n",
      "\u001b[36m\u001b[1m[ \u001b[22m\u001b[39m\u001b[36m\u001b[1mInfo: \u001b[22m\u001b[39m started timer at: 2024-03-16T04:44:36.884\n"
     ]
    },
    {
     "name": "stdout",
     "output_type": "stream",
     "text": [
      "false\n",
      "60\n",
      "k : 12\n",
      "1\n",
      "-72588.56012915846\n",
      "3283.8217017403945\n",
      "60\n",
      "K : 12\n",
      "[0 -800 -100 -1200 -2000]\n"
     ]
    },
    {
     "name": "stderr",
     "output_type": "stream",
     "text": [
      "\u001b[36m\u001b[1m[ \u001b[22m\u001b[39m\u001b[36m\u001b[1mInfo: \u001b[22m\u001b[39m         970.2232574s: 16 minutes, 10 seconds, 223 milliseconds\n",
      "\u001b[36m\u001b[1m[ \u001b[22m\u001b[39m\u001b[36m\u001b[1mInfo: \u001b[22m\u001b[39m started timer at: 2024-03-16T05:00:47.137\n"
     ]
    },
    {
     "name": "stdout",
     "output_type": "stream",
     "text": [
      "false\n",
      "60\n",
      "k : 12\n",
      "1\n",
      "-76256.74210870497\n",
      "3278.3565531928584\n",
      "60\n",
      "K : 12\n",
      "[0 -1000 -100 -1200 -2000]\n"
     ]
    },
    {
     "name": "stderr",
     "output_type": "stream",
     "text": [
      "\u001b[36m\u001b[1m[ \u001b[22m\u001b[39m\u001b[36m\u001b[1mInfo: \u001b[22m\u001b[39m         971.9043517s: 16 minutes, 11 seconds, 904 milliseconds\n",
      "\u001b[36m\u001b[1m[ \u001b[22m\u001b[39m\u001b[36m\u001b[1mInfo: \u001b[22m\u001b[39m started timer at: 2024-03-16T05:16:59.060\n"
     ]
    },
    {
     "name": "stdout",
     "output_type": "stream",
     "text": [
      "false\n",
      "60\n",
      "k : 12\n",
      "1\n",
      "-79654.23027189687\n",
      "3396.2576716710296\n",
      "60\n",
      "K : 12\n",
      "[0 -1200 -100 -1200 -2000]\n"
     ]
    },
    {
     "name": "stderr",
     "output_type": "stream",
     "text": [
      "\u001b[36m\u001b[1m[ \u001b[22m\u001b[39m\u001b[36m\u001b[1mInfo: \u001b[22m\u001b[39m         973.0394545s: 16 minutes, 13 seconds, 39 milliseconds\n",
      "\u001b[36m\u001b[1m[ \u001b[22m\u001b[39m\u001b[36m\u001b[1mInfo: \u001b[22m\u001b[39m started timer at: 2024-03-16T05:33:12.118\n"
     ]
    },
    {
     "name": "stdout",
     "output_type": "stream",
     "text": [
      "false\n",
      "60\n",
      "k : 12\n",
      "1\n",
      "-82685.51642865801\n",
      "3543.553650509469\n",
      "60\n",
      "K : 12\n",
      "[0 -1400 -100 -1200 -2000]\n"
     ]
    },
    {
     "name": "stderr",
     "output_type": "stream",
     "text": [
      "\u001b[36m\u001b[1m[ \u001b[22m\u001b[39m\u001b[36m\u001b[1mInfo: \u001b[22m\u001b[39m         972.0956706s: 16 minutes, 12 seconds, 95 milliseconds\n",
      "\u001b[36m\u001b[1m[ \u001b[22m\u001b[39m\u001b[36m\u001b[1mInfo: \u001b[22m\u001b[39m started timer at: 2024-03-16T05:49:24.244\n"
     ]
    },
    {
     "name": "stdout",
     "output_type": "stream",
     "text": [
      "false\n",
      "60\n",
      "k : 12\n",
      "1\n",
      "-85199.80090636492\n",
      "3688.537185417159\n",
      "60\n",
      "K : 12\n",
      "[0 -1600 -100 -1200 -2000]\n"
     ]
    },
    {
     "name": "stderr",
     "output_type": "stream",
     "text": [
      "\u001b[36m\u001b[1m[ \u001b[22m\u001b[39m\u001b[36m\u001b[1mInfo: \u001b[22m\u001b[39m         972.2090886s: 16 minutes, 12 seconds, 209 milliseconds\n",
      "\u001b[36m\u001b[1m[ \u001b[22m\u001b[39m\u001b[36m\u001b[1mInfo: \u001b[22m\u001b[39m started timer at: 2024-03-16T06:05:36.472\n"
     ]
    },
    {
     "name": "stdout",
     "output_type": "stream",
     "text": [
      "false\n",
      "60\n",
      "k : 12\n",
      "1\n",
      "-87424.63604390502\n",
      "3905.1067471828715\n",
      "60\n",
      "K : 12\n",
      "[0 -1800 -100 -1200 -2000]\n"
     ]
    },
    {
     "name": "stderr",
     "output_type": "stream",
     "text": [
      "\u001b[36m\u001b[1m[ \u001b[22m\u001b[39m\u001b[36m\u001b[1mInfo: \u001b[22m\u001b[39m         971.8672909s: 16 minutes, 11 seconds, 867 milliseconds\n",
      "\u001b[36m\u001b[1m[ \u001b[22m\u001b[39m\u001b[36m\u001b[1mInfo: \u001b[22m\u001b[39m started timer at: 2024-03-16T06:21:48.357\n"
     ]
    },
    {
     "name": "stdout",
     "output_type": "stream",
     "text": [
      "false\n",
      "60\n",
      "k : 12\n",
      "1\n",
      "-89331.64249747024\n",
      "4024.3478522525206\n",
      "60\n",
      "K : 12\n",
      "[0 -2000 -100 -1200 -2000]\n"
     ]
    },
    {
     "name": "stderr",
     "output_type": "stream",
     "text": [
      "\u001b[36m\u001b[1m[ \u001b[22m\u001b[39m\u001b[36m\u001b[1mInfo: \u001b[22m\u001b[39m         973.7112565s: 16 minutes, 13 seconds, 711 milliseconds\n",
      "\u001b[36m\u001b[1m[ \u001b[22m\u001b[39m\u001b[36m\u001b[1mInfo: \u001b[22m\u001b[39m started timer at: 2024-03-16T06:38:02.088\n"
     ]
    },
    {
     "name": "stdout",
     "output_type": "stream",
     "text": [
      "false\n",
      "60\n",
      "k : 12\n",
      "1\n",
      "-91252.32944933335\n",
      "4078.4596372325013\n",
      "60\n",
      "K : 12\n",
      "[0 -2400 -100 -1200 -2000]\n"
     ]
    },
    {
     "name": "stderr",
     "output_type": "stream",
     "text": [
      "\u001b[36m\u001b[1m[ \u001b[22m\u001b[39m\u001b[36m\u001b[1mInfo: \u001b[22m\u001b[39m         974.6951503s: 16 minutes, 14 seconds, 695 milliseconds\n",
      "\u001b[36m\u001b[1m[ \u001b[22m\u001b[39m\u001b[36m\u001b[1mInfo: \u001b[22m\u001b[39m started timer at: 2024-03-16T06:54:16.813\n"
     ]
    },
    {
     "name": "stdout",
     "output_type": "stream",
     "text": [
      "false\n",
      "60\n",
      "k : 12\n",
      "1\n",
      "-94995.34790673664\n",
      "4207.961042736027\n",
      "60\n",
      "K : 12\n",
      "[0 -2800 -100 -1200 -2000]\n"
     ]
    },
    {
     "name": "stderr",
     "output_type": "stream",
     "text": [
      "\u001b[36m\u001b[1m[ \u001b[22m\u001b[39m\u001b[36m\u001b[1mInfo: \u001b[22m\u001b[39m         971.1927569s: 16 minutes, 11 seconds, 192 milliseconds\n",
      "\u001b[36m\u001b[1m[ \u001b[22m\u001b[39m\u001b[36m\u001b[1mInfo: \u001b[22m\u001b[39m started timer at: 2024-03-16T07:10:28.023\n"
     ]
    },
    {
     "name": "stdout",
     "output_type": "stream",
     "text": [
      "false\n",
      "60\n",
      "k : 12\n",
      "1\n",
      "-98545.95642834494\n",
      "4290.897216344233\n",
      "60\n",
      "K : 12\n",
      "[0 -3200 -100 -1200 -2000]\n"
     ]
    },
    {
     "name": "stderr",
     "output_type": "stream",
     "text": [
      "\u001b[36m\u001b[1m[ \u001b[22m\u001b[39m\u001b[36m\u001b[1mInfo: \u001b[22m\u001b[39m         972.3360688s: 16 minutes, 12 seconds, 336 milliseconds\n",
      "\u001b[36m\u001b[1m[ \u001b[22m\u001b[39m\u001b[36m\u001b[1mInfo: \u001b[22m\u001b[39m started timer at: 2024-03-16T07:26:40.379\n"
     ]
    },
    {
     "name": "stdout",
     "output_type": "stream",
     "text": [
      "false\n",
      "60\n",
      "k : 12\n",
      "1\n",
      "-101778.61346952722\n",
      "4331.66186354929\n",
      "-------------------------\n",
      "60\n",
      "K : 14\n",
      "[0 -200 -100 -1200 -2000]\n"
     ]
    },
    {
     "name": "stderr",
     "output_type": "stream",
     "text": [
      "\u001b[36m\u001b[1m[ \u001b[22m\u001b[39m\u001b[36m\u001b[1mInfo: \u001b[22m\u001b[39m         972.3787275s: 16 minutes, 12 seconds, 378 milliseconds\n",
      "\u001b[36m\u001b[1m[ \u001b[22m\u001b[39m\u001b[36m\u001b[1mInfo: \u001b[22m\u001b[39m started timer at: 2024-03-16T07:42:52.787\n"
     ]
    },
    {
     "name": "stdout",
     "output_type": "stream",
     "text": [
      "false\n",
      "60\n",
      "k : 14\n",
      "1\n",
      "-65075.20070222752\n",
      "3411.7728132147136\n",
      "60\n",
      "K : 14\n",
      "[0 -400 -100 -1200 -2000]\n"
     ]
    },
    {
     "name": "stderr",
     "output_type": "stream",
     "text": [
      "\u001b[36m\u001b[1m[ \u001b[22m\u001b[39m\u001b[36m\u001b[1mInfo: \u001b[22m\u001b[39m         973.6363357s: 16 minutes, 13 seconds, 636 milliseconds\n",
      "\u001b[36m\u001b[1m[ \u001b[22m\u001b[39m\u001b[36m\u001b[1mInfo: \u001b[22m\u001b[39m started timer at: 2024-03-16T07:59:06.453\n"
     ]
    },
    {
     "name": "stdout",
     "output_type": "stream",
     "text": [
      "false\n",
      "60\n",
      "k : 14\n",
      "1\n",
      "-68885.5401450138\n",
      "3290.364971666277\n",
      "60\n",
      "K : 14\n",
      "[0 -600 -100 -1200 -2000]\n"
     ]
    },
    {
     "name": "stderr",
     "output_type": "stream",
     "text": [
      "\u001b[36m\u001b[1m[ \u001b[22m\u001b[39m\u001b[36m\u001b[1mInfo: \u001b[22m\u001b[39m         973.9799144s: 16 minutes, 13 seconds, 979 milliseconds\n",
      "\u001b[36m\u001b[1m[ \u001b[22m\u001b[39m\u001b[36m\u001b[1mInfo: \u001b[22m\u001b[39m started timer at: 2024-03-16T08:15:20.451\n"
     ]
    },
    {
     "name": "stdout",
     "output_type": "stream",
     "text": [
      "false\n",
      "60\n",
      "k : 14\n",
      "1\n",
      "-72584.89148428485\n",
      "3296.3215522940254\n",
      "60\n",
      "K : 14\n",
      "[0 -800 -100 -1200 -2000]\n"
     ]
    },
    {
     "name": "stderr",
     "output_type": "stream",
     "text": [
      "\u001b[36m\u001b[1m[ \u001b[22m\u001b[39m\u001b[36m\u001b[1mInfo: \u001b[22m\u001b[39m         973.3512966s: 16 minutes, 13 seconds, 351 milliseconds\n",
      "\u001b[36m\u001b[1m[ \u001b[22m\u001b[39m\u001b[36m\u001b[1mInfo: \u001b[22m\u001b[39m started timer at: 2024-03-16T08:31:33.833\n"
     ]
    },
    {
     "name": "stdout",
     "output_type": "stream",
     "text": [
      "false\n",
      "60\n",
      "k : 14\n",
      "1\n",
      "-76245.28834323981\n",
      "3302.5953528777695\n",
      "60\n",
      "K : 14\n",
      "[0 -1000 -100 -1200 -2000]\n"
     ]
    },
    {
     "name": "stderr",
     "output_type": "stream",
     "text": [
      "\u001b[36m\u001b[1m[ \u001b[22m\u001b[39m\u001b[36m\u001b[1mInfo: \u001b[22m\u001b[39m          972.276458s: 16 minutes, 12 seconds, 276 milliseconds\n",
      "\u001b[36m\u001b[1m[ \u001b[22m\u001b[39m\u001b[36m\u001b[1mInfo: \u001b[22m\u001b[39m started timer at: 2024-03-16T08:47:46.128\n"
     ]
    },
    {
     "name": "stdout",
     "output_type": "stream",
     "text": [
      "false\n",
      "60\n",
      "k : 14\n",
      "1\n",
      "-79649.25145701089\n",
      "3384.3888799862266\n",
      "60\n",
      "K : 14\n",
      "[0 -1200 -100 -1200 -2000]\n"
     ]
    },
    {
     "name": "stderr",
     "output_type": "stream",
     "text": [
      "\u001b[36m\u001b[1m[ \u001b[22m\u001b[39m\u001b[36m\u001b[1mInfo: \u001b[22m\u001b[39m         972.4286042s: 16 minutes, 12 seconds, 428 milliseconds\n",
      "\u001b[36m\u001b[1m[ \u001b[22m\u001b[39m\u001b[36m\u001b[1mInfo: \u001b[22m\u001b[39m started timer at: 2024-03-16T09:03:58.575\n"
     ]
    },
    {
     "name": "stdout",
     "output_type": "stream",
     "text": [
      "false\n",
      "60\n",
      "k : 14\n",
      "1\n",
      "-82569.5025444144\n",
      "3599.4436573038993\n",
      "60\n",
      "K : 14\n",
      "[0 -1400 -100 -1200 -2000]\n"
     ]
    },
    {
     "name": "stderr",
     "output_type": "stream",
     "text": [
      "\u001b[36m\u001b[1m[ \u001b[22m\u001b[39m\u001b[36m\u001b[1mInfo: \u001b[22m\u001b[39m         973.1436434s: 16 minutes, 13 seconds, 143 milliseconds\n",
      "\u001b[36m\u001b[1m[ \u001b[22m\u001b[39m\u001b[36m\u001b[1mInfo: \u001b[22m\u001b[39m started timer at: 2024-03-16T09:20:11.738\n"
     ]
    },
    {
     "name": "stdout",
     "output_type": "stream",
     "text": [
      "false\n",
      "60\n",
      "k : 14\n",
      "1\n",
      "-85074.46758793991\n",
      "3746.060851226695\n",
      "60\n",
      "K : 14\n",
      "[0 -1600 -100 -1200 -2000]\n"
     ]
    },
    {
     "name": "stderr",
     "output_type": "stream",
     "text": [
      "\u001b[36m\u001b[1m[ \u001b[22m\u001b[39m\u001b[36m\u001b[1mInfo: \u001b[22m\u001b[39m         971.4220052s: 16 minutes, 11 seconds, 422 milliseconds\n",
      "\u001b[36m\u001b[1m[ \u001b[22m\u001b[39m\u001b[36m\u001b[1mInfo: \u001b[22m\u001b[39m started timer at: 2024-03-16T09:36:23.189\n"
     ]
    },
    {
     "name": "stdout",
     "output_type": "stream",
     "text": [
      "false\n",
      "60\n",
      "k : 14\n",
      "1\n",
      "-87253.80523033535\n",
      "3906.3252478663403\n",
      "60\n",
      "K : 14\n",
      "[0 -1800 -100 -1200 -2000]\n"
     ]
    },
    {
     "name": "stderr",
     "output_type": "stream",
     "text": [
      "\u001b[36m\u001b[1m[ \u001b[22m\u001b[39m\u001b[36m\u001b[1mInfo: \u001b[22m\u001b[39m         968.5320203s: 16 minutes, 8 seconds, 532 milliseconds\n",
      "\u001b[36m\u001b[1m[ \u001b[22m\u001b[39m\u001b[36m\u001b[1mInfo: \u001b[22m\u001b[39m started timer at: 2024-03-16T09:52:31.739\n"
     ]
    },
    {
     "name": "stdout",
     "output_type": "stream",
     "text": [
      "false\n",
      "60\n",
      "k : 14\n",
      "1\n",
      "-89241.98897995653\n",
      "4026.7796014412547\n",
      "60\n",
      "K : 14\n",
      "[0 -2000 -100 -1200 -2000]\n"
     ]
    },
    {
     "name": "stderr",
     "output_type": "stream",
     "text": [
      "\u001b[36m\u001b[1m[ \u001b[22m\u001b[39m\u001b[36m\u001b[1mInfo: \u001b[22m\u001b[39m         969.4913978s: 16 minutes, 9 seconds, 491 milliseconds\n",
      "\u001b[36m\u001b[1m[ \u001b[22m\u001b[39m\u001b[36m\u001b[1mInfo: \u001b[22m\u001b[39m started timer at: 2024-03-16T10:08:41.250\n"
     ]
    },
    {
     "name": "stdout",
     "output_type": "stream",
     "text": [
      "false\n",
      "60\n",
      "k : 14\n",
      "1\n",
      "-91115.98815812008\n",
      "4166.814618054331\n",
      "60\n",
      "K : 14\n",
      "[0 -2400 -100 -1200 -2000]\n"
     ]
    },
    {
     "name": "stderr",
     "output_type": "stream",
     "text": [
      "\u001b[36m\u001b[1m[ \u001b[22m\u001b[39m\u001b[36m\u001b[1mInfo: \u001b[22m\u001b[39m         971.4671635s: 16 minutes, 11 seconds, 467 milliseconds\n",
      "\u001b[36m\u001b[1m[ \u001b[22m\u001b[39m\u001b[36m\u001b[1mInfo: \u001b[22m\u001b[39m started timer at: 2024-03-16T10:24:52.736\n"
     ]
    },
    {
     "name": "stdout",
     "output_type": "stream",
     "text": [
      "false\n",
      "60\n",
      "k : 14\n",
      "1\n",
      "-94720.6190860379\n",
      "4175.316185530637\n",
      "60\n",
      "K : 14\n",
      "[0 -2800 -100 -1200 -2000]\n"
     ]
    },
    {
     "name": "stderr",
     "output_type": "stream",
     "text": [
      "\u001b[36m\u001b[1m[ \u001b[22m\u001b[39m\u001b[36m\u001b[1mInfo: \u001b[22m\u001b[39m         973.1381372s: 16 minutes, 13 seconds, 138 milliseconds\n",
      "\u001b[36m\u001b[1m[ \u001b[22m\u001b[39m\u001b[36m\u001b[1mInfo: \u001b[22m\u001b[39m started timer at: 2024-03-16T10:41:05.893\n"
     ]
    },
    {
     "name": "stdout",
     "output_type": "stream",
     "text": [
      "false\n",
      "60\n",
      "k : 14\n",
      "1\n",
      "-98223.13233285447\n",
      "4229.961176159655\n",
      "60\n",
      "K : 14\n",
      "[0 -3200 -100 -1200 -2000]\n"
     ]
    },
    {
     "name": "stderr",
     "output_type": "stream",
     "text": [
      "\u001b[36m\u001b[1m[ \u001b[22m\u001b[39m\u001b[36m\u001b[1mInfo: \u001b[22m\u001b[39m         973.3529963s: 16 minutes, 13 seconds, 352 milliseconds\n",
      "\u001b[36m\u001b[1m[ \u001b[22m\u001b[39m\u001b[36m\u001b[1mInfo: \u001b[22m\u001b[39m started timer at: 2024-03-16T10:57:19.265\n"
     ]
    },
    {
     "name": "stdout",
     "output_type": "stream",
     "text": [
      "false\n",
      "60\n",
      "k : 14\n",
      "1\n",
      "-101226.72620849262\n",
      "4302.068935324033\n",
      "-------------------------\n"
     ]
    },
    {
     "name": "stderr",
     "output_type": "stream",
     "text": [
      "\u001b[36m\u001b[1m[ \u001b[22m\u001b[39m\u001b[36m\u001b[1mInfo: \u001b[22m\u001b[39m         971.9686978s: 16 minutes, 11 seconds, 968 milliseconds\n"
     ]
    },
    {
     "name": "stdout",
     "output_type": "stream",
     "text": [
      "60\n",
      "K : 16\n",
      "[0 -200 -100 -1200 -2000]\n"
     ]
    },
    {
     "name": "stderr",
     "output_type": "stream",
     "text": [
      "\u001b[36m\u001b[1m[ \u001b[22m\u001b[39m\u001b[36m\u001b[1mInfo: \u001b[22m\u001b[39m started timer at: 2024-03-16T11:13:31.263\n"
     ]
    },
    {
     "name": "stdout",
     "output_type": "stream",
     "text": [
      "false\n",
      "60\n",
      "k : 16\n",
      "1\n",
      "-64997.74053351785\n",
      "3364.993873188064\n",
      "60\n",
      "K : 16\n",
      "[0 -400 -100 -1200 -2000]\n"
     ]
    },
    {
     "name": "stderr",
     "output_type": "stream",
     "text": [
      "\u001b[36m\u001b[1m[ \u001b[22m\u001b[39m\u001b[36m\u001b[1mInfo: \u001b[22m\u001b[39m         970.6938937s: 16 minutes, 10 seconds, 693 milliseconds\n",
      "\u001b[36m\u001b[1m[ \u001b[22m\u001b[39m\u001b[36m\u001b[1mInfo: \u001b[22m\u001b[39m started timer at: 2024-03-16T11:29:41.976\n"
     ]
    },
    {
     "name": "stdout",
     "output_type": "stream",
     "text": [
      "false\n",
      "60\n",
      "k : 16\n",
      "1\n",
      "-68870.87267829347\n",
      "3271.51522932869\n",
      "60\n",
      "K : 16\n",
      "[0 -600 -100 -1200 -2000]\n"
     ]
    },
    {
     "name": "stderr",
     "output_type": "stream",
     "text": [
      "\u001b[36m\u001b[1m[ \u001b[22m\u001b[39m\u001b[36m\u001b[1mInfo: \u001b[22m\u001b[39m         973.0535653s: 16 minutes, 13 seconds, 53 milliseconds\n",
      "\u001b[36m\u001b[1m[ \u001b[22m\u001b[39m\u001b[36m\u001b[1mInfo: \u001b[22m\u001b[39m started timer at: 2024-03-16T11:45:55.059\n"
     ]
    },
    {
     "name": "stdout",
     "output_type": "stream",
     "text": [
      "false\n",
      "60\n",
      "k : 16\n",
      "1\n",
      "-72583.01709241589\n",
      "3301.2894361050676\n",
      "60\n",
      "K : 16\n",
      "[0 -800 -100 -1200 -2000]\n"
     ]
    },
    {
     "name": "stderr",
     "output_type": "stream",
     "text": [
      "\u001b[36m\u001b[1m[ \u001b[22m\u001b[39m\u001b[36m\u001b[1mInfo: \u001b[22m\u001b[39m         971.9097536s: 16 minutes, 11 seconds, 909 milliseconds\n",
      "\u001b[36m\u001b[1m[ \u001b[22m\u001b[39m\u001b[36m\u001b[1mInfo: \u001b[22m\u001b[39m started timer at: 2024-03-16T12:02:06.987\n"
     ]
    },
    {
     "name": "stdout",
     "output_type": "stream",
     "text": [
      "false\n",
      "60\n",
      "k : 16\n",
      "1\n",
      "-76246.14854291672\n",
      "3374.2376215490526\n",
      "60\n",
      "K : 16\n",
      "[0 -1000 -100 -1200 -2000]\n"
     ]
    },
    {
     "name": "stderr",
     "output_type": "stream",
     "text": [
      "\u001b[36m\u001b[1m[ \u001b[22m\u001b[39m\u001b[36m\u001b[1mInfo: \u001b[22m\u001b[39m         969.7165131s: 16 minutes, 9 seconds, 716 milliseconds\n",
      "\u001b[36m\u001b[1m[ \u001b[22m\u001b[39m\u001b[36m\u001b[1mInfo: \u001b[22m\u001b[39m started timer at: 2024-03-16T12:18:16.722\n"
     ]
    },
    {
     "name": "stdout",
     "output_type": "stream",
     "text": [
      "false\n",
      "60\n",
      "k : 16\n",
      "1\n",
      "-79503.30421050214\n",
      "3435.9401663766985\n",
      "60\n",
      "K : 16\n",
      "[0 -1200 -100 -1200 -2000]\n"
     ]
    },
    {
     "name": "stderr",
     "output_type": "stream",
     "text": [
      "\u001b[36m\u001b[1m[ \u001b[22m\u001b[39m\u001b[36m\u001b[1mInfo: \u001b[22m\u001b[39m         969.2793197s: 16 minutes, 9 seconds, 279 milliseconds\n",
      "\u001b[36m\u001b[1m[ \u001b[22m\u001b[39m\u001b[36m\u001b[1mInfo: \u001b[22m\u001b[39m started timer at: 2024-03-16T12:34:26.020\n"
     ]
    },
    {
     "name": "stdout",
     "output_type": "stream",
     "text": [
      "false\n",
      "60\n",
      "k : 16\n",
      "1\n",
      "-82292.39901966389\n",
      "3634.8460882892787\n",
      "60\n",
      "K : 16\n",
      "[0 -1400 -100 -1200 -2000]\n"
     ]
    },
    {
     "name": "stderr",
     "output_type": "stream",
     "text": [
      "\u001b[36m\u001b[1m[ \u001b[22m\u001b[39m\u001b[36m\u001b[1mInfo: \u001b[22m\u001b[39m         972.7914648s: 16 minutes, 12 seconds, 791 milliseconds\n",
      "\u001b[36m\u001b[1m[ \u001b[22m\u001b[39m\u001b[36m\u001b[1mInfo: \u001b[22m\u001b[39m started timer at: 2024-03-16T12:50:38.831\n"
     ]
    },
    {
     "name": "stdout",
     "output_type": "stream",
     "text": [
      "false\n",
      "60\n",
      "k : 16\n",
      "1\n",
      "-84682.45734995615\n",
      "3789.6087700694397\n",
      "60\n",
      "K : 16\n",
      "[0 -1600 -100 -1200 -2000]\n"
     ]
    },
    {
     "name": "stderr",
     "output_type": "stream",
     "text": [
      "\u001b[36m\u001b[1m[ \u001b[22m\u001b[39m\u001b[36m\u001b[1mInfo: \u001b[22m\u001b[39m         979.0827166s: 16 minutes, 19 seconds, 82 milliseconds\n",
      "\u001b[36m\u001b[1m[ \u001b[22m\u001b[39m\u001b[36m\u001b[1mInfo: \u001b[22m\u001b[39m started timer at: 2024-03-16T13:06:57.932\n"
     ]
    },
    {
     "name": "stdout",
     "output_type": "stream",
     "text": [
      "false\n",
      "60\n",
      "k : 16\n",
      "1\n",
      "-86930.8353060293\n",
      "3967.6205258561845\n",
      "60\n",
      "K : 16\n",
      "[0 -1800 -100 -1200 -2000]\n"
     ]
    },
    {
     "name": "stderr",
     "output_type": "stream",
     "text": [
      "\u001b[36m\u001b[1m[ \u001b[22m\u001b[39m\u001b[36m\u001b[1mInfo: \u001b[22m\u001b[39m         979.7295086s: 16 minutes, 19 seconds, 729 milliseconds\n",
      "\u001b[36m\u001b[1m[ \u001b[22m\u001b[39m\u001b[36m\u001b[1mInfo: \u001b[22m\u001b[39m started timer at: 2024-03-16T13:23:17.681\n"
     ]
    },
    {
     "name": "stdout",
     "output_type": "stream",
     "text": [
      "false\n",
      "60\n",
      "k : 16\n",
      "1\n",
      "-88825.59500370917\n",
      "4070.2896099699806\n",
      "60\n",
      "K : 16\n",
      "[0 -2000 -100 -1200 -2000]\n"
     ]
    },
    {
     "name": "stderr",
     "output_type": "stream",
     "text": [
      "\u001b[36m\u001b[1m[ \u001b[22m\u001b[39m\u001b[36m\u001b[1mInfo: \u001b[22m\u001b[39m         977.8523601s: 16 minutes, 17 seconds, 852 milliseconds\n",
      "\u001b[36m\u001b[1m[ \u001b[22m\u001b[39m\u001b[36m\u001b[1mInfo: \u001b[22m\u001b[39m started timer at: 2024-03-16T13:39:35.552\n"
     ]
    },
    {
     "name": "stdout",
     "output_type": "stream",
     "text": [
      "false\n",
      "60\n",
      "k : 16\n",
      "1\n",
      "-90764.39777191548\n",
      "4190.087935897981\n",
      "60\n",
      "K : 16\n",
      "[0 -2400 -100 -1200 -2000]\n"
     ]
    },
    {
     "name": "stderr",
     "output_type": "stream",
     "text": [
      "\u001b[36m\u001b[1m[ \u001b[22m\u001b[39m\u001b[36m\u001b[1mInfo: \u001b[22m\u001b[39m         977.9116338s: 16 minutes, 17 seconds, 911 milliseconds\n",
      "\u001b[36m\u001b[1m[ \u001b[22m\u001b[39m\u001b[36m\u001b[1mInfo: \u001b[22m\u001b[39m started timer at: 2024-03-16T13:55:53.483\n"
     ]
    },
    {
     "name": "stdout",
     "output_type": "stream",
     "text": [
      "false\n",
      "60\n",
      "k : 16\n",
      "1\n",
      "-94369.17944550629\n",
      "4276.378039729915\n"
     ]
    },
    {
     "name": "stderr",
     "output_type": "stream",
     "text": [
      "\u001b[36m\u001b[1m[ \u001b[22m\u001b[39m\u001b[36m\u001b[1mInfo: \u001b[22m\u001b[39m         977.9472027s: 16 minutes, 17 seconds, 947 milliseconds\n",
      "\u001b[36m\u001b[1m[ \u001b[22m\u001b[39m\u001b[36m\u001b[1mInfo: \u001b[22m\u001b[39m started timer at: 2024-03-16T14:12:11.449\n"
     ]
    },
    {
     "name": "stdout",
     "output_type": "stream",
     "text": [
      "60\n",
      "K : 16\n",
      "[0 -2800 -100 -1200 -2000]\n",
      "false\n",
      "60\n",
      "k : 16\n",
      "1\n",
      "-97570.46537559576\n",
      "4405.427358940535\n",
      "60\n",
      "K : 16\n",
      "[0 -3200 -100 -1200 -2000]\n"
     ]
    },
    {
     "name": "stderr",
     "output_type": "stream",
     "text": [
      "\u001b[36m\u001b[1m[ \u001b[22m\u001b[39m\u001b[36m\u001b[1mInfo: \u001b[22m\u001b[39m         977.4224715s: 16 minutes, 17 seconds, 422 milliseconds\n",
      "\u001b[36m\u001b[1m[ \u001b[22m\u001b[39m\u001b[36m\u001b[1mInfo: \u001b[22m\u001b[39m started timer at: 2024-03-16T14:28:28.901\n"
     ]
    },
    {
     "name": "stdout",
     "output_type": "stream",
     "text": [
      "false\n",
      "60\n",
      "k : 16\n",
      "1\n",
      "-101019.30081417342\n",
      "4610.54808478343\n",
      "-------------------------\n",
      "60\n",
      "K : 18\n"
     ]
    },
    {
     "name": "stderr",
     "output_type": "stream",
     "text": [
      "\u001b[36m\u001b[1m[ \u001b[22m\u001b[39m\u001b[36m\u001b[1mInfo: \u001b[22m\u001b[39m         977.5494247s: 16 minutes, 17 seconds, 549 milliseconds\n",
      "\u001b[36m\u001b[1m[ \u001b[22m\u001b[39m\u001b[36m\u001b[1mInfo: \u001b[22m\u001b[39m started timer at: 2024-03-16T14:44:46.481\n"
     ]
    },
    {
     "name": "stdout",
     "output_type": "stream",
     "text": [
      "[0 -200 -100 -1200 -2000]\n",
      "false\n",
      "60\n",
      "k : 18\n",
      "1\n",
      "-65112.29181659577\n",
      "3478.7120703889486\n",
      "60\n",
      "K : 18\n",
      "[0 -400 -100 -1200 -2000]\n"
     ]
    },
    {
     "name": "stderr",
     "output_type": "stream",
     "text": [
      "\u001b[36m\u001b[1m[ \u001b[22m\u001b[39m\u001b[36m\u001b[1mInfo: \u001b[22m\u001b[39m         978.7281901s: 16 minutes, 18 seconds, 728 milliseconds\n",
      "\u001b[36m\u001b[1m[ \u001b[22m\u001b[39m\u001b[36m\u001b[1mInfo: \u001b[22m\u001b[39m started timer at: 2024-03-16T15:01:05.239\n"
     ]
    },
    {
     "name": "stdout",
     "output_type": "stream",
     "text": [
      "false\n",
      "60\n",
      "k : 18\n",
      "1\n",
      "-68918.31749639961\n",
      "3426.8201895673265\n",
      "60\n",
      "K : 18\n",
      "[0 -600 -100 -1200 -2000]\n"
     ]
    },
    {
     "name": "stderr",
     "output_type": "stream",
     "text": [
      "\u001b[36m\u001b[1m[ \u001b[22m\u001b[39m\u001b[36m\u001b[1mInfo: \u001b[22m\u001b[39m         979.2075407s: 16 minutes, 19 seconds, 207 milliseconds\n",
      "\u001b[36m\u001b[1m[ \u001b[22m\u001b[39m\u001b[36m\u001b[1mInfo: \u001b[22m\u001b[39m started timer at: 2024-03-16T15:17:24.476\n"
     ]
    },
    {
     "name": "stdout",
     "output_type": "stream",
     "text": [
      "false\n",
      "60\n",
      "k : 18\n",
      "1\n",
      "-72602.37414319324\n",
      "3457.907478024059\n",
      "60\n",
      "K : 18\n",
      "[0 -800 -100 -1200 -2000]\n"
     ]
    },
    {
     "name": "stderr",
     "output_type": "stream",
     "text": [
      "\u001b[36m\u001b[1m[ \u001b[22m\u001b[39m\u001b[36m\u001b[1mInfo: \u001b[22m\u001b[39m         975.7393379s: 16 minutes, 15 seconds, 739 milliseconds\n",
      "\u001b[36m\u001b[1m[ \u001b[22m\u001b[39m\u001b[36m\u001b[1mInfo: \u001b[22m\u001b[39m started timer at: 2024-03-16T15:33:40.234\n"
     ]
    },
    {
     "name": "stdout",
     "output_type": "stream",
     "text": [
      "false\n",
      "60\n",
      "k : 18\n",
      "1\n",
      "-76045.56638922746\n",
      "3565.3049154524556\n",
      "60\n",
      "K : 18\n",
      "[0 -1000 -100 -1200 -2000]\n"
     ]
    },
    {
     "name": "stderr",
     "output_type": "stream",
     "text": [
      "\u001b[36m\u001b[1m[ \u001b[22m\u001b[39m\u001b[36m\u001b[1mInfo: \u001b[22m\u001b[39m         976.0595619s: 16 minutes, 16 seconds, 59 milliseconds\n",
      "\u001b[36m\u001b[1m[ \u001b[22m\u001b[39m\u001b[36m\u001b[1mInfo: \u001b[22m\u001b[39m started timer at: 2024-03-16T15:49:56.312\n"
     ]
    },
    {
     "name": "stdout",
     "output_type": "stream",
     "text": [
      "false\n",
      "60\n",
      "k : 18\n",
      "1\n",
      "-79315.42635505104\n",
      "3783.2957191148203\n",
      "60\n",
      "K : 18\n",
      "[0 -1200 -100 -1200 -2000]\n"
     ]
    },
    {
     "name": "stderr",
     "output_type": "stream",
     "text": [
      "\u001b[36m\u001b[1m[ \u001b[22m\u001b[39m\u001b[36m\u001b[1mInfo: \u001b[22m\u001b[39m         976.9454667s: 16 minutes, 16 seconds, 945 milliseconds\n",
      "\u001b[36m\u001b[1m[ \u001b[22m\u001b[39m\u001b[36m\u001b[1mInfo: \u001b[22m\u001b[39m started timer at: 2024-03-16T16:06:13.276\n"
     ]
    },
    {
     "name": "stdout",
     "output_type": "stream",
     "text": [
      "false\n",
      "60\n",
      "k : 18\n",
      "1\n",
      "-82174.68037868316\n",
      "3975.974300512122\n",
      "60\n",
      "K : 18\n",
      "[0 -1400 -100 -1200 -2000]\n"
     ]
    },
    {
     "name": "stderr",
     "output_type": "stream",
     "text": [
      "\u001b[36m\u001b[1m[ \u001b[22m\u001b[39m\u001b[36m\u001b[1mInfo: \u001b[22m\u001b[39m         978.3362606s: 16 minutes, 18 seconds, 336 milliseconds\n",
      "\u001b[36m\u001b[1m[ \u001b[22m\u001b[39m\u001b[36m\u001b[1mInfo: \u001b[22m\u001b[39m started timer at: 2024-03-16T16:22:31.632\n"
     ]
    },
    {
     "name": "stdout",
     "output_type": "stream",
     "text": [
      "false\n",
      "60\n",
      "k : 18\n",
      "1\n",
      "-84892.36562822071\n",
      "4284.773176864069\n",
      "60\n",
      "K : 18\n",
      "[0 -1600 -100 -1200 -2000]\n"
     ]
    },
    {
     "name": "stderr",
     "output_type": "stream",
     "text": [
      "\u001b[36m\u001b[1m[ \u001b[22m\u001b[39m\u001b[36m\u001b[1mInfo: \u001b[22m\u001b[39m         976.8408638s: 16 minutes, 16 seconds, 840 milliseconds\n",
      "\u001b[36m\u001b[1m[ \u001b[22m\u001b[39m\u001b[36m\u001b[1mInfo: \u001b[22m\u001b[39m started timer at: 2024-03-16T16:38:48.492\n"
     ]
    },
    {
     "name": "stdout",
     "output_type": "stream",
     "text": [
      "false\n",
      "60\n",
      "k : 18\n",
      "1\n",
      "-87543.60805992423\n",
      "4490.4102453788055\n",
      "60\n",
      "K : 18\n",
      "[0 -1800 -100 -1200 -2000]\n"
     ]
    },
    {
     "name": "stderr",
     "output_type": "stream",
     "text": [
      "\u001b[36m\u001b[1m[ \u001b[22m\u001b[39m\u001b[36m\u001b[1mInfo: \u001b[22m\u001b[39m         976.2882173s: 16 minutes, 16 seconds, 288 milliseconds\n",
      "\u001b[36m\u001b[1m[ \u001b[22m\u001b[39m\u001b[36m\u001b[1mInfo: \u001b[22m\u001b[39m started timer at: 2024-03-16T16:55:04.798\n"
     ]
    },
    {
     "name": "stdout",
     "output_type": "stream",
     "text": [
      "false\n",
      "60\n",
      "k : 18\n",
      "1\n",
      "-90331.35652264745\n",
      "4839.907803244529\n",
      "60\n",
      "K : 18\n",
      "[0 -2000 -100 -1200 -2000]\n"
     ]
    },
    {
     "name": "stderr",
     "output_type": "stream",
     "text": [
      "\u001b[36m\u001b[1m[ \u001b[22m\u001b[39m\u001b[36m\u001b[1mInfo: \u001b[22m\u001b[39m         976.3565943s: 16 minutes, 16 seconds, 356 milliseconds\n",
      "\u001b[36m\u001b[1m[ \u001b[22m\u001b[39m\u001b[36m\u001b[1mInfo: \u001b[22m\u001b[39m started timer at: 2024-03-16T17:11:21.174\n"
     ]
    },
    {
     "name": "stdout",
     "output_type": "stream",
     "text": [
      "false\n",
      "60\n",
      "k : 18\n",
      "1\n",
      "-93514.4943945816\n",
      "5200.943627908689\n",
      "60\n",
      "K : 18\n",
      "[0 -2400 -100 -1200 -2000]\n"
     ]
    },
    {
     "name": "stderr",
     "output_type": "stream",
     "text": [
      "\u001b[36m\u001b[1m[ \u001b[22m\u001b[39m\u001b[36m\u001b[1mInfo: \u001b[22m\u001b[39m         978.7917851s: 16 minutes, 18 seconds, 791 milliseconds\n",
      "\u001b[36m\u001b[1m[ \u001b[22m\u001b[39m\u001b[36m\u001b[1mInfo: \u001b[22m\u001b[39m started timer at: 2024-03-16T17:27:39.985\n"
     ]
    },
    {
     "name": "stdout",
     "output_type": "stream",
     "text": [
      "false\n",
      "60\n",
      "k : 18\n",
      "1\n",
      "-100597.25267489311\n",
      "5614.773701653927\n",
      "60\n",
      "K : 18\n",
      "[0 -2800 -100 -1200 -2000]\n"
     ]
    },
    {
     "name": "stderr",
     "output_type": "stream",
     "text": [
      "\u001b[36m\u001b[1m[ \u001b[22m\u001b[39m\u001b[36m\u001b[1mInfo: \u001b[22m\u001b[39m         976.5279957s: 16 minutes, 16 seconds, 527 milliseconds\n",
      "\u001b[36m\u001b[1m[ \u001b[22m\u001b[39m\u001b[36m\u001b[1mInfo: \u001b[22m\u001b[39m started timer at: 2024-03-16T17:43:56.531\n"
     ]
    },
    {
     "name": "stdout",
     "output_type": "stream",
     "text": [
      "false\n",
      "60\n",
      "k : 18\n",
      "1\n",
      "-107281.08309094825\n",
      "5797.565856788517\n",
      "60\n",
      "K : 18\n",
      "[0 -3200 -100 -1200 -2000]\n"
     ]
    },
    {
     "name": "stderr",
     "output_type": "stream",
     "text": [
      "\u001b[36m\u001b[1m[ \u001b[22m\u001b[39m\u001b[36m\u001b[1mInfo: \u001b[22m\u001b[39m         975.5669476s: 16 minutes, 15 seconds, 566 milliseconds\n",
      "\u001b[36m\u001b[1m[ \u001b[22m\u001b[39m\u001b[36m\u001b[1mInfo: \u001b[22m\u001b[39m started timer at: 2024-03-16T18:00:12.117\n"
     ]
    },
    {
     "name": "stdout",
     "output_type": "stream",
     "text": [
      "false\n",
      "60\n",
      "k : 18\n",
      "1\n",
      "-112184.23528336005\n",
      "5632.673139423199\n",
      "-------------------------\n",
      "60\n",
      "K : 20\n",
      "[0 -200 -100 -1200 -2000]\n"
     ]
    },
    {
     "name": "stderr",
     "output_type": "stream",
     "text": [
      "\u001b[36m\u001b[1m[ \u001b[22m\u001b[39m\u001b[36m\u001b[1mInfo: \u001b[22m\u001b[39m         977.6775238s: 16 minutes, 17 seconds, 677 milliseconds\n",
      "\u001b[36m\u001b[1m[ \u001b[22m\u001b[39m\u001b[36m\u001b[1mInfo: \u001b[22m\u001b[39m started timer at: 2024-03-16T18:16:29.825\n"
     ]
    },
    {
     "name": "stdout",
     "output_type": "stream",
     "text": [
      "false\n",
      "60\n",
      "k : 20\n",
      "1\n",
      "-65997.12867316877\n",
      "3969.211195726906\n",
      "60"
     ]
    },
    {
     "name": "stderr",
     "output_type": "stream",
     "text": [
      "\u001b[36m\u001b[1m[ \u001b[22m\u001b[39m\u001b[36m\u001b[1mInfo: \u001b[22m\u001b[39m         975.4989412s: 16 minutes, 15 seconds, 498 milliseconds\n",
      "\u001b[36m\u001b[1m[ \u001b[22m\u001b[39m\u001b[36m\u001b[1mInfo: \u001b[22m\u001b[39m started timer at: 2024-03-16T18:32:45.343\n"
     ]
    },
    {
     "name": "stdout",
     "output_type": "stream",
     "text": [
      "\n",
      "K : 20\n",
      "[0 -400 -100 -1200 -2000]\n",
      "false\n",
      "60\n",
      "k : 20\n",
      "1\n",
      "-70612.0574108133\n",
      "4426.90826136676\n",
      "60\n",
      "K : 20\n",
      "[0 -600 -100 -1200 -2000]\n"
     ]
    },
    {
     "name": "stderr",
     "output_type": "stream",
     "text": [
      "\u001b[36m\u001b[1m[ \u001b[22m\u001b[39m\u001b[36m\u001b[1mInfo: \u001b[22m\u001b[39m         977.2853889s: 16 minutes, 17 seconds, 285 milliseconds\n",
      "\u001b[36m\u001b[1m[ \u001b[22m\u001b[39m\u001b[36m\u001b[1mInfo: \u001b[22m\u001b[39m started timer at: 2024-03-16T18:49:02.647\n"
     ]
    },
    {
     "name": "stdout",
     "output_type": "stream",
     "text": [
      "false\n",
      "60\n",
      "k : 20\n",
      "1\n",
      "-75761.07648563515\n",
      "5085.188444112096\n",
      "60\n",
      "K : 20\n",
      "[0 -800 -100 -1200 -2000]\n"
     ]
    },
    {
     "name": "stderr",
     "output_type": "stream",
     "text": [
      "\u001b[36m\u001b[1m[ \u001b[22m\u001b[39m\u001b[36m\u001b[1mInfo: \u001b[22m\u001b[39m         978.5658588s: 16 minutes, 18 seconds, 565 milliseconds\n",
      "\u001b[36m\u001b[1m[ \u001b[22m\u001b[39m\u001b[36m\u001b[1mInfo: \u001b[22m\u001b[39m started timer at: 2024-03-16T19:05:21.231\n"
     ]
    },
    {
     "name": "stdout",
     "output_type": "stream",
     "text": [
      "false\n",
      "60\n",
      "k : 20\n",
      "1\n",
      "-81698.29938635362\n",
      "5736.114191474837\n",
      "60\n",
      "K : 20\n",
      "[0 -1000 -100 -1200 -2000]\n"
     ]
    },
    {
     "name": "stderr",
     "output_type": "stream",
     "text": [
      "\u001b[36m\u001b[1m[ \u001b[22m\u001b[39m\u001b[36m\u001b[1mInfo: \u001b[22m\u001b[39m         976.1023207s: 16 minutes, 16 seconds, 102 milliseconds\n",
      "\u001b[36m\u001b[1m[ \u001b[22m\u001b[39m\u001b[36m\u001b[1mInfo: \u001b[22m\u001b[39m started timer at: 2024-03-16T19:21:37.353\n"
     ]
    },
    {
     "name": "stdout",
     "output_type": "stream",
     "text": [
      "false\n",
      "60\n",
      "k : 20\n",
      "1\n",
      "-87711.05693362445\n",
      "6144.522507245073\n",
      "60\n",
      "K : 20\n",
      "[0 -1200 -100 -1200 -2000]\n"
     ]
    },
    {
     "name": "stderr",
     "output_type": "stream",
     "text": [
      "\u001b[36m\u001b[1m[ \u001b[22m\u001b[39m\u001b[36m\u001b[1mInfo: \u001b[22m\u001b[39m         976.9163196s: 16 minutes, 16 seconds, 916 milliseconds\n",
      "\u001b[36m\u001b[1m[ \u001b[22m\u001b[39m\u001b[36m\u001b[1mInfo: \u001b[22m\u001b[39m started timer at: 2024-03-16T19:37:54.288\n"
     ]
    },
    {
     "name": "stdout",
     "output_type": "stream",
     "text": [
      "false\n",
      "60\n",
      "k : 20\n",
      "1\n",
      "-93316.47134328635\n",
      "6156.618292587607\n",
      "60\n",
      "K : 20\n",
      "[0 -1400 -100 -1200 -2000]\n"
     ]
    },
    {
     "name": "stderr",
     "output_type": "stream",
     "text": [
      "\u001b[36m\u001b[1m[ \u001b[22m\u001b[39m\u001b[36m\u001b[1mInfo: \u001b[22m\u001b[39m         976.0246226s: 16 minutes, 16 seconds, 24 milliseconds\n",
      "\u001b[36m\u001b[1m[ \u001b[22m\u001b[39m\u001b[36m\u001b[1mInfo: \u001b[22m\u001b[39m started timer at: 2024-03-16T19:54:10.332\n"
     ]
    },
    {
     "name": "stdout",
     "output_type": "stream",
     "text": [
      "false\n",
      "60\n",
      "k : 20\n",
      "1\n",
      "-98238.52530237263\n",
      "6177.708655786782\n",
      "60\n",
      "K : 20\n",
      "[0 -1600 -100 -1200 -2000]\n"
     ]
    },
    {
     "name": "stderr",
     "output_type": "stream",
     "text": [
      "\u001b[36m\u001b[1m[ \u001b[22m\u001b[39m\u001b[36m\u001b[1mInfo: \u001b[22m\u001b[39m         976.1567454s: 16 minutes, 16 seconds, 156 milliseconds\n",
      "\u001b[36m\u001b[1m[ \u001b[22m\u001b[39m\u001b[36m\u001b[1mInfo: \u001b[22m\u001b[39m started timer at: 2024-03-16T20:10:26.519\n"
     ]
    },
    {
     "name": "stdout",
     "output_type": "stream",
     "text": [
      "false\n",
      "60\n",
      "k : 20\n",
      "1\n",
      "-102237.21920791751\n",
      "5998.981262493764\n",
      "60\n",
      "K : 20\n",
      "[0 -1800 -100 -1200 -2000]\n"
     ]
    },
    {
     "name": "stderr",
     "output_type": "stream",
     "text": [
      "\u001b[36m\u001b[1m[ \u001b[22m\u001b[39m\u001b[36m\u001b[1mInfo: \u001b[22m\u001b[39m         975.9466524s: 16 minutes, 15 seconds, 946 milliseconds\n",
      "\u001b[36m\u001b[1m[ \u001b[22m\u001b[39m\u001b[36m\u001b[1mInfo: \u001b[22m\u001b[39m started timer at: 2024-03-16T20:26:42.484\n"
     ]
    },
    {
     "name": "stdout",
     "output_type": "stream",
     "text": [
      "false\n",
      "60\n",
      "k : 20\n",
      "1\n",
      "-105431.08432341537\n",
      "5802.497441222143\n",
      "60\n",
      "K : 20\n",
      "[0 -2000 -100 -1200 -2000]\n"
     ]
    },
    {
     "name": "stderr",
     "output_type": "stream",
     "text": [
      "\u001b[36m\u001b[1m[ \u001b[22m\u001b[39m\u001b[36m\u001b[1mInfo: \u001b[22m\u001b[39m         974.5661059s: 16 minutes, 14 seconds, 566 milliseconds\n",
      "\u001b[36m\u001b[1m[ \u001b[22m\u001b[39m\u001b[36m\u001b[1mInfo: \u001b[22m\u001b[39m started timer at: 2024-03-16T20:42:57.069\n"
     ]
    },
    {
     "name": "stdout",
     "output_type": "stream",
     "text": [
      "false\n",
      "60\n",
      "k : 20\n",
      "1\n",
      "-107970.13586342425\n",
      "5658.915430601989\n",
      "60\n",
      "K : 20\n",
      "[0 -2400 -100 -1200 -2000]\n"
     ]
    },
    {
     "name": "stderr",
     "output_type": "stream",
     "text": [
      "\u001b[36m\u001b[1m[ \u001b[22m\u001b[39m\u001b[36m\u001b[1mInfo: \u001b[22m\u001b[39m         974.9059853s: 16 minutes, 14 seconds, 905 milliseconds\n",
      "\u001b[36m\u001b[1m[ \u001b[22m\u001b[39m\u001b[36m\u001b[1mInfo: \u001b[22m\u001b[39m started timer at: 2024-03-16T20:59:11.993\n"
     ]
    },
    {
     "name": "stdout",
     "output_type": "stream",
     "text": [
      "false\n",
      "60\n",
      "k : 20\n",
      "1\n",
      "-111680.65251061317\n",
      "5365.031405278214\n",
      "60\n",
      "K : 20\n",
      "[0 -2800 -100 -1200 -2000]\n"
     ]
    },
    {
     "name": "stderr",
     "output_type": "stream",
     "text": [
      "\u001b[36m\u001b[1m[ \u001b[22m\u001b[39m\u001b[36m\u001b[1mInfo: \u001b[22m\u001b[39m         976.7309461s: 16 minutes, 16 seconds, 730 milliseconds\n",
      "\u001b[36m\u001b[1m[ \u001b[22m\u001b[39m\u001b[36m\u001b[1mInfo: \u001b[22m\u001b[39m started timer at: 2024-03-16T21:15:28.743\n"
     ]
    },
    {
     "name": "stdout",
     "output_type": "stream",
     "text": [
      "false\n",
      "60\n",
      "k : 20\n",
      "1\n",
      "-113926.50441380196\n",
      "5251.56196062112\n",
      "60\n",
      "K : 20\n",
      "[0 -3200 -100 -1200 -2000]\n"
     ]
    },
    {
     "name": "stderr",
     "output_type": "stream",
     "text": [
      "\u001b[36m\u001b[1m[ \u001b[22m\u001b[39m\u001b[36m\u001b[1mInfo: \u001b[22m\u001b[39m         972.7467944s: 16 minutes, 12 seconds, 746 milliseconds\n",
      "\u001b[36m\u001b[1m[ \u001b[22m\u001b[39m\u001b[36m\u001b[1mInfo: \u001b[22m\u001b[39m started timer at: 2024-03-16T21:31:41.509\n"
     ]
    },
    {
     "name": "stdout",
     "output_type": "stream",
     "text": [
      "false\n",
      "60\n",
      "k : 20\n",
      "1\n",
      "-115573.85654048943\n",
      "5218.462143215019\n",
      "-------------------------\n",
      "60\n",
      "K : 22\n"
     ]
    },
    {
     "name": "stderr",
     "output_type": "stream",
     "text": [
      "\u001b[36m\u001b[1m[ \u001b[22m\u001b[39m\u001b[36m\u001b[1mInfo: \u001b[22m\u001b[39m         975.2255565s: 16 minutes, 15 seconds, 225 milliseconds\n",
      "\u001b[36m\u001b[1m[ \u001b[22m\u001b[39m\u001b[36m\u001b[1mInfo: \u001b[22m\u001b[39m started timer at: 2024-03-16T21:47:56.775\n"
     ]
    },
    {
     "name": "stdout",
     "output_type": "stream",
     "text": [
      "[0 -200 -100 -1200 -2000]\n",
      "false\n",
      "60\n",
      "k : 22\n",
      "1\n",
      "-78285.8291365757\n",
      "7151.0228517539745\n",
      "60\n",
      "K : 22\n",
      "[0 -400 -100 -1200 -2000]\n"
     ]
    },
    {
     "name": "stderr",
     "output_type": "stream",
     "text": [
      "\u001b[36m\u001b[1m[ \u001b[22m\u001b[39m\u001b[36m\u001b[1mInfo: \u001b[22m\u001b[39m         972.7554831s: 16 minutes, 12 seconds, 755 milliseconds\n",
      "\u001b[36m\u001b[1m[ \u001b[22m\u001b[39m\u001b[36m\u001b[1mInfo: \u001b[22m\u001b[39m started timer at: 2024-03-16T22:04:09.550\n"
     ]
    },
    {
     "name": "stdout",
     "output_type": "stream",
     "text": [
      "false\n",
      "60\n",
      "k : 22\n",
      "1\n",
      "-86347.23303005003\n",
      "6999.597540506374\n",
      "60\n",
      "K : 22\n",
      "[0 -600 -100 -1200 -2000]\n"
     ]
    },
    {
     "name": "stderr",
     "output_type": "stream",
     "text": [
      "\u001b[36m\u001b[1m[ \u001b[22m\u001b[39m\u001b[36m\u001b[1mInfo: \u001b[22m\u001b[39m         960.2049683s: 16 minutes, 204 milliseconds\n",
      "\u001b[36m\u001b[1m[ \u001b[22m\u001b[39m\u001b[36m\u001b[1mInfo: \u001b[22m\u001b[39m started timer at: 2024-03-16T22:20:09.774\n"
     ]
    },
    {
     "name": "stdout",
     "output_type": "stream",
     "text": [
      "false\n",
      "60\n",
      "k : 22\n",
      "1\n",
      "-93310.33781015604\n",
      "6619.025468383908\n",
      "60\n",
      "K : 22\n",
      "[0 -800 -100 -1200 -2000]\n"
     ]
    },
    {
     "name": "stderr",
     "output_type": "stream",
     "text": [
      "\u001b[36m\u001b[1m[ \u001b[22m\u001b[39m\u001b[36m\u001b[1mInfo: \u001b[22m\u001b[39m         959.8943979s: 15 minutes, 59 seconds, 894 milliseconds\n",
      "\u001b[36m\u001b[1m[ \u001b[22m\u001b[39m\u001b[36m\u001b[1mInfo: \u001b[22m\u001b[39m started timer at: 2024-03-16T22:36:09.687\n"
     ]
    },
    {
     "name": "stdout",
     "output_type": "stream",
     "text": [
      "false\n",
      "60\n",
      "k : 22\n",
      "1\n",
      "-98755.58153698359\n",
      "6264.230478207089\n",
      "60\n",
      "K : 22\n",
      "[0 -1000 -100 -1200 -2000]\n"
     ]
    },
    {
     "name": "stderr",
     "output_type": "stream",
     "text": [
      "\u001b[36m\u001b[1m[ \u001b[22m\u001b[39m\u001b[36m\u001b[1mInfo: \u001b[22m\u001b[39m         959.0153792s: 15 minutes, 59 seconds, 15 milliseconds\n",
      "\u001b[36m\u001b[1m[ \u001b[22m\u001b[39m\u001b[36m\u001b[1mInfo: \u001b[22m\u001b[39m started timer at: 2024-03-16T22:52:08.721\n"
     ]
    },
    {
     "name": "stdout",
     "output_type": "stream",
     "text": [
      "false\n",
      "60\n",
      "k : 22\n",
      "1\n",
      "-102799.4154902812\n",
      "5920.442065564449\n",
      "60\n",
      "K : 22\n",
      "[0 -1200 -100 -1200 -2000]\n"
     ]
    },
    {
     "name": "stderr",
     "output_type": "stream",
     "text": [
      "\u001b[36m\u001b[1m[ \u001b[22m\u001b[39m\u001b[36m\u001b[1mInfo: \u001b[22m\u001b[39m         961.3043355s: 16 minutes, 1 second, 304 milliseconds\n",
      "\u001b[36m\u001b[1m[ \u001b[22m\u001b[39m\u001b[36m\u001b[1mInfo: \u001b[22m\u001b[39m started timer at: 2024-03-16T23:08:10.043\n"
     ]
    },
    {
     "name": "stdout",
     "output_type": "stream",
     "text": [
      "false\n",
      "60\n",
      "k : 22\n",
      "1\n",
      "-105632.83310489435\n",
      "5644.334563645425\n",
      "60\n",
      "K : 22\n",
      "[0 -1400 -100 -1200 -2000]\n"
     ]
    },
    {
     "name": "stderr",
     "output_type": "stream",
     "text": [
      "\u001b[36m\u001b[1m[ \u001b[22m\u001b[39m\u001b[36m\u001b[1mInfo: \u001b[22m\u001b[39m         957.4457251s: 15 minutes, 57 seconds, 445 milliseconds\n",
      "\u001b[36m\u001b[1m[ \u001b[22m\u001b[39m\u001b[36m\u001b[1mInfo: \u001b[22m\u001b[39m started timer at: 2024-03-16T23:24:07.508\n"
     ]
    },
    {
     "name": "stdout",
     "output_type": "stream",
     "text": [
      "false\n",
      "60\n",
      "k : 22\n",
      "1\n",
      "-107746.68224918035\n",
      "5487.218371741967\n",
      "60\n",
      "K : 22\n",
      "[0 -1600 -100 -1200 -2000]\n"
     ]
    },
    {
     "name": "stderr",
     "output_type": "stream",
     "text": [
      "\u001b[36m\u001b[1m[ \u001b[22m\u001b[39m\u001b[36m\u001b[1mInfo: \u001b[22m\u001b[39m         958.6244298s: 15 minutes, 58 seconds, 624 milliseconds\n",
      "\u001b[36m\u001b[1m[ \u001b[22m\u001b[39m\u001b[36m\u001b[1mInfo: \u001b[22m\u001b[39m started timer at: 2024-03-16T23:40:06.151\n"
     ]
    },
    {
     "name": "stdout",
     "output_type": "stream",
     "text": [
      "false\n",
      "60\n",
      "k : 22\n",
      "1\n",
      "-109341.16862034595\n",
      "5362.0334626496615\n",
      "60\n",
      "K : 22\n",
      "[0 -1800 -100 -1200 -2000]\n"
     ]
    },
    {
     "name": "stderr",
     "output_type": "stream",
     "text": [
      "\u001b[36m\u001b[1m[ \u001b[22m\u001b[39m\u001b[36m\u001b[1mInfo: \u001b[22m\u001b[39m         960.4200834s: 16 minutes, 420 milliseconds\n",
      "\u001b[36m\u001b[1m[ \u001b[22m\u001b[39m\u001b[36m\u001b[1mInfo: \u001b[22m\u001b[39m started timer at: 2024-03-16T23:56:06.590\n"
     ]
    },
    {
     "name": "stdout",
     "output_type": "stream",
     "text": [
      "false\n",
      "60\n",
      "k : 22\n",
      "1\n",
      "-110621.27878394099\n",
      "5300.329315758466\n",
      "60\n",
      "K : 22\n",
      "[0 -2000 -100 -1200 -2000]\n"
     ]
    },
    {
     "name": "stderr",
     "output_type": "stream",
     "text": [
      "\u001b[36m\u001b[1m[ \u001b[22m\u001b[39m\u001b[36m\u001b[1mInfo: \u001b[22m\u001b[39m         952.1615451s: 15 minutes, 52 seconds, 161 milliseconds\n",
      "\u001b[36m\u001b[1m[ \u001b[22m\u001b[39m\u001b[36m\u001b[1mInfo: \u001b[22m\u001b[39m started timer at: 2024-03-17T00:11:58.770\n"
     ]
    },
    {
     "name": "stdout",
     "output_type": "stream",
     "text": [
      "false\n",
      "60\n",
      "k : 22\n",
      "1\n",
      "-111651.22027716911\n",
      "5294.44321557897\n",
      "60\n",
      "K : 22\n",
      "[0 -2400 -100 -1200 -2000]\n"
     ]
    },
    {
     "name": "stderr",
     "output_type": "stream",
     "text": [
      "\u001b[36m\u001b[1m[ \u001b[22m\u001b[39m\u001b[36m\u001b[1mInfo: \u001b[22m\u001b[39m         951.7865968s: 15 minutes, 51 seconds, 786 milliseconds\n",
      "\u001b[36m\u001b[1m[ \u001b[22m\u001b[39m\u001b[36m\u001b[1mInfo: \u001b[22m\u001b[39m started timer at: 2024-03-17T00:27:50.573\n"
     ]
    },
    {
     "name": "stdout",
     "output_type": "stream",
     "text": [
      "false\n",
      "60\n",
      "k : 22\n",
      "1\n",
      "-113091.89664980496\n",
      "5115.499754130955\n",
      "60\n",
      "K : 22\n",
      "[0 -2800 -100 -1200 -2000]\n"
     ]
    },
    {
     "name": "stderr",
     "output_type": "stream",
     "text": [
      "\u001b[36m\u001b[1m[ \u001b[22m\u001b[39m\u001b[36m\u001b[1mInfo: \u001b[22m\u001b[39m         958.2677445s: 15 minutes, 58 seconds, 267 milliseconds\n",
      "\u001b[36m\u001b[1m[ \u001b[22m\u001b[39m\u001b[36m\u001b[1mInfo: \u001b[22m\u001b[39m started timer at: 2024-03-17T00:43:48.862\n"
     ]
    },
    {
     "name": "stdout",
     "output_type": "stream",
     "text": [
      "false\n",
      "60\n",
      "k : 22\n",
      "1\n",
      "-114468.84740135264\n",
      "5250.522957314116\n",
      "60\n",
      "K : 22\n",
      "[0 -3200 -100 -1200 -2000]\n"
     ]
    },
    {
     "name": "stderr",
     "output_type": "stream",
     "text": [
      "\u001b[36m\u001b[1m[ \u001b[22m\u001b[39m\u001b[36m\u001b[1mInfo: \u001b[22m\u001b[39m         960.3811144s: 16 minutes, 381 milliseconds\n",
      "\u001b[36m\u001b[1m[ \u001b[22m\u001b[39m\u001b[36m\u001b[1mInfo: \u001b[22m\u001b[39m started timer at: 2024-03-17T00:59:49.272\n"
     ]
    },
    {
     "name": "stdout",
     "output_type": "stream",
     "text": [
      "false\n",
      "60\n",
      "k : 22\n",
      "1\n",
      "-115596.42371834567\n",
      "5208.579849543478\n",
      "-------------------------\n",
      "60\n",
      "K : 24\n",
      "[0 -200 -100 -1200 -2000]\n"
     ]
    },
    {
     "name": "stderr",
     "output_type": "stream",
     "text": [
      "\u001b[36m\u001b[1m[ \u001b[22m\u001b[39m\u001b[36m\u001b[1mInfo: \u001b[22m\u001b[39m         958.0122331s: 15 minutes, 58 seconds, 12 milliseconds\n",
      "\u001b[36m\u001b[1m[ \u001b[22m\u001b[39m\u001b[36m\u001b[1mInfo: \u001b[22m\u001b[39m started timer at: 2024-03-17T01:15:47.303\n"
     ]
    },
    {
     "name": "stdout",
     "output_type": "stream",
     "text": [
      "false\n",
      "60\n",
      "k : 24\n",
      "1\n",
      "-93902.9800345597\n",
      "6622.770012436557\n",
      "60\n",
      "K : 24\n",
      "[0 -400 -100 -1200 -2000]\n"
     ]
    },
    {
     "name": "stderr",
     "output_type": "stream",
     "text": [
      "\u001b[36m\u001b[1m[ \u001b[22m\u001b[39m\u001b[36m\u001b[1mInfo: \u001b[22m\u001b[39m         956.1414723s: 15 minutes, 56 seconds, 141 milliseconds\n",
      "\u001b[36m\u001b[1m[ \u001b[22m\u001b[39m\u001b[36m\u001b[1mInfo: \u001b[22m\u001b[39m started timer at: 2024-03-17T01:31:43.473\n"
     ]
    },
    {
     "name": "stdout",
     "output_type": "stream",
     "text": [
      "false\n",
      "60\n",
      "k : 24\n",
      "1\n",
      "-99013.25446563312\n",
      "6182.26532793228\n",
      "60\n",
      "K : 24\n",
      "[0 -600 -100 -1200 -2000]\n"
     ]
    },
    {
     "name": "stderr",
     "output_type": "stream",
     "text": [
      "\u001b[36m\u001b[1m[ \u001b[22m\u001b[39m\u001b[36m\u001b[1mInfo: \u001b[22m\u001b[39m         956.3364877s: 15 minutes, 56 seconds, 336 milliseconds\n",
      "\u001b[36m\u001b[1m[ \u001b[22m\u001b[39m\u001b[36m\u001b[1mInfo: \u001b[22m\u001b[39m started timer at: 2024-03-17T01:47:39.828\n"
     ]
    },
    {
     "name": "stdout",
     "output_type": "stream",
     "text": [
      "false\n",
      "60\n",
      "k : 24\n",
      "1\n",
      "-102811.42937266335\n",
      "5766.102710965326\n",
      "60\n",
      "K : 24\n",
      "[0 -800 -100 -1200 -2000]\n"
     ]
    },
    {
     "name": "stderr",
     "output_type": "stream",
     "text": [
      "\u001b[36m\u001b[1m[ \u001b[22m\u001b[39m\u001b[36m\u001b[1mInfo: \u001b[22m\u001b[39m         956.7852362s: 15 minutes, 56 seconds, 785 milliseconds\n",
      "\u001b[36m\u001b[1m[ \u001b[22m\u001b[39m\u001b[36m\u001b[1mInfo: \u001b[22m\u001b[39m started timer at: 2024-03-17T02:03:36.632\n"
     ]
    },
    {
     "name": "stdout",
     "output_type": "stream",
     "text": [
      "false\n",
      "60\n",
      "k : 24\n",
      "1\n",
      "-105567.28860594191\n",
      "5587.561502824522\n",
      "60\n",
      "K : 24\n",
      "[0 -1000 -100 -1200 -2000]\n"
     ]
    },
    {
     "name": "stderr",
     "output_type": "stream",
     "text": [
      "\u001b[36m\u001b[1m[ \u001b[22m\u001b[39m\u001b[36m\u001b[1mInfo: \u001b[22m\u001b[39m         956.9889472s: 15 minutes, 56 seconds, 988 milliseconds\n",
      "\u001b[36m\u001b[1m[ \u001b[22m\u001b[39m\u001b[36m\u001b[1mInfo: \u001b[22m\u001b[39m started timer at: 2024-03-17T02:19:33.639\n"
     ]
    },
    {
     "name": "stdout",
     "output_type": "stream",
     "text": [
      "false\n",
      "60\n",
      "k : 24\n",
      "1\n",
      "-107462.3709454873\n",
      "5406.766290081323\n",
      "60\n",
      "K : 24\n",
      "[0 -1200 -100 -1200 -2000]\n"
     ]
    },
    {
     "name": "stderr",
     "output_type": "stream",
     "text": [
      "\u001b[36m\u001b[1m[ \u001b[22m\u001b[39m\u001b[36m\u001b[1mInfo: \u001b[22m\u001b[39m         955.3601384s: 15 minutes, 55 seconds, 360 milliseconds\n",
      "\u001b[36m\u001b[1m[ \u001b[22m\u001b[39m\u001b[36m\u001b[1mInfo: \u001b[22m\u001b[39m started timer at: 2024-03-17T02:35:29.019\n"
     ]
    },
    {
     "name": "stdout",
     "output_type": "stream",
     "text": [
      "false\n",
      "60\n",
      "k : 24\n",
      "1\n",
      "-108766.86257305091\n",
      "5314.345796715427\n",
      "60\n",
      "K : 24\n",
      "[0 -1400 -100 -1200 -2000]\n"
     ]
    },
    {
     "name": "stderr",
     "output_type": "stream",
     "text": [
      "\u001b[36m\u001b[1m[ \u001b[22m\u001b[39m\u001b[36m\u001b[1mInfo: \u001b[22m\u001b[39m         956.2036205s: 15 minutes, 56 seconds, 203 milliseconds\n",
      "\u001b[36m\u001b[1m[ \u001b[22m\u001b[39m\u001b[36m\u001b[1mInfo: \u001b[22m\u001b[39m started timer at: 2024-03-17T02:51:25.241\n"
     ]
    },
    {
     "name": "stdout",
     "output_type": "stream",
     "text": [
      "false\n",
      "60\n",
      "k : 24\n",
      "1\n",
      "-109771.23620174458\n",
      "5210.725821702965\n",
      "60\n",
      "K : 24\n",
      "[0 -1600 -100 -1200 -2000]\n"
     ]
    },
    {
     "name": "stderr",
     "output_type": "stream",
     "text": [
      "\u001b[36m\u001b[1m[ \u001b[22m\u001b[39m\u001b[36m\u001b[1mInfo: \u001b[22m\u001b[39m         951.8097573s: 15 minutes, 51 seconds, 809 milliseconds\n",
      "\u001b[36m\u001b[1m[ \u001b[22m\u001b[39m\u001b[36m\u001b[1mInfo: \u001b[22m\u001b[39m started timer at: 2024-03-17T03:07:17.069\n"
     ]
    },
    {
     "name": "stdout",
     "output_type": "stream",
     "text": [
      "false\n",
      "60\n",
      "k : 24\n",
      "1\n",
      "-110696.85622502543\n",
      "5173.89765472439\n",
      "60\n",
      "K : 24\n",
      "[0 -1800 -100 -1200 -2000]\n"
     ]
    },
    {
     "name": "stderr",
     "output_type": "stream",
     "text": [
      "\u001b[36m\u001b[1m[ \u001b[22m\u001b[39m\u001b[36m\u001b[1mInfo: \u001b[22m\u001b[39m         949.7248092s: 15 minutes, 49 seconds, 724 milliseconds\n",
      "\u001b[36m\u001b[1m[ \u001b[22m\u001b[39m\u001b[36m\u001b[1mInfo: \u001b[22m\u001b[39m started timer at: 2024-03-17T03:23:06.823\n"
     ]
    },
    {
     "name": "stdout",
     "output_type": "stream",
     "text": [
      "false\n",
      "60\n",
      "k : 24\n",
      "1\n",
      "-111463.02577662143\n",
      "5178.860228916293\n",
      "60\n",
      "K : 24\n",
      "[0 -2000 -100 -1200 -2000]\n"
     ]
    },
    {
     "name": "stderr",
     "output_type": "stream",
     "text": [
      "\u001b[36m\u001b[1m[ \u001b[22m\u001b[39m\u001b[36m\u001b[1mInfo: \u001b[22m\u001b[39m         957.9005659s: 15 minutes, 57 seconds, 900 milliseconds\n",
      "\u001b[36m\u001b[1m[ \u001b[22m\u001b[39m\u001b[36m\u001b[1mInfo: \u001b[22m\u001b[39m started timer at: 2024-03-17T03:39:04.751\n"
     ]
    },
    {
     "name": "stdout",
     "output_type": "stream",
     "text": [
      "false\n",
      "60\n",
      "k : 24\n",
      "1\n",
      "-112007.58708327642\n",
      "5161.284877150438\n",
      "60\n",
      "K : 24\n",
      "[0 -2400 -100 -1200 -2000]\n"
     ]
    },
    {
     "name": "stderr",
     "output_type": "stream",
     "text": [
      "\u001b[36m\u001b[1m[ \u001b[22m\u001b[39m\u001b[36m\u001b[1mInfo: \u001b[22m\u001b[39m         958.5618287s: 15 minutes, 58 seconds, 561 milliseconds\n",
      "\u001b[36m\u001b[1m[ \u001b[22m\u001b[39m\u001b[36m\u001b[1mInfo: \u001b[22m\u001b[39m started timer at: 2024-03-17T03:55:03.332\n"
     ]
    },
    {
     "name": "stdout",
     "output_type": "stream",
     "text": [
      "false\n",
      "60\n",
      "k : 24\n",
      "1\n",
      "-113099.73751123762\n",
      "5283.885134337539\n",
      "60\n",
      "K : 24\n",
      "[0 -2800 -100 -1200 -2000]\n"
     ]
    },
    {
     "name": "stderr",
     "output_type": "stream",
     "text": [
      "\u001b[36m\u001b[1m[ \u001b[22m\u001b[39m\u001b[36m\u001b[1mInfo: \u001b[22m\u001b[39m         956.2777614s: 15 minutes, 56 seconds, 277 milliseconds\n",
      "\u001b[36m\u001b[1m[ \u001b[22m\u001b[39m\u001b[36m\u001b[1mInfo: \u001b[22m\u001b[39m started timer at: 2024-03-17T04:10:59.629\n"
     ]
    },
    {
     "name": "stdout",
     "output_type": "stream",
     "text": [
      "false\n",
      "60\n",
      "k : 24\n",
      "1\n",
      "-114209.52212305386\n",
      "5188.536948113704\n",
      "60\n",
      "K : 24\n",
      "[0 -3200 -100 -1200 -2000]\n"
     ]
    },
    {
     "name": "stderr",
     "output_type": "stream",
     "text": [
      "\u001b[36m\u001b[1m[ \u001b[22m\u001b[39m\u001b[36m\u001b[1mInfo: \u001b[22m\u001b[39m         956.8503849s: 15 minutes, 56 seconds, 850 milliseconds\n",
      "\u001b[36m\u001b[1m[ \u001b[22m\u001b[39m\u001b[36m\u001b[1mInfo: \u001b[22m\u001b[39m started timer at: 2024-03-17T04:26:56.498\n"
     ]
    },
    {
     "name": "stdout",
     "output_type": "stream",
     "text": [
      "false\n",
      "60\n",
      "k : 24\n",
      "1\n",
      "-115390.20353522718\n",
      "5274.229725428435\n",
      "-------------------------\n",
      "60\n",
      "K : 26\n",
      "[0 -200"
     ]
    },
    {
     "name": "stderr",
     "output_type": "stream",
     "text": [
      "\u001b[36m\u001b[1m[ \u001b[22m\u001b[39m\u001b[36m\u001b[1mInfo: \u001b[22m\u001b[39m         957.6115094s: 15 minutes, 57 seconds, 611 milliseconds\n",
      "\u001b[36m\u001b[1m[ \u001b[22m\u001b[39m\u001b[36m\u001b[1mInfo: \u001b[22m\u001b[39m started timer at: 2024-03-17T04:42:54.139\n"
     ]
    },
    {
     "name": "stdout",
     "output_type": "stream",
     "text": [
      " -100 -1200 -2000]\n",
      "false\n",
      "60\n",
      "k : 26\n",
      "1\n",
      "-100525.02986388214\n",
      "5768.704316721202\n",
      "60\n",
      "K : 26\n",
      "[0 -400 -100 -1200 -2000]\n"
     ]
    },
    {
     "name": "stderr",
     "output_type": "stream",
     "text": [
      "\u001b[36m\u001b[1m[ \u001b[22m\u001b[39m\u001b[36m\u001b[1mInfo: \u001b[22m\u001b[39m         955.0749094s: 15 minutes, 55 seconds, 74 milliseconds\n",
      "\u001b[36m\u001b[1m[ \u001b[22m\u001b[39m\u001b[36m\u001b[1mInfo: \u001b[22m\u001b[39m started timer at: 2024-03-17T04:58:49.233\n"
     ]
    },
    {
     "name": "stdout",
     "output_type": "stream",
     "text": [
      "false\n",
      "60\n",
      "k : 26\n",
      "1\n",
      "-103725.36484739611\n",
      "5543.430442573852\n",
      "60\n",
      "K : 26\n",
      "[0 -600 -100 -1200 -2000]\n"
     ]
    },
    {
     "name": "stderr",
     "output_type": "stream",
     "text": [
      "\u001b[36m\u001b[1m[ \u001b[22m\u001b[39m\u001b[36m\u001b[1mInfo: \u001b[22m\u001b[39m           956.96212s: 15 minutes, 56 seconds, 962 milliseconds\n",
      "\u001b[36m\u001b[1m[ \u001b[22m\u001b[39m\u001b[36m\u001b[1mInfo: \u001b[22m\u001b[39m started timer at: 2024-03-17T05:14:46.224\n"
     ]
    },
    {
     "name": "stdout",
     "output_type": "stream",
     "text": [
      "false\n",
      "60\n",
      "k : 26\n",
      "1\n",
      "-106050.50437478354\n",
      "5353.728956765077\n",
      "60\n",
      "K : 26\n",
      "[0 -800 -100 -1200 -2000]\n"
     ]
    },
    {
     "name": "stderr",
     "output_type": "stream",
     "text": [
      "\u001b[36m\u001b[1m[ \u001b[22m\u001b[39m\u001b[36m\u001b[1mInfo: \u001b[22m\u001b[39m         957.8054552s: 15 minutes, 57 seconds, 805 milliseconds\n",
      "\u001b[36m\u001b[1m[ \u001b[22m\u001b[39m\u001b[36m\u001b[1mInfo: \u001b[22m\u001b[39m started timer at: 2024-03-17T05:30:44.048\n"
     ]
    },
    {
     "name": "stdout",
     "output_type": "stream",
     "text": [
      "false\n",
      "60\n",
      "k : 26\n",
      "1\n",
      "-107628.62609485415\n",
      "5314.722430054212\n",
      "60\n",
      "K : 26\n",
      "[0 -1000 -100 -1200 -2000]\n"
     ]
    },
    {
     "name": "stderr",
     "output_type": "stream",
     "text": [
      "\u001b[36m\u001b[1m[ \u001b[22m\u001b[39m\u001b[36m\u001b[1mInfo: \u001b[22m\u001b[39m         955.9549306s: 15 minutes, 55 seconds, 954 milliseconds\n",
      "\u001b[36m\u001b[1m[ \u001b[22m\u001b[39m\u001b[36m\u001b[1mInfo: \u001b[22m\u001b[39m started timer at: 2024-03-17T05:46:40.021\n"
     ]
    },
    {
     "name": "stdout",
     "output_type": "stream",
     "text": [
      "false\n",
      "60\n",
      "k : 26\n",
      "1\n",
      "-108717.27347613631\n",
      "5227.509685673747\n",
      "60\n",
      "K : 26\n",
      "[0 -1200 -100 -1200 -2000]\n"
     ]
    },
    {
     "name": "stderr",
     "output_type": "stream",
     "text": [
      "\u001b[36m\u001b[1m[ \u001b[22m\u001b[39m\u001b[36m\u001b[1mInfo: \u001b[22m\u001b[39m         952.9009168s: 15 minutes, 52 seconds, 900 milliseconds\n",
      "\u001b[36m\u001b[1m[ \u001b[22m\u001b[39m\u001b[36m\u001b[1mInfo: \u001b[22m\u001b[39m started timer at: 2024-03-17T06:02:32.941\n"
     ]
    },
    {
     "name": "stdout",
     "output_type": "stream",
     "text": [
      "false\n",
      "60\n",
      "k : 26\n",
      "1\n",
      "-109431.10098243706\n",
      "5204.680097468687\n",
      "60\n",
      "K : 26\n",
      "[0 -1400 -100 -1200 -2000]\n"
     ]
    },
    {
     "name": "stderr",
     "output_type": "stream",
     "text": [
      "\u001b[36m\u001b[1m[ \u001b[22m\u001b[39m\u001b[36m\u001b[1mInfo: \u001b[22m\u001b[39m         949.3337546s: 15 minutes, 49 seconds, 333 milliseconds\n",
      "\u001b[36m\u001b[1m[ \u001b[22m\u001b[39m\u001b[36m\u001b[1mInfo: \u001b[22m\u001b[39m started timer at: 2024-03-17T06:18:22.293\n"
     ]
    },
    {
     "name": "stdout",
     "output_type": "stream",
     "text": [
      "false\n",
      "60\n",
      "k : 26\n",
      "1\n",
      "-110099.76864649214\n",
      "5134.730908924761\n",
      "60\n",
      "K : 26\n",
      "[0 -1600 -100 -1200 -2000]\n"
     ]
    },
    {
     "name": "stderr",
     "output_type": "stream",
     "text": [
      "\u001b[36m\u001b[1m[ \u001b[22m\u001b[39m\u001b[36m\u001b[1mInfo: \u001b[22m\u001b[39m         957.4965159s: 15 minutes, 57 seconds, 496 milliseconds\n",
      "\u001b[36m\u001b[1m[ \u001b[22m\u001b[39m\u001b[36m\u001b[1mInfo: \u001b[22m\u001b[39m started timer at: 2024-03-17T06:34:19.808\n"
     ]
    },
    {
     "name": "stdout",
     "output_type": "stream",
     "text": [
      "false\n",
      "60\n",
      "k : 26\n",
      "1\n",
      "-110756.54711106363\n",
      "5133.96221219614\n",
      "60\n",
      "K : 26\n",
      "[0 -1800 -100 -1200 -2000]\n"
     ]
    },
    {
     "name": "stderr",
     "output_type": "stream",
     "text": [
      "\u001b[36m\u001b[1m[ \u001b[22m\u001b[39m\u001b[36m\u001b[1mInfo: \u001b[22m\u001b[39m         956.5275673s: 15 minutes, 56 seconds, 527 milliseconds\n",
      "\u001b[36m\u001b[1m[ \u001b[22m\u001b[39m\u001b[36m\u001b[1mInfo: \u001b[22m\u001b[39m started timer at: 2024-03-17T06:50:16.366\n"
     ]
    },
    {
     "name": "stdout",
     "output_type": "stream",
     "text": [
      "false\n",
      "60\n",
      "k : 26\n",
      "1\n",
      "-111314.98132034445\n",
      "5175.783772419844\n",
      "60\n",
      "K : 26\n",
      "[0 -2000 -100 -1200 -2000]\n"
     ]
    },
    {
     "name": "stderr",
     "output_type": "stream",
     "text": [
      "\u001b[36m\u001b[1m[ \u001b[22m\u001b[39m\u001b[36m\u001b[1mInfo: \u001b[22m\u001b[39m         956.6708569s: 15 minutes, 56 seconds, 670 milliseconds\n",
      "\u001b[36m\u001b[1m[ \u001b[22m\u001b[39m\u001b[36m\u001b[1mInfo: \u001b[22m\u001b[39m started timer at: 2024-03-17T07:06:13.055\n"
     ]
    },
    {
     "name": "stdout",
     "output_type": "stream",
     "text": [
      "false\n",
      "60\n",
      "k : 26\n",
      "1\n",
      "-111842.066361757\n",
      "5178.264903664031\n",
      "60\n",
      "K : 26\n",
      "[0 -2400 -100 -1200 -2000]\n"
     ]
    },
    {
     "name": "stderr",
     "output_type": "stream",
     "text": [
      "\u001b[36m\u001b[1m[ \u001b[22m\u001b[39m\u001b[36m\u001b[1mInfo: \u001b[22m\u001b[39m         955.8028507s: 15 minutes, 55 seconds, 802 milliseconds\n",
      "\u001b[36m\u001b[1m[ \u001b[22m\u001b[39m\u001b[36m\u001b[1mInfo: \u001b[22m\u001b[39m started timer at: 2024-03-17T07:22:08.877\n"
     ]
    },
    {
     "name": "stdout",
     "output_type": "stream",
     "text": [
      "false\n",
      "60\n",
      "k : 26\n",
      "1\n",
      "-112809.18976549835\n",
      "5239.6536395699595\n",
      "60\n",
      "K : 26\n",
      "[0 -2800 -100 -1200 -2000]\n"
     ]
    },
    {
     "name": "stderr",
     "output_type": "stream",
     "text": [
      "\u001b[36m\u001b[1m[ \u001b[22m\u001b[39m\u001b[36m\u001b[1mInfo: \u001b[22m\u001b[39m         956.5262586s: 15 minutes, 56 seconds, 526 milliseconds\n",
      "\u001b[36m\u001b[1m[ \u001b[22m\u001b[39m\u001b[36m\u001b[1mInfo: \u001b[22m\u001b[39m started timer at: 2024-03-17T07:38:05.420\n"
     ]
    },
    {
     "name": "stdout",
     "output_type": "stream",
     "text": [
      "false\n",
      "60\n",
      "k : 26\n",
      "1\n",
      "-113887.578031738\n",
      "5215.761101106562\n",
      "60\n",
      "K : 26\n",
      "[0 -3200 -100 -1200 -2000]\n"
     ]
    },
    {
     "name": "stderr",
     "output_type": "stream",
     "text": [
      "\u001b[36m\u001b[1m[ \u001b[22m\u001b[39m\u001b[36m\u001b[1mInfo: \u001b[22m\u001b[39m         955.5900678s: 15 minutes, 55 seconds, 590 milliseconds\n",
      "\u001b[36m\u001b[1m[ \u001b[22m\u001b[39m\u001b[36m\u001b[1mInfo: \u001b[22m\u001b[39m started timer at: 2024-03-17T07:54:01.029\n"
     ]
    },
    {
     "name": "stdout",
     "output_type": "stream",
     "text": [
      "false\n",
      "60\n",
      "k : 26\n",
      "1\n",
      "-114829.87283096965\n",
      "5176.051002059303\n",
      "-------------------------\n",
      "60\n",
      "K : 28\n",
      "[0 -200 -100 -1200 -2000]\n"
     ]
    },
    {
     "name": "stderr",
     "output_type": "stream",
     "text": [
      "\u001b[36m\u001b[1m[ \u001b[22m\u001b[39m\u001b[36m\u001b[1mInfo: \u001b[22m\u001b[39m          958.717048s: 15 minutes, 58 seconds, 717 milliseconds\n",
      "\u001b[36m\u001b[1m[ \u001b[22m\u001b[39m\u001b[36m\u001b[1mInfo: \u001b[22m\u001b[39m started timer at: 2024-03-17T08:09:59.766\n"
     ]
    },
    {
     "name": "stdout",
     "output_type": "stream",
     "text": [
      "false\n",
      "60\n",
      "k : 28\n",
      "1\n",
      "-102967.11321813708\n",
      "5387.601662154766\n",
      "60\n",
      "K : 28\n",
      "[0 -400 -100 -1200 -2000]\n"
     ]
    },
    {
     "name": "stderr",
     "output_type": "stream",
     "text": [
      "\u001b[36m\u001b[1m[ \u001b[22m\u001b[39m\u001b[36m\u001b[1mInfo: \u001b[22m\u001b[39m         959.0457956s: 15 minutes, 59 seconds, 45 milliseconds\n",
      "\u001b[36m\u001b[1m[ \u001b[22m\u001b[39m\u001b[36m\u001b[1mInfo: \u001b[22m\u001b[39m started timer at: 2024-03-17T08:25:58.830\n"
     ]
    },
    {
     "name": "stdout",
     "output_type": "stream",
     "text": [
      "false\n",
      "60\n",
      "k : 28\n",
      "1\n",
      "-105314.2176310721\n",
      "5278.271815110735\n",
      "60\n",
      "K : 28\n",
      "[0 -600 -100 -1200 -2000]\n"
     ]
    },
    {
     "name": "stderr",
     "output_type": "stream",
     "text": [
      "\u001b[36m\u001b[1m[ \u001b[22m\u001b[39m\u001b[36m\u001b[1mInfo: \u001b[22m\u001b[39m         955.9355403s: 15 minutes, 55 seconds, 935 milliseconds\n",
      "\u001b[36m\u001b[1m[ \u001b[22m\u001b[39m\u001b[36m\u001b[1mInfo: \u001b[22m\u001b[39m started timer at: 2024-03-17T08:41:54.785\n"
     ]
    },
    {
     "name": "stdout",
     "output_type": "stream",
     "text": [
      "false\n",
      "60\n",
      "k : 28\n",
      "1\n",
      "-106974.10186633228\n",
      "5268.0264459533955\n",
      "60\n",
      "K : 28\n",
      "[0 -800 -100 -1200 -2000]\n"
     ]
    },
    {
     "name": "stderr",
     "output_type": "stream",
     "text": [
      "\u001b[36m\u001b[1m[ \u001b[22m\u001b[39m\u001b[36m\u001b[1mInfo: \u001b[22m\u001b[39m         950.9791388s: 15 minutes, 50 seconds, 979 milliseconds\n",
      "\u001b[36m\u001b[1m[ \u001b[22m\u001b[39m\u001b[36m\u001b[1mInfo: \u001b[22m\u001b[39m started timer at: 2024-03-17T08:57:45.782\n"
     ]
    },
    {
     "name": "stdout",
     "output_type": "stream",
     "text": [
      "false\n",
      "60\n",
      "k : 28\n",
      "1\n",
      "-107894.415445765\n",
      "5224.174125108358\n",
      "60\n",
      "K : 28\n",
      "[0 -1000 -100 -1200 -2000]\n"
     ]
    },
    {
     "name": "stderr",
     "output_type": "stream",
     "text": [
      "\u001b[36m\u001b[1m[ \u001b[22m\u001b[39m\u001b[36m\u001b[1mInfo: \u001b[22m\u001b[39m         948.8378803s: 15 minutes, 48 seconds, 837 milliseconds\n",
      "\u001b[36m\u001b[1m[ \u001b[22m\u001b[39m\u001b[36m\u001b[1mInfo: \u001b[22m\u001b[39m started timer at: 2024-03-17T09:13:34.639\n"
     ]
    },
    {
     "name": "stdout",
     "output_type": "stream",
     "text": [
      "false\n",
      "60\n",
      "k : 28\n",
      "1\n",
      "-108641.38621451793\n",
      "5223.9937364578755\n",
      "60\n",
      "K : 28\n",
      "[0 -1200 -100 -1200 -2000]\n"
     ]
    },
    {
     "name": "stderr",
     "output_type": "stream",
     "text": [
      "\u001b[36m\u001b[1m[ \u001b[22m\u001b[39m\u001b[36m\u001b[1mInfo: \u001b[22m\u001b[39m         957.2487924s: 15 minutes, 57 seconds, 248 milliseconds\n",
      "\u001b[36m\u001b[1m[ \u001b[22m\u001b[39m\u001b[36m\u001b[1mInfo: \u001b[22m\u001b[39m started timer at: 2024-03-17T09:29:31.905\n"
     ]
    },
    {
     "name": "stdout",
     "output_type": "stream",
     "text": [
      "false\n",
      "60\n",
      "k : 28\n",
      "1\n",
      "-109185.00846485414\n",
      "5115.6909376249805\n",
      "60\n",
      "K : 28\n",
      "[0 -1400 -100 -1200 -2000]\n"
     ]
    },
    {
     "name": "stderr",
     "output_type": "stream",
     "text": [
      "\u001b[36m\u001b[1m[ \u001b[22m\u001b[39m\u001b[36m\u001b[1mInfo: \u001b[22m\u001b[39m         958.3706012s: 15 minutes, 58 seconds, 370 milliseconds\n",
      "\u001b[36m\u001b[1m[ \u001b[22m\u001b[39m\u001b[36m\u001b[1mInfo: \u001b[22m\u001b[39m started timer at: 2024-03-17T09:45:30.295\n"
     ]
    },
    {
     "name": "stdout",
     "output_type": "stream",
     "text": [
      "false\n",
      "60\n",
      "k : 28\n",
      "1\n",
      "-109876.11279178651\n",
      "5147.684438723982\n",
      "60\n",
      "K : 28\n",
      "[0 -1600 -100 -1200 -2000]\n"
     ]
    },
    {
     "name": "stderr",
     "output_type": "stream",
     "text": [
      "\u001b[36m\u001b[1m[ \u001b[22m\u001b[39m\u001b[36m\u001b[1mInfo: \u001b[22m\u001b[39m         956.8433294s: 15 minutes, 56 seconds, 843 milliseconds\n",
      "\u001b[36m\u001b[1m[ \u001b[22m\u001b[39m\u001b[36m\u001b[1mInfo: \u001b[22m\u001b[39m started timer at: 2024-03-17T10:01:27.157\n"
     ]
    },
    {
     "name": "stdout",
     "output_type": "stream",
     "text": [
      "false\n",
      "60\n",
      "k : 28\n",
      "1\n",
      "-110322.39458748067\n",
      "5155.687608352321\n"
     ]
    },
    {
     "name": "stderr",
     "output_type": "stream",
     "text": [
      "\u001b[36m\u001b[1m[ \u001b[22m\u001b[39m\u001b[36m\u001b[1mInfo: \u001b[22m\u001b[39m         959.2675445s: 15 minutes, 59 seconds, 267 milliseconds\n"
     ]
    },
    {
     "name": "stdout",
     "output_type": "stream",
     "text": [
      "60\n",
      "K : 28\n",
      "[0 -1800 -100 -1200 -2000]\n"
     ]
    },
    {
     "name": "stderr",
     "output_type": "stream",
     "text": [
      "\u001b[36m\u001b[1m[ \u001b[22m\u001b[39m\u001b[36m\u001b[1mInfo: \u001b[22m\u001b[39m started timer at: 2024-03-17T10:17:26.454\n"
     ]
    },
    {
     "name": "stdout",
     "output_type": "stream",
     "text": [
      "false\n",
      "60\n",
      "k : 28\n",
      "1\n",
      "-110791.68808114767\n",
      "5255.23206581676\n"
     ]
    },
    {
     "name": "stderr",
     "output_type": "stream",
     "text": [
      "\u001b[36m\u001b[1m[ \u001b[22m\u001b[39m\u001b[36m\u001b[1mInfo: \u001b[22m\u001b[39m         957.2648032s: 15 minutes, 57 seconds, 264 milliseconds\n"
     ]
    },
    {
     "name": "stdout",
     "output_type": "stream",
     "text": [
      "60\n",
      "K : 28\n",
      "[0 -2000 -100 -1200 -2000]\n"
     ]
    },
    {
     "name": "stderr",
     "output_type": "stream",
     "text": [
      "\u001b[36m\u001b[1m[ \u001b[22m\u001b[39m\u001b[36m\u001b[1mInfo: \u001b[22m\u001b[39m started timer at: 2024-03-17T10:33:23.748\n"
     ]
    },
    {
     "name": "stdout",
     "output_type": "stream",
     "text": [
      "false\n",
      "60\n",
      "k : 28\n",
      "1\n",
      "-111289.13943826416\n",
      "5160.0087049317735\n",
      "60\n",
      "K : 28\n",
      "[0 -2400 -100 -1200 -2000]\n"
     ]
    },
    {
     "name": "stderr",
     "output_type": "stream",
     "text": [
      "\u001b[36m\u001b[1m[ \u001b[22m\u001b[39m\u001b[36m\u001b[1mInfo: \u001b[22m\u001b[39m         957.6888044s: 15 minutes, 57 seconds, 688 milliseconds\n",
      "\u001b[36m\u001b[1m[ \u001b[22m\u001b[39m\u001b[36m\u001b[1mInfo: \u001b[22m\u001b[39m started timer at: 2024-03-17T10:49:21.466\n"
     ]
    },
    {
     "name": "stdout",
     "output_type": "stream",
     "text": [
      "false\n",
      "60\n",
      "k : 28\n",
      "1\n",
      "-112262.80360200681\n",
      "5269.214604343458\n",
      "60\n",
      "K : 28\n",
      "[0 -2800 -100 -1200 -2000]\n"
     ]
    },
    {
     "name": "stderr",
     "output_type": "stream",
     "text": [
      "\u001b[36m\u001b[1m[ \u001b[22m\u001b[39m\u001b[36m\u001b[1mInfo: \u001b[22m\u001b[39m         954.1210714s: 15 minutes, 54 seconds, 121 milliseconds\n",
      "\u001b[36m\u001b[1m[ \u001b[22m\u001b[39m\u001b[36m\u001b[1mInfo: \u001b[22m\u001b[39m started timer at: 2024-03-17T11:05:15.617\n"
     ]
    },
    {
     "name": "stdout",
     "output_type": "stream",
     "text": [
      "false\n",
      "60\n",
      "k : 28\n",
      "1\n",
      "-113312.3664937223\n",
      "5335.093325113616\n",
      "60\n",
      "K : 28\n",
      "[0 -3200 -100 -1200 -2000]\n"
     ]
    },
    {
     "name": "stderr",
     "output_type": "stream",
     "text": [
      "\u001b[36m\u001b[1m[ \u001b[22m\u001b[39m\u001b[36m\u001b[1mInfo: \u001b[22m\u001b[39m         958.5116965s: 15 minutes, 58 seconds, 511 milliseconds\n",
      "\u001b[36m\u001b[1m[ \u001b[22m\u001b[39m\u001b[36m\u001b[1mInfo: \u001b[22m\u001b[39m started timer at: 2024-03-17T11:21:14.147\n"
     ]
    },
    {
     "name": "stdout",
     "output_type": "stream",
     "text": [
      "false\n",
      "60\n",
      "k : 28\n",
      "1\n",
      "-114212.95015754404\n",
      "5344.4215154735175\n",
      "-------------------------\n",
      "60\n",
      "K : 30\n",
      "[0 -200 -100 -1200 -2000]\n"
     ]
    },
    {
     "name": "stderr",
     "output_type": "stream",
     "text": [
      "\u001b[36m\u001b[1m[ \u001b[22m\u001b[39m\u001b[36m\u001b[1mInfo: \u001b[22m\u001b[39m          955.607637s: 15 minutes, 55 seconds, 607 milliseconds\n",
      "\u001b[36m\u001b[1m[ \u001b[22m\u001b[39m\u001b[36m\u001b[1mInfo: \u001b[22m\u001b[39m started timer at: 2024-03-17T11:37:09.773\n"
     ]
    },
    {
     "name": "stdout",
     "output_type": "stream",
     "text": [
      "false\n",
      "60\n",
      "k : 30\n",
      "1\n",
      "-103856.48898147285\n",
      "5381.7370473403835\n",
      "60\n",
      "K : 30\n",
      "[0 -400 -100 -1200 -2000]\n"
     ]
    },
    {
     "name": "stderr",
     "output_type": "stream",
     "text": [
      "\u001b[36m\u001b[1m[ \u001b[22m\u001b[39m\u001b[36m\u001b[1mInfo: \u001b[22m\u001b[39m         954.9788204s: 15 minutes, 54 seconds, 978 milliseconds\n",
      "\u001b[36m\u001b[1m[ \u001b[22m\u001b[39m\u001b[36m\u001b[1mInfo: \u001b[22m\u001b[39m started timer at: 2024-03-17T11:53:04.771\n"
     ]
    },
    {
     "name": "stdout",
     "output_type": "stream",
     "text": [
      "false\n",
      "60\n",
      "k : 30\n",
      "1\n",
      "-105771.43402085984\n",
      "5196.856735224796\n",
      "60\n",
      "K : 30\n",
      "[0 -600 -100 -1200 -2000]\n"
     ]
    },
    {
     "name": "stderr",
     "output_type": "stream",
     "text": [
      "\u001b[36m\u001b[1m[ \u001b[22m\u001b[39m\u001b[36m\u001b[1mInfo: \u001b[22m\u001b[39m          948.528802s: 15 minutes, 48 seconds, 528 milliseconds\n",
      "\u001b[36m\u001b[1m[ \u001b[22m\u001b[39m\u001b[36m\u001b[1mInfo: \u001b[22m\u001b[39m started timer at: 2024-03-17T12:08:53.318\n"
     ]
    },
    {
     "name": "stdout",
     "output_type": "stream",
     "text": [
      "false\n",
      "60\n",
      "k : 30\n",
      "1\n",
      "-106903.02925905152\n",
      "5275.065454844628\n",
      "60\n",
      "K : "
     ]
    },
    {
     "name": "stderr",
     "output_type": "stream",
     "text": [
      "\u001b[36m\u001b[1m[ \u001b[22m\u001b[39m\u001b[36m\u001b[1mInfo: \u001b[22m\u001b[39m         954.3242999s: 15 minutes, 54 seconds, 324 milliseconds\n",
      "\u001b[36m\u001b[1m[ \u001b[22m\u001b[39m\u001b[36m\u001b[1mInfo: \u001b[22m\u001b[39m started timer at: 2024-03-17T12:24:47.660\n"
     ]
    },
    {
     "name": "stdout",
     "output_type": "stream",
     "text": [
      "30\n",
      "[0 -800 -100 -1200 -2000]\n",
      "false\n",
      "60\n",
      "k : 30\n",
      "1\n",
      "-107701.2584696427\n",
      "5210.655212098252\n",
      "60\n",
      "K : 30\n"
     ]
    },
    {
     "name": "stderr",
     "output_type": "stream",
     "text": [
      "\u001b[36m\u001b[1m[ \u001b[22m\u001b[39m\u001b[36m\u001b[1mInfo: \u001b[22m\u001b[39m         955.8848978s: 15 minutes, 55 seconds, 884 milliseconds\n",
      "\u001b[36m\u001b[1m[ \u001b[22m\u001b[39m\u001b[36m\u001b[1mInfo: \u001b[22m\u001b[39m started timer at: 2024-03-17T12:40:43.564\n"
     ]
    },
    {
     "name": "stdout",
     "output_type": "stream",
     "text": [
      "[0 -1000 -100 -1200 -2000]\n",
      "false\n",
      "60\n",
      "k : 30\n",
      "1\n",
      "-108164.96780533342\n",
      "5183.941376467451\n",
      "60\n",
      "K : 30\n",
      "[0 -1200 -100 -1200 -2000]\n"
     ]
    },
    {
     "name": "stderr",
     "output_type": "stream",
     "text": [
      "\u001b[36m\u001b[1m[ \u001b[22m\u001b[39m\u001b[36m\u001b[1mInfo: \u001b[22m\u001b[39m          956.618592s: 15 minutes, 56 seconds, 618 milliseconds\n",
      "\u001b[36m\u001b[1m[ \u001b[22m\u001b[39m\u001b[36m\u001b[1mInfo: \u001b[22m\u001b[39m started timer at: 2024-03-17T12:56:40.200\n"
     ]
    },
    {
     "name": "stdout",
     "output_type": "stream",
     "text": [
      "false\n",
      "60\n",
      "k : 30\n",
      "1\n",
      "-108623.96757207937\n",
      "5187.975939260143\n",
      "60\n",
      "K : 30\n",
      "[0 -1400 -100 -1200 -2000]\n"
     ]
    },
    {
     "name": "stderr",
     "output_type": "stream",
     "text": [
      "\u001b[36m\u001b[1m[ \u001b[22m\u001b[39m\u001b[36m\u001b[1mInfo: \u001b[22m\u001b[39m         957.2020462s: 15 minutes, 57 seconds, 202 milliseconds\n",
      "\u001b[36m\u001b[1m[ \u001b[22m\u001b[39m\u001b[36m\u001b[1mInfo: \u001b[22m\u001b[39m started timer at: 2024-03-17T13:12:37.421\n"
     ]
    },
    {
     "name": "stdout",
     "output_type": "stream",
     "text": [
      "false\n",
      "60\n",
      "k : 30\n",
      "1\n",
      "-109011.12175350492\n",
      "5243.512247678707\n",
      "60\n",
      "K : 30\n",
      "[0 -1600 -100 -1200 -2000]\n"
     ]
    },
    {
     "name": "stderr",
     "output_type": "stream",
     "text": [
      "\u001b[36m\u001b[1m[ \u001b[22m\u001b[39m\u001b[36m\u001b[1mInfo: \u001b[22m\u001b[39m         955.4574405s: 15 minutes, 55 seconds, 457 milliseconds\n",
      "\u001b[36m\u001b[1m[ \u001b[22m\u001b[39m\u001b[36m\u001b[1mInfo: \u001b[22m\u001b[39m started timer at: 2024-03-17T13:28:32.897\n"
     ]
    },
    {
     "name": "stdout",
     "output_type": "stream",
     "text": [
      "false\n",
      "60\n",
      "k : 30\n",
      "1\n",
      "-109568.88441858985\n",
      "5217.295833014981\n",
      "60\n",
      "K : 30\n",
      "[0 -1800 -100 -1200 -2000]\n"
     ]
    },
    {
     "name": "stderr",
     "output_type": "stream",
     "text": [
      "\u001b[36m\u001b[1m[ \u001b[22m\u001b[39m\u001b[36m\u001b[1mInfo: \u001b[22m\u001b[39m         959.9728018s: 15 minutes, 59 seconds, 972 milliseconds\n",
      "\u001b[36m\u001b[1m[ \u001b[22m\u001b[39m\u001b[36m\u001b[1mInfo: \u001b[22m\u001b[39m started timer at: 2024-03-17T13:44:32.890\n"
     ]
    },
    {
     "name": "stdout",
     "output_type": "stream",
     "text": [
      "false\n",
      "60\n",
      "k : 30\n",
      "1\n",
      "-110052.04547424961\n",
      "5216.707946955358\n",
      "60\n",
      "K : 30\n",
      "[0 -2000 -100 -1200 -2000]\n"
     ]
    },
    {
     "name": "stderr",
     "output_type": "stream",
     "text": [
      "\u001b[36m\u001b[1m[ \u001b[22m\u001b[39m\u001b[36m\u001b[1mInfo: \u001b[22m\u001b[39m         955.8507151s: 15 minutes, 55 seconds, 850 milliseconds\n",
      "\u001b[36m\u001b[1m[ \u001b[22m\u001b[39m\u001b[36m\u001b[1mInfo: \u001b[22m\u001b[39m started timer at: 2024-03-17T14:00:28.769\n"
     ]
    },
    {
     "name": "stdout",
     "output_type": "stream",
     "text": [
      "false\n",
      "60\n",
      "k : 30\n",
      "1\n",
      "-110524.75860341311\n",
      "5277.388392977385\n",
      "60\n",
      "K : 30\n",
      "[0 -2400 -100 -1200 -2000]\n"
     ]
    },
    {
     "name": "stderr",
     "output_type": "stream",
     "text": [
      "\u001b[36m\u001b[1m[ \u001b[22m\u001b[39m\u001b[36m\u001b[1mInfo: \u001b[22m\u001b[39m         955.2751923s: 15 minutes, 55 seconds, 275 milliseconds\n",
      "\u001b[36m\u001b[1m[ \u001b[22m\u001b[39m\u001b[36m\u001b[1mInfo: \u001b[22m\u001b[39m started timer at: 2024-03-17T14:16:24.073\n"
     ]
    },
    {
     "name": "stdout",
     "output_type": "stream",
     "text": [
      "false\n",
      "60\n",
      "k : 30\n",
      "1\n",
      "-111373.8745004646\n",
      "5289.688370419023\n",
      "60\n",
      "K : 30\n",
      "[0 -2800 -100 -1200 -2000]\n"
     ]
    },
    {
     "name": "stderr",
     "output_type": "stream",
     "text": [
      "\u001b[36m\u001b[1m[ \u001b[22m\u001b[39m\u001b[36m\u001b[1mInfo: \u001b[22m\u001b[39m         957.1938622s: 15 minutes, 57 seconds, 193 milliseconds\n",
      "\u001b[36m\u001b[1m[ \u001b[22m\u001b[39m\u001b[36m\u001b[1mInfo: \u001b[22m\u001b[39m started timer at: 2024-03-17T14:32:21.285\n"
     ]
    },
    {
     "name": "stdout",
     "output_type": "stream",
     "text": [
      "false\n",
      "60\n",
      "k : 30\n",
      "1\n",
      "-112387.14725598914\n",
      "5328.420157485689\n",
      "60\n",
      "K : 30\n",
      "[0 -3200 -100 -1200 -2000]\n"
     ]
    },
    {
     "name": "stderr",
     "output_type": "stream",
     "text": [
      "\u001b[36m\u001b[1m[ \u001b[22m\u001b[39m\u001b[36m\u001b[1mInfo: \u001b[22m\u001b[39m         950.2554299s: 15 minutes, 50 seconds, 255 milliseconds\n",
      "\u001b[36m\u001b[1m[ \u001b[22m\u001b[39m\u001b[36m\u001b[1mInfo: \u001b[22m\u001b[39m started timer at: 2024-03-17T14:48:11.560\n"
     ]
    },
    {
     "name": "stdout",
     "output_type": "stream",
     "text": [
      "false\n",
      "60\n",
      "k : 30\n",
      "1\n",
      "-113173.07057174727\n",
      "5397.191272444257\n",
      "-------------------------\n",
      "50\n",
      "K : 2\n",
      "[0 -200 -100 -1200 -2000]\n"
     ]
    },
    {
     "name": "stderr",
     "output_type": "stream",
     "text": [
      "\u001b[36m\u001b[1m[ \u001b[22m\u001b[39m\u001b[36m\u001b[1mInfo: \u001b[22m\u001b[39m         955.5534527s: 15 minutes, 55 seconds, 553 milliseconds\n",
      "\u001b[36m\u001b[1m[ \u001b[22m\u001b[39m\u001b[36m\u001b[1mInfo: \u001b[22m\u001b[39m started timer at: 2024-03-17T15:04:07.132\n"
     ]
    },
    {
     "name": "stdout",
     "output_type": "stream",
     "text": [
      "false\n",
      "50\n",
      "k : 2\n",
      "1\n",
      "-63664.37347258401\n",
      "4053.1828386970797\n",
      "50\n",
      "K : 2\n",
      "[0 -400 -100 -1200 -2000]\n"
     ]
    },
    {
     "name": "stderr",
     "output_type": "stream",
     "text": [
      "\u001b[36m\u001b[1m[ \u001b[22m\u001b[39m\u001b[36m\u001b[1mInfo: \u001b[22m\u001b[39m         796.8529532s: 13 minutes, 16 seconds, 852 milliseconds\n",
      "\u001b[36m\u001b[1m[ \u001b[22m\u001b[39m\u001b[36m\u001b[1mInfo: \u001b[22m\u001b[39m started timer at: 2024-03-17T15:17:24\n"
     ]
    },
    {
     "name": "stdout",
     "output_type": "stream",
     "text": [
      "false\n",
      "50\n",
      "k : 2\n",
      "1\n",
      "-66867.92113360541\n",
      "3987.945826112427\n",
      "50\n",
      "K : 2\n",
      "[0 -600 -100 -1200 -2000]\n"
     ]
    },
    {
     "name": "stderr",
     "output_type": "stream",
     "text": [
      "\u001b[36m\u001b[1m[ \u001b[22m\u001b[39m\u001b[36m\u001b[1mInfo: \u001b[22m\u001b[39m         798.7856582s: 13 minutes, 18 seconds, 785 milliseconds\n",
      "\u001b[36m\u001b[1m[ \u001b[22m\u001b[39m\u001b[36m\u001b[1mInfo: \u001b[22m\u001b[39m started timer at: 2024-03-17T15:30:42.801\n"
     ]
    },
    {
     "name": "stdout",
     "output_type": "stream",
     "text": [
      "false\n",
      "50\n",
      "k : 2\n",
      "1\n",
      "-70683.48326308861\n",
      "3998.6922096266026\n",
      "50\n",
      "K : 2\n",
      "[0 -800 -100 -1200 -2000]\n"
     ]
    },
    {
     "name": "stderr",
     "output_type": "stream",
     "text": [
      "\u001b[36m\u001b[1m[ \u001b[22m\u001b[39m\u001b[36m\u001b[1mInfo: \u001b[22m\u001b[39m         800.0634529s: 13 minutes, 20 seconds, 63 milliseconds\n",
      "\u001b[36m\u001b[1m[ \u001b[22m\u001b[39m\u001b[36m\u001b[1mInfo: \u001b[22m\u001b[39m started timer at: 2024-03-17T15:44:02.881\n"
     ]
    },
    {
     "name": "stdout",
     "output_type": "stream",
     "text": [
      "false\n",
      "50\n",
      "k : 2\n",
      "1\n",
      "-74512.52446316568\n",
      "4059.454046685533\n",
      "50\n",
      "K : 2\n",
      "[0 -1000 -100 -1200 -2000]\n"
     ]
    },
    {
     "name": "stderr",
     "output_type": "stream",
     "text": [
      "\u001b[36m\u001b[1m[ \u001b[22m\u001b[39m\u001b[36m\u001b[1mInfo: \u001b[22m\u001b[39m         798.8101458s: 13 minutes, 18 seconds, 810 milliseconds\n",
      "\u001b[36m\u001b[1m[ \u001b[22m\u001b[39m\u001b[36m\u001b[1mInfo: \u001b[22m\u001b[39m started timer at: 2024-03-17T15:57:21.707\n"
     ]
    },
    {
     "name": "stdout",
     "output_type": "stream",
     "text": [
      "false\n",
      "50\n",
      "k : 2\n",
      "1\n",
      "-78372.76259556013\n",
      "4262.399757819007\n",
      "50\n",
      "K : 2\n",
      "[0 -1200 -100 -1200 -2000]\n"
     ]
    },
    {
     "name": "stderr",
     "output_type": "stream",
     "text": [
      "\u001b[36m\u001b[1m[ \u001b[22m\u001b[39m\u001b[36m\u001b[1mInfo: \u001b[22m\u001b[39m         796.7372327s: 13 minutes, 16 seconds, 737 milliseconds\n",
      "\u001b[36m\u001b[1m[ \u001b[22m\u001b[39m\u001b[36m\u001b[1mInfo: \u001b[22m\u001b[39m started timer at: 2024-03-17T16:10:38.459\n"
     ]
    },
    {
     "name": "stdout",
     "output_type": "stream",
     "text": [
      "false\n",
      "50\n",
      "k : 2\n",
      "1\n",
      "-82294.21144208209\n",
      "4409.246946881665\n",
      "50\n",
      "K : 2\n",
      "[0 -1400 -100 -1200 -2000]\n"
     ]
    },
    {
     "name": "stderr",
     "output_type": "stream",
     "text": [
      "\u001b[36m\u001b[1m[ \u001b[22m\u001b[39m\u001b[36m\u001b[1mInfo: \u001b[22m\u001b[39m         800.4219172s: 13 minutes, 20 seconds, 421 milliseconds\n",
      "\u001b[36m\u001b[1m[ \u001b[22m\u001b[39m\u001b[36m\u001b[1mInfo: \u001b[22m\u001b[39m started timer at: 2024-03-17T16:23:58.908\n"
     ]
    },
    {
     "name": "stdout",
     "output_type": "stream",
     "text": [
      "false\n",
      "50\n",
      "k : 2\n",
      "1\n",
      "-85868.8843262938\n",
      "4628.380539674318\n",
      "50\n",
      "K : 2\n",
      "[0 -1600 -100 -1200 -2000]\n"
     ]
    },
    {
     "name": "stderr",
     "output_type": "stream",
     "text": [
      "\u001b[36m\u001b[1m[ \u001b[22m\u001b[39m\u001b[36m\u001b[1mInfo: \u001b[22m\u001b[39m         798.0659155s: 13 minutes, 18 seconds, 65 milliseconds\n",
      "\u001b[36m\u001b[1m[ \u001b[22m\u001b[39m\u001b[36m\u001b[1mInfo: \u001b[22m\u001b[39m started timer at: 2024-03-17T16:37:16.988\n"
     ]
    },
    {
     "name": "stdout",
     "output_type": "stream",
     "text": [
      "false\n",
      "50\n",
      "k : 2\n",
      "1\n",
      "-88986.03503818712\n",
      "4853.035881141802\n",
      "50\n",
      "K : 2\n",
      "[0 -1800 -100 -1200 -2000]\n"
     ]
    },
    {
     "name": "stderr",
     "output_type": "stream",
     "text": [
      "\u001b[36m\u001b[1m[ \u001b[22m\u001b[39m\u001b[36m\u001b[1mInfo: \u001b[22m\u001b[39m         797.9726774s: 13 minutes, 17 seconds, 972 milliseconds\n",
      "\u001b[36m\u001b[1m[ \u001b[22m\u001b[39m\u001b[36m\u001b[1mInfo: \u001b[22m\u001b[39m started timer at: 2024-03-17T16:50:34.988\n"
     ]
    },
    {
     "name": "stdout",
     "output_type": "stream",
     "text": [
      "false\n",
      "50\n",
      "k : 2\n",
      "1\n",
      "-91887.73706906926\n",
      "5006.781355401836\n",
      "50\n",
      "K : 2\n",
      "[0 -2000 -100 -1200 -2000]\n"
     ]
    },
    {
     "name": "stderr",
     "output_type": "stream",
     "text": [
      "\u001b[36m\u001b[1m[ \u001b[22m\u001b[39m\u001b[36m\u001b[1mInfo: \u001b[22m\u001b[39m         796.6226249s: 13 minutes, 16 seconds, 622 milliseconds\n",
      "\u001b[36m\u001b[1m[ \u001b[22m\u001b[39m\u001b[36m\u001b[1mInfo: \u001b[22m\u001b[39m started timer at: 2024-03-17T17:03:51.625\n"
     ]
    },
    {
     "name": "stdout",
     "output_type": "stream",
     "text": [
      "false\n",
      "50\n",
      "k : 2\n",
      "1\n",
      "-94194.94852089524\n",
      "5143.257402750472\n",
      "50\n",
      "K : 2\n",
      "[0 -2400 -100 -1200 -2000]\n"
     ]
    },
    {
     "name": "stderr",
     "output_type": "stream",
     "text": [
      "\u001b[36m\u001b[1m[ \u001b[22m\u001b[39m\u001b[36m\u001b[1mInfo: \u001b[22m\u001b[39m         794.9809033s: 13 minutes, 14 seconds, 980 milliseconds\n",
      "\u001b[36m\u001b[1m[ \u001b[22m\u001b[39m\u001b[36m\u001b[1mInfo: \u001b[22m\u001b[39m started timer at: 2024-03-17T17:17:06.622\n"
     ]
    },
    {
     "name": "stdout",
     "output_type": "stream",
     "text": [
      "false\n",
      "50\n",
      "k : 2\n",
      "1\n",
      "-98533.74087505584\n",
      "5194.8982503114075\n",
      "50\n",
      "K : 2\n",
      "[0 -2800 -100 -1200 -2000]\n"
     ]
    },
    {
     "name": "stderr",
     "output_type": "stream",
     "text": [
      "\u001b[36m\u001b[1m[ \u001b[22m\u001b[39m\u001b[36m\u001b[1mInfo: \u001b[22m\u001b[39m         790.0361747s: 13 minutes, 10 seconds, 36 milliseconds\n",
      "\u001b[36m\u001b[1m[ \u001b[22m\u001b[39m\u001b[36m\u001b[1mInfo: \u001b[22m\u001b[39m started timer at: 2024-03-17T17:30:16.673\n"
     ]
    },
    {
     "name": "stdout",
     "output_type": "stream",
     "text": [
      "false\n",
      "50\n",
      "k : 2\n",
      "1\n",
      "-102085.1025257693\n",
      "5292.320882712801\n",
      "50\n",
      "K : 2\n",
      "[0 -3200 -100 -1200 -2000]\n"
     ]
    },
    {
     "name": "stderr",
     "output_type": "stream",
     "text": [
      "\u001b[36m\u001b[1m[ \u001b[22m\u001b[39m\u001b[36m\u001b[1mInfo: \u001b[22m\u001b[39m         792.3297474s: 13 minutes, 12 seconds, 329 milliseconds\n",
      "\u001b[36m\u001b[1m[ \u001b[22m\u001b[39m\u001b[36m\u001b[1mInfo: \u001b[22m\u001b[39m started timer at: 2024-03-17T17:43:29.019\n"
     ]
    },
    {
     "name": "stdout",
     "output_type": "stream",
     "text": [
      "false\n",
      "50\n",
      "k : 2\n",
      "1\n",
      "-106030.08075054284\n",
      "5258.932438640837\n"
     ]
    },
    {
     "name": "stderr",
     "output_type": "stream",
     "text": [
      "\u001b[36m\u001b[1m[ \u001b[22m\u001b[39m\u001b[36m\u001b[1mInfo: \u001b[22m\u001b[39m         796.2124412s: 13 minutes, 16 seconds, 212 milliseconds\n"
     ]
    },
    {
     "name": "stdout",
     "output_type": "stream",
     "text": [
      "-------------------------\n",
      "50\n",
      "K : 4\n",
      "[0 -200 -100 -1200 -2000]\n"
     ]
    },
    {
     "name": "stderr",
     "output_type": "stream",
     "text": [
      "\u001b[36m\u001b[1m[ \u001b[22m\u001b[39m\u001b[36m\u001b[1mInfo: \u001b[22m\u001b[39m started timer at: 2024-03-17T17:56:45.269\n"
     ]
    },
    {
     "name": "stdout",
     "output_type": "stream",
     "text": [
      "false\n",
      "50\n",
      "k : 4\n",
      "1\n",
      "-56993.48153817637\n",
      "3322.3300912875034\n",
      "50\n",
      "K : 4\n",
      "[0 -400 -100 -1200 -2000]\n"
     ]
    },
    {
     "name": "stderr",
     "output_type": "stream",
     "text": [
      "\u001b[36m\u001b[1m[ \u001b[22m\u001b[39m\u001b[36m\u001b[1mInfo: \u001b[22m\u001b[39m         797.1203499s: 13 minutes, 17 seconds, 120 milliseconds\n",
      "\u001b[36m\u001b[1m[ \u001b[22m\u001b[39m\u001b[36m\u001b[1mInfo: \u001b[22m\u001b[39m started timer at: 2024-03-17T18:10:02.404\n"
     ]
    },
    {
     "name": "stdout",
     "output_type": "stream",
     "text": [
      "false\n",
      "50\n",
      "k : 4\n",
      "1\n",
      "-60551.08177522938\n",
      "3230.215216952234\n",
      "50\n",
      "K : 4\n",
      "[0 -600 -100 -1200 -2000]\n"
     ]
    },
    {
     "name": "stderr",
     "output_type": "stream",
     "text": [
      "\u001b[36m\u001b[1m[ \u001b[22m\u001b[39m\u001b[36m\u001b[1mInfo: \u001b[22m\u001b[39m         798.2919951s: 13 minutes, 18 seconds, 291 milliseconds\n",
      "\u001b[36m\u001b[1m[ \u001b[22m\u001b[39m\u001b[36m\u001b[1mInfo: \u001b[22m\u001b[39m started timer at: 2024-03-17T18:23:20.712\n"
     ]
    },
    {
     "name": "stdout",
     "output_type": "stream",
     "text": [
      "false\n",
      "50\n",
      "k : 4\n",
      "1\n",
      "-64282.20173255515\n",
      "3273.9253896970386\n",
      "50\n",
      "K : 4\n",
      "[0 -800 -100 -1200 -2000]\n"
     ]
    },
    {
     "name": "stderr",
     "output_type": "stream",
     "text": [
      "\u001b[36m\u001b[1m[ \u001b[22m\u001b[39m\u001b[36m\u001b[1mInfo: \u001b[22m\u001b[39m         798.2626535s: 13 minutes, 18 seconds, 262 milliseconds\n",
      "\u001b[36m\u001b[1m[ \u001b[22m\u001b[39m\u001b[36m\u001b[1mInfo: \u001b[22m\u001b[39m started timer at: 2024-03-17T18:36:39.001\n"
     ]
    },
    {
     "name": "stdout",
     "output_type": "stream",
     "text": [
      "false\n",
      "50\n",
      "k : 4\n",
      "1\n",
      "-68028.7041623961\n",
      "3385.119808398489\n",
      "50\n",
      "K : 4\n",
      "[0 -1000 -100 -1200 -2000]\n"
     ]
    },
    {
     "name": "stderr",
     "output_type": "stream",
     "text": [
      "\u001b[36m\u001b[1m[ \u001b[22m\u001b[39m\u001b[36m\u001b[1mInfo: \u001b[22m\u001b[39m         797.9269226s: 13 minutes, 17 seconds, 926 milliseconds\n",
      "\u001b[36m\u001b[1m[ \u001b[22m\u001b[39m\u001b[36m\u001b[1mInfo: \u001b[22m\u001b[39m started timer at: 2024-03-17T18:49:56.943\n"
     ]
    },
    {
     "name": "stdout",
     "output_type": "stream",
     "text": [
      "false\n",
      "50\n",
      "k : 4\n",
      "1\n",
      "-71562.11871830815\n",
      "3574.3849816537677\n",
      "50\n",
      "K : 4\n",
      "[0 -1200 -100 -1200 -2000]\n"
     ]
    },
    {
     "name": "stderr",
     "output_type": "stream",
     "text": [
      "\u001b[36m\u001b[1m[ \u001b[22m\u001b[39m\u001b[36m\u001b[1mInfo: \u001b[22m\u001b[39m         800.9612429s: 13 minutes, 20 seconds, 961 milliseconds\n",
      "\u001b[36m\u001b[1m[ \u001b[22m\u001b[39m\u001b[36m\u001b[1mInfo: \u001b[22m\u001b[39m started timer at: 2024-03-17T19:03:17.920\n"
     ]
    },
    {
     "name": "stdout",
     "output_type": "stream",
     "text": [
      "false\n",
      "50\n",
      "k : 4\n",
      "1\n",
      "-74869.6006589875\n",
      "3831.92119326966\n",
      "50\n",
      "K : 4\n",
      "[0 -1400 -100 -1200 -2000]\n"
     ]
    },
    {
     "name": "stderr",
     "output_type": "stream",
     "text": [
      "\u001b[36m\u001b[1m[ \u001b[22m\u001b[39m\u001b[36m\u001b[1mInfo: \u001b[22m\u001b[39m         798.5646963s: 13 minutes, 18 seconds, 564 milliseconds\n",
      "\u001b[36m\u001b[1m[ \u001b[22m\u001b[39m\u001b[36m\u001b[1mInfo: \u001b[22m\u001b[39m started timer at: 2024-03-17T19:16:36.510\n"
     ]
    },
    {
     "name": "stdout",
     "output_type": "stream",
     "text": [
      "false\n",
      "50\n",
      "k : 4\n",
      "1\n",
      "-77785.95827005405\n",
      "4111.975435220779\n",
      "50\n",
      "K : 4\n",
      "[0 -1600 -100 -1200 -2000]\n"
     ]
    },
    {
     "name": "stderr",
     "output_type": "stream",
     "text": [
      "\u001b[36m\u001b[1m[ \u001b[22m\u001b[39m\u001b[36m\u001b[1mInfo: \u001b[22m\u001b[39m         798.5888017s: 13 minutes, 18 seconds, 588 milliseconds\n",
      "\u001b[36m\u001b[1m[ \u001b[22m\u001b[39m\u001b[36m\u001b[1mInfo: \u001b[22m\u001b[39m started timer at: 2024-03-17T19:29:55.115\n"
     ]
    },
    {
     "name": "stdout",
     "output_type": "stream",
     "text": [
      "false\n",
      "50\n",
      "k : 4\n",
      "1\n",
      "-80316.28303761639\n",
      "4300.371758003877\n",
      "50\n",
      "K : 4\n",
      "[0 -1800 -100 -1200 -2000]\n"
     ]
    },
    {
     "name": "stderr",
     "output_type": "stream",
     "text": [
      "\u001b[36m\u001b[1m[ \u001b[22m\u001b[39m\u001b[36m\u001b[1mInfo: \u001b[22m\u001b[39m         800.0658275s: 13 minutes, 20 seconds, 65 milliseconds\n",
      "\u001b[36m\u001b[1m[ \u001b[22m\u001b[39m\u001b[36m\u001b[1mInfo: \u001b[22m\u001b[39m started timer at: 2024-03-17T19:43:15.197\n"
     ]
    },
    {
     "name": "stdout",
     "output_type": "stream",
     "text": [
      "false\n",
      "50\n",
      "k : 4\n",
      "1\n",
      "-82676.00714481526\n",
      "4417.566978076233\n",
      "50\n",
      "K : 4\n",
      "[0 -2000 -100 -1200 -2000]\n"
     ]
    },
    {
     "name": "stderr",
     "output_type": "stream",
     "text": [
      "\u001b[36m\u001b[1m[ \u001b[22m\u001b[39m\u001b[36m\u001b[1mInfo: \u001b[22m\u001b[39m         798.8349315s: 13 minutes, 18 seconds, 834 milliseconds\n",
      "\u001b[36m\u001b[1m[ \u001b[22m\u001b[39m\u001b[36m\u001b[1mInfo: \u001b[22m\u001b[39m started timer at: 2024-03-17T19:56:34.047\n"
     ]
    },
    {
     "name": "stdout",
     "output_type": "stream",
     "text": [
      "false\n",
      "50\n",
      "k : 4\n",
      "1\n",
      "-84842.5299959656\n",
      "4512.207148837788\n",
      "50\n",
      "K : 4\n",
      "[0 -2400 -100 -1200 -2000]\n"
     ]
    },
    {
     "name": "stderr",
     "output_type": "stream",
     "text": [
      "\u001b[36m\u001b[1m[ \u001b[22m\u001b[39m\u001b[36m\u001b[1mInfo: \u001b[22m\u001b[39m         790.6689007s: 13 minutes, 10 seconds, 668 milliseconds\n",
      "\u001b[36m\u001b[1m[ \u001b[22m\u001b[39m\u001b[36m\u001b[1mInfo: \u001b[22m\u001b[39m started timer at: 2024-03-17T20:09:44.732\n"
     ]
    },
    {
     "name": "stdout",
     "output_type": "stream",
     "text": [
      "false\n",
      "50\n",
      "k : 4\n",
      "1\n",
      "-88842.82413387702\n",
      "4580.774528332086\n",
      "50\n",
      "K : 4\n",
      "[0 -2800 -100 -1200 -2000]\n"
     ]
    },
    {
     "name": "stderr",
     "output_type": "stream",
     "text": [
      "\u001b[36m\u001b[1m[ \u001b[22m\u001b[39m\u001b[36m\u001b[1mInfo: \u001b[22m\u001b[39m         792.3653136s: 13 minutes, 12 seconds, 365 milliseconds\n",
      "\u001b[36m\u001b[1m[ \u001b[22m\u001b[39m\u001b[36m\u001b[1mInfo: \u001b[22m\u001b[39m started timer at: 2024-03-17T20:22:57.112\n"
     ]
    },
    {
     "name": "stdout",
     "output_type": "stream",
     "text": [
      "false\n",
      "50\n",
      "k : 4\n",
      "1\n",
      "-92326.32508538834\n",
      "4571.787682533736\n",
      "50\n",
      "K : 4\n",
      "[0 -3200 -100 -1200 -2000]\n"
     ]
    },
    {
     "name": "stderr",
     "output_type": "stream",
     "text": [
      "\u001b[36m\u001b[1m[ \u001b[22m\u001b[39m\u001b[36m\u001b[1mInfo: \u001b[22m\u001b[39m         888.4351955s: 14 minutes, 48 seconds, 435 milliseconds\n",
      "\u001b[36m\u001b[1m[ \u001b[22m\u001b[39m\u001b[36m\u001b[1mInfo: \u001b[22m\u001b[39m started timer at: 2024-03-17T20:37:45.565\n"
     ]
    },
    {
     "name": "stdout",
     "output_type": "stream",
     "text": [
      "false\n",
      "50\n",
      "k : 4\n",
      "1\n",
      "-95886.2150182454\n",
      "4594.81938253807\n",
      "-------------------------\n",
      "50\n",
      "K : 6\n",
      "[0 -200 -100 -1200 -2000]\n"
     ]
    },
    {
     "name": "stderr",
     "output_type": "stream",
     "text": [
      "\u001b[36m\u001b[1m[ \u001b[22m\u001b[39m\u001b[36m\u001b[1mInfo: \u001b[22m\u001b[39m         891.0044896s: 14 minutes, 51 seconds, 4 milliseconds\n",
      "\u001b[36m\u001b[1m[ \u001b[22m\u001b[39m\u001b[36m\u001b[1mInfo: \u001b[22m\u001b[39m started timer at: 2024-03-17T20:52:36.597\n"
     ]
    },
    {
     "name": "stdout",
     "output_type": "stream",
     "text": [
      "false\n",
      "50\n",
      "k : 6\n",
      "1\n",
      "-55650.237025000366\n",
      "3156.655069804005\n",
      "50\n",
      "K : 6\n",
      "[0 -400 -100 -1200 -2000]\n"
     ]
    },
    {
     "name": "stderr",
     "output_type": "stream",
     "text": [
      "\u001b[36m\u001b[1m[ \u001b[22m\u001b[39m\u001b[36m\u001b[1mInfo: \u001b[22m\u001b[39m         893.0090621s: 14 minutes, 53 seconds, 9 milliseconds\n",
      "\u001b[36m\u001b[1m[ \u001b[22m\u001b[39m\u001b[36m\u001b[1mInfo: \u001b[22m\u001b[39m started timer at: 2024-03-17T21:07:29.624\n"
     ]
    },
    {
     "name": "stdout",
     "output_type": "stream",
     "text": [
      "false\n",
      "50\n",
      "k : 6\n",
      "1\n",
      "-59402.69560223546\n",
      "3021.1298915089196\n",
      "50\n",
      "K : 6\n",
      "[0 -600 -100 -1200 -2000]\n"
     ]
    },
    {
     "name": "stderr",
     "output_type": "stream",
     "text": [
      "\u001b[36m\u001b[1m[ \u001b[22m\u001b[39m\u001b[36m\u001b[1mInfo: \u001b[22m\u001b[39m         891.5752164s: 14 minutes, 51 seconds, 575 milliseconds\n",
      "\u001b[36m\u001b[1m[ \u001b[22m\u001b[39m\u001b[36m\u001b[1mInfo: \u001b[22m\u001b[39m started timer at: 2024-03-17T21:22:21.227\n"
     ]
    },
    {
     "name": "stdout",
     "output_type": "stream",
     "text": [
      "false\n",
      "50\n",
      "k : 6\n",
      "1\n",
      "-63162.19262363372\n",
      "3081.875788703427\n",
      "50\n",
      "K : 6\n",
      "[0 -800 -100 -1200 -2000]\n"
     ]
    },
    {
     "name": "stderr",
     "output_type": "stream",
     "text": [
      "\u001b[36m\u001b[1m[ \u001b[22m\u001b[39m\u001b[36m\u001b[1mInfo: \u001b[22m\u001b[39m         891.6828554s: 14 minutes, 51 seconds, 682 milliseconds\n",
      "\u001b[36m\u001b[1m[ \u001b[22m\u001b[39m\u001b[36m\u001b[1mInfo: \u001b[22m\u001b[39m started timer at: 2024-03-17T21:37:12.938\n"
     ]
    },
    {
     "name": "stdout",
     "output_type": "stream",
     "text": [
      "false\n",
      "50\n",
      "k : 6\n",
      "1\n",
      "-66774.76949338702\n",
      "3221.910492321588\n",
      "50\n",
      "K : 6\n",
      "[0 -1000 -100 -1200 -2000]\n"
     ]
    },
    {
     "name": "stderr",
     "output_type": "stream",
     "text": [
      "\u001b[36m\u001b[1m[ \u001b[22m\u001b[39m\u001b[36m\u001b[1mInfo: \u001b[22m\u001b[39m         891.2255486s: 14 minutes, 51 seconds, 225 milliseconds\n",
      "\u001b[36m\u001b[1m[ \u001b[22m\u001b[39m\u001b[36m\u001b[1mInfo: \u001b[22m\u001b[39m started timer at: 2024-03-17T21:52:04.180\n"
     ]
    },
    {
     "name": "stdout",
     "output_type": "stream",
     "text": [
      "false\n",
      "50\n",
      "k : 6\n",
      "1\n",
      "-69909.85671359651\n",
      "3430.7024223178223\n",
      "50\n",
      "K : 6\n",
      "[0 -1200 -100 -1200 -2000]\n"
     ]
    },
    {
     "name": "stderr",
     "output_type": "stream",
     "text": [
      "\u001b[36m\u001b[1m[ \u001b[22m\u001b[39m\u001b[36m\u001b[1mInfo: \u001b[22m\u001b[39m         888.7882758s: 14 minutes, 48 seconds, 788 milliseconds\n",
      "\u001b[36m\u001b[1m[ \u001b[22m\u001b[39m\u001b[36m\u001b[1mInfo: \u001b[22m\u001b[39m started timer at: 2024-03-17T22:06:52.996\n"
     ]
    },
    {
     "name": "stdout",
     "output_type": "stream",
     "text": [
      "false\n",
      "50\n",
      "k : 6\n",
      "1\n",
      "-72758.70393568659\n",
      "3601.019810887757\n",
      "50\n",
      "K : 6\n",
      "[0 -1400 -100 -1200 -2000]\n"
     ]
    },
    {
     "name": "stderr",
     "output_type": "stream",
     "text": [
      "\u001b[36m\u001b[1m[ \u001b[22m\u001b[39m\u001b[36m\u001b[1mInfo: \u001b[22m\u001b[39m         887.6674787s: 14 minutes, 47 seconds, 667 milliseconds\n",
      "\u001b[36m\u001b[1m[ \u001b[22m\u001b[39m\u001b[36m\u001b[1mInfo: \u001b[22m\u001b[39m started timer at: 2024-03-17T22:21:40.690\n"
     ]
    },
    {
     "name": "stdout",
     "output_type": "stream",
     "text": [
      "false\n",
      "50\n",
      "k : 6\n",
      "1\n",
      "-75121.39615087195\n",
      "3824.073679902823\n",
      "50\n",
      "K : 6\n",
      "[0 -1600 -100 -1200 -2000]\n"
     ]
    },
    {
     "name": "stderr",
     "output_type": "stream",
     "text": [
      "\u001b[36m\u001b[1m[ \u001b[22m\u001b[39m\u001b[36m\u001b[1mInfo: \u001b[22m\u001b[39m         890.1610943s: 14 minutes, 50 seconds, 161 milliseconds\n",
      "\u001b[36m\u001b[1m[ \u001b[22m\u001b[39m\u001b[36m\u001b[1mInfo: \u001b[22m\u001b[39m started timer at: 2024-03-17T22:36:30.868\n"
     ]
    },
    {
     "name": "stdout",
     "output_type": "stream",
     "text": [
      "false\n",
      "50\n",
      "k : 6\n",
      "1\n",
      "-77310.24810017517\n",
      "3984.9770325588493\n",
      "50\n",
      "K : 6\n",
      "[0 -1800 -100 -1200 -2000]\n"
     ]
    },
    {
     "name": "stderr",
     "output_type": "stream",
     "text": [
      "\u001b[36m\u001b[1m[ \u001b[22m\u001b[39m\u001b[36m\u001b[1mInfo: \u001b[22m\u001b[39m          889.243842s: 14 minutes, 49 seconds, 243 milliseconds\n",
      "\u001b[36m\u001b[1m[ \u001b[22m\u001b[39m\u001b[36m\u001b[1mInfo: \u001b[22m\u001b[39m started timer at: 2024-03-17T22:51:20.130\n"
     ]
    },
    {
     "name": "stdout",
     "output_type": "stream",
     "text": [
      "false\n",
      "50\n",
      "k : 6\n",
      "1\n",
      "-79437.19235484661\n",
      "4097.010873152154\n"
     ]
    },
    {
     "name": "stderr",
     "output_type": "stream",
     "text": [
      "\u001b[36m\u001b[1m[ \u001b[22m\u001b[39m\u001b[36m\u001b[1mInfo: \u001b[22m\u001b[39m         886.6384765s: 14 minutes, 46 seconds, 638 milliseconds\n",
      "\u001b[36m\u001b[1m[ \u001b[22m\u001b[39m\u001b[36m\u001b[1mInfo: \u001b[22m\u001b[39m started timer at: 2024-03-17T23:06:06.786\n"
     ]
    },
    {
     "name": "stdout",
     "output_type": "stream",
     "text": [
      "50\n",
      "K : 6\n",
      "[0 -2000 -100 -1200 -2000]\n",
      "false\n",
      "50\n",
      "k : 6\n",
      "1\n",
      "-81256.60749173343\n",
      "4158.0364277617655\n",
      "50\n",
      "K : 6\n",
      "[0 -2400 -100 -1200 -2000]\n"
     ]
    },
    {
     "name": "stderr",
     "output_type": "stream",
     "text": [
      "\u001b[36m\u001b[1m[ \u001b[22m\u001b[39m\u001b[36m\u001b[1mInfo: \u001b[22m\u001b[39m          882.220495s: 14 minutes, 42 seconds, 220 milliseconds\n",
      "\u001b[36m\u001b[1m[ \u001b[22m\u001b[39m\u001b[36m\u001b[1mInfo: \u001b[22m\u001b[39m started timer at: 2024-03-17T23:20:49.034\n"
     ]
    },
    {
     "name": "stdout",
     "output_type": "stream",
     "text": [
      "false\n",
      "50\n",
      "k : 6\n",
      "1\n",
      "-85094.94259458265\n",
      "4238.753457589205\n",
      "50\n",
      "K : 6\n",
      "[0 -2800 -100 -1200 -2000]\n"
     ]
    },
    {
     "name": "stderr",
     "output_type": "stream",
     "text": [
      "\u001b[36m\u001b[1m[ \u001b[22m\u001b[39m\u001b[36m\u001b[1mInfo: \u001b[22m\u001b[39m         886.1268744s: 14 minutes, 46 seconds, 126 milliseconds\n",
      "\u001b[36m\u001b[1m[ \u001b[22m\u001b[39m\u001b[36m\u001b[1mInfo: \u001b[22m\u001b[39m started timer at: 2024-03-17T23:35:35.179\n"
     ]
    },
    {
     "name": "stdout",
     "output_type": "stream",
     "text": [
      "false\n",
      "50\n",
      "k : 6\n",
      "1\n",
      "-88492.75575648513\n",
      "4256.082986217771\n",
      "50\n",
      "K : 6\n",
      "[0 -3200 -100 -1200 -2000]\n"
     ]
    },
    {
     "name": "stderr",
     "output_type": "stream",
     "text": [
      "\u001b[36m\u001b[1m[ \u001b[22m\u001b[39m\u001b[36m\u001b[1mInfo: \u001b[22m\u001b[39m         890.5896032s: 14 minutes, 50 seconds, 589 milliseconds\n",
      "\u001b[36m\u001b[1m[ \u001b[22m\u001b[39m\u001b[36m\u001b[1mInfo: \u001b[22m\u001b[39m started timer at: 2024-03-17T23:50:25.785\n"
     ]
    },
    {
     "name": "stdout",
     "output_type": "stream",
     "text": [
      "false\n",
      "50\n",
      "k : 6\n",
      "1\n",
      "-91929.09907927841\n",
      "4395.12785726974\n",
      "-------------------------\n",
      "50\n",
      "K : 8\n",
      "[0 -200 -100 -1200 -2000]\n"
     ]
    },
    {
     "name": "stderr",
     "output_type": "stream",
     "text": [
      "\u001b[36m\u001b[1m[ \u001b[22m\u001b[39m\u001b[36m\u001b[1mInfo: \u001b[22m\u001b[39m         891.9430248s: 14 minutes, 51 seconds, 943 milliseconds\n",
      "\u001b[36m\u001b[1m[ \u001b[22m\u001b[39m\u001b[36m\u001b[1mInfo: \u001b[22m\u001b[39m started timer at: 2024-03-18T00:05:17.746\n"
     ]
    },
    {
     "name": "stdout",
     "output_type": "stream",
     "text": [
      "false\n",
      "50\n",
      "k : 8\n",
      "1\n",
      "-55369.66397186176\n",
      "3061.002653676312\n",
      "50\n",
      "K : 8\n",
      "[0 -400 -100 -1200 -2000]\n"
     ]
    },
    {
     "name": "stderr",
     "output_type": "stream",
     "text": [
      "\u001b[36m\u001b[1m[ \u001b[22m\u001b[39m\u001b[36m\u001b[1mInfo: \u001b[22m\u001b[39m         888.6589445s: 14 minutes, 48 seconds, 658 milliseconds\n",
      "\u001b[36m\u001b[1m[ \u001b[22m\u001b[39m\u001b[36m\u001b[1mInfo: \u001b[22m\u001b[39m started timer at: 2024-03-18T00:20:06.421\n"
     ]
    },
    {
     "name": "stdout",
     "output_type": "stream",
     "text": [
      "false\n",
      "50\n",
      "k : 8\n",
      "1\n",
      "-59211.381074265766\n",
      "3050.8928286497\n",
      "50\n",
      "K : 8\n",
      "[0 -600 -100 -1200 -2000]\n"
     ]
    },
    {
     "name": "stderr",
     "output_type": "stream",
     "text": [
      "\u001b[36m\u001b[1m[ \u001b[22m\u001b[39m\u001b[36m\u001b[1mInfo: \u001b[22m\u001b[39m         889.3000924s: 14 minutes, 49 seconds, 300 milliseconds\n",
      "\u001b[36m\u001b[1m[ \u001b[22m\u001b[39m\u001b[36m\u001b[1mInfo: \u001b[22m\u001b[39m started timer at: 2024-03-18T00:34:55.739\n"
     ]
    },
    {
     "name": "stdout",
     "output_type": "stream",
     "text": [
      "false\n",
      "50\n",
      "k : 8\n",
      "1\n",
      "-62870.18118215053\n",
      "3065.009388883636\n",
      "50\n",
      "K : 8\n",
      "[0 -800 -100 -1200 -2000]\n"
     ]
    },
    {
     "name": "stderr",
     "output_type": "stream",
     "text": [
      "\u001b[36m\u001b[1m[ \u001b[22m\u001b[39m\u001b[36m\u001b[1mInfo: \u001b[22m\u001b[39m         889.2834757s: 14 minutes, 49 seconds, 283 milliseconds\n",
      "\u001b[36m\u001b[1m[ \u001b[22m\u001b[39m\u001b[36m\u001b[1mInfo: \u001b[22m\u001b[39m started timer at: 2024-03-18T00:49:45.040\n"
     ]
    },
    {
     "name": "stdout",
     "output_type": "stream",
     "text": [
      "false\n",
      "50\n",
      "k : 8\n",
      "1\n",
      "-66402.87817353974\n",
      "3125.800988573005\n",
      "50\n",
      "K : 8\n",
      "[0 -1000 -100 -1200 -2000]\n"
     ]
    },
    {
     "name": "stderr",
     "output_type": "stream",
     "text": [
      "\u001b[36m\u001b[1m[ \u001b[22m\u001b[39m\u001b[36m\u001b[1mInfo: \u001b[22m\u001b[39m         889.3160443s: 14 minutes, 49 seconds, 316 milliseconds\n",
      "\u001b[36m\u001b[1m[ \u001b[22m\u001b[39m\u001b[36m\u001b[1mInfo: \u001b[22m\u001b[39m started timer at: 2024-03-18T01:04:34.384\n"
     ]
    },
    {
     "name": "stdout",
     "output_type": "stream",
     "text": [
      "false\n",
      "50\n",
      "k : 8\n",
      "1\n",
      "-69429.40428432169\n",
      "3320.713878183169\n",
      "50\n",
      "K : 8\n",
      "[0 -1200 -100 -1200 -2000]\n"
     ]
    },
    {
     "name": "stderr",
     "output_type": "stream",
     "text": [
      "\u001b[36m\u001b[1m[ \u001b[22m\u001b[39m\u001b[36m\u001b[1mInfo: \u001b[22m\u001b[39m         889.2304539s: 14 minutes, 49 seconds, 230 milliseconds\n",
      "\u001b[36m\u001b[1m[ \u001b[22m\u001b[39m\u001b[36m\u001b[1mInfo: \u001b[22m\u001b[39m started timer at: 2024-03-18T01:19:23.632\n"
     ]
    },
    {
     "name": "stdout",
     "output_type": "stream",
     "text": [
      "false\n",
      "50\n",
      "k : 8\n",
      "1\n",
      "-71884.37589785599\n",
      "3558.0718486436726\n",
      "50\n",
      "K : 8\n",
      "[0 -1400 -100 -1200 -2000]\n"
     ]
    },
    {
     "name": "stderr",
     "output_type": "stream",
     "text": [
      "\u001b[36m\u001b[1m[ \u001b[22m\u001b[39m\u001b[36m\u001b[1mInfo: \u001b[22m\u001b[39m          891.429144s: 14 minutes, 51 seconds, 429 milliseconds\n",
      "\u001b[36m\u001b[1m[ \u001b[22m\u001b[39m\u001b[36m\u001b[1mInfo: \u001b[22m\u001b[39m started timer at: 2024-03-18T01:34:15.079\n"
     ]
    },
    {
     "name": "stdout",
     "output_type": "stream",
     "text": [
      "false\n",
      "50\n",
      "k : 8\n",
      "1\n",
      "-74079.10807816121\n",
      "3729.3337088271323\n",
      "50\n",
      "K : 8\n",
      "[0 -1600 -100 -1200 -2000]\n"
     ]
    },
    {
     "name": "stderr",
     "output_type": "stream",
     "text": [
      "\u001b[36m\u001b[1m[ \u001b[22m\u001b[39m\u001b[36m\u001b[1mInfo: \u001b[22m\u001b[39m         891.0387296s: 14 minutes, 51 seconds, 38 milliseconds\n",
      "\u001b[36m\u001b[1m[ \u001b[22m\u001b[39m\u001b[36m\u001b[1mInfo: \u001b[22m\u001b[39m started timer at: 2024-03-18T01:49:06.135\n"
     ]
    },
    {
     "name": "stdout",
     "output_type": "stream",
     "text": [
      "false\n",
      "50\n",
      "k : 8\n",
      "1\n",
      "-75994.67124688471\n",
      "3827.3081000686857\n",
      "50\n",
      "K : 8\n",
      "[0 -1800 -100 -1200 -2000]\n"
     ]
    },
    {
     "name": "stderr",
     "output_type": "stream",
     "text": [
      "\u001b[36m\u001b[1m[ \u001b[22m\u001b[39m\u001b[36m\u001b[1mInfo: \u001b[22m\u001b[39m         889.8226622s: 14 minutes, 49 seconds, 822 milliseconds\n",
      "\u001b[36m\u001b[1m[ \u001b[22m\u001b[39m\u001b[36m\u001b[1mInfo: \u001b[22m\u001b[39m started timer at: 2024-03-18T02:03:55.974\n"
     ]
    },
    {
     "name": "stdout",
     "output_type": "stream",
     "text": [
      "false\n",
      "50\n",
      "k : 8\n",
      "1\n",
      "-77898.85024489238\n",
      "3856.082145754841\n",
      "50\n",
      "K : 8\n",
      "[0 -2000 -100 -1200 -2000]\n"
     ]
    },
    {
     "name": "stderr",
     "output_type": "stream",
     "text": [
      "\u001b[36m\u001b[1m[ \u001b[22m\u001b[39m\u001b[36m\u001b[1mInfo: \u001b[22m\u001b[39m         882.8839148s: 14 minutes, 42 seconds, 883 milliseconds\n",
      "\u001b[36m\u001b[1m[ \u001b[22m\u001b[39m\u001b[36m\u001b[1mInfo: \u001b[22m\u001b[39m started timer at: 2024-03-18T02:18:38.887\n"
     ]
    },
    {
     "name": "stdout",
     "output_type": "stream",
     "text": [
      "false\n",
      "50\n",
      "k : 8\n",
      "1\n",
      "-79839.43996537897\n",
      "3964.0637667365495\n",
      "50\n",
      "K : 8\n",
      "[0 -2400 -100 -1200 -2000]\n"
     ]
    },
    {
     "name": "stderr",
     "output_type": "stream",
     "text": [
      "\u001b[36m\u001b[1m[ \u001b[22m\u001b[39m\u001b[36m\u001b[1mInfo: \u001b[22m\u001b[39m         884.9940449s: 14 minutes, 44 seconds, 994 milliseconds\n",
      "\u001b[36m\u001b[1m[ \u001b[22m\u001b[39m\u001b[36m\u001b[1mInfo: \u001b[22m\u001b[39m started timer at: 2024-03-18T02:33:23.898\n"
     ]
    },
    {
     "name": "stdout",
     "output_type": "stream",
     "text": [
      "false\n",
      "50\n",
      "k : 8\n",
      "1\n",
      "-83484.917340067\n",
      "4030.178920875249\n",
      "50\n",
      "K : 8\n",
      "[0 -2800 -100 -1200 -2000]\n"
     ]
    },
    {
     "name": "stderr",
     "output_type": "stream",
     "text": [
      "\u001b[36m\u001b[1m[ \u001b[22m\u001b[39m\u001b[36m\u001b[1mInfo: \u001b[22m\u001b[39m         887.6883073s: 14 minutes, 47 seconds, 688 milliseconds\n",
      "\u001b[36m\u001b[1m[ \u001b[22m\u001b[39m\u001b[36m\u001b[1mInfo: \u001b[22m\u001b[39m started timer at: 2024-03-18T02:48:11.603\n"
     ]
    },
    {
     "name": "stdout",
     "output_type": "stream",
     "text": [
      "false\n",
      "50\n",
      "k : 8\n",
      "1\n",
      "-86726.40976535849\n",
      "4111.0759497289955\n",
      "50\n",
      "K : 8\n",
      "[0 -3200 -100 -1200 -2000]\n"
     ]
    },
    {
     "name": "stderr",
     "output_type": "stream",
     "text": [
      "\u001b[36m\u001b[1m[ \u001b[22m\u001b[39m\u001b[36m\u001b[1mInfo: \u001b[22m\u001b[39m         892.0029352s: 14 minutes, 52 seconds, 2 milliseconds\n",
      "\u001b[36m\u001b[1m[ \u001b[22m\u001b[39m\u001b[36m\u001b[1mInfo: \u001b[22m\u001b[39m started timer at: 2024-03-18T03:03:03.624\n"
     ]
    },
    {
     "name": "stdout",
     "output_type": "stream",
     "text": [
      "false\n",
      "50\n",
      "k : 8\n",
      "1\n",
      "-89852.08998342528\n",
      "4249.810715945748\n",
      "-------------------------\n",
      "50\n",
      "K : 10\n",
      "[0 -200 -100 -1200 -2000]\n"
     ]
    },
    {
     "name": "stderr",
     "output_type": "stream",
     "text": [
      "\u001b[36m\u001b[1m[ \u001b[22m\u001b[39m\u001b[36m\u001b[1mInfo: \u001b[22m\u001b[39m          887.500513s: 14 minutes, 47 seconds, 500 milliseconds\n",
      "\u001b[36m\u001b[1m[ \u001b[22m\u001b[39m\u001b[36m\u001b[1mInfo: \u001b[22m\u001b[39m started timer at: 2024-03-18T03:17:51.152\n"
     ]
    },
    {
     "name": "stdout",
     "output_type": "stream",
     "text": [
      "false\n",
      "50\n",
      "k : 10\n",
      "1\n",
      "-55360.48807140391\n",
      "3126.679653529189\n",
      "50\n",
      "K : 10\n",
      "[0 -400 -100 -1200 -2000]\n"
     ]
    },
    {
     "name": "stderr",
     "output_type": "stream",
     "text": [
      "\u001b[36m\u001b[1m[ \u001b[22m\u001b[39m\u001b[36m\u001b[1mInfo: \u001b[22m\u001b[39m         892.2120315s: 14 minutes, 52 seconds, 212 milliseconds\n",
      "\u001b[36m\u001b[1m[ \u001b[22m\u001b[39m\u001b[36m\u001b[1mInfo: \u001b[22m\u001b[39m started timer at: 2024-03-18T03:32:43.382\n"
     ]
    },
    {
     "name": "stdout",
     "output_type": "stream",
     "text": [
      "false\n",
      "50\n",
      "k : 10\n",
      "1\n",
      "-59155.738525304914\n",
      "3053.549260086012\n",
      "50\n",
      "K : 10\n",
      "[0 -600 -100 -1200 -2000]\n"
     ]
    },
    {
     "name": "stderr",
     "output_type": "stream",
     "text": [
      "\u001b[36m\u001b[1m[ \u001b[22m\u001b[39m\u001b[36m\u001b[1mInfo: \u001b[22m\u001b[39m         889.5370319s: 14 minutes, 49 seconds, 537 milliseconds\n",
      "\u001b[36m\u001b[1m[ \u001b[22m\u001b[39m\u001b[36m\u001b[1mInfo: \u001b[22m\u001b[39m started timer at: 2024-03-18T03:47:32.936\n"
     ]
    },
    {
     "name": "stdout",
     "output_type": "stream",
     "text": [
      "false\n",
      "50\n",
      "k : 10\n",
      "1\n",
      "-62813.85980162086\n",
      "3042.1771170974425\n",
      "50\n",
      "K : 10\n",
      "[0 -800 -100 -1200 -2000]\n"
     ]
    },
    {
     "name": "stderr",
     "output_type": "stream",
     "text": [
      "\u001b[36m\u001b[1m[ \u001b[22m\u001b[39m\u001b[36m\u001b[1mInfo: \u001b[22m\u001b[39m         888.9288803s: 14 minutes, 48 seconds, 928 milliseconds\n",
      "\u001b[36m\u001b[1m[ \u001b[22m\u001b[39m\u001b[36m\u001b[1mInfo: \u001b[22m\u001b[39m started timer at: 2024-03-18T04:02:21.882\n"
     ]
    },
    {
     "name": "stdout",
     "output_type": "stream",
     "text": [
      "false\n",
      "50\n",
      "k : 10\n",
      "1\n",
      "-66223.28218972111\n",
      "3158.652676405048\n",
      "50\n",
      "K : 10\n",
      "[0 -1000 -100 -1200 -2000]\n"
     ]
    },
    {
     "name": "stderr",
     "output_type": "stream",
     "text": [
      "\u001b[36m\u001b[1m[ \u001b[22m\u001b[39m\u001b[36m\u001b[1mInfo: \u001b[22m\u001b[39m         890.2631841s: 14 minutes, 50 seconds, 263 milliseconds\n",
      "\u001b[36m\u001b[1m[ \u001b[22m\u001b[39m\u001b[36m\u001b[1mInfo: \u001b[22m\u001b[39m started timer at: 2024-03-18T04:17:12.163\n"
     ]
    },
    {
     "name": "stdout",
     "output_type": "stream",
     "text": [
      "false\n",
      "50\n",
      "k : 10\n",
      "1\n",
      "-69161.6287590029\n",
      "3328.698840157606\n",
      "50\n",
      "K : 10\n",
      "[0 -1200 -100 -1200 -2000]\n"
     ]
    },
    {
     "name": "stderr",
     "output_type": "stream",
     "text": [
      "\u001b[36m\u001b[1m[ \u001b[22m\u001b[39m\u001b[36m\u001b[1mInfo: \u001b[22m\u001b[39m         891.1017281s: 14 minutes, 51 seconds, 101 milliseconds\n",
      "\u001b[36m\u001b[1m[ \u001b[22m\u001b[39m\u001b[36m\u001b[1mInfo: \u001b[22m\u001b[39m started timer at: 2024-03-18T04:32:03.282\n"
     ]
    },
    {
     "name": "stdout",
     "output_type": "stream",
     "text": [
      "false\n",
      "50\n",
      "k : 10\n",
      "1\n",
      "-71537.64169235306\n",
      "3519.8812802649163\n",
      "50\n",
      "K : 10\n",
      "[0 -1400 -100 -1200 -2000]\n"
     ]
    },
    {
     "name": "stderr",
     "output_type": "stream",
     "text": [
      "\u001b[36m\u001b[1m[ \u001b[22m\u001b[39m\u001b[36m\u001b[1mInfo: \u001b[22m\u001b[39m         893.1001879s: 14 minutes, 53 seconds, 100 milliseconds\n",
      "\u001b[36m\u001b[1m[ \u001b[22m\u001b[39m\u001b[36m\u001b[1mInfo: \u001b[22m\u001b[39m started timer at: 2024-03-18T04:46:56.399\n"
     ]
    },
    {
     "name": "stdout",
     "output_type": "stream",
     "text": [
      "false\n",
      "50\n",
      "k : 10\n",
      "1\n",
      "-73542.47651647608\n",
      "3628.2279445955605\n",
      "50\n",
      "K : 10\n",
      "[0 -1600 -100 -1200 -2000]\n"
     ]
    },
    {
     "name": "stderr",
     "output_type": "stream",
     "text": [
      "\u001b[36m\u001b[1m[ \u001b[22m\u001b[39m\u001b[36m\u001b[1mInfo: \u001b[22m\u001b[39m         888.6780435s: 14 minutes, 48 seconds, 678 milliseconds\n",
      "\u001b[36m\u001b[1m[ \u001b[22m\u001b[39m\u001b[36m\u001b[1mInfo: \u001b[22m\u001b[39m started timer at: 2024-03-18T05:01:45.095\n"
     ]
    },
    {
     "name": "stdout",
     "output_type": "stream",
     "text": [
      "false\n",
      "50\n",
      "k : 10\n",
      "1\n",
      "-75462.47002079873\n",
      "3758.3547524793366\n",
      "50\n",
      "K : 10\n",
      "[0 -1800 -100 -1200 -2000]\n"
     ]
    },
    {
     "name": "stderr",
     "output_type": "stream",
     "text": [
      "\u001b[36m\u001b[1m[ \u001b[22m\u001b[39m\u001b[36m\u001b[1mInfo: \u001b[22m\u001b[39m         887.7957288s: 14 minutes, 47 seconds, 795 milliseconds\n",
      "\u001b[36m\u001b[1m[ \u001b[22m\u001b[39m\u001b[36m\u001b[1mInfo: \u001b[22m\u001b[39m started timer at: 2024-03-18T05:16:32.908\n"
     ]
    },
    {
     "name": "stdout",
     "output_type": "stream",
     "text": [
      "false\n",
      "50\n",
      "k : 10\n",
      "1\n",
      "-77345.5702227286\n",
      "3857.0482460046132\n",
      "50\n",
      "K : 10\n",
      "[0 -2000 -100 -1200 -2000]\n"
     ]
    },
    {
     "name": "stderr",
     "output_type": "stream",
     "text": [
      "\u001b[36m\u001b[1m[ \u001b[22m\u001b[39m\u001b[36m\u001b[1mInfo: \u001b[22m\u001b[39m         886.0065446s: 14 minutes, 46 seconds, 6 milliseconds\n",
      "\u001b[36m\u001b[1m[ \u001b[22m\u001b[39m\u001b[36m\u001b[1mInfo: \u001b[22m\u001b[39m started timer at: 2024-03-18T05:31:18.931\n"
     ]
    },
    {
     "name": "stdout",
     "output_type": "stream",
     "text": [
      "false\n",
      "50\n",
      "k : 10\n",
      "1\n",
      "-79153.11180654331\n",
      "3930.893868438902\n",
      "50\n",
      "K : 10\n",
      "[0 -2400 -100 -1200 -2000]\n"
     ]
    },
    {
     "name": "stderr",
     "output_type": "stream",
     "text": [
      "\u001b[36m\u001b[1m[ \u001b[22m\u001b[39m\u001b[36m\u001b[1mInfo: \u001b[22m\u001b[39m         888.6612978s: 14 minutes, 48 seconds, 661 milliseconds\n",
      "\u001b[36m\u001b[1m[ \u001b[22m\u001b[39m\u001b[36m\u001b[1mInfo: \u001b[22m\u001b[39m started timer at: 2024-03-18T05:46:07.611\n"
     ]
    },
    {
     "name": "stdout",
     "output_type": "stream",
     "text": [
      "false\n",
      "50\n",
      "k : 10\n",
      "1\n",
      "-82721.52906923952\n",
      "3932.245756908498\n",
      "50\n",
      "K : 10\n",
      "[0 -2800 -100 -1200 -2000]\n"
     ]
    },
    {
     "name": "stderr",
     "output_type": "stream",
     "text": [
      "\u001b[36m\u001b[1m[ \u001b[22m\u001b[39m\u001b[36m\u001b[1mInfo: \u001b[22m\u001b[39m           889.24764s: 14 minutes, 49 seconds, 247 milliseconds\n",
      "\u001b[36m\u001b[1m[ \u001b[22m\u001b[39m\u001b[36m\u001b[1mInfo: \u001b[22m\u001b[39m started timer at: 2024-03-18T06:00:56.875\n"
     ]
    },
    {
     "name": "stdout",
     "output_type": "stream",
     "text": [
      "false\n",
      "50\n",
      "k : 10\n",
      "1\n",
      "-85840.64922910911\n",
      "4021.6556960384214\n",
      "50\n",
      "K : 10\n",
      "[0 -3200 -100 -1200 -2000]\n"
     ]
    },
    {
     "name": "stderr",
     "output_type": "stream",
     "text": [
      "\u001b[36m\u001b[1m[ \u001b[22m\u001b[39m\u001b[36m\u001b[1mInfo: \u001b[22m\u001b[39m         888.2714779s: 14 minutes, 48 seconds, 271 milliseconds\n",
      "\u001b[36m\u001b[1m[ \u001b[22m\u001b[39m\u001b[36m\u001b[1mInfo: \u001b[22m\u001b[39m started timer at: 2024-03-18T06:15:45.164\n"
     ]
    },
    {
     "name": "stdout",
     "output_type": "stream",
     "text": [
      "false\n",
      "50\n",
      "k : 10\n",
      "1\n",
      "-88899.7577122665\n",
      "4157.938506583706\n",
      "-------------------------\n",
      "50\n",
      "K : 12\n",
      "[0 -200 -100 -1200 -2000]\n"
     ]
    },
    {
     "name": "stderr",
     "output_type": "stream",
     "text": [
      "\u001b[36m\u001b[1m[ \u001b[22m\u001b[39m\u001b[36m\u001b[1mInfo: \u001b[22m\u001b[39m         888.4775054s: 14 minutes, 48 seconds, 477 milliseconds\n",
      "\u001b[36m\u001b[1m[ \u001b[22m\u001b[39m\u001b[36m\u001b[1mInfo: \u001b[22m\u001b[39m started timer at: 2024-03-18T06:30:33.670\n"
     ]
    },
    {
     "name": "stdout",
     "output_type": "stream",
     "text": [
      "false\n",
      "50\n",
      "k : 12\n",
      "1\n",
      "-55355.332190550136\n",
      "3051.2160993623065\n",
      "50\n",
      "K : 12\n",
      "[0 -400 -100 -1200 -2000]\n"
     ]
    },
    {
     "name": "stderr",
     "output_type": "stream",
     "text": [
      "\u001b[36m\u001b[1m[ \u001b[22m\u001b[39m\u001b[36m\u001b[1mInfo: \u001b[22m\u001b[39m         889.6973776s: 14 minutes, 49 seconds, 697 milliseconds\n",
      "\u001b[36m\u001b[1m[ \u001b[22m\u001b[39m\u001b[36m\u001b[1mInfo: \u001b[22m\u001b[39m started timer at: 2024-03-18T06:45:23.384\n"
     ]
    },
    {
     "name": "stdout",
     "output_type": "stream",
     "text": [
      "false\n",
      "50\n",
      "k : 12\n",
      "1\n",
      "-59147.04120716488\n",
      "3005.948891731301\n",
      "50\n",
      "K : 12\n",
      "[0 -600 -100 -1200 -2000]\n"
     ]
    },
    {
     "name": "stderr",
     "output_type": "stream",
     "text": [
      "\u001b[36m\u001b[1m[ \u001b[22m\u001b[39m\u001b[36m\u001b[1mInfo: \u001b[22m\u001b[39m         889.5027515s: 14 minutes, 49 seconds, 502 milliseconds\n",
      "\u001b[36m\u001b[1m[ \u001b[22m\u001b[39m\u001b[36m\u001b[1mInfo: \u001b[22m\u001b[39m started timer at: 2024-03-18T07:00:12.905\n"
     ]
    },
    {
     "name": "stdout",
     "output_type": "stream",
     "text": [
      "false\n",
      "50\n",
      "k : 12\n",
      "1\n",
      "-62753.99351183386\n",
      "3053.467933172312\n",
      "50\n",
      "K : 12\n",
      "[0 -800 -100 -1200 -2000]\n"
     ]
    },
    {
     "name": "stderr",
     "output_type": "stream",
     "text": [
      "\u001b[36m\u001b[1m[ \u001b[22m\u001b[39m\u001b[36m\u001b[1mInfo: \u001b[22m\u001b[39m         886.6955029s: 14 minutes, 46 seconds, 695 milliseconds\n",
      "\u001b[36m\u001b[1m[ \u001b[22m\u001b[39m\u001b[36m\u001b[1mInfo: \u001b[22m\u001b[39m started timer at: 2024-03-18T07:14:59.628\n"
     ]
    },
    {
     "name": "stdout",
     "output_type": "stream",
     "text": [
      "false\n",
      "50\n",
      "k : 12\n",
      "1\n",
      "-66140.09538018804\n",
      "3163.0858901517386\n"
     ]
    },
    {
     "name": "stderr",
     "output_type": "stream",
     "text": [
      "\u001b[36m\u001b[1m[ \u001b[22m\u001b[39m\u001b[36m\u001b[1mInfo: \u001b[22m\u001b[39m         886.6463265s: 14 minutes, 46 seconds, 646 milliseconds\n",
      "\u001b[36m\u001b[1m[ \u001b[22m\u001b[39m\u001b[36m\u001b[1mInfo: \u001b[22m\u001b[39m started timer at: 2024-03-18T07:29:46.303\n"
     ]
    },
    {
     "name": "stdout",
     "output_type": "stream",
     "text": [
      "50\n",
      "K : 12\n",
      "[0 -1000 -100 -1200 -2000]\n",
      "false\n",
      "50\n",
      "k : 12\n",
      "1\n",
      "-68951.90229677409\n",
      "3331.356764933335\n",
      "50\n",
      "K : 12\n",
      "[0 -1200 -100 -1200 -2000]\n"
     ]
    },
    {
     "name": "stderr",
     "output_type": "stream",
     "text": [
      "\u001b[36m\u001b[1m[ \u001b[22m\u001b[39m\u001b[36m\u001b[1mInfo: \u001b[22m\u001b[39m         888.3127818s: 14 minutes, 48 seconds, 312 milliseconds\n",
      "\u001b[36m\u001b[1m[ \u001b[22m\u001b[39m\u001b[36m\u001b[1mInfo: \u001b[22m\u001b[39m started timer at: 2024-03-18T07:44:34.633\n"
     ]
    },
    {
     "name": "stdout",
     "output_type": "stream",
     "text": [
      "false\n",
      "50\n",
      "k : 12\n",
      "1\n",
      "-71328.89348013143\n",
      "3485.150253697942\n",
      "50\n",
      "K : 12\n",
      "[0 -1400 -100 -1200 -2000]\n"
     ]
    },
    {
     "name": "stderr",
     "output_type": "stream",
     "text": [
      "\u001b[36m\u001b[1m[ \u001b[22m\u001b[39m\u001b[36m\u001b[1mInfo: \u001b[22m\u001b[39m         889.2407221s: 14 minutes, 49 seconds, 240 milliseconds\n",
      "\u001b[36m\u001b[1m[ \u001b[22m\u001b[39m\u001b[36m\u001b[1mInfo: \u001b[22m\u001b[39m started timer at: 2024-03-18T07:59:23.891\n"
     ]
    },
    {
     "name": "stdout",
     "output_type": "stream",
     "text": [
      "false\n",
      "50\n",
      "k : 12\n",
      "1\n",
      "-73318.89285628394\n",
      "3657.0575529844414\n",
      "50\n",
      "K : 12\n",
      "[0 -1600 -100 -1200 -2000]\n"
     ]
    },
    {
     "name": "stderr",
     "output_type": "stream",
     "text": [
      "\u001b[36m\u001b[1m[ \u001b[22m\u001b[39m\u001b[36m\u001b[1mInfo: \u001b[22m\u001b[39m         891.2882634s: 14 minutes, 51 seconds, 288 milliseconds\n",
      "\u001b[36m\u001b[1m[ \u001b[22m\u001b[39m\u001b[36m\u001b[1mInfo: \u001b[22m\u001b[39m started timer at: 2024-03-18T08:14:15.197\n"
     ]
    },
    {
     "name": "stdout",
     "output_type": "stream",
     "text": [
      "false\n",
      "50\n",
      "k : 12\n",
      "1\n",
      "-75266.72041610822\n",
      "3727.4066745039754\n",
      "50\n",
      "K : 12\n",
      "[0 -1800 -100 -1200 -2000]\n"
     ]
    },
    {
     "name": "stderr",
     "output_type": "stream",
     "text": [
      "\u001b[36m\u001b[1m[ \u001b[22m\u001b[39m\u001b[36m\u001b[1mInfo: \u001b[22m\u001b[39m         884.6778441s: 14 minutes, 44 seconds, 677 milliseconds\n",
      "\u001b[36m\u001b[1m[ \u001b[22m\u001b[39m\u001b[36m\u001b[1mInfo: \u001b[22m\u001b[39m started timer at: 2024-03-18T08:28:59.892\n"
     ]
    },
    {
     "name": "stdout",
     "output_type": "stream",
     "text": [
      "false\n",
      "50\n",
      "k : 12\n",
      "1\n",
      "-77153.7830995002\n",
      "3828.9890710823493\n",
      "50\n",
      "K : 12\n",
      "[0 -2000 -100 -1200 -2000]\n"
     ]
    },
    {
     "name": "stderr",
     "output_type": "stream",
     "text": [
      "\u001b[36m\u001b[1m[ \u001b[22m\u001b[39m\u001b[36m\u001b[1mInfo: \u001b[22m\u001b[39m           885.88862s: 14 minutes, 45 seconds, 888 milliseconds\n",
      "\u001b[36m\u001b[1m[ \u001b[22m\u001b[39m\u001b[36m\u001b[1mInfo: \u001b[22m\u001b[39m started timer at: 2024-03-18T08:43:45.809\n"
     ]
    },
    {
     "name": "stdout",
     "output_type": "stream",
     "text": [
      "false\n",
      "50\n",
      "k : 12\n",
      "1\n",
      "-78924.76758926208\n",
      "3834.0689339694486\n",
      "50\n",
      "K : 12\n",
      "[0 -2400 -100 -1200 -2000]\n"
     ]
    },
    {
     "name": "stderr",
     "output_type": "stream",
     "text": [
      "\u001b[36m\u001b[1m[ \u001b[22m\u001b[39m\u001b[36m\u001b[1mInfo: \u001b[22m\u001b[39m         889.6228148s: 14 minutes, 49 seconds, 622 milliseconds\n",
      "\u001b[36m\u001b[1m[ \u001b[22m\u001b[39m\u001b[36m\u001b[1mInfo: \u001b[22m\u001b[39m started timer at: 2024-03-18T08:58:35.459\n"
     ]
    },
    {
     "name": "stdout",
     "output_type": "stream",
     "text": [
      "false\n",
      "50\n",
      "k : 12\n",
      "1\n",
      "-82423.74092545973\n",
      "3966.029086554586\n",
      "50\n",
      "K : 12\n",
      "[0 -2800 -100 -1200 -2000]\n"
     ]
    },
    {
     "name": "stderr",
     "output_type": "stream",
     "text": [
      "\u001b[36m\u001b[1m[ \u001b[22m\u001b[39m\u001b[36m\u001b[1mInfo: \u001b[22m\u001b[39m          891.512183s: 14 minutes, 51 seconds, 512 milliseconds\n",
      "\u001b[36m\u001b[1m[ \u001b[22m\u001b[39m\u001b[36m\u001b[1mInfo: \u001b[22m\u001b[39m started timer at: 2024-03-18T09:13:26.999\n"
     ]
    },
    {
     "name": "stdout",
     "output_type": "stream",
     "text": [
      "false\n",
      "50\n",
      "k : 12\n",
      "1\n",
      "-85341.28216975021\n",
      "4014.0041262675986\n",
      "50\n",
      "K : 12\n",
      "[0 -3200 -100 -1200 -2000]\n"
     ]
    },
    {
     "name": "stderr",
     "output_type": "stream",
     "text": [
      "\u001b[36m\u001b[1m[ \u001b[22m\u001b[39m\u001b[36m\u001b[1mInfo: \u001b[22m\u001b[39m         886.6622437s: 14 minutes, 46 seconds, 662 milliseconds\n",
      "\u001b[36m\u001b[1m[ \u001b[22m\u001b[39m\u001b[36m\u001b[1mInfo: \u001b[22m\u001b[39m started timer at: 2024-03-18T09:28:13.689\n"
     ]
    },
    {
     "name": "stdout",
     "output_type": "stream",
     "text": [
      "false\n",
      "50\n",
      "k : 12\n",
      "1\n",
      "-88150.25291102265\n",
      "4099.822833762176\n",
      "-------------------------\n",
      "50"
     ]
    },
    {
     "name": "stderr",
     "output_type": "stream",
     "text": [
      "\u001b[36m\u001b[1m[ \u001b[22m\u001b[39m\u001b[36m\u001b[1mInfo: \u001b[22m\u001b[39m         886.5243939s: 14 minutes, 46 seconds, 524 milliseconds\n",
      "\u001b[36m\u001b[1m[ \u001b[22m\u001b[39m\u001b[36m\u001b[1mInfo: \u001b[22m\u001b[39m started timer at: 2024-03-18T09:43:00.230\n"
     ]
    },
    {
     "name": "stdout",
     "output_type": "stream",
     "text": [
      "\n",
      "K : 14\n",
      "[0 -200 -100 -1200 -2000]\n",
      "false\n",
      "50\n",
      "k : 14\n",
      "1\n",
      "-55366.012144476226\n",
      "3097.4328455372947\n",
      "50\n",
      "K : 14\n",
      "[0 -400 -100 -1200 -2000]\n"
     ]
    },
    {
     "name": "stderr",
     "output_type": "stream",
     "text": [
      "\u001b[36m\u001b[1m[ \u001b[22m\u001b[39m\u001b[36m\u001b[1mInfo: \u001b[22m\u001b[39m         886.8687047s: 14 minutes, 46 seconds, 868 milliseconds\n",
      "\u001b[36m\u001b[1m[ \u001b[22m\u001b[39m\u001b[36m\u001b[1mInfo: \u001b[22m\u001b[39m started timer at: 2024-03-18T09:57:47.116\n"
     ]
    },
    {
     "name": "stdout",
     "output_type": "stream",
     "text": [
      "false\n",
      "50\n",
      "k : 14\n",
      "1\n",
      "-59138.03920315068\n",
      "3026.7709057258994\n",
      "50\n",
      "K : 14\n",
      "[0 -600 -100 -1200 -2000]\n"
     ]
    },
    {
     "name": "stderr",
     "output_type": "stream",
     "text": [
      "\u001b[36m\u001b[1m[ \u001b[22m\u001b[39m\u001b[36m\u001b[1mInfo: \u001b[22m\u001b[39m         886.9069767s: 14 minutes, 46 seconds, 906 milliseconds\n",
      "\u001b[36m\u001b[1m[ \u001b[22m\u001b[39m\u001b[36m\u001b[1mInfo: \u001b[22m\u001b[39m started timer at: 2024-03-18T10:12:34.040\n"
     ]
    },
    {
     "name": "stdout",
     "output_type": "stream",
     "text": [
      "false\n",
      "50\n",
      "k : 14\n",
      "1\n",
      "-62809.77637282195\n",
      "3059.05254918547\n",
      "50\n",
      "K : 14\n",
      "[0 -800 -100 -1200 -2000]\n"
     ]
    },
    {
     "name": "stderr",
     "output_type": "stream",
     "text": [
      "\u001b[36m\u001b[1m[ \u001b[22m\u001b[39m\u001b[36m\u001b[1mInfo: \u001b[22m\u001b[39m         885.2876439s: 14 minutes, 45 seconds, 287 milliseconds\n",
      "\u001b[36m\u001b[1m[ \u001b[22m\u001b[39m\u001b[36m\u001b[1mInfo: \u001b[22m\u001b[39m started timer at: 2024-03-18T10:27:19.345\n"
     ]
    },
    {
     "name": "stdout",
     "output_type": "stream",
     "text": [
      "false\n",
      "50\n",
      "k : 14\n",
      "1\n",
      "-66074.90646502357\n",
      "3197.5400586428987\n",
      "50"
     ]
    },
    {
     "name": "stderr",
     "output_type": "stream",
     "text": [
      "\u001b[36m\u001b[1m[ \u001b[22m\u001b[39m\u001b[36m\u001b[1mInfo: \u001b[22m\u001b[39m         887.9925688s: 14 minutes, 47 seconds, 992 milliseconds\n",
      "\u001b[36m\u001b[1m[ \u001b[22m\u001b[39m\u001b[36m\u001b[1mInfo: \u001b[22m\u001b[39m started timer at: 2024-03-18T10:42:07.355\n"
     ]
    },
    {
     "name": "stdout",
     "output_type": "stream",
     "text": [
      "\n",
      "K : 14\n",
      "[0 -1000 -100 -1200 -2000]\n",
      "false\n",
      "50\n",
      "k : 14\n",
      "1\n",
      "-68842.15145959205\n",
      "3340.2240429008784\n",
      "50\n",
      "K : 14\n",
      "[0 -1200 -100 -1200 -2000]\n"
     ]
    },
    {
     "name": "stderr",
     "output_type": "stream",
     "text": [
      "\u001b[36m\u001b[1m[ \u001b[22m\u001b[39m\u001b[36m\u001b[1mInfo: \u001b[22m\u001b[39m         885.3957019s: 14 minutes, 45 seconds, 395 milliseconds\n",
      "\u001b[36m\u001b[1m[ \u001b[22m\u001b[39m\u001b[36m\u001b[1mInfo: \u001b[22m\u001b[39m started timer at: 2024-03-18T10:56:52.768\n"
     ]
    },
    {
     "name": "stdout",
     "output_type": "stream",
     "text": [
      "false\n",
      "50\n",
      "k : 14\n",
      "1\n",
      "-71218.28384540553\n",
      "3469.1766581975244\n",
      "50\n",
      "K : 14\n",
      "[0 -1400 -100 -1200 -2000]\n"
     ]
    },
    {
     "name": "stderr",
     "output_type": "stream",
     "text": [
      "\u001b[36m\u001b[1m[ \u001b[22m\u001b[39m\u001b[36m\u001b[1mInfo: \u001b[22m\u001b[39m          887.636282s: 14 minutes, 47 seconds, 636 milliseconds\n",
      "\u001b[36m\u001b[1m[ \u001b[22m\u001b[39m\u001b[36m\u001b[1mInfo: \u001b[22m\u001b[39m started timer at: 2024-03-18T11:11:40.421\n"
     ]
    },
    {
     "name": "stdout",
     "output_type": "stream",
     "text": [
      "false\n",
      "50\n",
      "k : 14\n",
      "1\n",
      "-73287.88737640526\n",
      "3652.6524055637283\n",
      "50\n",
      "K : 14\n",
      "[0 -1600 -100 -1200"
     ]
    },
    {
     "name": "stderr",
     "output_type": "stream",
     "text": [
      "\u001b[36m\u001b[1m[ \u001b[22m\u001b[39m\u001b[36m\u001b[1mInfo: \u001b[22m\u001b[39m         886.6452292s: 14 minutes, 46 seconds, 645 milliseconds\n",
      "\u001b[36m\u001b[1m[ \u001b[22m\u001b[39m\u001b[36m\u001b[1mInfo: \u001b[22m\u001b[39m started timer at: 2024-03-18T11:26:27.084\n"
     ]
    },
    {
     "name": "stdout",
     "output_type": "stream",
     "text": [
      " -2000]\n",
      "false\n",
      "50\n",
      "k : 14\n",
      "1\n",
      "-75129.49107971504\n",
      "3696.1755453310443\n",
      "50\n",
      "K : 14\n",
      "[0 -1800 -100 -1200 -2000]\n"
     ]
    },
    {
     "name": "stderr",
     "output_type": "stream",
     "text": [
      "\u001b[36m\u001b[1m[ \u001b[22m\u001b[39m\u001b[36m\u001b[1mInfo: \u001b[22m\u001b[39m         888.4339821s: 14 minutes, 48 seconds, 433 milliseconds\n",
      "\u001b[36m\u001b[1m[ \u001b[22m\u001b[39m\u001b[36m\u001b[1mInfo: \u001b[22m\u001b[39m started timer at: 2024-03-18T11:41:15.536\n"
     ]
    },
    {
     "name": "stdout",
     "output_type": "stream",
     "text": [
      "false\n",
      "50\n",
      "k : 14\n",
      "1\n",
      "-76969.90543464654\n",
      "3874.1462661002015\n",
      "50\n",
      "K : 14\n",
      "[0 -2000 -100 -1200 -2000]\n"
     ]
    },
    {
     "name": "stderr",
     "output_type": "stream",
     "text": [
      "\u001b[36m\u001b[1m[ \u001b[22m\u001b[39m\u001b[36m\u001b[1mInfo: \u001b[22m\u001b[39m         890.5201246s: 14 minutes, 50 seconds, 520 milliseconds\n",
      "\u001b[36m\u001b[1m[ \u001b[22m\u001b[39m\u001b[36m\u001b[1mInfo: \u001b[22m\u001b[39m started timer at: 2024-03-18T11:56:06.073\n"
     ]
    },
    {
     "name": "stdout",
     "output_type": "stream",
     "text": [
      "false\n",
      "50\n",
      "k : 14\n",
      "1\n",
      "-78741.19925455988\n",
      "3879.487172020479\n",
      "50\n",
      "K : 14\n",
      "[0 -2400 -100 -1200 -2000]\n"
     ]
    },
    {
     "name": "stderr",
     "output_type": "stream",
     "text": [
      "\u001b[36m\u001b[1m[ \u001b[22m\u001b[39m\u001b[36m\u001b[1mInfo: \u001b[22m\u001b[39m         892.7379956s: 14 minutes, 52 seconds, 737 milliseconds\n",
      "\u001b[36m\u001b[1m[ \u001b[22m\u001b[39m\u001b[36m\u001b[1mInfo: \u001b[22m\u001b[39m started timer at: 2024-03-18T12:10:58.828\n"
     ]
    },
    {
     "name": "stdout",
     "output_type": "stream",
     "text": [
      "false\n",
      "50\n",
      "k : 14\n",
      "1\n",
      "-81963.97669424082\n",
      "3937.626455092374\n",
      "50\n",
      "K : 14\n",
      "[0 -2800 -100 -1200 -2000]\n"
     ]
    },
    {
     "name": "stderr",
     "output_type": "stream",
     "text": [
      "\u001b[36m\u001b[1m[ \u001b[22m\u001b[39m\u001b[36m\u001b[1mInfo: \u001b[22m\u001b[39m         890.5267078s: 14 minutes, 50 seconds, 526 milliseconds\n",
      "\u001b[36m\u001b[1m[ \u001b[22m\u001b[39m\u001b[36m\u001b[1mInfo: \u001b[22m\u001b[39m started timer at: 2024-03-18T12:25:49.372\n"
     ]
    },
    {
     "name": "stdout",
     "output_type": "stream",
     "text": [
      "false\n",
      "50\n",
      "k : 14\n",
      "1\n",
      "-84908.75029928601\n",
      "3992.7355938566284\n",
      "50\n",
      "K : 14\n",
      "[0 -3200 -100 -1200 -2000]\n"
     ]
    },
    {
     "name": "stderr",
     "output_type": "stream",
     "text": [
      "\u001b[36m\u001b[1m[ \u001b[22m\u001b[39m\u001b[36m\u001b[1mInfo: \u001b[22m\u001b[39m         891.4669249s: 14 minutes, 51 seconds, 466 milliseconds\n",
      "\u001b[36m\u001b[1m[ \u001b[22m\u001b[39m\u001b[36m\u001b[1mInfo: \u001b[22m\u001b[39m started timer at: 2024-03-18T12:40:40.857\n"
     ]
    },
    {
     "name": "stdout",
     "output_type": "stream",
     "text": [
      "false\n",
      "50\n",
      "k : 14\n",
      "1\n",
      "-87541.207202066\n",
      "4129.476461503166\n"
     ]
    },
    {
     "name": "stderr",
     "output_type": "stream",
     "text": [
      "\u001b[36m\u001b[1m[ \u001b[22m\u001b[39m\u001b[36m\u001b[1mInfo: \u001b[22m\u001b[39m         890.7425583s: 14 minutes, 50 seconds, 742 milliseconds\n"
     ]
    },
    {
     "name": "stdout",
     "output_type": "stream",
     "text": [
      "-------------------------\n",
      "50\n",
      "K : 16\n",
      "[0 -200 -100 -1200 -2000]\n"
     ]
    },
    {
     "name": "stderr",
     "output_type": "stream",
     "text": [
      "\u001b[36m\u001b[1m[ \u001b[22m\u001b[39m\u001b[36m\u001b[1mInfo: \u001b[22m\u001b[39m started timer at: 2024-03-18T12:55:31.638\n"
     ]
    },
    {
     "name": "stdout",
     "output_type": "stream",
     "text": [
      "false\n",
      "50\n",
      "k : 16\n",
      "1\n",
      "-55307.86032210145\n",
      "3073.2725596427035\n",
      "50\n",
      "K : 16\n",
      "[0 -400 -100 -1200 -2000]\n"
     ]
    },
    {
     "name": "stderr",
     "output_type": "stream",
     "text": [
      "\u001b[36m\u001b[1m[ \u001b[22m\u001b[39m\u001b[36m\u001b[1mInfo: \u001b[22m\u001b[39m         891.5448056s: 14 minutes, 51 seconds, 544 milliseconds\n",
      "\u001b[36m\u001b[1m[ \u001b[22m\u001b[39m\u001b[36m\u001b[1mInfo: \u001b[22m\u001b[39m started timer at: 2024-03-18T13:10:23.211\n"
     ]
    },
    {
     "name": "stdout",
     "output_type": "stream",
     "text": [
      "false\n",
      "50\n",
      "k : 16\n",
      "1\n",
      "-59122.22742188852\n",
      "3008.4114544997556\n",
      "50\n",
      "K : 16\n",
      "[0 -600 -100 -1200 -2000]\n"
     ]
    },
    {
     "name": "stderr",
     "output_type": "stream",
     "text": [
      "\u001b[36m\u001b[1m[ \u001b[22m\u001b[39m\u001b[36m\u001b[1mInfo: \u001b[22m\u001b[39m         890.1295556s: 14 minutes, 50 seconds, 129 milliseconds\n",
      "\u001b[36m\u001b[1m[ \u001b[22m\u001b[39m\u001b[36m\u001b[1mInfo: \u001b[22m\u001b[39m started timer at: 2024-03-18T13:25:13.358\n"
     ]
    },
    {
     "name": "stdout",
     "output_type": "stream",
     "text": [
      "false\n",
      "50\n",
      "k : 16\n",
      "1\n",
      "-62705.987806915844\n",
      "3057.2905240728546\n",
      "50\n",
      "K : 16\n",
      "[0 -800 -100 -1200 -2000]\n"
     ]
    },
    {
     "name": "stderr",
     "output_type": "stream",
     "text": [
      "\u001b[36m\u001b[1m[ \u001b[22m\u001b[39m\u001b[36m\u001b[1mInfo: \u001b[22m\u001b[39m         891.4001102s: 14 minutes, 51 seconds, 400 milliseconds\n",
      "\u001b[36m\u001b[1m[ \u001b[22m\u001b[39m\u001b[36m\u001b[1mInfo: \u001b[22m\u001b[39m started timer at: 2024-03-18T13:40:04.775\n"
     ]
    },
    {
     "name": "stdout",
     "output_type": "stream",
     "text": [
      "false\n",
      "50\n",
      "k : 16\n",
      "1\n",
      "-65932.40996124137\n",
      "3214.694837577803\n",
      "50\n",
      "K : 16\n",
      "[0 -1000 -100 -1200 -2000]\n"
     ]
    },
    {
     "name": "stderr",
     "output_type": "stream",
     "text": [
      "\u001b[36m\u001b[1m[ \u001b[22m\u001b[39m\u001b[36m\u001b[1mInfo: \u001b[22m\u001b[39m         891.3873479s: 14 minutes, 51 seconds, 387 milliseconds\n",
      "\u001b[36m\u001b[1m[ \u001b[22m\u001b[39m\u001b[36m\u001b[1mInfo: \u001b[22m\u001b[39m started timer at: 2024-03-18T13:54:56.179\n"
     ]
    },
    {
     "name": "stdout",
     "output_type": "stream",
     "text": [
      "false\n",
      "50\n",
      "k : 16\n",
      "1\n",
      "-68612.88056470254\n",
      "3380.1202195354867\n",
      "50\n",
      "K : 16\n",
      "[0 -1200"
     ]
    },
    {
     "name": "stderr",
     "output_type": "stream",
     "text": [
      "\u001b[36m\u001b[1m[ \u001b[22m\u001b[39m\u001b[36m\u001b[1mInfo: \u001b[22m\u001b[39m         889.4726532s: 14 minutes, 49 seconds, 472 milliseconds\n",
      "\u001b[36m\u001b[1m[ \u001b[22m\u001b[39m\u001b[36m\u001b[1mInfo: \u001b[22m\u001b[39m started timer at: 2024-03-18T14:09:45.680\n"
     ]
    },
    {
     "name": "stdout",
     "output_type": "stream",
     "text": [
      " -100 -1200 -2000]\n",
      "false\n",
      "50\n",
      "k : 16\n",
      "1\n",
      "-70914.49421739404\n",
      "3555.719724995643\n",
      "50\n",
      "K : 16\n",
      "[0 -1400 -100 -1200 -2000]\n"
     ]
    },
    {
     "name": "stderr",
     "output_type": "stream",
     "text": [
      "\u001b[36m\u001b[1m[ \u001b[22m\u001b[39m\u001b[36m\u001b[1mInfo: \u001b[22m\u001b[39m         891.9645393s: 14 minutes, 51 seconds, 964 milliseconds\n",
      "\u001b[36m\u001b[1m[ \u001b[22m\u001b[39m\u001b[36m\u001b[1mInfo: \u001b[22m\u001b[39m started timer at: 2024-03-18T14:24:37.662\n"
     ]
    },
    {
     "name": "stdout",
     "output_type": "stream",
     "text": [
      "false\n",
      "50\n",
      "k : 16\n",
      "1\n",
      "-73004.09540272978\n",
      "3707.6876016510214\n",
      "50\n",
      "K : 16\n",
      "[0 -1600 -100 -1200 -2000]\n"
     ]
    },
    {
     "name": "stderr",
     "output_type": "stream",
     "text": [
      "\u001b[36m\u001b[1m[ \u001b[22m\u001b[39m\u001b[36m\u001b[1mInfo: \u001b[22m\u001b[39m          887.534214s: 14 minutes, 47 seconds, 534 milliseconds\n",
      "\u001b[36m\u001b[1m[ \u001b[22m\u001b[39m\u001b[36m\u001b[1mInfo: \u001b[22m\u001b[39m started timer at: 2024-03-18T14:39:25.213\n"
     ]
    },
    {
     "name": "stdout",
     "output_type": "stream",
     "text": [
      "false\n",
      "50\n",
      "k : 16\n",
      "1\n",
      "-74872.54767128163\n",
      "3773.395756468728\n",
      "50\n",
      "K : 16\n",
      "[0 -1800 -100 -1200 -2000]\n"
     ]
    },
    {
     "name": "stderr",
     "output_type": "stream",
     "text": [
      "\u001b[36m\u001b[1m[ \u001b[22m\u001b[39m\u001b[36m\u001b[1mInfo: \u001b[22m\u001b[39m         889.2903013s: 14 minutes, 49 seconds, 290 milliseconds\n",
      "\u001b[36m\u001b[1m[ \u001b[22m\u001b[39m\u001b[36m\u001b[1mInfo: \u001b[22m\u001b[39m started timer at: 2024-03-18T14:54:14.521\n"
     ]
    },
    {
     "name": "stdout",
     "output_type": "stream",
     "text": [
      "false\n",
      "50\n",
      "k : 16\n",
      "1\n",
      "-76709.6591498368\n",
      "3895.4946294046413\n",
      "50\n",
      "K : 16\n",
      "[0 -2000 -100 -1200 -2000]\n"
     ]
    },
    {
     "name": "stderr",
     "output_type": "stream",
     "text": [
      "\u001b[36m\u001b[1m[ \u001b[22m\u001b[39m\u001b[36m\u001b[1mInfo: \u001b[22m\u001b[39m          891.269534s: 14 minutes, 51 seconds, 269 milliseconds\n",
      "\u001b[36m\u001b[1m[ \u001b[22m\u001b[39m\u001b[36m\u001b[1mInfo: \u001b[22m\u001b[39m started timer at: 2024-03-18T15:09:05.819\n"
     ]
    },
    {
     "name": "stdout",
     "output_type": "stream",
     "text": [
      "false\n",
      "50\n",
      "k : 16\n",
      "1\n",
      "-78438.0705941014\n",
      "3964.437980755016\n",
      "50\n",
      "K : 16\n",
      "[0 -2400 -100 -1200 -2000]\n"
     ]
    },
    {
     "name": "stderr",
     "output_type": "stream",
     "text": [
      "\u001b[36m\u001b[1m[ \u001b[22m\u001b[39m\u001b[36m\u001b[1mInfo: \u001b[22m\u001b[39m         891.1985765s: 14 minutes, 51 seconds, 198 milliseconds\n",
      "\u001b[36m\u001b[1m[ \u001b[22m\u001b[39m\u001b[36m\u001b[1mInfo: \u001b[22m\u001b[39m started timer at: 2024-03-18T15:23:57.034\n"
     ]
    },
    {
     "name": "stdout",
     "output_type": "stream",
     "text": [
      "false\n",
      "50\n",
      "k : 16\n",
      "1\n",
      "-81376.82679832942\n",
      "4061.416743714698\n",
      "50\n",
      "K : 16\n",
      "[0 -2800 -100 -1200 -2000]\n"
     ]
    },
    {
     "name": "stderr",
     "output_type": "stream",
     "text": [
      "\u001b[36m\u001b[1m[ \u001b[22m\u001b[39m\u001b[36m\u001b[1mInfo: \u001b[22m\u001b[39m         890.4006953s: 14 minutes, 50 seconds, 400 milliseconds\n",
      "\u001b[36m\u001b[1m[ \u001b[22m\u001b[39m\u001b[36m\u001b[1mInfo: \u001b[22m\u001b[39m started timer at: 2024-03-18T15:38:47.451\n"
     ]
    },
    {
     "name": "stdout",
     "output_type": "stream",
     "text": [
      "false\n",
      "50\n",
      "k : 16\n",
      "1\n",
      "-85076.02260266797\n",
      "4439.321317536574\n"
     ]
    },
    {
     "name": "stderr",
     "output_type": "stream",
     "text": [
      "\u001b[36m\u001b[1m[ \u001b[22m\u001b[39m\u001b[36m\u001b[1mInfo: \u001b[22m\u001b[39m         889.3944656s: 14 minutes, 49 seconds, 394 milliseconds\n",
      "\u001b[36m\u001b[1m[ \u001b[22m\u001b[39m\u001b[36m\u001b[1mInfo: \u001b[22m\u001b[39m started timer at: 2024-03-18T15:53:36.864\n"
     ]
    },
    {
     "name": "stdout",
     "output_type": "stream",
     "text": [
      "50\n",
      "K : 16\n",
      "[0 -3200 -100 -1200 -2000]\n",
      "false\n",
      "50\n",
      "k : 16\n",
      "1\n",
      "-89455.23148370447\n",
      "4861.053951633517\n",
      "-------------------------\n",
      "50\n",
      "K : 18\n",
      "[0 -200 -100 -1200 -2000]\n"
     ]
    },
    {
     "name": "stderr",
     "output_type": "stream",
     "text": [
      "\u001b[36m\u001b[1m[ \u001b[22m\u001b[39m\u001b[36m\u001b[1mInfo: \u001b[22m\u001b[39m         889.1411409s: 14 minutes, 49 seconds, 141 milliseconds\n",
      "\u001b[36m\u001b[1m[ \u001b[22m\u001b[39m\u001b[36m\u001b[1mInfo: \u001b[22m\u001b[39m started timer at: 2024-03-18T16:08:26.022\n"
     ]
    },
    {
     "name": "stdout",
     "output_type": "stream",
     "text": [
      "false\n",
      "50\n",
      "k : 18\n",
      "1\n",
      "-55449.771616389226\n",
      "3169.2025058723807\n",
      "50\n",
      "K : 18\n",
      "[0 -400 -100 -1200 -2000]\n"
     ]
    },
    {
     "name": "stderr",
     "output_type": "stream",
     "text": [
      "\u001b[36m\u001b[1m[ \u001b[22m\u001b[39m\u001b[36m\u001b[1mInfo: \u001b[22m\u001b[39m          891.268383s: 14 minutes, 51 seconds, 268 milliseconds\n",
      "\u001b[36m\u001b[1m[ \u001b[22m\u001b[39m\u001b[36m\u001b[1mInfo: \u001b[22m\u001b[39m started timer at: 2024-03-18T16:23:17.307\n"
     ]
    },
    {
     "name": "stdout",
     "output_type": "stream",
     "text": [
      "false\n",
      "50\n",
      "k : 18\n",
      "1\n",
      "-59135.35421158452\n",
      "3188.6877577165055\n",
      "50\n",
      "K : 18\n",
      "[0 -600 -100 -1200 -2000]\n"
     ]
    },
    {
     "name": "stderr",
     "output_type": "stream",
     "text": [
      "\u001b[36m\u001b[1m[ \u001b[22m\u001b[39m\u001b[36m\u001b[1mInfo: \u001b[22m\u001b[39m         891.5250649s: 14 minutes, 51 seconds, 525 milliseconds\n",
      "\u001b[36m\u001b[1m[ \u001b[22m\u001b[39m\u001b[36m\u001b[1mInfo: \u001b[22m\u001b[39m started timer at: 2024-03-18T16:38:08.850\n"
     ]
    },
    {
     "name": "stdout",
     "output_type": "stream",
     "text": [
      "false\n",
      "50\n",
      "k : 18\n",
      "1\n",
      "-62669.58643030121\n",
      "3307.8593649596696\n"
     ]
    },
    {
     "name": "stderr",
     "output_type": "stream",
     "text": [
      "\u001b[36m\u001b[1m[ \u001b[22m\u001b[39m\u001b[36m\u001b[1mInfo: \u001b[22m\u001b[39m         890.2284991s: 14 minutes, 50 seconds, 228 milliseconds\n"
     ]
    },
    {
     "name": "stdout",
     "output_type": "stream",
     "text": [
      "50\n",
      "K : 18\n",
      "[0 -800 -100 -1200 -2000]\n"
     ]
    },
    {
     "name": "stderr",
     "output_type": "stream",
     "text": [
      "\u001b[36m\u001b[1m[ \u001b[22m\u001b[39m\u001b[36m\u001b[1mInfo: \u001b[22m\u001b[39m started timer at: 2024-03-18T16:52:59.106\n"
     ]
    },
    {
     "name": "stdout",
     "output_type": "stream",
     "text": [
      "false\n",
      "50\n",
      "k : 18\n",
      "1\n",
      "-65812.49177412226\n",
      "3504.6232969603566\n",
      "50\n",
      "K : 18\n",
      "[0 -1000 -100 -1200 -2000]\n"
     ]
    },
    {
     "name": "stderr",
     "output_type": "stream",
     "text": [
      "\u001b[36m\u001b[1m[ \u001b[22m\u001b[39m\u001b[36m\u001b[1mInfo: \u001b[22m\u001b[39m         889.0565081s: 14 minutes, 49 seconds, 56 milliseconds\n",
      "\u001b[36m\u001b[1m[ \u001b[22m\u001b[39m\u001b[36m\u001b[1mInfo: \u001b[22m\u001b[39m started timer at: 2024-03-18T17:07:48.178\n"
     ]
    },
    {
     "name": "stdout",
     "output_type": "stream",
     "text": [
      "false\n",
      "50\n",
      "k : 18\n",
      "1\n",
      "-68720.99196688525\n",
      "3815.3281350766865\n",
      "50\n",
      "K : 18\n",
      "[0 -1200 -100 -1200 -2000]\n"
     ]
    },
    {
     "name": "stderr",
     "output_type": "stream",
     "text": [
      "\u001b[36m\u001b[1m[ \u001b[22m\u001b[39m\u001b[36m\u001b[1mInfo: \u001b[22m\u001b[39m         890.1469428s: 14 minutes, 50 seconds, 146 milliseconds\n",
      "\u001b[36m\u001b[1m[ \u001b[22m\u001b[39m\u001b[36m\u001b[1mInfo: \u001b[22m\u001b[39m started timer at: 2024-03-18T17:22:38.343\n"
     ]
    },
    {
     "name": "stdout",
     "output_type": "stream",
     "text": [
      "false\n",
      "50\n",
      "k : 18\n",
      "1\n",
      "-71537.67573302593\n",
      "4080.9839429431368\n",
      "50\n",
      "K : 18\n",
      "[0 -1400 -100 -1200 -2000]\n"
     ]
    },
    {
     "name": "stderr",
     "output_type": "stream",
     "text": [
      "\u001b[36m\u001b[1m[ \u001b[22m\u001b[39m\u001b[36m\u001b[1mInfo: \u001b[22m\u001b[39m         889.4356902s: 14 minutes, 49 seconds, 435 milliseconds\n",
      "\u001b[36m\u001b[1m[ \u001b[22m\u001b[39m\u001b[36m\u001b[1mInfo: \u001b[22m\u001b[39m started timer at: 2024-03-18T17:37:27.796\n"
     ]
    },
    {
     "name": "stdout",
     "output_type": "stream",
     "text": [
      "false\n",
      "50\n",
      "k : 18\n",
      "1\n",
      "-74548.09617211224\n",
      "4529.324058844405\n",
      "50\n",
      "K : 18\n",
      "[0 -1600 -100 -1200 -2000]\n"
     ]
    },
    {
     "name": "stderr",
     "output_type": "stream",
     "text": [
      "\u001b[36m\u001b[1m[ \u001b[22m\u001b[39m\u001b[36m\u001b[1mInfo: \u001b[22m\u001b[39m         890.4780023s: 14 minutes, 50 seconds, 478 milliseconds\n",
      "\u001b[36m\u001b[1m[ \u001b[22m\u001b[39m\u001b[36m\u001b[1mInfo: \u001b[22m\u001b[39m started timer at: 2024-03-18T17:52:18.291\n"
     ]
    },
    {
     "name": "stdout",
     "output_type": "stream",
     "text": [
      "false\n",
      "50\n",
      "k : 18\n",
      "1\n",
      "-78029.47108943807\n",
      "4873.618392692995\n",
      "50\n",
      "K : 18\n",
      "[0 -1800 -100 -1200 -2000]\n"
     ]
    },
    {
     "name": "stderr",
     "output_type": "stream",
     "text": [
      "\u001b[36m\u001b[1m[ \u001b[22m\u001b[39m\u001b[36m\u001b[1mInfo: \u001b[22m\u001b[39m         887.9820697s: 14 minutes, 47 seconds, 982 milliseconds\n",
      "\u001b[36m\u001b[1m[ \u001b[22m\u001b[39m\u001b[36m\u001b[1mInfo: \u001b[22m\u001b[39m started timer at: 2024-03-18T18:07:06.301\n"
     ]
    },
    {
     "name": "stdout",
     "output_type": "stream",
     "text": [
      "false\n",
      "50\n",
      "k : 18\n",
      "1\n",
      "-81738.06176009614\n",
      "5103.0045050786775\n",
      "50\n",
      "K : 18\n",
      "[0 -2000 -100 -1200 -2000]\n"
     ]
    },
    {
     "name": "stderr",
     "output_type": "stream",
     "text": [
      "\u001b[36m\u001b[1m[ \u001b[22m\u001b[39m\u001b[36m\u001b[1mInfo: \u001b[22m\u001b[39m         887.6418793s: 14 minutes, 47 seconds, 641 milliseconds\n",
      "\u001b[36m\u001b[1m[ \u001b[22m\u001b[39m\u001b[36m\u001b[1mInfo: \u001b[22m\u001b[39m started timer at: 2024-03-18T18:21:53.960\n"
     ]
    },
    {
     "name": "stdout",
     "output_type": "stream",
     "text": [
      "false\n",
      "50\n",
      "k : 18\n",
      "1\n",
      "-85407.54038888488\n",
      "5283.591275430681\n",
      "50\n",
      "K : 18\n",
      "[0 -2400 -100 -1200 -2000]\n"
     ]
    },
    {
     "name": "stderr",
     "output_type": "stream",
     "text": [
      "\u001b[36m\u001b[1m[ \u001b[22m\u001b[39m\u001b[36m\u001b[1mInfo: \u001b[22m\u001b[39m         887.0227684s: 14 minutes, 47 seconds, 22 milliseconds\n",
      "\u001b[36m\u001b[1m[ \u001b[22m\u001b[39m\u001b[36m\u001b[1mInfo: \u001b[22m\u001b[39m started timer at: 2024-03-18T18:36:40.999\n"
     ]
    },
    {
     "name": "stdout",
     "output_type": "stream",
     "text": [
      "false\n",
      "50\n",
      "k : 18\n",
      "1\n",
      "-91108.96853387004\n",
      "5274.089358191193\n",
      "50\n",
      "K : 18\n",
      "[0 -2800 -100 -1200 -2000]\n"
     ]
    },
    {
     "name": "stderr",
     "output_type": "stream",
     "text": [
      "\u001b[36m\u001b[1m[ \u001b[22m\u001b[39m\u001b[36m\u001b[1mInfo: \u001b[22m\u001b[39m          886.800475s: 14 minutes, 46 seconds, 800 milliseconds\n",
      "\u001b[36m\u001b[1m[ \u001b[22m\u001b[39m\u001b[36m\u001b[1mInfo: \u001b[22m\u001b[39m started timer at: 2024-03-18T18:51:27.816\n"
     ]
    },
    {
     "name": "stdout",
     "output_type": "stream",
     "text": [
      "false\n",
      "50\n",
      "k : 18\n",
      "1\n",
      "-94903.36059565068\n",
      "5106.775764932994\n",
      "50\n",
      "K : 18\n",
      "[0 -3200 -100 -1200 -2000]\n"
     ]
    },
    {
     "name": "stderr",
     "output_type": "stream",
     "text": [
      "\u001b[36m\u001b[1m[ \u001b[22m\u001b[39m\u001b[36m\u001b[1mInfo: \u001b[22m\u001b[39m         888.7123013s: 14 minutes, 48 seconds, 712 milliseconds\n",
      "\u001b[36m\u001b[1m[ \u001b[22m\u001b[39m\u001b[36m\u001b[1mInfo: \u001b[22m\u001b[39m started timer at: 2024-03-18T19:06:16.546\n"
     ]
    },
    {
     "name": "stdout",
     "output_type": "stream",
     "text": [
      "false\n",
      "50\n",
      "k : 18\n",
      "1\n",
      "-97278.59300173317\n",
      "4991.391054387425\n",
      "-------------------------\n",
      "50\n",
      "K : 20\n",
      "[0 -200 -100 -1200 -2000]\n"
     ]
    },
    {
     "name": "stderr",
     "output_type": "stream",
     "text": [
      "\u001b[36m\u001b[1m[ \u001b[22m\u001b[39m\u001b[36m\u001b[1mInfo: \u001b[22m\u001b[39m         885.7931614s: 14 minutes, 45 seconds, 793 milliseconds\n",
      "\u001b[36m\u001b[1m[ \u001b[22m\u001b[39m\u001b[36m\u001b[1mInfo: \u001b[22m\u001b[39m started timer at: 2024-03-18T19:21:02.356\n"
     ]
    },
    {
     "name": "stdout",
     "output_type": "stream",
     "text": [
      "false\n",
      "50\n",
      "k : 20\n",
      "1\n",
      "-57017.31221717622\n",
      "4172.079886933014\n",
      "50\n",
      "K : 20\n",
      "[0 -400 -100 -1200 -2000]\n"
     ]
    },
    {
     "name": "stderr",
     "output_type": "stream",
     "text": [
      "\u001b[36m\u001b[1m[ \u001b[22m\u001b[39m\u001b[36m\u001b[1mInfo: \u001b[22m\u001b[39m         889.6701115s: 14 minutes, 49 seconds, 670 milliseconds\n",
      "\u001b[36m\u001b[1m[ \u001b[22m\u001b[39m\u001b[36m\u001b[1mInfo: \u001b[22m\u001b[39m started timer at: 2024-03-18T19:35:52.044\n"
     ]
    },
    {
     "name": "stdout",
     "output_type": "stream",
     "text": [
      "false\n",
      "50\n",
      "k : 20\n",
      "1\n",
      "-62535.206409225844\n",
      "4846.086689645176\n",
      "50\n",
      "K : 20\n",
      "[0 -600 -100 -1200 -2000]\n"
     ]
    },
    {
     "name": "stderr",
     "output_type": "stream",
     "text": [
      "\u001b[36m\u001b[1m[ \u001b[22m\u001b[39m\u001b[36m\u001b[1mInfo: \u001b[22m\u001b[39m         885.8640176s: 14 minutes, 45 seconds, 864 milliseconds\n",
      "\u001b[36m\u001b[1m[ \u001b[22m\u001b[39m\u001b[36m\u001b[1mInfo: \u001b[22m\u001b[39m started timer at: 2024-03-18T19:50:37.936\n"
     ]
    },
    {
     "name": "stdout",
     "output_type": "stream",
     "text": [
      "false\n",
      "50\n",
      "k : 20\n",
      "1\n",
      "-68552.96313062609\n",
      "5410.927745456389\n",
      "50\n",
      "K : 20\n",
      "[0 -800 -100 -1200 -2000]\n"
     ]
    },
    {
     "name": "stderr",
     "output_type": "stream",
     "text": [
      "\u001b[36m\u001b[1m[ \u001b[22m\u001b[39m\u001b[36m\u001b[1mInfo: \u001b[22m\u001b[39m          887.795797s: 14 minutes, 47 seconds, 795 milliseconds\n",
      "\u001b[36m\u001b[1m[ \u001b[22m\u001b[39m\u001b[36m\u001b[1mInfo: \u001b[22m\u001b[39m started timer at: 2024-03-18T20:05:25.748\n"
     ]
    },
    {
     "name": "stdout",
     "output_type": "stream",
     "text": [
      "false\n",
      "50\n",
      "k : 20\n",
      "1\n",
      "-74797.11394975042\n",
      "5657.531720807317\n",
      "50\n",
      "K : 20\n",
      "[0 -1000 -100 -1200 -2000]\n"
     ]
    },
    {
     "name": "stderr",
     "output_type": "stream",
     "text": [
      "\u001b[36m\u001b[1m[ \u001b[22m\u001b[39m\u001b[36m\u001b[1mInfo: \u001b[22m\u001b[39m         887.3367781s: 14 minutes, 47 seconds, 336 milliseconds\n",
      "\u001b[36m\u001b[1m[ \u001b[22m\u001b[39m\u001b[36m\u001b[1mInfo: \u001b[22m\u001b[39m started timer at: 2024-03-18T20:20:13.102\n"
     ]
    },
    {
     "name": "stdout",
     "output_type": "stream",
     "text": [
      "false\n",
      "50\n",
      "k : 20\n",
      "1\n",
      "-80046.4590567619\n",
      "5663.0150324819015\n",
      "50\n",
      "K : 20\n",
      "[0 -1200 -100 -1200 -2000]\n"
     ]
    },
    {
     "name": "stderr",
     "output_type": "stream",
     "text": [
      "\u001b[36m\u001b[1m[ \u001b[22m\u001b[39m\u001b[36m\u001b[1mInfo: \u001b[22m\u001b[39m         881.9799203s: 14 minutes, 41 seconds, 979 milliseconds\n",
      "\u001b[36m\u001b[1m[ \u001b[22m\u001b[39m\u001b[36m\u001b[1mInfo: \u001b[22m\u001b[39m started timer at: 2024-03-18T20:34:55.099\n"
     ]
    },
    {
     "name": "stdout",
     "output_type": "stream",
     "text": [
      "false\n",
      "50\n",
      "k : 20\n",
      "1\n",
      "-84138.5516322142\n",
      "5462.924471355601\n",
      "50\n"
     ]
    },
    {
     "name": "stderr",
     "output_type": "stream",
     "text": [
      "\u001b[36m\u001b[1m[ \u001b[22m\u001b[39m\u001b[36m\u001b[1mInfo: \u001b[22m\u001b[39m         888.7578626s: 14 minutes, 48 seconds, 757 milliseconds\n",
      "\u001b[36m\u001b[1m[ \u001b[22m\u001b[39m\u001b[36m\u001b[1mInfo: \u001b[22m\u001b[39m started timer at: 2024-03-18T20:49:43.875\n"
     ]
    },
    {
     "name": "stdout",
     "output_type": "stream",
     "text": [
      "K : 20\n",
      "[0 -1400 -100 -1200 -2000]\n",
      "false\n",
      "50\n",
      "k : 20\n",
      "1\n",
      "-87238.51513484876\n",
      "5308.01813560506\n",
      "50\n",
      "K : 20\n",
      "[0 -1600 -100 -1200 -2000]\n"
     ]
    },
    {
     "name": "stderr",
     "output_type": "stream",
     "text": [
      "\u001b[36m\u001b[1m[ \u001b[22m\u001b[39m\u001b[36m\u001b[1mInfo: \u001b[22m\u001b[39m         889.9587646s: 14 minutes, 49 seconds, 958 milliseconds\n",
      "\u001b[36m\u001b[1m[ \u001b[22m\u001b[39m\u001b[36m\u001b[1mInfo: \u001b[22m\u001b[39m started timer at: 2024-03-18T21:04:33.851\n"
     ]
    },
    {
     "name": "stdout",
     "output_type": "stream",
     "text": [
      "false\n",
      "50\n",
      "k : 20\n",
      "1\n",
      "-89719.748026086\n",
      "5230.512078130998\n",
      "50\n",
      "K : 20\n",
      "[0 -1800 -100 -1200 -2000]\n"
     ]
    },
    {
     "name": "stderr",
     "output_type": "stream",
     "text": [
      "\u001b[36m\u001b[1m[ \u001b[22m\u001b[39m\u001b[36m\u001b[1mInfo: \u001b[22m\u001b[39m         885.2097565s: 14 minutes, 45 seconds, 209 milliseconds\n",
      "\u001b[36m\u001b[1m[ \u001b[22m\u001b[39m\u001b[36m\u001b[1mInfo: \u001b[22m\u001b[39m started timer at: 2024-03-18T21:19:19.087\n"
     ]
    },
    {
     "name": "stdout",
     "output_type": "stream",
     "text": [
      "false\n",
      "50\n",
      "k : 20\n",
      "1\n",
      "-91650.38039465017\n",
      "5153.394301825783\n",
      "50\n",
      "K : 20\n",
      "[0 -2000 -100 -1200 -2000]\n"
     ]
    },
    {
     "name": "stderr",
     "output_type": "stream",
     "text": [
      "\u001b[36m\u001b[1m[ \u001b[22m\u001b[39m\u001b[36m\u001b[1mInfo: \u001b[22m\u001b[39m         890.1265988s: 14 minutes, 50 seconds, 126 milliseconds\n",
      "\u001b[36m\u001b[1m[ \u001b[22m\u001b[39m\u001b[36m\u001b[1mInfo: \u001b[22m\u001b[39m started timer at: 2024-03-18T21:34:09.241\n"
     ]
    },
    {
     "name": "stdout",
     "output_type": "stream",
     "text": [
      "false\n",
      "50\n",
      "k : 20\n",
      "1\n",
      "-92872.96401576273\n",
      "4979.635274114248\n",
      "50\n",
      "K : 20\n",
      "[0 -2400 -100 -1200 -2000]\n"
     ]
    },
    {
     "name": "stderr",
     "output_type": "stream",
     "text": [
      "\u001b[36m\u001b[1m[ \u001b[22m\u001b[39m\u001b[36m\u001b[1mInfo: \u001b[22m\u001b[39m          886.761568s: 14 minutes, 46 seconds, 761 milliseconds\n",
      "\u001b[36m\u001b[1m[ \u001b[22m\u001b[39m\u001b[36m\u001b[1mInfo: \u001b[22m\u001b[39m started timer at: 2024-03-18T21:48:56.020\n"
     ]
    },
    {
     "name": "stdout",
     "output_type": "stream",
     "text": [
      "false\n",
      "50\n",
      "k : 20\n",
      "1\n",
      "-94734.86026674962\n",
      "4998.950303928371\n",
      "50\n",
      "K : 20\n",
      "[0 -2800 -100 -1200 -2000]\n"
     ]
    },
    {
     "name": "stderr",
     "output_type": "stream",
     "text": [
      "\u001b[36m\u001b[1m[ \u001b[22m\u001b[39m\u001b[36m\u001b[1mInfo: \u001b[22m\u001b[39m         886.6496143s: 14 minutes, 46 seconds, 649 milliseconds\n",
      "\u001b[36m\u001b[1m[ \u001b[22m\u001b[39m\u001b[36m\u001b[1mInfo: \u001b[22m\u001b[39m started timer at: 2024-03-18T22:03:42.686\n"
     ]
    },
    {
     "name": "stdout",
     "output_type": "stream",
     "text": [
      "false\n",
      "50\n",
      "k : 20\n",
      "1\n",
      "-96232.3759371936\n",
      "4877.378124544359\n",
      "50\n",
      "K : 20\n",
      "[0 -3200 -100 -1200 -2000]\n"
     ]
    },
    {
     "name": "stderr",
     "output_type": "stream",
     "text": [
      "\u001b[36m\u001b[1m[ \u001b[22m\u001b[39m\u001b[36m\u001b[1mInfo: \u001b[22m\u001b[39m         886.1614925s: 14 minutes, 46 seconds, 161 milliseconds\n",
      "\u001b[36m\u001b[1m[ \u001b[22m\u001b[39m\u001b[36m\u001b[1mInfo: \u001b[22m\u001b[39m started timer at: 2024-03-18T22:18:28.865\n"
     ]
    },
    {
     "name": "stdout",
     "output_type": "stream",
     "text": [
      "false\n",
      "50\n",
      "k : 20\n",
      "1\n",
      "-97501.50183963988\n",
      "4997.697268129648\n",
      "-------------------------\n",
      "50\n",
      "K : 22\n",
      "[0 -200 -100 -1200 -2000]\n"
     ]
    },
    {
     "name": "stderr",
     "output_type": "stream",
     "text": [
      "\u001b[36m\u001b[1m[ \u001b[22m\u001b[39m\u001b[36m\u001b[1mInfo: \u001b[22m\u001b[39m         886.8933328s: 14 minutes, 46 seconds, 893 milliseconds\n",
      "\u001b[36m\u001b[1m[ \u001b[22m\u001b[39m\u001b[36m\u001b[1mInfo: \u001b[22m\u001b[39m started timer at: 2024-03-18T22:33:15.776\n"
     ]
    },
    {
     "name": "stdout",
     "output_type": "stream",
     "text": [
      "false\n",
      "50\n",
      "k : 22\n",
      "1\n",
      "-70552.51482458542\n",
      "6199.646155909203\n"
     ]
    },
    {
     "name": "stderr",
     "output_type": "stream",
     "text": [
      "\u001b[36m\u001b[1m[ \u001b[22m\u001b[39m\u001b[36m\u001b[1mInfo: \u001b[22m\u001b[39m         885.5962178s: 14 minutes, 45 seconds, 596 milliseconds\n",
      "\u001b[36m\u001b[1m[ \u001b[22m\u001b[39m\u001b[36m\u001b[1mInfo: \u001b[22m\u001b[39m started timer at: 2024-03-18T22:48:01.389\n"
     ]
    },
    {
     "name": "stdout",
     "output_type": "stream",
     "text": [
      "50\n",
      "K : 22\n",
      "[0 -400 -100 -1200 -2000]\n",
      "false\n",
      "50\n",
      "k : 22\n",
      "1\n",
      "-77223.1041116521\n",
      "5986.497906040149\n",
      "50\n",
      "K : 22\n",
      "[0 -600 -100 -1200 -2000]\n"
     ]
    },
    {
     "name": "stderr",
     "output_type": "stream",
     "text": [
      "\u001b[36m\u001b[1m[ \u001b[22m\u001b[39m\u001b[36m\u001b[1mInfo: \u001b[22m\u001b[39m         887.9335645s: 14 minutes, 47 seconds, 933 milliseconds\n",
      "\u001b[36m\u001b[1m[ \u001b[22m\u001b[39m\u001b[36m\u001b[1mInfo: \u001b[22m\u001b[39m started timer at: 2024-03-18T23:02:49.339\n"
     ]
    },
    {
     "name": "stdout",
     "output_type": "stream",
     "text": [
      "false\n",
      "50\n",
      "k : 22\n",
      "1\n",
      "-82215.28303131944\n",
      "5620.274954591008\n",
      "50\n",
      "K : 22\n",
      "[0 -800 -100 -1200 -2000]\n"
     ]
    },
    {
     "name": "stderr",
     "output_type": "stream",
     "text": [
      "\u001b[36m\u001b[1m[ \u001b[22m\u001b[39m\u001b[36m\u001b[1mInfo: \u001b[22m\u001b[39m         886.2234354s: 14 minutes, 46 seconds, 223 milliseconds\n",
      "\u001b[36m\u001b[1m[ \u001b[22m\u001b[39m\u001b[36m\u001b[1mInfo: \u001b[22m\u001b[39m started timer at: 2024-03-18T23:17:35.590\n"
     ]
    },
    {
     "name": "stdout",
     "output_type": "stream",
     "text": [
      "false\n",
      "50\n",
      "k : 22\n",
      "1\n",
      "-85693.46356586297\n",
      "5275.709405922539\n",
      "50\n",
      "K : 22\n",
      "[0 -1000 -100 -1200 -2000]\n"
     ]
    },
    {
     "name": "stderr",
     "output_type": "stream",
     "text": [
      "\u001b[36m\u001b[1m[ \u001b[22m\u001b[39m\u001b[36m\u001b[1mInfo: \u001b[22m\u001b[39m         883.3381259s: 14 minutes, 43 seconds, 338 milliseconds\n",
      "\u001b[36m\u001b[1m[ \u001b[22m\u001b[39m\u001b[36m\u001b[1mInfo: \u001b[22m\u001b[39m started timer at: 2024-03-18T23:32:18.945\n"
     ]
    },
    {
     "name": "stdout",
     "output_type": "stream",
     "text": [
      "false\n",
      "50\n",
      "k : 22\n",
      "1\n",
      "-87993.90334152756\n",
      "5237.448187147343\n",
      "50\n",
      "K : 22\n",
      "[0 -1200 -100 -1200 -2000]\n"
     ]
    },
    {
     "name": "stderr",
     "output_type": "stream",
     "text": [
      "\u001b[36m\u001b[1m[ \u001b[22m\u001b[39m\u001b[36m\u001b[1mInfo: \u001b[22m\u001b[39m         889.1970925s: 14 minutes, 49 seconds, 197 milliseconds\n",
      "\u001b[36m\u001b[1m[ \u001b[22m\u001b[39m\u001b[36m\u001b[1mInfo: \u001b[22m\u001b[39m started timer at: 2024-03-18T23:47:08.170\n"
     ]
    },
    {
     "name": "stdout",
     "output_type": "stream",
     "text": [
      "false\n",
      "50\n",
      "k : 22\n",
      "1\n",
      "-89777.6056370327\n",
      "5103.913147509328\n",
      "50\n",
      "K : 22\n",
      "[0 -1400 -100"
     ]
    },
    {
     "name": "stderr",
     "output_type": "stream",
     "text": [
      "\u001b[36m\u001b[1m[ \u001b[22m\u001b[39m\u001b[36m\u001b[1mInfo: \u001b[22m\u001b[39m         890.2968382s: 14 minutes, 50 seconds, 296 milliseconds\n",
      "\u001b[36m\u001b[1m[ \u001b[22m\u001b[39m\u001b[36m\u001b[1mInfo: \u001b[22m\u001b[39m started timer at: 2024-03-19T00:01:58.483\n"
     ]
    },
    {
     "name": "stdout",
     "output_type": "stream",
     "text": [
      " -1200 -2000]\n",
      "false\n",
      "50\n",
      "k : 22\n",
      "1\n",
      "-91136.84565002\n",
      "4970.601559170834\n",
      "50\n",
      "K : 22\n",
      "[0 -1600 -100 -1200 -2000]\n"
     ]
    },
    {
     "name": "stderr",
     "output_type": "stream",
     "text": [
      "\u001b[36m\u001b[1m[ \u001b[22m\u001b[39m\u001b[36m\u001b[1mInfo: \u001b[22m\u001b[39m         886.3051421s: 14 minutes, 46 seconds, 305 milliseconds\n",
      "\u001b[36m\u001b[1m[ \u001b[22m\u001b[39m\u001b[36m\u001b[1mInfo: \u001b[22m\u001b[39m started timer at: 2024-03-19T00:16:44.817\n"
     ]
    },
    {
     "name": "stdout",
     "output_type": "stream",
     "text": [
      "false\n",
      "50\n",
      "k : 22\n",
      "1\n",
      "-92042.73231197093\n",
      "4918.008299617202\n",
      "50\n",
      "K : 22\n",
      "[0 -1800 -100 -1200 -2000]\n"
     ]
    },
    {
     "name": "stderr",
     "output_type": "stream",
     "text": [
      "\u001b[36m\u001b[1m[ \u001b[22m\u001b[39m\u001b[36m\u001b[1mInfo: \u001b[22m\u001b[39m         887.6350208s: 14 minutes, 47 seconds, 635 milliseconds\n",
      "\u001b[36m\u001b[1m[ \u001b[22m\u001b[39m\u001b[36m\u001b[1mInfo: \u001b[22m\u001b[39m started timer at: 2024-03-19T00:31:32.479\n"
     ]
    },
    {
     "name": "stdout",
     "output_type": "stream",
     "text": [
      "false\n",
      "50\n",
      "k : 22\n",
      "1\n",
      "-92815.600692749\n",
      "4845.32324690088\n",
      "50\n",
      "K : 22\n",
      "[0 -2000 -100 -1200 -2000]\n"
     ]
    },
    {
     "name": "stderr",
     "output_type": "stream",
     "text": [
      "\u001b[36m\u001b[1m[ \u001b[22m\u001b[39m\u001b[36m\u001b[1mInfo: \u001b[22m\u001b[39m         884.8592271s: 14 minutes, 44 seconds, 859 milliseconds\n",
      "\u001b[36m\u001b[1m[ \u001b[22m\u001b[39m\u001b[36m\u001b[1mInfo: \u001b[22m\u001b[39m started timer at: 2024-03-19T00:46:17.365\n"
     ]
    },
    {
     "name": "stdout",
     "output_type": "stream",
     "text": [
      "false\n",
      "50\n",
      "k : 22\n",
      "1\n",
      "-93477.97914740274\n",
      "4885.351768243829\n",
      "50\n",
      "K : 22\n",
      "[0 -2400 -100 -1200 -2000]\n"
     ]
    },
    {
     "name": "stderr",
     "output_type": "stream",
     "text": [
      "\u001b[36m\u001b[1m[ \u001b[22m\u001b[39m\u001b[36m\u001b[1mInfo: \u001b[22m\u001b[39m         882.2289236s: 14 minutes, 42 seconds, 228 milliseconds\n",
      "\u001b[36m\u001b[1m[ \u001b[22m\u001b[39m\u001b[36m\u001b[1mInfo: \u001b[22m\u001b[39m started timer at: 2024-03-19T01:00:59.611\n"
     ]
    },
    {
     "name": "stdout",
     "output_type": "stream",
     "text": [
      "false\n",
      "50\n",
      "k : 22\n",
      "1\n",
      "-94645.49575086364\n",
      "4889.493560316182\n",
      "50\n",
      "K : 22\n",
      "[0 -2800 -100 -1200 -2000]\n"
     ]
    },
    {
     "name": "stderr",
     "output_type": "stream",
     "text": [
      "\u001b[36m\u001b[1m[ \u001b[22m\u001b[39m\u001b[36m\u001b[1mInfo: \u001b[22m\u001b[39m         884.7773974s: 14 minutes, 44 seconds, 777 milliseconds\n",
      "\u001b[36m\u001b[1m[ \u001b[22m\u001b[39m\u001b[36m\u001b[1mInfo: \u001b[22m\u001b[39m started timer at: 2024-03-19T01:15:44.404\n"
     ]
    },
    {
     "name": "stdout",
     "output_type": "stream",
     "text": [
      "false\n",
      "50\n",
      "k : 22\n",
      "1\n",
      "-95649.06107100208\n",
      "4954.284402266398\n",
      "50\n",
      "K : 22\n",
      "[0 -3200 -100 -1200 -2000]\n"
     ]
    },
    {
     "name": "stderr",
     "output_type": "stream",
     "text": [
      "\u001b[36m\u001b[1m[ \u001b[22m\u001b[39m\u001b[36m\u001b[1mInfo: \u001b[22m\u001b[39m         884.6327682s: 14 minutes, 44 seconds, 632 milliseconds\n",
      "\u001b[36m\u001b[1m[ \u001b[22m\u001b[39m\u001b[36m\u001b[1mInfo: \u001b[22m\u001b[39m started timer at: 2024-03-19T01:30:29.054\n"
     ]
    },
    {
     "name": "stdout",
     "output_type": "stream",
     "text": [
      "false\n",
      "50\n",
      "k : 22\n",
      "1\n",
      "-96721.41442122188\n",
      "5005.4905569104085\n",
      "-------------------------\n",
      "50\n",
      "K : 24\n",
      "[0 -200 -100 -1200"
     ]
    },
    {
     "name": "stderr",
     "output_type": "stream",
     "text": [
      "\u001b[36m\u001b[1m[ \u001b[22m\u001b[39m\u001b[36m\u001b[1mInfo: \u001b[22m\u001b[39m         887.5436542s: 14 minutes, 47 seconds, 543 milliseconds\n",
      "\u001b[36m\u001b[1m[ \u001b[22m\u001b[39m\u001b[36m\u001b[1mInfo: \u001b[22m\u001b[39m started timer at: 2024-03-19T01:45:16.615\n"
     ]
    },
    {
     "name": "stdout",
     "output_type": "stream",
     "text": [
      " -2000]\n",
      "false\n",
      "50\n",
      "k : 24\n",
      "1\n",
      "-80487.60483267932\n",
      "5630.918530455209\n",
      "50\n",
      "K : 24\n",
      "[0 -400 -100 -1200 -2000]\n"
     ]
    },
    {
     "name": "stderr",
     "output_type": "stream",
     "text": [
      "\u001b[36m\u001b[1m[ \u001b[22m\u001b[39m\u001b[36m\u001b[1mInfo: \u001b[22m\u001b[39m          885.201113s: 14 minutes, 45 seconds, 201 milliseconds\n",
      "\u001b[36m\u001b[1m[ \u001b[22m\u001b[39m\u001b[36m\u001b[1mInfo: \u001b[22m\u001b[39m started timer at: 2024-03-19T02:00:01.833\n"
     ]
    },
    {
     "name": "stdout",
     "output_type": "stream",
     "text": [
      "false\n",
      "50\n",
      "k : 24\n",
      "1\n",
      "-84123.78914710895\n",
      "5343.920458414867\n",
      "50\n",
      "K : 24\n",
      "[0 -600 -100 -1200 -2000]\n"
     ]
    },
    {
     "name": "stderr",
     "output_type": "stream",
     "text": [
      "\u001b[36m\u001b[1m[ \u001b[22m\u001b[39m\u001b[36m\u001b[1mInfo: \u001b[22m\u001b[39m         881.5205013s: 14 minutes, 41 seconds, 520 milliseconds\n",
      "\u001b[36m\u001b[1m[ \u001b[22m\u001b[39m\u001b[36m\u001b[1mInfo: \u001b[22m\u001b[39m started timer at: 2024-03-19T02:14:43.370\n"
     ]
    },
    {
     "name": "stdout",
     "output_type": "stream",
     "text": [
      "false\n",
      "50\n",
      "k : 24\n",
      "1\n",
      "-86820.96836919826\n",
      "5127.1259292965315\n",
      "50\n",
      "K : 24\n",
      "[0 -800 -100 -1200 -2000]\n"
     ]
    },
    {
     "name": "stderr",
     "output_type": "stream",
     "text": [
      "\u001b[36m\u001b[1m[ \u001b[22m\u001b[39m\u001b[36m\u001b[1mInfo: \u001b[22m\u001b[39m         886.0601775s: 14 minutes, 46 seconds, 60 milliseconds\n",
      "\u001b[36m\u001b[1m[ \u001b[22m\u001b[39m\u001b[36m\u001b[1mInfo: \u001b[22m\u001b[39m started timer at: 2024-03-19T02:29:29.447\n"
     ]
    },
    {
     "name": "stdout",
     "output_type": "stream",
     "text": [
      "false\n",
      "50\n",
      "k : 24\n",
      "1\n",
      "-88324.34597920116\n",
      "5052.42518370361\n",
      "50\n",
      "K : 24\n",
      "[0 -1000 -100 -1200 -2000]\n"
     ]
    },
    {
     "name": "stderr",
     "output_type": "stream",
     "text": [
      "\u001b[36m\u001b[1m[ \u001b[22m\u001b[39m\u001b[36m\u001b[1mInfo: \u001b[22m\u001b[39m         887.2353201s: 14 minutes, 47 seconds, 235 milliseconds\n",
      "\u001b[36m\u001b[1m[ \u001b[22m\u001b[39m\u001b[36m\u001b[1mInfo: \u001b[22m\u001b[39m started timer at: 2024-03-19T02:44:16.700\n"
     ]
    },
    {
     "name": "stdout",
     "output_type": "stream",
     "text": [
      "false\n",
      "50\n",
      "k : 24\n",
      "1\n",
      "-89669.1929606277\n",
      "4932.33808641996\n",
      "50\n",
      "K : 24\n",
      "[0 -1200 -100 -1200 -2000]\n"
     ]
    },
    {
     "name": "stderr",
     "output_type": "stream",
     "text": [
      "\u001b[36m\u001b[1m[ \u001b[22m\u001b[39m\u001b[36m\u001b[1mInfo: \u001b[22m\u001b[39m         886.0073174s: 14 minutes, 46 seconds, 7 milliseconds\n",
      "\u001b[36m\u001b[1m[ \u001b[22m\u001b[39m\u001b[36m\u001b[1mInfo: \u001b[22m\u001b[39m started timer at: 2024-03-19T02:59:02.725\n"
     ]
    },
    {
     "name": "stdout",
     "output_type": "stream",
     "text": [
      "false\n",
      "50\n",
      "k : 24\n",
      "1\n",
      "-90355.01892745162\n",
      "4886.706793373674\n",
      "50\n",
      "K : 24\n",
      "[0 -1400 -100 -1200 -2000]\n"
     ]
    },
    {
     "name": "stderr",
     "output_type": "stream",
     "text": [
      "\u001b[36m\u001b[1m[ \u001b[22m\u001b[39m\u001b[36m\u001b[1mInfo: \u001b[22m\u001b[39m         886.0224234s: 14 minutes, 46 seconds, 22 milliseconds\n",
      "\u001b[36m\u001b[1m[ \u001b[22m\u001b[39m\u001b[36m\u001b[1mInfo: \u001b[22m\u001b[39m started timer at: 2024-03-19T03:13:48.764\n"
     ]
    },
    {
     "name": "stdout",
     "output_type": "stream",
     "text": [
      "false\n",
      "50\n",
      "k : 24\n",
      "1\n",
      "-91249.50803952587\n",
      "4850.7546611011185\n",
      "50\n",
      "K : 24\n",
      "[0 -1600 -100 -1200 -2000]\n"
     ]
    },
    {
     "name": "stderr",
     "output_type": "stream",
     "text": [
      "\u001b[36m\u001b[1m[ \u001b[22m\u001b[39m\u001b[36m\u001b[1mInfo: \u001b[22m\u001b[39m         886.8854222s: 14 minutes, 46 seconds, 885 milliseconds\n",
      "\u001b[36m\u001b[1m[ \u001b[22m\u001b[39m\u001b[36m\u001b[1mInfo: \u001b[22m\u001b[39m started timer at: 2024-03-19T03:28:35.666\n"
     ]
    },
    {
     "name": "stdout",
     "output_type": "stream",
     "text": [
      "false\n",
      "50\n",
      "k : 24\n",
      "1\n",
      "-91785.91089796455\n",
      "4938.662466454192\n",
      "50\n",
      "K : 24\n",
      "[0 -1800 -100 -1200 -2000]\n"
     ]
    },
    {
     "name": "stderr",
     "output_type": "stream",
     "text": [
      "\u001b[36m\u001b[1m[ \u001b[22m\u001b[39m\u001b[36m\u001b[1mInfo: \u001b[22m\u001b[39m         887.4966073s: 14 minutes, 47 seconds, 496 milliseconds\n",
      "\u001b[36m\u001b[1m[ \u001b[22m\u001b[39m\u001b[36m\u001b[1mInfo: \u001b[22m\u001b[39m started timer at: 2024-03-19T03:43:23.180\n"
     ]
    },
    {
     "name": "stdout",
     "output_type": "stream",
     "text": [
      "false\n",
      "50\n",
      "k : 24\n",
      "1\n",
      "-92336.84396497467\n",
      "4950.010678848211\n"
     ]
    },
    {
     "name": "stderr",
     "output_type": "stream",
     "text": [
      "\u001b[36m\u001b[1m[ \u001b[22m\u001b[39m\u001b[36m\u001b[1mInfo: \u001b[22m\u001b[39m          884.505331s: 14 minutes, 44 seconds, 505 milliseconds\n"
     ]
    },
    {
     "name": "stdout",
     "output_type": "stream",
     "text": [
      "50\n",
      "K : 24\n",
      "[0 -2000 -100 -1200 -2000]\n"
     ]
    },
    {
     "name": "stderr",
     "output_type": "stream",
     "text": [
      "\u001b[36m\u001b[1m[ \u001b[22m\u001b[39m\u001b[36m\u001b[1mInfo: \u001b[22m\u001b[39m started timer at: 2024-03-19T03:58:07.702\n"
     ]
    },
    {
     "name": "stdout",
     "output_type": "stream",
     "text": [
      "false\n",
      "50\n",
      "k : 24\n",
      "1\n",
      "-92865.01506553343\n",
      "4914.971595789491\n",
      "50\n",
      "K : 24\n",
      "[0 -2400 -100 -1200 -2000]\n"
     ]
    },
    {
     "name": "stderr",
     "output_type": "stream",
     "text": [
      "\u001b[36m\u001b[1m[ \u001b[22m\u001b[39m\u001b[36m\u001b[1mInfo: \u001b[22m\u001b[39m         887.7098362s: 14 minutes, 47 seconds, 709 milliseconds\n",
      "\u001b[36m\u001b[1m[ \u001b[22m\u001b[39m\u001b[36m\u001b[1mInfo: \u001b[22m\u001b[39m started timer at: 2024-03-19T04:12:55.429\n"
     ]
    },
    {
     "name": "stdout",
     "output_type": "stream",
     "text": [
      "false\n",
      "50\n",
      "k : 24\n",
      "1\n",
      "-93792.11633139297\n",
      "4925.673422638473\n",
      "50\n",
      "K : 24\n",
      "[0 -2800 -100 -1200 -2000]\n"
     ]
    },
    {
     "name": "stderr",
     "output_type": "stream",
     "text": [
      "\u001b[36m\u001b[1m[ \u001b[22m\u001b[39m\u001b[36m\u001b[1mInfo: \u001b[22m\u001b[39m         887.5153381s: 14 minutes, 47 seconds, 515 milliseconds\n",
      "\u001b[36m\u001b[1m[ \u001b[22m\u001b[39m\u001b[36m\u001b[1mInfo: \u001b[22m\u001b[39m started timer at: 2024-03-19T04:27:42.961\n"
     ]
    },
    {
     "name": "stdout",
     "output_type": "stream",
     "text": [
      "false\n",
      "50\n",
      "k : 24\n",
      "1\n",
      "-94769.98972636502\n",
      "4950.198571345504\n",
      "50\n",
      "K : 24\n",
      "[0 -3200 -100 -1200 -2000]\n"
     ]
    },
    {
     "name": "stderr",
     "output_type": "stream",
     "text": [
      "\u001b[36m\u001b[1m[ \u001b[22m\u001b[39m\u001b[36m\u001b[1mInfo: \u001b[22m\u001b[39m         885.9193465s: 14 minutes, 45 seconds, 919 milliseconds\n",
      "\u001b[36m\u001b[1m[ \u001b[22m\u001b[39m\u001b[36m\u001b[1mInfo: \u001b[22m\u001b[39m started timer at: 2024-03-19T04:42:28.897\n"
     ]
    },
    {
     "name": "stdout",
     "output_type": "stream",
     "text": [
      "false\n",
      "50\n",
      "k : 24\n",
      "1\n",
      "-95742.48456345408\n",
      "5039.8855119362115\n",
      "-------------------------\n",
      "40\n",
      "K : 2\n",
      "[0 -200 -100 -1200 -2000]\n"
     ]
    },
    {
     "name": "stderr",
     "output_type": "stream",
     "text": [
      "\u001b[36m\u001b[1m[ \u001b[22m\u001b[39m\u001b[36m\u001b[1mInfo: \u001b[22m\u001b[39m         884.3216543s: 14 minutes, 44 seconds, 321 milliseconds\n",
      "\u001b[36m\u001b[1m[ \u001b[22m\u001b[39m\u001b[36m\u001b[1mInfo: \u001b[22m\u001b[39m started timer at: 2024-03-19T04:57:13.235\n"
     ]
    },
    {
     "name": "stdout",
     "output_type": "stream",
     "text": [
      "false\n",
      "40\n",
      "k : 2\n",
      "1\n",
      "-50938.7526620878\n",
      "3602.3816970428657\n",
      "40\n",
      "K : 2\n",
      "[0 -400 -100 -1200 -2000]\n"
     ]
    },
    {
     "name": "stderr",
     "output_type": "stream",
     "text": [
      "\u001b[36m\u001b[1m[ \u001b[22m\u001b[39m\u001b[36m\u001b[1mInfo: \u001b[22m\u001b[39m         708.8994263s: 11 minutes, 48 seconds, 899 milliseconds\n",
      "\u001b[36m\u001b[1m[ \u001b[22m\u001b[39m\u001b[36m\u001b[1mInfo: \u001b[22m\u001b[39m started timer at: 2024-03-19T05:09:02.148\n"
     ]
    },
    {
     "name": "stdout",
     "output_type": "stream",
     "text": [
      "false\n",
      "40\n",
      "k : 2\n",
      "1\n",
      "-54618.43457773392\n",
      "3566.4178682700654\n",
      "40\n",
      "K : 2\n",
      "[0 -600 -100 -1200 -2000]\n"
     ]
    },
    {
     "name": "stderr",
     "output_type": "stream",
     "text": [
      "\u001b[36m\u001b[1m[ \u001b[22m\u001b[39m\u001b[36m\u001b[1mInfo: \u001b[22m\u001b[39m         709.4819712s: 11 minutes, 49 seconds, 481 milliseconds\n",
      "\u001b[36m\u001b[1m[ \u001b[22m\u001b[39m\u001b[36m\u001b[1mInfo: \u001b[22m\u001b[39m started timer at: 2024-03-19T05:20:51.644\n"
     ]
    },
    {
     "name": "stdout",
     "output_type": "stream",
     "text": [
      "false\n",
      "40\n",
      "k : 2\n",
      "1\n",
      "-58536.94100828379\n",
      "3702.4556125866493\n",
      "40\n",
      "K : 2\n",
      "[0 -800 -100 -1200 -2000]\n"
     ]
    },
    {
     "name": "stderr",
     "output_type": "stream",
     "text": [
      "\u001b[36m\u001b[1m[ \u001b[22m\u001b[39m\u001b[36m\u001b[1mInfo: \u001b[22m\u001b[39m         710.3591463s: 11 minutes, 50 seconds, 359 milliseconds\n",
      "\u001b[36m\u001b[1m[ \u001b[22m\u001b[39m\u001b[36m\u001b[1mInfo: \u001b[22m\u001b[39m started timer at: 2024-03-19T05:32:42.016\n"
     ]
    },
    {
     "name": "stdout",
     "output_type": "stream",
     "text": [
      "false\n",
      "40\n",
      "k : 2\n",
      "1\n",
      "-62399.68164710665\n",
      "3852.983633382688\n",
      "40\n",
      "K : 2\n",
      "[0 -1000 -100 -1200 -2000]\n"
     ]
    },
    {
     "name": "stderr",
     "output_type": "stream",
     "text": [
      "\u001b[36m\u001b[1m[ \u001b[22m\u001b[39m\u001b[36m\u001b[1mInfo: \u001b[22m\u001b[39m         707.9830889s: 11 minutes, 47 seconds, 983 milliseconds\n",
      "\u001b[36m\u001b[1m[ \u001b[22m\u001b[39m\u001b[36m\u001b[1mInfo: \u001b[22m\u001b[39m started timer at: 2024-03-19T05:44:30.013\n"
     ]
    },
    {
     "name": "stdout",
     "output_type": "stream",
     "text": [
      "false\n",
      "40\n",
      "k : 2\n",
      "1\n",
      "-66195.9052169749\n",
      "4084.4928510831173\n",
      "40\n",
      "K : 2\n",
      "[0 -1200 -100 -1200 -2000]\n"
     ]
    },
    {
     "name": "stderr",
     "output_type": "stream",
     "text": [
      "\u001b[36m\u001b[1m[ \u001b[22m\u001b[39m\u001b[36m\u001b[1mInfo: \u001b[22m\u001b[39m         712.6577088s: 11 minutes, 52 seconds, 657 milliseconds\n",
      "\u001b[36m\u001b[1m[ \u001b[22m\u001b[39m\u001b[36m\u001b[1mInfo: \u001b[22m\u001b[39m started timer at: 2024-03-19T05:56:22.684\n"
     ]
    },
    {
     "name": "stdout",
     "output_type": "stream",
     "text": [
      "false\n",
      "40\n",
      "k : 2\n",
      "1\n",
      "-69642.227401778\n",
      "4280.695247387474\n",
      "40\n",
      "K : 2\n",
      "[0 -1400 -100 -1200 -2000]\n"
     ]
    },
    {
     "name": "stderr",
     "output_type": "stream",
     "text": [
      "\u001b[36m\u001b[1m[ \u001b[22m\u001b[39m\u001b[36m\u001b[1mInfo: \u001b[22m\u001b[39m         707.1241754s: 11 minutes, 47 seconds, 124 milliseconds\n",
      "\u001b[36m\u001b[1m[ \u001b[22m\u001b[39m\u001b[36m\u001b[1mInfo: \u001b[22m\u001b[39m started timer at: 2024-03-19T06:08:09.822\n"
     ]
    },
    {
     "name": "stdout",
     "output_type": "stream",
     "text": [
      "false\n",
      "40\n",
      "k : 2\n",
      "1\n",
      "-72662.11158244801\n",
      "4499.940436078397\n"
     ]
    },
    {
     "name": "stderr",
     "output_type": "stream",
     "text": [
      "\u001b[36m\u001b[1m[ \u001b[22m\u001b[39m\u001b[36m\u001b[1mInfo: \u001b[22m\u001b[39m         708.8476586s: 11 minutes, 48 seconds, 847 milliseconds\n",
      "\u001b[36m\u001b[1m[ \u001b[22m\u001b[39m\u001b[36m\u001b[1mInfo: \u001b[22m\u001b[39m started timer at: 2024-03-19T06:19:58.693\n"
     ]
    },
    {
     "name": "stdout",
     "output_type": "stream",
     "text": [
      "40\n",
      "K : 2\n",
      "[0 -1600 -100 -1200 -2000]\n",
      "false\n",
      "40\n",
      "k : 2\n",
      "1\n",
      "-75177.99058384677\n",
      "4584.434707247707\n",
      "40\n",
      "K : 2\n",
      "[0 -1800 -100 -1200 -2000]\n"
     ]
    },
    {
     "name": "stderr",
     "output_type": "stream",
     "text": [
      "\u001b[36m\u001b[1m[ \u001b[22m\u001b[39m\u001b[36m\u001b[1mInfo: \u001b[22m\u001b[39m         704.5404315s: 11 minutes, 44 seconds, 540 milliseconds\n",
      "\u001b[36m\u001b[1m[ \u001b[22m\u001b[39m\u001b[36m\u001b[1mInfo: \u001b[22m\u001b[39m started timer at: 2024-03-19T06:31:43.258\n"
     ]
    },
    {
     "name": "stdout",
     "output_type": "stream",
     "text": [
      "false\n",
      "40\n",
      "k : 2\n",
      "1\n",
      "-77593.140088771\n",
      "4633.977540105949\n",
      "40\n",
      "K : 2\n",
      "[0 -2000 -100 -1200 -2000]\n"
     ]
    },
    {
     "name": "stderr",
     "output_type": "stream",
     "text": [
      "\u001b[36m\u001b[1m[ \u001b[22m\u001b[39m\u001b[36m\u001b[1mInfo: \u001b[22m\u001b[39m         706.6334351s: 11 minutes, 46 seconds, 633 milliseconds\n",
      "\u001b[36m\u001b[1m[ \u001b[22m\u001b[39m\u001b[36m\u001b[1mInfo: \u001b[22m\u001b[39m started timer at: 2024-03-19T06:43:29.905\n"
     ]
    },
    {
     "name": "stdout",
     "output_type": "stream",
     "text": [
      "false\n",
      "40\n",
      "k : 2\n",
      "1\n",
      "-79565.56255421469\n",
      "4719.5391157430995\n",
      "40\n",
      "K : 2\n",
      "[0 -2400 -100 -1200 -2000]\n"
     ]
    },
    {
     "name": "stderr",
     "output_type": "stream",
     "text": [
      "\u001b[36m\u001b[1m[ \u001b[22m\u001b[39m\u001b[36m\u001b[1mInfo: \u001b[22m\u001b[39m          706.601292s: 11 minutes, 46 seconds, 601 milliseconds\n",
      "\u001b[36m\u001b[1m[ \u001b[22m\u001b[39m\u001b[36m\u001b[1mInfo: \u001b[22m\u001b[39m started timer at: 2024-03-19T06:55:16.519\n"
     ]
    },
    {
     "name": "stdout",
     "output_type": "stream",
     "text": [
      "false\n",
      "40\n",
      "k : 2\n",
      "1\n",
      "-83421.70682946825\n",
      "4747.696241197683\n",
      "40\n",
      "K : 2\n",
      "[0 -2800 -100 -1200 -2000]\n"
     ]
    },
    {
     "name": "stderr",
     "output_type": "stream",
     "text": [
      "\u001b[36m\u001b[1m[ \u001b[22m\u001b[39m\u001b[36m\u001b[1mInfo: \u001b[22m\u001b[39m          706.491143s: 11 minutes, 46 seconds, 491 milliseconds\n",
      "\u001b[36m\u001b[1m[ \u001b[22m\u001b[39m\u001b[36m\u001b[1mInfo: \u001b[22m\u001b[39m started timer at: 2024-03-19T07:07:03.024\n"
     ]
    },
    {
     "name": "stdout",
     "output_type": "stream",
     "text": [
      "false\n",
      "40\n",
      "k : 2\n",
      "1\n",
      "-87192.10732083744\n",
      "4845.156155917448\n",
      "40\n",
      "K : 2\n",
      "[0 -3200 -100 -1200 -2000]\n"
     ]
    },
    {
     "name": "stderr",
     "output_type": "stream",
     "text": [
      "\u001b[36m\u001b[1m[ \u001b[22m\u001b[39m\u001b[36m\u001b[1mInfo: \u001b[22m\u001b[39m         706.5654098s: 11 minutes, 46 seconds, 565 milliseconds\n",
      "\u001b[36m\u001b[1m[ \u001b[22m\u001b[39m\u001b[36m\u001b[1mInfo: \u001b[22m\u001b[39m started timer at: 2024-03-19T07:18:49.602\n"
     ]
    },
    {
     "name": "stdout",
     "output_type": "stream",
     "text": [
      "false\n",
      "40\n",
      "k : 2\n",
      "1\n",
      "-90896.15193022581\n",
      "5022.940085926889\n",
      "-------------------------\n",
      "40\n",
      "K : 4\n",
      "[0 -200 -100 -1200 -2000]\n"
     ]
    },
    {
     "name": "stderr",
     "output_type": "stream",
     "text": [
      "\u001b[36m\u001b[1m[ \u001b[22m\u001b[39m\u001b[36m\u001b[1mInfo: \u001b[22m\u001b[39m         706.2439361s: 11 minutes, 46 seconds, 243 milliseconds\n",
      "\u001b[36m\u001b[1m[ \u001b[22m\u001b[39m\u001b[36m\u001b[1mInfo: \u001b[22m\u001b[39m started timer at: 2024-03-19T07:30:35.871\n"
     ]
    },
    {
     "name": "stdout",
     "output_type": "stream",
     "text": [
      "false\n",
      "40\n",
      "k : 4\n",
      "1\n",
      "-45734.67722794526\n",
      "2889.198234032327\n",
      "40\n",
      "K : 4\n",
      "[0 -400 -100 -1200 -2000]\n"
     ]
    },
    {
     "name": "stderr",
     "output_type": "stream",
     "text": [
      "\u001b[36m\u001b[1m[ \u001b[22m\u001b[39m\u001b[36m\u001b[1mInfo: \u001b[22m\u001b[39m         709.3331751s: 11 minutes, 49 seconds, 333 milliseconds\n",
      "\u001b[36m\u001b[1m[ \u001b[22m\u001b[39m\u001b[36m\u001b[1mInfo: \u001b[22m\u001b[39m started timer at: 2024-03-19T07:42:25.217\n"
     ]
    },
    {
     "name": "stdout",
     "output_type": "stream",
     "text": [
      "false\n",
      "40\n",
      "k : 4\n",
      "1\n",
      "-49449.04570768719\n",
      "2831.3936638889895\n",
      "40\n",
      "K : 4\n",
      "[0 -600 -100 -1200 -2000]\n"
     ]
    },
    {
     "name": "stderr",
     "output_type": "stream",
     "text": [
      "\u001b[36m\u001b[1m[ \u001b[22m\u001b[39m\u001b[36m\u001b[1mInfo: \u001b[22m\u001b[39m         708.8856378s: 11 minutes, 48 seconds, 885 milliseconds\n",
      "\u001b[36m\u001b[1m[ \u001b[22m\u001b[39m\u001b[36m\u001b[1mInfo: \u001b[22m\u001b[39m started timer at: 2024-03-19T07:54:14.116\n"
     ]
    },
    {
     "name": "stdout",
     "output_type": "stream",
     "text": [
      "false\n",
      "40\n",
      "k : 4\n",
      "1\n",
      "-53180.54858271615\n",
      "2978.420767121455\n",
      "40\n",
      "K : 4\n",
      "[0 -800 -100 -1200 -2000]\n"
     ]
    },
    {
     "name": "stderr",
     "output_type": "stream",
     "text": [
      "\u001b[36m\u001b[1m[ \u001b[22m\u001b[39m\u001b[36m\u001b[1mInfo: \u001b[22m\u001b[39m         709.3897207s: 11 minutes, 49 seconds, 389 milliseconds\n",
      "\u001b[36m\u001b[1m[ \u001b[22m\u001b[39m\u001b[36m\u001b[1mInfo: \u001b[22m\u001b[39m started timer at: 2024-03-19T08:06:03.519\n"
     ]
    },
    {
     "name": "stdout",
     "output_type": "stream",
     "text": [
      "false\n",
      "40\n",
      "k : 4\n",
      "1\n",
      "-56536.90820200172\n",
      "3157.589775250554\n",
      "40\n",
      "K : 4\n",
      "[0 -1000 -100 -1200 -2000]\n"
     ]
    },
    {
     "name": "stderr",
     "output_type": "stream",
     "text": [
      "\u001b[36m\u001b[1m[ \u001b[22m\u001b[39m\u001b[36m\u001b[1mInfo: \u001b[22m\u001b[39m         709.8315917s: 11 minutes, 49 seconds, 831 milliseconds\n",
      "\u001b[36m\u001b[1m[ \u001b[22m\u001b[39m\u001b[36m\u001b[1mInfo: \u001b[22m\u001b[39m started timer at: 2024-03-19T08:17:53.365\n"
     ]
    },
    {
     "name": "stdout",
     "output_type": "stream",
     "text": [
      "false\n",
      "40\n",
      "k : 4\n",
      "1\n",
      "-59657.56436004938\n",
      "3402.1690786071476\n",
      "40\n",
      "K : 4\n",
      "[0 -1200 -100 -1200 -2000]\n"
     ]
    },
    {
     "name": "stderr",
     "output_type": "stream",
     "text": [
      "\u001b[36m\u001b[1m[ \u001b[22m\u001b[39m\u001b[36m\u001b[1mInfo: \u001b[22m\u001b[39m         709.9633848s: 11 minutes, 49 seconds, 963 milliseconds\n",
      "\u001b[36m\u001b[1m[ \u001b[22m\u001b[39m\u001b[36m\u001b[1mInfo: \u001b[22m\u001b[39m started timer at: 2024-03-19T08:29:43.341\n"
     ]
    },
    {
     "name": "stdout",
     "output_type": "stream",
     "text": [
      "false\n",
      "40\n",
      "k : 4\n",
      "1\n",
      "-62370.82656994255\n",
      "3621.5050112474964\n",
      "40\n",
      "K : 4\n",
      "[0 -1400 -100 -1200 -2000]\n"
     ]
    },
    {
     "name": "stderr",
     "output_type": "stream",
     "text": [
      "\u001b[36m\u001b[1m[ \u001b[22m\u001b[39m\u001b[36m\u001b[1mInfo: \u001b[22m\u001b[39m         705.9086138s: 11 minutes, 45 seconds, 908 milliseconds\n",
      "\u001b[36m\u001b[1m[ \u001b[22m\u001b[39m\u001b[36m\u001b[1mInfo: \u001b[22m\u001b[39m started timer at: 2024-03-19T08:41:29.264\n"
     ]
    },
    {
     "name": "stdout",
     "output_type": "stream",
     "text": [
      "false\n",
      "40\n",
      "k : 4\n",
      "1\n",
      "-64777.62903090703\n",
      "3819.323210216717\n",
      "40\n",
      "K : 4\n",
      "[0 -1600 -100 -1200 -2000]\n"
     ]
    },
    {
     "name": "stderr",
     "output_type": "stream",
     "text": [
      "\u001b[36m\u001b[1m[ \u001b[22m\u001b[39m\u001b[36m\u001b[1mInfo: \u001b[22m\u001b[39m         706.7946322s: 11 minutes, 46 seconds, 794 milliseconds\n",
      "\u001b[36m\u001b[1m[ \u001b[22m\u001b[39m\u001b[36m\u001b[1mInfo: \u001b[22m\u001b[39m started timer at: 2024-03-19T08:53:16.072\n"
     ]
    },
    {
     "name": "stdout",
     "output_type": "stream",
     "text": [
      "false\n",
      "40\n",
      "k : 4\n",
      "1\n",
      "-66911.31059299123\n",
      "3942.4383108579764\n",
      "40\n",
      "K : 4\n",
      "[0 -1800 -100 -1200 -2000]\n"
     ]
    },
    {
     "name": "stderr",
     "output_type": "stream",
     "text": [
      "\u001b[36m\u001b[1m[ \u001b[22m\u001b[39m\u001b[36m\u001b[1mInfo: \u001b[22m\u001b[39m         705.0418444s: 11 minutes, 45 seconds, 41 milliseconds\n",
      "\u001b[36m\u001b[1m[ \u001b[22m\u001b[39m\u001b[36m\u001b[1mInfo: \u001b[22m\u001b[39m started timer at: 2024-03-19T09:05:01.128\n"
     ]
    },
    {
     "name": "stdout",
     "output_type": "stream",
     "text": [
      "false\n",
      "40\n",
      "k : 4\n",
      "1\n",
      "-68989.35599427822\n",
      "4004.2619010086196\n",
      "40\n",
      "K : 4\n",
      "[0 -2000 -100 -1200 -2000]\n"
     ]
    },
    {
     "name": "stderr",
     "output_type": "stream",
     "text": [
      "\u001b[36m\u001b[1m[ \u001b[22m\u001b[39m\u001b[36m\u001b[1mInfo: \u001b[22m\u001b[39m         708.5239715s: 11 minutes, 48 seconds, 523 milliseconds\n",
      "\u001b[36m\u001b[1m[ \u001b[22m\u001b[39m\u001b[36m\u001b[1mInfo: \u001b[22m\u001b[39m started timer at: 2024-03-19T09:16:49.677\n"
     ]
    },
    {
     "name": "stdout",
     "output_type": "stream",
     "text": [
      "false\n",
      "40\n",
      "k : 4\n",
      "1\n",
      "-70957.43248493166\n",
      "4034.7059726808384\n",
      "40\n",
      "K : 4\n",
      "[0 -2400 -100 -1200 -2000]\n"
     ]
    },
    {
     "name": "stderr",
     "output_type": "stream",
     "text": [
      "\u001b[36m\u001b[1m[ \u001b[22m\u001b[39m\u001b[36m\u001b[1mInfo: \u001b[22m\u001b[39m          706.879019s: 11 minutes, 46 seconds, 879 milliseconds\n",
      "\u001b[36m\u001b[1m[ \u001b[22m\u001b[39m\u001b[36m\u001b[1mInfo: \u001b[22m\u001b[39m started timer at: 2024-03-19T09:28:36.569\n"
     ]
    },
    {
     "name": "stdout",
     "output_type": "stream",
     "text": [
      "false\n",
      "40\n",
      "k : 4\n",
      "1\n",
      "-74487.14632604916\n",
      "4037.351088739063\n",
      "40\n",
      "K : 4\n",
      "[0 -2800 -100 -1200 -2000]\n"
     ]
    },
    {
     "name": "stderr",
     "output_type": "stream",
     "text": [
      "\u001b[36m\u001b[1m[ \u001b[22m\u001b[39m\u001b[36m\u001b[1mInfo: \u001b[22m\u001b[39m         708.2272788s: 11 minutes, 48 seconds, 227 milliseconds\n",
      "\u001b[36m\u001b[1m[ \u001b[22m\u001b[39m\u001b[36m\u001b[1mInfo: \u001b[22m\u001b[39m started timer at: 2024-03-19T09:40:24.822\n"
     ]
    },
    {
     "name": "stdout",
     "output_type": "stream",
     "text": [
      "false\n",
      "40\n",
      "k : 4\n",
      "1\n",
      "-78046.75883035279\n",
      "4270.99627619013\n",
      "40\n",
      "K : 4\n",
      "[0 -3200 -100 -1200 -2000]\n"
     ]
    },
    {
     "name": "stderr",
     "output_type": "stream",
     "text": [
      "\u001b[36m\u001b[1m[ \u001b[22m\u001b[39m\u001b[36m\u001b[1mInfo: \u001b[22m\u001b[39m         705.6264535s: 11 minutes, 45 seconds, 626 milliseconds\n",
      "\u001b[36m\u001b[1m[ \u001b[22m\u001b[39m\u001b[36m\u001b[1mInfo: \u001b[22m\u001b[39m started timer at: 2024-03-19T09:52:10.461\n"
     ]
    },
    {
     "name": "stdout",
     "output_type": "stream",
     "text": [
      "false\n",
      "40\n",
      "k : 4\n",
      "1\n",
      "-81422.60811478834\n",
      "4415.241446471357\n",
      "-------------------------\n",
      "40\n",
      "K : 6\n",
      "[0 -200 -100 -1200 -2000]\n"
     ]
    },
    {
     "name": "stderr",
     "output_type": "stream",
     "text": [
      "\u001b[36m\u001b[1m[ \u001b[22m\u001b[39m\u001b[36m\u001b[1mInfo: \u001b[22m\u001b[39m         705.9231157s: 11 minutes, 45 seconds, 923 milliseconds\n",
      "\u001b[36m\u001b[1m[ \u001b[22m\u001b[39m\u001b[36m\u001b[1mInfo: \u001b[22m\u001b[39m started timer at: 2024-03-19T10:03:56.398\n"
     ]
    },
    {
     "name": "stdout",
     "output_type": "stream",
     "text": [
      "false\n",
      "40\n",
      "k : 6\n",
      "1\n",
      "-44966.79528224524\n",
      "2737.8689711617194\n",
      "40\n",
      "K : 6\n",
      "[0 -400 -100 -1200 -2000]\n"
     ]
    },
    {
     "name": "stderr",
     "output_type": "stream",
     "text": [
      "\u001b[36m\u001b[1m[ \u001b[22m\u001b[39m\u001b[36m\u001b[1mInfo: \u001b[22m\u001b[39m          706.842614s: 11 minutes, 46 seconds, 842 milliseconds\n",
      "\u001b[36m\u001b[1m[ \u001b[22m\u001b[39m\u001b[36m\u001b[1mInfo: \u001b[22m\u001b[39m started timer at: 2024-03-19T10:15:43.254\n"
     ]
    },
    {
     "name": "stdout",
     "output_type": "stream",
     "text": [
      "false\n",
      "40\n",
      "k : 6\n",
      "1\n",
      "-48774.84061089931\n",
      "2720.7361475417415\n",
      "40\n",
      "K : 6\n",
      "[0 -600 -100 -1200 -2000]\n"
     ]
    },
    {
     "name": "stderr",
     "output_type": "stream",
     "text": [
      "\u001b[36m\u001b[1m[ \u001b[22m\u001b[39m\u001b[36m\u001b[1mInfo: \u001b[22m\u001b[39m         708.6899999s: 11 minutes, 48 seconds, 689 milliseconds\n",
      "\u001b[36m\u001b[1m[ \u001b[22m\u001b[39m\u001b[36m\u001b[1mInfo: \u001b[22m\u001b[39m started timer at: 2024-03-19T10:27:31.958\n"
     ]
    },
    {
     "name": "stdout",
     "output_type": "stream",
     "text": [
      "false\n",
      "40\n",
      "k : 6\n",
      "1\n",
      "-52280.74635168817\n",
      "2837.014404749464\n",
      "40\n",
      "K : 6\n",
      "[0 -800 -100 -1200 -2000]\n"
     ]
    },
    {
     "name": "stderr",
     "output_type": "stream",
     "text": [
      "\u001b[36m\u001b[1m[ \u001b[22m\u001b[39m\u001b[36m\u001b[1mInfo: \u001b[22m\u001b[39m         707.5139834s: 11 minutes, 47 seconds, 513 milliseconds\n",
      "\u001b[36m\u001b[1m[ \u001b[22m\u001b[39m\u001b[36m\u001b[1mInfo: \u001b[22m\u001b[39m started timer at: 2024-03-19T10:39:19.497\n"
     ]
    },
    {
     "name": "stdout",
     "output_type": "stream",
     "text": [
      "false\n",
      "40\n",
      "k : 6\n",
      "1\n",
      "-55406.49474809687\n",
      "3030.317847841066\n",
      "40\n",
      "K : 6\n",
      "[0 -1000 -100 -1200 -2000]\n"
     ]
    },
    {
     "name": "stderr",
     "output_type": "stream",
     "text": [
      "\u001b[36m\u001b[1m[ \u001b[22m\u001b[39m\u001b[36m\u001b[1mInfo: \u001b[22m\u001b[39m         706.9549238s: 11 minutes, 46 seconds, 954 milliseconds\n",
      "\u001b[36m\u001b[1m[ \u001b[22m\u001b[39m\u001b[36m\u001b[1mInfo: \u001b[22m\u001b[39m started timer at: 2024-03-19T10:51:06.465\n"
     ]
    },
    {
     "name": "stdout",
     "output_type": "stream",
     "text": [
      "false\n",
      "40\n",
      "k : 6\n",
      "1\n",
      "-58117.42478331641\n",
      "3222.6783697663645\n",
      "40\n",
      "K : 6\n",
      "[0 -1200 -100 -1200 -2000]\n"
     ]
    },
    {
     "name": "stderr",
     "output_type": "stream",
     "text": [
      "\u001b[36m\u001b[1m[ \u001b[22m\u001b[39m\u001b[36m\u001b[1mInfo: \u001b[22m\u001b[39m         708.6765329s: 11 minutes, 48 seconds, 676 milliseconds\n",
      "\u001b[36m\u001b[1m[ \u001b[22m\u001b[39m\u001b[36m\u001b[1mInfo: \u001b[22m\u001b[39m started timer at: 2024-03-19T11:02:55.166\n"
     ]
    },
    {
     "name": "stdout",
     "output_type": "stream",
     "text": [
      "false\n",
      "40\n",
      "k : 6\n",
      "1\n",
      "-60279.99828478198\n",
      "3423.0189949606324\n",
      "40\n",
      "K : 6\n",
      "[0 -1400 -100 -1200 -2000]\n"
     ]
    },
    {
     "name": "stderr",
     "output_type": "stream",
     "text": [
      "\u001b[36m\u001b[1m[ \u001b[22m\u001b[39m\u001b[36m\u001b[1mInfo: \u001b[22m\u001b[39m         709.0385052s: 11 minutes, 49 seconds, 38 milliseconds\n",
      "\u001b[36m\u001b[1m[ \u001b[22m\u001b[39m\u001b[36m\u001b[1mInfo: \u001b[22m\u001b[39m started timer at: 2024-03-19T11:14:44.218\n"
     ]
    },
    {
     "name": "stdout",
     "output_type": "stream",
     "text": [
      "false\n",
      "40\n",
      "k : 6\n",
      "1\n",
      "-62314.81809883573\n",
      "3545.278143314289\n",
      "40\n",
      "K : 6\n",
      "[0 -1600 -100 -1200 -2000]\n"
     ]
    },
    {
     "name": "stderr",
     "output_type": "stream",
     "text": [
      "\u001b[36m\u001b[1m[ \u001b[22m\u001b[39m\u001b[36m\u001b[1mInfo: \u001b[22m\u001b[39m         708.8751161s: 11 minutes, 48 seconds, 875 milliseconds\n",
      "\u001b[36m\u001b[1m[ \u001b[22m\u001b[39m\u001b[36m\u001b[1mInfo: \u001b[22m\u001b[39m started timer at: 2024-03-19T11:26:33.107\n"
     ]
    },
    {
     "name": "stdout",
     "output_type": "stream",
     "text": [
      "false\n",
      "40\n",
      "k : 6\n",
      "1\n",
      "-64232.82835517564\n",
      "3555.9171477712043\n",
      "40\n",
      "K : 6\n",
      "[0 -1800 -100 -1200 -2000]"
     ]
    },
    {
     "name": "stderr",
     "output_type": "stream",
     "text": [
      "\u001b[36m\u001b[1m[ \u001b[22m\u001b[39m\u001b[36m\u001b[1mInfo: \u001b[22m\u001b[39m         707.3489575s: 11 minutes, 47 seconds, 348 milliseconds\n",
      "\u001b[36m\u001b[1m[ \u001b[22m\u001b[39m\u001b[36m\u001b[1mInfo: \u001b[22m\u001b[39m started timer at: 2024-03-19T11:38:20.469\n"
     ]
    },
    {
     "name": "stdout",
     "output_type": "stream",
     "text": [
      "\n",
      "false\n",
      "40\n",
      "k : 6\n",
      "1\n",
      "-66280.63655495073\n",
      "3659.567232388193\n",
      "40\n",
      "K : 6\n",
      "[0 -2000 -100 -1200 -2000]\n"
     ]
    },
    {
     "name": "stderr",
     "output_type": "stream",
     "text": [
      "\u001b[36m\u001b[1m[ \u001b[22m\u001b[39m\u001b[36m\u001b[1mInfo: \u001b[22m\u001b[39m         707.1606072s: 11 minutes, 47 seconds, 160 milliseconds\n",
      "\u001b[36m\u001b[1m[ \u001b[22m\u001b[39m\u001b[36m\u001b[1mInfo: \u001b[22m\u001b[39m started timer at: 2024-03-19T11:50:07.645\n"
     ]
    },
    {
     "name": "stdout",
     "output_type": "stream",
     "text": [
      "false\n",
      "40\n",
      "k : 6\n",
      "1\n",
      "-68057.66423210924\n",
      "3687.5035398298137\n",
      "40\n",
      "K : 6\n",
      "[0 -2400 -100 -1200 -2000]\n"
     ]
    },
    {
     "name": "stderr",
     "output_type": "stream",
     "text": [
      "\u001b[36m\u001b[1m[ \u001b[22m\u001b[39m\u001b[36m\u001b[1mInfo: \u001b[22m\u001b[39m         706.6324025s: 11 minutes, 46 seconds, 632 milliseconds\n",
      "\u001b[36m\u001b[1m[ \u001b[22m\u001b[39m\u001b[36m\u001b[1mInfo: \u001b[22m\u001b[39m started timer at: 2024-03-19T12:01:54.290\n"
     ]
    },
    {
     "name": "stdout",
     "output_type": "stream",
     "text": [
      "false\n",
      "40\n",
      "k : 6\n",
      "1\n",
      "-71480.62274264991\n",
      "3790.869482076131\n",
      "40\n",
      "K : 6\n",
      "[0 -2800 -100 -1200 -2000]\n"
     ]
    },
    {
     "name": "stderr",
     "output_type": "stream",
     "text": [
      "\u001b[36m\u001b[1m[ \u001b[22m\u001b[39m\u001b[36m\u001b[1mInfo: \u001b[22m\u001b[39m           709.41143s: 11 minutes, 49 seconds, 411 milliseconds\n",
      "\u001b[36m\u001b[1m[ \u001b[22m\u001b[39m\u001b[36m\u001b[1mInfo: \u001b[22m\u001b[39m started timer at: 2024-03-19T12:13:43.715\n"
     ]
    },
    {
     "name": "stdout",
     "output_type": "stream",
     "text": [
      "false\n",
      "40\n",
      "k : 6\n",
      "1\n",
      "-74608.12197268486\n",
      "3990.1845151105613\n",
      "40\n",
      "K : 6\n",
      "[0 -3200 -100 -1200 -2000]\n"
     ]
    },
    {
     "name": "stderr",
     "output_type": "stream",
     "text": [
      "\u001b[36m\u001b[1m[ \u001b[22m\u001b[39m\u001b[36m\u001b[1mInfo: \u001b[22m\u001b[39m         705.3318854s: 11 minutes, 45 seconds, 331 milliseconds\n",
      "\u001b[36m\u001b[1m[ \u001b[22m\u001b[39m\u001b[36m\u001b[1mInfo: \u001b[22m\u001b[39m started timer at: 2024-03-19T12:25:29.062\n"
     ]
    },
    {
     "name": "stdout",
     "output_type": "stream",
     "text": [
      "false\n",
      "40\n",
      "k : 6\n",
      "1\n",
      "-77678.25470302929\n",
      "4179.459113661242\n",
      "-------------------------\n",
      "40\n",
      "K : 8\n",
      "[0 -200 -100 -1200 -2000]\n"
     ]
    },
    {
     "name": "stderr",
     "output_type": "stream",
     "text": [
      "\u001b[36m\u001b[1m[ \u001b[22m\u001b[39m\u001b[36m\u001b[1mInfo: \u001b[22m\u001b[39m         705.7621988s: 11 minutes, 45 seconds, 762 milliseconds\n",
      "\u001b[36m\u001b[1m[ \u001b[22m\u001b[39m\u001b[36m\u001b[1mInfo: \u001b[22m\u001b[39m started timer at: 2024-03-19T12:37:14.838\n"
     ]
    },
    {
     "name": "stdout",
     "output_type": "stream",
     "text": [
      "false\n",
      "40\n",
      "k : 8\n",
      "1\n",
      "-44859.230219170735\n",
      "2708.6628292789496\n",
      "40\n",
      "K : 8\n",
      "[0 -400 -100 -1200 -2000]\n"
     ]
    },
    {
     "name": "stderr",
     "output_type": "stream",
     "text": [
      "\u001b[36m\u001b[1m[ \u001b[22m\u001b[39m\u001b[36m\u001b[1mInfo: \u001b[22m\u001b[39m         706.3275759s: 11 minutes, 46 seconds, 327 milliseconds\n",
      "\u001b[36m\u001b[1m[ \u001b[22m\u001b[39m\u001b[36m\u001b[1mInfo: \u001b[22m\u001b[39m started timer at: 2024-03-19T12:49:01.190\n"
     ]
    },
    {
     "name": "stdout",
     "output_type": "stream",
     "text": [
      "false\n",
      "40\n",
      "k : 8\n",
      "1\n",
      "-48647.83780649049\n",
      "2697.8632374098015\n",
      "40\n",
      "K : 8\n",
      "[0 -600 -100 -1200 -2000]\n"
     ]
    },
    {
     "name": "stderr",
     "output_type": "stream",
     "text": [
      "\u001b[36m\u001b[1m[ \u001b[22m\u001b[39m\u001b[36m\u001b[1mInfo: \u001b[22m\u001b[39m         707.5268476s: 11 minutes, 47 seconds, 526 milliseconds\n",
      "\u001b[36m\u001b[1m[ \u001b[22m\u001b[39m\u001b[36m\u001b[1mInfo: \u001b[22m\u001b[39m started timer at: 2024-03-19T13:00:48.730\n"
     ]
    },
    {
     "name": "stdout",
     "output_type": "stream",
     "text": [
      "false\n",
      "40\n",
      "k : 8\n",
      "1\n",
      "-52111.13413083687\n",
      "2798.6447264000303\n",
      "40\n",
      "K : 8\n",
      "[0 -800 -100 -1200 -2000]\n"
     ]
    },
    {
     "name": "stderr",
     "output_type": "stream",
     "text": [
      "\u001b[36m\u001b[1m[ \u001b[22m\u001b[39m\u001b[36m\u001b[1mInfo: \u001b[22m\u001b[39m         708.3003139s: 11 minutes, 48 seconds, 300 milliseconds\n",
      "\u001b[36m\u001b[1m[ \u001b[22m\u001b[39m\u001b[36m\u001b[1mInfo: \u001b[22m\u001b[39m started timer at: 2024-03-19T13:12:37.044\n"
     ]
    },
    {
     "name": "stdout",
     "output_type": "stream",
     "text": [
      "false\n",
      "40\n",
      "k : 8\n",
      "1\n",
      "-55086.23311343707\n",
      "2944.582996570433\n",
      "40\n",
      "K : 8\n",
      "[0 -1000 -100 -1200 -2000]\n"
     ]
    },
    {
     "name": "stderr",
     "output_type": "stream",
     "text": [
      "\u001b[36m\u001b[1m[ \u001b[22m\u001b[39m\u001b[36m\u001b[1mInfo: \u001b[22m\u001b[39m         705.7782665s: 11 minutes, 45 seconds, 778 milliseconds\n",
      "\u001b[36m\u001b[1m[ \u001b[22m\u001b[39m\u001b[36m\u001b[1mInfo: \u001b[22m\u001b[39m started timer at: 2024-03-19T13:24:22.836\n"
     ]
    },
    {
     "name": "stdout",
     "output_type": "stream",
     "text": [
      "false\n",
      "40\n",
      "k : 8\n",
      "1\n",
      "-57505.6817568934\n",
      "3137.471409183448\n",
      "40\n",
      "K : 8\n",
      "[0 -1200 -100 -1200 -2000]\n"
     ]
    },
    {
     "name": "stderr",
     "output_type": "stream",
     "text": [
      "\u001b[36m\u001b[1m[ \u001b[22m\u001b[39m\u001b[36m\u001b[1mInfo: \u001b[22m\u001b[39m         709.4443866s: 11 minutes, 49 seconds, 444 milliseconds\n",
      "\u001b[36m\u001b[1m[ \u001b[22m\u001b[39m\u001b[36m\u001b[1mInfo: \u001b[22m\u001b[39m started timer at: 2024-03-19T13:36:12.295\n"
     ]
    },
    {
     "name": "stdout",
     "output_type": "stream",
     "text": [
      "false\n",
      "40\n",
      "k : 8\n",
      "1\n",
      "-59571.6262278147\n",
      "3325.525871651575\n",
      "40\n",
      "K : 8\n",
      "[0 -1400 -100 -1200 -2000]\n"
     ]
    },
    {
     "name": "stderr",
     "output_type": "stream",
     "text": [
      "\u001b[36m\u001b[1m[ \u001b[22m\u001b[39m\u001b[36m\u001b[1mInfo: \u001b[22m\u001b[39m         704.7088246s: 11 minutes, 44 seconds, 708 milliseconds\n",
      "\u001b[36m\u001b[1m[ \u001b[22m\u001b[39m\u001b[36m\u001b[1mInfo: \u001b[22m\u001b[39m started timer at: 2024-03-19T13:47:57.017\n"
     ]
    },
    {
     "name": "stdout",
     "output_type": "stream",
     "text": [
      "false\n",
      "40\n",
      "k : 8\n",
      "1\n",
      "-61530.916721414615\n",
      "3381.9323972491566\n",
      "40\n",
      "K : 8\n",
      "[0 -1600 -100 -1200 -2000]\n"
     ]
    },
    {
     "name": "stderr",
     "output_type": "stream",
     "text": [
      "\u001b[36m\u001b[1m[ \u001b[22m\u001b[39m\u001b[36m\u001b[1mInfo: \u001b[22m\u001b[39m         706.6353337s: 11 minutes, 46 seconds, 635 milliseconds\n",
      "\u001b[36m\u001b[1m[ \u001b[22m\u001b[39m\u001b[36m\u001b[1mInfo: \u001b[22m\u001b[39m started timer at: 2024-03-19T13:59:43.666\n"
     ]
    },
    {
     "name": "stdout",
     "output_type": "stream",
     "text": [
      "false\n",
      "40\n",
      "k : 8\n",
      "1\n",
      "-63402.26591003274\n",
      "3491.1346385622123\n",
      "40\n",
      "K : 8\n",
      "[0 -1800 -100 -1200 -2000]\n"
     ]
    },
    {
     "name": "stderr",
     "output_type": "stream",
     "text": [
      "\u001b[36m\u001b[1m[ \u001b[22m\u001b[39m\u001b[36m\u001b[1mInfo: \u001b[22m\u001b[39m         706.9695047s: 11 minutes, 46 seconds, 969 milliseconds\n",
      "\u001b[36m\u001b[1m[ \u001b[22m\u001b[39m\u001b[36m\u001b[1mInfo: \u001b[22m\u001b[39m started timer at: 2024-03-19T14:11:30.649\n"
     ]
    },
    {
     "name": "stdout",
     "output_type": "stream",
     "text": [
      "false\n",
      "40\n",
      "k : 8\n",
      "1\n",
      "-65223.293899396645\n",
      "3558.858877120254\n",
      "40\n",
      "K : 8\n",
      "[0 -2000 -100 -1200 -2000]\n"
     ]
    },
    {
     "name": "stderr",
     "output_type": "stream",
     "text": [
      "\u001b[36m\u001b[1m[ \u001b[22m\u001b[39m\u001b[36m\u001b[1mInfo: \u001b[22m\u001b[39m         707.4775294s: 11 minutes, 47 seconds, 477 milliseconds\n",
      "\u001b[36m\u001b[1m[ \u001b[22m\u001b[39m\u001b[36m\u001b[1mInfo: \u001b[22m\u001b[39m started timer at: 2024-03-19T14:23:18.141\n"
     ]
    },
    {
     "name": "stdout",
     "output_type": "stream",
     "text": [
      "false\n",
      "40\n",
      "k : 8\n",
      "1\n",
      "-66929.7537931814\n",
      "3574.432866056245\n",
      "40\n",
      "K : 8\n",
      "[0 -2400 -100 -1200 -2000]\n"
     ]
    },
    {
     "name": "stderr",
     "output_type": "stream",
     "text": [
      "\u001b[36m\u001b[1m[ \u001b[22m\u001b[39m\u001b[36m\u001b[1mInfo: \u001b[22m\u001b[39m           707.82678s: 11 minutes, 47 seconds, 826 milliseconds\n",
      "\u001b[36m\u001b[1m[ \u001b[22m\u001b[39m\u001b[36m\u001b[1mInfo: \u001b[22m\u001b[39m started timer at: 2024-03-19T14:35:05.982\n"
     ]
    },
    {
     "name": "stdout",
     "output_type": "stream",
     "text": [
      "false\n",
      "40\n",
      "k : 8\n",
      "1\n",
      "-70161.05649030925\n",
      "3665.0842463726262\n",
      "40\n",
      "K : 8\n",
      "[0 -2800 -100 -1200 -2000]\n"
     ]
    },
    {
     "name": "stderr",
     "output_type": "stream",
     "text": [
      "\u001b[36m\u001b[1m[ \u001b[22m\u001b[39m\u001b[36m\u001b[1mInfo: \u001b[22m\u001b[39m         707.6080866s: 11 minutes, 47 seconds, 608 milliseconds\n",
      "\u001b[36m\u001b[1m[ \u001b[22m\u001b[39m\u001b[36m\u001b[1mInfo: \u001b[22m\u001b[39m started timer at: 2024-03-19T14:46:53.604\n"
     ]
    },
    {
     "name": "stdout",
     "output_type": "stream",
     "text": [
      "false\n",
      "40\n",
      "k : 8\n",
      "1\n",
      "-73045.36614398866\n",
      "3814.0191001584976\n",
      "40\n",
      "K : 8\n",
      "[0 -3200 -100 -1200 -2000]\n"
     ]
    },
    {
     "name": "stderr",
     "output_type": "stream",
     "text": [
      "\u001b[36m\u001b[1m[ \u001b[22m\u001b[39m\u001b[36m\u001b[1mInfo: \u001b[22m\u001b[39m         706.8621914s: 11 minutes, 46 seconds, 862 milliseconds\n",
      "\u001b[36m\u001b[1m[ \u001b[22m\u001b[39m\u001b[36m\u001b[1mInfo: \u001b[22m\u001b[39m started timer at: 2024-03-19T14:58:40.479\n"
     ]
    },
    {
     "name": "stdout",
     "output_type": "stream",
     "text": [
      "false\n",
      "40\n",
      "k : 8\n",
      "1\n",
      "-75874.72219920273\n",
      "3965.8489396776204\n",
      "-------------------------\n",
      "40\n",
      "K : 10\n",
      "[0 -200 -100 -1200 -2000]\n"
     ]
    },
    {
     "name": "stderr",
     "output_type": "stream",
     "text": [
      "\u001b[36m\u001b[1m[ \u001b[22m\u001b[39m\u001b[36m\u001b[1mInfo: \u001b[22m\u001b[39m         704.3804541s: 11 minutes, 44 seconds, 380 milliseconds\n",
      "\u001b[36m\u001b[1m[ \u001b[22m\u001b[39m\u001b[36m\u001b[1mInfo: \u001b[22m\u001b[39m started timer at: 2024-03-19T15:10:24.885\n"
     ]
    },
    {
     "name": "stdout",
     "output_type": "stream",
     "text": [
      "false\n",
      "40\n",
      "k : 10\n",
      "1\n",
      "-44860.640285719106\n",
      "2687.082313419556\n",
      "40\n",
      "K : 10\n",
      "[0 -400 -100 -1200 -2000]\n"
     ]
    },
    {
     "name": "stderr",
     "output_type": "stream",
     "text": [
      "\u001b[36m\u001b[1m[ \u001b[22m\u001b[39m\u001b[36m\u001b[1mInfo: \u001b[22m\u001b[39m         705.8798693s: 11 minutes, 45 seconds, 879 milliseconds\n",
      "\u001b[36m\u001b[1m[ \u001b[22m\u001b[39m\u001b[36m\u001b[1mInfo: \u001b[22m\u001b[39m started timer at: 2024-03-19T15:22:10.788\n"
     ]
    },
    {
     "name": "stdout",
     "output_type": "stream",
     "text": [
      "false\n",
      "40\n",
      "k : 10\n",
      "1\n",
      "-48608.55960321016\n",
      "2695.4735252948612\n",
      "40\n",
      "K : 10\n",
      "[0 -600 -100 -1200 -2000]\n"
     ]
    },
    {
     "name": "stderr",
     "output_type": "stream",
     "text": [
      "\u001b[36m\u001b[1m[ \u001b[22m\u001b[39m\u001b[36m\u001b[1mInfo: \u001b[22m\u001b[39m         704.7073499s: 11 minutes, 44 seconds, 707 milliseconds\n",
      "\u001b[36m\u001b[1m[ \u001b[22m\u001b[39m\u001b[36m\u001b[1mInfo: \u001b[22m\u001b[39m started timer at: 2024-03-19T15:33:55.509\n"
     ]
    },
    {
     "name": "stdout",
     "output_type": "stream",
     "text": [
      "false\n",
      "40\n",
      "k : 10\n",
      "1\n",
      "-52026.65279018421\n",
      "2811.819985443142\n",
      "40\n",
      "K : 10\n",
      "[0 -800 -100 -1200 -2000]\n"
     ]
    },
    {
     "name": "stderr",
     "output_type": "stream",
     "text": [
      "\u001b[36m\u001b[1m[ \u001b[22m\u001b[39m\u001b[36m\u001b[1mInfo: \u001b[22m\u001b[39m         705.1396826s: 11 minutes, 45 seconds, 139 milliseconds\n",
      "\u001b[36m\u001b[1m[ \u001b[22m\u001b[39m\u001b[36m\u001b[1mInfo: \u001b[22m\u001b[39m started timer at: 2024-03-19T15:45:40.662\n"
     ]
    },
    {
     "name": "stdout",
     "output_type": "stream",
     "text": [
      "false\n",
      "40\n",
      "k : 10\n",
      "1\n",
      "-54843.97060650809\n",
      "2951.889976178516\n",
      "40\n",
      "K : 10\n",
      "[0 -1000 -100 -1200 -2000]\n"
     ]
    },
    {
     "name": "stderr",
     "output_type": "stream",
     "text": [
      "\u001b[36m\u001b[1m[ \u001b[22m\u001b[39m\u001b[36m\u001b[1mInfo: \u001b[22m\u001b[39m         706.9322312s: 11 minutes, 46 seconds, 932 milliseconds\n",
      "\u001b[36m\u001b[1m[ \u001b[22m\u001b[39m\u001b[36m\u001b[1mInfo: \u001b[22m\u001b[39m started timer at: 2024-03-19T15:57:27.608\n"
     ]
    },
    {
     "name": "stdout",
     "output_type": "stream",
     "text": [
      "false\n",
      "40\n",
      "k : 10\n",
      "1\n",
      "-57268.295687075195\n",
      "3121.708303112439\n",
      "40\n",
      "K : 10\n",
      "[0 -1200 -100 -1200 -2000]\n"
     ]
    },
    {
     "name": "stderr",
     "output_type": "stream",
     "text": [
      "\u001b[36m\u001b[1m[ \u001b[22m\u001b[39m\u001b[36m\u001b[1mInfo: \u001b[22m\u001b[39m         706.3438035s: 11 minutes, 46 seconds, 343 milliseconds\n",
      "\u001b[36m\u001b[1m[ \u001b[22m\u001b[39m\u001b[36m\u001b[1mInfo: \u001b[22m\u001b[39m started timer at: 2024-03-19T16:09:13.966\n"
     ]
    },
    {
     "name": "stdout",
     "output_type": "stream",
     "text": [
      "false\n",
      "40\n",
      "k : 10\n",
      "1\n",
      "-59278.88153398279\n",
      "3271.8006871794764\n",
      "40\n",
      "K : 10\n",
      "[0 -1400 -100 -1200 -2000]\n"
     ]
    },
    {
     "name": "stderr",
     "output_type": "stream",
     "text": [
      "\u001b[36m\u001b[1m[ \u001b[22m\u001b[39m\u001b[36m\u001b[1mInfo: \u001b[22m\u001b[39m         706.1414962s: 11 minutes, 46 seconds, 141 milliseconds\n",
      "\u001b[36m\u001b[1m[ \u001b[22m\u001b[39m\u001b[36m\u001b[1mInfo: \u001b[22m\u001b[39m started timer at: 2024-03-19T16:21:00.121\n"
     ]
    },
    {
     "name": "stdout",
     "output_type": "stream",
     "text": [
      "false\n",
      "40\n",
      "k : 10\n",
      "1\n",
      "-61117.61184854794\n",
      "3382.400436233151\n",
      "40\n",
      "K : 10\n",
      "[0 -1600 -100 -1200 -2000]\n"
     ]
    },
    {
     "name": "stderr",
     "output_type": "stream",
     "text": [
      "\u001b[36m\u001b[1m[ \u001b[22m\u001b[39m\u001b[36m\u001b[1mInfo: \u001b[22m\u001b[39m         703.8201103s: 11 minutes, 43 seconds, 820 milliseconds\n",
      "\u001b[36m\u001b[1m[ \u001b[22m\u001b[39m\u001b[36m\u001b[1mInfo: \u001b[22m\u001b[39m started timer at: 2024-03-19T16:32:43.954\n"
     ]
    },
    {
     "name": "stdout",
     "output_type": "stream",
     "text": [
      "false\n",
      "40\n",
      "k : 10\n",
      "1\n",
      "-63045.647030579115\n",
      "3413.4917238284324\n",
      "40\n",
      "K : 10\n",
      "[0 -1800 -100 -1200 -2000]\n"
     ]
    },
    {
     "name": "stderr",
     "output_type": "stream",
     "text": [
      "\u001b[36m\u001b[1m[ \u001b[22m\u001b[39m\u001b[36m\u001b[1mInfo: \u001b[22m\u001b[39m         707.0978334s: 11 minutes, 47 seconds, 97 milliseconds\n",
      "\u001b[36m\u001b[1m[ \u001b[22m\u001b[39m\u001b[36m\u001b[1mInfo: \u001b[22m\u001b[39m started timer at: 2024-03-19T16:44:31.067\n"
     ]
    },
    {
     "name": "stdout",
     "output_type": "stream",
     "text": [
      "false\n",
      "40\n",
      "k : 10\n",
      "1\n",
      "-64867.536546295596\n",
      "3438.1506013465278\n",
      "40\n",
      "K : 10\n",
      "[0 -2000 -100 -1200 -2000]\n"
     ]
    },
    {
     "name": "stderr",
     "output_type": "stream",
     "text": [
      "\u001b[36m\u001b[1m[ \u001b[22m\u001b[39m\u001b[36m\u001b[1mInfo: \u001b[22m\u001b[39m         706.5930133s: 11 minutes, 46 seconds, 593 milliseconds\n",
      "\u001b[36m\u001b[1m[ \u001b[22m\u001b[39m\u001b[36m\u001b[1mInfo: \u001b[22m\u001b[39m started timer at: 2024-03-19T16:56:17.672\n"
     ]
    },
    {
     "name": "stdout",
     "output_type": "stream",
     "text": [
      "false\n",
      "40\n",
      "k : 10\n",
      "1\n",
      "-66464.3667227138\n",
      "3501.251986012975\n",
      "40\n",
      "K : 10\n",
      "[0 -2400 -100 -1200 -2000]\n"
     ]
    },
    {
     "name": "stderr",
     "output_type": "stream",
     "text": [
      "\u001b[36m\u001b[1m[ \u001b[22m\u001b[39m\u001b[36m\u001b[1mInfo: \u001b[22m\u001b[39m         708.7914944s: 11 minutes, 48 seconds, 791 milliseconds\n",
      "\u001b[36m\u001b[1m[ \u001b[22m\u001b[39m\u001b[36m\u001b[1mInfo: \u001b[22m\u001b[39m started timer at: 2024-03-19T17:08:06.478\n"
     ]
    },
    {
     "name": "stdout",
     "output_type": "stream",
     "text": [
      "false\n",
      "40\n",
      "k : 10\n",
      "1\n",
      "-69535.43971364645\n",
      "3631.9479273948937\n",
      "40\n",
      "K : 10\n",
      "[0 -2800 -100 -1200 -2000]\n"
     ]
    },
    {
     "name": "stderr",
     "output_type": "stream",
     "text": [
      "\u001b[36m\u001b[1m[ \u001b[22m\u001b[39m\u001b[36m\u001b[1mInfo: \u001b[22m\u001b[39m         705.2643227s: 11 minutes, 45 seconds, 264 milliseconds\n",
      "\u001b[36m\u001b[1m[ \u001b[22m\u001b[39m\u001b[36m\u001b[1mInfo: \u001b[22m\u001b[39m started timer at: 2024-03-19T17:19:51.756\n"
     ]
    },
    {
     "name": "stdout",
     "output_type": "stream",
     "text": [
      "false\n",
      "40\n",
      "k : 10\n",
      "1\n",
      "-72224.97600339289\n",
      "3772.659731740188\n",
      "40"
     ]
    },
    {
     "name": "stderr",
     "output_type": "stream",
     "text": [
      "\u001b[36m\u001b[1m[ \u001b[22m\u001b[39m\u001b[36m\u001b[1mInfo: \u001b[22m\u001b[39m         707.3151219s: 11 minutes, 47 seconds, 315 milliseconds\n",
      "\u001b[36m\u001b[1m[ \u001b[22m\u001b[39m\u001b[36m\u001b[1mInfo: \u001b[22m\u001b[39m started timer at: 2024-03-19T17:31:39.084\n"
     ]
    },
    {
     "name": "stdout",
     "output_type": "stream",
     "text": [
      "\n",
      "K : 10\n",
      "[0 -3200 -100 -1200 -2000]\n",
      "false\n",
      "40\n",
      "k : 10\n",
      "1\n",
      "-74767.13142201037\n",
      "3893.5765296985874\n",
      "-------------------------\n",
      "40\n",
      "K : 12\n",
      "[0 -200 -100 -1200 -2000]\n"
     ]
    },
    {
     "name": "stderr",
     "output_type": "stream",
     "text": [
      "\u001b[36m\u001b[1m[ \u001b[22m\u001b[39m\u001b[36m\u001b[1mInfo: \u001b[22m\u001b[39m         706.3266328s: 11 minutes, 46 seconds, 326 milliseconds\n",
      "\u001b[36m\u001b[1m[ \u001b[22m\u001b[39m\u001b[36m\u001b[1mInfo: \u001b[22m\u001b[39m started timer at: 2024-03-19T17:43:25.424\n"
     ]
    },
    {
     "name": "stdout",
     "output_type": "stream",
     "text": [
      "false\n",
      "40\n",
      "k : 12\n",
      "1\n",
      "-44811.3275619954\n",
      "2678.3382076933453\n",
      "40\n",
      "K : 12\n",
      "[0 -400 -100 -1200 -2000]\n"
     ]
    },
    {
     "name": "stderr",
     "output_type": "stream",
     "text": [
      "\u001b[36m\u001b[1m[ \u001b[22m\u001b[39m\u001b[36m\u001b[1mInfo: \u001b[22m\u001b[39m         706.7816723s: 11 minutes, 46 seconds, 781 milliseconds\n",
      "\u001b[36m\u001b[1m[ \u001b[22m\u001b[39m\u001b[36m\u001b[1mInfo: \u001b[22m\u001b[39m started timer at: 2024-03-19T17:55:12.220\n"
     ]
    },
    {
     "name": "stdout",
     "output_type": "stream",
     "text": [
      "false\n",
      "40\n",
      "k : 12\n",
      "1\n",
      "-48548.00197718557\n",
      "2763.1099702758393\n",
      "40\n",
      "K : 12\n",
      "[0 -600 -100 -1200 -2000]\n"
     ]
    },
    {
     "name": "stderr",
     "output_type": "stream",
     "text": [
      "\u001b[36m\u001b[1m[ \u001b[22m\u001b[39m\u001b[36m\u001b[1mInfo: \u001b[22m\u001b[39m         705.5246608s: 11 minutes, 45 seconds, 524 milliseconds\n",
      "\u001b[36m\u001b[1m[ \u001b[22m\u001b[39m\u001b[36m\u001b[1mInfo: \u001b[22m\u001b[39m started timer at: 2024-03-19T18:06:57.758\n"
     ]
    },
    {
     "name": "stdout",
     "output_type": "stream",
     "text": [
      "false\n",
      "40\n",
      "k : 12\n",
      "1\n",
      "-51942.85621325455\n",
      "2788.84346787729\n",
      "40\n",
      "K : 12\n",
      "[0 -800 -100 -1200 -2000]\n"
     ]
    },
    {
     "name": "stderr",
     "output_type": "stream",
     "text": [
      "\u001b[36m\u001b[1m[ \u001b[22m\u001b[39m\u001b[36m\u001b[1mInfo: \u001b[22m\u001b[39m         705.1713161s: 11 minutes, 45 seconds, 171 milliseconds\n",
      "\u001b[36m\u001b[1m[ \u001b[22m\u001b[39m\u001b[36m\u001b[1mInfo: \u001b[22m\u001b[39m started timer at: 2024-03-19T18:18:42.953\n"
     ]
    },
    {
     "name": "stdout",
     "output_type": "stream",
     "text": [
      "false\n",
      "40\n",
      "k : 12\n",
      "1\n",
      "-54758.08229811514\n",
      "2976.316705044998\n",
      "40\n",
      "K : 12\n",
      "[0 -1000 -100 -1200 -2000]\n"
     ]
    },
    {
     "name": "stderr",
     "output_type": "stream",
     "text": [
      "\u001b[36m\u001b[1m[ \u001b[22m\u001b[39m\u001b[36m\u001b[1mInfo: \u001b[22m\u001b[39m         707.0810988s: 11 minutes, 47 seconds, 81 milliseconds\n",
      "\u001b[36m\u001b[1m[ \u001b[22m\u001b[39m\u001b[36m\u001b[1mInfo: \u001b[22m\u001b[39m started timer at: 2024-03-19T18:30:30.048\n"
     ]
    },
    {
     "name": "stdout",
     "output_type": "stream",
     "text": [
      "false\n",
      "40\n",
      "k : 12\n",
      "1\n",
      "-57139.287433484795\n",
      "3153.1910868460764\n",
      "40\n",
      "K : 12\n",
      "[0 -1200 -100 -1200 -2000]\n"
     ]
    },
    {
     "name": "stderr",
     "output_type": "stream",
     "text": [
      "\u001b[36m\u001b[1m[ \u001b[22m\u001b[39m\u001b[36m\u001b[1mInfo: \u001b[22m\u001b[39m         705.5237652s: 11 minutes, 45 seconds, 523 milliseconds\n",
      "\u001b[36m\u001b[1m[ \u001b[22m\u001b[39m\u001b[36m\u001b[1mInfo: \u001b[22m\u001b[39m started timer at: 2024-03-19T18:42:15.585\n"
     ]
    },
    {
     "name": "stdout",
     "output_type": "stream",
     "text": [
      "false\n",
      "40\n",
      "k : 12\n",
      "1\n",
      "-59190.590572869965\n",
      "3251.140843556817\n",
      "40\n",
      "K : 12\n",
      "[0 -1400 -100 -1200 -2000]\n"
     ]
    },
    {
     "name": "stderr",
     "output_type": "stream",
     "text": [
      "\u001b[36m\u001b[1m[ \u001b[22m\u001b[39m\u001b[36m\u001b[1mInfo: \u001b[22m\u001b[39m         704.9943111s: 11 minutes, 44 seconds, 994 milliseconds\n",
      "\u001b[36m\u001b[1m[ \u001b[22m\u001b[39m\u001b[36m\u001b[1mInfo: \u001b[22m\u001b[39m started timer at: 2024-03-19T18:54:00.593\n"
     ]
    },
    {
     "name": "stdout",
     "output_type": "stream",
     "text": [
      "false\n",
      "40\n",
      "k : 12\n",
      "1\n",
      "-61071.11419663304\n",
      "3285.9326720469826\n",
      "40\n",
      "K : 12\n",
      "[0 -1600 -100 -1200 -2000]\n"
     ]
    },
    {
     "name": "stderr",
     "output_type": "stream",
     "text": [
      "\u001b[36m\u001b[1m[ \u001b[22m\u001b[39m\u001b[36m\u001b[1mInfo: \u001b[22m\u001b[39m         707.7164955s: 11 minutes, 47 seconds, 716 milliseconds\n",
      "\u001b[36m\u001b[1m[ \u001b[22m\u001b[39m\u001b[36m\u001b[1mInfo: \u001b[22m\u001b[39m started timer at: 2024-03-19T19:05:48.334\n"
     ]
    },
    {
     "name": "stdout",
     "output_type": "stream",
     "text": [
      "false\n",
      "40\n",
      "k : 12\n",
      "1\n",
      "-62886.868725323584\n",
      "3360.406085376033\n",
      "40\n",
      "K : 12\n",
      "[0 -1800 -100 -1200 -2000]\n"
     ]
    },
    {
     "name": "stderr",
     "output_type": "stream",
     "text": [
      "\u001b[36m\u001b[1m[ \u001b[22m\u001b[39m\u001b[36m\u001b[1mInfo: \u001b[22m\u001b[39m         708.3020816s: 11 minutes, 48 seconds, 302 milliseconds\n",
      "\u001b[36m\u001b[1m[ \u001b[22m\u001b[39m\u001b[36m\u001b[1mInfo: \u001b[22m\u001b[39m started timer at: 2024-03-19T19:17:36.649\n"
     ]
    },
    {
     "name": "stdout",
     "output_type": "stream",
     "text": [
      "false\n",
      "40\n",
      "k : 12\n",
      "1\n",
      "-64603.44658449335\n",
      "3467.923516620332\n",
      "40\n",
      "K : 12\n",
      "[0 -2000 -100 -1200 -2000]\n"
     ]
    },
    {
     "name": "stderr",
     "output_type": "stream",
     "text": [
      "\u001b[36m\u001b[1m[ \u001b[22m\u001b[39m\u001b[36m\u001b[1mInfo: \u001b[22m\u001b[39m          705.716957s: 11 minutes, 45 seconds, 716 milliseconds\n",
      "\u001b[36m\u001b[1m[ \u001b[22m\u001b[39m\u001b[36m\u001b[1mInfo: \u001b[22m\u001b[39m started timer at: 2024-03-19T19:29:22.379\n"
     ]
    },
    {
     "name": "stdout",
     "output_type": "stream",
     "text": [
      "false\n",
      "40\n",
      "k : 12\n",
      "1\n",
      "-66248.16143768864\n",
      "3466.8074966589547\n",
      "40\n",
      "K : 12\n",
      "[0 -2400 -100 -1200 -2000]\n"
     ]
    },
    {
     "name": "stderr",
     "output_type": "stream",
     "text": [
      "\u001b[36m\u001b[1m[ \u001b[22m\u001b[39m\u001b[36m\u001b[1mInfo: \u001b[22m\u001b[39m         706.2285318s: 11 minutes, 46 seconds, 228 milliseconds\n",
      "\u001b[36m\u001b[1m[ \u001b[22m\u001b[39m\u001b[36m\u001b[1mInfo: \u001b[22m\u001b[39m started timer at: 2024-03-19T19:41:08.621\n"
     ]
    },
    {
     "name": "stdout",
     "output_type": "stream",
     "text": [
      "false\n",
      "40\n",
      "k : 12\n",
      "1\n",
      "-69105.83832161673\n",
      "3631.7551047262386\n"
     ]
    },
    {
     "name": "stderr",
     "output_type": "stream",
     "text": [
      "\u001b[36m\u001b[1m[ \u001b[22m\u001b[39m\u001b[36m\u001b[1mInfo: \u001b[22m\u001b[39m          710.757402s: 11 minutes, 50 seconds, 757 milliseconds\n",
      "\u001b[36m\u001b[1m[ \u001b[22m\u001b[39m\u001b[36m\u001b[1mInfo: \u001b[22m\u001b[39m started timer at: 2024-03-19T19:52:59.404\n"
     ]
    },
    {
     "name": "stdout",
     "output_type": "stream",
     "text": [
      "40\n",
      "K : 12\n",
      "[0 -2800 -100 -1200 -2000]\n",
      "false\n",
      "40\n",
      "k : 12\n",
      "1\n",
      "-71760.19137507387\n",
      "3679.874935325613\n",
      "40\n",
      "K : 12\n",
      "[0 -3200 -100 -1200 -2000]\n"
     ]
    },
    {
     "name": "stderr",
     "output_type": "stream",
     "text": [
      "\u001b[36m\u001b[1m[ \u001b[22m\u001b[39m\u001b[36m\u001b[1mInfo: \u001b[22m\u001b[39m          704.665791s: 11 minutes, 44 seconds, 665 milliseconds\n",
      "\u001b[36m\u001b[1m[ \u001b[22m\u001b[39m\u001b[36m\u001b[1mInfo: \u001b[22m\u001b[39m started timer at: 2024-03-19T20:04:44.083\n"
     ]
    },
    {
     "name": "stdout",
     "output_type": "stream",
     "text": [
      "false\n",
      "40\n",
      "k : 12\n",
      "1\n",
      "-74171.43811714138\n",
      "3693.9997353033987\n",
      "-------------------------\n",
      "40\n",
      "K : 14\n",
      "[0 -200 -100 -1200 -2000]\n"
     ]
    },
    {
     "name": "stderr",
     "output_type": "stream",
     "text": [
      "\u001b[36m\u001b[1m[ \u001b[22m\u001b[39m\u001b[36m\u001b[1mInfo: \u001b[22m\u001b[39m         703.7527593s: 11 minutes, 43 seconds, 752 milliseconds\n",
      "\u001b[36m\u001b[1m[ \u001b[22m\u001b[39m\u001b[36m\u001b[1mInfo: \u001b[22m\u001b[39m started timer at: 2024-03-19T20:16:27.860\n"
     ]
    },
    {
     "name": "stdout",
     "output_type": "stream",
     "text": [
      "false\n",
      "40\n",
      "k : 14\n",
      "1\n",
      "-44891.622611085295\n",
      "2718.1712080328143\n",
      "40\n",
      "K : 14\n",
      "[0 -400 -100 -1200 -2000]\n"
     ]
    },
    {
     "name": "stderr",
     "output_type": "stream",
     "text": [
      "\u001b[36m\u001b[1m[ \u001b[22m\u001b[39m\u001b[36m\u001b[1mInfo: \u001b[22m\u001b[39m         704.7911395s: 11 minutes, 44 seconds, 791 milliseconds\n",
      "\u001b[36m\u001b[1m[ \u001b[22m\u001b[39m\u001b[36m\u001b[1mInfo: \u001b[22m\u001b[39m started timer at: 2024-03-19T20:28:12.665\n"
     ]
    },
    {
     "name": "stdout",
     "output_type": "stream",
     "text": [
      "false\n",
      "40\n",
      "k : 14\n",
      "1\n",
      "-48539.41882656229\n",
      "2718.880154098602\n",
      "40\n",
      "K : 14\n",
      "[0 -600 -100 -1200 -2000]\n"
     ]
    },
    {
     "name": "stderr",
     "output_type": "stream",
     "text": [
      "\u001b[36m\u001b[1m[ \u001b[22m\u001b[39m\u001b[36m\u001b[1mInfo: \u001b[22m\u001b[39m         705.3740816s: 11 minutes, 45 seconds, 374 milliseconds\n",
      "\u001b[36m\u001b[1m[ \u001b[22m\u001b[39m\u001b[36m\u001b[1mInfo: \u001b[22m\u001b[39m started timer at: 2024-03-19T20:39:58.052\n"
     ]
    },
    {
     "name": "stdout",
     "output_type": "stream",
     "text": [
      "false\n",
      "40\n",
      "k : 14\n",
      "1\n",
      "-51926.4548603804\n",
      "2822.760351866596\n",
      "40\n",
      "K : 14\n",
      "[0 -800 -100 -1200 -2000]\n"
     ]
    },
    {
     "name": "stderr",
     "output_type": "stream",
     "text": [
      "\u001b[36m\u001b[1m[ \u001b[22m\u001b[39m\u001b[36m\u001b[1mInfo: \u001b[22m\u001b[39m         708.0019051s: 11 minutes, 48 seconds, 1 millisecond\n",
      "\u001b[36m\u001b[1m[ \u001b[22m\u001b[39m\u001b[36m\u001b[1mInfo: \u001b[22m\u001b[39m started timer at: 2024-03-19T20:51:46.067\n"
     ]
    },
    {
     "name": "stdout",
     "output_type": "stream",
     "text": [
      "false\n",
      "40\n",
      "k : 14\n",
      "1\n",
      "-54715.8801843569\n",
      "2955.6900774488895\n"
     ]
    },
    {
     "name": "stderr",
     "output_type": "stream",
     "text": [
      "\u001b[36m\u001b[1m[ \u001b[22m\u001b[39m\u001b[36m\u001b[1mInfo: \u001b[22m\u001b[39m         705.9434035s: 11 minutes, 45 seconds, 943 milliseconds\n",
      "\u001b[36m\u001b[1m[ \u001b[22m\u001b[39m\u001b[36m\u001b[1mInfo: \u001b[22m\u001b[39m started timer at: 2024-03-19T21:03:32.025\n"
     ]
    },
    {
     "name": "stdout",
     "output_type": "stream",
     "text": [
      "40\n",
      "K : 14\n",
      "[0 -1000 -100 -1200 -2000]\n",
      "false\n",
      "40\n",
      "k : 14\n",
      "1\n",
      "-57027.42186406268\n",
      "3116.039851530764\n",
      "40\n",
      "K : 14\n",
      "[0 -1200 -100 -1200 -2000]\n"
     ]
    },
    {
     "name": "stderr",
     "output_type": "stream",
     "text": [
      "\u001b[36m\u001b[1m[ \u001b[22m\u001b[39m\u001b[36m\u001b[1mInfo: \u001b[22m\u001b[39m         703.7496893s: 11 minutes, 43 seconds, 749 milliseconds\n",
      "\u001b[36m\u001b[1m[ \u001b[22m\u001b[39m\u001b[36m\u001b[1mInfo: \u001b[22m\u001b[39m started timer at: 2024-03-19T21:15:15.787\n"
     ]
    },
    {
     "name": "stdout",
     "output_type": "stream",
     "text": [
      "false\n",
      "40\n",
      "k : 14\n",
      "1\n",
      "-59094.32862287517\n",
      "3231.1064438279423\n",
      "40\n",
      "K : 14\n",
      "[0 -1400 -100 -1200 -2000]\n"
     ]
    },
    {
     "name": "stderr",
     "output_type": "stream",
     "text": [
      "\u001b[36m\u001b[1m[ \u001b[22m\u001b[39m\u001b[36m\u001b[1mInfo: \u001b[22m\u001b[39m          704.687867s: 11 minutes, 44 seconds, 687 milliseconds\n",
      "\u001b[36m\u001b[1m[ \u001b[22m\u001b[39m\u001b[36m\u001b[1mInfo: \u001b[22m\u001b[39m started timer at: 2024-03-19T21:27:00.489\n"
     ]
    },
    {
     "name": "stdout",
     "output_type": "stream",
     "text": [
      "false\n",
      "40\n",
      "k : 14\n",
      "1\n",
      "-60958.00433485007\n",
      "3337.143504166115\n",
      "40\n",
      "K : 14\n",
      "[0 -1600 -100 -1200 -2000]\n"
     ]
    },
    {
     "name": "stderr",
     "output_type": "stream",
     "text": [
      "\u001b[36m\u001b[1m[ \u001b[22m\u001b[39m\u001b[36m\u001b[1mInfo: \u001b[22m\u001b[39m         706.2774786s: 11 minutes, 46 seconds, 277 milliseconds\n",
      "\u001b[36m\u001b[1m[ \u001b[22m\u001b[39m\u001b[36m\u001b[1mInfo: \u001b[22m\u001b[39m started timer at: 2024-03-19T21:38:46.791\n"
     ]
    },
    {
     "name": "stdout",
     "output_type": "stream",
     "text": [
      "false\n",
      "40\n",
      "k : 14\n",
      "1\n",
      "-62688.87756448166\n",
      "3422.521654089796\n",
      "40\n",
      "K : 14\n",
      "[0 -1800 -100 -1200 -2000]\n"
     ]
    },
    {
     "name": "stderr",
     "output_type": "stream",
     "text": [
      "\u001b[36m\u001b[1m[ \u001b[22m\u001b[39m\u001b[36m\u001b[1mInfo: \u001b[22m\u001b[39m         705.6533243s: 11 minutes, 45 seconds, 653 milliseconds\n",
      "\u001b[36m\u001b[1m[ \u001b[22m\u001b[39m\u001b[36m\u001b[1mInfo: \u001b[22m\u001b[39m started timer at: 2024-03-19T21:50:32.457\n"
     ]
    },
    {
     "name": "stdout",
     "output_type": "stream",
     "text": [
      "false\n",
      "40\n",
      "k : 14\n",
      "1\n",
      "-64423.575309299085\n",
      "3428.7400236381172\n",
      "40\n",
      "K : 14\n",
      "[0 -2000 -100 -1200 -2000]\n"
     ]
    },
    {
     "name": "stderr",
     "output_type": "stream",
     "text": [
      "\u001b[36m\u001b[1m[ \u001b[22m\u001b[39m\u001b[36m\u001b[1mInfo: \u001b[22m\u001b[39m         705.0556073s: 11 minutes, 45 seconds, 55 milliseconds\n",
      "\u001b[36m\u001b[1m[ \u001b[22m\u001b[39m\u001b[36m\u001b[1mInfo: \u001b[22m\u001b[39m started timer at: 2024-03-19T22:02:17.526\n"
     ]
    },
    {
     "name": "stdout",
     "output_type": "stream",
     "text": [
      "false\n",
      "40\n",
      "k : 14\n",
      "1\n",
      "-65915.46401732038\n",
      "3472.0349430176448\n",
      "40\n",
      "K : 14\n",
      "[0 -2400 -100 -1200 -2000]\n"
     ]
    },
    {
     "name": "stderr",
     "output_type": "stream",
     "text": [
      "\u001b[36m\u001b[1m[ \u001b[22m\u001b[39m\u001b[36m\u001b[1mInfo: \u001b[22m\u001b[39m         706.5789933s: 11 minutes, 46 seconds, 578 milliseconds\n",
      "\u001b[36m\u001b[1m[ \u001b[22m\u001b[39m\u001b[36m\u001b[1mInfo: \u001b[22m\u001b[39m started timer at: 2024-03-19T22:14:04.119\n"
     ]
    },
    {
     "name": "stdout",
     "output_type": "stream",
     "text": [
      "false\n",
      "40\n",
      "k : 14\n",
      "1\n",
      "-68665.51656634155\n",
      "3553.40539296164\n",
      "40\n",
      "K : 14\n",
      "[0 -2800 -100 -1200 -2000]\n"
     ]
    },
    {
     "name": "stderr",
     "output_type": "stream",
     "text": [
      "\u001b[36m\u001b[1m[ \u001b[22m\u001b[39m\u001b[36m\u001b[1mInfo: \u001b[22m\u001b[39m         708.2575629s: 11 minutes, 48 seconds, 257 milliseconds\n",
      "\u001b[36m\u001b[1m[ \u001b[22m\u001b[39m\u001b[36m\u001b[1mInfo: \u001b[22m\u001b[39m started timer at: 2024-03-19T22:25:52.390\n"
     ]
    },
    {
     "name": "stdout",
     "output_type": "stream",
     "text": [
      "false\n",
      "40\n",
      "k : 14\n",
      "1\n",
      "-71146.08732761937\n",
      "3636.4815004676225\n",
      "40\n",
      "K : 14\n",
      "[0 -3200 -100 -1200 -2000]\n"
     ]
    },
    {
     "name": "stderr",
     "output_type": "stream",
     "text": [
      "\u001b[36m\u001b[1m[ \u001b[22m\u001b[39m\u001b[36m\u001b[1mInfo: \u001b[22m\u001b[39m         709.2815655s: 11 minutes, 49 seconds, 281 milliseconds\n",
      "\u001b[36m\u001b[1m[ \u001b[22m\u001b[39m\u001b[36m\u001b[1mInfo: \u001b[22m\u001b[39m started timer at: 2024-03-19T22:37:41.685\n"
     ]
    },
    {
     "name": "stdout",
     "output_type": "stream",
     "text": [
      "false\n",
      "40\n",
      "k : 14\n",
      "1\n",
      "-73508.83099565754\n",
      "3829.1192065669393\n",
      "-------------------------\n",
      "40\n",
      "K : 16\n",
      "[0 -200 -100 "
     ]
    },
    {
     "name": "stderr",
     "output_type": "stream",
     "text": [
      "\u001b[36m\u001b[1m[ \u001b[22m\u001b[39m\u001b[36m\u001b[1mInfo: \u001b[22m\u001b[39m         706.7047983s: 11 minutes, 46 seconds, 704 milliseconds\n",
      "\u001b[36m\u001b[1m[ \u001b[22m\u001b[39m\u001b[36m\u001b[1mInfo: \u001b[22m\u001b[39m started timer at: 2024-03-19T22:49:28.414\n"
     ]
    },
    {
     "name": "stdout",
     "output_type": "stream",
     "text": [
      "-1200 -2000]\n",
      "false\n",
      "40\n",
      "k : 16\n",
      "1\n",
      "-44816.35276575381\n",
      "2699.1442309477893\n",
      "40\n",
      "K : 16\n",
      "[0 -400 -100 -1200 -2000]\n"
     ]
    },
    {
     "name": "stderr",
     "output_type": "stream",
     "text": [
      "\u001b[36m\u001b[1m[ \u001b[22m\u001b[39m\u001b[36m\u001b[1mInfo: \u001b[22m\u001b[39m          704.989113s: 11 minutes, 44 seconds, 989 milliseconds\n",
      "\u001b[36m\u001b[1m[ \u001b[22m\u001b[39m\u001b[36m\u001b[1mInfo: \u001b[22m\u001b[39m started timer at: 2024-03-19T23:01:13.427\n"
     ]
    },
    {
     "name": "stdout",
     "output_type": "stream",
     "text": [
      "false\n",
      "40\n",
      "k : 16\n",
      "1\n",
      "-48508.788555092455\n",
      "2719.2071033612783\n",
      "40\n",
      "K : 16\n",
      "[0 -600 -100 -1200 -2000]\n"
     ]
    },
    {
     "name": "stderr",
     "output_type": "stream",
     "text": [
      "\u001b[36m\u001b[1m[ \u001b[22m\u001b[39m\u001b[36m\u001b[1mInfo: \u001b[22m\u001b[39m         705.7533061s: 11 minutes, 45 seconds, 753 milliseconds\n",
      "\u001b[36m\u001b[1m[ \u001b[22m\u001b[39m\u001b[36m\u001b[1mInfo: \u001b[22m\u001b[39m started timer at: 2024-03-19T23:12:59.194\n"
     ]
    },
    {
     "name": "stdout",
     "output_type": "stream",
     "text": [
      "false\n",
      "40\n",
      "k : 16\n",
      "1\n",
      "-51795.47751515881\n",
      "2800.9662744605002\n",
      "40\n",
      "K : 16\n",
      "[0 -800 -100 -1200 -2000]\n"
     ]
    },
    {
     "name": "stderr",
     "output_type": "stream",
     "text": [
      "\u001b[36m\u001b[1m[ \u001b[22m\u001b[39m\u001b[36m\u001b[1mInfo: \u001b[22m\u001b[39m         706.6131886s: 11 minutes, 46 seconds, 613 milliseconds\n",
      "\u001b[36m\u001b[1m[ \u001b[22m\u001b[39m\u001b[36m\u001b[1mInfo: \u001b[22m\u001b[39m started timer at: 2024-03-19T23:24:45.821\n"
     ]
    },
    {
     "name": "stdout",
     "output_type": "stream",
     "text": [
      "false\n",
      "40\n",
      "k : 16\n",
      "1\n",
      "-54545.75021969331\n",
      "2988.3119806202935\n",
      "40\n",
      "K : 16\n",
      "[0 -1000 -100 -1200 -2000]\n"
     ]
    },
    {
     "name": "stderr",
     "output_type": "stream",
     "text": [
      "\u001b[36m\u001b[1m[ \u001b[22m\u001b[39m\u001b[36m\u001b[1mInfo: \u001b[22m\u001b[39m         707.1219883s: 11 minutes, 47 seconds, 121 milliseconds\n",
      "\u001b[36m\u001b[1m[ \u001b[22m\u001b[39m\u001b[36m\u001b[1mInfo: \u001b[22m\u001b[39m started timer at: 2024-03-19T23:36:32.966\n"
     ]
    },
    {
     "name": "stdout",
     "output_type": "stream",
     "text": [
      "false\n",
      "40\n",
      "k : 16\n",
      "1\n",
      "-56852.08189215425\n",
      "3170.414184771381\n",
      "40\n",
      "K : 16\n",
      "[0 -1200 -100 -1200 -2000]\n"
     ]
    },
    {
     "name": "stderr",
     "output_type": "stream",
     "text": [
      "\u001b[36m\u001b[1m[ \u001b[22m\u001b[39m\u001b[36m\u001b[1mInfo: \u001b[22m\u001b[39m         705.7458988s: 11 minutes, 45 seconds, 745 milliseconds\n",
      "\u001b[36m\u001b[1m[ \u001b[22m\u001b[39m\u001b[36m\u001b[1mInfo: \u001b[22m\u001b[39m started timer at: 2024-03-19T23:48:18.736\n"
     ]
    },
    {
     "name": "stdout",
     "output_type": "stream",
     "text": [
      "false\n",
      "40\n",
      "k : 16\n",
      "1\n",
      "-58888.388234097445\n",
      "3313.397351931647\n",
      "40\n",
      "K : 16\n",
      "[0 -1400 -100 -1200 -2000]\n"
     ]
    },
    {
     "name": "stderr",
     "output_type": "stream",
     "text": [
      "\u001b[36m\u001b[1m[ \u001b[22m\u001b[39m\u001b[36m\u001b[1mInfo: \u001b[22m\u001b[39m         704.6368452s: 11 minutes, 44 seconds, 636 milliseconds\n",
      "\u001b[36m\u001b[1m[ \u001b[22m\u001b[39m\u001b[36m\u001b[1mInfo: \u001b[22m\u001b[39m started timer at: 2024-03-20T00:00:03.385\n"
     ]
    },
    {
     "name": "stdout",
     "output_type": "stream",
     "text": [
      "false\n",
      "40\n",
      "k : 16\n",
      "1\n",
      "-60721.32328836362\n",
      "3337.4743346917703\n",
      "40\n",
      "K : 16\n",
      "[0 -1600 -100 -1200 -2000]\n"
     ]
    },
    {
     "name": "stderr",
     "output_type": "stream",
     "text": [
      "\u001b[36m\u001b[1m[ \u001b[22m\u001b[39m\u001b[36m\u001b[1mInfo: \u001b[22m\u001b[39m         705.8350862s: 11 minutes, 45 seconds, 835 milliseconds\n",
      "\u001b[36m\u001b[1m[ \u001b[22m\u001b[39m\u001b[36m\u001b[1mInfo: \u001b[22m\u001b[39m started timer at: 2024-03-20T00:11:49.245\n"
     ]
    },
    {
     "name": "stdout",
     "output_type": "stream",
     "text": [
      "false\n",
      "40\n",
      "k : 16\n",
      "1\n",
      "-62370.58233744024\n",
      "3433.004626142078\n",
      "40\n",
      "K : 16\n",
      "[0 -1800 -100 -1200 -2000]\n"
     ]
    },
    {
     "name": "stderr",
     "output_type": "stream",
     "text": [
      "\u001b[36m\u001b[1m[ \u001b[22m\u001b[39m\u001b[36m\u001b[1mInfo: \u001b[22m\u001b[39m         705.1898519s: 11 minutes, 45 seconds, 189 milliseconds\n",
      "\u001b[36m\u001b[1m[ \u001b[22m\u001b[39m\u001b[36m\u001b[1mInfo: \u001b[22m\u001b[39m started timer at: 2024-03-20T00:23:34.460\n"
     ]
    },
    {
     "name": "stdout",
     "output_type": "stream",
     "text": [
      "false\n",
      "40\n",
      "k : 16\n",
      "1\n",
      "-63826.57344011931\n",
      "3487.2039961623364\n",
      "40\n",
      "K : 16\n",
      "[0 -2000 -100 -1200 -2000]\n"
     ]
    },
    {
     "name": "stderr",
     "output_type": "stream",
     "text": [
      "\u001b[36m\u001b[1m[ \u001b[22m\u001b[39m\u001b[36m\u001b[1mInfo: \u001b[22m\u001b[39m         706.6899424s: 11 minutes, 46 seconds, 689 milliseconds\n",
      "\u001b[36m\u001b[1m[ \u001b[22m\u001b[39m\u001b[36m\u001b[1mInfo: \u001b[22m\u001b[39m started timer at: 2024-03-20T00:35:21.163\n"
     ]
    },
    {
     "name": "stdout",
     "output_type": "stream",
     "text": [
      "false\n",
      "40\n",
      "k : 16\n",
      "1\n",
      "-65267.7704180949\n",
      "3673.39582370361\n",
      "40\n",
      "K : 16\n",
      "[0 -2400 -100 -1200 -2000]\n"
     ]
    },
    {
     "name": "stderr",
     "output_type": "stream",
     "text": [
      "\u001b[36m\u001b[1m[ \u001b[22m\u001b[39m\u001b[36m\u001b[1mInfo: \u001b[22m\u001b[39m         705.2100955s: 11 minutes, 45 seconds, 210 milliseconds\n",
      "\u001b[36m\u001b[1m[ \u001b[22m\u001b[39m\u001b[36m\u001b[1mInfo: \u001b[22m\u001b[39m started timer at: 2024-03-20T00:47:06.387\n"
     ]
    },
    {
     "name": "stdout",
     "output_type": "stream",
     "text": [
      "false\n",
      "40\n",
      "k : 16\n",
      "1\n",
      "-68859.90541410053\n",
      "3964.9517107305824\n",
      "40\n",
      "K : 16\n",
      "[0 -2800 -100 -1200 -2000]\n"
     ]
    },
    {
     "name": "stderr",
     "output_type": "stream",
     "text": [
      "\u001b[36m\u001b[1m[ \u001b[22m\u001b[39m\u001b[36m\u001b[1mInfo: \u001b[22m\u001b[39m         705.7336172s: 11 minutes, 45 seconds, 733 milliseconds\n",
      "\u001b[36m\u001b[1m[ \u001b[22m\u001b[39m\u001b[36m\u001b[1mInfo: \u001b[22m\u001b[39m started timer at: 2024-03-20T00:58:52.134\n"
     ]
    },
    {
     "name": "stdout",
     "output_type": "stream",
     "text": [
      "false\n",
      "40\n",
      "k : 16\n",
      "1\n",
      "-73423.48685233452\n",
      "4423.505875272753\n",
      "40\n",
      "K : 16\n",
      "[0 -3200 -100 -1200 -2000]\n"
     ]
    },
    {
     "name": "stderr",
     "output_type": "stream",
     "text": [
      "\u001b[36m\u001b[1m[ \u001b[22m\u001b[39m\u001b[36m\u001b[1mInfo: \u001b[22m\u001b[39m         703.1661245s: 11 minutes, 43 seconds, 166 milliseconds\n",
      "\u001b[36m\u001b[1m[ \u001b[22m\u001b[39m\u001b[36m\u001b[1mInfo: \u001b[22m\u001b[39m started timer at: 2024-03-20T01:10:35.313\n"
     ]
    },
    {
     "name": "stdout",
     "output_type": "stream",
     "text": [
      "false\n",
      "40\n",
      "k : 16\n",
      "1\n",
      "-77797.05038950064\n",
      "4690.684506848835\n",
      "-------------------------\n",
      "40\n",
      "K : 18\n",
      "[0 -200 -100 -1200 -2000]\n"
     ]
    },
    {
     "name": "stderr",
     "output_type": "stream",
     "text": [
      "\u001b[36m\u001b[1m[ \u001b[22m\u001b[39m\u001b[36m\u001b[1mInfo: \u001b[22m\u001b[39m         705.7757635s: 11 minutes, 45 seconds, 775 milliseconds\n",
      "\u001b[36m\u001b[1m[ \u001b[22m\u001b[39m\u001b[36m\u001b[1mInfo: \u001b[22m\u001b[39m started timer at: 2024-03-20T01:22:21.102\n"
     ]
    },
    {
     "name": "stdout",
     "output_type": "stream",
     "text": [
      "false\n",
      "40\n",
      "k : 18\n",
      "1\n",
      "-44893.78293431498\n",
      "2832.7940627647067\n",
      "40\n",
      "K : 18\n",
      "[0 -400 -100 -1200 -2000]\n"
     ]
    },
    {
     "name": "stderr",
     "output_type": "stream",
     "text": [
      "\u001b[36m\u001b[1m[ \u001b[22m\u001b[39m\u001b[36m\u001b[1mInfo: \u001b[22m\u001b[39m         707.1208012s: 11 minutes, 47 seconds, 120 milliseconds\n",
      "\u001b[36m\u001b[1m[ \u001b[22m\u001b[39m\u001b[36m\u001b[1mInfo: \u001b[22m\u001b[39m started timer at: 2024-03-20T01:34:08.238\n"
     ]
    },
    {
     "name": "stdout",
     "output_type": "stream",
     "text": [
      "false\n",
      "40\n",
      "k : 18\n",
      "1\n",
      "-48578.01532582601\n",
      "2885.2964384629863\n",
      "40\n",
      "K : 18\n",
      "[0 -600 -100 -1200 -2000]\n"
     ]
    },
    {
     "name": "stderr",
     "output_type": "stream",
     "text": [
      "\u001b[36m\u001b[1m[ \u001b[22m\u001b[39m\u001b[36m\u001b[1mInfo: \u001b[22m\u001b[39m         709.1864557s: 11 minutes, 49 seconds, 186 milliseconds\n",
      "\u001b[36m\u001b[1m[ \u001b[22m\u001b[39m\u001b[36m\u001b[1mInfo: \u001b[22m\u001b[39m started timer at: 2024-03-20T01:45:57.437\n"
     ]
    },
    {
     "name": "stdout",
     "output_type": "stream",
     "text": [
      "false\n",
      "40\n",
      "k : 18\n",
      "1\n",
      "-51739.238136441985\n",
      "3065.1171165065193\n",
      "40\n",
      "K : 18\n",
      "[0 -800 -100 -1200 -2000]\n"
     ]
    },
    {
     "name": "stderr",
     "output_type": "stream",
     "text": [
      "\u001b[36m\u001b[1m[ \u001b[22m\u001b[39m\u001b[36m\u001b[1mInfo: \u001b[22m\u001b[39m         703.6697933s: 11 minutes, 43 seconds, 669 milliseconds\n",
      "\u001b[36m\u001b[1m[ \u001b[22m\u001b[39m\u001b[36m\u001b[1mInfo: \u001b[22m\u001b[39m started timer at: 2024-03-20T01:57:41.120\n"
     ]
    },
    {
     "name": "stdout",
     "output_type": "stream",
     "text": [
      "false\n",
      "40\n",
      "k : 18\n",
      "1\n",
      "-54592.3361637697\n",
      "3343.387411743497\n",
      "40\n",
      "K : 18\n",
      "[0 -1000 -100 -1200 -2000]\n"
     ]
    },
    {
     "name": "stderr",
     "output_type": "stream",
     "text": [
      "\u001b[36m\u001b[1m[ \u001b[22m\u001b[39m\u001b[36m\u001b[1mInfo: \u001b[22m\u001b[39m         703.4530765s: 11 minutes, 43 seconds, 453 milliseconds\n",
      "\u001b[36m\u001b[1m[ \u001b[22m\u001b[39m\u001b[36m\u001b[1mInfo: \u001b[22m\u001b[39m started timer at: 2024-03-20T02:09:24.587\n"
     ]
    },
    {
     "name": "stdout",
     "output_type": "stream",
     "text": [
      "false\n",
      "40\n",
      "k : 18\n",
      "1\n",
      "-57288.51787446662\n",
      "3688.2591868697805\n"
     ]
    },
    {
     "name": "stderr",
     "output_type": "stream",
     "text": [
      "\u001b[36m\u001b[1m[ \u001b[22m\u001b[39m\u001b[36m\u001b[1mInfo: \u001b[22m\u001b[39m         705.1662021s: 11 minutes, 45 seconds, 166 milliseconds\n",
      "\u001b[36m\u001b[1m[ \u001b[22m\u001b[39m\u001b[36m\u001b[1mInfo: \u001b[22m\u001b[39m started timer at: 2024-03-20T02:21:09.767\n"
     ]
    },
    {
     "name": "stdout",
     "output_type": "stream",
     "text": [
      "40\n",
      "K : 18\n",
      "[0 -1200 -100 -1200 -2000]\n",
      "false\n",
      "40\n",
      "k : 18\n",
      "1\n",
      "-60267.244904571846\n",
      "4026.867573245159\n",
      "40\n",
      "K : "
     ]
    },
    {
     "name": "stderr",
     "output_type": "stream",
     "text": [
      "\u001b[36m\u001b[1m[ \u001b[22m\u001b[39m\u001b[36m\u001b[1mInfo: \u001b[22m\u001b[39m         705.0222888s: 11 minutes, 45 seconds, 22 milliseconds\n",
      "\u001b[36m\u001b[1m[ \u001b[22m\u001b[39m\u001b[36m\u001b[1mInfo: \u001b[22m\u001b[39m started timer at: 2024-03-20T02:32:54.803\n"
     ]
    },
    {
     "name": "stdout",
     "output_type": "stream",
     "text": [
      "18\n",
      "[0 -1400 -100 -1200 -2000]\n",
      "false\n",
      "40\n",
      "k : 18\n",
      "1\n",
      "-63830.892332431344\n",
      "4353.489086438822\n",
      "40\n",
      "K : 18\n",
      "[0 -1600 -100 -1200 -2000]\n"
     ]
    },
    {
     "name": "stderr",
     "output_type": "stream",
     "text": [
      "\u001b[36m\u001b[1m[ \u001b[22m\u001b[39m\u001b[36m\u001b[1mInfo: \u001b[22m\u001b[39m         703.1570696s: 11 minutes, 43 seconds, 157 milliseconds\n",
      "\u001b[36m\u001b[1m[ \u001b[22m\u001b[39m\u001b[36m\u001b[1mInfo: \u001b[22m\u001b[39m started timer at: 2024-03-20T02:44:37.973\n"
     ]
    },
    {
     "name": "stdout",
     "output_type": "stream",
     "text": [
      "false\n",
      "40\n",
      "k : 18\n",
      "1\n",
      "-67517.37572999825\n",
      "4602.58359519661\n",
      "40\n",
      "K : 18\n",
      "[0 -1800 -100 -1200 -2000]\n"
     ]
    },
    {
     "name": "stderr",
     "output_type": "stream",
     "text": [
      "\u001b[36m\u001b[1m[ \u001b[22m\u001b[39m\u001b[36m\u001b[1mInfo: \u001b[22m\u001b[39m         706.1194667s: 11 minutes, 46 seconds, 119 milliseconds\n",
      "\u001b[36m\u001b[1m[ \u001b[22m\u001b[39m\u001b[36m\u001b[1mInfo: \u001b[22m\u001b[39m started timer at: 2024-03-20T02:56:24.106\n"
     ]
    },
    {
     "name": "stdout",
     "output_type": "stream",
     "text": [
      "false\n",
      "40\n",
      "k : 18\n",
      "1\n",
      "-70519.10309464537\n",
      "4737.526722845917\n",
      "40\n",
      "K : 18\n",
      "[0 -2000 -100 -1200 -2000]\n"
     ]
    },
    {
     "name": "stderr",
     "output_type": "stream",
     "text": [
      "\u001b[36m\u001b[1m[ \u001b[22m\u001b[39m\u001b[36m\u001b[1mInfo: \u001b[22m\u001b[39m          704.365931s: 11 minutes, 44 seconds, 365 milliseconds\n",
      "\u001b[36m\u001b[1m[ \u001b[22m\u001b[39m\u001b[36m\u001b[1mInfo: \u001b[22m\u001b[39m started timer at: 2024-03-20T03:08:08.496\n"
     ]
    },
    {
     "name": "stdout",
     "output_type": "stream",
     "text": [
      "false\n",
      "40\n",
      "k : 18\n",
      "1\n",
      "-73199.46879184854\n",
      "4706.483534476777\n",
      "40\n",
      "K : 18\n",
      "[0 -2400 -100 -1200 -2000]\n"
     ]
    },
    {
     "name": "stderr",
     "output_type": "stream",
     "text": [
      "\u001b[36m\u001b[1m[ \u001b[22m\u001b[39m\u001b[36m\u001b[1mInfo: \u001b[22m\u001b[39m         703.3445227s: 11 minutes, 43 seconds, 344 milliseconds\n",
      "\u001b[36m\u001b[1m[ \u001b[22m\u001b[39m\u001b[36m\u001b[1mInfo: \u001b[22m\u001b[39m started timer at: 2024-03-20T03:19:51.854\n"
     ]
    },
    {
     "name": "stdout",
     "output_type": "stream",
     "text": [
      "false\n",
      "40\n",
      "k : 18\n",
      "1\n",
      "-76539.81633973692\n",
      "4694.043220984603\n",
      "40\n",
      "K : 18\n",
      "[0 -2800"
     ]
    },
    {
     "name": "stderr",
     "output_type": "stream",
     "text": [
      "\u001b[36m\u001b[1m[ \u001b[22m\u001b[39m\u001b[36m\u001b[1mInfo: \u001b[22m\u001b[39m         704.3518969s: 11 minutes, 44 seconds, 351 milliseconds\n",
      "\u001b[36m\u001b[1m[ \u001b[22m\u001b[39m\u001b[36m\u001b[1mInfo: \u001b[22m\u001b[39m started timer at: 2024-03-20T03:31:36.219\n"
     ]
    },
    {
     "name": "stdout",
     "output_type": "stream",
     "text": [
      " -100 -1200 -2000]\n",
      "false\n",
      "40\n",
      "k : 18\n",
      "1\n",
      "-78616.95484934027\n",
      "4683.867120369625\n",
      "40\n",
      "K : 18\n",
      "[0 -3200 -100 -1200 -2000]\n"
     ]
    },
    {
     "name": "stderr",
     "output_type": "stream",
     "text": [
      "\u001b[36m\u001b[1m[ \u001b[22m\u001b[39m\u001b[36m\u001b[1mInfo: \u001b[22m\u001b[39m         704.7621547s: 11 minutes, 44 seconds, 762 milliseconds\n",
      "\u001b[36m\u001b[1m[ \u001b[22m\u001b[39m\u001b[36m\u001b[1mInfo: \u001b[22m\u001b[39m started timer at: 2024-03-20T03:43:20.995\n"
     ]
    },
    {
     "name": "stdout",
     "output_type": "stream",
     "text": [
      "false\n",
      "40\n",
      "k : 18\n",
      "1\n",
      "-80052.5994378268\n",
      "4729.742683062673\n",
      "-------------------------\n",
      "40\n",
      "K : 20\n",
      "[0 -200 -100 -1200 -2000]\n"
     ]
    },
    {
     "name": "stderr",
     "output_type": "stream",
     "text": [
      "\u001b[36m\u001b[1m[ \u001b[22m\u001b[39m\u001b[36m\u001b[1mInfo: \u001b[22m\u001b[39m         707.4527264s: 11 minutes, 47 seconds, 452 milliseconds\n",
      "\u001b[36m\u001b[1m[ \u001b[22m\u001b[39m\u001b[36m\u001b[1mInfo: \u001b[22m\u001b[39m started timer at: 2024-03-20T03:55:08.462\n"
     ]
    },
    {
     "name": "stdout",
     "output_type": "stream",
     "text": [
      "false\n",
      "40\n",
      "k : 20\n",
      "1\n",
      "-46612.45619257268\n",
      "3845.225087790279\n",
      "40\n",
      "K : 20\n",
      "[0 -400 -100 -1200 -2000]\n"
     ]
    },
    {
     "name": "stderr",
     "output_type": "stream",
     "text": [
      "\u001b[36m\u001b[1m[ \u001b[22m\u001b[39m\u001b[36m\u001b[1mInfo: \u001b[22m\u001b[39m         704.3715503s: 11 minutes, 44 seconds, 371 milliseconds\n",
      "\u001b[36m\u001b[1m[ \u001b[22m\u001b[39m\u001b[36m\u001b[1mInfo: \u001b[22m\u001b[39m started timer at: 2024-03-20T04:06:52.858\n"
     ]
    },
    {
     "name": "stdout",
     "output_type": "stream",
     "text": [
      "false\n",
      "40\n",
      "k : 20\n",
      "1\n",
      "-51969.63949870231\n",
      "4456.154952925256\n",
      "40\n",
      "K : 20\n",
      "[0 -600 -100 -1200 -2000]\n"
     ]
    },
    {
     "name": "stderr",
     "output_type": "stream",
     "text": [
      "\u001b[36m\u001b[1m[ \u001b[22m\u001b[39m\u001b[36m\u001b[1mInfo: \u001b[22m\u001b[39m         705.5621543s: 11 minutes, 45 seconds, 562 milliseconds\n",
      "\u001b[36m\u001b[1m[ \u001b[22m\u001b[39m\u001b[36m\u001b[1mInfo: \u001b[22m\u001b[39m started timer at: 2024-03-20T04:18:38.433\n"
     ]
    },
    {
     "name": "stdout",
     "output_type": "stream",
     "text": [
      "false\n",
      "40\n",
      "k : 20\n",
      "1\n",
      "-57756.93581101132\n",
      "4777.615274293203\n",
      "40\n",
      "K : 20\n",
      "[0 -800 -100 -1200 -2000]\n"
     ]
    },
    {
     "name": "stderr",
     "output_type": "stream",
     "text": [
      "\u001b[36m\u001b[1m[ \u001b[22m\u001b[39m\u001b[36m\u001b[1mInfo: \u001b[22m\u001b[39m         706.5453649s: 11 minutes, 46 seconds, 545 milliseconds\n",
      "\u001b[36m\u001b[1m[ \u001b[22m\u001b[39m\u001b[36m\u001b[1mInfo: \u001b[22m\u001b[39m started timer at: 2024-03-20T04:30:24.993\n"
     ]
    },
    {
     "name": "stdout",
     "output_type": "stream",
     "text": [
      "false\n",
      "40\n",
      "k : 20\n",
      "1\n",
      "-62952.81651162068\n",
      "4896.372390830801\n",
      "40\n",
      "K : 20\n",
      "[0 -1000 -100 -1200 -2000]\n"
     ]
    },
    {
     "name": "stderr",
     "output_type": "stream",
     "text": [
      "\u001b[36m\u001b[1m[ \u001b[22m\u001b[39m\u001b[36m\u001b[1mInfo: \u001b[22m\u001b[39m         705.6507972s: 11 minutes, 45 seconds, 650 milliseconds\n",
      "\u001b[36m\u001b[1m[ \u001b[22m\u001b[39m\u001b[36m\u001b[1mInfo: \u001b[22m\u001b[39m started timer at: 2024-03-20T04:42:10.656\n"
     ]
    },
    {
     "name": "stdout",
     "output_type": "stream",
     "text": [
      "false\n",
      "40\n",
      "k : 20\n",
      "1\n",
      "-66973.04206406807\n",
      "4974.4712194709355\n",
      "40\n",
      "K : 20\n",
      "[0 -1200 -100 -1200 -2000]\n"
     ]
    },
    {
     "name": "stderr",
     "output_type": "stream",
     "text": [
      "\u001b[36m\u001b[1m[ \u001b[22m\u001b[39m\u001b[36m\u001b[1mInfo: \u001b[22m\u001b[39m         703.2135235s: 11 minutes, 43 seconds, 213 milliseconds\n",
      "\u001b[36m\u001b[1m[ \u001b[22m\u001b[39m\u001b[36m\u001b[1mInfo: \u001b[22m\u001b[39m started timer at: 2024-03-20T04:53:53.883\n"
     ]
    },
    {
     "name": "stdout",
     "output_type": "stream",
     "text": [
      "false\n",
      "40\n",
      "k : 20\n",
      "1\n",
      "-69894.46795342315\n",
      "4819.584718635447\n",
      "40\n",
      "K : 20\n",
      "[0 -1400 -100 -1200 -2000]\n"
     ]
    },
    {
     "name": "stderr",
     "output_type": "stream",
     "text": [
      "\u001b[36m\u001b[1m[ \u001b[22m\u001b[39m\u001b[36m\u001b[1mInfo: \u001b[22m\u001b[39m          704.686025s: 11 minutes, 44 seconds, 686 milliseconds\n",
      "\u001b[36m\u001b[1m[ \u001b[22m\u001b[39m\u001b[36m\u001b[1mInfo: \u001b[22m\u001b[39m started timer at: 2024-03-20T05:05:38.583\n"
     ]
    },
    {
     "name": "stdout",
     "output_type": "stream",
     "text": [
      "false\n",
      "40\n",
      "k : 20\n",
      "1\n",
      "-71969.05888080642\n",
      "4753.203696297801\n",
      "40\n",
      "K : 20\n",
      "[0 -1600 -100 -1200 -2000]\n"
     ]
    },
    {
     "name": "stderr",
     "output_type": "stream",
     "text": [
      "\u001b[36m\u001b[1m[ \u001b[22m\u001b[39m\u001b[36m\u001b[1mInfo: \u001b[22m\u001b[39m         706.0367428s: 11 minutes, 46 seconds, 36 milliseconds\n",
      "\u001b[36m\u001b[1m[ \u001b[22m\u001b[39m\u001b[36m\u001b[1mInfo: \u001b[22m\u001b[39m started timer at: 2024-03-20T05:17:24.633\n"
     ]
    },
    {
     "name": "stdout",
     "output_type": "stream",
     "text": [
      "false\n",
      "40\n",
      "k : 20\n",
      "1\n",
      "-73545.95196599803\n",
      "4694.149754784747\n",
      "40\n",
      "K : 20\n",
      "[0 -1800 -100 -1200 -2000]\n"
     ]
    },
    {
     "name": "stderr",
     "output_type": "stream",
     "text": [
      "\u001b[36m\u001b[1m[ \u001b[22m\u001b[39m\u001b[36m\u001b[1mInfo: \u001b[22m\u001b[39m         703.2587442s: 11 minutes, 43 seconds, 258 milliseconds\n",
      "\u001b[36m\u001b[1m[ \u001b[22m\u001b[39m\u001b[36m\u001b[1mInfo: \u001b[22m\u001b[39m started timer at: 2024-03-20T05:29:07.906\n"
     ]
    },
    {
     "name": "stdout",
     "output_type": "stream",
     "text": [
      "false\n",
      "40\n",
      "k : 20\n",
      "1\n",
      "-74689.44131413661\n",
      "4685.889937213901\n",
      "40\n",
      "K : 20\n",
      "[0 -2000 -100 -1200 -2000]\n"
     ]
    },
    {
     "name": "stderr",
     "output_type": "stream",
     "text": [
      "\u001b[36m\u001b[1m[ \u001b[22m\u001b[39m\u001b[36m\u001b[1mInfo: \u001b[22m\u001b[39m         702.9423968s: 11 minutes, 42 seconds, 942 milliseconds\n",
      "\u001b[36m\u001b[1m[ \u001b[22m\u001b[39m\u001b[36m\u001b[1mInfo: \u001b[22m\u001b[39m started timer at: 2024-03-20T05:40:50.873\n"
     ]
    },
    {
     "name": "stdout",
     "output_type": "stream",
     "text": [
      "false\n",
      "40\n",
      "k : 20\n",
      "1\n",
      "-75646.78279375771\n",
      "4611.417597452894\n",
      "40\n",
      "K : 20\n",
      "[0 -2400 -100 -1200 -2000]\n"
     ]
    },
    {
     "name": "stderr",
     "output_type": "stream",
     "text": [
      "\u001b[36m\u001b[1m[ \u001b[22m\u001b[39m\u001b[36m\u001b[1mInfo: \u001b[22m\u001b[39m         702.7653391s: 11 minutes, 42 seconds, 765 milliseconds\n",
      "\u001b[36m\u001b[1m[ \u001b[22m\u001b[39m\u001b[36m\u001b[1mInfo: \u001b[22m\u001b[39m started timer at: 2024-03-20T05:52:33.651\n"
     ]
    },
    {
     "name": "stdout",
     "output_type": "stream",
     "text": [
      "false\n",
      "40\n",
      "k : 20\n",
      "1\n",
      "-76943.22755757158\n",
      "4584.731719970212\n",
      "40\n",
      "K : 20\n",
      "[0 -2800 -100 -1200 -2000]\n"
     ]
    },
    {
     "name": "stderr",
     "output_type": "stream",
     "text": [
      "\u001b[36m\u001b[1m[ \u001b[22m\u001b[39m\u001b[36m\u001b[1mInfo: \u001b[22m\u001b[39m         704.4871007s: 11 minutes, 44 seconds, 487 milliseconds\n",
      "\u001b[36m\u001b[1m[ \u001b[22m\u001b[39m\u001b[36m\u001b[1mInfo: \u001b[22m\u001b[39m started timer at: 2024-03-20T06:04:18.152\n"
     ]
    },
    {
     "name": "stdout",
     "output_type": "stream",
     "text": [
      "false\n",
      "40\n",
      "k : 20\n",
      "1\n",
      "-77904.10531073314\n",
      "4599.999283746898\n",
      "40\n",
      "K : 20\n",
      "[0 -3200 -100 -1200 -2000]\n"
     ]
    },
    {
     "name": "stderr",
     "output_type": "stream",
     "text": [
      "\u001b[36m\u001b[1m[ \u001b[22m\u001b[39m\u001b[36m\u001b[1mInfo: \u001b[22m\u001b[39m         703.0201447s: 11 minutes, 43 seconds, 20 milliseconds\n",
      "\u001b[36m\u001b[1m[ \u001b[22m\u001b[39m\u001b[36m\u001b[1mInfo: \u001b[22m\u001b[39m started timer at: 2024-03-20T06:16:01.186\n"
     ]
    },
    {
     "name": "stdout",
     "output_type": "stream",
     "text": [
      "false\n",
      "40\n",
      "k : 20\n",
      "1\n",
      "-78967.36189268604\n",
      "4661.920843982465\n",
      "-------------------------\n",
      "30\n",
      "K : 2\n",
      "[0 -200 -100 -1200 -2000]\n"
     ]
    },
    {
     "name": "stderr",
     "output_type": "stream",
     "text": [
      "\u001b[36m\u001b[1m[ \u001b[22m\u001b[39m\u001b[36m\u001b[1mInfo: \u001b[22m\u001b[39m         704.8988145s: 11 minutes, 44 seconds, 898 milliseconds\n",
      "\u001b[36m\u001b[1m[ \u001b[22m\u001b[39m\u001b[36m\u001b[1mInfo: \u001b[22m\u001b[39m started timer at: 2024-03-20T06:27:46.098\n"
     ]
    },
    {
     "name": "stdout",
     "output_type": "stream",
     "text": [
      "false\n",
      "30\n",
      "k : 2\n",
      "1\n",
      "-39937.12997838301\n",
      "3145.1167227158253\n",
      "30\n",
      "K : 2\n",
      "[0 -400 -100 -1200 -2000]\n"
     ]
    },
    {
     "name": "stderr",
     "output_type": "stream",
     "text": [
      "\u001b[36m\u001b[1m[ \u001b[22m\u001b[39m\u001b[36m\u001b[1mInfo: \u001b[22m\u001b[39m         529.2127017s: 8 minutes, 49 seconds, 212 milliseconds\n",
      "\u001b[36m\u001b[1m[ \u001b[22m\u001b[39m\u001b[36m\u001b[1mInfo: \u001b[22m\u001b[39m started timer at: 2024-03-20T06:36:35.321\n"
     ]
    },
    {
     "name": "stdout",
     "output_type": "stream",
     "text": [
      "false\n",
      "30\n",
      "k : 2\n",
      "1\n",
      "-43667.32123923821\n",
      "3142.206547000142\n",
      "30\n",
      "K : 2\n",
      "[0 -600 -100 -1200 -2000]\n"
     ]
    },
    {
     "name": "stderr",
     "output_type": "stream",
     "text": [
      "\u001b[36m\u001b[1m[ \u001b[22m\u001b[39m\u001b[36m\u001b[1mInfo: \u001b[22m\u001b[39m         528.1313357s: 8 minutes, 48 seconds, 131 milliseconds\n",
      "\u001b[36m\u001b[1m[ \u001b[22m\u001b[39m\u001b[36m\u001b[1mInfo: \u001b[22m\u001b[39m started timer at: 2024-03-20T06:45:23.462\n"
     ]
    },
    {
     "name": "stdout",
     "output_type": "stream",
     "text": [
      "false\n",
      "30\n",
      "k : 2\n",
      "1\n",
      "-47568.63913673183\n",
      "3402.1004376741885\n",
      "30\n",
      "K : 2\n",
      "[0 -800 -100 -1200 -2000]\n"
     ]
    },
    {
     "name": "stderr",
     "output_type": "stream",
     "text": [
      "\u001b[36m\u001b[1m[ \u001b[22m\u001b[39m\u001b[36m\u001b[1mInfo: \u001b[22m\u001b[39m         529.6537996s: 8 minutes, 49 seconds, 653 milliseconds\n",
      "\u001b[36m\u001b[1m[ \u001b[22m\u001b[39m\u001b[36m\u001b[1mInfo: \u001b[22m\u001b[39m started timer at: 2024-03-20T06:54:13.127\n"
     ]
    },
    {
     "name": "stdout",
     "output_type": "stream",
     "text": [
      "false\n",
      "30\n",
      "k : 2\n",
      "1\n",
      "-51398.1936341549\n",
      "3689.401051120121\n",
      "30\n",
      "K : 2\n",
      "[0 -1000 -100 -1200 -2000]\n"
     ]
    },
    {
     "name": "stderr",
     "output_type": "stream",
     "text": [
      "\u001b[36m\u001b[1m[ \u001b[22m\u001b[39m\u001b[36m\u001b[1mInfo: \u001b[22m\u001b[39m         526.3072946s: 8 minutes, 46 seconds, 307 milliseconds\n",
      "\u001b[36m\u001b[1m[ \u001b[22m\u001b[39m\u001b[36m\u001b[1mInfo: \u001b[22m\u001b[39m started timer at: 2024-03-20T07:02:59.444\n"
     ]
    },
    {
     "name": "stdout",
     "output_type": "stream",
     "text": [
      "false\n",
      "30\n",
      "k : 2\n",
      "1\n",
      "-54661.092546764085\n",
      "3862.078692230254\n",
      "30\n",
      "K : 2\n",
      "[0 -1200 -100 -1200 -2000]\n"
     ]
    },
    {
     "name": "stderr",
     "output_type": "stream",
     "text": [
      "\u001b[36m\u001b[1m[ \u001b[22m\u001b[39m\u001b[36m\u001b[1mInfo: \u001b[22m\u001b[39m         527.6329344s: 8 minutes, 47 seconds, 632 milliseconds\n",
      "\u001b[36m\u001b[1m[ \u001b[22m\u001b[39m\u001b[36m\u001b[1mInfo: \u001b[22m\u001b[39m started timer at: 2024-03-20T07:11:47.088\n"
     ]
    },
    {
     "name": "stdout",
     "output_type": "stream",
     "text": [
      "false\n",
      "30\n",
      "k : 2\n",
      "1\n",
      "-57683.45528509097\n",
      "4067.2269019802166\n"
     ]
    },
    {
     "name": "stderr",
     "output_type": "stream",
     "text": [
      "\u001b[36m\u001b[1m[ \u001b[22m\u001b[39m\u001b[36m\u001b[1mInfo: \u001b[22m\u001b[39m         530.5972263s: 8 minutes, 50 seconds, 597 milliseconds\n",
      "\u001b[36m\u001b[1m[ \u001b[22m\u001b[39m\u001b[36m\u001b[1mInfo: \u001b[22m\u001b[39m started timer at: 2024-03-20T07:20:37.695\n"
     ]
    },
    {
     "name": "stdout",
     "output_type": "stream",
     "text": [
      "30\n",
      "K : 2\n",
      "[0 -1400 -100 -1200 -2000]\n",
      "false\n",
      "30\n",
      "k : 2\n",
      "1\n",
      "-60134.08991582649\n",
      "4177.214603218851\n",
      "30\n",
      "K : 2\n",
      "[0 -1600 -100 -1200 -2000]\n"
     ]
    },
    {
     "name": "stderr",
     "output_type": "stream",
     "text": [
      "\u001b[36m\u001b[1m[ \u001b[22m\u001b[39m\u001b[36m\u001b[1mInfo: \u001b[22m\u001b[39m         526.3266656s: 8 minutes, 46 seconds, 326 milliseconds\n",
      "\u001b[36m\u001b[1m[ \u001b[22m\u001b[39m\u001b[36m\u001b[1mInfo: \u001b[22m\u001b[39m started timer at: 2024-03-20T07:29:24.032\n"
     ]
    },
    {
     "name": "stdout",
     "output_type": "stream",
     "text": [
      "false\n",
      "30\n",
      "k : 2\n",
      "1\n",
      "-62327.135227812025\n",
      "4187.826582362393\n",
      "30\n",
      "K : 2\n",
      "[0 -1800 -100 -1200 -2000]\n"
     ]
    },
    {
     "name": "stderr",
     "output_type": "stream",
     "text": [
      "\u001b[36m\u001b[1m[ \u001b[22m\u001b[39m\u001b[36m\u001b[1mInfo: \u001b[22m\u001b[39m         527.4448995s: 8 minutes, 47 seconds, 444 milliseconds\n",
      "\u001b[36m\u001b[1m[ \u001b[22m\u001b[39m\u001b[36m\u001b[1mInfo: \u001b[22m\u001b[39m started timer at: 2024-03-20T07:38:11.488\n"
     ]
    },
    {
     "name": "stdout",
     "output_type": "stream",
     "text": [
      "false\n",
      "30\n",
      "k : 2\n",
      "1\n",
      "-64425.375135573384\n",
      "4307.581821980808\n",
      "30\n",
      "K : 2\n",
      "[0 -2000 -100 -1200 -2000]\n"
     ]
    },
    {
     "name": "stderr",
     "output_type": "stream",
     "text": [
      "\u001b[36m\u001b[1m[ \u001b[22m\u001b[39m\u001b[36m\u001b[1mInfo: \u001b[22m\u001b[39m         530.5780192s: 8 minutes, 50 seconds, 578 milliseconds\n",
      "\u001b[36m\u001b[1m[ \u001b[22m\u001b[39m\u001b[36m\u001b[1mInfo: \u001b[22m\u001b[39m started timer at: 2024-03-20T07:47:02.076\n"
     ]
    },
    {
     "name": "stdout",
     "output_type": "stream",
     "text": [
      "false\n",
      "30\n",
      "k : 2\n",
      "1\n",
      "-66415.14607834682\n",
      "4289.4700684883965\n",
      "30\n",
      "K : 2\n",
      "[0 -2400 -100 -1200 -2000]\n"
     ]
    },
    {
     "name": "stderr",
     "output_type": "stream",
     "text": [
      "\u001b[36m\u001b[1m[ \u001b[22m\u001b[39m\u001b[36m\u001b[1mInfo: \u001b[22m\u001b[39m         527.6749499s: 8 minutes, 47 seconds, 674 milliseconds\n",
      "\u001b[36m\u001b[1m[ \u001b[22m\u001b[39m\u001b[36m\u001b[1mInfo: \u001b[22m\u001b[39m started timer at: 2024-03-20T07:55:49.761\n"
     ]
    },
    {
     "name": "stdout",
     "output_type": "stream",
     "text": [
      "false\n",
      "30\n",
      "k : 2\n",
      "1\n",
      "-70164.44433750253\n",
      "4374.4657762728075\n",
      "30\n",
      "K : 2\n",
      "[0 -2800 -100 -1200 -2000]\n"
     ]
    },
    {
     "name": "stderr",
     "output_type": "stream",
     "text": [
      "\u001b[36m\u001b[1m[ \u001b[22m\u001b[39m\u001b[36m\u001b[1mInfo: \u001b[22m\u001b[39m         527.4414028s: 8 minutes, 47 seconds, 441 milliseconds\n",
      "\u001b[36m\u001b[1m[ \u001b[22m\u001b[39m\u001b[36m\u001b[1mInfo: \u001b[22m\u001b[39m started timer at: 2024-03-20T08:04:37.224\n"
     ]
    },
    {
     "name": "stdout",
     "output_type": "stream",
     "text": [
      "false\n",
      "30\n",
      "k : 2\n",
      "1\n",
      "-73872.14581150057\n",
      "4501.234026158017\n",
      "30\n",
      "K : 2\n",
      "[0 -3200 -100 -1200 -2000]\n"
     ]
    },
    {
     "name": "stderr",
     "output_type": "stream",
     "text": [
      "\u001b[36m\u001b[1m[ \u001b[22m\u001b[39m\u001b[36m\u001b[1mInfo: \u001b[22m\u001b[39m         527.7790195s: 8 minutes, 47 seconds, 779 milliseconds\n",
      "\u001b[36m\u001b[1m[ \u001b[22m\u001b[39m\u001b[36m\u001b[1mInfo: \u001b[22m\u001b[39m started timer at: 2024-03-20T08:13:25.013\n"
     ]
    },
    {
     "name": "stdout",
     "output_type": "stream",
     "text": [
      "false\n",
      "30\n",
      "k : 2\n",
      "1\n",
      "-77430.82451004989\n",
      "4659.211746371788\n",
      "-------------------------\n",
      "30\n",
      "K : 4\n",
      "[0 -200 -100 -1200 -2000]\n"
     ]
    },
    {
     "name": "stderr",
     "output_type": "stream",
     "text": [
      "\u001b[36m\u001b[1m[ \u001b[22m\u001b[39m\u001b[36m\u001b[1mInfo: \u001b[22m\u001b[39m         530.0711431s: 8 minutes, 50 seconds, 71 milliseconds\n",
      "\u001b[36m\u001b[1m[ \u001b[22m\u001b[39m\u001b[36m\u001b[1mInfo: \u001b[22m\u001b[39m started timer at: 2024-03-20T08:22:15.105\n"
     ]
    },
    {
     "name": "stdout",
     "output_type": "stream",
     "text": [
      "false\n",
      "30\n",
      "k : 4\n",
      "1\n",
      "-36116.492318039964\n",
      "2482.253379379563\n",
      "30\n",
      "K : 4\n",
      "[0 -400 -100 -1200 -2000]\n"
     ]
    },
    {
     "name": "stderr",
     "output_type": "stream",
     "text": [
      "\u001b[36m\u001b[1m[ \u001b[22m\u001b[39m\u001b[36m\u001b[1mInfo: \u001b[22m\u001b[39m         526.7138724s: 8 minutes, 46 seconds, 713 milliseconds\n",
      "\u001b[36m\u001b[1m[ \u001b[22m\u001b[39m\u001b[36m\u001b[1mInfo: \u001b[22m\u001b[39m started timer at: 2024-03-20T08:31:01.829\n"
     ]
    },
    {
     "name": "stdout",
     "output_type": "stream",
     "text": [
      "false\n",
      "30\n",
      "k : 4\n",
      "1\n",
      "-39795.67457067464\n",
      "2529.547548743425\n",
      "30\n",
      "K : 4\n",
      "[0 -600 -100 -1200 -2000]\n"
     ]
    },
    {
     "name": "stderr",
     "output_type": "stream",
     "text": [
      "\u001b[36m\u001b[1m[ \u001b[22m\u001b[39m\u001b[36m\u001b[1mInfo: \u001b[22m\u001b[39m           530.00866s: 8 minutes, 50 seconds, 8 milliseconds\n",
      "\u001b[36m\u001b[1m[ \u001b[22m\u001b[39m\u001b[36m\u001b[1mInfo: \u001b[22m\u001b[39m started timer at: 2024-03-20T08:39:51.848\n"
     ]
    },
    {
     "name": "stdout",
     "output_type": "stream",
     "text": [
      "false\n",
      "30\n",
      "k : 4\n",
      "1\n",
      "-43267.884453363826\n",
      "2715.940765904397\n",
      "30\n",
      "K : 4\n",
      "[0 -800 -100 -1200 -2000]\n"
     ]
    },
    {
     "name": "stderr",
     "output_type": "stream",
     "text": [
      "\u001b[36m\u001b[1m[ \u001b[22m\u001b[39m\u001b[36m\u001b[1mInfo: \u001b[22m\u001b[39m         530.5536031s: 8 minutes, 50 seconds, 553 milliseconds\n",
      "\u001b[36m\u001b[1m[ \u001b[22m\u001b[39m\u001b[36m\u001b[1mInfo: \u001b[22m\u001b[39m started timer at: 2024-03-20T08:48:42.423\n"
     ]
    },
    {
     "name": "stdout",
     "output_type": "stream",
     "text": [
      "false\n",
      "30\n",
      "k : 4\n",
      "1\n",
      "-46156.49848841356\n",
      "2934.2029623415415\n",
      "30\n",
      "K : 4\n",
      "[0 -1000 -100 -1200 -2000]\n"
     ]
    },
    {
     "name": "stderr",
     "output_type": "stream",
     "text": [
      "\u001b[36m\u001b[1m[ \u001b[22m\u001b[39m\u001b[36m\u001b[1mInfo: \u001b[22m\u001b[39m         531.4867872s: 8 minutes, 51 seconds, 486 milliseconds\n",
      "\u001b[36m\u001b[1m[ \u001b[22m\u001b[39m\u001b[36m\u001b[1mInfo: \u001b[22m\u001b[39m started timer at: 2024-03-20T08:57:33.919\n"
     ]
    },
    {
     "name": "stdout",
     "output_type": "stream",
     "text": [
      "false\n",
      "30\n",
      "k : 4\n",
      "1\n",
      "-48774.782660496836\n",
      "3166.798739210805\n",
      "30\n",
      "K : 4\n",
      "[0 -1200 -100 -1200 -2000]\n"
     ]
    },
    {
     "name": "stderr",
     "output_type": "stream",
     "text": [
      "\u001b[36m\u001b[1m[ \u001b[22m\u001b[39m\u001b[36m\u001b[1mInfo: \u001b[22m\u001b[39m         533.3698513s: 8 minutes, 53 seconds, 369 milliseconds\n",
      "\u001b[36m\u001b[1m[ \u001b[22m\u001b[39m\u001b[36m\u001b[1mInfo: \u001b[22m\u001b[39m started timer at: 2024-03-20T09:06:27.299\n"
     ]
    },
    {
     "name": "stdout",
     "output_type": "stream",
     "text": [
      "false\n",
      "30\n",
      "k : 4\n",
      "1\n",
      "-50964.85987602756\n",
      "3305.058221404513\n",
      "30\n",
      "K : 4\n",
      "[0 -1400 -100 -1200 -2000]\n"
     ]
    },
    {
     "name": "stderr",
     "output_type": "stream",
     "text": [
      "\u001b[36m\u001b[1m[ \u001b[22m\u001b[39m\u001b[36m\u001b[1mInfo: \u001b[22m\u001b[39m         532.6545025s: 8 minutes, 52 seconds, 654 milliseconds\n",
      "\u001b[36m\u001b[1m[ \u001b[22m\u001b[39m\u001b[36m\u001b[1mInfo: \u001b[22m\u001b[39m started timer at: 2024-03-20T09:15:19.965\n"
     ]
    },
    {
     "name": "stdout",
     "output_type": "stream",
     "text": [
      "false\n",
      "30\n",
      "k : 4\n",
      "1\n",
      "-53030.64495975168\n",
      "3458.556957387941\n",
      "30\n",
      "K : 4\n",
      "[0 -1600 -100 -1200 -2000]\n"
     ]
    },
    {
     "name": "stderr",
     "output_type": "stream",
     "text": [
      "\u001b[36m\u001b[1m[ \u001b[22m\u001b[39m\u001b[36m\u001b[1mInfo: \u001b[22m\u001b[39m         530.2036877s: 8 minutes, 50 seconds, 203 milliseconds\n",
      "\u001b[36m\u001b[1m[ \u001b[22m\u001b[39m\u001b[36m\u001b[1mInfo: \u001b[22m\u001b[39m started timer at: 2024-03-20T09:24:10.180\n"
     ]
    },
    {
     "name": "stdout",
     "output_type": "stream",
     "text": [
      "false\n",
      "30\n",
      "k : 4\n",
      "1\n",
      "-54994.90300304239\n",
      "3486.4879880250496\n",
      "30\n",
      "K : 4\n",
      "[0 -1800 -100 -1200 -2000]\n"
     ]
    },
    {
     "name": "stderr",
     "output_type": "stream",
     "text": [
      "\u001b[36m\u001b[1m[ \u001b[22m\u001b[39m\u001b[36m\u001b[1mInfo: \u001b[22m\u001b[39m         531.3862167s: 8 minutes, 51 seconds, 386 milliseconds\n",
      "\u001b[36m\u001b[1m[ \u001b[22m\u001b[39m\u001b[36m\u001b[1mInfo: \u001b[22m\u001b[39m started timer at: 2024-03-20T09:33:01.576\n"
     ]
    },
    {
     "name": "stdout",
     "output_type": "stream",
     "text": [
      "false\n",
      "30\n",
      "k : 4\n",
      "1\n",
      "-56840.432241303206\n",
      "3527.067094903027\n",
      "30\n",
      "K : 4\n",
      "[0 -2000 -100 -1200 -2000]\n"
     ]
    },
    {
     "name": "stderr",
     "output_type": "stream",
     "text": [
      "\u001b[36m\u001b[1m[ \u001b[22m\u001b[39m\u001b[36m\u001b[1mInfo: \u001b[22m\u001b[39m         531.2603401s: 8 minutes, 51 seconds, 260 milliseconds\n",
      "\u001b[36m\u001b[1m[ \u001b[22m\u001b[39m\u001b[36m\u001b[1mInfo: \u001b[22m\u001b[39m started timer at: 2024-03-20T09:41:52.847\n"
     ]
    },
    {
     "name": "stdout",
     "output_type": "stream",
     "text": [
      "false\n",
      "30\n",
      "k : 4\n",
      "1\n",
      "-58760.62814615064\n",
      "3618.253073472766\n",
      "30\n",
      "K : 4\n",
      "[0 -2400 -100 -1200 -2000]\n"
     ]
    },
    {
     "name": "stderr",
     "output_type": "stream",
     "text": [
      "\u001b[36m\u001b[1m[ \u001b[22m\u001b[39m\u001b[36m\u001b[1mInfo: \u001b[22m\u001b[39m         528.6188649s: 8 minutes, 48 seconds, 618 milliseconds\n",
      "\u001b[36m\u001b[1m[ \u001b[22m\u001b[39m\u001b[36m\u001b[1mInfo: \u001b[22m\u001b[39m started timer at: 2024-03-20T09:50:41.475\n"
     ]
    },
    {
     "name": "stdout",
     "output_type": "stream",
     "text": [
      "false\n",
      "30\n",
      "k : 4\n",
      "1\n",
      "-62183.46250417121\n",
      "3774.1334255472348\n",
      "30\n",
      "K : 4\n",
      "[0 -2800 -100 -1200 -2000]\n"
     ]
    },
    {
     "name": "stderr",
     "output_type": "stream",
     "text": [
      "\u001b[36m\u001b[1m[ \u001b[22m\u001b[39m\u001b[36m\u001b[1mInfo: \u001b[22m\u001b[39m         530.1212861s: 8 minutes, 50 seconds, 121 milliseconds\n",
      "\u001b[36m\u001b[1m[ \u001b[22m\u001b[39m\u001b[36m\u001b[1mInfo: \u001b[22m\u001b[39m started timer at: 2024-03-20T09:59:31.607\n"
     ]
    },
    {
     "name": "stdout",
     "output_type": "stream",
     "text": [
      "false\n",
      "30\n",
      "k : 4\n",
      "1\n",
      "-65476.22152378272\n",
      "3986.5639882568325\n",
      "30\n",
      "K : 4\n",
      "[0 -3200 -100 -1200 -2000]\n"
     ]
    },
    {
     "name": "stderr",
     "output_type": "stream",
     "text": [
      "\u001b[36m\u001b[1m[ \u001b[22m\u001b[39m\u001b[36m\u001b[1mInfo: \u001b[22m\u001b[39m         532.7255468s: 8 minutes, 52 seconds, 725 milliseconds\n",
      "\u001b[36m\u001b[1m[ \u001b[22m\u001b[39m\u001b[36m\u001b[1mInfo: \u001b[22m\u001b[39m started timer at: 2024-03-20T10:08:24.343\n"
     ]
    },
    {
     "name": "stdout",
     "output_type": "stream",
     "text": [
      "false\n",
      "30\n",
      "k : 4\n",
      "1\n",
      "-68508.81917361832\n",
      "4192.922011642454\n",
      "-------------------------\n",
      "30\n",
      "K : 6\n",
      "[0 -200 -100 -1200 -2000]\n"
     ]
    },
    {
     "name": "stderr",
     "output_type": "stream",
     "text": [
      "\u001b[36m\u001b[1m[ \u001b[22m\u001b[39m\u001b[36m\u001b[1mInfo: \u001b[22m\u001b[39m         529.9483052s: 8 minutes, 49 seconds, 948 milliseconds\n",
      "\u001b[36m\u001b[1m[ \u001b[22m\u001b[39m\u001b[36m\u001b[1mInfo: \u001b[22m\u001b[39m started timer at: 2024-03-20T10:17:14.302\n"
     ]
    },
    {
     "name": "stdout",
     "output_type": "stream",
     "text": [
      "false\n"
     ]
    }
   ],
   "source": [
    "cost=[ [0\t-200\t-100\t-1200 -2000],\n",
    "    [0\t-400\t-100\t-1200 -2000],\n",
    "    [0\t-600\t-100\t-1200 -2000],\n",
    "    [0\t-800\t-100\t-1200 -2000],\n",
    "    [0\t-1000\t-100\t-1200 -2000],\n",
    "    [0\t-1200\t-100\t-1200 -2000],\n",
    "    [0\t-1400\t-100\t-1200 -2000],\n",
    "    [0\t-1600\t-100\t-1200 -2000],\n",
    "    [0\t-1800\t-100\t-1200 -2000],\n",
    "    [0\t-2000\t-100\t-1200 -2000],\n",
    "    [0  -2400   -100    -1200 -2000],\n",
    "    [0  -2800   -100    -1200 -2000],\n",
    "    [0  -3200   -100    -1200 -2000]\n",
    "] \n",
    "\n",
    "\n",
    "\n",
    "for units in [60,50,40,30,25,20]\n",
    "    for K in 2:2:convert(Int64, floor((units+1)/2))\n",
    "    global NumberUnits=convert(Int64,units)\n",
    "        global limit=convert(Int64,K)\n",
    "#      for lambda in [1,0.9,0.75,0.5,0.1,0.075,0.05,0.01,0.0075,0.005,0.0001]\n",
    "     for lambda in 1:1:1\n",
    "#      for lambda1 in [0.0001,0.00001]\n",
    "        \n",
    "        global lamb=lambda\n",
    "#         global lamb1=lambda1\n",
    "            \n",
    "            for c in cost\n",
    "        tick()\n",
    "   println(units)  \n",
    "             print(\"K : \")\n",
    "                    println(K)\n",
    "    global normal_operation,setup_cost,maintenance_penalty,failure_penalty,system_penalty=c\n",
    "     println(c)   \n",
    "\n",
    "    global NumberUnits=units\n",
    "     Q=ValueIteration(.95)\n",
    "\n",
    "            println(isnan(Q[1,1,1]))\n",
    "       if sum(isnan(Q[1,1,1]))>0.0\n",
    "            continue\n",
    "        end\n",
    "\n",
    "trials=10000;\n",
    "simsteps = 100;\n",
    "results=zeros(trials)*0.1\n",
    "Threads.@threads  for h in 1:trials\n",
    "s=repeat(1:1,NumberUnits)\n",
    "r1=[]\n",
    "a1=[]   \n",
    "r=repeat(1:1,NumberUnits)*1.0\n",
    " for k in 1:simsteps\n",
    "    a =decison(Q,s)\n",
    "            r2=0.0\n",
    "#global failed_components = 0\n",
    "global failed_components = 0\n",
    "for i in 1:NumberUnits\n",
    "    #             print(generative(s[i],a[i],234))\n",
    "            if s[i] == Number_level\n",
    "                failed_components += 1\n",
    "            end\n",
    "            s[i],r[i]=generative(s[i],a[i],i,234);\n",
    "            r2+=r[i]\n",
    "        end \n",
    "        if  (2 in a) ||(3 in a) ||(4 in a) \n",
    "            # if any replacement\n",
    "                r2+=setup_cost\n",
    "                        end\n",
    "        if failed_components >= limit\n",
    "            r2+=system_penalty\n",
    "        end\n",
    "    s=s;\n",
    "    append!(a1,a)\n",
    "    append!(r1,r2)\n",
    "end\n",
    "rk=0\n",
    "for i in 1:simsteps\n",
    "    rk=0.95*rk+r1[simsteps-i+1]\n",
    "end\n",
    "#     println(rk)\n",
    "    results[h]=rk\n",
    "#     println(results)\n",
    "end\n",
    "println(units)\n",
    "            print(\"k : \")\n",
    "            println(limit)\n",
    "println(lambda)\n",
    "\n",
    "println(mean(results))\n",
    "\n",
    "println(std(results))\n",
    "pushfirst!(df,[units,limit,normal_operation,setup_cost,maintenance_penalty,failure_penalty,system_penalty,lamb,mean(results),std(results)])\n",
    "        \n",
    "tock()\n",
    "end\n",
    "    println(\"-------------------------\")\n",
    "end\n",
    "end\n",
    "end\n",
    "end"
   ]
  },
  {
   "cell_type": "code",
   "execution_count": null,
   "metadata": {
    "scrolled": false
   },
   "outputs": [],
   "source": [
    "df"
   ]
  },
  {
   "cell_type": "code",
   "execution_count": null,
   "metadata": {},
   "outputs": [],
   "source": [
    "using CSV\n",
    "CSV.write(\"Hetero CW-MDP.csv\", df)"
   ]
  },
  {
   "cell_type": "code",
   "execution_count": null,
   "metadata": {},
   "outputs": [],
   "source": []
  },
  {
   "cell_type": "code",
   "execution_count": null,
   "metadata": {},
   "outputs": [],
   "source": []
  }
 ],
 "metadata": {
  "kernelspec": {
   "display_name": "Julia 1.9.3",
   "language": "julia",
   "name": "julia-1.9"
  },
  "language_info": {
   "file_extension": ".jl",
   "mimetype": "application/julia",
   "name": "julia",
   "version": "1.9.3"
  },
  "vscode": {
   "interpreter": {
    "hash": "aee8b7b246df8f9039afb4144a1f6fd8d2ca17a180786b69acc140d282b71a49"
   }
  }
 },
 "nbformat": 4,
 "nbformat_minor": 2
}
